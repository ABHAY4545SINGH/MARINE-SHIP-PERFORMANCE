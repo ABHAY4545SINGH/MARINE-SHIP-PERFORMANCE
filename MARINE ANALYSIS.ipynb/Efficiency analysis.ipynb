{
 "cells": [
  {
   "cell_type": "code",
   "execution_count": 1,
   "id": "a362a110",
   "metadata": {},
   "outputs": [],
   "source": [
    "import pandas as pd\n",
    "import numpy as np\n",
    "import matplotlib.pyplot as plt\n",
    "import seaborn as sns\n",
    "import plotly.express as px\n",
    "\n"
   ]
  },
  {
   "cell_type": "code",
   "execution_count": 2,
   "id": "06fc397d",
   "metadata": {},
   "outputs": [
    {
     "data": {
      "text/html": [
       "<div>\n",
       "<style scoped>\n",
       "    .dataframe tbody tr th:only-of-type {\n",
       "        vertical-align: middle;\n",
       "    }\n",
       "\n",
       "    .dataframe tbody tr th {\n",
       "        vertical-align: top;\n",
       "    }\n",
       "\n",
       "    .dataframe thead th {\n",
       "        text-align: right;\n",
       "    }\n",
       "</style>\n",
       "<table border=\"1\" class=\"dataframe\">\n",
       "  <thead>\n",
       "    <tr style=\"text-align: right;\">\n",
       "      <th></th>\n",
       "      <th>Date</th>\n",
       "      <th>Ship_Type</th>\n",
       "      <th>Route_Type</th>\n",
       "      <th>Engine_Type</th>\n",
       "      <th>Maintenance_Status</th>\n",
       "      <th>Speed_Over_Ground_knots</th>\n",
       "      <th>Engine_Power_kW</th>\n",
       "      <th>Distance_Traveled_nm</th>\n",
       "      <th>Draft_meters</th>\n",
       "      <th>Weather_Condition</th>\n",
       "      <th>Cargo_Weight_tons</th>\n",
       "      <th>Operational_Cost_USD</th>\n",
       "      <th>Revenue_per_Voyage_USD</th>\n",
       "      <th>Turnaround_Time_hours</th>\n",
       "      <th>Efficiency_nm_per_kWh</th>\n",
       "      <th>Seasonal_Impact_Score</th>\n",
       "      <th>Weekly_Voyage_Count</th>\n",
       "      <th>Average_Load_Percentage</th>\n",
       "    </tr>\n",
       "  </thead>\n",
       "  <tbody>\n",
       "    <tr>\n",
       "      <th>0</th>\n",
       "      <td>2023-06-04</td>\n",
       "      <td>Container Ship</td>\n",
       "      <td>NaN</td>\n",
       "      <td>Heavy Fuel Oil (HFO)</td>\n",
       "      <td>Critical</td>\n",
       "      <td>12.597558</td>\n",
       "      <td>2062.983982</td>\n",
       "      <td>1030.943616</td>\n",
       "      <td>14.132284</td>\n",
       "      <td>Moderate</td>\n",
       "      <td>1959.017882</td>\n",
       "      <td>483832.354540</td>\n",
       "      <td>292183.273104</td>\n",
       "      <td>25.867077</td>\n",
       "      <td>1.455179</td>\n",
       "      <td>1.415653</td>\n",
       "      <td>1</td>\n",
       "      <td>93.769249</td>\n",
       "    </tr>\n",
       "    <tr>\n",
       "      <th>1</th>\n",
       "      <td>2023-06-11</td>\n",
       "      <td>Fish Carrier</td>\n",
       "      <td>Short-haul</td>\n",
       "      <td>Steam Turbine</td>\n",
       "      <td>Good</td>\n",
       "      <td>10.387580</td>\n",
       "      <td>1796.057415</td>\n",
       "      <td>1060.486382</td>\n",
       "      <td>14.653083</td>\n",
       "      <td>Rough</td>\n",
       "      <td>162.394712</td>\n",
       "      <td>483388.000509</td>\n",
       "      <td>883765.787360</td>\n",
       "      <td>63.248196</td>\n",
       "      <td>0.290361</td>\n",
       "      <td>0.885648</td>\n",
       "      <td>6</td>\n",
       "      <td>93.895372</td>\n",
       "    </tr>\n",
       "    <tr>\n",
       "      <th>2</th>\n",
       "      <td>2023-06-18</td>\n",
       "      <td>Container Ship</td>\n",
       "      <td>Long-haul</td>\n",
       "      <td>Diesel</td>\n",
       "      <td>Fair</td>\n",
       "      <td>20.749747</td>\n",
       "      <td>1648.556685</td>\n",
       "      <td>658.874144</td>\n",
       "      <td>7.199261</td>\n",
       "      <td>Moderate</td>\n",
       "      <td>178.040917</td>\n",
       "      <td>448543.404044</td>\n",
       "      <td>394018.746904</td>\n",
       "      <td>49.418150</td>\n",
       "      <td>0.499595</td>\n",
       "      <td>1.405813</td>\n",
       "      <td>9</td>\n",
       "      <td>96.218244</td>\n",
       "    </tr>\n",
       "    <tr>\n",
       "      <th>3</th>\n",
       "      <td>2023-06-25</td>\n",
       "      <td>Bulk Carrier</td>\n",
       "      <td>Transoceanic</td>\n",
       "      <td>Steam Turbine</td>\n",
       "      <td>Fair</td>\n",
       "      <td>21.055102</td>\n",
       "      <td>915.261795</td>\n",
       "      <td>1126.822519</td>\n",
       "      <td>11.789063</td>\n",
       "      <td>Moderate</td>\n",
       "      <td>1737.385346</td>\n",
       "      <td>261349.605449</td>\n",
       "      <td>87551.375175</td>\n",
       "      <td>22.409110</td>\n",
       "      <td>0.702906</td>\n",
       "      <td>1.370704</td>\n",
       "      <td>1</td>\n",
       "      <td>66.193698</td>\n",
       "    </tr>\n",
       "    <tr>\n",
       "      <th>4</th>\n",
       "      <td>2023-07-02</td>\n",
       "      <td>Fish Carrier</td>\n",
       "      <td>Transoceanic</td>\n",
       "      <td>Diesel</td>\n",
       "      <td>Fair</td>\n",
       "      <td>13.742777</td>\n",
       "      <td>1089.721803</td>\n",
       "      <td>1445.281159</td>\n",
       "      <td>9.727833</td>\n",
       "      <td>Moderate</td>\n",
       "      <td>260.595103</td>\n",
       "      <td>287718.375160</td>\n",
       "      <td>676121.459632</td>\n",
       "      <td>64.158231</td>\n",
       "      <td>1.331343</td>\n",
       "      <td>0.583383</td>\n",
       "      <td>8</td>\n",
       "      <td>80.008581</td>\n",
       "    </tr>\n",
       "    <tr>\n",
       "      <th>...</th>\n",
       "      <td>...</td>\n",
       "      <td>...</td>\n",
       "      <td>...</td>\n",
       "      <td>...</td>\n",
       "      <td>...</td>\n",
       "      <td>...</td>\n",
       "      <td>...</td>\n",
       "      <td>...</td>\n",
       "      <td>...</td>\n",
       "      <td>...</td>\n",
       "      <td>...</td>\n",
       "      <td>...</td>\n",
       "      <td>...</td>\n",
       "      <td>...</td>\n",
       "      <td>...</td>\n",
       "      <td>...</td>\n",
       "      <td>...</td>\n",
       "      <td>...</td>\n",
       "    </tr>\n",
       "    <tr>\n",
       "      <th>2731</th>\n",
       "      <td>2024-06-02</td>\n",
       "      <td>Tanker</td>\n",
       "      <td>Short-haul</td>\n",
       "      <td>Heavy Fuel Oil (HFO)</td>\n",
       "      <td>Good</td>\n",
       "      <td>11.607997</td>\n",
       "      <td>2918.395972</td>\n",
       "      <td>239.990359</td>\n",
       "      <td>13.700906</td>\n",
       "      <td>Moderate</td>\n",
       "      <td>318.111891</td>\n",
       "      <td>237975.067292</td>\n",
       "      <td>731584.322921</td>\n",
       "      <td>47.152337</td>\n",
       "      <td>1.000265</td>\n",
       "      <td>1.284895</td>\n",
       "      <td>3</td>\n",
       "      <td>74.813114</td>\n",
       "    </tr>\n",
       "    <tr>\n",
       "      <th>2732</th>\n",
       "      <td>2024-06-09</td>\n",
       "      <td>Bulk Carrier</td>\n",
       "      <td>Short-haul</td>\n",
       "      <td>Heavy Fuel Oil (HFO)</td>\n",
       "      <td>Good</td>\n",
       "      <td>13.852798</td>\n",
       "      <td>2161.282358</td>\n",
       "      <td>831.355653</td>\n",
       "      <td>14.612775</td>\n",
       "      <td>NaN</td>\n",
       "      <td>218.309002</td>\n",
       "      <td>21029.021721</td>\n",
       "      <td>374365.370930</td>\n",
       "      <td>64.325916</td>\n",
       "      <td>0.653474</td>\n",
       "      <td>0.891085</td>\n",
       "      <td>2</td>\n",
       "      <td>84.595155</td>\n",
       "    </tr>\n",
       "    <tr>\n",
       "      <th>2733</th>\n",
       "      <td>2024-06-16</td>\n",
       "      <td>Container Ship</td>\n",
       "      <td>Short-haul</td>\n",
       "      <td>Steam Turbine</td>\n",
       "      <td>Critical</td>\n",
       "      <td>16.813713</td>\n",
       "      <td>1343.608006</td>\n",
       "      <td>1376.460622</td>\n",
       "      <td>9.306518</td>\n",
       "      <td>NaN</td>\n",
       "      <td>1630.646419</td>\n",
       "      <td>78883.312529</td>\n",
       "      <td>234120.365052</td>\n",
       "      <td>53.551090</td>\n",
       "      <td>0.594169</td>\n",
       "      <td>0.725404</td>\n",
       "      <td>6</td>\n",
       "      <td>80.975269</td>\n",
       "    </tr>\n",
       "    <tr>\n",
       "      <th>2734</th>\n",
       "      <td>2024-06-23</td>\n",
       "      <td>Tanker</td>\n",
       "      <td>Transoceanic</td>\n",
       "      <td>Heavy Fuel Oil (HFO)</td>\n",
       "      <td>Good</td>\n",
       "      <td>23.132643</td>\n",
       "      <td>2028.143572</td>\n",
       "      <td>619.236340</td>\n",
       "      <td>6.623856</td>\n",
       "      <td>Moderate</td>\n",
       "      <td>153.441965</td>\n",
       "      <td>25241.550250</td>\n",
       "      <td>799713.737211</td>\n",
       "      <td>14.335517</td>\n",
       "      <td>0.895670</td>\n",
       "      <td>0.902960</td>\n",
       "      <td>2</td>\n",
       "      <td>92.853622</td>\n",
       "    </tr>\n",
       "    <tr>\n",
       "      <th>2735</th>\n",
       "      <td>2024-06-30</td>\n",
       "      <td>Fish Carrier</td>\n",
       "      <td>Coastal</td>\n",
       "      <td>Steam Turbine</td>\n",
       "      <td>Fair</td>\n",
       "      <td>11.527987</td>\n",
       "      <td>2928.588108</td>\n",
       "      <td>1930.235779</td>\n",
       "      <td>14.187652</td>\n",
       "      <td>Moderate</td>\n",
       "      <td>712.997894</td>\n",
       "      <td>55163.241668</td>\n",
       "      <td>382208.021405</td>\n",
       "      <td>63.886256</td>\n",
       "      <td>0.825349</td>\n",
       "      <td>1.289204</td>\n",
       "      <td>2</td>\n",
       "      <td>66.190613</td>\n",
       "    </tr>\n",
       "  </tbody>\n",
       "</table>\n",
       "<p>2736 rows × 18 columns</p>\n",
       "</div>"
      ],
      "text/plain": [
       "            Date       Ship_Type    Route_Type           Engine_Type  \\\n",
       "0     2023-06-04  Container Ship           NaN  Heavy Fuel Oil (HFO)   \n",
       "1     2023-06-11    Fish Carrier    Short-haul         Steam Turbine   \n",
       "2     2023-06-18  Container Ship     Long-haul                Diesel   \n",
       "3     2023-06-25    Bulk Carrier  Transoceanic         Steam Turbine   \n",
       "4     2023-07-02    Fish Carrier  Transoceanic                Diesel   \n",
       "...          ...             ...           ...                   ...   \n",
       "2731  2024-06-02          Tanker    Short-haul  Heavy Fuel Oil (HFO)   \n",
       "2732  2024-06-09    Bulk Carrier    Short-haul  Heavy Fuel Oil (HFO)   \n",
       "2733  2024-06-16  Container Ship    Short-haul         Steam Turbine   \n",
       "2734  2024-06-23          Tanker  Transoceanic  Heavy Fuel Oil (HFO)   \n",
       "2735  2024-06-30    Fish Carrier       Coastal         Steam Turbine   \n",
       "\n",
       "     Maintenance_Status  Speed_Over_Ground_knots  Engine_Power_kW  \\\n",
       "0              Critical                12.597558      2062.983982   \n",
       "1                  Good                10.387580      1796.057415   \n",
       "2                  Fair                20.749747      1648.556685   \n",
       "3                  Fair                21.055102       915.261795   \n",
       "4                  Fair                13.742777      1089.721803   \n",
       "...                 ...                      ...              ...   \n",
       "2731               Good                11.607997      2918.395972   \n",
       "2732               Good                13.852798      2161.282358   \n",
       "2733           Critical                16.813713      1343.608006   \n",
       "2734               Good                23.132643      2028.143572   \n",
       "2735               Fair                11.527987      2928.588108   \n",
       "\n",
       "      Distance_Traveled_nm  Draft_meters Weather_Condition  Cargo_Weight_tons  \\\n",
       "0              1030.943616     14.132284          Moderate        1959.017882   \n",
       "1              1060.486382     14.653083             Rough         162.394712   \n",
       "2               658.874144      7.199261          Moderate         178.040917   \n",
       "3              1126.822519     11.789063          Moderate        1737.385346   \n",
       "4              1445.281159      9.727833          Moderate         260.595103   \n",
       "...                    ...           ...               ...                ...   \n",
       "2731            239.990359     13.700906          Moderate         318.111891   \n",
       "2732            831.355653     14.612775               NaN         218.309002   \n",
       "2733           1376.460622      9.306518               NaN        1630.646419   \n",
       "2734            619.236340      6.623856          Moderate         153.441965   \n",
       "2735           1930.235779     14.187652          Moderate         712.997894   \n",
       "\n",
       "      Operational_Cost_USD  Revenue_per_Voyage_USD  Turnaround_Time_hours  \\\n",
       "0            483832.354540           292183.273104              25.867077   \n",
       "1            483388.000509           883765.787360              63.248196   \n",
       "2            448543.404044           394018.746904              49.418150   \n",
       "3            261349.605449            87551.375175              22.409110   \n",
       "4            287718.375160           676121.459632              64.158231   \n",
       "...                    ...                     ...                    ...   \n",
       "2731         237975.067292           731584.322921              47.152337   \n",
       "2732          21029.021721           374365.370930              64.325916   \n",
       "2733          78883.312529           234120.365052              53.551090   \n",
       "2734          25241.550250           799713.737211              14.335517   \n",
       "2735          55163.241668           382208.021405              63.886256   \n",
       "\n",
       "      Efficiency_nm_per_kWh  Seasonal_Impact_Score  Weekly_Voyage_Count  \\\n",
       "0                  1.455179               1.415653                    1   \n",
       "1                  0.290361               0.885648                    6   \n",
       "2                  0.499595               1.405813                    9   \n",
       "3                  0.702906               1.370704                    1   \n",
       "4                  1.331343               0.583383                    8   \n",
       "...                     ...                    ...                  ...   \n",
       "2731               1.000265               1.284895                    3   \n",
       "2732               0.653474               0.891085                    2   \n",
       "2733               0.594169               0.725404                    6   \n",
       "2734               0.895670               0.902960                    2   \n",
       "2735               0.825349               1.289204                    2   \n",
       "\n",
       "      Average_Load_Percentage  \n",
       "0                   93.769249  \n",
       "1                   93.895372  \n",
       "2                   96.218244  \n",
       "3                   66.193698  \n",
       "4                   80.008581  \n",
       "...                       ...  \n",
       "2731                74.813114  \n",
       "2732                84.595155  \n",
       "2733                80.975269  \n",
       "2734                92.853622  \n",
       "2735                66.190613  \n",
       "\n",
       "[2736 rows x 18 columns]"
      ]
     },
     "execution_count": 2,
     "metadata": {},
     "output_type": "execute_result"
    }
   ],
   "source": [
    "df = pd.read_csv(\"Ship_Performance_Dataset.csv\")\n",
    "df "
   ]
  },
  {
   "cell_type": "code",
   "execution_count": 19,
   "id": "5b13074c",
   "metadata": {},
   "outputs": [
    {
     "data": {
      "application/vnd.plotly.v1+json": {
       "config": {
        "plotlyServerURL": "https://plot.ly"
       },
       "data": [
        {
         "hovertemplate": "Ship_Type=%{x}<br>Efficiency_nm_per_kWh=%{marker.color}<extra></extra>",
         "legendgroup": "",
         "marker": {
          "color": {
           "bdata": "Cj8NMKEX6j83Klt9VJ3pP1V3hdZGMek/vkD9b0b26D8=",
           "dtype": "f8"
          },
          "coloraxis": "coloraxis",
          "pattern": {
           "shape": ""
          }
         },
         "name": "",
         "orientation": "v",
         "showlegend": false,
         "textposition": "auto",
         "type": "bar",
         "x": [
          "Bulk Carrier",
          "Container Ship",
          "Fish Carrier",
          "Tanker"
         ],
         "xaxis": "x",
         "y": {
          "bdata": "Cj8NMKEX6j83Klt9VJ3pP1V3hdZGMek/vkD9b0b26D8=",
          "dtype": "f8"
         },
         "yaxis": "y"
        }
       ],
       "layout": {
        "barmode": "relative",
        "coloraxis": {
         "colorbar": {
          "title": {
           "text": "Efficiency_nm_per_kWh"
          }
         },
         "colorscale": [
          [
           0,
           "#440154"
          ],
          [
           0.1111111111111111,
           "#482878"
          ],
          [
           0.2222222222222222,
           "#3e4989"
          ],
          [
           0.3333333333333333,
           "#31688e"
          ],
          [
           0.4444444444444444,
           "#26828e"
          ],
          [
           0.5555555555555556,
           "#1f9e89"
          ],
          [
           0.6666666666666666,
           "#35b779"
          ],
          [
           0.7777777777777778,
           "#6ece58"
          ],
          [
           0.8888888888888888,
           "#b5de2b"
          ],
          [
           1,
           "#fde725"
          ]
         ]
        },
        "legend": {
         "tracegroupgap": 0
        },
        "template": {
         "data": {
          "bar": [
           {
            "error_x": {
             "color": "#2a3f5f"
            },
            "error_y": {
             "color": "#2a3f5f"
            },
            "marker": {
             "line": {
              "color": "#E5ECF6",
              "width": 0.5
             },
             "pattern": {
              "fillmode": "overlay",
              "size": 10,
              "solidity": 0.2
             }
            },
            "type": "bar"
           }
          ],
          "barpolar": [
           {
            "marker": {
             "line": {
              "color": "#E5ECF6",
              "width": 0.5
             },
             "pattern": {
              "fillmode": "overlay",
              "size": 10,
              "solidity": 0.2
             }
            },
            "type": "barpolar"
           }
          ],
          "carpet": [
           {
            "aaxis": {
             "endlinecolor": "#2a3f5f",
             "gridcolor": "white",
             "linecolor": "white",
             "minorgridcolor": "white",
             "startlinecolor": "#2a3f5f"
            },
            "baxis": {
             "endlinecolor": "#2a3f5f",
             "gridcolor": "white",
             "linecolor": "white",
             "minorgridcolor": "white",
             "startlinecolor": "#2a3f5f"
            },
            "type": "carpet"
           }
          ],
          "choropleth": [
           {
            "colorbar": {
             "outlinewidth": 0,
             "ticks": ""
            },
            "type": "choropleth"
           }
          ],
          "contour": [
           {
            "colorbar": {
             "outlinewidth": 0,
             "ticks": ""
            },
            "colorscale": [
             [
              0,
              "#0d0887"
             ],
             [
              0.1111111111111111,
              "#46039f"
             ],
             [
              0.2222222222222222,
              "#7201a8"
             ],
             [
              0.3333333333333333,
              "#9c179e"
             ],
             [
              0.4444444444444444,
              "#bd3786"
             ],
             [
              0.5555555555555556,
              "#d8576b"
             ],
             [
              0.6666666666666666,
              "#ed7953"
             ],
             [
              0.7777777777777778,
              "#fb9f3a"
             ],
             [
              0.8888888888888888,
              "#fdca26"
             ],
             [
              1,
              "#f0f921"
             ]
            ],
            "type": "contour"
           }
          ],
          "contourcarpet": [
           {
            "colorbar": {
             "outlinewidth": 0,
             "ticks": ""
            },
            "type": "contourcarpet"
           }
          ],
          "heatmap": [
           {
            "colorbar": {
             "outlinewidth": 0,
             "ticks": ""
            },
            "colorscale": [
             [
              0,
              "#0d0887"
             ],
             [
              0.1111111111111111,
              "#46039f"
             ],
             [
              0.2222222222222222,
              "#7201a8"
             ],
             [
              0.3333333333333333,
              "#9c179e"
             ],
             [
              0.4444444444444444,
              "#bd3786"
             ],
             [
              0.5555555555555556,
              "#d8576b"
             ],
             [
              0.6666666666666666,
              "#ed7953"
             ],
             [
              0.7777777777777778,
              "#fb9f3a"
             ],
             [
              0.8888888888888888,
              "#fdca26"
             ],
             [
              1,
              "#f0f921"
             ]
            ],
            "type": "heatmap"
           }
          ],
          "histogram": [
           {
            "marker": {
             "pattern": {
              "fillmode": "overlay",
              "size": 10,
              "solidity": 0.2
             }
            },
            "type": "histogram"
           }
          ],
          "histogram2d": [
           {
            "colorbar": {
             "outlinewidth": 0,
             "ticks": ""
            },
            "colorscale": [
             [
              0,
              "#0d0887"
             ],
             [
              0.1111111111111111,
              "#46039f"
             ],
             [
              0.2222222222222222,
              "#7201a8"
             ],
             [
              0.3333333333333333,
              "#9c179e"
             ],
             [
              0.4444444444444444,
              "#bd3786"
             ],
             [
              0.5555555555555556,
              "#d8576b"
             ],
             [
              0.6666666666666666,
              "#ed7953"
             ],
             [
              0.7777777777777778,
              "#fb9f3a"
             ],
             [
              0.8888888888888888,
              "#fdca26"
             ],
             [
              1,
              "#f0f921"
             ]
            ],
            "type": "histogram2d"
           }
          ],
          "histogram2dcontour": [
           {
            "colorbar": {
             "outlinewidth": 0,
             "ticks": ""
            },
            "colorscale": [
             [
              0,
              "#0d0887"
             ],
             [
              0.1111111111111111,
              "#46039f"
             ],
             [
              0.2222222222222222,
              "#7201a8"
             ],
             [
              0.3333333333333333,
              "#9c179e"
             ],
             [
              0.4444444444444444,
              "#bd3786"
             ],
             [
              0.5555555555555556,
              "#d8576b"
             ],
             [
              0.6666666666666666,
              "#ed7953"
             ],
             [
              0.7777777777777778,
              "#fb9f3a"
             ],
             [
              0.8888888888888888,
              "#fdca26"
             ],
             [
              1,
              "#f0f921"
             ]
            ],
            "type": "histogram2dcontour"
           }
          ],
          "mesh3d": [
           {
            "colorbar": {
             "outlinewidth": 0,
             "ticks": ""
            },
            "type": "mesh3d"
           }
          ],
          "parcoords": [
           {
            "line": {
             "colorbar": {
              "outlinewidth": 0,
              "ticks": ""
             }
            },
            "type": "parcoords"
           }
          ],
          "pie": [
           {
            "automargin": true,
            "type": "pie"
           }
          ],
          "scatter": [
           {
            "fillpattern": {
             "fillmode": "overlay",
             "size": 10,
             "solidity": 0.2
            },
            "type": "scatter"
           }
          ],
          "scatter3d": [
           {
            "line": {
             "colorbar": {
              "outlinewidth": 0,
              "ticks": ""
             }
            },
            "marker": {
             "colorbar": {
              "outlinewidth": 0,
              "ticks": ""
             }
            },
            "type": "scatter3d"
           }
          ],
          "scattercarpet": [
           {
            "marker": {
             "colorbar": {
              "outlinewidth": 0,
              "ticks": ""
             }
            },
            "type": "scattercarpet"
           }
          ],
          "scattergeo": [
           {
            "marker": {
             "colorbar": {
              "outlinewidth": 0,
              "ticks": ""
             }
            },
            "type": "scattergeo"
           }
          ],
          "scattergl": [
           {
            "marker": {
             "colorbar": {
              "outlinewidth": 0,
              "ticks": ""
             }
            },
            "type": "scattergl"
           }
          ],
          "scattermap": [
           {
            "marker": {
             "colorbar": {
              "outlinewidth": 0,
              "ticks": ""
             }
            },
            "type": "scattermap"
           }
          ],
          "scattermapbox": [
           {
            "marker": {
             "colorbar": {
              "outlinewidth": 0,
              "ticks": ""
             }
            },
            "type": "scattermapbox"
           }
          ],
          "scatterpolar": [
           {
            "marker": {
             "colorbar": {
              "outlinewidth": 0,
              "ticks": ""
             }
            },
            "type": "scatterpolar"
           }
          ],
          "scatterpolargl": [
           {
            "marker": {
             "colorbar": {
              "outlinewidth": 0,
              "ticks": ""
             }
            },
            "type": "scatterpolargl"
           }
          ],
          "scatterternary": [
           {
            "marker": {
             "colorbar": {
              "outlinewidth": 0,
              "ticks": ""
             }
            },
            "type": "scatterternary"
           }
          ],
          "surface": [
           {
            "colorbar": {
             "outlinewidth": 0,
             "ticks": ""
            },
            "colorscale": [
             [
              0,
              "#0d0887"
             ],
             [
              0.1111111111111111,
              "#46039f"
             ],
             [
              0.2222222222222222,
              "#7201a8"
             ],
             [
              0.3333333333333333,
              "#9c179e"
             ],
             [
              0.4444444444444444,
              "#bd3786"
             ],
             [
              0.5555555555555556,
              "#d8576b"
             ],
             [
              0.6666666666666666,
              "#ed7953"
             ],
             [
              0.7777777777777778,
              "#fb9f3a"
             ],
             [
              0.8888888888888888,
              "#fdca26"
             ],
             [
              1,
              "#f0f921"
             ]
            ],
            "type": "surface"
           }
          ],
          "table": [
           {
            "cells": {
             "fill": {
              "color": "#EBF0F8"
             },
             "line": {
              "color": "white"
             }
            },
            "header": {
             "fill": {
              "color": "#C8D4E3"
             },
             "line": {
              "color": "white"
             }
            },
            "type": "table"
           }
          ]
         },
         "layout": {
          "annotationdefaults": {
           "arrowcolor": "#2a3f5f",
           "arrowhead": 0,
           "arrowwidth": 1
          },
          "autotypenumbers": "strict",
          "coloraxis": {
           "colorbar": {
            "outlinewidth": 0,
            "ticks": ""
           }
          },
          "colorscale": {
           "diverging": [
            [
             0,
             "#8e0152"
            ],
            [
             0.1,
             "#c51b7d"
            ],
            [
             0.2,
             "#de77ae"
            ],
            [
             0.3,
             "#f1b6da"
            ],
            [
             0.4,
             "#fde0ef"
            ],
            [
             0.5,
             "#f7f7f7"
            ],
            [
             0.6,
             "#e6f5d0"
            ],
            [
             0.7,
             "#b8e186"
            ],
            [
             0.8,
             "#7fbc41"
            ],
            [
             0.9,
             "#4d9221"
            ],
            [
             1,
             "#276419"
            ]
           ],
           "sequential": [
            [
             0,
             "#0d0887"
            ],
            [
             0.1111111111111111,
             "#46039f"
            ],
            [
             0.2222222222222222,
             "#7201a8"
            ],
            [
             0.3333333333333333,
             "#9c179e"
            ],
            [
             0.4444444444444444,
             "#bd3786"
            ],
            [
             0.5555555555555556,
             "#d8576b"
            ],
            [
             0.6666666666666666,
             "#ed7953"
            ],
            [
             0.7777777777777778,
             "#fb9f3a"
            ],
            [
             0.8888888888888888,
             "#fdca26"
            ],
            [
             1,
             "#f0f921"
            ]
           ],
           "sequentialminus": [
            [
             0,
             "#0d0887"
            ],
            [
             0.1111111111111111,
             "#46039f"
            ],
            [
             0.2222222222222222,
             "#7201a8"
            ],
            [
             0.3333333333333333,
             "#9c179e"
            ],
            [
             0.4444444444444444,
             "#bd3786"
            ],
            [
             0.5555555555555556,
             "#d8576b"
            ],
            [
             0.6666666666666666,
             "#ed7953"
            ],
            [
             0.7777777777777778,
             "#fb9f3a"
            ],
            [
             0.8888888888888888,
             "#fdca26"
            ],
            [
             1,
             "#f0f921"
            ]
           ]
          },
          "colorway": [
           "#636efa",
           "#EF553B",
           "#00cc96",
           "#ab63fa",
           "#FFA15A",
           "#19d3f3",
           "#FF6692",
           "#B6E880",
           "#FF97FF",
           "#FECB52"
          ],
          "font": {
           "color": "#2a3f5f"
          },
          "geo": {
           "bgcolor": "white",
           "lakecolor": "white",
           "landcolor": "#E5ECF6",
           "showlakes": true,
           "showland": true,
           "subunitcolor": "white"
          },
          "hoverlabel": {
           "align": "left"
          },
          "hovermode": "closest",
          "mapbox": {
           "style": "light"
          },
          "paper_bgcolor": "white",
          "plot_bgcolor": "#E5ECF6",
          "polar": {
           "angularaxis": {
            "gridcolor": "white",
            "linecolor": "white",
            "ticks": ""
           },
           "bgcolor": "#E5ECF6",
           "radialaxis": {
            "gridcolor": "white",
            "linecolor": "white",
            "ticks": ""
           }
          },
          "scene": {
           "xaxis": {
            "backgroundcolor": "#E5ECF6",
            "gridcolor": "white",
            "gridwidth": 2,
            "linecolor": "white",
            "showbackground": true,
            "ticks": "",
            "zerolinecolor": "white"
           },
           "yaxis": {
            "backgroundcolor": "#E5ECF6",
            "gridcolor": "white",
            "gridwidth": 2,
            "linecolor": "white",
            "showbackground": true,
            "ticks": "",
            "zerolinecolor": "white"
           },
           "zaxis": {
            "backgroundcolor": "#E5ECF6",
            "gridcolor": "white",
            "gridwidth": 2,
            "linecolor": "white",
            "showbackground": true,
            "ticks": "",
            "zerolinecolor": "white"
           }
          },
          "shapedefaults": {
           "line": {
            "color": "#2a3f5f"
           }
          },
          "ternary": {
           "aaxis": {
            "gridcolor": "white",
            "linecolor": "white",
            "ticks": ""
           },
           "baxis": {
            "gridcolor": "white",
            "linecolor": "white",
            "ticks": ""
           },
           "bgcolor": "#E5ECF6",
           "caxis": {
            "gridcolor": "white",
            "linecolor": "white",
            "ticks": ""
           }
          },
          "title": {
           "x": 0.05
          },
          "xaxis": {
           "automargin": true,
           "gridcolor": "white",
           "linecolor": "white",
           "ticks": "",
           "title": {
            "standoff": 15
           },
           "zerolinecolor": "white",
           "zerolinewidth": 2
          },
          "yaxis": {
           "automargin": true,
           "gridcolor": "white",
           "linecolor": "white",
           "ticks": "",
           "title": {
            "standoff": 15
           },
           "zerolinecolor": "white",
           "zerolinewidth": 2
          }
         }
        },
        "title": {
         "text": "Average Efficiency by Ship Type"
        },
        "xaxis": {
         "anchor": "y",
         "domain": [
          0,
          1
         ],
         "tickangle": -45,
         "title": {
          "text": "Ship_Type"
         }
        },
        "yaxis": {
         "anchor": "x",
         "domain": [
          0,
          1
         ],
         "title": {
          "text": "Efficiency_nm_per_kWh"
         }
        }
       }
      }
     },
     "metadata": {},
     "output_type": "display_data"
    }
   ],
   "source": [
    "#Ship type vs average efficiency\n",
    "avg_efficiency = df.groupby('Ship_Type')['Efficiency_nm_per_kWh'].mean().reset_index()\n",
    "fig = px.bar(\n",
    "             avg_efficiency, x='Ship_Type', y='Efficiency_nm_per_kWh',\n",
    "             title='Average Efficiency by Ship Type',\n",
    "             labels={'efficiency': 'Average Efficiency', 'Ship Type': 'Ship Type'},\n",
    "             color='Efficiency_nm_per_kWh',\n",
    "             color_continuous_scale='Viridis')\n",
    "\n",
    "fig.update_layout(xaxis_tickangle=-45)\n",
    "fig.show()"
   ]
  },
  {
   "cell_type": "code",
   "execution_count": 20,
   "id": "8fa61ef7",
   "metadata": {},
   "outputs": [
    {
     "data": {
      "application/vnd.plotly.v1+json": {
       "config": {
        "plotlyServerURL": "https://plot.ly"
       },
       "data": [
        {
         "hovertemplate": "Distance Traveled (nm)=%{x}<br>Efficiency (nm/kWh)=%{y}<extra></extra>",
         "legendgroup": "",
         "line": {
          "color": "#636efa",
          "dash": "solid"
         },
         "marker": {
          "symbol": "circle"
         },
         "mode": "lines+markers",
         "name": "",
         "showlegend": false,
         "type": "scattergl",
         "x": {
          "bdata": "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",
          "dtype": "f8"
         },
         "xaxis": "x",
         "y": {
          "bdata": "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",
          "dtype": "f8"
         },
         "yaxis": "y"
        }
       ],
       "layout": {
        "legend": {
         "tracegroupgap": 0
        },
        "template": {
         "data": {
          "bar": [
           {
            "error_x": {
             "color": "#2a3f5f"
            },
            "error_y": {
             "color": "#2a3f5f"
            },
            "marker": {
             "line": {
              "color": "#E5ECF6",
              "width": 0.5
             },
             "pattern": {
              "fillmode": "overlay",
              "size": 10,
              "solidity": 0.2
             }
            },
            "type": "bar"
           }
          ],
          "barpolar": [
           {
            "marker": {
             "line": {
              "color": "#E5ECF6",
              "width": 0.5
             },
             "pattern": {
              "fillmode": "overlay",
              "size": 10,
              "solidity": 0.2
             }
            },
            "type": "barpolar"
           }
          ],
          "carpet": [
           {
            "aaxis": {
             "endlinecolor": "#2a3f5f",
             "gridcolor": "white",
             "linecolor": "white",
             "minorgridcolor": "white",
             "startlinecolor": "#2a3f5f"
            },
            "baxis": {
             "endlinecolor": "#2a3f5f",
             "gridcolor": "white",
             "linecolor": "white",
             "minorgridcolor": "white",
             "startlinecolor": "#2a3f5f"
            },
            "type": "carpet"
           }
          ],
          "choropleth": [
           {
            "colorbar": {
             "outlinewidth": 0,
             "ticks": ""
            },
            "type": "choropleth"
           }
          ],
          "contour": [
           {
            "colorbar": {
             "outlinewidth": 0,
             "ticks": ""
            },
            "colorscale": [
             [
              0,
              "#0d0887"
             ],
             [
              0.1111111111111111,
              "#46039f"
             ],
             [
              0.2222222222222222,
              "#7201a8"
             ],
             [
              0.3333333333333333,
              "#9c179e"
             ],
             [
              0.4444444444444444,
              "#bd3786"
             ],
             [
              0.5555555555555556,
              "#d8576b"
             ],
             [
              0.6666666666666666,
              "#ed7953"
             ],
             [
              0.7777777777777778,
              "#fb9f3a"
             ],
             [
              0.8888888888888888,
              "#fdca26"
             ],
             [
              1,
              "#f0f921"
             ]
            ],
            "type": "contour"
           }
          ],
          "contourcarpet": [
           {
            "colorbar": {
             "outlinewidth": 0,
             "ticks": ""
            },
            "type": "contourcarpet"
           }
          ],
          "heatmap": [
           {
            "colorbar": {
             "outlinewidth": 0,
             "ticks": ""
            },
            "colorscale": [
             [
              0,
              "#0d0887"
             ],
             [
              0.1111111111111111,
              "#46039f"
             ],
             [
              0.2222222222222222,
              "#7201a8"
             ],
             [
              0.3333333333333333,
              "#9c179e"
             ],
             [
              0.4444444444444444,
              "#bd3786"
             ],
             [
              0.5555555555555556,
              "#d8576b"
             ],
             [
              0.6666666666666666,
              "#ed7953"
             ],
             [
              0.7777777777777778,
              "#fb9f3a"
             ],
             [
              0.8888888888888888,
              "#fdca26"
             ],
             [
              1,
              "#f0f921"
             ]
            ],
            "type": "heatmap"
           }
          ],
          "histogram": [
           {
            "marker": {
             "pattern": {
              "fillmode": "overlay",
              "size": 10,
              "solidity": 0.2
             }
            },
            "type": "histogram"
           }
          ],
          "histogram2d": [
           {
            "colorbar": {
             "outlinewidth": 0,
             "ticks": ""
            },
            "colorscale": [
             [
              0,
              "#0d0887"
             ],
             [
              0.1111111111111111,
              "#46039f"
             ],
             [
              0.2222222222222222,
              "#7201a8"
             ],
             [
              0.3333333333333333,
              "#9c179e"
             ],
             [
              0.4444444444444444,
              "#bd3786"
             ],
             [
              0.5555555555555556,
              "#d8576b"
             ],
             [
              0.6666666666666666,
              "#ed7953"
             ],
             [
              0.7777777777777778,
              "#fb9f3a"
             ],
             [
              0.8888888888888888,
              "#fdca26"
             ],
             [
              1,
              "#f0f921"
             ]
            ],
            "type": "histogram2d"
           }
          ],
          "histogram2dcontour": [
           {
            "colorbar": {
             "outlinewidth": 0,
             "ticks": ""
            },
            "colorscale": [
             [
              0,
              "#0d0887"
             ],
             [
              0.1111111111111111,
              "#46039f"
             ],
             [
              0.2222222222222222,
              "#7201a8"
             ],
             [
              0.3333333333333333,
              "#9c179e"
             ],
             [
              0.4444444444444444,
              "#bd3786"
             ],
             [
              0.5555555555555556,
              "#d8576b"
             ],
             [
              0.6666666666666666,
              "#ed7953"
             ],
             [
              0.7777777777777778,
              "#fb9f3a"
             ],
             [
              0.8888888888888888,
              "#fdca26"
             ],
             [
              1,
              "#f0f921"
             ]
            ],
            "type": "histogram2dcontour"
           }
          ],
          "mesh3d": [
           {
            "colorbar": {
             "outlinewidth": 0,
             "ticks": ""
            },
            "type": "mesh3d"
           }
          ],
          "parcoords": [
           {
            "line": {
             "colorbar": {
              "outlinewidth": 0,
              "ticks": ""
             }
            },
            "type": "parcoords"
           }
          ],
          "pie": [
           {
            "automargin": true,
            "type": "pie"
           }
          ],
          "scatter": [
           {
            "fillpattern": {
             "fillmode": "overlay",
             "size": 10,
             "solidity": 0.2
            },
            "type": "scatter"
           }
          ],
          "scatter3d": [
           {
            "line": {
             "colorbar": {
              "outlinewidth": 0,
              "ticks": ""
             }
            },
            "marker": {
             "colorbar": {
              "outlinewidth": 0,
              "ticks": ""
             }
            },
            "type": "scatter3d"
           }
          ],
          "scattercarpet": [
           {
            "marker": {
             "colorbar": {
              "outlinewidth": 0,
              "ticks": ""
             }
            },
            "type": "scattercarpet"
           }
          ],
          "scattergeo": [
           {
            "marker": {
             "colorbar": {
              "outlinewidth": 0,
              "ticks": ""
             }
            },
            "type": "scattergeo"
           }
          ],
          "scattergl": [
           {
            "marker": {
             "colorbar": {
              "outlinewidth": 0,
              "ticks": ""
             }
            },
            "type": "scattergl"
           }
          ],
          "scattermap": [
           {
            "marker": {
             "colorbar": {
              "outlinewidth": 0,
              "ticks": ""
             }
            },
            "type": "scattermap"
           }
          ],
          "scattermapbox": [
           {
            "marker": {
             "colorbar": {
              "outlinewidth": 0,
              "ticks": ""
             }
            },
            "type": "scattermapbox"
           }
          ],
          "scatterpolar": [
           {
            "marker": {
             "colorbar": {
              "outlinewidth": 0,
              "ticks": ""
             }
            },
            "type": "scatterpolar"
           }
          ],
          "scatterpolargl": [
           {
            "marker": {
             "colorbar": {
              "outlinewidth": 0,
              "ticks": ""
             }
            },
            "type": "scatterpolargl"
           }
          ],
          "scatterternary": [
           {
            "marker": {
             "colorbar": {
              "outlinewidth": 0,
              "ticks": ""
             }
            },
            "type": "scatterternary"
           }
          ],
          "surface": [
           {
            "colorbar": {
             "outlinewidth": 0,
             "ticks": ""
            },
            "colorscale": [
             [
              0,
              "#0d0887"
             ],
             [
              0.1111111111111111,
              "#46039f"
             ],
             [
              0.2222222222222222,
              "#7201a8"
             ],
             [
              0.3333333333333333,
              "#9c179e"
             ],
             [
              0.4444444444444444,
              "#bd3786"
             ],
             [
              0.5555555555555556,
              "#d8576b"
             ],
             [
              0.6666666666666666,
              "#ed7953"
             ],
             [
              0.7777777777777778,
              "#fb9f3a"
             ],
             [
              0.8888888888888888,
              "#fdca26"
             ],
             [
              1,
              "#f0f921"
             ]
            ],
            "type": "surface"
           }
          ],
          "table": [
           {
            "cells": {
             "fill": {
              "color": "#EBF0F8"
             },
             "line": {
              "color": "white"
             }
            },
            "header": {
             "fill": {
              "color": "#C8D4E3"
             },
             "line": {
              "color": "white"
             }
            },
            "type": "table"
           }
          ]
         },
         "layout": {
          "annotationdefaults": {
           "arrowcolor": "#2a3f5f",
           "arrowhead": 0,
           "arrowwidth": 1
          },
          "autotypenumbers": "strict",
          "coloraxis": {
           "colorbar": {
            "outlinewidth": 0,
            "ticks": ""
           }
          },
          "colorscale": {
           "diverging": [
            [
             0,
             "#8e0152"
            ],
            [
             0.1,
             "#c51b7d"
            ],
            [
             0.2,
             "#de77ae"
            ],
            [
             0.3,
             "#f1b6da"
            ],
            [
             0.4,
             "#fde0ef"
            ],
            [
             0.5,
             "#f7f7f7"
            ],
            [
             0.6,
             "#e6f5d0"
            ],
            [
             0.7,
             "#b8e186"
            ],
            [
             0.8,
             "#7fbc41"
            ],
            [
             0.9,
             "#4d9221"
            ],
            [
             1,
             "#276419"
            ]
           ],
           "sequential": [
            [
             0,
             "#0d0887"
            ],
            [
             0.1111111111111111,
             "#46039f"
            ],
            [
             0.2222222222222222,
             "#7201a8"
            ],
            [
             0.3333333333333333,
             "#9c179e"
            ],
            [
             0.4444444444444444,
             "#bd3786"
            ],
            [
             0.5555555555555556,
             "#d8576b"
            ],
            [
             0.6666666666666666,
             "#ed7953"
            ],
            [
             0.7777777777777778,
             "#fb9f3a"
            ],
            [
             0.8888888888888888,
             "#fdca26"
            ],
            [
             1,
             "#f0f921"
            ]
           ],
           "sequentialminus": [
            [
             0,
             "#0d0887"
            ],
            [
             0.1111111111111111,
             "#46039f"
            ],
            [
             0.2222222222222222,
             "#7201a8"
            ],
            [
             0.3333333333333333,
             "#9c179e"
            ],
            [
             0.4444444444444444,
             "#bd3786"
            ],
            [
             0.5555555555555556,
             "#d8576b"
            ],
            [
             0.6666666666666666,
             "#ed7953"
            ],
            [
             0.7777777777777778,
             "#fb9f3a"
            ],
            [
             0.8888888888888888,
             "#fdca26"
            ],
            [
             1,
             "#f0f921"
            ]
           ]
          },
          "colorway": [
           "#636efa",
           "#EF553B",
           "#00cc96",
           "#ab63fa",
           "#FFA15A",
           "#19d3f3",
           "#FF6692",
           "#B6E880",
           "#FF97FF",
           "#FECB52"
          ],
          "font": {
           "color": "#2a3f5f"
          },
          "geo": {
           "bgcolor": "white",
           "lakecolor": "white",
           "landcolor": "#E5ECF6",
           "showlakes": true,
           "showland": true,
           "subunitcolor": "white"
          },
          "hoverlabel": {
           "align": "left"
          },
          "hovermode": "closest",
          "mapbox": {
           "style": "light"
          },
          "paper_bgcolor": "white",
          "plot_bgcolor": "#E5ECF6",
          "polar": {
           "angularaxis": {
            "gridcolor": "white",
            "linecolor": "white",
            "ticks": ""
           },
           "bgcolor": "#E5ECF6",
           "radialaxis": {
            "gridcolor": "white",
            "linecolor": "white",
            "ticks": ""
           }
          },
          "scene": {
           "xaxis": {
            "backgroundcolor": "#E5ECF6",
            "gridcolor": "white",
            "gridwidth": 2,
            "linecolor": "white",
            "showbackground": true,
            "ticks": "",
            "zerolinecolor": "white"
           },
           "yaxis": {
            "backgroundcolor": "#E5ECF6",
            "gridcolor": "white",
            "gridwidth": 2,
            "linecolor": "white",
            "showbackground": true,
            "ticks": "",
            "zerolinecolor": "white"
           },
           "zaxis": {
            "backgroundcolor": "#E5ECF6",
            "gridcolor": "white",
            "gridwidth": 2,
            "linecolor": "white",
            "showbackground": true,
            "ticks": "",
            "zerolinecolor": "white"
           }
          },
          "shapedefaults": {
           "line": {
            "color": "#2a3f5f"
           }
          },
          "ternary": {
           "aaxis": {
            "gridcolor": "white",
            "linecolor": "white",
            "ticks": ""
           },
           "baxis": {
            "gridcolor": "white",
            "linecolor": "white",
            "ticks": ""
           },
           "bgcolor": "#E5ECF6",
           "caxis": {
            "gridcolor": "white",
            "linecolor": "white",
            "ticks": ""
           }
          },
          "title": {
           "x": 0.05
          },
          "xaxis": {
           "automargin": true,
           "gridcolor": "white",
           "linecolor": "white",
           "ticks": "",
           "title": {
            "standoff": 15
           },
           "zerolinecolor": "white",
           "zerolinewidth": 2
          },
          "yaxis": {
           "automargin": true,
           "gridcolor": "white",
           "linecolor": "white",
           "ticks": "",
           "title": {
            "standoff": 15
           },
           "zerolinecolor": "white",
           "zerolinewidth": 2
          }
         }
        },
        "title": {
         "text": "Efficiency vs Distance Traveled"
        },
        "xaxis": {
         "anchor": "y",
         "domain": [
          0,
          1
         ],
         "title": {
          "text": "Distance Traveled (nm)"
         }
        },
        "yaxis": {
         "anchor": "x",
         "domain": [
          0,
          1
         ],
         "title": {
          "text": "Efficiency (nm/kWh)"
         }
        }
       }
      }
     },
     "metadata": {},
     "output_type": "display_data"
    }
   ],
   "source": [
    "# efficiency vs distance traveled\n",
    "avg_efficiency = df.groupby('Ship_Type')['Efficiency_nm_per_kWh'].mean().reset_index()\n",
    "data_sorted = df.sort_values(by='Distance_Traveled_nm')\n",
    "\n",
    "fig = px.line(\n",
    "    data_sorted,\n",
    "    x='Distance_Traveled_nm',\n",
    "    y='Efficiency_nm_per_kWh',\n",
    "    title='Efficiency vs Distance Traveled',\n",
    "    markers=True,\n",
    "    labels={'Distance_Traveled_nm': 'Distance Traveled (nm)', 'Efficiency_nm_per_kWh': 'Efficiency (nm/kWh)'},   \n",
    ")\n",
    "\n",
    "fig.show()"
   ]
  },
  {
   "cell_type": "code",
   "execution_count": 23,
   "id": "90660b67",
   "metadata": {},
   "outputs": [
    {
     "data": {
      "application/vnd.plotly.v1+json": {
       "config": {
        "plotlyServerURL": "https://plot.ly"
       },
       "data": [
        {
         "hovertemplate": "Ship_Type=Container Ship<br>Speed_Over_Ground_knots=%{x}<br>Efficiency (nm/kWh)=%{y}<extra></extra>",
         "legendgroup": "Container Ship",
         "marker": {
          "color": "#636efa",
          "symbol": "circle"
         },
         "mode": "markers",
         "name": "Container Ship",
         "showlegend": true,
         "type": "scattergl",
         "x": {
          "bdata": "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",
          "dtype": "f8"
         },
         "xaxis": "x",
         "y": {
          "bdata": "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",
          "dtype": "f8"
         },
         "yaxis": "y"
        },
        {
         "hovertemplate": "Ship_Type=Fish Carrier<br>Speed_Over_Ground_knots=%{x}<br>Efficiency (nm/kWh)=%{y}<extra></extra>",
         "legendgroup": "Fish Carrier",
         "marker": {
          "color": "#EF553B",
          "symbol": "circle"
         },
         "mode": "markers",
         "name": "Fish Carrier",
         "showlegend": true,
         "type": "scattergl",
         "x": {
          "bdata": "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",
          "dtype": "f8"
         },
         "xaxis": "x",
         "y": {
          "bdata": "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",
          "dtype": "f8"
         },
         "yaxis": "y"
        },
        {
         "hovertemplate": "Ship_Type=Bulk Carrier<br>Speed_Over_Ground_knots=%{x}<br>Efficiency (nm/kWh)=%{y}<extra></extra>",
         "legendgroup": "Bulk Carrier",
         "marker": {
          "color": "#00cc96",
          "symbol": "circle"
         },
         "mode": "markers",
         "name": "Bulk Carrier",
         "showlegend": true,
         "type": "scattergl",
         "x": {
          "bdata": "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",
          "dtype": "f8"
         },
         "xaxis": "x",
         "y": {
          "bdata": "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",
          "dtype": "f8"
         },
         "yaxis": "y"
        },
        {
         "hovertemplate": "Ship_Type=Tanker<br>Speed_Over_Ground_knots=%{x}<br>Efficiency (nm/kWh)=%{y}<extra></extra>",
         "legendgroup": "Tanker",
         "marker": {
          "color": "#FFA15A",
          "symbol": "circle"
         },
         "mode": "markers",
         "name": "Tanker",
         "showlegend": true,
         "type": "scattergl",
         "x": {
          "bdata": "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",
          "dtype": "f8"
         },
         "xaxis": "x",
         "y": {
          "bdata": "9/KIFA6i8z/l/GRmy5/0P5STb8604uQ/4FIgOo0o4j+2AXJjW4vEP7hWE8P31Ok/xnQ6XrCz7T89BKA/sdboP/0ybg6+3es/TlG9slU14D8g1RHSAxLtP+ocok6XwdM/f1kjLXOnuT/raAC/7WrvP22W734xIOc/WkDXqVYQ8j9QmwGLekzlPw5DWDuUdsw/IjX6b6Iq2T8XNUcWAIK8Pzc0gnyuOfY/sp+ilb7R9T/jHCmOUn/1P9tuobRPCMc/0myrzqxW9z/DgB/idqLxPzVz1W3ITfM/ypaJ7yYK5T+khWsUlBrtP9ob6pBptOM/ylumi9ko4D/aGv/xSNX3P0MnK/n5OuE/GhtLr8i/uT/m+lghjg7rPztgncWQibs/6lWqz/5a8j8YtvZZpBDVP7tTH/pyDOo/D99nbk8R9D+P+HcXPCrwP3006Uvav8g/DE6vDmTS6T982dGhcLXlP2sspWbNW+c/toU0Gb0L7T+lXIh1OmDyP0nKd9kaaOM/DJtU6weC6D+almZTMATfP4X5tdTSwe0/hqI6/Ww07T/xN4JV6KDFPzbyiu4kedA/F8M+yyLS8z/c2vljTd7gP4LOaVLiTeE/KafVssCw8z/0lizlib3zP89TdZFg+PU/E7Focp4I9D/XlwHu2cHyP5fIQ/z5Acg/UJKSi/Ea8T8fIPlI6Qb0P1YFsiQikMQ/wQ/cVDoM5T9+nhNQ7kjsP5gBVfbcbuM/GWPTFCsT9j+hgPtNIdvNP3VR5OWb7+s/LIAd/b3O3T/GHsyIxIHzP0se+uT8aMM/Z3sX/Af46T/CusDbURvoP/sIY2LEN+U/+cpSuZC7zT+vj24wvKvKP2G9rkAu2PU/sq7kQZ154D9v1/bkdXbSP3jRs0Yqu/Q/6uSLRAJ24T+RrNFthKLqPzMH1ZeX4eI/eK1G2bLi0z/IS6kjVYzyP7UV/TaYr88/5h9eOxpI8z/ObYRQv033P+3OyHVCJfc/kg2L+HSpxD/cFbPUBN/hP4WyvqHrrPI/85vzmB/M3z/yyvcpwFvsP7fePOLhkfM/6Q5Lei245T8IiOw7Ki/yP6JnsHc6cvU/CWIK90984D9d4k+lpFvtPyw0NFGZMvQ/TTXXE42o4j/YzKFr1sbEP/TE5Cdw7+E/hBCEhHGx5z+AtKxHbLjLP2T7uyUScNc/Tno4HOgp9j9glvRvxK7oP2icMqbDLMc/6CxknG7K9z+me802ncrPPyZwrxu7NdI/NghZLBYy6j+P7EEUfuD3P3MQ0k3GK/U/2ggVgvYpxz+KN0vpJPK7P8YzOpAq8fY/cRlis6nk4z9GTgf9M6D1P42JhDO9u8Q/WPQQmQU36T+UN+x0HBrmPx3GvTD5OfA//GQt5fU83T94ftN8t97nP39dF9zQnu4/IlEk3g4G9j/OK38dzonGPycsjhkGie8/iBBJTt6s8T/1WRlt1b7gP3Fxf9xshNQ/u3i/M/Wv7z/wMw43diPkP+R5xrD1iOY/rruMrvTP8T/faeS/X+fpPwozAlbKbsk/eWcK/YDG5D+hsETpYnzjP9DlwAL7/O4/gEz7PbA79D+uImJVTd3mPwKT9refZtc/2vt1K5e31T8oHklAnLf1P1WPrTBJpOQ/Nl2J8KBW9T/9QFTpM/H3P3LcwpDWYuM/DE11dUgz4T+cbvAMh5T0P1rbdHtFnMQ/y7ym+Z3j3D9hfgo4OBnLP930R41sTsM/CooNgCD37z9RFnmNepbMP2+31R9nktk/vWYFRrur7T8F86POaYbxP6+xW6+nFMw/hbmcCoxR4j8sYjQEp6/sPwlm1D3XlfI/TqVfF6x+9D8fA+cznGntP0eYqK4ow/E/c3RMaIat7T+jVw3ifMzoP4O77qjEeu4/WhF18Di88T8LWo0RD4TcP1sgctU2yOs/TWtRDRa78T9emWASBHL2P09tfbXgRfA/xcpgYq163T8C56aZLubrP+trDGKkXOc/CvYd+X9Y7D/zFWN9owTlP7v0uarPrM0/ZP/MGR8H8j8QXdAaaXnkPyPD4g957to/Uap3DhPTwj9bpWxSCfzzP0YLR7wmV/U/7B4N5YU46z8hkwBKz9LuP2zVF2h7JOM/iTcAeSxg7T9FgfreW5PxP1aewb3OrfM/VlPmMKcA6D9rLJzAcnLxPwj4FLiq6+A/nhU3CpUC0j8Iy25u9N/QP6iOlgbU9+k/fkK90l0JxD+0r7ZBBJntP4GeJp9dH/Q/AeAnPYng7T8iDjbIq3T2P/jwfj3Qufc/YblYKojF9D+eldBud1bSP01oWEzAPeQ/6FYyTUSG4z9/3DblhxPTP0YPpsuGW+U/D6Oof+ZY8j+WG93xUOPhP4uWRal7AdI/MAJhOVeG1z9r5jSwH9LYPxt5fg2/ttk/BpUwZ+kNxT/9Dw2wXCrTPw4MpnHYTeY/a3i1leJQuz/Vn6Re+3zwPwRUe/YSlPI/4CJAEXvv4j/MY+1f577eP3bWArQpWN0/smVq5vc9zD/k108oBCjzPxUfELu92tE/U9yAFiJQ8z9vzh6C66XlP7j4ZfY37ek/Ed1ABvxb5z/IYJm/7gTrP+8N6hinI9o/+V3ASOK27D91qP7MJ5DhP7kdgNNPf+U/nFSbT9MK8D8ZiORTcV7tP1mPBTmfgNA/H0vVEfk+8D846mGM5MTzP2J0ZS5MjvA/H+BBTx6h5T8o9GaaRhbjP1hdxelv4eE/r+2lNG1M9z8lXDMeu1TbPyYSNsxDJfM/bxnPh4LF7D8vOA1PcIr0P11TclVomeE/n4W0pWFV8z/1NH9Vl/j3PwhPVXYGt+Q/7wCeCDiUyT/UbtM3VjnsP+P4SEGZ9PU/8Gk4w58+9D8oVOtTUt7tP7sKdLbF/8I/g1Pjw2pa7z8cxRrlExz3Pycf51FXkdA/foKiFgAG7j8QezDQndDjP9Aqr5Tv7u4/jhcdJiHn5j9UacIu5SnEP59GHBO9itU/nR6zzXCx8D8B/d7fXknkPxWBtFLsFuU/nlBRst6O8z9IWZ9Px7/2P8HDkmXBs98/y83z6DYO5j+XUAyRA028P5V/9qHa3PU/B8eH02Ba8z/CenEaLnDeP9b6Ft3k9OM/r8m7nmsG1D8zqoxylNz2P3meZq6TWe8//RKmtftH8z+E/ag/CHryPx8FYMJ5MeY/up2oUCik8z8WtuvxzWD0P8fV7zKuVNg/zkg5hjMq5T86fBgsquXFPxozu7GW1cY/9x5+RxVy1z8LhZ7pfV3pPxYdw+JbGdM/d44f4EYe3D9H++KEtSfUP5M6WPhijek//ZvyfcAw9j+bANjD8ovyP7nptVfhd+8/GtFO+Mtm0z+z3SypRBboPzbCrxngDds/K6R88GP19j8G4pn3ByzoP1I7W0w1BOQ/dwNcXHiI9j/S5TLwjDDMP4RGJenKtvQ/mdxgJ8pu7z82ywi71QDWPzGTkrnI4Ok/ZfroS3Qt8j/EIffulh7kP7zpYleL4sc/Dlh4icqYvT/6o6g2ijviP5jFZjMXZ/c/zwHQyjRk9D/SKx8dPMbyP24nVEnRpOA/QXds9zGY9j+1N1fzf7fkP+o38FHtkuE/gCOzWrK39z8O/ak/tkHwP4VZ1vLWC+8/a+JaIdDz9z+WX3jfXcPJP/0QZwMBVeo/0noqtXNQ1D9YZCyIt0vzP36I2t9U7Pc/ytwTwNOO9z+XJcBB1NDuP5tsFhdzM8I/QBSrOG7C9D8jnQi/7EfXP8RFdCS+DvA/ldD05A0s3z83BQOxBDj2P0kaG2FAwO8/Y2khbHdl9D/aMwBXstX2P+n25wBtfuk/n88L408J4D9JYFx3I3TrP6rtvWZ3xdg/OcGInfdL8T+NYRdAXfnNP0n1aRHUVdY/EE3JtLLByj/t0PUGmPHZP5ogMdkz/eQ/UBo/+eCuxj+6YxZia1/qP1yfoqxxpfA/V0BygyHC6T+VZatfpy/uP7jiEn1598I/xiho/Os28D+hUK4eUgvgP4MDSCUmG9I/GJLgs6chxz+OLEx8MnrfP/BsPGeTXfM/v0mmZmRv8z/nv9qopZ3hP4+wFv3eZu0/mCYcvTbC9D+E8HYk5MTxP2qGytktZvY/CvNXfFvs4z+hn9b8phHxP+Mqaz6Eauk/o9rt4Rk+4j/QWZJJ5fnMPznb+/YUqeI/jxJjEGry4j+leZWDU1jNP/qF7JFXOdQ/btHXXdFD2j9yf83xm9jUP0ytTbAgaeM/Szhf4vWn0T+0XdhJU4DtP0EpVbeMIss/zRi45Go+8j/2D3il0yLeP6Pkx5aHafc/Uu3cs2+69j94RtrItSDxPztzpxGkgOs/lA3xQECF5z+wSiwo34DqPzfapY1YfdU//cdHztA+8j9dYEbCfr7XP3n7ueAkjvQ/B3vDW38X2D+hiw5ldDPyP1lIZwHtmO4/PMiikzfG3z+GYs8lwWTfP6NPkSvNjfE/qDzSjq4d4j9ln5Bi/qHePwFMHNkcaPE/yUdSZfCM6j/1JAD35h3fP8TcoCJNUOM/54lsE7N10z95Uo26rXfhPyuXXK26Ae0//xGLmV+i9D9ndcx44FTzPw69PMTHzOE/BJrg2rRn9z9DawPseo7vP91w/mqoAPc/kjrnkUrb1T9xmMGeE6j1Pwr9femS9eE/V/D+cKve9z/G3fLIhDP0P7/3D5lIdu8/5mf91QLV4z8dGVwWTnHbP8PkubyE4Pc/YcjuU/jK7T+DltoEmFLhPz7qNxrcMfU/NeL3cBEj5j/5wPBWq7LNP90IA4TpTuc/xuFIGD1X2T/1PcMhUPrlP2UjWcPh5e4/OKz2h1rj6T++S394GbnhP8f76YWjdtA/eCnyUvrT4T9oqFzu/GLYPzCCed5pdfM/uLUypP6o8D/srkzDYDzoP7vq0H1dWO0/p0fZRco56T/F84WI8uzgP541Hsg7ZvE/7Wkw36cK8D8oa+jbcVr0P6aL/pp2E/I/hqQSBcBnvT9UkY4DUTG9P4WgNiUdUfc/OyrpCuJi9z/yvN29FbDpPxT5+NSHieY/5e44mU3g6z+3Sw2nzLDLPx19GScyb+E/cWfclusD8j+NHPGBYAnnP38Zm/Aemu8/+5yEyBcq3j8psUKkoe3KP/s/CY5B7/Q/Gwh7fKOZ9j9CBjWaSXDdP5+P9mPd+t0/d45Jd1Hw0j/OMbmKEkrsP+wQO8H9V+I/ojQFBV7N9z+JgbKryczvP149GhTjWvU/LCcvpM1w8j98wPJfd1/zP/q/oJYEFeQ/Qx6T9C0r9T8U+qWLCCfyP017vYCkqOs/JNN+BJAE5D8ho5OAsX7PPy+Kyh9bv/A/qxORLZRl3D/ZYIDBiQ7LP6D0B34UTeA/vOfQAf4a0j8i4P73TOzrP8JYVZinw8E/Q7v/P6uj9j+vaUxBrBT3P3JatZQ2pdU/4o4n0Vkt5D9kcxF8tCD3P/Sh7a22quM/+6Vkr9F20j+CTyEd+Zf1P9ZD5pqyJvE/nfkz5BGy9T/+QkNl+tPfP0L9EOUlfu8/Rbd/UYe25T8Y7iND6NnhPzTRljqDcO4/0fBV59fm8T+/wRD2XIrgPyng8X1AgfA/vMSSf+i55D+KV8ZgFEb0P1TUVmhTdvc/uq19c/o14D/yjjWfvdTuPwleLB+Bwes/hMfiTzdu7z+wQd3GJ6niP9qVFdDIz/c/PnDQZzSe4T/LggM1dWPiP9UWh615qts/wTkxr4SJ9j+10uoTEyzmP0UidYXeddw/HTc+LPRD4T/KJsrZ0cjmPxNIgqqx1/A/cRqdYh3J4j+yhc5iiqnQPwc0dZb3MvY/BbU8jie85T9aw5ktatbVPypO2KjwY/c/jODOUmdQ4j/JEzIq8jXrP+3P5RSBDvA/P+zmNfHS9j8/nYWpac3zP04sonc9ivE/b8YzWLIT9z8omj/7m1LcPx9tS7Bsx9M/DUNOg2c/4D9ACOzib7TGP17V4y4YOu0/MVMwgFer2T+LQuekgAzAPxnrJLJqusQ/IHbQF6D38D+tR2ZLd6DnP6r0KlvKZ7o/Qip7WEgdyT8M6eysHInmP5ioMfQOK/A/4JN/7nPB3D9kunCdC+zyP39KmnShOu8/n1csKQbzwj+VS/4kSVf0P9h7mlLFrtU//B/vT05xzz9iIyUoqhntP8U3GpDzjvU/GOU8aKyL5z8wjGxuHSTgP9ykH0NvfPA/n4oRbCKT8z8Ggm7JuP3iP3XuKuSQ+fQ/b0p8W+Qs9j8smBZMhzHFPxfGT3DTsvY/0mJy3OcJ8j/IZFRWbA3OP3rpcppvnPA/Vmnn3pc29T+J9uqP5I3lP+MxoKILw+c/3RFykt3xxz9sV6sc+STrP95iKl3jz94/fUTDiw958T+Ve+ODJefkP4QCi0mSD9Y/7c9eQHlX8z86s7Bu8Oy9PymzkGXEYOU/X8PpBdVo8T8+ifBqn9XpP+oenVM8C/c/cRRdmS4c1z+lAF+5wF3xP9CRflds478/4uivNvZ+8T/Fbr5gmH3eP+mKH4QgSPM/BYhMUxcx5D/boBISln/iP1RQuucQwPA/75bWhkmN7z+qlYNj9LvpP2UnUuIn+uE/jJBpxUAW3j9gRU/zaTfrP7h+N1OCtvc/1B/g6IX93T/9tODyBc7VPzxk0q949Ok/WC0F67M84j8TUWLACcbfP/lKpCpQO94/RYtpG2bjuj9Bo6c/hpXzP+tkciJv9/U/hgeZ2pJ58j+CccBpCALgP0uhD4T/VuE/2r0Ens5zzD9fNKgGDE/pP8+xShnqEe0/c63P1GmG4T91UwX6l9n1PzhCnpV50c8/qfgHcSC10T9j76prGXX2P5r3lktDPec/KDZ5zCE07j/qYO97NcnWP44Y/WEVAfA/ZBDVMlOp7D8=",
          "dtype": "f8"
         },
         "yaxis": "y"
        }
       ],
       "layout": {
        "legend": {
         "title": {
          "text": "Ship_Type"
         },
         "tracegroupgap": 0
        },
        "template": {
         "data": {
          "bar": [
           {
            "error_x": {
             "color": "#2a3f5f"
            },
            "error_y": {
             "color": "#2a3f5f"
            },
            "marker": {
             "line": {
              "color": "#E5ECF6",
              "width": 0.5
             },
             "pattern": {
              "fillmode": "overlay",
              "size": 10,
              "solidity": 0.2
             }
            },
            "type": "bar"
           }
          ],
          "barpolar": [
           {
            "marker": {
             "line": {
              "color": "#E5ECF6",
              "width": 0.5
             },
             "pattern": {
              "fillmode": "overlay",
              "size": 10,
              "solidity": 0.2
             }
            },
            "type": "barpolar"
           }
          ],
          "carpet": [
           {
            "aaxis": {
             "endlinecolor": "#2a3f5f",
             "gridcolor": "white",
             "linecolor": "white",
             "minorgridcolor": "white",
             "startlinecolor": "#2a3f5f"
            },
            "baxis": {
             "endlinecolor": "#2a3f5f",
             "gridcolor": "white",
             "linecolor": "white",
             "minorgridcolor": "white",
             "startlinecolor": "#2a3f5f"
            },
            "type": "carpet"
           }
          ],
          "choropleth": [
           {
            "colorbar": {
             "outlinewidth": 0,
             "ticks": ""
            },
            "type": "choropleth"
           }
          ],
          "contour": [
           {
            "colorbar": {
             "outlinewidth": 0,
             "ticks": ""
            },
            "colorscale": [
             [
              0,
              "#0d0887"
             ],
             [
              0.1111111111111111,
              "#46039f"
             ],
             [
              0.2222222222222222,
              "#7201a8"
             ],
             [
              0.3333333333333333,
              "#9c179e"
             ],
             [
              0.4444444444444444,
              "#bd3786"
             ],
             [
              0.5555555555555556,
              "#d8576b"
             ],
             [
              0.6666666666666666,
              "#ed7953"
             ],
             [
              0.7777777777777778,
              "#fb9f3a"
             ],
             [
              0.8888888888888888,
              "#fdca26"
             ],
             [
              1,
              "#f0f921"
             ]
            ],
            "type": "contour"
           }
          ],
          "contourcarpet": [
           {
            "colorbar": {
             "outlinewidth": 0,
             "ticks": ""
            },
            "type": "contourcarpet"
           }
          ],
          "heatmap": [
           {
            "colorbar": {
             "outlinewidth": 0,
             "ticks": ""
            },
            "colorscale": [
             [
              0,
              "#0d0887"
             ],
             [
              0.1111111111111111,
              "#46039f"
             ],
             [
              0.2222222222222222,
              "#7201a8"
             ],
             [
              0.3333333333333333,
              "#9c179e"
             ],
             [
              0.4444444444444444,
              "#bd3786"
             ],
             [
              0.5555555555555556,
              "#d8576b"
             ],
             [
              0.6666666666666666,
              "#ed7953"
             ],
             [
              0.7777777777777778,
              "#fb9f3a"
             ],
             [
              0.8888888888888888,
              "#fdca26"
             ],
             [
              1,
              "#f0f921"
             ]
            ],
            "type": "heatmap"
           }
          ],
          "histogram": [
           {
            "marker": {
             "pattern": {
              "fillmode": "overlay",
              "size": 10,
              "solidity": 0.2
             }
            },
            "type": "histogram"
           }
          ],
          "histogram2d": [
           {
            "colorbar": {
             "outlinewidth": 0,
             "ticks": ""
            },
            "colorscale": [
             [
              0,
              "#0d0887"
             ],
             [
              0.1111111111111111,
              "#46039f"
             ],
             [
              0.2222222222222222,
              "#7201a8"
             ],
             [
              0.3333333333333333,
              "#9c179e"
             ],
             [
              0.4444444444444444,
              "#bd3786"
             ],
             [
              0.5555555555555556,
              "#d8576b"
             ],
             [
              0.6666666666666666,
              "#ed7953"
             ],
             [
              0.7777777777777778,
              "#fb9f3a"
             ],
             [
              0.8888888888888888,
              "#fdca26"
             ],
             [
              1,
              "#f0f921"
             ]
            ],
            "type": "histogram2d"
           }
          ],
          "histogram2dcontour": [
           {
            "colorbar": {
             "outlinewidth": 0,
             "ticks": ""
            },
            "colorscale": [
             [
              0,
              "#0d0887"
             ],
             [
              0.1111111111111111,
              "#46039f"
             ],
             [
              0.2222222222222222,
              "#7201a8"
             ],
             [
              0.3333333333333333,
              "#9c179e"
             ],
             [
              0.4444444444444444,
              "#bd3786"
             ],
             [
              0.5555555555555556,
              "#d8576b"
             ],
             [
              0.6666666666666666,
              "#ed7953"
             ],
             [
              0.7777777777777778,
              "#fb9f3a"
             ],
             [
              0.8888888888888888,
              "#fdca26"
             ],
             [
              1,
              "#f0f921"
             ]
            ],
            "type": "histogram2dcontour"
           }
          ],
          "mesh3d": [
           {
            "colorbar": {
             "outlinewidth": 0,
             "ticks": ""
            },
            "type": "mesh3d"
           }
          ],
          "parcoords": [
           {
            "line": {
             "colorbar": {
              "outlinewidth": 0,
              "ticks": ""
             }
            },
            "type": "parcoords"
           }
          ],
          "pie": [
           {
            "automargin": true,
            "type": "pie"
           }
          ],
          "scatter": [
           {
            "fillpattern": {
             "fillmode": "overlay",
             "size": 10,
             "solidity": 0.2
            },
            "type": "scatter"
           }
          ],
          "scatter3d": [
           {
            "line": {
             "colorbar": {
              "outlinewidth": 0,
              "ticks": ""
             }
            },
            "marker": {
             "colorbar": {
              "outlinewidth": 0,
              "ticks": ""
             }
            },
            "type": "scatter3d"
           }
          ],
          "scattercarpet": [
           {
            "marker": {
             "colorbar": {
              "outlinewidth": 0,
              "ticks": ""
             }
            },
            "type": "scattercarpet"
           }
          ],
          "scattergeo": [
           {
            "marker": {
             "colorbar": {
              "outlinewidth": 0,
              "ticks": ""
             }
            },
            "type": "scattergeo"
           }
          ],
          "scattergl": [
           {
            "marker": {
             "colorbar": {
              "outlinewidth": 0,
              "ticks": ""
             }
            },
            "type": "scattergl"
           }
          ],
          "scattermap": [
           {
            "marker": {
             "colorbar": {
              "outlinewidth": 0,
              "ticks": ""
             }
            },
            "type": "scattermap"
           }
          ],
          "scattermapbox": [
           {
            "marker": {
             "colorbar": {
              "outlinewidth": 0,
              "ticks": ""
             }
            },
            "type": "scattermapbox"
           }
          ],
          "scatterpolar": [
           {
            "marker": {
             "colorbar": {
              "outlinewidth": 0,
              "ticks": ""
             }
            },
            "type": "scatterpolar"
           }
          ],
          "scatterpolargl": [
           {
            "marker": {
             "colorbar": {
              "outlinewidth": 0,
              "ticks": ""
             }
            },
            "type": "scatterpolargl"
           }
          ],
          "scatterternary": [
           {
            "marker": {
             "colorbar": {
              "outlinewidth": 0,
              "ticks": ""
             }
            },
            "type": "scatterternary"
           }
          ],
          "surface": [
           {
            "colorbar": {
             "outlinewidth": 0,
             "ticks": ""
            },
            "colorscale": [
             [
              0,
              "#0d0887"
             ],
             [
              0.1111111111111111,
              "#46039f"
             ],
             [
              0.2222222222222222,
              "#7201a8"
             ],
             [
              0.3333333333333333,
              "#9c179e"
             ],
             [
              0.4444444444444444,
              "#bd3786"
             ],
             [
              0.5555555555555556,
              "#d8576b"
             ],
             [
              0.6666666666666666,
              "#ed7953"
             ],
             [
              0.7777777777777778,
              "#fb9f3a"
             ],
             [
              0.8888888888888888,
              "#fdca26"
             ],
             [
              1,
              "#f0f921"
             ]
            ],
            "type": "surface"
           }
          ],
          "table": [
           {
            "cells": {
             "fill": {
              "color": "#EBF0F8"
             },
             "line": {
              "color": "white"
             }
            },
            "header": {
             "fill": {
              "color": "#C8D4E3"
             },
             "line": {
              "color": "white"
             }
            },
            "type": "table"
           }
          ]
         },
         "layout": {
          "annotationdefaults": {
           "arrowcolor": "#2a3f5f",
           "arrowhead": 0,
           "arrowwidth": 1
          },
          "autotypenumbers": "strict",
          "coloraxis": {
           "colorbar": {
            "outlinewidth": 0,
            "ticks": ""
           }
          },
          "colorscale": {
           "diverging": [
            [
             0,
             "#8e0152"
            ],
            [
             0.1,
             "#c51b7d"
            ],
            [
             0.2,
             "#de77ae"
            ],
            [
             0.3,
             "#f1b6da"
            ],
            [
             0.4,
             "#fde0ef"
            ],
            [
             0.5,
             "#f7f7f7"
            ],
            [
             0.6,
             "#e6f5d0"
            ],
            [
             0.7,
             "#b8e186"
            ],
            [
             0.8,
             "#7fbc41"
            ],
            [
             0.9,
             "#4d9221"
            ],
            [
             1,
             "#276419"
            ]
           ],
           "sequential": [
            [
             0,
             "#0d0887"
            ],
            [
             0.1111111111111111,
             "#46039f"
            ],
            [
             0.2222222222222222,
             "#7201a8"
            ],
            [
             0.3333333333333333,
             "#9c179e"
            ],
            [
             0.4444444444444444,
             "#bd3786"
            ],
            [
             0.5555555555555556,
             "#d8576b"
            ],
            [
             0.6666666666666666,
             "#ed7953"
            ],
            [
             0.7777777777777778,
             "#fb9f3a"
            ],
            [
             0.8888888888888888,
             "#fdca26"
            ],
            [
             1,
             "#f0f921"
            ]
           ],
           "sequentialminus": [
            [
             0,
             "#0d0887"
            ],
            [
             0.1111111111111111,
             "#46039f"
            ],
            [
             0.2222222222222222,
             "#7201a8"
            ],
            [
             0.3333333333333333,
             "#9c179e"
            ],
            [
             0.4444444444444444,
             "#bd3786"
            ],
            [
             0.5555555555555556,
             "#d8576b"
            ],
            [
             0.6666666666666666,
             "#ed7953"
            ],
            [
             0.7777777777777778,
             "#fb9f3a"
            ],
            [
             0.8888888888888888,
             "#fdca26"
            ],
            [
             1,
             "#f0f921"
            ]
           ]
          },
          "colorway": [
           "#636efa",
           "#EF553B",
           "#00cc96",
           "#ab63fa",
           "#FFA15A",
           "#19d3f3",
           "#FF6692",
           "#B6E880",
           "#FF97FF",
           "#FECB52"
          ],
          "font": {
           "color": "#2a3f5f"
          },
          "geo": {
           "bgcolor": "white",
           "lakecolor": "white",
           "landcolor": "#E5ECF6",
           "showlakes": true,
           "showland": true,
           "subunitcolor": "white"
          },
          "hoverlabel": {
           "align": "left"
          },
          "hovermode": "closest",
          "mapbox": {
           "style": "light"
          },
          "paper_bgcolor": "white",
          "plot_bgcolor": "#E5ECF6",
          "polar": {
           "angularaxis": {
            "gridcolor": "white",
            "linecolor": "white",
            "ticks": ""
           },
           "bgcolor": "#E5ECF6",
           "radialaxis": {
            "gridcolor": "white",
            "linecolor": "white",
            "ticks": ""
           }
          },
          "scene": {
           "xaxis": {
            "backgroundcolor": "#E5ECF6",
            "gridcolor": "white",
            "gridwidth": 2,
            "linecolor": "white",
            "showbackground": true,
            "ticks": "",
            "zerolinecolor": "white"
           },
           "yaxis": {
            "backgroundcolor": "#E5ECF6",
            "gridcolor": "white",
            "gridwidth": 2,
            "linecolor": "white",
            "showbackground": true,
            "ticks": "",
            "zerolinecolor": "white"
           },
           "zaxis": {
            "backgroundcolor": "#E5ECF6",
            "gridcolor": "white",
            "gridwidth": 2,
            "linecolor": "white",
            "showbackground": true,
            "ticks": "",
            "zerolinecolor": "white"
           }
          },
          "shapedefaults": {
           "line": {
            "color": "#2a3f5f"
           }
          },
          "ternary": {
           "aaxis": {
            "gridcolor": "white",
            "linecolor": "white",
            "ticks": ""
           },
           "baxis": {
            "gridcolor": "white",
            "linecolor": "white",
            "ticks": ""
           },
           "bgcolor": "#E5ECF6",
           "caxis": {
            "gridcolor": "white",
            "linecolor": "white",
            "ticks": ""
           }
          },
          "title": {
           "x": 0.05
          },
          "xaxis": {
           "automargin": true,
           "gridcolor": "white",
           "linecolor": "white",
           "ticks": "",
           "title": {
            "standoff": 15
           },
           "zerolinecolor": "white",
           "zerolinewidth": 2
          },
          "yaxis": {
           "automargin": true,
           "gridcolor": "white",
           "linecolor": "white",
           "ticks": "",
           "title": {
            "standoff": 15
           },
           "zerolinecolor": "white",
           "zerolinewidth": 2
          }
         }
        },
        "title": {
         "text": "Speed vs Efficiency"
        },
        "xaxis": {
         "anchor": "y",
         "domain": [
          0,
          1
         ],
         "title": {
          "text": "Speed_Over_Ground_knots"
         }
        },
        "yaxis": {
         "anchor": "x",
         "domain": [
          0,
          1
         ],
         "title": {
          "text": "Efficiency (nm/kWh)"
         }
        }
       }
      }
     },
     "metadata": {},
     "output_type": "display_data"
    }
   ],
   "source": [
    "# speed vs efficiency\n",
    "avg_efficiency = df.groupby('Ship_Type')['Efficiency_nm_per_kWh'].mean().reset_index()\n",
    "\n",
    "fig = px.scatter(\n",
    "    df,\n",
    "    x='Speed_Over_Ground_knots',\n",
    "    y='Efficiency_nm_per_kWh',\n",
    "    color='Ship_Type',\n",
    "    title='Speed vs Efficiency',\n",
    "    labels={'Speed_knots': 'Speed (knots)', 'Efficiency_nm_per_kWh': 'Efficiency (nm/kWh)'},\n",
    "    color_continuous_scale='turbo'\n",
    ")\n",
    "fig.show()"
   ]
  },
  {
   "cell_type": "code",
   "execution_count": null,
   "id": "871b04c9",
   "metadata": {},
   "outputs": [
    {
     "data": {
      "application/vnd.plotly.v1+json": {
       "config": {
        "plotlyServerURL": "https://plot.ly"
       },
       "data": [
        {
         "coloraxis": "coloraxis",
         "histfunc": "sum",
         "hovertemplate": "Weather_Condition=%{x}<br>Maintenance_Status=%{y}<br>sum of Efficiency_nm_per_kWh=%{z}<extra></extra>",
         "name": "",
         "type": "histogram2d",
         "x": [
          "Moderate",
          "Rough",
          "Moderate",
          "Moderate",
          "Moderate",
          "Rough",
          "Rough",
          "Moderate",
          "Moderate",
          "Calm",
          "Moderate",
          "Rough",
          "Moderate",
          "Rough",
          "Calm",
          "Rough",
          "Rough",
          "Moderate",
          "Calm",
          "Calm",
          "Rough",
          "Calm",
          "Calm",
          "Moderate",
          "Calm",
          "Rough",
          "Calm",
          "Moderate",
          "Moderate",
          "Calm",
          "Moderate",
          "Calm",
          "Calm",
          "Rough",
          "Calm",
          "Calm",
          "Moderate",
          "Moderate",
          "Calm",
          "Moderate",
          "Moderate",
          "Calm",
          null,
          "Rough",
          "Rough",
          "Calm",
          "Moderate",
          "Moderate",
          "Moderate",
          "Rough",
          "Calm",
          "Calm",
          "Calm",
          "Rough",
          "Moderate",
          "Calm",
          "Moderate",
          "Moderate",
          "Moderate",
          "Calm",
          "Moderate",
          "Rough",
          "Rough",
          "Moderate",
          "Moderate",
          "Calm",
          "Rough",
          "Moderate",
          "Moderate",
          "Moderate",
          "Calm",
          "Rough",
          "Calm",
          "Calm",
          null,
          "Calm",
          "Calm",
          "Rough",
          null,
          "Rough",
          "Moderate",
          "Moderate",
          "Calm",
          "Moderate",
          "Rough",
          "Rough",
          "Rough",
          "Rough",
          "Calm",
          "Moderate",
          null,
          null,
          "Rough",
          "Rough",
          "Moderate",
          "Calm",
          "Moderate",
          "Rough",
          "Calm",
          "Calm",
          "Moderate",
          "Rough",
          "Moderate",
          "Moderate",
          "Calm",
          "Calm",
          "Moderate",
          "Calm",
          "Calm",
          null,
          "Rough",
          "Rough",
          "Calm",
          "Moderate",
          "Moderate",
          "Calm",
          "Rough",
          "Calm",
          "Rough",
          "Rough",
          "Moderate",
          "Rough",
          "Calm",
          "Moderate",
          "Calm",
          "Moderate",
          "Rough",
          "Calm",
          null,
          "Rough",
          "Calm",
          "Moderate",
          "Moderate",
          "Calm",
          "Moderate",
          "Moderate",
          "Moderate",
          "Rough",
          "Moderate",
          "Calm",
          "Calm",
          "Moderate",
          "Calm",
          null,
          "Calm",
          "Moderate",
          "Rough",
          "Moderate",
          "Moderate",
          "Moderate",
          "Calm",
          "Rough",
          "Calm",
          "Calm",
          "Calm",
          "Moderate",
          "Calm",
          "Rough",
          "Moderate",
          "Calm",
          "Rough",
          "Moderate",
          "Rough",
          "Calm",
          "Rough",
          "Calm",
          "Calm",
          "Rough",
          null,
          "Moderate",
          "Moderate",
          "Calm",
          "Moderate",
          "Calm",
          "Rough",
          "Calm",
          "Calm",
          "Rough",
          "Calm",
          "Calm",
          "Calm",
          "Calm",
          "Rough",
          "Moderate",
          "Rough",
          "Rough",
          "Calm",
          "Rough",
          "Moderate",
          "Rough",
          "Rough",
          "Rough",
          "Calm",
          "Rough",
          "Rough",
          "Calm",
          "Rough",
          "Rough",
          "Calm",
          "Moderate",
          "Moderate",
          "Moderate",
          "Rough",
          "Calm",
          "Moderate",
          "Calm",
          "Moderate",
          "Rough",
          null,
          "Rough",
          "Calm",
          "Calm",
          "Moderate",
          "Calm",
          "Moderate",
          null,
          "Moderate",
          "Rough",
          "Rough",
          "Moderate",
          "Calm",
          "Moderate",
          "Rough",
          "Rough",
          "Moderate",
          "Calm",
          "Calm",
          "Calm",
          "Rough",
          "Moderate",
          "Moderate",
          "Rough",
          "Calm",
          "Calm",
          "Rough",
          "Moderate",
          "Rough",
          "Moderate",
          "Rough",
          "Moderate",
          "Moderate",
          "Rough",
          "Moderate",
          "Rough",
          "Calm",
          "Rough",
          "Moderate",
          "Calm",
          "Calm",
          "Calm",
          "Calm",
          "Moderate",
          "Rough",
          "Moderate",
          "Rough",
          "Calm",
          "Rough",
          "Moderate",
          "Moderate",
          "Rough",
          "Calm",
          null,
          "Calm",
          "Moderate",
          "Calm",
          "Rough",
          "Calm",
          "Rough",
          "Calm",
          "Rough",
          "Rough",
          "Moderate",
          "Calm",
          "Moderate",
          "Calm",
          "Rough",
          "Moderate",
          null,
          "Rough",
          "Moderate",
          "Calm",
          "Moderate",
          "Rough",
          "Moderate",
          "Calm",
          "Rough",
          "Rough",
          "Moderate",
          "Moderate",
          "Rough",
          "Calm",
          "Moderate",
          "Rough",
          "Rough",
          "Rough",
          null,
          "Calm",
          "Moderate",
          "Calm",
          "Rough",
          "Moderate",
          "Calm",
          "Moderate",
          "Calm",
          "Rough",
          "Calm",
          "Calm",
          "Moderate",
          "Rough",
          "Rough",
          "Rough",
          "Calm",
          null,
          "Moderate",
          "Calm",
          "Calm",
          "Moderate",
          "Moderate",
          "Moderate",
          "Rough",
          "Calm",
          "Moderate",
          "Rough",
          "Rough",
          "Rough",
          "Calm",
          "Calm",
          "Rough",
          "Calm",
          "Moderate",
          "Rough",
          "Moderate",
          null,
          "Calm",
          "Rough",
          "Moderate",
          "Moderate",
          null,
          "Moderate",
          "Moderate",
          "Rough",
          "Rough",
          "Moderate",
          "Calm",
          "Rough",
          "Moderate",
          "Rough",
          "Moderate",
          "Moderate",
          "Rough",
          "Moderate",
          "Moderate",
          "Moderate",
          "Moderate",
          "Rough",
          "Moderate",
          "Rough",
          "Moderate",
          "Calm",
          "Calm",
          "Rough",
          "Calm",
          "Moderate",
          "Moderate",
          "Moderate",
          "Rough",
          "Rough",
          "Calm",
          "Rough",
          "Rough",
          "Moderate",
          "Moderate",
          null,
          null,
          "Calm",
          "Rough",
          "Moderate",
          "Calm",
          "Moderate",
          "Moderate",
          "Moderate",
          "Rough",
          "Rough",
          "Moderate",
          "Rough",
          "Moderate",
          "Moderate",
          "Moderate",
          "Moderate",
          "Calm",
          null,
          "Calm",
          "Calm",
          "Calm",
          "Calm",
          "Moderate",
          "Moderate",
          "Moderate",
          null,
          "Moderate",
          "Calm",
          "Moderate",
          "Moderate",
          "Moderate",
          "Calm",
          "Rough",
          "Rough",
          "Moderate",
          "Rough",
          "Rough",
          "Calm",
          "Moderate",
          "Calm",
          "Calm",
          "Rough",
          "Rough",
          "Rough",
          "Rough",
          null,
          "Rough",
          "Moderate",
          null,
          "Rough",
          null,
          "Calm",
          null,
          "Calm",
          "Rough",
          "Calm",
          "Rough",
          "Calm",
          "Calm",
          "Moderate",
          "Rough",
          "Rough",
          "Calm",
          "Rough",
          "Calm",
          "Moderate",
          "Calm",
          "Calm",
          "Moderate",
          null,
          "Moderate",
          "Moderate",
          "Calm",
          "Moderate",
          "Moderate",
          "Calm",
          "Moderate",
          "Rough",
          "Calm",
          "Moderate",
          "Calm",
          "Moderate",
          "Calm",
          "Calm",
          null,
          "Moderate",
          "Moderate",
          "Moderate",
          "Rough",
          "Calm",
          "Calm",
          "Calm",
          "Rough",
          "Moderate",
          "Rough",
          "Calm",
          "Calm",
          "Rough",
          "Moderate",
          "Rough",
          "Rough",
          "Moderate",
          "Calm",
          "Moderate",
          "Moderate",
          "Rough",
          "Moderate",
          null,
          "Rough",
          "Calm",
          "Calm",
          "Rough",
          "Calm",
          "Moderate",
          "Rough",
          "Calm",
          null,
          "Moderate",
          "Rough",
          "Rough",
          null,
          "Calm",
          "Calm",
          "Calm",
          "Rough",
          "Moderate",
          "Moderate",
          "Rough",
          "Rough",
          "Moderate",
          "Calm",
          "Calm",
          "Calm",
          "Moderate",
          "Rough",
          "Calm",
          "Moderate",
          "Calm",
          "Rough",
          "Rough",
          "Moderate",
          "Rough",
          "Rough",
          "Rough",
          "Calm",
          "Rough",
          null,
          "Calm",
          "Calm",
          "Rough",
          "Rough",
          "Rough",
          "Rough",
          "Moderate",
          "Calm",
          "Moderate",
          "Rough",
          "Calm",
          "Calm",
          "Calm",
          "Rough",
          "Moderate",
          "Rough",
          "Calm",
          "Rough",
          "Moderate",
          "Moderate",
          "Calm",
          null,
          null,
          "Calm",
          "Calm",
          "Moderate",
          "Moderate",
          "Rough",
          null,
          "Calm",
          "Calm",
          "Rough",
          "Calm",
          "Calm",
          "Calm",
          "Moderate",
          null,
          null,
          "Rough",
          "Calm",
          "Rough",
          "Moderate",
          "Calm",
          "Moderate",
          "Rough",
          "Calm",
          "Rough",
          null,
          "Rough",
          "Rough",
          "Calm",
          "Calm",
          "Rough",
          "Calm",
          "Calm",
          "Calm",
          "Rough",
          "Calm",
          "Calm",
          "Rough",
          "Rough",
          null,
          "Moderate",
          "Moderate",
          "Moderate",
          "Rough",
          "Rough",
          "Moderate",
          "Calm",
          "Calm",
          "Moderate",
          "Calm",
          "Calm",
          "Rough",
          "Calm",
          "Moderate",
          "Moderate",
          "Moderate",
          "Moderate",
          "Calm",
          "Moderate",
          "Rough",
          "Calm",
          "Moderate",
          "Calm",
          "Moderate",
          "Moderate",
          "Calm",
          "Moderate",
          "Moderate",
          "Moderate",
          "Calm",
          "Rough",
          "Calm",
          "Rough",
          "Calm",
          "Calm",
          "Moderate",
          "Moderate",
          null,
          "Rough",
          null,
          "Rough",
          "Rough",
          "Moderate",
          "Calm",
          "Calm",
          null,
          "Moderate",
          "Moderate",
          null,
          "Moderate",
          "Moderate",
          "Rough",
          "Calm",
          "Rough",
          "Moderate",
          "Rough",
          "Moderate",
          "Calm",
          null,
          "Rough",
          "Calm",
          "Moderate",
          "Calm",
          "Moderate",
          "Moderate",
          "Moderate",
          "Calm",
          "Rough",
          "Rough",
          "Moderate",
          "Calm",
          "Calm",
          "Rough",
          "Calm",
          null,
          "Moderate",
          "Calm",
          "Moderate",
          "Moderate",
          "Rough",
          "Rough",
          "Calm",
          "Moderate",
          "Rough",
          "Rough",
          "Moderate",
          "Rough",
          "Moderate",
          "Rough",
          "Moderate",
          "Calm",
          "Moderate",
          "Rough",
          "Rough",
          "Moderate",
          "Moderate",
          "Calm",
          "Rough",
          "Rough",
          "Calm",
          "Moderate",
          "Moderate",
          "Calm",
          "Moderate",
          "Rough",
          "Rough",
          "Calm",
          "Rough",
          "Rough",
          "Rough",
          "Calm",
          "Calm",
          "Moderate",
          "Calm",
          "Moderate",
          "Calm",
          "Calm",
          "Calm",
          "Moderate",
          "Moderate",
          "Moderate",
          "Moderate",
          "Rough",
          "Moderate",
          "Calm",
          "Rough",
          "Calm",
          "Rough",
          "Rough",
          "Calm",
          "Rough",
          "Rough",
          "Rough",
          "Rough",
          "Calm",
          "Moderate",
          "Calm",
          "Moderate",
          "Calm",
          "Calm",
          "Moderate",
          null,
          "Moderate",
          "Rough",
          "Moderate",
          "Calm",
          "Calm",
          "Calm",
          "Rough",
          "Rough",
          "Calm",
          "Calm",
          "Rough",
          "Calm",
          "Calm",
          "Rough",
          "Moderate",
          "Calm",
          "Calm",
          "Moderate",
          "Rough",
          "Moderate",
          null,
          "Moderate",
          "Rough",
          "Moderate",
          "Rough",
          "Calm",
          "Moderate",
          "Rough",
          "Calm",
          "Moderate",
          "Calm",
          "Rough",
          "Rough",
          "Rough",
          "Rough",
          "Calm",
          "Moderate",
          "Calm",
          "Moderate",
          "Moderate",
          null,
          "Moderate",
          "Moderate",
          "Calm",
          "Calm",
          "Rough",
          "Moderate",
          "Calm",
          "Rough",
          "Moderate",
          "Rough",
          "Moderate",
          "Rough",
          "Rough",
          "Moderate",
          "Rough",
          "Rough",
          "Rough",
          "Calm",
          "Rough",
          "Moderate",
          "Rough",
          "Rough",
          "Calm",
          "Calm",
          "Rough",
          "Moderate",
          "Moderate",
          "Moderate",
          "Moderate",
          null,
          "Rough",
          "Moderate",
          "Calm",
          "Calm",
          "Rough",
          "Calm",
          "Calm",
          "Moderate",
          "Calm",
          "Rough",
          "Rough",
          "Moderate",
          "Calm",
          "Rough",
          "Calm",
          "Calm",
          "Moderate",
          null,
          "Moderate",
          "Moderate",
          "Moderate",
          "Moderate",
          "Rough",
          "Calm",
          "Calm",
          "Rough",
          "Rough",
          "Moderate",
          "Moderate",
          "Moderate",
          "Moderate",
          null,
          "Moderate",
          "Rough",
          "Moderate",
          "Calm",
          "Calm",
          "Rough",
          "Rough",
          "Calm",
          "Moderate",
          "Moderate",
          "Moderate",
          "Rough",
          "Moderate",
          "Calm",
          "Moderate",
          "Calm",
          "Rough",
          "Rough",
          "Moderate",
          "Moderate",
          "Moderate",
          "Calm",
          "Rough",
          "Calm",
          "Calm",
          "Calm",
          "Calm",
          "Calm",
          "Moderate",
          "Moderate",
          "Moderate",
          "Moderate",
          "Calm",
          "Calm",
          "Moderate",
          "Rough",
          "Calm",
          "Moderate",
          "Calm",
          "Rough",
          "Rough",
          "Rough",
          "Moderate",
          "Moderate",
          "Moderate",
          "Rough",
          "Rough",
          "Rough",
          "Rough",
          "Calm",
          "Moderate",
          "Rough",
          "Rough",
          "Rough",
          "Rough",
          null,
          null,
          "Moderate",
          "Moderate",
          "Calm",
          "Moderate",
          "Moderate",
          "Moderate",
          "Moderate",
          "Moderate",
          "Moderate",
          "Rough",
          "Calm",
          "Rough",
          "Rough",
          "Rough",
          "Calm",
          "Rough",
          "Rough",
          "Calm",
          "Calm",
          null,
          "Moderate",
          "Calm",
          "Calm",
          "Calm",
          "Moderate",
          "Moderate",
          "Calm",
          "Calm",
          "Calm",
          "Calm",
          "Moderate",
          null,
          "Moderate",
          "Rough",
          "Rough",
          "Rough",
          "Rough",
          "Moderate",
          "Calm",
          "Rough",
          "Rough",
          "Rough",
          "Calm",
          "Calm",
          "Moderate",
          "Calm",
          "Calm",
          "Moderate",
          null,
          "Moderate",
          "Calm",
          "Rough",
          "Calm",
          "Calm",
          "Calm",
          "Calm",
          "Rough",
          "Moderate",
          "Moderate",
          "Rough",
          "Calm",
          "Calm",
          "Rough",
          "Moderate",
          "Calm",
          "Moderate",
          "Calm",
          "Calm",
          "Moderate",
          "Moderate",
          "Calm",
          "Moderate",
          null,
          "Calm",
          "Rough",
          null,
          "Calm",
          "Calm",
          "Moderate",
          "Rough",
          "Calm",
          "Moderate",
          "Rough",
          "Rough",
          "Rough",
          null,
          "Calm",
          "Calm",
          "Moderate",
          "Calm",
          "Calm",
          "Rough",
          "Calm",
          "Moderate",
          null,
          "Rough",
          "Rough",
          "Moderate",
          "Moderate",
          "Moderate",
          "Moderate",
          "Calm",
          "Calm",
          "Calm",
          "Moderate",
          "Calm",
          "Calm",
          "Calm",
          "Calm",
          "Rough",
          "Calm",
          "Calm",
          "Calm",
          "Calm",
          "Rough",
          "Moderate",
          "Rough",
          "Rough",
          "Moderate",
          "Calm",
          "Calm",
          "Calm",
          "Moderate",
          "Rough",
          "Moderate",
          "Rough",
          "Moderate",
          "Calm",
          "Calm",
          null,
          "Moderate",
          "Moderate",
          "Calm",
          "Calm",
          "Calm",
          "Moderate",
          "Moderate",
          "Rough",
          "Rough",
          "Moderate",
          "Rough",
          "Calm",
          "Moderate",
          "Calm",
          "Rough",
          "Moderate",
          "Moderate",
          "Rough",
          "Rough",
          "Moderate",
          "Calm",
          "Rough",
          "Calm",
          null,
          "Moderate",
          "Calm",
          "Moderate",
          "Calm",
          "Moderate",
          "Rough",
          "Rough",
          "Moderate",
          "Calm",
          "Calm",
          "Moderate",
          "Moderate",
          "Calm",
          "Rough",
          "Calm",
          "Calm",
          "Rough",
          "Calm",
          "Moderate",
          "Calm",
          "Moderate",
          "Calm",
          "Moderate",
          "Calm",
          "Calm",
          "Rough",
          "Calm",
          "Moderate",
          "Calm",
          "Calm",
          "Moderate",
          "Rough",
          "Rough",
          "Moderate",
          "Calm",
          null,
          null,
          "Calm",
          "Moderate",
          "Calm",
          "Moderate",
          "Moderate",
          "Calm",
          "Calm",
          "Calm",
          "Rough",
          "Rough",
          "Rough",
          "Rough",
          "Rough",
          "Calm",
          "Moderate",
          "Calm",
          "Moderate",
          "Calm",
          "Calm",
          "Rough",
          "Rough",
          "Rough",
          "Rough",
          "Rough",
          "Rough",
          "Moderate",
          "Moderate",
          "Rough",
          "Calm",
          "Moderate",
          "Rough",
          "Calm",
          "Rough",
          "Rough",
          "Moderate",
          "Calm",
          "Rough",
          "Rough",
          "Calm",
          "Moderate",
          "Moderate",
          "Rough",
          "Calm",
          "Calm",
          "Rough",
          "Rough",
          "Calm",
          "Rough",
          "Rough",
          "Rough",
          "Calm",
          "Moderate",
          "Rough",
          "Moderate",
          "Calm",
          "Moderate",
          "Moderate",
          "Moderate",
          null,
          null,
          "Calm",
          "Calm",
          "Rough",
          null,
          "Calm",
          "Calm",
          "Calm",
          "Rough",
          "Moderate",
          "Rough",
          "Calm",
          "Calm",
          "Moderate",
          "Calm",
          null,
          "Calm",
          "Rough",
          "Moderate",
          "Calm",
          "Moderate",
          "Calm",
          "Moderate",
          "Rough",
          "Calm",
          "Rough",
          "Moderate",
          "Calm",
          "Rough",
          "Rough",
          "Moderate",
          "Calm",
          "Rough",
          "Moderate",
          "Calm",
          "Rough",
          "Rough",
          "Moderate",
          "Moderate",
          "Rough",
          "Rough",
          "Calm",
          null,
          "Calm",
          "Moderate",
          "Moderate",
          "Calm",
          "Rough",
          "Calm",
          "Calm",
          "Moderate",
          "Rough",
          "Moderate",
          "Rough",
          "Calm",
          "Calm",
          "Moderate",
          "Moderate",
          "Calm",
          "Calm",
          "Moderate",
          "Rough",
          "Rough",
          "Rough",
          "Rough",
          "Moderate",
          "Rough",
          "Moderate",
          "Rough",
          "Moderate",
          "Calm",
          "Rough",
          "Calm",
          "Rough",
          "Rough",
          "Moderate",
          "Moderate",
          "Rough",
          "Moderate",
          "Moderate",
          "Calm",
          "Rough",
          "Calm",
          "Moderate",
          "Calm",
          "Rough",
          "Calm",
          "Moderate",
          "Rough",
          "Rough",
          "Calm",
          "Moderate",
          "Moderate",
          "Calm",
          "Moderate",
          "Calm",
          "Rough",
          "Moderate",
          "Rough",
          "Moderate",
          "Rough",
          "Moderate",
          "Moderate",
          "Rough",
          "Rough",
          "Rough",
          "Moderate",
          "Calm",
          "Calm",
          "Moderate",
          "Calm",
          "Calm",
          "Moderate",
          "Moderate",
          "Rough",
          "Rough",
          "Rough",
          "Rough",
          "Rough",
          "Rough",
          "Calm",
          "Moderate",
          "Calm",
          "Moderate",
          "Moderate",
          "Moderate",
          "Moderate",
          "Moderate",
          "Calm",
          "Rough",
          "Calm",
          "Calm",
          "Calm",
          "Calm",
          "Rough",
          "Moderate",
          null,
          "Calm",
          "Moderate",
          "Moderate",
          "Rough",
          "Calm",
          "Calm",
          "Rough",
          "Rough",
          null,
          "Rough",
          "Calm",
          "Calm",
          "Moderate",
          "Calm",
          "Calm",
          "Calm",
          "Rough",
          "Moderate",
          "Calm",
          "Calm",
          "Moderate",
          "Rough",
          "Calm",
          "Moderate",
          "Moderate",
          "Calm",
          "Moderate",
          "Moderate",
          "Moderate",
          "Rough",
          "Calm",
          "Moderate",
          null,
          "Moderate",
          "Calm",
          "Rough",
          "Rough",
          "Rough",
          "Moderate",
          "Moderate",
          "Rough",
          "Rough",
          "Moderate",
          "Moderate",
          "Moderate",
          "Calm",
          "Moderate",
          "Calm",
          "Calm",
          "Moderate",
          "Calm",
          "Calm",
          "Moderate",
          "Rough",
          "Calm",
          "Rough",
          null,
          "Rough",
          "Calm",
          "Calm",
          "Calm",
          "Calm",
          "Calm",
          "Rough",
          "Calm",
          "Moderate",
          "Calm",
          "Calm",
          "Moderate",
          "Moderate",
          "Moderate",
          "Moderate",
          "Moderate",
          "Calm",
          "Calm",
          "Moderate",
          "Moderate",
          "Moderate",
          "Moderate",
          "Calm",
          "Rough",
          "Moderate",
          "Calm",
          "Calm",
          null,
          "Rough",
          "Calm",
          "Rough",
          "Calm",
          "Moderate",
          "Calm",
          "Moderate",
          "Moderate",
          "Calm",
          "Moderate",
          null,
          "Rough",
          "Calm",
          "Rough",
          "Calm",
          "Moderate",
          "Rough",
          "Moderate",
          "Moderate",
          "Rough",
          "Calm",
          "Moderate",
          "Moderate",
          "Calm",
          "Moderate",
          "Calm",
          "Calm",
          "Moderate",
          "Calm",
          "Rough",
          "Rough",
          "Calm",
          "Rough",
          "Calm",
          "Rough",
          "Moderate",
          "Rough",
          "Rough",
          "Moderate",
          null,
          "Moderate",
          "Rough",
          "Rough",
          "Calm",
          "Calm",
          "Moderate",
          "Rough",
          "Moderate",
          "Moderate",
          "Moderate",
          "Moderate",
          null,
          "Calm",
          "Calm",
          "Moderate",
          "Calm",
          "Rough",
          "Rough",
          "Moderate",
          "Rough",
          "Calm",
          "Moderate",
          "Moderate",
          "Moderate",
          "Moderate",
          "Rough",
          "Rough",
          "Calm",
          "Calm",
          "Rough",
          "Calm",
          "Rough",
          "Calm",
          "Rough",
          "Moderate",
          "Calm",
          "Moderate",
          "Moderate",
          "Calm",
          "Moderate",
          "Moderate",
          "Rough",
          "Rough",
          "Rough",
          null,
          "Rough",
          "Calm",
          "Moderate",
          "Calm",
          "Rough",
          "Rough",
          "Calm",
          "Calm",
          "Rough",
          "Moderate",
          "Moderate",
          "Moderate",
          "Rough",
          "Calm",
          null,
          "Calm",
          "Calm",
          null,
          "Calm",
          "Rough",
          "Rough",
          "Rough",
          "Rough",
          "Rough",
          "Rough",
          "Moderate",
          "Moderate",
          "Calm",
          "Calm",
          "Rough",
          "Moderate",
          "Moderate",
          "Rough",
          "Moderate",
          "Calm",
          "Rough",
          "Moderate",
          "Moderate",
          "Calm",
          "Rough",
          "Calm",
          "Moderate",
          "Calm",
          "Calm",
          "Moderate",
          "Calm",
          null,
          "Calm",
          "Calm",
          "Rough",
          "Moderate",
          "Moderate",
          "Calm",
          null,
          "Calm",
          "Calm",
          "Moderate",
          "Rough",
          "Moderate",
          "Rough",
          null,
          "Calm",
          "Moderate",
          "Moderate",
          "Rough",
          "Moderate",
          "Moderate",
          "Rough",
          "Rough",
          "Rough",
          "Calm",
          "Calm",
          "Moderate",
          "Moderate",
          "Rough",
          "Moderate",
          "Calm",
          "Rough",
          "Moderate",
          "Moderate",
          "Calm",
          "Moderate",
          "Calm",
          "Rough",
          "Calm",
          "Moderate",
          "Calm",
          "Rough",
          "Calm",
          null,
          "Rough",
          "Moderate",
          "Calm",
          "Rough",
          "Moderate",
          "Rough",
          "Rough",
          "Calm",
          "Moderate",
          "Moderate",
          "Rough",
          "Calm",
          "Rough",
          "Calm",
          "Rough",
          "Rough",
          "Rough",
          "Moderate",
          "Calm",
          "Rough",
          "Calm",
          "Calm",
          "Moderate",
          "Calm",
          "Calm",
          "Moderate",
          "Moderate",
          "Calm",
          "Moderate",
          "Moderate",
          "Moderate",
          "Rough",
          "Calm",
          "Rough",
          "Calm",
          "Calm",
          "Rough",
          "Moderate",
          "Rough",
          "Calm",
          "Rough",
          "Moderate",
          "Rough",
          "Moderate",
          "Moderate",
          "Rough",
          null,
          "Moderate",
          "Rough",
          "Calm",
          "Moderate",
          "Rough",
          "Rough",
          "Moderate",
          "Calm",
          "Moderate",
          "Calm",
          "Calm",
          "Moderate",
          "Calm",
          "Calm",
          "Rough",
          "Moderate",
          "Rough",
          "Rough",
          "Moderate",
          "Calm",
          "Moderate",
          "Calm",
          "Calm",
          "Moderate",
          "Moderate",
          "Calm",
          "Rough",
          "Calm",
          "Rough",
          "Calm",
          "Moderate",
          "Calm",
          "Calm",
          "Moderate",
          "Moderate",
          "Rough",
          "Calm",
          "Rough",
          "Rough",
          "Rough",
          "Moderate",
          "Calm",
          "Rough",
          "Rough",
          "Rough",
          "Moderate",
          "Moderate",
          "Calm",
          "Moderate",
          "Rough",
          "Moderate",
          "Moderate",
          "Moderate",
          "Rough",
          "Rough",
          "Calm",
          null,
          "Rough",
          "Moderate",
          "Calm",
          "Moderate",
          "Rough",
          "Moderate",
          "Calm",
          "Calm",
          "Moderate",
          "Rough",
          "Moderate",
          "Calm",
          "Calm",
          "Rough",
          "Calm",
          "Rough",
          "Rough",
          "Calm",
          "Calm",
          "Moderate",
          "Moderate",
          "Rough",
          "Calm",
          "Calm",
          "Calm",
          "Rough",
          "Calm",
          "Rough",
          "Calm",
          "Moderate",
          null,
          "Rough",
          "Rough",
          null,
          "Moderate",
          "Calm",
          "Calm",
          "Rough",
          "Calm",
          "Rough",
          "Calm",
          "Calm",
          "Rough",
          "Rough",
          "Rough",
          "Rough",
          "Calm",
          "Calm",
          "Moderate",
          "Moderate",
          "Calm",
          "Moderate",
          "Calm",
          "Calm",
          "Calm",
          "Rough",
          "Calm",
          "Rough",
          null,
          "Rough",
          "Rough",
          "Calm",
          "Moderate",
          "Rough",
          "Rough",
          "Calm",
          "Moderate",
          "Moderate",
          "Calm",
          "Moderate",
          "Calm",
          null,
          "Calm",
          "Rough",
          "Rough",
          "Calm",
          "Moderate",
          "Rough",
          "Rough",
          "Calm",
          "Rough",
          "Calm",
          "Moderate",
          "Rough",
          "Rough",
          "Rough",
          "Moderate",
          "Moderate",
          "Moderate",
          "Moderate",
          null,
          "Calm",
          "Calm",
          "Moderate",
          "Calm",
          "Rough",
          "Calm",
          "Moderate",
          "Calm",
          "Moderate",
          "Calm",
          "Rough",
          null,
          "Rough",
          "Moderate",
          "Rough",
          "Moderate",
          "Calm",
          "Moderate",
          "Rough",
          "Rough",
          "Calm",
          "Calm",
          "Calm",
          "Rough",
          "Calm",
          "Moderate",
          "Moderate",
          "Moderate",
          "Rough",
          "Moderate",
          "Calm",
          "Calm",
          "Moderate",
          "Calm",
          "Calm",
          "Rough",
          "Moderate",
          "Calm",
          "Rough",
          "Moderate",
          "Moderate",
          "Rough",
          "Calm",
          "Rough",
          "Calm",
          "Calm",
          "Calm",
          "Moderate",
          "Moderate",
          "Calm",
          "Rough",
          "Rough",
          "Moderate",
          "Calm",
          "Rough",
          "Rough",
          "Moderate",
          "Moderate",
          "Calm",
          "Moderate",
          "Moderate",
          "Moderate",
          "Rough",
          "Moderate",
          "Moderate",
          null,
          "Calm",
          "Moderate",
          "Moderate",
          "Calm",
          "Calm",
          "Rough",
          "Rough",
          "Moderate",
          "Moderate",
          "Calm",
          "Moderate",
          "Moderate",
          "Moderate",
          "Rough",
          null,
          "Calm",
          "Rough",
          "Moderate",
          "Moderate",
          "Rough",
          null,
          "Calm",
          "Calm",
          "Rough",
          "Moderate",
          "Calm",
          "Moderate",
          "Moderate",
          "Rough",
          "Calm",
          "Calm",
          "Calm",
          null,
          "Moderate",
          "Moderate",
          "Calm",
          null,
          "Calm",
          "Rough",
          "Calm",
          "Rough",
          "Rough",
          "Rough",
          "Moderate",
          "Calm",
          "Moderate",
          null,
          "Rough",
          "Rough",
          "Calm",
          "Calm",
          "Moderate",
          "Rough",
          "Moderate",
          "Rough",
          "Calm",
          "Moderate",
          "Moderate",
          "Rough",
          "Rough",
          "Rough",
          "Rough",
          "Calm",
          "Rough",
          "Rough",
          "Rough",
          "Rough",
          "Moderate",
          "Moderate",
          "Moderate",
          "Calm",
          "Moderate",
          "Moderate",
          "Rough",
          null,
          "Moderate",
          "Calm",
          "Moderate",
          "Rough",
          "Calm",
          "Calm",
          null,
          "Rough",
          "Rough",
          "Rough",
          "Calm",
          "Calm",
          "Calm",
          "Moderate",
          "Calm",
          "Rough",
          "Rough",
          "Rough",
          "Rough",
          "Rough",
          "Rough",
          "Calm",
          "Moderate",
          "Calm",
          "Calm",
          "Moderate",
          null,
          "Rough",
          "Rough",
          null,
          "Rough",
          "Rough",
          "Moderate",
          "Rough",
          "Calm",
          "Rough",
          null,
          "Moderate",
          "Calm",
          "Calm",
          "Calm",
          "Rough",
          "Calm",
          "Moderate",
          "Calm",
          "Moderate",
          "Calm",
          "Rough",
          "Rough",
          "Rough",
          "Rough",
          "Rough",
          "Calm",
          "Moderate",
          "Rough",
          "Calm",
          "Calm",
          "Moderate",
          "Calm",
          "Calm",
          "Rough",
          "Rough",
          "Calm",
          "Rough",
          "Rough",
          "Rough",
          "Rough",
          "Calm",
          "Moderate",
          "Rough",
          "Calm",
          "Moderate",
          "Rough",
          "Rough",
          "Moderate",
          "Calm",
          "Moderate",
          "Rough",
          "Moderate",
          "Calm",
          "Rough",
          "Moderate",
          "Rough",
          "Calm",
          "Calm",
          "Moderate",
          "Moderate",
          "Moderate",
          "Moderate",
          "Rough",
          "Rough",
          "Moderate",
          "Moderate",
          "Calm",
          "Rough",
          "Calm",
          "Rough",
          "Moderate",
          "Calm",
          "Calm",
          "Moderate",
          "Moderate",
          "Rough",
          "Rough",
          "Moderate",
          null,
          "Rough",
          "Rough",
          "Moderate",
          "Calm",
          "Calm",
          "Moderate",
          "Moderate",
          "Calm",
          "Rough",
          "Calm",
          "Rough",
          "Calm",
          "Moderate",
          "Moderate",
          "Moderate",
          "Rough",
          "Moderate",
          "Calm",
          "Rough",
          "Moderate",
          "Rough",
          "Moderate",
          "Calm",
          "Calm",
          "Calm",
          "Calm",
          "Moderate",
          "Calm",
          "Rough",
          "Calm",
          null,
          "Rough",
          "Calm",
          "Moderate",
          "Moderate",
          "Calm",
          "Moderate",
          "Moderate",
          "Calm",
          "Rough",
          "Calm",
          "Moderate",
          "Moderate",
          "Calm",
          "Moderate",
          "Rough",
          "Moderate",
          "Moderate",
          "Moderate",
          "Rough",
          "Calm",
          null,
          "Moderate",
          null,
          "Rough",
          "Rough",
          "Moderate",
          "Calm",
          "Calm",
          "Calm",
          "Calm",
          "Rough",
          "Calm",
          "Rough",
          "Calm",
          "Calm",
          "Calm",
          "Rough",
          "Rough",
          "Moderate",
          "Rough",
          "Moderate",
          "Moderate",
          "Rough",
          "Moderate",
          "Calm",
          "Calm",
          "Rough",
          "Rough",
          "Calm",
          "Moderate",
          "Calm",
          "Moderate",
          "Calm",
          "Moderate",
          "Moderate",
          "Rough",
          "Rough",
          "Rough",
          "Moderate",
          "Calm",
          "Moderate",
          "Moderate",
          "Calm",
          "Calm",
          "Moderate",
          "Calm",
          "Rough",
          "Rough",
          null,
          "Rough",
          "Moderate",
          "Moderate",
          "Moderate",
          "Moderate",
          "Rough",
          "Calm",
          "Rough",
          "Moderate",
          "Moderate",
          "Rough",
          "Calm",
          "Moderate",
          "Moderate",
          "Rough",
          "Calm",
          "Rough",
          "Rough",
          "Rough",
          "Rough",
          "Moderate",
          "Calm",
          "Moderate",
          "Rough",
          "Calm",
          "Calm",
          "Calm",
          "Calm",
          "Rough",
          "Rough",
          "Calm",
          "Calm",
          "Moderate",
          "Moderate",
          "Calm",
          "Moderate",
          "Moderate",
          "Moderate",
          "Moderate",
          "Calm",
          "Rough",
          "Moderate",
          "Moderate",
          "Moderate",
          "Calm",
          "Calm",
          "Calm",
          "Calm",
          "Moderate",
          "Moderate",
          "Moderate",
          "Calm",
          "Calm",
          "Calm",
          "Calm",
          "Rough",
          "Moderate",
          "Rough",
          "Moderate",
          "Calm",
          null,
          "Calm",
          "Calm",
          "Moderate",
          "Moderate",
          "Moderate",
          "Moderate",
          "Moderate",
          "Moderate",
          "Moderate",
          "Calm",
          "Calm",
          "Moderate",
          "Calm",
          "Moderate",
          "Rough",
          "Calm",
          "Calm",
          "Calm",
          "Rough",
          "Moderate",
          "Rough",
          "Moderate",
          "Moderate",
          "Rough",
          "Rough",
          "Rough",
          "Moderate",
          "Moderate",
          "Rough",
          "Moderate",
          null,
          "Rough",
          "Moderate",
          "Rough",
          "Rough",
          "Moderate",
          "Moderate",
          "Moderate",
          "Moderate",
          "Rough",
          "Calm",
          "Calm",
          "Calm",
          "Moderate",
          "Moderate",
          "Rough",
          "Calm",
          "Calm",
          "Rough",
          "Moderate",
          "Calm",
          "Moderate",
          "Rough",
          "Moderate",
          "Calm",
          "Rough",
          "Rough",
          "Calm",
          "Rough",
          null,
          "Rough",
          "Rough",
          "Moderate",
          "Moderate",
          "Rough",
          "Calm",
          "Calm",
          "Moderate",
          "Calm",
          "Calm",
          "Moderate",
          "Rough",
          "Rough",
          "Moderate",
          "Rough",
          "Rough",
          "Calm",
          null,
          "Moderate",
          "Calm",
          "Rough",
          "Calm",
          "Rough",
          "Moderate",
          "Calm",
          "Moderate",
          "Moderate",
          "Calm",
          "Moderate",
          "Rough",
          "Calm",
          "Calm",
          "Calm",
          "Rough",
          "Moderate",
          "Calm",
          "Moderate",
          "Calm",
          "Moderate",
          "Calm",
          "Moderate",
          "Rough",
          "Rough",
          "Rough",
          "Calm",
          "Calm",
          "Calm",
          "Calm",
          null,
          "Calm",
          "Rough",
          "Moderate",
          "Moderate",
          "Calm",
          "Rough",
          "Moderate",
          "Moderate",
          "Rough",
          "Rough",
          "Rough",
          "Rough",
          "Calm",
          "Calm",
          "Calm",
          "Rough",
          "Moderate",
          "Rough",
          "Moderate",
          "Calm",
          "Moderate",
          "Rough",
          "Rough",
          "Rough",
          "Rough",
          "Moderate",
          "Moderate",
          "Rough",
          "Calm",
          "Moderate",
          "Calm",
          "Calm",
          "Rough",
          "Moderate",
          "Calm",
          "Moderate",
          "Moderate",
          "Calm",
          "Calm",
          "Moderate",
          "Calm",
          "Calm",
          "Moderate",
          "Calm",
          "Moderate",
          "Rough",
          "Calm",
          "Calm",
          "Calm",
          "Calm",
          "Rough",
          "Calm",
          "Moderate",
          "Moderate",
          "Rough",
          "Rough",
          "Moderate",
          "Rough",
          null,
          "Rough",
          "Rough",
          "Calm",
          "Calm",
          "Moderate",
          "Rough",
          "Rough",
          "Moderate",
          "Rough",
          "Rough",
          "Moderate",
          "Rough",
          null,
          "Calm",
          "Moderate",
          "Rough",
          "Moderate",
          "Moderate",
          "Moderate",
          "Rough",
          "Moderate",
          "Moderate",
          "Moderate",
          "Moderate",
          "Calm",
          "Rough",
          "Moderate",
          "Rough",
          "Moderate",
          "Rough",
          "Calm",
          "Rough",
          "Calm",
          "Moderate",
          "Calm",
          "Moderate",
          "Calm",
          "Calm",
          "Calm",
          "Moderate",
          "Rough",
          "Calm",
          "Rough",
          "Moderate",
          "Calm",
          "Rough",
          "Moderate",
          "Rough",
          "Moderate",
          "Rough",
          "Moderate",
          "Calm",
          "Moderate",
          "Calm",
          "Moderate",
          "Calm",
          "Calm",
          "Rough",
          "Rough",
          "Moderate",
          "Rough",
          "Moderate",
          "Moderate",
          "Moderate",
          "Rough",
          "Calm",
          "Moderate",
          "Calm",
          "Rough",
          "Calm",
          "Calm",
          null,
          "Calm",
          "Rough",
          "Rough",
          "Moderate",
          "Calm",
          "Calm",
          "Moderate",
          "Rough",
          "Moderate",
          "Rough",
          null,
          "Rough",
          "Moderate",
          "Calm",
          "Moderate",
          "Calm",
          "Moderate",
          "Calm",
          "Moderate",
          "Calm",
          "Rough",
          "Rough",
          "Moderate",
          "Rough",
          "Moderate",
          "Calm",
          "Rough",
          "Moderate",
          "Rough",
          "Calm",
          "Moderate",
          "Calm",
          "Calm",
          "Moderate",
          "Moderate",
          "Moderate",
          "Calm",
          "Moderate",
          "Moderate",
          "Calm",
          "Rough",
          "Calm",
          "Moderate",
          "Rough",
          "Calm",
          "Calm",
          "Calm",
          "Moderate",
          "Moderate",
          null,
          "Moderate",
          "Calm",
          "Moderate",
          "Moderate",
          "Calm",
          "Moderate",
          "Calm",
          "Rough",
          "Calm",
          "Rough",
          "Calm",
          "Moderate",
          null,
          "Rough",
          "Rough",
          "Calm",
          "Rough",
          "Calm",
          "Moderate",
          "Moderate",
          "Rough",
          "Calm",
          "Moderate",
          "Calm",
          "Calm",
          "Calm",
          null,
          "Moderate",
          "Moderate",
          "Rough",
          "Moderate",
          "Calm",
          "Calm",
          "Moderate",
          "Rough",
          "Calm",
          "Moderate",
          "Rough",
          "Calm",
          "Moderate",
          null,
          "Rough",
          "Rough",
          "Rough",
          "Moderate",
          "Moderate",
          "Calm",
          "Calm",
          "Moderate",
          "Rough",
          "Calm",
          "Moderate",
          "Calm",
          "Rough",
          "Moderate",
          "Moderate",
          "Rough",
          "Calm",
          "Moderate",
          "Moderate",
          "Rough",
          "Moderate",
          "Calm",
          "Calm",
          "Moderate",
          null,
          "Calm",
          "Moderate",
          "Calm",
          "Moderate",
          "Moderate",
          "Rough",
          "Moderate",
          "Moderate",
          "Moderate",
          "Moderate",
          "Calm",
          "Rough",
          "Rough",
          "Calm",
          "Calm",
          "Moderate",
          "Rough",
          "Calm",
          "Calm",
          "Calm",
          "Moderate",
          "Rough",
          "Moderate",
          "Rough",
          "Calm",
          "Calm",
          "Moderate",
          "Calm",
          "Moderate",
          "Moderate",
          "Calm",
          "Rough",
          "Calm",
          "Calm",
          "Moderate",
          null,
          "Calm",
          "Calm",
          "Moderate",
          "Rough",
          "Calm",
          "Calm",
          "Moderate",
          "Moderate",
          "Calm",
          "Calm",
          null,
          "Moderate",
          "Calm",
          "Moderate",
          "Calm",
          "Moderate",
          "Moderate",
          "Rough",
          "Rough",
          "Moderate",
          "Calm",
          "Rough",
          "Calm",
          "Moderate",
          "Calm",
          "Rough",
          "Moderate",
          "Rough",
          "Rough",
          "Rough",
          "Moderate",
          "Rough",
          "Rough",
          "Calm",
          null,
          "Rough",
          "Rough",
          "Moderate",
          "Calm",
          "Calm",
          "Rough",
          "Calm",
          "Calm",
          "Calm",
          "Calm",
          null,
          "Rough",
          "Rough",
          "Calm",
          "Moderate",
          "Calm",
          "Calm",
          null,
          "Moderate",
          null,
          "Rough",
          null,
          "Rough",
          "Moderate",
          "Calm",
          "Rough",
          "Rough",
          "Rough",
          "Moderate",
          "Calm",
          "Calm",
          "Calm",
          "Calm",
          "Moderate",
          "Moderate",
          "Moderate",
          "Calm",
          "Calm",
          "Rough",
          "Rough",
          "Rough",
          "Calm",
          "Moderate",
          "Calm",
          "Rough",
          "Moderate",
          "Calm",
          "Moderate",
          "Moderate",
          "Calm",
          "Moderate",
          "Moderate",
          "Calm",
          "Moderate",
          "Calm",
          "Rough",
          "Rough",
          "Moderate",
          "Calm",
          "Moderate",
          "Rough",
          "Rough",
          "Calm",
          "Calm",
          "Calm",
          null,
          "Rough",
          "Moderate",
          "Moderate",
          "Rough",
          "Calm",
          "Moderate",
          "Rough",
          "Calm",
          "Calm",
          "Calm",
          "Calm",
          "Moderate",
          "Rough",
          "Rough",
          "Calm",
          "Rough",
          "Rough",
          "Calm",
          "Rough",
          "Moderate",
          "Calm",
          "Moderate",
          "Calm",
          "Calm",
          "Rough",
          "Moderate",
          "Rough",
          "Calm",
          "Rough",
          "Rough",
          "Rough",
          "Calm",
          null,
          "Rough",
          "Rough",
          "Calm",
          null,
          "Moderate",
          "Moderate",
          "Rough",
          "Moderate",
          "Calm",
          "Calm",
          "Calm",
          "Rough",
          "Moderate",
          "Rough",
          "Calm",
          "Moderate",
          "Moderate",
          "Rough",
          "Calm",
          "Rough",
          "Calm",
          "Moderate",
          "Rough",
          "Moderate",
          "Moderate",
          "Rough",
          null,
          "Calm",
          "Rough",
          "Moderate",
          "Rough",
          "Rough",
          "Rough",
          "Moderate",
          "Calm",
          "Rough",
          "Moderate",
          null,
          "Calm",
          "Rough",
          "Rough",
          "Rough",
          "Rough",
          "Moderate",
          "Calm",
          "Moderate",
          "Calm",
          "Moderate",
          "Calm",
          "Rough",
          "Moderate",
          "Rough",
          "Calm",
          "Calm",
          "Moderate",
          null,
          "Calm",
          "Rough",
          "Rough",
          "Moderate",
          "Rough",
          "Rough",
          "Moderate",
          "Rough",
          "Calm",
          "Moderate",
          "Rough",
          "Rough",
          "Rough",
          "Moderate",
          "Rough",
          "Moderate",
          null,
          null,
          "Moderate",
          "Moderate"
         ],
         "xaxis": "x",
         "xbingroup": "x",
         "y": [
          "Critical",
          "Good",
          "Fair",
          "Fair",
          "Fair",
          "Fair",
          "Critical",
          "Critical",
          "Good",
          "Fair",
          "Fair",
          "Good",
          "Good",
          "Good",
          "Good",
          "Good",
          "Critical",
          "Good",
          "Critical",
          "Good",
          "Critical",
          null,
          "Good",
          "Good",
          "Good",
          "Good",
          "Critical",
          "Fair",
          "Fair",
          "Fair",
          "Good",
          "Good",
          "Critical",
          "Good",
          "Critical",
          "Fair",
          "Fair",
          "Fair",
          "Fair",
          "Good",
          "Fair",
          "Fair",
          "Critical",
          "Critical",
          "Good",
          null,
          "Critical",
          "Good",
          "Good",
          "Fair",
          "Good",
          "Fair",
          "Good",
          "Fair",
          "Fair",
          "Fair",
          "Critical",
          "Good",
          "Good",
          "Critical",
          "Fair",
          "Fair",
          "Fair",
          "Good",
          "Fair",
          "Good",
          "Fair",
          "Good",
          "Critical",
          "Good",
          "Fair",
          "Good",
          "Critical",
          "Critical",
          "Critical",
          "Fair",
          "Fair",
          "Critical",
          "Fair",
          "Good",
          null,
          "Critical",
          "Critical",
          "Fair",
          "Critical",
          "Fair",
          "Fair",
          "Critical",
          "Critical",
          "Good",
          "Critical",
          "Critical",
          "Good",
          "Good",
          "Good",
          "Critical",
          "Good",
          "Fair",
          "Fair",
          "Critical",
          "Fair",
          "Critical",
          "Critical",
          "Critical",
          "Critical",
          "Fair",
          "Critical",
          "Good",
          "Critical",
          "Critical",
          "Fair",
          "Fair",
          "Critical",
          "Good",
          "Critical",
          "Good",
          "Fair",
          "Critical",
          "Critical",
          "Critical",
          "Good",
          "Critical",
          "Good",
          "Critical",
          "Critical",
          "Critical",
          "Good",
          "Fair",
          null,
          "Fair",
          "Critical",
          "Critical",
          "Fair",
          "Fair",
          null,
          "Critical",
          "Good",
          "Good",
          "Critical",
          "Critical",
          "Fair",
          "Fair",
          "Fair",
          "Good",
          "Critical",
          "Critical",
          "Fair",
          "Fair",
          "Fair",
          "Good",
          "Critical",
          "Fair",
          "Critical",
          null,
          "Good",
          "Good",
          "Good",
          "Fair",
          "Fair",
          "Fair",
          "Fair",
          "Good",
          "Critical",
          "Good",
          "Critical",
          "Fair",
          "Fair",
          "Good",
          "Critical",
          "Critical",
          "Fair",
          "Good",
          "Fair",
          "Fair",
          "Critical",
          "Critical",
          "Fair",
          "Critical",
          "Good",
          "Critical",
          "Good",
          "Critical",
          "Critical",
          "Critical",
          "Good",
          "Good",
          "Fair",
          "Good",
          "Critical",
          "Good",
          "Critical",
          "Critical",
          "Critical",
          "Good",
          "Fair",
          "Critical",
          null,
          "Good",
          "Fair",
          "Critical",
          "Fair",
          "Good",
          "Fair",
          "Fair",
          "Critical",
          "Critical",
          "Good",
          "Good",
          "Good",
          "Fair",
          "Fair",
          "Fair",
          "Critical",
          "Fair",
          "Fair",
          "Fair",
          "Critical",
          "Fair",
          null,
          "Fair",
          "Fair",
          "Critical",
          "Fair",
          "Fair",
          "Fair",
          "Fair",
          "Fair",
          "Fair",
          "Fair",
          "Good",
          null,
          "Good",
          "Fair",
          "Fair",
          "Good",
          "Critical",
          null,
          "Critical",
          "Good",
          "Critical",
          null,
          "Fair",
          "Good",
          "Good",
          "Critical",
          "Good",
          null,
          "Good",
          "Critical",
          "Good",
          "Critical",
          "Critical",
          "Critical",
          "Good",
          "Critical",
          "Critical",
          "Fair",
          "Critical",
          "Good",
          "Good",
          "Fair",
          "Fair",
          "Good",
          "Fair",
          "Good",
          "Critical",
          "Good",
          "Good",
          "Fair",
          "Good",
          "Critical",
          "Fair",
          "Fair",
          "Fair",
          "Critical",
          "Fair",
          "Fair",
          "Good",
          "Good",
          "Fair",
          "Critical",
          "Fair",
          "Fair",
          "Good",
          null,
          "Fair",
          "Good",
          "Good",
          "Fair",
          "Good",
          "Critical",
          "Fair",
          "Good",
          "Critical",
          "Fair",
          "Fair",
          "Good",
          "Critical",
          "Good",
          "Critical",
          "Good",
          "Good",
          "Critical",
          "Good",
          "Fair",
          "Fair",
          "Fair",
          "Fair",
          "Fair",
          "Critical",
          "Good",
          "Critical",
          null,
          "Good",
          "Fair",
          "Fair",
          "Fair",
          "Good",
          "Good",
          "Critical",
          "Critical",
          "Fair",
          "Good",
          "Fair",
          "Good",
          "Fair",
          "Critical",
          "Fair",
          "Good",
          "Fair",
          "Critical",
          null,
          "Critical",
          "Good",
          null,
          "Good",
          "Good",
          "Fair",
          "Critical",
          "Fair",
          "Fair",
          "Fair",
          "Good",
          "Good",
          "Critical",
          "Good",
          "Good",
          "Good",
          "Good",
          "Fair",
          "Good",
          "Critical",
          "Good",
          "Critical",
          null,
          "Fair",
          "Good",
          "Fair",
          "Good",
          "Fair",
          "Good",
          "Good",
          "Fair",
          "Good",
          "Critical",
          "Fair",
          "Critical",
          "Critical",
          "Fair",
          "Good",
          "Good",
          "Good",
          "Good",
          "Good",
          "Critical",
          "Fair",
          "Good",
          "Good",
          "Fair",
          "Critical",
          "Fair",
          "Good",
          "Fair",
          "Fair",
          "Good",
          "Critical",
          "Critical",
          "Good",
          "Fair",
          "Good",
          "Good",
          "Fair",
          "Good",
          "Fair",
          "Good",
          "Good",
          "Good",
          "Fair",
          "Good",
          "Critical",
          "Critical",
          "Critical",
          "Fair",
          null,
          "Critical",
          "Critical",
          "Good",
          "Critical",
          null,
          "Critical",
          "Good",
          "Critical",
          "Fair",
          "Critical",
          "Good",
          "Good",
          "Good",
          "Good",
          "Good",
          "Good",
          "Good",
          "Critical",
          "Fair",
          "Good",
          "Fair",
          "Good",
          "Fair",
          "Fair",
          "Good",
          "Critical",
          "Fair",
          "Fair",
          "Good",
          "Good",
          null,
          "Critical",
          "Fair",
          "Critical",
          "Good",
          "Good",
          "Critical",
          "Fair",
          "Good",
          "Good",
          "Fair",
          "Critical",
          "Fair",
          "Critical",
          "Critical",
          "Fair",
          "Fair",
          "Fair",
          "Fair",
          "Good",
          "Fair",
          "Critical",
          "Fair",
          "Fair",
          "Good",
          "Fair",
          "Critical",
          "Critical",
          "Critical",
          "Critical",
          "Critical",
          "Fair",
          "Good",
          "Critical",
          "Critical",
          "Good",
          "Critical",
          "Good",
          "Fair",
          "Critical",
          "Fair",
          "Fair",
          "Critical",
          "Fair",
          "Critical",
          "Fair",
          "Good",
          "Critical",
          "Fair",
          "Critical",
          "Critical",
          "Critical",
          "Critical",
          "Good",
          "Fair",
          "Critical",
          null,
          "Good",
          "Critical",
          null,
          null,
          "Fair",
          "Fair",
          "Fair",
          "Critical",
          "Good",
          "Critical",
          null,
          "Fair",
          "Fair",
          "Good",
          "Critical",
          "Critical",
          "Good",
          "Critical",
          "Good",
          "Fair",
          "Good",
          "Critical",
          "Critical",
          "Critical",
          "Critical",
          "Critical",
          "Good",
          "Fair",
          "Critical",
          "Critical",
          "Fair",
          "Good",
          "Critical",
          "Good",
          "Good",
          "Critical",
          "Critical",
          "Fair",
          "Good",
          "Good",
          "Good",
          "Fair",
          "Good",
          "Good",
          "Critical",
          "Good",
          "Fair",
          "Critical",
          "Fair",
          "Good",
          "Good",
          "Good",
          "Good",
          "Critical",
          "Fair",
          "Critical",
          "Good",
          null,
          "Fair",
          "Fair",
          "Good",
          "Good",
          "Good",
          "Fair",
          "Critical",
          null,
          "Fair",
          "Good",
          "Fair",
          "Fair",
          "Good",
          "Good",
          "Critical",
          "Critical",
          "Critical",
          "Fair",
          "Fair",
          "Critical",
          "Critical",
          "Good",
          "Critical",
          "Fair",
          "Fair",
          "Fair",
          "Good",
          "Fair",
          "Critical",
          "Fair",
          "Good",
          "Fair",
          "Good",
          "Fair",
          "Good",
          "Fair",
          "Good",
          "Critical",
          "Good",
          "Fair",
          "Critical",
          "Fair",
          "Good",
          "Critical",
          "Good",
          "Fair",
          "Good",
          "Good",
          "Fair",
          "Good",
          "Good",
          "Fair",
          "Critical",
          "Good",
          "Good",
          "Fair",
          null,
          "Good",
          "Good",
          "Good",
          "Good",
          "Fair",
          null,
          "Critical",
          "Good",
          "Critical",
          "Critical",
          null,
          "Good",
          "Critical",
          "Good",
          "Good",
          "Good",
          "Fair",
          "Good",
          "Good",
          "Critical",
          "Critical",
          "Critical",
          "Good",
          "Fair",
          "Critical",
          "Critical",
          "Fair",
          "Critical",
          "Good",
          "Fair",
          null,
          "Fair",
          "Critical",
          "Critical",
          "Good",
          "Good",
          "Fair",
          "Critical",
          "Good",
          "Critical",
          "Fair",
          "Good",
          "Critical",
          "Fair",
          "Critical",
          "Good",
          "Critical",
          "Critical",
          "Good",
          "Fair",
          "Good",
          "Fair",
          null,
          "Fair",
          "Critical",
          "Good",
          "Fair",
          "Good",
          "Fair",
          "Good",
          "Critical",
          "Good",
          "Good",
          "Good",
          "Good",
          "Critical",
          "Critical",
          "Fair",
          "Critical",
          "Good",
          "Critical",
          "Good",
          "Critical",
          "Critical",
          "Critical",
          "Good",
          "Good",
          "Good",
          "Fair",
          "Fair",
          "Good",
          "Good",
          "Fair",
          "Good",
          "Good",
          null,
          "Fair",
          "Good",
          "Good",
          "Critical",
          "Critical",
          "Critical",
          "Fair",
          null,
          "Fair",
          "Fair",
          "Good",
          "Fair",
          "Fair",
          "Critical",
          "Fair",
          null,
          "Fair",
          "Good",
          "Good",
          "Fair",
          "Fair",
          "Good",
          "Fair",
          "Good",
          "Critical",
          "Fair",
          "Critical",
          "Good",
          "Good",
          "Fair",
          "Good",
          "Good",
          "Critical",
          "Critical",
          "Critical",
          "Good",
          "Critical",
          "Critical",
          "Fair",
          "Good",
          "Critical",
          "Critical",
          "Critical",
          "Good",
          "Critical",
          "Good",
          "Fair",
          "Fair",
          "Good",
          "Good",
          "Critical",
          "Good",
          "Critical",
          "Critical",
          "Critical",
          "Fair",
          "Fair",
          "Critical",
          "Critical",
          "Fair",
          "Good",
          "Good",
          "Fair",
          "Fair",
          null,
          "Fair",
          "Critical",
          "Fair",
          "Fair",
          "Critical",
          "Good",
          "Critical",
          "Critical",
          "Critical",
          "Good",
          "Critical",
          "Critical",
          "Good",
          "Good",
          "Fair",
          "Fair",
          "Critical",
          "Good",
          "Critical",
          "Good",
          "Critical",
          "Fair",
          "Fair",
          "Critical",
          "Critical",
          "Fair",
          "Good",
          "Fair",
          "Fair",
          "Good",
          "Critical",
          "Fair",
          "Critical",
          "Good",
          "Fair",
          "Fair",
          "Good",
          "Critical",
          "Good",
          "Critical",
          "Good",
          "Fair",
          "Fair",
          "Good",
          "Fair",
          "Good",
          "Good",
          "Critical",
          "Fair",
          "Good",
          "Fair",
          "Good",
          "Fair",
          "Fair",
          "Good",
          "Good",
          "Fair",
          "Fair",
          "Fair",
          "Good",
          "Critical",
          "Fair",
          "Good",
          "Good",
          "Good",
          "Good",
          "Good",
          "Fair",
          "Fair",
          "Fair",
          "Critical",
          "Fair",
          "Critical",
          "Fair",
          "Good",
          "Good",
          "Good",
          "Fair",
          "Fair",
          "Good",
          "Fair",
          "Critical",
          "Good",
          "Good",
          "Fair",
          "Fair",
          "Fair",
          "Good",
          "Fair",
          "Good",
          "Fair",
          "Good",
          "Good",
          "Fair",
          "Fair",
          "Good",
          "Fair",
          "Critical",
          "Critical",
          "Fair",
          null,
          "Fair",
          "Fair",
          "Good",
          "Good",
          "Critical",
          "Fair",
          "Fair",
          "Good",
          "Fair",
          "Fair",
          "Critical",
          "Critical",
          "Fair",
          "Fair",
          "Fair",
          "Critical",
          "Critical",
          "Fair",
          null,
          "Good",
          "Critical",
          "Good",
          "Fair",
          "Critical",
          "Critical",
          "Fair",
          "Fair",
          "Critical",
          "Critical",
          "Fair",
          "Critical",
          "Good",
          "Fair",
          "Critical",
          "Good",
          "Fair",
          null,
          "Fair",
          "Fair",
          "Critical",
          "Good",
          "Good",
          "Fair",
          "Critical",
          "Good",
          "Good",
          "Good",
          null,
          "Fair",
          "Critical",
          "Fair",
          "Good",
          "Critical",
          "Critical",
          "Fair",
          "Good",
          "Critical",
          "Critical",
          "Fair",
          "Critical",
          "Fair",
          "Fair",
          "Critical",
          "Critical",
          "Good",
          "Fair",
          "Good",
          "Good",
          "Good",
          "Fair",
          "Fair",
          "Fair",
          "Fair",
          "Critical",
          "Good",
          "Fair",
          "Good",
          "Fair",
          "Critical",
          "Fair",
          "Fair",
          "Critical",
          null,
          "Good",
          "Good",
          "Fair",
          "Good",
          "Critical",
          "Good",
          "Critical",
          "Fair",
          "Good",
          "Critical",
          "Fair",
          "Good",
          "Critical",
          "Critical",
          "Fair",
          "Critical",
          "Critical",
          "Good",
          "Good",
          null,
          "Good",
          null,
          "Critical",
          "Critical",
          "Critical",
          "Fair",
          "Critical",
          "Critical",
          "Critical",
          "Good",
          "Critical",
          null,
          "Critical",
          "Fair",
          "Critical",
          "Good",
          "Good",
          "Fair",
          null,
          null,
          "Critical",
          "Critical",
          "Fair",
          "Good",
          null,
          "Critical",
          "Critical",
          "Critical",
          "Critical",
          "Fair",
          null,
          "Critical",
          "Good",
          "Good",
          "Fair",
          "Fair",
          "Good",
          "Good",
          "Fair",
          "Good",
          "Critical",
          "Critical",
          "Good",
          "Fair",
          "Fair",
          "Good",
          "Fair",
          "Critical",
          "Fair",
          "Good",
          "Critical",
          null,
          "Fair",
          "Fair",
          "Critical",
          "Critical",
          "Critical",
          "Good",
          "Good",
          "Fair",
          "Fair",
          "Critical",
          "Good",
          "Critical",
          "Good",
          "Fair",
          "Critical",
          "Good",
          "Fair",
          "Fair",
          "Critical",
          "Good",
          "Good",
          "Good",
          "Critical",
          "Fair",
          "Critical",
          "Critical",
          "Critical",
          "Fair",
          "Fair",
          "Fair",
          "Good",
          "Good",
          "Good",
          "Fair",
          "Critical",
          "Good",
          "Fair",
          "Good",
          "Good",
          "Critical",
          "Good",
          "Critical",
          "Critical",
          "Critical",
          "Critical",
          "Critical",
          "Good",
          "Critical",
          null,
          "Critical",
          "Fair",
          null,
          "Fair",
          "Fair",
          "Good",
          "Critical",
          "Critical",
          "Fair",
          "Good",
          "Critical",
          "Good",
          "Good",
          "Fair",
          "Fair",
          "Critical",
          "Critical",
          "Good",
          "Fair",
          "Fair",
          null,
          "Fair",
          "Good",
          "Critical",
          "Fair",
          "Good",
          "Critical",
          "Good",
          "Good",
          "Good",
          "Fair",
          "Fair",
          "Good",
          "Critical",
          "Critical",
          null,
          "Critical",
          "Critical",
          "Critical",
          "Good",
          "Good",
          null,
          "Good",
          "Fair",
          "Fair",
          "Critical",
          null,
          "Critical",
          "Critical",
          "Critical",
          "Fair",
          "Fair",
          "Good",
          null,
          "Fair",
          "Critical",
          "Critical",
          "Fair",
          "Good",
          "Critical",
          "Good",
          "Critical",
          null,
          "Good",
          "Fair",
          "Fair",
          "Critical",
          "Critical",
          "Good",
          "Good",
          "Good",
          null,
          null,
          "Good",
          "Critical",
          "Critical",
          "Good",
          "Critical",
          "Good",
          "Critical",
          "Good",
          "Critical",
          "Fair",
          "Good",
          "Fair",
          "Critical",
          "Fair",
          "Critical",
          "Good",
          "Critical",
          "Good",
          "Good",
          "Fair",
          "Fair",
          "Critical",
          "Good",
          "Fair",
          "Critical",
          null,
          "Critical",
          "Fair",
          "Critical",
          "Fair",
          "Fair",
          "Fair",
          "Good",
          "Good",
          "Critical",
          "Critical",
          "Critical",
          "Good",
          "Critical",
          "Fair",
          "Good",
          "Fair",
          "Good",
          "Good",
          "Good",
          "Critical",
          "Good",
          "Critical",
          "Fair",
          "Good",
          "Fair",
          "Fair",
          "Fair",
          "Critical",
          "Critical",
          "Critical",
          "Critical",
          "Critical",
          "Fair",
          "Good",
          "Fair",
          "Fair",
          "Critical",
          "Critical",
          "Fair",
          "Critical",
          "Good",
          "Good",
          null,
          "Good",
          "Fair",
          "Critical",
          "Fair",
          "Critical",
          "Fair",
          "Critical",
          "Good",
          "Critical",
          "Critical",
          "Critical",
          "Fair",
          "Critical",
          "Fair",
          "Critical",
          "Critical",
          null,
          "Critical",
          "Good",
          "Good",
          "Good",
          "Good",
          null,
          "Fair",
          "Good",
          "Fair",
          "Fair",
          "Good",
          "Good",
          "Fair",
          "Critical",
          "Good",
          "Fair",
          "Critical",
          "Fair",
          "Good",
          "Fair",
          "Critical",
          "Fair",
          "Critical",
          "Critical",
          "Fair",
          "Fair",
          "Fair",
          "Good",
          "Critical",
          "Fair",
          "Fair",
          "Critical",
          "Good",
          "Good",
          "Fair",
          "Good",
          "Good",
          "Good",
          "Good",
          "Critical",
          null,
          "Fair",
          "Good",
          "Critical",
          null,
          "Fair",
          "Good",
          "Fair",
          "Good",
          "Critical",
          "Good",
          "Fair",
          "Good",
          "Fair",
          "Good",
          "Critical",
          "Critical",
          "Critical",
          "Critical",
          "Fair",
          "Good",
          "Fair",
          "Critical",
          "Critical",
          "Good",
          "Good",
          "Good",
          null,
          null,
          "Fair",
          "Critical",
          "Fair",
          "Fair",
          "Fair",
          "Fair",
          "Fair",
          "Critical",
          "Good",
          "Good",
          "Critical",
          "Fair",
          "Critical",
          null,
          "Fair",
          null,
          "Good",
          "Critical",
          "Good",
          "Critical",
          "Good",
          "Good",
          "Good",
          "Good",
          "Good",
          "Fair",
          "Good",
          "Fair",
          "Good",
          "Fair",
          "Good",
          "Critical",
          null,
          "Critical",
          "Critical",
          null,
          "Critical",
          "Fair",
          "Good",
          "Fair",
          "Good",
          null,
          "Fair",
          "Fair",
          "Fair",
          "Good",
          "Fair",
          "Fair",
          "Good",
          "Fair",
          "Good",
          "Fair",
          "Critical",
          "Fair",
          "Critical",
          "Fair",
          "Critical",
          "Fair",
          "Critical",
          "Critical",
          "Critical",
          "Critical",
          "Critical",
          "Fair",
          "Fair",
          "Good",
          "Good",
          "Critical",
          "Good",
          "Critical",
          "Critical",
          "Fair",
          "Good",
          "Fair",
          null,
          "Fair",
          "Fair",
          "Critical",
          null,
          "Fair",
          "Critical",
          null,
          "Good",
          "Critical",
          "Fair",
          "Good",
          "Critical",
          "Fair",
          "Fair",
          "Good",
          "Fair",
          "Fair",
          "Critical",
          "Critical",
          "Fair",
          "Critical",
          "Fair",
          "Critical",
          "Critical",
          "Critical",
          "Good",
          "Critical",
          null,
          null,
          "Fair",
          "Critical",
          "Good",
          "Critical",
          "Fair",
          "Good",
          "Critical",
          "Good",
          "Fair",
          "Good",
          "Good",
          "Good",
          "Good",
          "Good",
          "Critical",
          "Critical",
          "Critical",
          "Critical",
          "Fair",
          "Fair",
          "Good",
          "Good",
          "Good",
          "Good",
          "Good",
          "Fair",
          null,
          "Good",
          "Fair",
          "Good",
          "Critical",
          "Critical",
          "Critical",
          "Good",
          "Good",
          "Fair",
          "Critical",
          null,
          null,
          "Critical",
          "Critical",
          "Critical",
          "Critical",
          "Fair",
          "Fair",
          "Good",
          "Critical",
          "Fair",
          "Good",
          "Critical",
          "Critical",
          "Critical",
          "Good",
          "Fair",
          "Good",
          "Good",
          "Fair",
          null,
          "Good",
          "Critical",
          "Good",
          "Fair",
          "Fair",
          "Critical",
          "Good",
          "Critical",
          "Good",
          "Good",
          "Fair",
          "Fair",
          "Good",
          "Good",
          "Fair",
          "Critical",
          "Fair",
          "Good",
          "Good",
          "Critical",
          "Fair",
          "Good",
          "Fair",
          null,
          "Good",
          "Critical",
          "Critical",
          "Critical",
          "Fair",
          "Critical",
          "Critical",
          "Good",
          "Critical",
          "Fair",
          "Critical",
          "Good",
          "Critical",
          "Good",
          "Critical",
          null,
          null,
          "Critical",
          "Good",
          "Critical",
          "Good",
          "Critical",
          "Fair",
          "Fair",
          null,
          "Fair",
          "Good",
          "Critical",
          "Good",
          null,
          null,
          "Critical",
          "Fair",
          null,
          "Good",
          "Good",
          "Critical",
          "Good",
          "Good",
          null,
          "Fair",
          "Fair",
          "Critical",
          "Good",
          "Critical",
          "Fair",
          "Good",
          "Good",
          "Fair",
          "Critical",
          "Good",
          "Critical",
          "Critical",
          "Good",
          "Critical",
          "Good",
          "Fair",
          "Good",
          "Critical",
          "Fair",
          "Fair",
          "Critical",
          "Critical",
          "Critical",
          "Critical",
          "Critical",
          "Fair",
          "Critical",
          "Critical",
          "Critical",
          "Fair",
          "Good",
          "Fair",
          "Good",
          "Good",
          "Critical",
          "Good",
          "Critical",
          null,
          "Good",
          "Critical",
          "Critical",
          "Critical",
          "Fair",
          "Good",
          "Fair",
          "Fair",
          "Good",
          "Critical",
          "Critical",
          "Good",
          "Good",
          "Critical",
          "Good",
          "Fair",
          "Good",
          "Critical",
          "Fair",
          "Fair",
          "Critical",
          "Fair",
          "Fair",
          "Good",
          "Good",
          "Critical",
          "Fair",
          "Critical",
          "Critical",
          "Fair",
          "Good",
          null,
          "Fair",
          "Fair",
          "Fair",
          null,
          "Critical",
          "Critical",
          "Fair",
          "Critical",
          "Fair",
          "Fair",
          "Critical",
          "Critical",
          "Good",
          "Fair",
          "Fair",
          "Good",
          "Good",
          "Critical",
          "Good",
          "Critical",
          "Good",
          "Fair",
          "Critical",
          "Critical",
          null,
          "Good",
          "Critical",
          "Good",
          "Good",
          "Fair",
          "Critical",
          "Critical",
          "Good",
          null,
          "Critical",
          null,
          "Fair",
          "Good",
          "Fair",
          "Good",
          "Good",
          "Fair",
          "Critical",
          "Good",
          "Good",
          null,
          "Good",
          "Fair",
          "Fair",
          "Good",
          "Fair",
          "Good",
          "Critical",
          "Critical",
          "Critical",
          null,
          "Critical",
          "Fair",
          "Critical",
          "Fair",
          "Fair",
          "Good",
          "Critical",
          "Fair",
          "Good",
          "Critical",
          "Fair",
          "Critical",
          "Critical",
          "Critical",
          "Fair",
          "Critical",
          "Fair",
          "Good",
          null,
          "Fair",
          "Critical",
          "Fair",
          "Critical",
          "Critical",
          "Fair",
          "Good",
          "Critical",
          null,
          "Fair",
          "Fair",
          "Good",
          "Critical",
          "Good",
          "Critical",
          "Critical",
          "Fair",
          "Fair",
          null,
          "Good",
          "Critical",
          null,
          "Critical",
          "Fair",
          "Fair",
          "Fair",
          "Critical",
          "Critical",
          "Good",
          "Fair",
          "Good",
          "Good",
          "Good",
          "Good",
          "Fair",
          "Fair",
          "Good",
          "Good",
          "Fair",
          "Good",
          "Good",
          "Good",
          "Fair",
          "Good",
          "Critical",
          "Fair",
          "Critical",
          "Critical",
          "Good",
          null,
          "Good",
          "Good",
          "Critical",
          "Fair",
          "Good",
          "Critical",
          "Critical",
          "Good",
          null,
          "Fair",
          "Fair",
          "Critical",
          "Critical",
          "Critical",
          null,
          "Good",
          "Fair",
          "Critical",
          "Fair",
          "Good",
          "Fair",
          "Critical",
          "Critical",
          "Good",
          "Critical",
          "Fair",
          "Good",
          "Good",
          "Good",
          "Good",
          "Critical",
          "Good",
          "Good",
          "Good",
          "Critical",
          "Critical",
          "Fair",
          "Good",
          "Fair",
          "Good",
          "Fair",
          "Good",
          "Fair",
          "Good",
          "Fair",
          "Good",
          "Critical",
          "Critical",
          "Good",
          "Fair",
          "Critical",
          "Good",
          "Good",
          "Fair",
          null,
          "Good",
          "Critical",
          "Critical",
          "Fair",
          "Good",
          "Fair",
          "Good",
          "Good",
          "Critical",
          "Critical",
          "Critical",
          "Critical",
          "Critical",
          "Critical",
          null,
          "Fair",
          "Good",
          "Critical",
          "Critical",
          null,
          "Fair",
          "Critical",
          "Critical",
          "Fair",
          "Fair",
          "Fair",
          "Critical",
          "Good",
          "Fair",
          null,
          "Good",
          "Fair",
          "Fair",
          "Fair",
          "Good",
          "Good",
          "Critical",
          "Critical",
          "Good",
          "Good",
          "Fair",
          "Critical",
          "Good",
          "Good",
          "Fair",
          "Good",
          "Fair",
          "Fair",
          "Fair",
          "Good",
          "Critical",
          "Good",
          "Critical",
          "Good",
          "Critical",
          "Critical",
          "Critical",
          "Good",
          "Good",
          "Fair",
          "Critical",
          "Fair",
          "Good",
          "Good",
          "Fair",
          "Fair",
          "Good",
          "Good",
          "Fair",
          null,
          "Fair",
          "Fair",
          "Critical",
          "Good",
          "Fair",
          "Good",
          "Critical",
          "Good",
          "Critical",
          "Critical",
          "Critical",
          "Good",
          "Fair",
          "Fair",
          "Fair",
          "Critical",
          null,
          "Good",
          "Fair",
          "Good",
          "Good",
          "Good",
          "Critical",
          "Critical",
          "Fair",
          "Good",
          "Good",
          "Fair",
          "Critical",
          "Good",
          "Good",
          "Fair",
          "Good",
          "Fair",
          "Critical",
          "Critical",
          "Fair",
          "Fair",
          "Fair",
          "Critical",
          "Fair",
          "Good",
          "Critical",
          "Fair",
          "Fair",
          "Critical",
          null,
          "Fair",
          "Critical",
          "Critical",
          "Fair",
          "Good",
          null,
          "Fair",
          "Critical",
          "Good",
          "Critical",
          "Critical",
          "Good",
          "Critical",
          "Critical",
          "Good",
          "Critical",
          "Good",
          "Good",
          "Fair",
          "Good",
          "Fair",
          "Critical",
          "Fair",
          "Fair",
          "Critical",
          "Good",
          "Fair",
          "Fair",
          "Good",
          "Fair",
          "Good",
          "Good",
          null,
          "Good",
          "Fair",
          "Critical",
          "Fair",
          "Good",
          "Critical",
          "Fair",
          "Good",
          "Good",
          "Critical",
          "Critical",
          "Fair",
          "Good",
          "Fair",
          "Critical",
          "Good",
          "Critical",
          "Critical",
          "Critical",
          "Good",
          "Good",
          "Critical",
          "Good",
          "Critical",
          "Fair",
          "Good",
          "Fair",
          "Critical",
          "Fair",
          "Critical",
          "Fair",
          "Good",
          "Fair",
          "Fair",
          "Critical",
          "Critical",
          "Critical",
          "Good",
          "Critical",
          "Fair",
          "Critical",
          "Fair",
          "Good",
          "Critical",
          "Good",
          "Critical",
          "Fair",
          "Fair",
          "Good",
          "Critical",
          "Fair",
          "Fair",
          "Good",
          "Critical",
          "Good",
          "Fair",
          "Fair",
          "Critical",
          "Fair",
          "Critical",
          "Fair",
          "Good",
          "Critical",
          "Fair",
          "Good",
          "Fair",
          "Critical",
          "Good",
          "Fair",
          "Critical",
          "Critical",
          "Good",
          "Fair",
          "Fair",
          "Critical",
          "Fair",
          "Good",
          "Critical",
          "Good",
          "Fair",
          "Good",
          "Good",
          null,
          "Critical",
          "Good",
          "Good",
          "Fair",
          "Good",
          "Fair",
          "Fair",
          "Good",
          "Critical",
          "Critical",
          "Critical",
          "Critical",
          "Fair",
          "Critical",
          "Good",
          "Fair",
          "Critical",
          "Good",
          "Good",
          "Good",
          "Fair",
          "Good",
          "Good",
          "Critical",
          "Good",
          "Critical",
          "Fair",
          "Fair",
          "Good",
          "Fair",
          "Good",
          "Good",
          "Good",
          "Critical",
          "Critical",
          "Fair",
          "Critical",
          "Critical",
          "Fair",
          "Fair",
          "Good",
          "Critical",
          "Critical",
          "Good",
          "Critical",
          "Fair",
          "Critical",
          "Critical",
          "Fair",
          "Critical",
          "Fair",
          "Good",
          "Good",
          "Fair",
          "Fair",
          "Critical",
          "Good",
          "Critical",
          "Good",
          "Good",
          "Good",
          "Critical",
          "Good",
          "Critical",
          "Critical",
          "Critical",
          "Good",
          "Critical",
          "Critical",
          "Fair",
          "Good",
          "Good",
          "Fair",
          "Critical",
          "Fair",
          "Critical",
          "Critical",
          "Fair",
          "Critical",
          "Critical",
          "Fair",
          "Fair",
          "Critical",
          "Fair",
          "Good",
          "Good",
          "Good",
          "Critical",
          null,
          "Critical",
          "Good",
          "Critical",
          "Good",
          "Good",
          "Critical",
          "Critical",
          "Critical",
          null,
          "Fair",
          "Good",
          "Fair",
          "Fair",
          "Critical",
          "Fair",
          "Critical",
          "Fair",
          "Critical",
          "Fair",
          "Critical",
          "Critical",
          "Fair",
          "Critical",
          "Fair",
          "Good",
          "Good",
          "Fair",
          "Fair",
          "Fair",
          "Fair",
          "Fair",
          "Critical",
          "Fair",
          "Fair",
          "Good",
          "Fair",
          "Fair",
          "Critical",
          "Good",
          "Good",
          "Good",
          "Good",
          "Fair",
          "Good",
          null,
          "Fair",
          "Good",
          "Critical",
          "Critical",
          "Fair",
          "Critical",
          "Fair",
          "Fair",
          "Good",
          "Good",
          "Good",
          "Fair",
          "Critical",
          "Fair",
          "Fair",
          "Critical",
          "Critical",
          "Good",
          "Fair",
          "Fair",
          "Critical",
          "Critical",
          "Good",
          "Good",
          "Critical",
          "Fair",
          "Fair",
          "Critical",
          "Fair",
          "Fair",
          "Fair",
          "Good",
          null,
          "Fair",
          "Good",
          "Fair",
          "Critical",
          "Good",
          "Good",
          "Critical",
          "Good",
          "Fair",
          "Good",
          "Critical",
          "Fair",
          "Good",
          "Good",
          "Critical",
          "Fair",
          "Critical",
          "Good",
          "Good",
          "Fair",
          "Good",
          "Good",
          "Critical",
          "Critical",
          "Critical",
          "Critical",
          "Good",
          "Critical",
          "Critical",
          "Fair",
          "Critical",
          "Fair",
          "Fair",
          "Fair",
          "Fair",
          "Critical",
          "Good",
          "Fair",
          "Good",
          null,
          "Fair",
          "Critical",
          "Good",
          "Fair",
          "Critical",
          "Fair",
          "Critical",
          "Fair",
          null,
          "Critical",
          "Good",
          "Good",
          "Fair",
          "Good",
          "Fair",
          "Critical",
          "Good",
          "Critical",
          "Good",
          "Fair",
          "Fair",
          "Fair",
          "Critical",
          "Fair",
          "Fair",
          "Fair",
          "Fair",
          "Fair",
          "Good",
          "Fair",
          "Fair",
          "Fair",
          "Good",
          "Fair",
          "Good",
          "Critical",
          "Fair",
          "Fair",
          "Critical",
          "Fair",
          "Good",
          "Fair",
          "Good",
          "Critical",
          "Fair",
          "Fair",
          "Critical",
          "Critical",
          "Fair",
          "Fair",
          "Fair",
          "Good",
          "Good",
          "Good",
          null,
          "Critical",
          "Good",
          "Fair",
          "Good",
          "Good",
          "Fair",
          "Fair",
          "Good",
          "Critical",
          "Fair",
          "Critical",
          "Critical",
          "Good",
          null,
          "Critical",
          "Fair",
          "Fair",
          "Critical",
          null,
          "Critical",
          "Fair",
          "Fair",
          "Fair",
          "Good",
          "Critical",
          "Critical",
          "Fair",
          "Good",
          "Good",
          "Fair",
          "Critical",
          "Fair",
          "Critical",
          "Fair",
          "Fair",
          "Good",
          "Fair",
          null,
          "Critical",
          "Critical",
          "Good",
          "Critical",
          "Critical",
          null,
          "Critical",
          "Good",
          "Good",
          "Good",
          "Critical",
          "Critical",
          "Fair",
          "Critical",
          "Good",
          "Critical",
          "Critical",
          "Fair",
          "Critical",
          "Good",
          "Critical",
          "Good",
          "Critical",
          "Good",
          "Critical",
          "Critical",
          "Good",
          "Critical",
          "Fair",
          "Good",
          "Critical",
          "Good",
          "Good",
          "Fair",
          "Good",
          "Critical",
          "Critical",
          null,
          "Fair",
          "Critical",
          "Critical",
          "Fair",
          "Good",
          "Good",
          "Fair",
          "Good",
          "Good",
          "Good",
          null,
          "Fair",
          "Good",
          "Fair",
          "Fair",
          "Critical",
          "Good",
          "Critical",
          "Fair",
          "Fair",
          "Good",
          "Good",
          "Good",
          "Fair",
          "Good",
          "Good",
          "Fair",
          "Fair",
          "Fair",
          null,
          "Critical",
          "Good",
          "Good",
          "Critical",
          "Fair",
          "Fair",
          "Critical",
          "Fair",
          "Critical",
          "Good",
          "Good",
          "Good",
          "Good",
          "Good",
          "Good",
          "Critical",
          "Critical",
          "Fair",
          "Fair",
          "Critical",
          "Fair",
          "Fair",
          "Fair",
          "Fair",
          "Fair",
          "Good",
          "Critical",
          "Good",
          "Good",
          "Good",
          "Good",
          "Fair",
          "Good",
          "Critical",
          "Fair",
          "Critical",
          "Critical",
          "Fair",
          "Good",
          "Fair",
          "Good",
          "Fair",
          "Fair",
          "Good",
          "Good",
          "Critical",
          "Critical",
          "Good",
          null,
          "Good",
          "Critical",
          "Good",
          "Critical",
          "Good",
          "Critical",
          "Fair",
          "Fair",
          "Fair",
          "Critical",
          "Good",
          "Fair",
          "Good",
          "Critical",
          "Critical",
          "Good",
          "Fair",
          "Critical",
          "Good",
          "Good",
          "Fair",
          "Fair",
          "Critical",
          "Fair",
          null,
          "Good",
          "Critical",
          "Critical",
          "Critical",
          "Good",
          "Critical",
          "Critical",
          "Critical",
          "Good",
          "Good",
          "Fair",
          "Fair",
          "Critical",
          "Good",
          "Good",
          "Critical",
          "Good",
          "Good",
          "Critical",
          null,
          "Critical",
          "Fair",
          "Fair",
          "Critical",
          "Good",
          "Critical",
          "Critical",
          "Good",
          "Fair",
          "Critical",
          "Fair",
          "Fair",
          "Good",
          "Critical",
          "Good",
          "Fair",
          "Good",
          "Critical",
          "Fair",
          "Critical",
          "Fair",
          "Fair",
          "Critical",
          "Fair",
          "Fair",
          "Critical",
          "Critical",
          "Critical",
          "Good",
          "Good",
          "Good",
          "Fair",
          "Fair",
          "Fair",
          "Fair",
          "Critical",
          "Fair",
          "Good",
          "Good",
          "Fair",
          "Critical",
          "Fair",
          "Critical",
          "Fair",
          "Good",
          "Critical",
          "Fair",
          "Fair",
          "Fair",
          "Good",
          "Good",
          "Critical",
          "Critical",
          "Good",
          "Good",
          "Fair",
          "Critical",
          "Fair",
          "Critical",
          "Good",
          "Critical",
          "Fair",
          "Critical",
          "Good",
          "Good",
          "Critical",
          "Critical",
          null,
          "Good",
          "Good",
          "Good",
          "Critical",
          "Good",
          "Fair",
          "Good",
          "Critical",
          "Good",
          "Critical",
          "Critical",
          "Critical",
          "Good",
          "Fair",
          "Good",
          "Fair",
          "Fair",
          "Fair",
          "Good",
          "Good",
          "Good",
          "Fair",
          "Fair",
          "Fair",
          "Critical",
          "Good",
          "Fair",
          "Critical",
          "Critical",
          "Good",
          "Critical",
          "Fair",
          "Critical",
          "Critical",
          "Good",
          "Good",
          "Critical",
          "Good",
          "Critical",
          "Good",
          "Critical",
          "Critical",
          "Critical",
          "Fair",
          "Critical",
          "Fair",
          "Critical",
          "Good",
          "Critical",
          "Good",
          "Critical",
          "Fair",
          "Good",
          "Critical",
          "Good",
          "Good",
          "Critical",
          "Good",
          "Critical",
          "Fair",
          "Critical",
          "Critical",
          "Critical",
          "Good",
          null,
          "Critical",
          "Good",
          "Fair",
          "Critical",
          "Fair",
          "Good",
          "Fair",
          "Critical",
          "Fair",
          "Good",
          "Good",
          "Fair",
          "Critical",
          "Critical",
          "Critical",
          "Critical",
          "Good",
          "Fair",
          "Critical",
          "Fair",
          "Good",
          "Fair",
          "Critical",
          "Fair",
          "Good",
          "Good",
          "Critical",
          "Fair",
          "Critical",
          "Fair",
          "Critical",
          "Critical",
          "Good",
          "Good",
          "Fair",
          "Good",
          "Good",
          "Fair",
          "Fair",
          "Good",
          "Critical",
          "Critical",
          "Good",
          "Good",
          "Critical",
          "Fair",
          "Fair",
          "Good",
          "Critical",
          "Critical",
          "Good",
          "Fair",
          "Fair",
          "Good",
          "Fair",
          "Critical",
          "Good",
          null,
          "Fair",
          "Good",
          "Fair",
          "Fair",
          "Good",
          "Fair",
          "Good",
          "Fair",
          "Fair",
          "Good",
          "Fair",
          "Fair",
          "Good",
          "Critical",
          "Good",
          "Critical",
          "Critical",
          "Good",
          "Fair",
          "Critical",
          "Fair",
          "Fair",
          "Fair",
          "Fair",
          "Fair",
          "Good",
          "Fair",
          "Critical",
          "Fair",
          "Critical",
          "Good",
          "Critical",
          null,
          "Fair",
          "Fair",
          "Fair",
          "Good",
          "Good",
          "Critical",
          "Critical",
          "Good",
          "Fair",
          "Critical",
          "Critical",
          "Fair",
          "Critical",
          "Fair",
          "Critical",
          "Fair",
          "Good",
          "Critical",
          "Good",
          "Fair",
          "Fair",
          "Fair",
          "Fair",
          "Good",
          "Fair",
          "Critical",
          "Good",
          "Fair",
          "Critical",
          "Fair",
          null,
          "Fair",
          "Fair",
          "Good",
          "Fair",
          "Good",
          "Fair",
          "Fair",
          "Good",
          null,
          "Critical",
          "Good",
          "Good",
          "Good",
          "Critical",
          "Good",
          "Good",
          "Critical",
          "Good",
          "Fair"
         ],
         "yaxis": "y",
         "ybingroup": "y",
         "z": {
          "bdata": "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",
          "dtype": "f8"
         }
        }
       ],
       "layout": {
        "coloraxis": {
         "colorbar": {
          "title": {
           "text": "sum of Efficiency_nm_per_kWh"
          }
         },
         "colorscale": [
          [
           0,
           "#440154"
          ],
          [
           0.1111111111111111,
           "#482878"
          ],
          [
           0.2222222222222222,
           "#3e4989"
          ],
          [
           0.3333333333333333,
           "#31688e"
          ],
          [
           0.4444444444444444,
           "#26828e"
          ],
          [
           0.5555555555555556,
           "#1f9e89"
          ],
          [
           0.6666666666666666,
           "#35b779"
          ],
          [
           0.7777777777777778,
           "#6ece58"
          ],
          [
           0.8888888888888888,
           "#b5de2b"
          ],
          [
           1,
           "#fde725"
          ]
         ]
        },
        "legend": {
         "tracegroupgap": 0
        },
        "template": {
         "data": {
          "bar": [
           {
            "error_x": {
             "color": "#2a3f5f"
            },
            "error_y": {
             "color": "#2a3f5f"
            },
            "marker": {
             "line": {
              "color": "#E5ECF6",
              "width": 0.5
             },
             "pattern": {
              "fillmode": "overlay",
              "size": 10,
              "solidity": 0.2
             }
            },
            "type": "bar"
           }
          ],
          "barpolar": [
           {
            "marker": {
             "line": {
              "color": "#E5ECF6",
              "width": 0.5
             },
             "pattern": {
              "fillmode": "overlay",
              "size": 10,
              "solidity": 0.2
             }
            },
            "type": "barpolar"
           }
          ],
          "carpet": [
           {
            "aaxis": {
             "endlinecolor": "#2a3f5f",
             "gridcolor": "white",
             "linecolor": "white",
             "minorgridcolor": "white",
             "startlinecolor": "#2a3f5f"
            },
            "baxis": {
             "endlinecolor": "#2a3f5f",
             "gridcolor": "white",
             "linecolor": "white",
             "minorgridcolor": "white",
             "startlinecolor": "#2a3f5f"
            },
            "type": "carpet"
           }
          ],
          "choropleth": [
           {
            "colorbar": {
             "outlinewidth": 0,
             "ticks": ""
            },
            "type": "choropleth"
           }
          ],
          "contour": [
           {
            "colorbar": {
             "outlinewidth": 0,
             "ticks": ""
            },
            "colorscale": [
             [
              0,
              "#0d0887"
             ],
             [
              0.1111111111111111,
              "#46039f"
             ],
             [
              0.2222222222222222,
              "#7201a8"
             ],
             [
              0.3333333333333333,
              "#9c179e"
             ],
             [
              0.4444444444444444,
              "#bd3786"
             ],
             [
              0.5555555555555556,
              "#d8576b"
             ],
             [
              0.6666666666666666,
              "#ed7953"
             ],
             [
              0.7777777777777778,
              "#fb9f3a"
             ],
             [
              0.8888888888888888,
              "#fdca26"
             ],
             [
              1,
              "#f0f921"
             ]
            ],
            "type": "contour"
           }
          ],
          "contourcarpet": [
           {
            "colorbar": {
             "outlinewidth": 0,
             "ticks": ""
            },
            "type": "contourcarpet"
           }
          ],
          "heatmap": [
           {
            "colorbar": {
             "outlinewidth": 0,
             "ticks": ""
            },
            "colorscale": [
             [
              0,
              "#0d0887"
             ],
             [
              0.1111111111111111,
              "#46039f"
             ],
             [
              0.2222222222222222,
              "#7201a8"
             ],
             [
              0.3333333333333333,
              "#9c179e"
             ],
             [
              0.4444444444444444,
              "#bd3786"
             ],
             [
              0.5555555555555556,
              "#d8576b"
             ],
             [
              0.6666666666666666,
              "#ed7953"
             ],
             [
              0.7777777777777778,
              "#fb9f3a"
             ],
             [
              0.8888888888888888,
              "#fdca26"
             ],
             [
              1,
              "#f0f921"
             ]
            ],
            "type": "heatmap"
           }
          ],
          "histogram": [
           {
            "marker": {
             "pattern": {
              "fillmode": "overlay",
              "size": 10,
              "solidity": 0.2
             }
            },
            "type": "histogram"
           }
          ],
          "histogram2d": [
           {
            "colorbar": {
             "outlinewidth": 0,
             "ticks": ""
            },
            "colorscale": [
             [
              0,
              "#0d0887"
             ],
             [
              0.1111111111111111,
              "#46039f"
             ],
             [
              0.2222222222222222,
              "#7201a8"
             ],
             [
              0.3333333333333333,
              "#9c179e"
             ],
             [
              0.4444444444444444,
              "#bd3786"
             ],
             [
              0.5555555555555556,
              "#d8576b"
             ],
             [
              0.6666666666666666,
              "#ed7953"
             ],
             [
              0.7777777777777778,
              "#fb9f3a"
             ],
             [
              0.8888888888888888,
              "#fdca26"
             ],
             [
              1,
              "#f0f921"
             ]
            ],
            "type": "histogram2d"
           }
          ],
          "histogram2dcontour": [
           {
            "colorbar": {
             "outlinewidth": 0,
             "ticks": ""
            },
            "colorscale": [
             [
              0,
              "#0d0887"
             ],
             [
              0.1111111111111111,
              "#46039f"
             ],
             [
              0.2222222222222222,
              "#7201a8"
             ],
             [
              0.3333333333333333,
              "#9c179e"
             ],
             [
              0.4444444444444444,
              "#bd3786"
             ],
             [
              0.5555555555555556,
              "#d8576b"
             ],
             [
              0.6666666666666666,
              "#ed7953"
             ],
             [
              0.7777777777777778,
              "#fb9f3a"
             ],
             [
              0.8888888888888888,
              "#fdca26"
             ],
             [
              1,
              "#f0f921"
             ]
            ],
            "type": "histogram2dcontour"
           }
          ],
          "mesh3d": [
           {
            "colorbar": {
             "outlinewidth": 0,
             "ticks": ""
            },
            "type": "mesh3d"
           }
          ],
          "parcoords": [
           {
            "line": {
             "colorbar": {
              "outlinewidth": 0,
              "ticks": ""
             }
            },
            "type": "parcoords"
           }
          ],
          "pie": [
           {
            "automargin": true,
            "type": "pie"
           }
          ],
          "scatter": [
           {
            "fillpattern": {
             "fillmode": "overlay",
             "size": 10,
             "solidity": 0.2
            },
            "type": "scatter"
           }
          ],
          "scatter3d": [
           {
            "line": {
             "colorbar": {
              "outlinewidth": 0,
              "ticks": ""
             }
            },
            "marker": {
             "colorbar": {
              "outlinewidth": 0,
              "ticks": ""
             }
            },
            "type": "scatter3d"
           }
          ],
          "scattercarpet": [
           {
            "marker": {
             "colorbar": {
              "outlinewidth": 0,
              "ticks": ""
             }
            },
            "type": "scattercarpet"
           }
          ],
          "scattergeo": [
           {
            "marker": {
             "colorbar": {
              "outlinewidth": 0,
              "ticks": ""
             }
            },
            "type": "scattergeo"
           }
          ],
          "scattergl": [
           {
            "marker": {
             "colorbar": {
              "outlinewidth": 0,
              "ticks": ""
             }
            },
            "type": "scattergl"
           }
          ],
          "scattermap": [
           {
            "marker": {
             "colorbar": {
              "outlinewidth": 0,
              "ticks": ""
             }
            },
            "type": "scattermap"
           }
          ],
          "scattermapbox": [
           {
            "marker": {
             "colorbar": {
              "outlinewidth": 0,
              "ticks": ""
             }
            },
            "type": "scattermapbox"
           }
          ],
          "scatterpolar": [
           {
            "marker": {
             "colorbar": {
              "outlinewidth": 0,
              "ticks": ""
             }
            },
            "type": "scatterpolar"
           }
          ],
          "scatterpolargl": [
           {
            "marker": {
             "colorbar": {
              "outlinewidth": 0,
              "ticks": ""
             }
            },
            "type": "scatterpolargl"
           }
          ],
          "scatterternary": [
           {
            "marker": {
             "colorbar": {
              "outlinewidth": 0,
              "ticks": ""
             }
            },
            "type": "scatterternary"
           }
          ],
          "surface": [
           {
            "colorbar": {
             "outlinewidth": 0,
             "ticks": ""
            },
            "colorscale": [
             [
              0,
              "#0d0887"
             ],
             [
              0.1111111111111111,
              "#46039f"
             ],
             [
              0.2222222222222222,
              "#7201a8"
             ],
             [
              0.3333333333333333,
              "#9c179e"
             ],
             [
              0.4444444444444444,
              "#bd3786"
             ],
             [
              0.5555555555555556,
              "#d8576b"
             ],
             [
              0.6666666666666666,
              "#ed7953"
             ],
             [
              0.7777777777777778,
              "#fb9f3a"
             ],
             [
              0.8888888888888888,
              "#fdca26"
             ],
             [
              1,
              "#f0f921"
             ]
            ],
            "type": "surface"
           }
          ],
          "table": [
           {
            "cells": {
             "fill": {
              "color": "#EBF0F8"
             },
             "line": {
              "color": "white"
             }
            },
            "header": {
             "fill": {
              "color": "#C8D4E3"
             },
             "line": {
              "color": "white"
             }
            },
            "type": "table"
           }
          ]
         },
         "layout": {
          "annotationdefaults": {
           "arrowcolor": "#2a3f5f",
           "arrowhead": 0,
           "arrowwidth": 1
          },
          "autotypenumbers": "strict",
          "coloraxis": {
           "colorbar": {
            "outlinewidth": 0,
            "ticks": ""
           }
          },
          "colorscale": {
           "diverging": [
            [
             0,
             "#8e0152"
            ],
            [
             0.1,
             "#c51b7d"
            ],
            [
             0.2,
             "#de77ae"
            ],
            [
             0.3,
             "#f1b6da"
            ],
            [
             0.4,
             "#fde0ef"
            ],
            [
             0.5,
             "#f7f7f7"
            ],
            [
             0.6,
             "#e6f5d0"
            ],
            [
             0.7,
             "#b8e186"
            ],
            [
             0.8,
             "#7fbc41"
            ],
            [
             0.9,
             "#4d9221"
            ],
            [
             1,
             "#276419"
            ]
           ],
           "sequential": [
            [
             0,
             "#0d0887"
            ],
            [
             0.1111111111111111,
             "#46039f"
            ],
            [
             0.2222222222222222,
             "#7201a8"
            ],
            [
             0.3333333333333333,
             "#9c179e"
            ],
            [
             0.4444444444444444,
             "#bd3786"
            ],
            [
             0.5555555555555556,
             "#d8576b"
            ],
            [
             0.6666666666666666,
             "#ed7953"
            ],
            [
             0.7777777777777778,
             "#fb9f3a"
            ],
            [
             0.8888888888888888,
             "#fdca26"
            ],
            [
             1,
             "#f0f921"
            ]
           ],
           "sequentialminus": [
            [
             0,
             "#0d0887"
            ],
            [
             0.1111111111111111,
             "#46039f"
            ],
            [
             0.2222222222222222,
             "#7201a8"
            ],
            [
             0.3333333333333333,
             "#9c179e"
            ],
            [
             0.4444444444444444,
             "#bd3786"
            ],
            [
             0.5555555555555556,
             "#d8576b"
            ],
            [
             0.6666666666666666,
             "#ed7953"
            ],
            [
             0.7777777777777778,
             "#fb9f3a"
            ],
            [
             0.8888888888888888,
             "#fdca26"
            ],
            [
             1,
             "#f0f921"
            ]
           ]
          },
          "colorway": [
           "#636efa",
           "#EF553B",
           "#00cc96",
           "#ab63fa",
           "#FFA15A",
           "#19d3f3",
           "#FF6692",
           "#B6E880",
           "#FF97FF",
           "#FECB52"
          ],
          "font": {
           "color": "#2a3f5f"
          },
          "geo": {
           "bgcolor": "white",
           "lakecolor": "white",
           "landcolor": "#E5ECF6",
           "showlakes": true,
           "showland": true,
           "subunitcolor": "white"
          },
          "hoverlabel": {
           "align": "left"
          },
          "hovermode": "closest",
          "mapbox": {
           "style": "light"
          },
          "paper_bgcolor": "white",
          "plot_bgcolor": "#E5ECF6",
          "polar": {
           "angularaxis": {
            "gridcolor": "white",
            "linecolor": "white",
            "ticks": ""
           },
           "bgcolor": "#E5ECF6",
           "radialaxis": {
            "gridcolor": "white",
            "linecolor": "white",
            "ticks": ""
           }
          },
          "scene": {
           "xaxis": {
            "backgroundcolor": "#E5ECF6",
            "gridcolor": "white",
            "gridwidth": 2,
            "linecolor": "white",
            "showbackground": true,
            "ticks": "",
            "zerolinecolor": "white"
           },
           "yaxis": {
            "backgroundcolor": "#E5ECF6",
            "gridcolor": "white",
            "gridwidth": 2,
            "linecolor": "white",
            "showbackground": true,
            "ticks": "",
            "zerolinecolor": "white"
           },
           "zaxis": {
            "backgroundcolor": "#E5ECF6",
            "gridcolor": "white",
            "gridwidth": 2,
            "linecolor": "white",
            "showbackground": true,
            "ticks": "",
            "zerolinecolor": "white"
           }
          },
          "shapedefaults": {
           "line": {
            "color": "#2a3f5f"
           }
          },
          "ternary": {
           "aaxis": {
            "gridcolor": "white",
            "linecolor": "white",
            "ticks": ""
           },
           "baxis": {
            "gridcolor": "white",
            "linecolor": "white",
            "ticks": ""
           },
           "bgcolor": "#E5ECF6",
           "caxis": {
            "gridcolor": "white",
            "linecolor": "white",
            "ticks": ""
           }
          },
          "title": {
           "x": 0.05
          },
          "xaxis": {
           "automargin": true,
           "gridcolor": "white",
           "linecolor": "white",
           "ticks": "",
           "title": {
            "standoff": 15
           },
           "zerolinecolor": "white",
           "zerolinewidth": 2
          },
          "yaxis": {
           "automargin": true,
           "gridcolor": "white",
           "linecolor": "white",
           "ticks": "",
           "title": {
            "standoff": 15
           },
           "zerolinecolor": "white",
           "zerolinewidth": 2
          }
         }
        },
        "title": {
         "text": "Efficiency vs Weather & Maintenance"
        },
        "xaxis": {
         "anchor": "y",
         "domain": [
          0,
          1
         ],
         "title": {
          "text": "Weather Condition"
         }
        },
        "yaxis": {
         "anchor": "x",
         "domain": [
          0,
          1
         ],
         "title": {
          "text": "Maintenance Status"
         }
        }
       }
      }
     },
     "metadata": {},
     "output_type": "display_data"
    }
   ],
   "source": [
    "# Efficiency vs weather & maintenance\n",
    "avg_efficiency = df.groupby('Ship_Type')['Efficiency_nm_per_kWh'].mean().reset_index()\n",
    "\n",
    "fig = px.density_heatmap(df, x='Weather_Condition', y='Maintenance_Status', z='Efficiency_nm_per_kWh',\n",
    "                            color_continuous_scale='Viridis', title='Efficiency vs Weather & Maintenance')\n",
    "\n",
    "fig.update_layout(xaxis_title='Weather Condition', yaxis_title='Maintenance Status')\n",
    "fig.show()"
   ]
  }
 ],
 "metadata": {
  "kernelspec": {
   "display_name": "base",
   "language": "python",
   "name": "python3"
  },
  "language_info": {
   "codemirror_mode": {
    "name": "ipython",
    "version": 3
   },
   "file_extension": ".py",
   "mimetype": "text/x-python",
   "name": "python",
   "nbconvert_exporter": "python",
   "pygments_lexer": "ipython3",
   "version": "3.12.9"
  }
 },
 "nbformat": 4,
 "nbformat_minor": 5
}
