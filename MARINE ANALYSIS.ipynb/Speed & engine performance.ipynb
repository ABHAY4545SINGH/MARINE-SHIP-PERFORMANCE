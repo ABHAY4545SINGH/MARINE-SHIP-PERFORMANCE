{
 "cells": [
  {
   "cell_type": "code",
   "execution_count": 2,
   "id": "0c2a497d",
   "metadata": {},
   "outputs": [],
   "source": [
    "import pandas as pd\n",
    "import numpy as np\n",
    "import matplotlib.pyplot as plt\n",
    "import seaborn as sns\n",
    "import plotly.express as px\n",
    "\n"
   ]
  },
  {
   "cell_type": "code",
   "execution_count": 3,
   "id": "f22e4cd8",
   "metadata": {},
   "outputs": [
    {
     "data": {
      "text/html": [
       "<div>\n",
       "<style scoped>\n",
       "    .dataframe tbody tr th:only-of-type {\n",
       "        vertical-align: middle;\n",
       "    }\n",
       "\n",
       "    .dataframe tbody tr th {\n",
       "        vertical-align: top;\n",
       "    }\n",
       "\n",
       "    .dataframe thead th {\n",
       "        text-align: right;\n",
       "    }\n",
       "</style>\n",
       "<table border=\"1\" class=\"dataframe\">\n",
       "  <thead>\n",
       "    <tr style=\"text-align: right;\">\n",
       "      <th></th>\n",
       "      <th>Date</th>\n",
       "      <th>Ship_Type</th>\n",
       "      <th>Route_Type</th>\n",
       "      <th>Engine_Type</th>\n",
       "      <th>Maintenance_Status</th>\n",
       "      <th>Speed_Over_Ground_knots</th>\n",
       "      <th>Engine_Power_kW</th>\n",
       "      <th>Distance_Traveled_nm</th>\n",
       "      <th>Draft_meters</th>\n",
       "      <th>Weather_Condition</th>\n",
       "      <th>Cargo_Weight_tons</th>\n",
       "      <th>Operational_Cost_USD</th>\n",
       "      <th>Revenue_per_Voyage_USD</th>\n",
       "      <th>Turnaround_Time_hours</th>\n",
       "      <th>Efficiency_nm_per_kWh</th>\n",
       "      <th>Seasonal_Impact_Score</th>\n",
       "      <th>Weekly_Voyage_Count</th>\n",
       "      <th>Average_Load_Percentage</th>\n",
       "    </tr>\n",
       "  </thead>\n",
       "  <tbody>\n",
       "    <tr>\n",
       "      <th>0</th>\n",
       "      <td>2023-06-04</td>\n",
       "      <td>Container Ship</td>\n",
       "      <td>NaN</td>\n",
       "      <td>Heavy Fuel Oil (HFO)</td>\n",
       "      <td>Critical</td>\n",
       "      <td>12.597558</td>\n",
       "      <td>2062.983982</td>\n",
       "      <td>1030.943616</td>\n",
       "      <td>14.132284</td>\n",
       "      <td>Moderate</td>\n",
       "      <td>1959.017882</td>\n",
       "      <td>483832.354540</td>\n",
       "      <td>292183.273104</td>\n",
       "      <td>25.867077</td>\n",
       "      <td>1.455179</td>\n",
       "      <td>1.415653</td>\n",
       "      <td>1</td>\n",
       "      <td>93.769249</td>\n",
       "    </tr>\n",
       "    <tr>\n",
       "      <th>1</th>\n",
       "      <td>2023-06-11</td>\n",
       "      <td>Fish Carrier</td>\n",
       "      <td>Short-haul</td>\n",
       "      <td>Steam Turbine</td>\n",
       "      <td>Good</td>\n",
       "      <td>10.387580</td>\n",
       "      <td>1796.057415</td>\n",
       "      <td>1060.486382</td>\n",
       "      <td>14.653083</td>\n",
       "      <td>Rough</td>\n",
       "      <td>162.394712</td>\n",
       "      <td>483388.000509</td>\n",
       "      <td>883765.787360</td>\n",
       "      <td>63.248196</td>\n",
       "      <td>0.290361</td>\n",
       "      <td>0.885648</td>\n",
       "      <td>6</td>\n",
       "      <td>93.895372</td>\n",
       "    </tr>\n",
       "    <tr>\n",
       "      <th>2</th>\n",
       "      <td>2023-06-18</td>\n",
       "      <td>Container Ship</td>\n",
       "      <td>Long-haul</td>\n",
       "      <td>Diesel</td>\n",
       "      <td>Fair</td>\n",
       "      <td>20.749747</td>\n",
       "      <td>1648.556685</td>\n",
       "      <td>658.874144</td>\n",
       "      <td>7.199261</td>\n",
       "      <td>Moderate</td>\n",
       "      <td>178.040917</td>\n",
       "      <td>448543.404044</td>\n",
       "      <td>394018.746904</td>\n",
       "      <td>49.418150</td>\n",
       "      <td>0.499595</td>\n",
       "      <td>1.405813</td>\n",
       "      <td>9</td>\n",
       "      <td>96.218244</td>\n",
       "    </tr>\n",
       "    <tr>\n",
       "      <th>3</th>\n",
       "      <td>2023-06-25</td>\n",
       "      <td>Bulk Carrier</td>\n",
       "      <td>Transoceanic</td>\n",
       "      <td>Steam Turbine</td>\n",
       "      <td>Fair</td>\n",
       "      <td>21.055102</td>\n",
       "      <td>915.261795</td>\n",
       "      <td>1126.822519</td>\n",
       "      <td>11.789063</td>\n",
       "      <td>Moderate</td>\n",
       "      <td>1737.385346</td>\n",
       "      <td>261349.605449</td>\n",
       "      <td>87551.375175</td>\n",
       "      <td>22.409110</td>\n",
       "      <td>0.702906</td>\n",
       "      <td>1.370704</td>\n",
       "      <td>1</td>\n",
       "      <td>66.193698</td>\n",
       "    </tr>\n",
       "    <tr>\n",
       "      <th>4</th>\n",
       "      <td>2023-07-02</td>\n",
       "      <td>Fish Carrier</td>\n",
       "      <td>Transoceanic</td>\n",
       "      <td>Diesel</td>\n",
       "      <td>Fair</td>\n",
       "      <td>13.742777</td>\n",
       "      <td>1089.721803</td>\n",
       "      <td>1445.281159</td>\n",
       "      <td>9.727833</td>\n",
       "      <td>Moderate</td>\n",
       "      <td>260.595103</td>\n",
       "      <td>287718.375160</td>\n",
       "      <td>676121.459632</td>\n",
       "      <td>64.158231</td>\n",
       "      <td>1.331343</td>\n",
       "      <td>0.583383</td>\n",
       "      <td>8</td>\n",
       "      <td>80.008581</td>\n",
       "    </tr>\n",
       "    <tr>\n",
       "      <th>...</th>\n",
       "      <td>...</td>\n",
       "      <td>...</td>\n",
       "      <td>...</td>\n",
       "      <td>...</td>\n",
       "      <td>...</td>\n",
       "      <td>...</td>\n",
       "      <td>...</td>\n",
       "      <td>...</td>\n",
       "      <td>...</td>\n",
       "      <td>...</td>\n",
       "      <td>...</td>\n",
       "      <td>...</td>\n",
       "      <td>...</td>\n",
       "      <td>...</td>\n",
       "      <td>...</td>\n",
       "      <td>...</td>\n",
       "      <td>...</td>\n",
       "      <td>...</td>\n",
       "    </tr>\n",
       "    <tr>\n",
       "      <th>2731</th>\n",
       "      <td>2024-06-02</td>\n",
       "      <td>Tanker</td>\n",
       "      <td>Short-haul</td>\n",
       "      <td>Heavy Fuel Oil (HFO)</td>\n",
       "      <td>Good</td>\n",
       "      <td>11.607997</td>\n",
       "      <td>2918.395972</td>\n",
       "      <td>239.990359</td>\n",
       "      <td>13.700906</td>\n",
       "      <td>Moderate</td>\n",
       "      <td>318.111891</td>\n",
       "      <td>237975.067292</td>\n",
       "      <td>731584.322921</td>\n",
       "      <td>47.152337</td>\n",
       "      <td>1.000265</td>\n",
       "      <td>1.284895</td>\n",
       "      <td>3</td>\n",
       "      <td>74.813114</td>\n",
       "    </tr>\n",
       "    <tr>\n",
       "      <th>2732</th>\n",
       "      <td>2024-06-09</td>\n",
       "      <td>Bulk Carrier</td>\n",
       "      <td>Short-haul</td>\n",
       "      <td>Heavy Fuel Oil (HFO)</td>\n",
       "      <td>Good</td>\n",
       "      <td>13.852798</td>\n",
       "      <td>2161.282358</td>\n",
       "      <td>831.355653</td>\n",
       "      <td>14.612775</td>\n",
       "      <td>NaN</td>\n",
       "      <td>218.309002</td>\n",
       "      <td>21029.021721</td>\n",
       "      <td>374365.370930</td>\n",
       "      <td>64.325916</td>\n",
       "      <td>0.653474</td>\n",
       "      <td>0.891085</td>\n",
       "      <td>2</td>\n",
       "      <td>84.595155</td>\n",
       "    </tr>\n",
       "    <tr>\n",
       "      <th>2733</th>\n",
       "      <td>2024-06-16</td>\n",
       "      <td>Container Ship</td>\n",
       "      <td>Short-haul</td>\n",
       "      <td>Steam Turbine</td>\n",
       "      <td>Critical</td>\n",
       "      <td>16.813713</td>\n",
       "      <td>1343.608006</td>\n",
       "      <td>1376.460622</td>\n",
       "      <td>9.306518</td>\n",
       "      <td>NaN</td>\n",
       "      <td>1630.646419</td>\n",
       "      <td>78883.312529</td>\n",
       "      <td>234120.365052</td>\n",
       "      <td>53.551090</td>\n",
       "      <td>0.594169</td>\n",
       "      <td>0.725404</td>\n",
       "      <td>6</td>\n",
       "      <td>80.975269</td>\n",
       "    </tr>\n",
       "    <tr>\n",
       "      <th>2734</th>\n",
       "      <td>2024-06-23</td>\n",
       "      <td>Tanker</td>\n",
       "      <td>Transoceanic</td>\n",
       "      <td>Heavy Fuel Oil (HFO)</td>\n",
       "      <td>Good</td>\n",
       "      <td>23.132643</td>\n",
       "      <td>2028.143572</td>\n",
       "      <td>619.236340</td>\n",
       "      <td>6.623856</td>\n",
       "      <td>Moderate</td>\n",
       "      <td>153.441965</td>\n",
       "      <td>25241.550250</td>\n",
       "      <td>799713.737211</td>\n",
       "      <td>14.335517</td>\n",
       "      <td>0.895670</td>\n",
       "      <td>0.902960</td>\n",
       "      <td>2</td>\n",
       "      <td>92.853622</td>\n",
       "    </tr>\n",
       "    <tr>\n",
       "      <th>2735</th>\n",
       "      <td>2024-06-30</td>\n",
       "      <td>Fish Carrier</td>\n",
       "      <td>Coastal</td>\n",
       "      <td>Steam Turbine</td>\n",
       "      <td>Fair</td>\n",
       "      <td>11.527987</td>\n",
       "      <td>2928.588108</td>\n",
       "      <td>1930.235779</td>\n",
       "      <td>14.187652</td>\n",
       "      <td>Moderate</td>\n",
       "      <td>712.997894</td>\n",
       "      <td>55163.241668</td>\n",
       "      <td>382208.021405</td>\n",
       "      <td>63.886256</td>\n",
       "      <td>0.825349</td>\n",
       "      <td>1.289204</td>\n",
       "      <td>2</td>\n",
       "      <td>66.190613</td>\n",
       "    </tr>\n",
       "  </tbody>\n",
       "</table>\n",
       "<p>2736 rows × 18 columns</p>\n",
       "</div>"
      ],
      "text/plain": [
       "            Date       Ship_Type    Route_Type           Engine_Type  \\\n",
       "0     2023-06-04  Container Ship           NaN  Heavy Fuel Oil (HFO)   \n",
       "1     2023-06-11    Fish Carrier    Short-haul         Steam Turbine   \n",
       "2     2023-06-18  Container Ship     Long-haul                Diesel   \n",
       "3     2023-06-25    Bulk Carrier  Transoceanic         Steam Turbine   \n",
       "4     2023-07-02    Fish Carrier  Transoceanic                Diesel   \n",
       "...          ...             ...           ...                   ...   \n",
       "2731  2024-06-02          Tanker    Short-haul  Heavy Fuel Oil (HFO)   \n",
       "2732  2024-06-09    Bulk Carrier    Short-haul  Heavy Fuel Oil (HFO)   \n",
       "2733  2024-06-16  Container Ship    Short-haul         Steam Turbine   \n",
       "2734  2024-06-23          Tanker  Transoceanic  Heavy Fuel Oil (HFO)   \n",
       "2735  2024-06-30    Fish Carrier       Coastal         Steam Turbine   \n",
       "\n",
       "     Maintenance_Status  Speed_Over_Ground_knots  Engine_Power_kW  \\\n",
       "0              Critical                12.597558      2062.983982   \n",
       "1                  Good                10.387580      1796.057415   \n",
       "2                  Fair                20.749747      1648.556685   \n",
       "3                  Fair                21.055102       915.261795   \n",
       "4                  Fair                13.742777      1089.721803   \n",
       "...                 ...                      ...              ...   \n",
       "2731               Good                11.607997      2918.395972   \n",
       "2732               Good                13.852798      2161.282358   \n",
       "2733           Critical                16.813713      1343.608006   \n",
       "2734               Good                23.132643      2028.143572   \n",
       "2735               Fair                11.527987      2928.588108   \n",
       "\n",
       "      Distance_Traveled_nm  Draft_meters Weather_Condition  Cargo_Weight_tons  \\\n",
       "0              1030.943616     14.132284          Moderate        1959.017882   \n",
       "1              1060.486382     14.653083             Rough         162.394712   \n",
       "2               658.874144      7.199261          Moderate         178.040917   \n",
       "3              1126.822519     11.789063          Moderate        1737.385346   \n",
       "4              1445.281159      9.727833          Moderate         260.595103   \n",
       "...                    ...           ...               ...                ...   \n",
       "2731            239.990359     13.700906          Moderate         318.111891   \n",
       "2732            831.355653     14.612775               NaN         218.309002   \n",
       "2733           1376.460622      9.306518               NaN        1630.646419   \n",
       "2734            619.236340      6.623856          Moderate         153.441965   \n",
       "2735           1930.235779     14.187652          Moderate         712.997894   \n",
       "\n",
       "      Operational_Cost_USD  Revenue_per_Voyage_USD  Turnaround_Time_hours  \\\n",
       "0            483832.354540           292183.273104              25.867077   \n",
       "1            483388.000509           883765.787360              63.248196   \n",
       "2            448543.404044           394018.746904              49.418150   \n",
       "3            261349.605449            87551.375175              22.409110   \n",
       "4            287718.375160           676121.459632              64.158231   \n",
       "...                    ...                     ...                    ...   \n",
       "2731         237975.067292           731584.322921              47.152337   \n",
       "2732          21029.021721           374365.370930              64.325916   \n",
       "2733          78883.312529           234120.365052              53.551090   \n",
       "2734          25241.550250           799713.737211              14.335517   \n",
       "2735          55163.241668           382208.021405              63.886256   \n",
       "\n",
       "      Efficiency_nm_per_kWh  Seasonal_Impact_Score  Weekly_Voyage_Count  \\\n",
       "0                  1.455179               1.415653                    1   \n",
       "1                  0.290361               0.885648                    6   \n",
       "2                  0.499595               1.405813                    9   \n",
       "3                  0.702906               1.370704                    1   \n",
       "4                  1.331343               0.583383                    8   \n",
       "...                     ...                    ...                  ...   \n",
       "2731               1.000265               1.284895                    3   \n",
       "2732               0.653474               0.891085                    2   \n",
       "2733               0.594169               0.725404                    6   \n",
       "2734               0.895670               0.902960                    2   \n",
       "2735               0.825349               1.289204                    2   \n",
       "\n",
       "      Average_Load_Percentage  \n",
       "0                   93.769249  \n",
       "1                   93.895372  \n",
       "2                   96.218244  \n",
       "3                   66.193698  \n",
       "4                   80.008581  \n",
       "...                       ...  \n",
       "2731                74.813114  \n",
       "2732                84.595155  \n",
       "2733                80.975269  \n",
       "2734                92.853622  \n",
       "2735                66.190613  \n",
       "\n",
       "[2736 rows x 18 columns]"
      ]
     },
     "execution_count": 3,
     "metadata": {},
     "output_type": "execute_result"
    }
   ],
   "source": [
    "df = pd.read_csv(\"Ship_Performance_Dataset.csv\")\n",
    "df "
   ]
  },
  {
   "cell_type": "code",
   "execution_count": 5,
   "id": "827156cf",
   "metadata": {},
   "outputs": [
    {
     "data": {
      "application/vnd.plotly.v1+json": {
       "config": {
        "plotlyServerURL": "https://plot.ly"
       },
       "data": [
        {
         "hovertemplate": "Distance Travelled (nm)=%{x}<br>Speed_Over_Ground_knots=%{y}<extra></extra>",
         "legendgroup": "",
         "line": {
          "color": "#636efa",
          "dash": "solid"
         },
         "marker": {
          "symbol": "circle"
         },
         "mode": "lines+markers",
         "name": "",
         "showlegend": false,
         "type": "scattergl",
         "x": {
          "bdata": "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",
          "dtype": "f8"
         },
         "xaxis": "x",
         "y": {
          "bdata": "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",
          "dtype": "f8"
         },
         "yaxis": "y"
        }
       ],
       "layout": {
        "legend": {
         "tracegroupgap": 0
        },
        "template": {
         "data": {
          "bar": [
           {
            "error_x": {
             "color": "#2a3f5f"
            },
            "error_y": {
             "color": "#2a3f5f"
            },
            "marker": {
             "line": {
              "color": "#E5ECF6",
              "width": 0.5
             },
             "pattern": {
              "fillmode": "overlay",
              "size": 10,
              "solidity": 0.2
             }
            },
            "type": "bar"
           }
          ],
          "barpolar": [
           {
            "marker": {
             "line": {
              "color": "#E5ECF6",
              "width": 0.5
             },
             "pattern": {
              "fillmode": "overlay",
              "size": 10,
              "solidity": 0.2
             }
            },
            "type": "barpolar"
           }
          ],
          "carpet": [
           {
            "aaxis": {
             "endlinecolor": "#2a3f5f",
             "gridcolor": "white",
             "linecolor": "white",
             "minorgridcolor": "white",
             "startlinecolor": "#2a3f5f"
            },
            "baxis": {
             "endlinecolor": "#2a3f5f",
             "gridcolor": "white",
             "linecolor": "white",
             "minorgridcolor": "white",
             "startlinecolor": "#2a3f5f"
            },
            "type": "carpet"
           }
          ],
          "choropleth": [
           {
            "colorbar": {
             "outlinewidth": 0,
             "ticks": ""
            },
            "type": "choropleth"
           }
          ],
          "contour": [
           {
            "colorbar": {
             "outlinewidth": 0,
             "ticks": ""
            },
            "colorscale": [
             [
              0,
              "#0d0887"
             ],
             [
              0.1111111111111111,
              "#46039f"
             ],
             [
              0.2222222222222222,
              "#7201a8"
             ],
             [
              0.3333333333333333,
              "#9c179e"
             ],
             [
              0.4444444444444444,
              "#bd3786"
             ],
             [
              0.5555555555555556,
              "#d8576b"
             ],
             [
              0.6666666666666666,
              "#ed7953"
             ],
             [
              0.7777777777777778,
              "#fb9f3a"
             ],
             [
              0.8888888888888888,
              "#fdca26"
             ],
             [
              1,
              "#f0f921"
             ]
            ],
            "type": "contour"
           }
          ],
          "contourcarpet": [
           {
            "colorbar": {
             "outlinewidth": 0,
             "ticks": ""
            },
            "type": "contourcarpet"
           }
          ],
          "heatmap": [
           {
            "colorbar": {
             "outlinewidth": 0,
             "ticks": ""
            },
            "colorscale": [
             [
              0,
              "#0d0887"
             ],
             [
              0.1111111111111111,
              "#46039f"
             ],
             [
              0.2222222222222222,
              "#7201a8"
             ],
             [
              0.3333333333333333,
              "#9c179e"
             ],
             [
              0.4444444444444444,
              "#bd3786"
             ],
             [
              0.5555555555555556,
              "#d8576b"
             ],
             [
              0.6666666666666666,
              "#ed7953"
             ],
             [
              0.7777777777777778,
              "#fb9f3a"
             ],
             [
              0.8888888888888888,
              "#fdca26"
             ],
             [
              1,
              "#f0f921"
             ]
            ],
            "type": "heatmap"
           }
          ],
          "histogram": [
           {
            "marker": {
             "pattern": {
              "fillmode": "overlay",
              "size": 10,
              "solidity": 0.2
             }
            },
            "type": "histogram"
           }
          ],
          "histogram2d": [
           {
            "colorbar": {
             "outlinewidth": 0,
             "ticks": ""
            },
            "colorscale": [
             [
              0,
              "#0d0887"
             ],
             [
              0.1111111111111111,
              "#46039f"
             ],
             [
              0.2222222222222222,
              "#7201a8"
             ],
             [
              0.3333333333333333,
              "#9c179e"
             ],
             [
              0.4444444444444444,
              "#bd3786"
             ],
             [
              0.5555555555555556,
              "#d8576b"
             ],
             [
              0.6666666666666666,
              "#ed7953"
             ],
             [
              0.7777777777777778,
              "#fb9f3a"
             ],
             [
              0.8888888888888888,
              "#fdca26"
             ],
             [
              1,
              "#f0f921"
             ]
            ],
            "type": "histogram2d"
           }
          ],
          "histogram2dcontour": [
           {
            "colorbar": {
             "outlinewidth": 0,
             "ticks": ""
            },
            "colorscale": [
             [
              0,
              "#0d0887"
             ],
             [
              0.1111111111111111,
              "#46039f"
             ],
             [
              0.2222222222222222,
              "#7201a8"
             ],
             [
              0.3333333333333333,
              "#9c179e"
             ],
             [
              0.4444444444444444,
              "#bd3786"
             ],
             [
              0.5555555555555556,
              "#d8576b"
             ],
             [
              0.6666666666666666,
              "#ed7953"
             ],
             [
              0.7777777777777778,
              "#fb9f3a"
             ],
             [
              0.8888888888888888,
              "#fdca26"
             ],
             [
              1,
              "#f0f921"
             ]
            ],
            "type": "histogram2dcontour"
           }
          ],
          "mesh3d": [
           {
            "colorbar": {
             "outlinewidth": 0,
             "ticks": ""
            },
            "type": "mesh3d"
           }
          ],
          "parcoords": [
           {
            "line": {
             "colorbar": {
              "outlinewidth": 0,
              "ticks": ""
             }
            },
            "type": "parcoords"
           }
          ],
          "pie": [
           {
            "automargin": true,
            "type": "pie"
           }
          ],
          "scatter": [
           {
            "fillpattern": {
             "fillmode": "overlay",
             "size": 10,
             "solidity": 0.2
            },
            "type": "scatter"
           }
          ],
          "scatter3d": [
           {
            "line": {
             "colorbar": {
              "outlinewidth": 0,
              "ticks": ""
             }
            },
            "marker": {
             "colorbar": {
              "outlinewidth": 0,
              "ticks": ""
             }
            },
            "type": "scatter3d"
           }
          ],
          "scattercarpet": [
           {
            "marker": {
             "colorbar": {
              "outlinewidth": 0,
              "ticks": ""
             }
            },
            "type": "scattercarpet"
           }
          ],
          "scattergeo": [
           {
            "marker": {
             "colorbar": {
              "outlinewidth": 0,
              "ticks": ""
             }
            },
            "type": "scattergeo"
           }
          ],
          "scattergl": [
           {
            "marker": {
             "colorbar": {
              "outlinewidth": 0,
              "ticks": ""
             }
            },
            "type": "scattergl"
           }
          ],
          "scattermap": [
           {
            "marker": {
             "colorbar": {
              "outlinewidth": 0,
              "ticks": ""
             }
            },
            "type": "scattermap"
           }
          ],
          "scattermapbox": [
           {
            "marker": {
             "colorbar": {
              "outlinewidth": 0,
              "ticks": ""
             }
            },
            "type": "scattermapbox"
           }
          ],
          "scatterpolar": [
           {
            "marker": {
             "colorbar": {
              "outlinewidth": 0,
              "ticks": ""
             }
            },
            "type": "scatterpolar"
           }
          ],
          "scatterpolargl": [
           {
            "marker": {
             "colorbar": {
              "outlinewidth": 0,
              "ticks": ""
             }
            },
            "type": "scatterpolargl"
           }
          ],
          "scatterternary": [
           {
            "marker": {
             "colorbar": {
              "outlinewidth": 0,
              "ticks": ""
             }
            },
            "type": "scatterternary"
           }
          ],
          "surface": [
           {
            "colorbar": {
             "outlinewidth": 0,
             "ticks": ""
            },
            "colorscale": [
             [
              0,
              "#0d0887"
             ],
             [
              0.1111111111111111,
              "#46039f"
             ],
             [
              0.2222222222222222,
              "#7201a8"
             ],
             [
              0.3333333333333333,
              "#9c179e"
             ],
             [
              0.4444444444444444,
              "#bd3786"
             ],
             [
              0.5555555555555556,
              "#d8576b"
             ],
             [
              0.6666666666666666,
              "#ed7953"
             ],
             [
              0.7777777777777778,
              "#fb9f3a"
             ],
             [
              0.8888888888888888,
              "#fdca26"
             ],
             [
              1,
              "#f0f921"
             ]
            ],
            "type": "surface"
           }
          ],
          "table": [
           {
            "cells": {
             "fill": {
              "color": "#EBF0F8"
             },
             "line": {
              "color": "white"
             }
            },
            "header": {
             "fill": {
              "color": "#C8D4E3"
             },
             "line": {
              "color": "white"
             }
            },
            "type": "table"
           }
          ]
         },
         "layout": {
          "annotationdefaults": {
           "arrowcolor": "#2a3f5f",
           "arrowhead": 0,
           "arrowwidth": 1
          },
          "autotypenumbers": "strict",
          "coloraxis": {
           "colorbar": {
            "outlinewidth": 0,
            "ticks": ""
           }
          },
          "colorscale": {
           "diverging": [
            [
             0,
             "#8e0152"
            ],
            [
             0.1,
             "#c51b7d"
            ],
            [
             0.2,
             "#de77ae"
            ],
            [
             0.3,
             "#f1b6da"
            ],
            [
             0.4,
             "#fde0ef"
            ],
            [
             0.5,
             "#f7f7f7"
            ],
            [
             0.6,
             "#e6f5d0"
            ],
            [
             0.7,
             "#b8e186"
            ],
            [
             0.8,
             "#7fbc41"
            ],
            [
             0.9,
             "#4d9221"
            ],
            [
             1,
             "#276419"
            ]
           ],
           "sequential": [
            [
             0,
             "#0d0887"
            ],
            [
             0.1111111111111111,
             "#46039f"
            ],
            [
             0.2222222222222222,
             "#7201a8"
            ],
            [
             0.3333333333333333,
             "#9c179e"
            ],
            [
             0.4444444444444444,
             "#bd3786"
            ],
            [
             0.5555555555555556,
             "#d8576b"
            ],
            [
             0.6666666666666666,
             "#ed7953"
            ],
            [
             0.7777777777777778,
             "#fb9f3a"
            ],
            [
             0.8888888888888888,
             "#fdca26"
            ],
            [
             1,
             "#f0f921"
            ]
           ],
           "sequentialminus": [
            [
             0,
             "#0d0887"
            ],
            [
             0.1111111111111111,
             "#46039f"
            ],
            [
             0.2222222222222222,
             "#7201a8"
            ],
            [
             0.3333333333333333,
             "#9c179e"
            ],
            [
             0.4444444444444444,
             "#bd3786"
            ],
            [
             0.5555555555555556,
             "#d8576b"
            ],
            [
             0.6666666666666666,
             "#ed7953"
            ],
            [
             0.7777777777777778,
             "#fb9f3a"
            ],
            [
             0.8888888888888888,
             "#fdca26"
            ],
            [
             1,
             "#f0f921"
            ]
           ]
          },
          "colorway": [
           "#636efa",
           "#EF553B",
           "#00cc96",
           "#ab63fa",
           "#FFA15A",
           "#19d3f3",
           "#FF6692",
           "#B6E880",
           "#FF97FF",
           "#FECB52"
          ],
          "font": {
           "color": "#2a3f5f"
          },
          "geo": {
           "bgcolor": "white",
           "lakecolor": "white",
           "landcolor": "#E5ECF6",
           "showlakes": true,
           "showland": true,
           "subunitcolor": "white"
          },
          "hoverlabel": {
           "align": "left"
          },
          "hovermode": "closest",
          "mapbox": {
           "style": "light"
          },
          "paper_bgcolor": "white",
          "plot_bgcolor": "#E5ECF6",
          "polar": {
           "angularaxis": {
            "gridcolor": "white",
            "linecolor": "white",
            "ticks": ""
           },
           "bgcolor": "#E5ECF6",
           "radialaxis": {
            "gridcolor": "white",
            "linecolor": "white",
            "ticks": ""
           }
          },
          "scene": {
           "xaxis": {
            "backgroundcolor": "#E5ECF6",
            "gridcolor": "white",
            "gridwidth": 2,
            "linecolor": "white",
            "showbackground": true,
            "ticks": "",
            "zerolinecolor": "white"
           },
           "yaxis": {
            "backgroundcolor": "#E5ECF6",
            "gridcolor": "white",
            "gridwidth": 2,
            "linecolor": "white",
            "showbackground": true,
            "ticks": "",
            "zerolinecolor": "white"
           },
           "zaxis": {
            "backgroundcolor": "#E5ECF6",
            "gridcolor": "white",
            "gridwidth": 2,
            "linecolor": "white",
            "showbackground": true,
            "ticks": "",
            "zerolinecolor": "white"
           }
          },
          "shapedefaults": {
           "line": {
            "color": "#2a3f5f"
           }
          },
          "ternary": {
           "aaxis": {
            "gridcolor": "white",
            "linecolor": "white",
            "ticks": ""
           },
           "baxis": {
            "gridcolor": "white",
            "linecolor": "white",
            "ticks": ""
           },
           "bgcolor": "#E5ECF6",
           "caxis": {
            "gridcolor": "white",
            "linecolor": "white",
            "ticks": ""
           }
          },
          "title": {
           "x": 0.05
          },
          "xaxis": {
           "automargin": true,
           "gridcolor": "white",
           "linecolor": "white",
           "ticks": "",
           "title": {
            "standoff": 15
           },
           "zerolinecolor": "white",
           "zerolinewidth": 2
          },
          "yaxis": {
           "automargin": true,
           "gridcolor": "white",
           "linecolor": "white",
           "ticks": "",
           "title": {
            "standoff": 15
           },
           "zerolinecolor": "white",
           "zerolinewidth": 2
          }
         }
        },
        "title": {
         "text": "Speed over Ground vs Distance Travelled"
        },
        "xaxis": {
         "anchor": "y",
         "domain": [
          0,
          1
         ],
         "tickangle": 0,
         "title": {
          "text": "Distance Travelled (nm)"
         }
        },
        "yaxis": {
         "anchor": "x",
         "domain": [
          0,
          1
         ],
         "title": {
          "text": "Speed_Over_Ground_knots"
         }
        }
       }
      }
     },
     "metadata": {},
     "output_type": "display_data"
    }
   ],
   "source": [
    "# Speed over ground vs distance travelled\n",
    "data_sorted = df.sort_values(by='Distance_Traveled_nm')\n",
    "\n",
    "fig = px.line(\n",
    "    data_sorted, \n",
    "    x='Distance_Traveled_nm', \n",
    "    y='Speed_Over_Ground_knots', \n",
    "    title='Speed over Ground vs Distance Travelled',\n",
    "    markers=True,\n",
    "    labels={'Distance_Traveled_nm': 'Distance Travelled (nm)', 'Speed_over_Ground_knot': 'Speed over Ground (knot)'}\n",
    ")\n",
    "fig.update_layout(xaxis_tickangle=0)\n",
    "fig.show()"
   ]
  },
  {
   "cell_type": "code",
   "execution_count": 6,
   "id": "0fbca7ba",
   "metadata": {},
   "outputs": [
    {
     "data": {
      "application/vnd.plotly.v1+json": {
       "config": {
        "plotlyServerURL": "https://plot.ly"
       },
       "data": [
        {
         "hovertemplate": "Engine Type=%{x}<br>Average Speed (knot)=%{marker.color}<extra></extra>",
         "legendgroup": "",
         "marker": {
          "color": {
           "bdata": "9YpL+nyVMUCQu/8IY7oxQOJy0uuAhjFA",
           "dtype": "f8"
          },
          "coloraxis": "coloraxis",
          "pattern": {
           "shape": ""
          }
         },
         "name": "",
         "orientation": "v",
         "showlegend": false,
         "textposition": "auto",
         "type": "bar",
         "x": [
          "Diesel",
          "Heavy Fuel Oil (HFO)",
          "Steam Turbine"
         ],
         "xaxis": "x",
         "y": {
          "bdata": "9YpL+nyVMUCQu/8IY7oxQOJy0uuAhjFA",
          "dtype": "f8"
         },
         "yaxis": "y"
        }
       ],
       "layout": {
        "barmode": "relative",
        "coloraxis": {
         "colorbar": {
          "title": {
           "text": "Average Speed (knot)"
          }
         },
         "colorscale": [
          [
           0,
           "rgb(176, 242, 188)"
          ],
          [
           0.16666666666666666,
           "rgb(137, 232, 172)"
          ],
          [
           0.3333333333333333,
           "rgb(103, 219, 165)"
          ],
          [
           0.5,
           "rgb(76, 200, 163)"
          ],
          [
           0.6666666666666666,
           "rgb(56, 178, 163)"
          ],
          [
           0.8333333333333334,
           "rgb(44, 152, 160)"
          ],
          [
           1,
           "rgb(37, 125, 152)"
          ]
         ]
        },
        "legend": {
         "tracegroupgap": 0
        },
        "template": {
         "data": {
          "bar": [
           {
            "error_x": {
             "color": "#2a3f5f"
            },
            "error_y": {
             "color": "#2a3f5f"
            },
            "marker": {
             "line": {
              "color": "#E5ECF6",
              "width": 0.5
             },
             "pattern": {
              "fillmode": "overlay",
              "size": 10,
              "solidity": 0.2
             }
            },
            "type": "bar"
           }
          ],
          "barpolar": [
           {
            "marker": {
             "line": {
              "color": "#E5ECF6",
              "width": 0.5
             },
             "pattern": {
              "fillmode": "overlay",
              "size": 10,
              "solidity": 0.2
             }
            },
            "type": "barpolar"
           }
          ],
          "carpet": [
           {
            "aaxis": {
             "endlinecolor": "#2a3f5f",
             "gridcolor": "white",
             "linecolor": "white",
             "minorgridcolor": "white",
             "startlinecolor": "#2a3f5f"
            },
            "baxis": {
             "endlinecolor": "#2a3f5f",
             "gridcolor": "white",
             "linecolor": "white",
             "minorgridcolor": "white",
             "startlinecolor": "#2a3f5f"
            },
            "type": "carpet"
           }
          ],
          "choropleth": [
           {
            "colorbar": {
             "outlinewidth": 0,
             "ticks": ""
            },
            "type": "choropleth"
           }
          ],
          "contour": [
           {
            "colorbar": {
             "outlinewidth": 0,
             "ticks": ""
            },
            "colorscale": [
             [
              0,
              "#0d0887"
             ],
             [
              0.1111111111111111,
              "#46039f"
             ],
             [
              0.2222222222222222,
              "#7201a8"
             ],
             [
              0.3333333333333333,
              "#9c179e"
             ],
             [
              0.4444444444444444,
              "#bd3786"
             ],
             [
              0.5555555555555556,
              "#d8576b"
             ],
             [
              0.6666666666666666,
              "#ed7953"
             ],
             [
              0.7777777777777778,
              "#fb9f3a"
             ],
             [
              0.8888888888888888,
              "#fdca26"
             ],
             [
              1,
              "#f0f921"
             ]
            ],
            "type": "contour"
           }
          ],
          "contourcarpet": [
           {
            "colorbar": {
             "outlinewidth": 0,
             "ticks": ""
            },
            "type": "contourcarpet"
           }
          ],
          "heatmap": [
           {
            "colorbar": {
             "outlinewidth": 0,
             "ticks": ""
            },
            "colorscale": [
             [
              0,
              "#0d0887"
             ],
             [
              0.1111111111111111,
              "#46039f"
             ],
             [
              0.2222222222222222,
              "#7201a8"
             ],
             [
              0.3333333333333333,
              "#9c179e"
             ],
             [
              0.4444444444444444,
              "#bd3786"
             ],
             [
              0.5555555555555556,
              "#d8576b"
             ],
             [
              0.6666666666666666,
              "#ed7953"
             ],
             [
              0.7777777777777778,
              "#fb9f3a"
             ],
             [
              0.8888888888888888,
              "#fdca26"
             ],
             [
              1,
              "#f0f921"
             ]
            ],
            "type": "heatmap"
           }
          ],
          "histogram": [
           {
            "marker": {
             "pattern": {
              "fillmode": "overlay",
              "size": 10,
              "solidity": 0.2
             }
            },
            "type": "histogram"
           }
          ],
          "histogram2d": [
           {
            "colorbar": {
             "outlinewidth": 0,
             "ticks": ""
            },
            "colorscale": [
             [
              0,
              "#0d0887"
             ],
             [
              0.1111111111111111,
              "#46039f"
             ],
             [
              0.2222222222222222,
              "#7201a8"
             ],
             [
              0.3333333333333333,
              "#9c179e"
             ],
             [
              0.4444444444444444,
              "#bd3786"
             ],
             [
              0.5555555555555556,
              "#d8576b"
             ],
             [
              0.6666666666666666,
              "#ed7953"
             ],
             [
              0.7777777777777778,
              "#fb9f3a"
             ],
             [
              0.8888888888888888,
              "#fdca26"
             ],
             [
              1,
              "#f0f921"
             ]
            ],
            "type": "histogram2d"
           }
          ],
          "histogram2dcontour": [
           {
            "colorbar": {
             "outlinewidth": 0,
             "ticks": ""
            },
            "colorscale": [
             [
              0,
              "#0d0887"
             ],
             [
              0.1111111111111111,
              "#46039f"
             ],
             [
              0.2222222222222222,
              "#7201a8"
             ],
             [
              0.3333333333333333,
              "#9c179e"
             ],
             [
              0.4444444444444444,
              "#bd3786"
             ],
             [
              0.5555555555555556,
              "#d8576b"
             ],
             [
              0.6666666666666666,
              "#ed7953"
             ],
             [
              0.7777777777777778,
              "#fb9f3a"
             ],
             [
              0.8888888888888888,
              "#fdca26"
             ],
             [
              1,
              "#f0f921"
             ]
            ],
            "type": "histogram2dcontour"
           }
          ],
          "mesh3d": [
           {
            "colorbar": {
             "outlinewidth": 0,
             "ticks": ""
            },
            "type": "mesh3d"
           }
          ],
          "parcoords": [
           {
            "line": {
             "colorbar": {
              "outlinewidth": 0,
              "ticks": ""
             }
            },
            "type": "parcoords"
           }
          ],
          "pie": [
           {
            "automargin": true,
            "type": "pie"
           }
          ],
          "scatter": [
           {
            "fillpattern": {
             "fillmode": "overlay",
             "size": 10,
             "solidity": 0.2
            },
            "type": "scatter"
           }
          ],
          "scatter3d": [
           {
            "line": {
             "colorbar": {
              "outlinewidth": 0,
              "ticks": ""
             }
            },
            "marker": {
             "colorbar": {
              "outlinewidth": 0,
              "ticks": ""
             }
            },
            "type": "scatter3d"
           }
          ],
          "scattercarpet": [
           {
            "marker": {
             "colorbar": {
              "outlinewidth": 0,
              "ticks": ""
             }
            },
            "type": "scattercarpet"
           }
          ],
          "scattergeo": [
           {
            "marker": {
             "colorbar": {
              "outlinewidth": 0,
              "ticks": ""
             }
            },
            "type": "scattergeo"
           }
          ],
          "scattergl": [
           {
            "marker": {
             "colorbar": {
              "outlinewidth": 0,
              "ticks": ""
             }
            },
            "type": "scattergl"
           }
          ],
          "scattermap": [
           {
            "marker": {
             "colorbar": {
              "outlinewidth": 0,
              "ticks": ""
             }
            },
            "type": "scattermap"
           }
          ],
          "scattermapbox": [
           {
            "marker": {
             "colorbar": {
              "outlinewidth": 0,
              "ticks": ""
             }
            },
            "type": "scattermapbox"
           }
          ],
          "scatterpolar": [
           {
            "marker": {
             "colorbar": {
              "outlinewidth": 0,
              "ticks": ""
             }
            },
            "type": "scatterpolar"
           }
          ],
          "scatterpolargl": [
           {
            "marker": {
             "colorbar": {
              "outlinewidth": 0,
              "ticks": ""
             }
            },
            "type": "scatterpolargl"
           }
          ],
          "scatterternary": [
           {
            "marker": {
             "colorbar": {
              "outlinewidth": 0,
              "ticks": ""
             }
            },
            "type": "scatterternary"
           }
          ],
          "surface": [
           {
            "colorbar": {
             "outlinewidth": 0,
             "ticks": ""
            },
            "colorscale": [
             [
              0,
              "#0d0887"
             ],
             [
              0.1111111111111111,
              "#46039f"
             ],
             [
              0.2222222222222222,
              "#7201a8"
             ],
             [
              0.3333333333333333,
              "#9c179e"
             ],
             [
              0.4444444444444444,
              "#bd3786"
             ],
             [
              0.5555555555555556,
              "#d8576b"
             ],
             [
              0.6666666666666666,
              "#ed7953"
             ],
             [
              0.7777777777777778,
              "#fb9f3a"
             ],
             [
              0.8888888888888888,
              "#fdca26"
             ],
             [
              1,
              "#f0f921"
             ]
            ],
            "type": "surface"
           }
          ],
          "table": [
           {
            "cells": {
             "fill": {
              "color": "#EBF0F8"
             },
             "line": {
              "color": "white"
             }
            },
            "header": {
             "fill": {
              "color": "#C8D4E3"
             },
             "line": {
              "color": "white"
             }
            },
            "type": "table"
           }
          ]
         },
         "layout": {
          "annotationdefaults": {
           "arrowcolor": "#2a3f5f",
           "arrowhead": 0,
           "arrowwidth": 1
          },
          "autotypenumbers": "strict",
          "coloraxis": {
           "colorbar": {
            "outlinewidth": 0,
            "ticks": ""
           }
          },
          "colorscale": {
           "diverging": [
            [
             0,
             "#8e0152"
            ],
            [
             0.1,
             "#c51b7d"
            ],
            [
             0.2,
             "#de77ae"
            ],
            [
             0.3,
             "#f1b6da"
            ],
            [
             0.4,
             "#fde0ef"
            ],
            [
             0.5,
             "#f7f7f7"
            ],
            [
             0.6,
             "#e6f5d0"
            ],
            [
             0.7,
             "#b8e186"
            ],
            [
             0.8,
             "#7fbc41"
            ],
            [
             0.9,
             "#4d9221"
            ],
            [
             1,
             "#276419"
            ]
           ],
           "sequential": [
            [
             0,
             "#0d0887"
            ],
            [
             0.1111111111111111,
             "#46039f"
            ],
            [
             0.2222222222222222,
             "#7201a8"
            ],
            [
             0.3333333333333333,
             "#9c179e"
            ],
            [
             0.4444444444444444,
             "#bd3786"
            ],
            [
             0.5555555555555556,
             "#d8576b"
            ],
            [
             0.6666666666666666,
             "#ed7953"
            ],
            [
             0.7777777777777778,
             "#fb9f3a"
            ],
            [
             0.8888888888888888,
             "#fdca26"
            ],
            [
             1,
             "#f0f921"
            ]
           ],
           "sequentialminus": [
            [
             0,
             "#0d0887"
            ],
            [
             0.1111111111111111,
             "#46039f"
            ],
            [
             0.2222222222222222,
             "#7201a8"
            ],
            [
             0.3333333333333333,
             "#9c179e"
            ],
            [
             0.4444444444444444,
             "#bd3786"
            ],
            [
             0.5555555555555556,
             "#d8576b"
            ],
            [
             0.6666666666666666,
             "#ed7953"
            ],
            [
             0.7777777777777778,
             "#fb9f3a"
            ],
            [
             0.8888888888888888,
             "#fdca26"
            ],
            [
             1,
             "#f0f921"
            ]
           ]
          },
          "colorway": [
           "#636efa",
           "#EF553B",
           "#00cc96",
           "#ab63fa",
           "#FFA15A",
           "#19d3f3",
           "#FF6692",
           "#B6E880",
           "#FF97FF",
           "#FECB52"
          ],
          "font": {
           "color": "#2a3f5f"
          },
          "geo": {
           "bgcolor": "white",
           "lakecolor": "white",
           "landcolor": "#E5ECF6",
           "showlakes": true,
           "showland": true,
           "subunitcolor": "white"
          },
          "hoverlabel": {
           "align": "left"
          },
          "hovermode": "closest",
          "mapbox": {
           "style": "light"
          },
          "paper_bgcolor": "white",
          "plot_bgcolor": "#E5ECF6",
          "polar": {
           "angularaxis": {
            "gridcolor": "white",
            "linecolor": "white",
            "ticks": ""
           },
           "bgcolor": "#E5ECF6",
           "radialaxis": {
            "gridcolor": "white",
            "linecolor": "white",
            "ticks": ""
           }
          },
          "scene": {
           "xaxis": {
            "backgroundcolor": "#E5ECF6",
            "gridcolor": "white",
            "gridwidth": 2,
            "linecolor": "white",
            "showbackground": true,
            "ticks": "",
            "zerolinecolor": "white"
           },
           "yaxis": {
            "backgroundcolor": "#E5ECF6",
            "gridcolor": "white",
            "gridwidth": 2,
            "linecolor": "white",
            "showbackground": true,
            "ticks": "",
            "zerolinecolor": "white"
           },
           "zaxis": {
            "backgroundcolor": "#E5ECF6",
            "gridcolor": "white",
            "gridwidth": 2,
            "linecolor": "white",
            "showbackground": true,
            "ticks": "",
            "zerolinecolor": "white"
           }
          },
          "shapedefaults": {
           "line": {
            "color": "#2a3f5f"
           }
          },
          "ternary": {
           "aaxis": {
            "gridcolor": "white",
            "linecolor": "white",
            "ticks": ""
           },
           "baxis": {
            "gridcolor": "white",
            "linecolor": "white",
            "ticks": ""
           },
           "bgcolor": "#E5ECF6",
           "caxis": {
            "gridcolor": "white",
            "linecolor": "white",
            "ticks": ""
           }
          },
          "title": {
           "x": 0.05
          },
          "xaxis": {
           "automargin": true,
           "gridcolor": "white",
           "linecolor": "white",
           "ticks": "",
           "title": {
            "standoff": 15
           },
           "zerolinecolor": "white",
           "zerolinewidth": 2
          },
          "yaxis": {
           "automargin": true,
           "gridcolor": "white",
           "linecolor": "white",
           "ticks": "",
           "title": {
            "standoff": 15
           },
           "zerolinecolor": "white",
           "zerolinewidth": 2
          }
         }
        },
        "title": {
         "text": "Average Speed by Engine Type"
        },
        "xaxis": {
         "anchor": "y",
         "domain": [
          0,
          1
         ],
         "tickangle": -45,
         "title": {
          "text": "Engine Type"
         }
        },
        "yaxis": {
         "anchor": "x",
         "domain": [
          0,
          1
         ],
         "title": {
          "text": "Average Speed (knot)"
         }
        }
       }
      }
     },
     "metadata": {},
     "output_type": "display_data"
    }
   ],
   "source": [
    "# engine type vs average speed\n",
    "avg_speed = df.groupby('Engine_Type')['Speed_Over_Ground_knots'].mean().reset_index()\n",
    "fig = px.bar(\n",
    "    avg_speed, \n",
    "    x='Engine_Type', \n",
    "    y='Speed_Over_Ground_knots', \n",
    "    title='Average Speed by Engine Type',\n",
    "    labels={'Engine_Type': 'Engine Type', 'Speed_Over_Ground_knots': 'Average Speed (knot)'},\n",
    "    color='Speed_Over_Ground_knots',\n",
    "    color_continuous_scale='tealgrn'\n",
    ")\n",
    "fig.update_layout(xaxis_tickangle=-45)\n",
    "fig.show()"
   ]
  },
  {
   "cell_type": "code",
   "execution_count": 7,
   "id": "57607530",
   "metadata": {},
   "outputs": [
    {
     "data": {
      "application/vnd.plotly.v1+json": {
       "config": {
        "plotlyServerURL": "https://plot.ly"
       },
       "data": [
        {
         "hovertemplate": "Engine Power (kW)=%{x}<br>Average Speed (knot)=%{marker.color}<extra></extra>",
         "legendgroup": "",
         "marker": {
          "color": {
           "bdata": "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",
           "dtype": "f8"
          },
          "coloraxis": "coloraxis",
          "symbol": "circle"
         },
         "mode": "markers",
         "name": "",
         "showlegend": false,
         "type": "scattergl",
         "x": {
          "bdata": "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",
          "dtype": "f8"
         },
         "xaxis": "x",
         "y": {
          "bdata": "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",
          "dtype": "f8"
         },
         "yaxis": "y"
        }
       ],
       "layout": {
        "coloraxis": {
         "colorbar": {
          "title": {
           "text": "Average Speed (knot)"
          }
         },
         "colorscale": [
          [
           0,
           "#440154"
          ],
          [
           0.1111111111111111,
           "#482878"
          ],
          [
           0.2222222222222222,
           "#3e4989"
          ],
          [
           0.3333333333333333,
           "#31688e"
          ],
          [
           0.4444444444444444,
           "#26828e"
          ],
          [
           0.5555555555555556,
           "#1f9e89"
          ],
          [
           0.6666666666666666,
           "#35b779"
          ],
          [
           0.7777777777777778,
           "#6ece58"
          ],
          [
           0.8888888888888888,
           "#b5de2b"
          ],
          [
           1,
           "#fde725"
          ]
         ]
        },
        "legend": {
         "tracegroupgap": 0
        },
        "template": {
         "data": {
          "bar": [
           {
            "error_x": {
             "color": "#2a3f5f"
            },
            "error_y": {
             "color": "#2a3f5f"
            },
            "marker": {
             "line": {
              "color": "#E5ECF6",
              "width": 0.5
             },
             "pattern": {
              "fillmode": "overlay",
              "size": 10,
              "solidity": 0.2
             }
            },
            "type": "bar"
           }
          ],
          "barpolar": [
           {
            "marker": {
             "line": {
              "color": "#E5ECF6",
              "width": 0.5
             },
             "pattern": {
              "fillmode": "overlay",
              "size": 10,
              "solidity": 0.2
             }
            },
            "type": "barpolar"
           }
          ],
          "carpet": [
           {
            "aaxis": {
             "endlinecolor": "#2a3f5f",
             "gridcolor": "white",
             "linecolor": "white",
             "minorgridcolor": "white",
             "startlinecolor": "#2a3f5f"
            },
            "baxis": {
             "endlinecolor": "#2a3f5f",
             "gridcolor": "white",
             "linecolor": "white",
             "minorgridcolor": "white",
             "startlinecolor": "#2a3f5f"
            },
            "type": "carpet"
           }
          ],
          "choropleth": [
           {
            "colorbar": {
             "outlinewidth": 0,
             "ticks": ""
            },
            "type": "choropleth"
           }
          ],
          "contour": [
           {
            "colorbar": {
             "outlinewidth": 0,
             "ticks": ""
            },
            "colorscale": [
             [
              0,
              "#0d0887"
             ],
             [
              0.1111111111111111,
              "#46039f"
             ],
             [
              0.2222222222222222,
              "#7201a8"
             ],
             [
              0.3333333333333333,
              "#9c179e"
             ],
             [
              0.4444444444444444,
              "#bd3786"
             ],
             [
              0.5555555555555556,
              "#d8576b"
             ],
             [
              0.6666666666666666,
              "#ed7953"
             ],
             [
              0.7777777777777778,
              "#fb9f3a"
             ],
             [
              0.8888888888888888,
              "#fdca26"
             ],
             [
              1,
              "#f0f921"
             ]
            ],
            "type": "contour"
           }
          ],
          "contourcarpet": [
           {
            "colorbar": {
             "outlinewidth": 0,
             "ticks": ""
            },
            "type": "contourcarpet"
           }
          ],
          "heatmap": [
           {
            "colorbar": {
             "outlinewidth": 0,
             "ticks": ""
            },
            "colorscale": [
             [
              0,
              "#0d0887"
             ],
             [
              0.1111111111111111,
              "#46039f"
             ],
             [
              0.2222222222222222,
              "#7201a8"
             ],
             [
              0.3333333333333333,
              "#9c179e"
             ],
             [
              0.4444444444444444,
              "#bd3786"
             ],
             [
              0.5555555555555556,
              "#d8576b"
             ],
             [
              0.6666666666666666,
              "#ed7953"
             ],
             [
              0.7777777777777778,
              "#fb9f3a"
             ],
             [
              0.8888888888888888,
              "#fdca26"
             ],
             [
              1,
              "#f0f921"
             ]
            ],
            "type": "heatmap"
           }
          ],
          "histogram": [
           {
            "marker": {
             "pattern": {
              "fillmode": "overlay",
              "size": 10,
              "solidity": 0.2
             }
            },
            "type": "histogram"
           }
          ],
          "histogram2d": [
           {
            "colorbar": {
             "outlinewidth": 0,
             "ticks": ""
            },
            "colorscale": [
             [
              0,
              "#0d0887"
             ],
             [
              0.1111111111111111,
              "#46039f"
             ],
             [
              0.2222222222222222,
              "#7201a8"
             ],
             [
              0.3333333333333333,
              "#9c179e"
             ],
             [
              0.4444444444444444,
              "#bd3786"
             ],
             [
              0.5555555555555556,
              "#d8576b"
             ],
             [
              0.6666666666666666,
              "#ed7953"
             ],
             [
              0.7777777777777778,
              "#fb9f3a"
             ],
             [
              0.8888888888888888,
              "#fdca26"
             ],
             [
              1,
              "#f0f921"
             ]
            ],
            "type": "histogram2d"
           }
          ],
          "histogram2dcontour": [
           {
            "colorbar": {
             "outlinewidth": 0,
             "ticks": ""
            },
            "colorscale": [
             [
              0,
              "#0d0887"
             ],
             [
              0.1111111111111111,
              "#46039f"
             ],
             [
              0.2222222222222222,
              "#7201a8"
             ],
             [
              0.3333333333333333,
              "#9c179e"
             ],
             [
              0.4444444444444444,
              "#bd3786"
             ],
             [
              0.5555555555555556,
              "#d8576b"
             ],
             [
              0.6666666666666666,
              "#ed7953"
             ],
             [
              0.7777777777777778,
              "#fb9f3a"
             ],
             [
              0.8888888888888888,
              "#fdca26"
             ],
             [
              1,
              "#f0f921"
             ]
            ],
            "type": "histogram2dcontour"
           }
          ],
          "mesh3d": [
           {
            "colorbar": {
             "outlinewidth": 0,
             "ticks": ""
            },
            "type": "mesh3d"
           }
          ],
          "parcoords": [
           {
            "line": {
             "colorbar": {
              "outlinewidth": 0,
              "ticks": ""
             }
            },
            "type": "parcoords"
           }
          ],
          "pie": [
           {
            "automargin": true,
            "type": "pie"
           }
          ],
          "scatter": [
           {
            "fillpattern": {
             "fillmode": "overlay",
             "size": 10,
             "solidity": 0.2
            },
            "type": "scatter"
           }
          ],
          "scatter3d": [
           {
            "line": {
             "colorbar": {
              "outlinewidth": 0,
              "ticks": ""
             }
            },
            "marker": {
             "colorbar": {
              "outlinewidth": 0,
              "ticks": ""
             }
            },
            "type": "scatter3d"
           }
          ],
          "scattercarpet": [
           {
            "marker": {
             "colorbar": {
              "outlinewidth": 0,
              "ticks": ""
             }
            },
            "type": "scattercarpet"
           }
          ],
          "scattergeo": [
           {
            "marker": {
             "colorbar": {
              "outlinewidth": 0,
              "ticks": ""
             }
            },
            "type": "scattergeo"
           }
          ],
          "scattergl": [
           {
            "marker": {
             "colorbar": {
              "outlinewidth": 0,
              "ticks": ""
             }
            },
            "type": "scattergl"
           }
          ],
          "scattermap": [
           {
            "marker": {
             "colorbar": {
              "outlinewidth": 0,
              "ticks": ""
             }
            },
            "type": "scattermap"
           }
          ],
          "scattermapbox": [
           {
            "marker": {
             "colorbar": {
              "outlinewidth": 0,
              "ticks": ""
             }
            },
            "type": "scattermapbox"
           }
          ],
          "scatterpolar": [
           {
            "marker": {
             "colorbar": {
              "outlinewidth": 0,
              "ticks": ""
             }
            },
            "type": "scatterpolar"
           }
          ],
          "scatterpolargl": [
           {
            "marker": {
             "colorbar": {
              "outlinewidth": 0,
              "ticks": ""
             }
            },
            "type": "scatterpolargl"
           }
          ],
          "scatterternary": [
           {
            "marker": {
             "colorbar": {
              "outlinewidth": 0,
              "ticks": ""
             }
            },
            "type": "scatterternary"
           }
          ],
          "surface": [
           {
            "colorbar": {
             "outlinewidth": 0,
             "ticks": ""
            },
            "colorscale": [
             [
              0,
              "#0d0887"
             ],
             [
              0.1111111111111111,
              "#46039f"
             ],
             [
              0.2222222222222222,
              "#7201a8"
             ],
             [
              0.3333333333333333,
              "#9c179e"
             ],
             [
              0.4444444444444444,
              "#bd3786"
             ],
             [
              0.5555555555555556,
              "#d8576b"
             ],
             [
              0.6666666666666666,
              "#ed7953"
             ],
             [
              0.7777777777777778,
              "#fb9f3a"
             ],
             [
              0.8888888888888888,
              "#fdca26"
             ],
             [
              1,
              "#f0f921"
             ]
            ],
            "type": "surface"
           }
          ],
          "table": [
           {
            "cells": {
             "fill": {
              "color": "#EBF0F8"
             },
             "line": {
              "color": "white"
             }
            },
            "header": {
             "fill": {
              "color": "#C8D4E3"
             },
             "line": {
              "color": "white"
             }
            },
            "type": "table"
           }
          ]
         },
         "layout": {
          "annotationdefaults": {
           "arrowcolor": "#2a3f5f",
           "arrowhead": 0,
           "arrowwidth": 1
          },
          "autotypenumbers": "strict",
          "coloraxis": {
           "colorbar": {
            "outlinewidth": 0,
            "ticks": ""
           }
          },
          "colorscale": {
           "diverging": [
            [
             0,
             "#8e0152"
            ],
            [
             0.1,
             "#c51b7d"
            ],
            [
             0.2,
             "#de77ae"
            ],
            [
             0.3,
             "#f1b6da"
            ],
            [
             0.4,
             "#fde0ef"
            ],
            [
             0.5,
             "#f7f7f7"
            ],
            [
             0.6,
             "#e6f5d0"
            ],
            [
             0.7,
             "#b8e186"
            ],
            [
             0.8,
             "#7fbc41"
            ],
            [
             0.9,
             "#4d9221"
            ],
            [
             1,
             "#276419"
            ]
           ],
           "sequential": [
            [
             0,
             "#0d0887"
            ],
            [
             0.1111111111111111,
             "#46039f"
            ],
            [
             0.2222222222222222,
             "#7201a8"
            ],
            [
             0.3333333333333333,
             "#9c179e"
            ],
            [
             0.4444444444444444,
             "#bd3786"
            ],
            [
             0.5555555555555556,
             "#d8576b"
            ],
            [
             0.6666666666666666,
             "#ed7953"
            ],
            [
             0.7777777777777778,
             "#fb9f3a"
            ],
            [
             0.8888888888888888,
             "#fdca26"
            ],
            [
             1,
             "#f0f921"
            ]
           ],
           "sequentialminus": [
            [
             0,
             "#0d0887"
            ],
            [
             0.1111111111111111,
             "#46039f"
            ],
            [
             0.2222222222222222,
             "#7201a8"
            ],
            [
             0.3333333333333333,
             "#9c179e"
            ],
            [
             0.4444444444444444,
             "#bd3786"
            ],
            [
             0.5555555555555556,
             "#d8576b"
            ],
            [
             0.6666666666666666,
             "#ed7953"
            ],
            [
             0.7777777777777778,
             "#fb9f3a"
            ],
            [
             0.8888888888888888,
             "#fdca26"
            ],
            [
             1,
             "#f0f921"
            ]
           ]
          },
          "colorway": [
           "#636efa",
           "#EF553B",
           "#00cc96",
           "#ab63fa",
           "#FFA15A",
           "#19d3f3",
           "#FF6692",
           "#B6E880",
           "#FF97FF",
           "#FECB52"
          ],
          "font": {
           "color": "#2a3f5f"
          },
          "geo": {
           "bgcolor": "white",
           "lakecolor": "white",
           "landcolor": "#E5ECF6",
           "showlakes": true,
           "showland": true,
           "subunitcolor": "white"
          },
          "hoverlabel": {
           "align": "left"
          },
          "hovermode": "closest",
          "mapbox": {
           "style": "light"
          },
          "paper_bgcolor": "white",
          "plot_bgcolor": "#E5ECF6",
          "polar": {
           "angularaxis": {
            "gridcolor": "white",
            "linecolor": "white",
            "ticks": ""
           },
           "bgcolor": "#E5ECF6",
           "radialaxis": {
            "gridcolor": "white",
            "linecolor": "white",
            "ticks": ""
           }
          },
          "scene": {
           "xaxis": {
            "backgroundcolor": "#E5ECF6",
            "gridcolor": "white",
            "gridwidth": 2,
            "linecolor": "white",
            "showbackground": true,
            "ticks": "",
            "zerolinecolor": "white"
           },
           "yaxis": {
            "backgroundcolor": "#E5ECF6",
            "gridcolor": "white",
            "gridwidth": 2,
            "linecolor": "white",
            "showbackground": true,
            "ticks": "",
            "zerolinecolor": "white"
           },
           "zaxis": {
            "backgroundcolor": "#E5ECF6",
            "gridcolor": "white",
            "gridwidth": 2,
            "linecolor": "white",
            "showbackground": true,
            "ticks": "",
            "zerolinecolor": "white"
           }
          },
          "shapedefaults": {
           "line": {
            "color": "#2a3f5f"
           }
          },
          "ternary": {
           "aaxis": {
            "gridcolor": "white",
            "linecolor": "white",
            "ticks": ""
           },
           "baxis": {
            "gridcolor": "white",
            "linecolor": "white",
            "ticks": ""
           },
           "bgcolor": "#E5ECF6",
           "caxis": {
            "gridcolor": "white",
            "linecolor": "white",
            "ticks": ""
           }
          },
          "title": {
           "x": 0.05
          },
          "xaxis": {
           "automargin": true,
           "gridcolor": "white",
           "linecolor": "white",
           "ticks": "",
           "title": {
            "standoff": 15
           },
           "zerolinecolor": "white",
           "zerolinewidth": 2
          },
          "yaxis": {
           "automargin": true,
           "gridcolor": "white",
           "linecolor": "white",
           "ticks": "",
           "title": {
            "standoff": 15
           },
           "zerolinecolor": "white",
           "zerolinewidth": 2
          }
         }
        },
        "title": {
         "text": "Average Speed by Engine Power"
        },
        "xaxis": {
         "anchor": "y",
         "domain": [
          0,
          1
         ],
         "title": {
          "text": "Engine Power (kW)"
         }
        },
        "yaxis": {
         "anchor": "x",
         "domain": [
          0,
          1
         ],
         "title": {
          "text": "Average Speed (knot)"
         }
        }
       }
      }
     },
     "metadata": {},
     "output_type": "display_data"
    }
   ],
   "source": [
    "# engine power vs average speed\n",
    "average_speed_power = df.groupby('Engine_Power_kW')['Speed_Over_Ground_knots'].mean().reset_index()\n",
    "\n",
    "fig = px.scatter(\n",
    "    average_speed_power, \n",
    "    x='Engine_Power_kW', \n",
    "    y='Speed_Over_Ground_knots', \n",
    "    title='Average Speed by Engine Power',\n",
    "    labels={'Engine_Power_kW': 'Engine Power (kW)', 'Speed_Over_Ground_knots': 'Average Speed (knot)'},\n",
    "    color='Speed_Over_Ground_knots',\n",
    "    color_continuous_scale='viridis'\n",
    ")\n",
    "fig.show()"
   ]
  },
  {
   "cell_type": "code",
   "execution_count": 8,
   "id": "3798f053",
   "metadata": {},
   "outputs": [
    {
     "data": {
      "application/vnd.plotly.v1+json": {
       "config": {
        "plotlyServerURL": "https://plot.ly"
       },
       "data": [
        {
         "bingroup": "x",
         "hovertemplate": "Speed over Ground (knot)=%{x}<br>count=%{y}<extra></extra>",
         "legendgroup": "",
         "marker": {
          "color": "skyblue",
          "pattern": {
           "shape": ""
          }
         },
         "name": "",
         "nbinsx": 30,
         "orientation": "v",
         "showlegend": false,
         "type": "histogram",
         "x": {
          "bdata": "fLMGD/MxKUCijbDecMYkQCUiZWXvvzRA9PZnKhsONUAoiHw9TXwrQEpe4P6+nTJAG2jZ2+BuNEBi1AEPgH83QNkEQFEyTzFA76pYQiM6N0Dm36QPLUUnQOecenDqQDJAoqNNFWBzJEAnnbrbogApQIT7g1kEcCdAnGWB5KcsLkAId0nr4rw0QGHHGFMVWC1ATTmJTajDN0A1wMJkiKM2QDCWOePIzTdAMq6eLKfCNkASVuguP8EyQHi7v+/pdC5A8vaOuqoRMkCbD1I/66sxQBCZe5G1/jRAbCrR2BgjLEDqwlkJ7wAyQFaCAOyDDCZATEiYzpDsL0AsBVfLiW01QNrUgvtBDjJAEtcWBlj6LED7tTcMfUo3QHISrwW3ZSRAMSrKEG0JN0B/ys8yhBQqQAc0CazxQzJA4FTVuU5GOEDElGL4yeU2QJPQ8kVIazNAKKSU8+MWM0APmfoYCJ41QIT6XBaWAjBAPQtpKcldNkBqLojWypYpQJptBgo71jNAR7TXD2aiNkAO0LRx8ZEoQAv3M8ZCzjZAXm3V0rkkOEDM99arC040QE0sQJZ5PitAls5Tav+4LUD8BWCRPBc3QOS51KyP4TBAj1kvK+X5NkBsZZ4ea0EpQHwteSTENDBA2INI/4O4NUC7CFRAGDw2QJTZyptrdyxAPsu2sAIRKkD/2qIKqkArQPFrMEqdHDhAtPUwZhfMMkBtiDH8ZqkkQC/a8DOzES9AklHTIU9hLkDI7wHvvps4QG/tWx0Cwi5A3pwid5q4JUAzxtr8xaEvQEdUVT4v8zZAaLutbSgTOED7VdzFIPI1QLFRxOyLdDVAw0vltC1sMkBg7JW4CJE0QDg/Q7yyhTZA/bN82g6pN0BWGASUBsI4QGfoEw7FKTVAXjTguulaNkD/IJvGk9klQE5hh9LWIihAdJwQab2sKUA3XKY+o4o1QJeTHdEHZDZAmUFRiwLBMkBMBNLp/Yc2QLY8brErOzdA3j2T1pwpN0DNeCsQDGEzQI8bzhRswDZAXNmVvPu7NkAFgDUA1PIxQFHJez2LYThAzezmBxwPNkCbEXVLHAQzQKisX+fmFDJANR4y6ze1NEDtmDo/Y5ImQKdoJJhnuDZAsHYNDyC2K0Dyv8DrigU2QAAp6MS1Ky5ABHss0MKpNkACF4oIPB40QBrSZHU4bCZAUg0bs1ucNUDpBuYybLomQDd30ugWOzFApC/hFuWQMUA/qOAmiJs3QKveoGXMBzVAKcIa50veLED4wfD03EEzQEbvyfhu2zdAW5FH12KGK0DV4750A0wzQDFI2fvx3zNAQ4ZAtgB0MUAIevdeYk0xQEYB9wBl2jZAQ6LqIrVFJEDdB6l1lQ8yQJ/OtClttTZAXnva1Wq1KEA0A86Ta98vQMlhI/sWHjhARn+ycU7kMEA+bZr+2QY3QPZ/xmKRSi1Ag7W1Xe9OLUDkkT9Y7Yw2QOMuiORADSdAUsjx7c8gJUD0ykk1fkY1QAwNSR9hjyZAu3Nc86sEJ0BC2lkzYw8wQGcuZx+spidAmfd3U/beOECAgVehQis2QOCOL1B0GiRAhvAGsoUDMkByvkeYhN8xQKzNysichCdAx8PLRuS8MkAJvTFDW1E4QIF4ArQIMzJAPbGBIn8INkDI3bL62qI1QOgRETau0yhAIDlwMwQKLUB+2pRQxoM0QNhUv6z1SiZAaPiYbwOjM0DjdDlfQWU2QGbtqGcpqzRAfZrS07XHMkD61zle2x8qQB4VQdGYqThA0ccfbhhgMEAgnbEdqlgyQILrXo4lezFAbOj6P8DhMkDgth6MbSguQJ7lSX2rQjRAjLFXRj8iK0DPRmsPvicoQEBmhSUZPzZAbUSXTpygNkDYdjkhnZU0QOVINP05xixA56uCmnZ+NEBo1yw1XdAxQB4eu5bU6TRAbkOEL6dlMUAefUz7sYUtQDF5l8QBjTRAQaTHdC7XMUC6ll1F4U8sQE8zKmYZ4StAIH9di3q9MEBzvzTUse4nQCb8CjlfKThAQwnmqhddJUAnYo6sVGsqQCwoal0UMzVAkDlDP61uNkASxP0Gjs4kQDCaMoY50jdAVCIZIPnyN0DexYprhD8mQONOk4UpZiVAAHsBKzqDKEAML2vKA2s4QMJFs+z2fC1A+mkqttpgJEBSlsO4pHk4QLiVRuRHsjJA01DyM3XzJkA05AJWg+AuQKOxvOniBipAx46amX2+N0DJTJM7Pv84QKvrf+3o9S5ANDQDrzfpK0C1Nv89uzYlQMoBHRYLQC5AUCw8m/vUM0DYiuJQUDU2QHB5O1XYsDNAb86WH1WxMkAjKNpHMA0wQH3tPNbruiRA8+CvU7lkN0AoylXuZ/grQLSQGyKmYDZAXRgGh6jBK0B8FFk/+HIsQPBwFv9AKTNAXnGREaCVNEDfxo+1h100QLb3+Lq3ZShATOiCqakOMUDVVSjsNZExQMeqSUdhtDNATyBebJ2FL0DKHUsijnYuQIRNTToEEjVA/BjIYLmfLUCYrMHLrdAwQFAqcrgmEjFAX/Z3Xf/LMEDU+UXk2b8mQEq5si8IdDFA2cX2utUyOEA4s2Am07EzQCCMKr+tgjFAgNv6N/yQLUDAnL+ljnAkQHiywROiuThAE/CkJucxK0Cbl1fQS5ArQOVXW5B6VytACo6cBXaaJkDIBs0ifSA1QHLQjLpn7ylAiOjIDEsnNEDlNcWr8vglQBhECRaqwSRAUN7RU20+MUDNa6shK0A0QIQQdGBPvjVAGLb2HEleJUC+orDFfcc4QC8b6X7FAS9AoNvVzw/zMkAagTXW6jAwQPY0PfhoBjVArivGuZTgK0DP80Fp+SMoQEkOnNnMZSZAhL9AjO58K0DXFneB8ko4QMBA84+5wDdAxt5ERfzyJEDbo1A+wdkwQAm+6bbObiRAYoEtjidXNEDcdKlcXns2QCzafjC6sDJAi7jAfUATJ0AP3DldX8glQM42siNu7DRAOCsVmRtKM0AyMf7gJckwQBcsyHJ0nzVAsG2u6+H3MUBFWSg3TP0oQHYpoCI66ipAwnlGZrYvKECzVF5bfDM0QMGbkXyXfDhAMcOXEJ4aK0B4dOpTwLIwQA8fQEQY+S5AeYG2/BJkKkCh6QledZYuQCI8D6016SlAqDK/GEkLLkCgaah6Lk0kQMxnoZoYEjFALz5NJ6YZNUCPSREf7UM4QBw1BoB8FS9AE6+CNMOgMkCuOWx8Aek4QGCJtCpLiiZA9XDghB09JEAk5/CXshI0QA9kbcp33ThADKsd6R+CNkCzcGSICaAnQMTpOZmFni1AsOxb4IObN0ADflEvb+03QEyq8XlETihAf8BsFLNoMUCm4+tY9nApQNduJGdVTTBAnkEx9oHJN0Bb6obEcl4wQCZZpE1OTDJA0JlnfXOpLEDeT4XSSpoxQIpT3fs9wixAl7+QGQ+INECU1LyLtWIwQO/mxSgDpyxAwBgKgb3lMkDWrVad//o4QIpWVhuE2zVAVf868gKVLECa7z3TprglQGbKFiAZqjNAW29zM0/MLkCdj0948EoyQGfYndrpTjZAJjr9XQvWM0DOSZxKHw44QCTr74p9wDVAvftEpTEbMEBV0cK0M44tQM/U2o/PljFAr95QhdUuJkCP9dTVmPcoQJA2ZrVAoTVAUXDl2cV6OEBumkhkZws2QBpZ8dZFMDJAKhDaj8kZM0D31YkyWEArQFLGNPhRTDZAyksP4KpvN0AKLFf/XNY2QPSN7B+nqy9ALOjdWUtWLkBvUda54DUxQGUnueMemzhAs/3P4CU6MUBQBVsCngcyQHLXFVkX5zBAWEZPIrrkL0BLfGTuzhIwQE7E7kjT7TRArKutX/eKJUB9DWWYkcQlQNABR8vmkDJAGVkiiFPHLEBTzDp2JOMsQHOCCJZbcDNAUSHvDFWYOECbvssFEFU4QEpNusp2ZDFANlKlhsGFLEDLqkjA+IsqQAM0i01USypAjUwlY29HJUCPdPe7xgglQFpq70Ry2zZA8PVds/StJkA2y9tRc3EnQGT4+Ehi0jFAfIRdhc/CL0BF8IetbdMtQPP9x30yuy5AYYs9LfVLM0BTeuRNk6EwQNTWWq4k6jhAIcgkzKolKUDgB+At4jw4QOSLWRGNHjJAOnAIN1lzN0DGv2LLU6YrQFRJ/3AB3y1AHis4fLAWK0DfZGpzUec1QCQwgxlx0y5AQ/BLjaoTJUD6wXnPsW8zQOcZAUBOjDVAJQiH8+Y+KUA/T9e5rYYtQOapfk0NVTVAXey26lrpM0CTnBrD7tMrQBAalhubXjhAiW6ukrF8NkClfrDrbWQuQAIfacgWWDdAlsEKoWzCNECboZf7bz0zQDrx3CCovyZAW+7dCzYWN0DMGkXU4VwlQFiiA9llMylAfObfM+4dNEBnhs81NfQ3QJjas3kW2zFA0+UeXJ8lNEDZ/BocE74yQPzXiC+xrTVA+I2B60pyMEBPm1/kSy02QP73s/HomSlAxWwJgVsuK0DD3PLlx3QzQPkgPVGCvSxAqXSplELHKkCkZYD5nCcrQB/p+bMqfyxAOxhVDDOSMUDLttBy9SY2QOfWd8ur6yxAzQpURpwwM0DQ7xK0WIE4QE78QK8NxCxAfRnnasnqNUDF0IT+9Hk1QP+PZPNYaTRAjxfnUxQCJ0AstbaOhzgmQOTWQo/MqjRAh7YjChwiMUCVDd1lNnU2QGtqC55aoSZAAn4lncMGMUAN6efabPstQBLQKbCL6jBAJoOxTI6JK0CNHWtrwyQyQNhUCiqzCTFA49x6RolvNUDJELBzUVwpQEAbzxDzQyRAyu41UJW0OEDYlqr6o7s0QD9U48x04DZADSeyKB9JN0ACqqlwDUgmQOwAoxRAiDNA6i5Ev9faL0B1qsJKkB8nQL8rskXiPjVAGv2BTmqeNkCPPBTKnQEpQIKopoCTxS9AxLYRwGLqNkCWE+yMDUc0QEzyCG3bdihAnDKi+fCWMECaefMKpdwxQIrXZscLSThA7a38w+ZSNUC4LefitIEtQLkLO4rxajFAvTtS0remOECs0HHhMO0xQPyEzbT78jNAPlVfFCTWOEDamqt0nbImQCLpM+v+iSxAxBkknrcpM0ATiPAnY68uQO1eOfwFczRAos1YOWKaLkCQk0Vni/IpQE0HJJx/fy1AZsFG/ltyN0C1FIT71MAsQKmgVzSyJjNA6c8+d7JwJkAt5CxlouUlQF+oyc/M8TFAB435IbqdMkACdkvKyNo0QDgkWEdg2yxA7V3RYVJRNUBJ++pf/FgyQAZ3aRQePSdAee6U8rLwOEDhzURdmvYxQBYxwdW5gTBAIiMrxK98MECkB5/wFuEuQMVkSU5dfCtA6AnJ8C/WMkCQTBz87RU1QDwkspK0MCRADB5/bxN8N0C6/rRahxwyQJQIVHZ8pC9ArgzW1KEdMkBGjJIDqo42QO6lyWv91jRAUFl6sGaBKkCoZuCxzUktQEgA5RsMmi5AO2HOB/ynL0D/HmvDqfcpQOQTj6mK2DNANM+Hq4TvNkD0w0vyQG4wQJt+rjikaDRATiHCsysTLUB2Xa5JstwxQN5A4FHTDTNAnhXFu0GNNkDKLPHvGr8yQP6s/WvTtjBAtuYrdprXNECntwH2qOEkQGWKvuH+8jBAmrVg4/9kMkCCoXExUBM0QAbO18WV5jVAcsCgDgf7JUDxdSVyslwtQETrHcLINTJAdxYNyHZ4NUBdQLEwrTcrQACoPPzlMjhAjFKA6e3ULECWK1wHiRYxQJXtDPj+RjNAYNtd6VMXMEDG3zJnRw4mQFB03c//ETFAU6MN6bpcKEDQhd4OYPkzQHoxLL15jC5A/TroHmeTJEBnOUwMxmswQCbgZBaAvTZA4WNhGvHHOEDXwAyantEtQDTUN+g/NDVAU808yAurOED8EMbQDV80QII0t6GeDi9AenBfiQkcNUCrtoNGJmYsQIRduLx5czNAI8Nf+Or3JECMn8fatPcwQNXpo03CRTRAOsYw1WRpOEDNBYyKdyE3QARp/1wKNDZAThpwfjDkNUC3ugfOVyUvQDb1AwZUojZAaJPtHLNFJ0C65wfJBX41QKQ0DClPaTZAAQjdmYaQN0DjqXVIPtc2QLLFI8QcMTVABLljMEjwMEDGy50GKLotQAyHLRzUpjhAnjuR22WmNEDwC77vMyo4QMU0Ew2Rny9AHiSQ3gf5MEA+9lhBwc04QGQ8PKq7aC1AQrQb87ypJ0BDLf6KF/01QAzFIbSYPDdAx36Tt/Q/JUB361fyZCQ2QPps9stJqzVATWBIv2prOEAxGweTkk4sQFOwGExU5TJACYsDTRfiOEBikDv3aLY3QE9SCVUkwzFAENLw7UDiM0DKU/FjKtk1QCBul2ddaDZAxhNcDUT7NUBMzuIANsouQMSNJp53FzVA8VE+P9ECMUCG/u+Y/M0pQMFKqT6jtDJAb8IrV5s5JECCVGLN9lwpQDCGGXnG0TJAyB2ObmrbMkAw0bw3SestQAzyNGvmMy9AYLY9rIBaJkDP9r5lSJomQA8AkhFY5yRAysJrjIjXK0AHqC3rjjo0QH1SdUCXkjdAcjoravQYN0CLTXvfX8QzQA3AMIO5BCtAmH92vgAeN0ATlXnfL0QxQL5nyGG1diVAwCJfHoImMEAsqiWr488wQCttiPcGajdAVbN7odo7OEA1lEo5CrUnQErGnJK2sDZAm0pu2FjNJ0CDrhMNUqQwQNLlQdARhChA8Io7sdXqLUAl1Yjq0X4rQIPuYV73DS1AIQhm8M38NUAS4PdG4Zo4QE4ou4M9VDZATVvCaX5tKEDbQYHW5WgpQKLrvVtU/SVArVCoq8wFOEAopfKCuyQzQKK6Im0Q1jhA1K/Rg6fQKkAhAhZTflE3QGNOIMfC4iZA9gJ+vXDkNUAMCCl87pUxQOlv1lLMsSZA14j9IikfJUB7q7j6iNg3QEdPgo12FSVAIpH8KE6kMkDTckEAE7sxQJoWfgWafjBAQjtYeCJiNEDkTbh7LNQoQC2eEyYCLThAT6eNhbs2NkAmlVXzyvkvQMvRAow2/yxAxVaHbGEjMUAl3co4P3ksQM3Mhr70YytA/EZzUxXGKkAv20k9H2wkQMA7myz3cDVAZ0SoPDDRL0Dcz2Z6j1U4QBmbDFJDpDNABlnTfGMzOEBfLM3KjbM4QOZyQplCbSpA0rrQRS6nN0CHnar1XIs3QLDknUqOSDRAWcUr4w3SNkARG874+2QqQF531uI8iDNAlElD0IjNLEAEhAKlMyA2QHBFhwd39zZA4EtcDuugNkBgDh97nHU3QKxe2fnukTBAnjpbzIYrNUDKyF6G0IMlQIFvG+f63zZAE7aXTcU9NEBa3I1jfRMyQCoAGxGr6DRAaPAYjQssKUBu7J//WGA2QEXTo4gpMjFAtBKK3eolKUC+SObr0Q02QOPVqfY32zNArbOdTWH5L0CnpRAcBRo1QOBnBannDjNAeDTbmzgvKkBMM3SXDuszQLxcbP7KvCRA4gB9HZ74M0CkGILnZLQzQCLTcTBLbytA9NJpzmUULkAy6PaZnL8tQLqOwGgNWStAM1JbHQtsM0BCRKyxEqc3QAQmtm1HoDVAnjvsAtOrN0Dh+CaefpklQDzPhLbNKTVAQrjtBtf4OEBrrgTgwfUkQLP2SW5T1SpARfNpc6MRJkC891kLOkUxQIemL+i+kSZAchi4PQa9MkBWRg0NIY84QALF9p9i0ypA/AOpFzIWNUDdYAZAwmYuQIuiH1vTmDdAJRxYHxr9N0C5QiCMkoEwQL1UD/kAjDRA5ygU22S3MkBoYNjdVOo0QMUivEZD7DVAIM4F6BxeL0BCo9KCPYI0QIf6yNpk6SxAawTl5i8nKUBQZBxgV0AzQOy3J2j9oydAWqmi2wxiM0AxXA+oB9I2QH8TgaZJozdAZM91Vv2ZMkBeCjNZtjkpQEKqE7VZnyhAv1qIwD/tKED+gXHO9EE2QH2A88zfripAqMeXcrCiMUBWfP/MqqQrQLvFFsjKaC9Aaks6D2gyNkCVnDoqmvYzQDXfgAQx8zNA7LWiXkSrNEA5RYshXrg4QFGT/RECHiRAg4uzfPwtKUCyklpNoSQ3QAO/ee2yritAtQAxPQ8FMEB44WD+wVgwQE0VCtue1S5AVvOkVNbJN0D8/S+a9TIwQDHGMhUuKzVAIfKnfncZM0Bck8EcToI3QAlWEgAa+zVAaWJK9tt5LEC8MVAeA0olQEFAAhawkTVAkDzqABnZLkDDBvF7N5QzQGt61bzOyypA5B0ZanRRMUDqL259w5g0QCinFCuJKTJArFceSLOCNkC22zK9otE4QI6A8A6MvThArPzPMveCL0Cqd5MDMP0nQAy0X/uFbTFAc/aAIjXLNkAgrjPquWYzQFLO/JMESi1AH02kvUXSMUDSdqpbNGI4QLdS+e+s/zRAwZbA64LjLkAeW7kJXh4vQHPNPCGzfy5Ao/GaSsEEMkCbcJYo0QozQKZ5qdAVWzBAkfT+PHfqMUAuuICxei4rQMeV5vilHTNAZMqYFFEnM0A8+X96Q/ArQL75GB3jazRA4lo973MLMUBjuLJuHSg3QIGPrBzc3CZArSWySmSOJkCk0P387mk2QNNMGPlYtjBAjlg+AgdLKkC/f9SXp44uQGsCKWmeaTdAtJpKW6Z/JkCWtrq9eRolQAkWXB35sTNANrHV0ZlZMkArATzryaksQBKTS44OHjZAh+2pnRlrJkD6D5lzj8glQMeTi8FPijRArexT1LMwMkDHcUKsAxgnQDC+XdAVVzdA2GMtvSdDNEBPgzneCp4xQMa7MYXd/ThAiaGgpymKN0CG8WX4tok2QN77mVFSviZAeJxM/BFvKUCGv0AiPq04QDRAbdUjEjRAmMLvB2cfN0B058ey71spQHxvXTyDdDdA/EkLshBZMkBKTPNA6CswQLC6EnzUGDZACXvMh0HYLkCKNdL1bDcyQIpNFHU7sS9AdvQ5KFP7MkCQ5szXLWMxQNEbKH7V2zZABI/A5cbKJUAHccB6g3w4QEI8IinqhjhAmJI7SDn/MkBQiJsLrD4uQH6lq8KkYjRANFMJSmhsMEAzjB1IvWYmQMZACW3AyDdAZqzdxosONED6LTBPZpMyQFYTlHZSKCdAUYZPe/PzJ0CXrMkr6NI3QHxeD33vTC1ASB/nbBLWNUB+2UPzgaAtQPjHTo2UyjNA703PvVu4N0BqAravARoqQHyuFweAwy1ATMoqtoOcNUAewGkFI9ElQExvWgw7rC1A/eSjArpTM0D6GG60ElYkQFxACCimEDBA0/nMM1soNEBpiLBbTkQoQHca+8ORcDJAkUDGFhT4OEDHX0Ypi9w0QGUCENi8IzhAKDjeyyqmOECHoUN1YPE1QM1anbhHcDJAWJ/p4zgGNEBGFyXxgg04QO9GgY5lDStAh+nfw1IFNkAG0WEHDwYwQGELH+mqsShAwPtlf5NZLEDXyrVk/BQ2QHdJPxqPtjFAyonc7DJjKkCzRBveW10xQJW4cXS4rC1ANq4k1Os1M0CWZnBhUsY2QGg+PGtbyDRA8twj1Gp/KkAwLDdAd0I3QJTASP7VZSdAmptl2FlJNUD+zw4SGCI1QIY8CLDn7DVAuTQqqmfkKEDBwuUCGeQ1QIaqo3YA5TdAMfN3/dyAMEA/CxpHZbYwQPnkaSKokDRA0v1IGmm9OECaajq4Rm42QGUHMoPWDTBAmLAOXmA+L0CeHfCW1UAxQA64Iobl3iRAJl+MnsljM0DG7RXiexgtQN4/Wr4sDTFAFam4snN7JkDOCKTrmgktQG+lMQOxfTdAwjRkAlmsM0D8a+0EXu8yQLcyivEdMjVAhuP+L1DQNEC+aoZ9HgYvQB+hMWrAIjhADOyIq16GNEC9IS1NFnYxQBhO7kEQ1jJAPEhM9JIzJ0BSvanx4+c0QFlDFjB7UThAPN1K9Rz8LkD3ZQkNQjI1QK6DKqGfkSpAkHyz2Y68MkCncH5JmvozQGGGB0RtVjVAH82QU7+EKUBhzg4jfmczQOU46ocOBidAXYj1pH9xN0DRbzvm3koyQFnRutDhMjhAQo4LZn1fNkCf3QjF1FUlQHnv0p1R2CtAj/fQ+tECKEAoE5Cef+AxQE32VLU4BTVA0XsEAA/JMUAJRRPC0W4qQHwPOjW24CVAJtzqJ9tINEBGOPXy0Js4QHS5HyI07jhA6MIi4W01M0CNbE+KMpsyQB2RVeKWOjhA02B/fYWeKUB6ztb9048pQNdapqH69jBA1eMnTk5pKUBWmERJC2srQArwA7igUjNA6Sxk4kVLMUDBJCpp79stQDZ1U42f7i9A8bpPP7/GJEDnp0tVia41QEKcvbA1kThA8TduvKhjL0Aqyhn8MSQzQHUgL/x3SSlAYaRbLU1rOEAzqzdwykM1QBfjNB2txSRAqQM/3P6mLEBUCtn0BpYoQGEVGUpwQjNAgJn9NyAVOEDhTw+FzwMyQK7PIXiZ2ThA6J6OFIURLEAYeiliKlYwQPrpTU6g4C1AhDU3iQ6aNUCEE9Xv5M8sQKuwICLmiTZAZvRAbro3M0AgpQvC3pUsQBCJ323XryVAJ5LsR8oyJkD8q9Kjs1wzQHIPC1fpHDFAf8uB+E0IMEBYrRaz1nsmQPjJzy1aqixAN5Wg71jONkCexEAfYPU0QB57N/7m2zBAX0lLN6LtKECukfBta0gwQLpLOgK/KjVAM15UbCf4NUCtWmcblHoyQIo8k8Z3oDdA/scXubogMkCV2oT7y0s2QLdgJO3SkyRAXsFd9rVmLEBWRej1hqc2QPvE8op35ilAGGz8bMCbN0Abh1xafuExQLJeWjpyOzVA0JwCRorzNEB8MmGNp0kyQMZWt18sezVAzXj2XMDtNUBCPvWuUZU2QI4V6hPA1zNAsGDl/TmQMEBiuue1lSAvQF43ZmCnUTBAzwdJ6yifM0B+PdEKJSs3QEY7FTOGdThANIEdAllvNEDUJmGfTyknQCbtkJ8pJipAuSLfdtwJMUA6Fk4F4Wg1QPYDvlZecidA+DJAHrGiM0CAh/yR2lkpQL6QvVrSpDZALYpzo4OLNEAp5NLEhtkkQPAFuaDRwipAQRRTPu4/MEDnPr/ewrIqQLQDpYgwdTBA/7aEgM9BMkAdh/HZEVYzQMieFziYBTJAy8FRMSxHMkByyFuDdkwwQJVxOCZjyTZAcpy2JDt2MkA+00knH7IkQFnMIYbRAjNAmOGuH2d3MED4wMODra01QMybNuY3EDZA7jdQk/QZJ0BpNc+KkW4qQPI1Q+QyXTNA6ytT42zwNkALxQUHTXsqQGrJqI1/GzBAj8tMEMTsMkConcGElbwsQIgPzX2d+jBAo9uCVMTlLkATOcpEg4M0QO4RRxmPTC1AP1M9J3ZQOEDQY3jRL7c1QGoDzmQ15DRA/FTlxlrFJ0C6mIZvO6Y0QHIruRztuS9AXOQD/YwgNECPY4lBtDAxQKTwDgu9ZyZAisLxF2w8NkAYH+qcE9wzQJwURxLvDitAlImNmESUM0C1vMTFomg0QFMJueaW3jNA81tfW50qJkAkbqm3I4UoQFIS0b6nVTNAjf5yIv1QMUDgXUoT1es0QN5tQtRxODJAjLMlUnP/N0Du2fdcKjUpQMkdAFMsGTBAtLDc5+rEMUC/zT+F7HIsQGDLjzZ8QThAKSFndcdEN0CtiR89U/YqQH4DkJD6djVA2OiHMS4VKEB+bZNHel0kQELkqmeRPixAPdrwgBGINUBN+wBAG3oxQPi49bkYNiRAPA3WZCVPK0DUqFxRvhU3QDSHW4a0DTBAd2HDzbDNOEAwX1Cm8co2QMRAWb5s1jdAPWhrXT79MUDu7p4WpxQnQNazbLLafilAUR4vJYfIL0CpvvNSF0IzQEsaHwmxLDNAyqKUA2nxNkBLnHNcU/wyQLZBMiM29DBAB+5HfW/MN0BkZgmczVczQLdGwct3VzFAqIwyhK1GNUC4SWbejKE1QBLgx/h0vzZAeRTARQzkLUBeff7pfAYwQNLlTy5V6DJAj49+F45rMkC7EovS6skwQOIW4dXT3DBAKbGOcbW+JkBCuZGmGPUxQAwWBskS6zhA0pPEErHtL0DTyJRnPFo2QE/5r1Q4gDFA7OhR6vv6KECaV/BjkgAmQNhSocqJqihAk39Wiq4NMkC+PlkIXKsrQPineHCBry1AhCjw4OmPLkDzv68ejhg4QF05GWjJyydAIf0dKi1LLEA5THgpk+UsQNbQLezBLDZAKl+/FqzFNkAw7+iReAg3QIVxiS8DVCpAV0p2hfddM0AVuWj3X8IvQIPp2OpS0jFAYxe6GTQbL0BbboyAWC0nQDJpzMlSbTNARpeK5ItnOEAU7FgBNn8wQLztPpQ7PjFA81F9VidKNkCCjXkf9t0uQIEX29it1StAIeeHcXXBKEC+90Ffad4yQLZXGPGdMy1A1RHGWgcWMUBUHZoqASY0QLAcQrlvEC9AQri/XX9RMEC5IEXCa3okQAG15O2uayZA2iZrOBknKUDVSSUKvFAyQIKPFrjICi9AwoTkJkdUOEB/wdSZbPcoQK8GgoqL6CRAdGyAGvMsJkCSMlRedTouQEo3Ttg4fC9AsWmnTonCMUCtWI73r18nQD0tnsS+DjhANo73ZuO+OEBued98mRE0QLROGuEa5SxAKrf5htGsM0BA/J5MadMpQPuaBCEhWSRAOoAdNKFFNkAZnh5gdwsxQEGwh7KH6TFAuP3wP/3xLECqLQLnKqEzQOmBWmRp4zhAHhV4Hd/wM0AhQbRZhpo3QNzPreW7LTRAfY8l0SeIN0BecYh+quI2QEgR1trp2zRADcr6LKKFNkCWOiQ/5S8rQLcwUYWltTFAiCNlh+rPMUCU+9luh0ctQGIg9PAsqyhAEhJQdP0lJUBvRy5AYtwrQNjLca1nkjVAkqGEUnIfNkCgxFonmLAuQFNnNxlKaTBA5Ya1VLt/N0Dkd0M1DUIsQKr18c9ZvyhA9L4sbZsWL0CJwgp4O9UzQN5ITBKTUjhAY1tISEFoKUAfOEWfJwopQMK77LaO8TJApudviRcdKECxaIUdikQxQNLjTCv1FC1Arl882Zd2LEDZKC0hFHYxQHU4OyT1VzVAkEkriqxrKEDQRBx52kkwQDTtOAPiBjBAGH/lRZuROEC0Yop5VXQ2QL1lOG/1hSxA6oaVA8cMMkDVDBR0CoQ3QJ4+9q+9rSxAhyeYjPmyJUBwXlRJOmsxQEBvWQNcAy5AHCCztEjnKEC+v3eZnQUyQAIYHa1ZhzhAI6tj3Lm7JkAXO3VdXFEoQKjeO1sFOzNAaedDPQxXK0BJ4cICHRQ4QFxbt575vTRATKXwQ7sKN0ATqLXzywAsQBKwQuLdKihAYURNN70bM0AP7KL1LeI2QO464SWpZi5AuvbL8G6XM0AjBFjVIo0oQEpKoWs2gydAKFV1W57ZN0AUvvx9OjEzQBxTukNqszdAehi/i5TLMUADfTlW9LA1QD1HS2JPizVAEwFxhEQLN0BYaje5IRclQGgqYX4RVyhAMDWVDTdrKUA/Q5ZDuw4sQG+6os44gTNA7zgkjl3gNEDYoBj3YLAzQNgygkpSyDRAPaD8pmMfNEA/I1Cw/WcrQHaEi7+PSC5AEEZhCaf/LkBXnMcALI4tQJLrGk5vGiZAY7wLGmXvMEBueWWi01gyQPmGeDW77jFANg23rRy7JEAURHbeDfUxQJwtIiJ2nTFAaU3aiKPLM0DG/Tq+LtU4QKwCUefKrjdA1IWI4HFRM0B7s9dVYHYtQAiX9Lkv6TNAplsp7GM9NECeF1v+3Yw2QFhRB6l/BTRAhgSm7bybNEAkxtkM/ZwnQOrwzS+inTVAyCAEpYW/NkBLedGEBHYyQB4YWq2Nmi9A3PgMKLu1OECDUxtGinY4QAyZSGw5dy5AEX3+LdKBLkDvprxKax0qQJGsrmmREjRA4FYkeDPfKkADiL1oTxUoQOmT6csDoi5A6AHSWOXfNUDyOPaweWIxQDnz+OYNNDJA7Fj2YDnhLEDE2l8HVPwuQPW5mrgCZTZA4ZIgukm3LUCVrUOwMpwwQAz6EHtUqy1AWQJXcuK2MUA1A98fwR8yQHRsLKj9qDhA72klo2XONUA+Pf31V/QlQDrSV9YPKilAFk2LXdQvNkAPRsFbl+43QEPJmg1Sxi9Aolm+ZgWTNEAunuEM5YU2QA48x47CSC9AZf0p8D/4K0CmV7reAscpQIXENSlrPyxAdgC38P4kNkDQ1q4x86Q1QPeP22wTPTFAc7bSZ0cxJUCt9GNFriY0QGeUQkk+wjRAHUesGQM8JUCVkkyknZkpQDczreKnlDRAJnwCl4juMkCM50pMXrI4QPKrxuzrozFAm32h7IdYJ0CLfApbzWMpQEJIFjqKlyVA93f55ZuSL0AEHXgnKCUuQKYuTFbZEzVA5az76odWM0C1REnqgSMlQNi5BnaACDJAANCd5w/GMUD0OSB6LCM0QNhpO+CygDRAE/7frCJsNUCyDS37MqA4QIYLpnkdwzZA3FXIs6/kNkDJQIuEv6k4QP1e393CfzZA39DHq/2EN0DfZlWti7Y2QMCnQbhv9jJA+YGgHZyPL0CyZQqgaag1QPw6fVJ1uDNAwdIWwjDIOEApcAfJy00pQI5lb8vKYSxA+nz6xk3hJ0B2piPq4eQ4QHPW6ubfuzBA3tydftLrKUBb6NNs1dQyQJEIq95YkDFAXL20S409OED9Wx9B4cs0QO8T7R5EsyZAbIqWjiY6KEBwnwzgmd8tQJoJLd8ZVzJAaETVaSCJK0CfJCblgCQnQHoU6P5YBzBAFjJDuQNpMkAKj+lkYIglQHFOPXmZUClAKqjNuegyKkBXVBLakR80QOE0rgqDyDhAoj9LUaEXMkC0wU6QkP01QC0Royr6GDJA6ugcezVsNkBmEXoj3OQ0QJLmRqMUhitAgyXg348kNkDWyn33Zj4pQB/gqbaWAyZA2PaCFY0SMEBpP0jzCQY3QDOYkLAYoS1A/s0Sd/I3LkBECiw50UMyQD3cygjs7DRAR0zRHB/rNEA0HrGZ8fomQBwnsHyqqDZA8s7nIlkrNEDsMicpnj8oQPLKGzK/ISVAexKr+8nYOEAWWerStUE1QAaHGsqLRihAjvgW3okmLEABSHgm+hk2QLub+FpRmyVAjx+LNzbwJkCbMw9EvLwzQCXCjMRAqidA1y43fkREJUCpAfDSqhQoQAJdmoggsjdAwuiUd35dM0COH2UEyE8wQDGxpflX9DNAYBqr8SEgJkCBsMKDV1EyQDWQrkMgGjNAwYDj0nhrNkBFuOGk4KUxQLqk+O2GNjhAUk1T1DWYKkBKg6J52TkqQPkuCq9a+zJAyyKH6i3YJ0B/KqQg5tAnQLirwfUQtjhAkcB/Hi/NJ0CkgBiDwFwrQNuHcflNkylA5RUjFoLHKEB3Q42igC4zQDgcimIBLjhAZOadfg05M0BZS3M0xWUzQI9JH5JBQThAkfuollmMNUA7ElpUnl80QPZCCZqD2zZAWImEDmTWJUCUwbW/7E0wQPLDvO4CKS1AJTwCOSe8JUDi4g5tfUE2QM4amTk1yDRAUjep5P/aKUD2WSsw9wspQOJ+IjbrRDJAzNMJm46+J0C1nntXF0szQBqwBJSpizFAYd/jXmXRJUCGaP2fbncyQKVpg8DXiDRAGkD85zowNkBBrbXRg2w0QOVJHGOVUzNAOala/QEmJkDSublRZPA2QFg9418oEjdAIy3OrYdUJkBR7x0GeSErQD5vlkkYGjBAvPmOV6UJLUBnbFYj79slQHLlfXpV3ihA5ex8V+NnLUA1GHtUkh02QMwjiS79PjNA8ePHoNoTJkCI9pjyRqwzQE1VuVoP3TFAIUsxbeReNkDiAi6khTMqQC9hfAi9XCdARtIhX8xDNUDTN/p417ckQGJYd49FzzRAjihnmRyIMkBU9rSOF7UpQJkCFkKYWTdARkfPtVyQNUCe5ncAxjIyQOTf2CpAHjdAOsr39hz3KEB0wyCBu8QyQGHehFPOeTJA3jMQPQwqLUBa8/zYtqE4QAMSbeSkhyZAii7erT1uM0Bwh3qZMGgzQPDf+WClHzRAnv6fOD9HMkAs2vouL2goQEB6DSiYwDBA0OLMeeRoLkCM1nrAlfM4QCkB7/OTZTNAWLM7U2h6NUBiDHXDhhkoQLIdaTjWYipAKJ4JkNTBMEA8fZtzj8crQK8bV4nDXzFABjEe9XGxM0DbWZ1yrTIyQDRohC4owCVAkD9SLSXcMEAWUrMTNBU3QGjWCdWvKTVAa/q7S1pCN0BALLLqEL0mQIPiguyJxi1A2SSlirfYNECT8mUSKWw0QHuAvhfAwSlA03WsbwYCLkBOXU8pn5ouQPbvZxEdkjVA7IVpmj/dNUAematnY0czQBTBXO8zMjVAYuet34bOJkBsaj7NPuUwQOj1cOp/yyZAWY7c6dAoKkDBtGyfgiwlQCGkC+0/+jBAqeYI3+TuMECfV/eIKA4xQP203TT0UTFATxtrJGWYNkBHsKEGCC41QL7xaI2HlCRA5BB9wax5MEDfjVza4a0xQDLDu529hjRANgjmrjEJN0ACcpiuwQk0QOiTEH6SUCxAKKd++p/hNkBEDARi0aU2QEBX1eaSzi1AQ1eavpCxLkD+Nd6hiwwyQEQZ/w7dCTFAozDBfnm0KUCOZ2X5abQ0QNqg5PYkdjhABJt9VAE4JkDzkees4RslQIe+uHNJMiZA8Zs4ybqoM0Dfa1Eo2pIlQBXqa0McbzJA3j5bfI6aK0CUNBB07KQxQNqQBOs4ZzdA6kRedW7BLUDS9xAldQkzQNbE/CTDGDVAWeTOVqVyNUDnlQvpenI0QNeLZ/NsGjVANeToHcudNUB2ZdgtdX42QNfu3wtbJTRArEoWgNfeJkDw7cQIAAA3QCi23yLfsjVA8nHea0ReKkB8UwLAVmQlQLBijKtyPzNAWxdc0j3SJkCHfgQtykMrQC6tQ32FvjhAvkY2z2l+MEAtJCYpP6s3QL+02y9baDRA8BbRDH3eNkBR5vLOqwknQGRllkHgrCRAqpmJrHVGM0AwL5lpJl4kQChRUWJsYSVAFKzCd5A5L0DfA5O5UVY2QC6pCrIV2ClAOcYfjWEhNECJwg6UZYElQCEKkputLTZAVA8T2xMDMkD/1gqpF8w3QHhrpNFEDCtAf/cFbrMeMEA+niPr1hkxQNWWR/8APDhA7lZI6Wl3LEAkKNGu+WQ0QAcKwyppXjFAkpPKoX7LM0D821z49H84QNt2/PL/5ChATNH1DDDENkBoRGckU0QzQLwfRvCkKTdA9hoyJSYFLkCo3uL7D4E3QH0rDm3quyxAF+tBof4lN0CSvHzrD1QzQKhDatd1TjNAaPx405BeLUCEbZnVNCM3QAi7vE7jxSlAb8MYNtE5NEA5KZlfjew4QEcn9bFcLjRAjLNHS3MDNEDKqhBDXxM3QAzrz/jYyzhADGXbDpuqNkBweMC6PYcuQAcmzrsgKCpA6hyI9n8TNkAKPkgrRJYxQO2n1dYgLTRA2Su81DOAJUAuX+EqLvAtQBJkZi/bwzJAY7ij0PnlLEBZV5YW65wkQGNt7Fm74zVADk3Ibb/0LUAgMyk1bao3QAwnq3vCRDhAXB5oN8yuJ0D2AcZ48Uw3QDwoNhe8ozRAFndxGRwcM0DoBOzJyPYwQKChbBjd4zBAy2Qx0cm8MEAouYWKSA0xQA3tSH1vkSdA2McUwYddOEC5SQbJ5votQINDpk+nJCtASSdgW/69J0CZufefjUczQJDKq0IqdiZACpqpvjqXOEC5gjxHSukuQCZ401l5yDFA7jVAZWlgLEAOpLaIl2Y2QB4coQGKJDNA4Fa2eOVPNkBZpvphTBIzQM74D46gZTNASv8qR3iONkDGrg8S/z01QK26IuB3jjdAFUr36KpXMkDGGuMcJNo1QPC4DOU9qjFAvqZvU96wN0Dyv5Z4rtwxQErmLvWbRixAHr8ipxyBNkA73IeWFN4xQL1Pc3S7jStAnFKcpfBpNECithQ3GwQxQAIxcxN9ZzZAH7RD9wXaMUAe6YciMSExQAGtcRjMVidAkjFfrGqEKUDgk7JR2VwvQFXx6kVYkDVAnDOVi3sDNEAKH1CtjW02QKGiKq53qDhAwvwnUYgCJ0C6BZZ7AYwsQPZ4mvDvOStAKfjt42TBJEBnWHlLv0E2QIyxiSZUYDNAG/KOQqlpNEBEweq4TpcwQOrKQCgDEDVA+Bq3h1OhMkAnyn3A7kkzQBpnhMM6FydAlgxHOvZoOEB1flgRW281QK/2M4VN2TdA0U5cJL98M0C0rI5QHSUtQG1VS8AEFDZAl1WTy8oTL0D1zj67070tQB3K0645/DZAuGuWLPoNM0AhC/Nfb6ErQOI77tgQBClAJklgaTB6KkAK2Wc1d4kyQMaNB1SByDFArA/0xzAiLEAyeNw8ImkyQFBkxhc9Ry9AJ+MKsjr3JEBWrtBGMkUvQBY/otFXPjBAb1zRgP1nKkAIwi7Zhoc3QAK3jZkjviZAjOV9Q89yNkDb3qQt7E4wQE9gEuM9djRA4xRFltGGL0BQcKuqRt4xQFDMewhsrzJARDBJLxzvJkA8hiq7zsczQEr+UVEAMCRAguEYhemIJUC2vsKhUjs2QG5wRowJcDhA7y+IgZzmK0BCS6Wfu3g3QGVZ7q7RBTdAIjT/0cVeMkDMW7Kf1CotQG7ktOc7hDFAzI/aJHKgMEC6Z7MmGh0lQHVLUSPUTSRAxcIE5w64OEBeID3aPnYpQLbMCCNnXy5AmF4+iG7iN0CghSvTKbY1QBxPrM/BTzJAgsd6ijMPL0BqEm22AOkqQAyjkbARLChACMTZafDvJ0AM/G2H/EIwQAsG2HXupiZA6Jq5vWlVKUCQzT3ln1I1QDSuNAZwqDVAe8zIC7waL0D7NDwzzvcuQHTvczmF0TRAcRwjmDwULkAiiasyTqE1QMg7kwmySTZAArFasYwgJkAof8WvuwguQAXZQ5CEmDdANjqvv0GlN0AYUjQ+Q6E3QJRHIlUjaCpA9j4tDlCyLUATWQPOaEwkQEBZIzE/5SRAlOnq7OSdOEDQjus3EHAxQIYQ7paYkSVAcDCh8ld/MUAnKJmT5Gs4QMwq9lsbECpArh5RHaTDNkBJvImEZYkwQBembhx8vjdAVT1O3Uy6NUAWON1FsxguQGK16aN73DBAD4cNjP4pLEBgzppepg0zQCNnCmm9ljZAvte7VO9SMUBcEOfa4CAwQHU3Pby7RSZAGIJQqG9INUACtZKk/UowQFXakEcbjDhAttsJinYsMEDsFrM0NFwwQBbpgoCQbTRAw1YPYTLmMEAo9RJZRzY1QCM2zlOSfS1AtUZgs3qqJECLF0PP7EEzQD4fxuRVDzZAvNoC4TpBMkB+vbvm3+g2QKddvMewfzVAplKQ7sk9M0DHieVf0SYlQKnavdsuriVAvCXdrZHsK0BIxIagOPgnQBIgV8OZ9DVAlK5AuBJsLEBNFLabM+U1QLYBvl5wfzNA4w773kTiJEAjBGclS7Q2QKYaMvReIiZA5G1o/jjQOEBHDjkz1hg0QJRraZgEBjZAIlfwC6TYLEBMwexMjpYwQPYFZ0LkUzJAxth3k1k9JUBey41SO7IxQFR/rFTiYSdADY01ckh/LEAvx/urZWAzQL2/4ZWMIzdAMK1peaFMKkAQH0xrFXM2QEJOB8tEnSdAxFBsSvQpN0CbEPsO6tQxQDB704QPMi5AfiDLoypmMEB2ySxoDUEzQFUxO3VJrDZAtRv0Z3YsMUBQo2maESs2QBSEj3X1LylAaUw7BVdAMUDDKPf3j2M2QKjm8goLnixAqSqiJ0i9OECyt7Zirjw4QAyKVjSdxSRAtpjAYxsKOEAahFGksnsqQGX5DLJ/PydAJJGONWDFMUDYPzc1yJIpQIGYdU85tTNAAelk4nLFJ0AYF5Cs5544QC/CI7ElsjRACwiAG1abLUB3cHoyCzc3QFKc/rnf4jZADS/tO0EeL0CuVtZY+asmQPNqwZU6MzhA0BhgGuZyM0AZntMlogstQFTVWY58OzJA8CFCWlgvMUB+dlE97+IqQFTYZlx7IS5Ap+WpUpWHOEAtBtWD2+EvQHDr7xT1ADdAuwpbNsepK0AocV6y8uU3QFgcIZGmQS9AV2MzhaGDN0BNUzwUyYEvQImftzzutjFAaSNvzdEENEAWWjJPAQ04QFqCkXq9kSZAZP9NPqZ8K0AYO4oowY8wQA5tHNo7CzNACPFEmWuGJUDw/wHL9dgmQO7b+6aN0ShAGcMI3yAvN0AyiiPmGPYrQECWuiaZ1jBAHT3f4lIJN0CxjFkI+8QzQG4DlEo26DhA2LAI33mgMECq6aTGDZozQAk5UWgXiCVAKLNhbgKFMECoTcjtC6kqQHudkHUZxzhAqiEXYtEULkAuJN+3fMs0QOhoXhuQlC1AhlyP9MAqN0D/wPhfCwUxQOwy4XEI5iVAHQMLS5bqMUDV9utx4gMzQN2QFLuxDCRAc9h9H5aGMUCwNf5unXc4QKOxjYTPBTNA7a1vtebYLkAF9C+x1ZEoQDZxX7yQhDNANp8v1lO2LEBbEc1ZmjoqQOmJPvHNgDBA5D7SqQgKLUAHnOV7VOUuQJ6btq3e3zNAPcNO2G9RNUD0kIB2k7UpQFjE9V5XjSVAfI0ow5kHNkC6f/fbzMIyQOFfG9LEjDhAffp9zy2+K0AcS2I2zTMrQIiFCWzEwi1A+R9zdKTHNEC4i1MXxG4pQF+DoJV5fi5ARFNgFJ2FM0CMzWbrULMyQKbR/mKxFzNAj0BgSN57MkCAXP0YlmAyQNC/nxQG7TBARWqq39KBMEDOUZ3qHyk1QIbnsMsv1TNAPovIQKajMECKVmWBzCkxQJ6zybn/wjJA5J2BkxM0J0CZ32rl/5ozQKK3KrY0GDdACbpL9+eQK0Cv88oemzQmQC6UYW65bThA8PIR0VDJMUAlXOO7F4I2QCDraVXJ2TFAuU974a8sMkDQljme4bA0QLITSEzWjDFAaO/XLVtsM0ABpObjZr0kQCVIhEFZfS1A3xaU9wpjNkAeypeYAHg1QA0g7GzEoSdAbW6aBNBVMUBCPx/ItkczQC7LbW0IsCdAeq03lmaCKUDQbrtwlfIuQL4wxw+gUzNAEg53IqEmMEDyCU9EtVMzQPQA3SiE+CtAnpJuH8yxKEC6VmskiywlQJDi22uGNDBAypnrewQJMEAeRo50mWgwQDoiDLEDIjVADT4HkIfsL0AEQ4TNVS00QDT88e7xriZAPQlsT+xXK0DyddykTpwmQHz2oDomcyxAW9t01JzeJEBskI9sJnMwQJn60//XsylA4p8fxqZyNECv9bmu7sM0QNcVy8u6NS5ADce/rEPbJEC3Tn8OOdc2QCvU2oUXzihAQFHDIxA3MUDMkCKxzDEqQK/8RmFiWjJA3H4lXe4ANEAD/W2ti2kwQMqsoi8+VilArxX7yaQ8NEAbZ+5WKG4xQIBnVyu5jy1AXQ0uZVJaOECGgYNYbiUrQMDShFtcfDdAZupNRkM5MkA8q6AnfYMsQKhDJoJMRChAdlph2R/pOEBdyuQiriooQMn+cBTRGCtA1EjzVTC1OECgX0ouEZE2QHzNvmf/yidAaW2tnFieLUAePYoVhUg1QGKjyZ4qqitA0C6PlvxRJ0AJD21krrw1QOQ7w+JvwzVAAxkHYd5RL0D2hksrTPMwQJK4lHnTkzFALkshodhxOEDAhlDtrMEyQN23UCx0RSVA38d3e5xXMEAGrT9UulIuQKLOkew4NjFAnpIDQ9iMKUAH+drmUf8wQNJZEo02TDVAagdBN+qcMkAk6raVoBQsQOqbmsx4bi9AGI5ZHsm9NECQ4HLemyYnQPDg01LOoTJAT0aGWDAUN0Digis/SHcrQHxzJN1cVDBAtgTQ//6bMUD21fxwbvU0QEFKkMa87DJAjleudbR6LUB6GCxII6E0QI4DbQJu0DNADRITJPjMMEAb7TR+M+s0QM08+JAmQDJAm+Q8aDTHJUAN5puc3Rw0QPOrLsW1oCVA/MduT8w/OECE44gNwPoxQCwQBaceRjBAkcac2GyeK0B6YplJf442QGOmA+SCQCxAucRly/WsL0C3dcU2+vUxQM9/mHl+UjFAILUVpxOpMUCrgmuTvrUrQG9Tn5MxxDNACWvWGcEmJUCWG4tL3Uw1QHtZmmUrazNAbUE9jDllMEBmp8QrWwIyQOKLTJtGIzNARv2O3J6vLkBH+GtU/DMkQInC/3ZErTdAApjWucL4NkB6kafqIKExQMbAYlOM0zBAMSChRi73MUD8VFJY5vEqQKPjwvPrdi1Avu68bhmoJkB2QX2dJD0kQMajSVk5hS9ANuxDsqVELkA4L89W1YotQE4ryX8qLjNAq1tW9S8vNUBlJfWEmxIrQObg3rU6xS1ARYTNsX92MkDF0BH5QcIpQLaW+E382TZAve296OK+KUDziApJa24vQOUF8vDoZS9AM5Wn4EFzLEAepZn8UNsxQD0jdewb/DVAKRhhzV4gNUB2dKUASV4mQCWyyk0DWSdAqr8XKZ9tKEDXaCjw0mc2QOlwz/5ENDNAtrG9D43bMkCpmPgiysk1QI6CFEBx+zVANaSms4C3KEBeGs3P9wImQC/Ct+09ySZA6F53QNWRNkCWaTNHTjQoQATXJG09BTFAFA6LMeh0MEDvW0rTkXsrQOVKZASNtyxAW6LwJMwpMEBi0AZ+Lo83QPo/hyc5UjRATqajsc4BKkB4oigG00wpQGDX7lv88zJAzAOhf2BsLkCc6s/wlgcmQI18klBh7DRAgNHLVeiTOEDq9D8mIQgwQN4e1qvSgTRAkC0lF2shM0CIpbHh/Y8qQJBKfPHvjClAMAf0RVtwK0AD2FuuAQM2QBjTGnSjkzFANPyG0kWLJECwFF8rPlUxQFF7pkdmajZACFYzUqxUNUCyrfT9vu4sQKD+GTylOylARlXDyXT9M0CiMpnGSOkrQMAYsZ+u/SdANcw9DH+5MED8ZGmUvHMnQL4Obn+HrDhAv72wee8lLEB9ygzsK7kxQJCnaghGpytAVMSovAsaKECRe52uVnc4QLXvCC5kOTZA+TYWIhn9MEAZBAZYYioxQLSwaKf88zZA0K0Gp9eEMEDOXEr95agxQBogWPftpjhADELpN83eNEBqFqtnQ+QwQIu0IGEp1zhADJGxOxmtJUBjQrlOL+wwQICkb/IQRipA11kVTPg3JEDoDqMbwZgrQHLvcbpuXTdAPwCMz+AONUBWy4a4r50nQNonL2Mc6TRACLSqxDiwNUBMohWfV103QKRsZCM+6jFAhDmhglYhJECVma+a8zYxQJErFCmaeiRAREONwijwN0AI+8IY0hcvQL7GTvEa1jVAruEprryvOEDDB1vjN+8qQEQaEd0RwClAiPHwrPTQMkCrZqAtp6snQGFjrhjjtzNA2kYh0/HIN0DzrHHlqQ4sQL8OsNP2szBAYPy7YUfdMkAwYwsaEREyQOCK4jCW4jBA6PNaGA+qMkALwz1zY5c3QKJV0xu5gzRAojQTbqn0JUAPvudjteY0QI30ddSbTDJAAmxhEJCXM0AyL7A0jyQqQMWmffUKhiRA1EfvZp4DM0C39VG3Q2wqQArwckHSfzNAvI0cXRS2LkBJ/dZFo9EyQNSjt4m8nSpALlxD/dzxM0A/KobpA580QFh66Z7BSDVAU4LmfqxLN0ANoQ8WlbQzQPjeuH2VhTVArNVd7IVxLkDIQ5XgRr8zQHaaoL4UnShAj/OBhln8KEB6r6Joc8MxQEzNb0vLfTFAKKmVj5sPNkDaqdibNno3QAQmoPbGUjFAxSGkh/UrJUCKhxcQbWgyQK+lzfgc8StA1xDngOt3NkByixXr3OkyQNCP/jzMODVAH1cQ5NtvLUATTrt+dxovQMSi5S+p/DZA5AIVIXjyNkBb6TRu9AY2QFJsyrSndDdAuLQdecZeMEA4Dym0/gQkQKnk3Ip+9CdAlYxB+vkvOEBwlbLq+HApQGg2PPvbujBAw9+UU2hEJUDEMvWZtOg1QBttFS6yWThAuzKUqBGrM0B98++sjkE0QJoNBX1MsyVA+O0P0knKNkARCovmfKgqQIJPYZn3QTJAjmX9Z6mzM0AHByKD2Ko4QJM2bRWTmi9AcG3Recd7LEDT3wLqLqouQCDoTEyOHDFA4ILOo5BoNkB/SHLujqstQFYEJJpjxzhAdbJzzYBfJkCMMLlSLIAsQC6Hne+jhzRAZU82d8wAMkDGuz+5sBklQNP3BIm+7SVAsXrWycOTMED3bY97BiApQAf8RQViGCpAtGccAcgNNUAqnSuBkfM3QCT45KljHS9AJzrxxdUSN0CNA21EWXcnQLn6f+LUEDJAgNqlNgm+M0COm3VNJrgnQFdNufntzDdA3W6mM71XKEADNU3UsgMpQMKFm92nzShAL+NTZt+0JEA1g8IupWwyQE5zI39A/iRAGRlVjx1TNkA1YlIBhsIoQPhV7GcA9ixAD7OjJ9aoLUB+Cp5opyg0QCjBw0zXlzZAu1mFzNHoKkDKTAOdjA01QFYgEzpF6ypA8VsUUitvMkBPobJmMCoyQIJcFYKeuThAECIqr/s6NkDA+6Pmt0M2QL0tuJxjbTRAsLBkLgmMKUAxlkDpL6UyQOInRgPOnC1AeVWTINI0K0AH053O+q43QOXrd14s3TRAuUUhzGK3MEDAB9Kly/wmQI5bVwzHrjBAbM5mRvsPJUDxOixGol8xQCaG6sO+zjJAD8E6QMUxJEBrSNYFFl0xQGZa5YLq8TFAyms9sLbNLUBiQW8wC/U3QFRK3TG1mjRAoKrB00WuJUAqldeWTPk3QBNzCaAEMTJAddagM4wRJEAyh+k5vRk2QLmx2SfymThAmIggnQtONEBzJYYd45YkQOofvraU7zJAGaVVFj9CMUDoKoXnplYkQMiGFptdnDhAsoEXU2GnKkCDSlKA0NMkQNyb1wud+y9A3HuJs4ENM0AS7Pn9qTUyQPiqGoo5NSxAv87QY4fBKkAbBk8f1yovQFsWAUSpzjBAHt+ZCunqNkBxBkQnYzwkQCUe0OenHDRAcl199LYYKkANpug+cMI1QKXVs+sSNCZAM7WhcaTrOEAS8ehuBek2QE6OXApP0DJA/6fdq8agM0DMiusd/88lQN7JhvXHQzFAZnML+LbjNUA6CJwEN9YwQOVTfT6erCtAUPtLguqJNkCxoHTma4UkQJk3fIP7IzJAK5tPuLIdL0BkeKHLlt4wQD2rAwcJRDdAnCUrKs3NNEA/QJh25C40QF6H3TdhYDVArNn38NlgM0ADIX0LbcM4QMYdESNgdydA2YWixrdSKUAtTx2cNTg4QB3AxxrHFCxA9mHuQAM8L0Dk6nE5/bM2QPao14fxoDVAzFZR8iVzMkA02qpK5l03QOX/PmzgCyVAj6s/dQAdL0AY6vNRrI00QDgrI8TIrzdALOOMv7ZRLkBqigPFTngzQBB4bi1VXC1APvKPrgDQNEDNVQyX4y0wQPeD513DxzRATjIjB4fqLkBxPVoaNnMnQFwG45WbCDVAyP0jW9InOECGxiEAr6A0QHjyJtMCIydAwg1r/WrkK0CylUYvjfE4QJqXKUoONzFA37myCo8xJEC4BanEHc4vQK5wI6zPGyRARQwBTX5QMUDOcMJLKWIyQKPGAz9DcTdANaiDLhABKUBwH1WnLx4xQBTee9l0VzZAK71/DLTIJ0BbAw0kLFIlQKf5K7q6UzhAjV+SNixxL0DtYg/qW9U3QMazoGVeMThAlg/BeFxPN0CtwzKjuh8lQLQsoXdNojRAqGVRF4YnOEAFl2JQkAs4QEUPItclbCVA5NdBCqlRJ0DQZNWSCOErQGdfFABf1zJA6xMWw+X6JkBvblp3I78yQELkoyk8AjBAugvegafeMkBGg9kkG78vQLqTL2ipEihAXVFKxf+dM0Di+PfJQvo4QHavbkYlvzVAcoEUQ1UEMUAxcUjKwqQ1QMyOsGHBxTdAQDb7XrtQKUDUcr1B9JM1QKySkmZZmylAHpwwVUr/L0C+eORX5RY4QB7T7ua21jJAHU7bcsGIMkCkLaPk//IkQLgtZISYBS5AznHSpSgONUDGULHI6m4nQGdkwRN69zVAYnhPiweNKkAzxVQbcJAuQC9wqQ9v/zRA2MEjDtabLUA/jDKL2w01QAF7HZ4MHiRAWCi4wVbtMkBKDiRL8aA3QIrpI5QHWjFAXAn74BteOED+2Ga/L2QmQJSl9JDZkDVAJeiR5pj0JUDg9+sl0bM3QAwq0wdAriZAtg5YySyOMEBSkWc1gN04QDZUDgSNYTBAdfH6IzKjNEAYH/t7gV4qQIFrBb5yMThAJHDFAVO1MEAGAOEBM6YxQAKdssC8MThA1FgTTk6ROEAKm6tfWLcqQKH0sl+wszVA7//HVC7KJUCuHp9U13YwQKUTwMes2zFAos80a7HmOEDtpdNGJh0yQBNnfxF5CzdAbtIyzTEWN0APAVDwvMstQFi6wB/gATVAOVbSBg12KEAAAZkotlc3QCVNRpqI9y9AGZ2W3OJONEDM1rne1H8zQCqdKwHzQDBAzMaWxCYoNkDYitQEjB4zQG6WDqBb1iZAZsx384ySM0DIR6gnh7k3QEh+JUH1MTJA4DbX6X4jK0AA/9NhJzYzQOh/gxPT1TNAZl3ttO7YM0DGkNPa31QwQDofzBChxS5AP0/xEVhBMEAKvCuXtQYuQH8IPi4+2iZAApQjAP34OEAacF3E3FEmQP9z9rJ15jVAvDWRhJAROEBVutVz/2s4QGij4U0K4DdAtDMpGJKdMUA4rRSP6YIwQBMcW126bTRAWGGPMe8LKUBlkRlnZ001QE19w2yO0ihAIYZptCb4OEBOTzJqI2koQNlAo2EyqCVAvpDBGd2WK0A8N6c03ncvQDlXYosSXShAaHPd0lwlNECj7s0mA043QNrIymPBUCpAaCeD6RDJLUBEJkGSX0I3QG+/qeoZLyxAtuHTdbjBNUBXa17lxCM0QFDxApoT5DFACuvVR6uvM0Cigxsqvv4lQKpYfiig6jhA8818WvORJUA4kmxKfus0QIK6ptKRtidAvEyLK+/aMkAW46aQuYMpQDMyllzp9ilAbGOTEpGVJ0D3rR09b0kqQABBWHZ5KzNAo6M8dotaKkDDpsTgt1Y2QC12+FyxpitAAv76BaNNNEDmUPKVyDMvQKm9AdNXRTZAtQrymj5nLkDlKAVCWmYoQIPKK/Su1zJAYy+maJMsMEBhmZUkxRAlQNxT3q4WnDZAPLdPi1xgMEBGz7C2Gmc2QLLMGn9NUTBARkawzEDFOEC7DRUmd/4uQJ/8SE71LSZAQB3vRfbFJECcwFtkaPIyQCv7Ox3OOyhAiMJNVBr9MkDX1Tw91lM0QISna5N71CdAKKtvcCy5MUA4Nt8v9GczQPI+vpewbjdAFadFg24VKEBA9qaD6hsyQFhOU5ZHfDhATOXTAU8PJkDUvlPbP6M1QERv62MghTNAxhU9z1/CMEA+FigQMy0xQIWSV1HwAzRAnMyIJEdeM0AyUIDAy34qQLTEOjmuKjFA4TlvhP6PJUCW6gs3QXMyQEBzR1+FFjRA8heZLs5uJUA+rt/I8TU3QAp1lmb4iDFAD0keFyz3MEDIPA3X6FY4QDuOl0fM2DBABHbVX2D4JUD6GOskKeU2QNeFxlqzXiZAv9elSmyAMkC+xaU3GxUvQDg95X0O9jVA6ZzpcWPMMEDL8V5mtPUkQBSe7iCmvCVAmZA0ZX7NNkCPeUE9HCQwQBbx8kSKrDVAeGDLdwCBMUC4o+6GDZgxQKElh9Ht9zRAYpvvIr5bLUCOpD/heYczQOE22WHHYSpAfx/uSeYKN0DpMP17ITUqQIa6Blq9JSxAtaUh2QINMEBX6T+xdEQnQExeVmA8qDdALEFMiskQMEBHAewnqVYyQMQ1fiMroylA6LbcFIGvK0Ah9CdG8FQlQA3jVnr0FjJAR7N1iHXrJkBSzo23JlA3QCOtFiKqCCpAiOs316bDKEAwoXRTF84yQPYaacgagC1ABC5C29kXNUAWe8LS8cUoQDMGdi+1GSlABDGKLq2rL0CQJ5KFwTswQIZUg8wF1zBA+unxar7MNUCLhQS2jKs4QFveXjOvNzNASJ5E6kypOEDnvc31o9IwQKLxKFl+4DFA0lHYcCa5MkDuulshiQEzQJgSLyk7KjhAhm79Gyv7MkApR9vH8/A2QIf9cO2gfi1AXPpnlrYJOEBe7Q3EZiIwQP6Qs0kf2ShAOq/DeQXjMUAd3KwnNmYzQI8lNohjiDVA81gAwWXENEA+n44QMQkwQOXs0fadRzBASeUxSslhKEB5C2RWGY8vQLTu2I7i4ilA7QdcPD7sMECT8gZ6rTkwQAJw3VPT0DJA5slBXFWwNkAkozonuMkzQG56RPQ+JyZAyNio5vjZJEB8CSDFDjozQPPqZs6asydAHkoodVnKL0CjZQJ5DHgkQCSTsEOZvDBAoTguf/AGJ0DtJu5BfmkyQKYPWtS4KThADNv8JyBANEB+FfP50K0sQPQByb+m4CVAt9QTXauwMkCvLN+WsNo0QFAQfTzLBTRA30wYBfU8MEB7Qcckc6w1QKk1lGNXhTZAxjmIvxgpMkCeblbuyIM1QJkDCeX3vDBA3pLn53ZKNECSrJL8s50tQA0E+UUiITdAOrezoyZUMUB9MFSG8dwxQOoffoUe1DRAbGb+Ki07N0BNJhpGaPo1QFGPesZ4UipANLxYsx7HMUDklWcI6mswQGvlag8pGytAI6wUqcQCNkDRXgUrywwuQHQNDSrk/DBA4+tcrFHnL0Adw+PsDdAyQC9PdHAI3TBAzGAmnjPIJEDQVB/10jk3QNmnCyyYcSlA+iBGCwocLUAYZkNI5TwtQFbfPMmwiy5AVF6KgYZaOEDzO7LC9LI3QOJLs3yC/jBAJoYJtg8LNUBXdCY82IQwQIylWdpbJzZA91xTdcQbMEDOtBoe34UuQE9JH8Oj/TBAXLDpCGLqOECu0Ve+qHQuQJNjRI5iMDhApO3+AedNNkDV/VhU5WUzQAc/IhOjoDhAvDQwLx3MMUDeWu94+K43QGqrl1lKDSZA7U9Nu0s+MUBk3OuHt0wvQMr85xLlQThABoPQ5mRML0AI/ABvSzcnQBA14uKhtCtALs7Nf0/QMEA9OFDe9CE3QK/THEhUDidA",
          "dtype": "f8"
         },
         "xaxis": "x",
         "yaxis": "y"
        }
       ],
       "layout": {
        "barmode": "relative",
        "legend": {
         "tracegroupgap": 0
        },
        "template": {
         "data": {
          "bar": [
           {
            "error_x": {
             "color": "#2a3f5f"
            },
            "error_y": {
             "color": "#2a3f5f"
            },
            "marker": {
             "line": {
              "color": "#E5ECF6",
              "width": 0.5
             },
             "pattern": {
              "fillmode": "overlay",
              "size": 10,
              "solidity": 0.2
             }
            },
            "type": "bar"
           }
          ],
          "barpolar": [
           {
            "marker": {
             "line": {
              "color": "#E5ECF6",
              "width": 0.5
             },
             "pattern": {
              "fillmode": "overlay",
              "size": 10,
              "solidity": 0.2
             }
            },
            "type": "barpolar"
           }
          ],
          "carpet": [
           {
            "aaxis": {
             "endlinecolor": "#2a3f5f",
             "gridcolor": "white",
             "linecolor": "white",
             "minorgridcolor": "white",
             "startlinecolor": "#2a3f5f"
            },
            "baxis": {
             "endlinecolor": "#2a3f5f",
             "gridcolor": "white",
             "linecolor": "white",
             "minorgridcolor": "white",
             "startlinecolor": "#2a3f5f"
            },
            "type": "carpet"
           }
          ],
          "choropleth": [
           {
            "colorbar": {
             "outlinewidth": 0,
             "ticks": ""
            },
            "type": "choropleth"
           }
          ],
          "contour": [
           {
            "colorbar": {
             "outlinewidth": 0,
             "ticks": ""
            },
            "colorscale": [
             [
              0,
              "#0d0887"
             ],
             [
              0.1111111111111111,
              "#46039f"
             ],
             [
              0.2222222222222222,
              "#7201a8"
             ],
             [
              0.3333333333333333,
              "#9c179e"
             ],
             [
              0.4444444444444444,
              "#bd3786"
             ],
             [
              0.5555555555555556,
              "#d8576b"
             ],
             [
              0.6666666666666666,
              "#ed7953"
             ],
             [
              0.7777777777777778,
              "#fb9f3a"
             ],
             [
              0.8888888888888888,
              "#fdca26"
             ],
             [
              1,
              "#f0f921"
             ]
            ],
            "type": "contour"
           }
          ],
          "contourcarpet": [
           {
            "colorbar": {
             "outlinewidth": 0,
             "ticks": ""
            },
            "type": "contourcarpet"
           }
          ],
          "heatmap": [
           {
            "colorbar": {
             "outlinewidth": 0,
             "ticks": ""
            },
            "colorscale": [
             [
              0,
              "#0d0887"
             ],
             [
              0.1111111111111111,
              "#46039f"
             ],
             [
              0.2222222222222222,
              "#7201a8"
             ],
             [
              0.3333333333333333,
              "#9c179e"
             ],
             [
              0.4444444444444444,
              "#bd3786"
             ],
             [
              0.5555555555555556,
              "#d8576b"
             ],
             [
              0.6666666666666666,
              "#ed7953"
             ],
             [
              0.7777777777777778,
              "#fb9f3a"
             ],
             [
              0.8888888888888888,
              "#fdca26"
             ],
             [
              1,
              "#f0f921"
             ]
            ],
            "type": "heatmap"
           }
          ],
          "histogram": [
           {
            "marker": {
             "pattern": {
              "fillmode": "overlay",
              "size": 10,
              "solidity": 0.2
             }
            },
            "type": "histogram"
           }
          ],
          "histogram2d": [
           {
            "colorbar": {
             "outlinewidth": 0,
             "ticks": ""
            },
            "colorscale": [
             [
              0,
              "#0d0887"
             ],
             [
              0.1111111111111111,
              "#46039f"
             ],
             [
              0.2222222222222222,
              "#7201a8"
             ],
             [
              0.3333333333333333,
              "#9c179e"
             ],
             [
              0.4444444444444444,
              "#bd3786"
             ],
             [
              0.5555555555555556,
              "#d8576b"
             ],
             [
              0.6666666666666666,
              "#ed7953"
             ],
             [
              0.7777777777777778,
              "#fb9f3a"
             ],
             [
              0.8888888888888888,
              "#fdca26"
             ],
             [
              1,
              "#f0f921"
             ]
            ],
            "type": "histogram2d"
           }
          ],
          "histogram2dcontour": [
           {
            "colorbar": {
             "outlinewidth": 0,
             "ticks": ""
            },
            "colorscale": [
             [
              0,
              "#0d0887"
             ],
             [
              0.1111111111111111,
              "#46039f"
             ],
             [
              0.2222222222222222,
              "#7201a8"
             ],
             [
              0.3333333333333333,
              "#9c179e"
             ],
             [
              0.4444444444444444,
              "#bd3786"
             ],
             [
              0.5555555555555556,
              "#d8576b"
             ],
             [
              0.6666666666666666,
              "#ed7953"
             ],
             [
              0.7777777777777778,
              "#fb9f3a"
             ],
             [
              0.8888888888888888,
              "#fdca26"
             ],
             [
              1,
              "#f0f921"
             ]
            ],
            "type": "histogram2dcontour"
           }
          ],
          "mesh3d": [
           {
            "colorbar": {
             "outlinewidth": 0,
             "ticks": ""
            },
            "type": "mesh3d"
           }
          ],
          "parcoords": [
           {
            "line": {
             "colorbar": {
              "outlinewidth": 0,
              "ticks": ""
             }
            },
            "type": "parcoords"
           }
          ],
          "pie": [
           {
            "automargin": true,
            "type": "pie"
           }
          ],
          "scatter": [
           {
            "fillpattern": {
             "fillmode": "overlay",
             "size": 10,
             "solidity": 0.2
            },
            "type": "scatter"
           }
          ],
          "scatter3d": [
           {
            "line": {
             "colorbar": {
              "outlinewidth": 0,
              "ticks": ""
             }
            },
            "marker": {
             "colorbar": {
              "outlinewidth": 0,
              "ticks": ""
             }
            },
            "type": "scatter3d"
           }
          ],
          "scattercarpet": [
           {
            "marker": {
             "colorbar": {
              "outlinewidth": 0,
              "ticks": ""
             }
            },
            "type": "scattercarpet"
           }
          ],
          "scattergeo": [
           {
            "marker": {
             "colorbar": {
              "outlinewidth": 0,
              "ticks": ""
             }
            },
            "type": "scattergeo"
           }
          ],
          "scattergl": [
           {
            "marker": {
             "colorbar": {
              "outlinewidth": 0,
              "ticks": ""
             }
            },
            "type": "scattergl"
           }
          ],
          "scattermap": [
           {
            "marker": {
             "colorbar": {
              "outlinewidth": 0,
              "ticks": ""
             }
            },
            "type": "scattermap"
           }
          ],
          "scattermapbox": [
           {
            "marker": {
             "colorbar": {
              "outlinewidth": 0,
              "ticks": ""
             }
            },
            "type": "scattermapbox"
           }
          ],
          "scatterpolar": [
           {
            "marker": {
             "colorbar": {
              "outlinewidth": 0,
              "ticks": ""
             }
            },
            "type": "scatterpolar"
           }
          ],
          "scatterpolargl": [
           {
            "marker": {
             "colorbar": {
              "outlinewidth": 0,
              "ticks": ""
             }
            },
            "type": "scatterpolargl"
           }
          ],
          "scatterternary": [
           {
            "marker": {
             "colorbar": {
              "outlinewidth": 0,
              "ticks": ""
             }
            },
            "type": "scatterternary"
           }
          ],
          "surface": [
           {
            "colorbar": {
             "outlinewidth": 0,
             "ticks": ""
            },
            "colorscale": [
             [
              0,
              "#0d0887"
             ],
             [
              0.1111111111111111,
              "#46039f"
             ],
             [
              0.2222222222222222,
              "#7201a8"
             ],
             [
              0.3333333333333333,
              "#9c179e"
             ],
             [
              0.4444444444444444,
              "#bd3786"
             ],
             [
              0.5555555555555556,
              "#d8576b"
             ],
             [
              0.6666666666666666,
              "#ed7953"
             ],
             [
              0.7777777777777778,
              "#fb9f3a"
             ],
             [
              0.8888888888888888,
              "#fdca26"
             ],
             [
              1,
              "#f0f921"
             ]
            ],
            "type": "surface"
           }
          ],
          "table": [
           {
            "cells": {
             "fill": {
              "color": "#EBF0F8"
             },
             "line": {
              "color": "white"
             }
            },
            "header": {
             "fill": {
              "color": "#C8D4E3"
             },
             "line": {
              "color": "white"
             }
            },
            "type": "table"
           }
          ]
         },
         "layout": {
          "annotationdefaults": {
           "arrowcolor": "#2a3f5f",
           "arrowhead": 0,
           "arrowwidth": 1
          },
          "autotypenumbers": "strict",
          "coloraxis": {
           "colorbar": {
            "outlinewidth": 0,
            "ticks": ""
           }
          },
          "colorscale": {
           "diverging": [
            [
             0,
             "#8e0152"
            ],
            [
             0.1,
             "#c51b7d"
            ],
            [
             0.2,
             "#de77ae"
            ],
            [
             0.3,
             "#f1b6da"
            ],
            [
             0.4,
             "#fde0ef"
            ],
            [
             0.5,
             "#f7f7f7"
            ],
            [
             0.6,
             "#e6f5d0"
            ],
            [
             0.7,
             "#b8e186"
            ],
            [
             0.8,
             "#7fbc41"
            ],
            [
             0.9,
             "#4d9221"
            ],
            [
             1,
             "#276419"
            ]
           ],
           "sequential": [
            [
             0,
             "#0d0887"
            ],
            [
             0.1111111111111111,
             "#46039f"
            ],
            [
             0.2222222222222222,
             "#7201a8"
            ],
            [
             0.3333333333333333,
             "#9c179e"
            ],
            [
             0.4444444444444444,
             "#bd3786"
            ],
            [
             0.5555555555555556,
             "#d8576b"
            ],
            [
             0.6666666666666666,
             "#ed7953"
            ],
            [
             0.7777777777777778,
             "#fb9f3a"
            ],
            [
             0.8888888888888888,
             "#fdca26"
            ],
            [
             1,
             "#f0f921"
            ]
           ],
           "sequentialminus": [
            [
             0,
             "#0d0887"
            ],
            [
             0.1111111111111111,
             "#46039f"
            ],
            [
             0.2222222222222222,
             "#7201a8"
            ],
            [
             0.3333333333333333,
             "#9c179e"
            ],
            [
             0.4444444444444444,
             "#bd3786"
            ],
            [
             0.5555555555555556,
             "#d8576b"
            ],
            [
             0.6666666666666666,
             "#ed7953"
            ],
            [
             0.7777777777777778,
             "#fb9f3a"
            ],
            [
             0.8888888888888888,
             "#fdca26"
            ],
            [
             1,
             "#f0f921"
            ]
           ]
          },
          "colorway": [
           "#636efa",
           "#EF553B",
           "#00cc96",
           "#ab63fa",
           "#FFA15A",
           "#19d3f3",
           "#FF6692",
           "#B6E880",
           "#FF97FF",
           "#FECB52"
          ],
          "font": {
           "color": "#2a3f5f"
          },
          "geo": {
           "bgcolor": "white",
           "lakecolor": "white",
           "landcolor": "#E5ECF6",
           "showlakes": true,
           "showland": true,
           "subunitcolor": "white"
          },
          "hoverlabel": {
           "align": "left"
          },
          "hovermode": "closest",
          "mapbox": {
           "style": "light"
          },
          "paper_bgcolor": "white",
          "plot_bgcolor": "#E5ECF6",
          "polar": {
           "angularaxis": {
            "gridcolor": "white",
            "linecolor": "white",
            "ticks": ""
           },
           "bgcolor": "#E5ECF6",
           "radialaxis": {
            "gridcolor": "white",
            "linecolor": "white",
            "ticks": ""
           }
          },
          "scene": {
           "xaxis": {
            "backgroundcolor": "#E5ECF6",
            "gridcolor": "white",
            "gridwidth": 2,
            "linecolor": "white",
            "showbackground": true,
            "ticks": "",
            "zerolinecolor": "white"
           },
           "yaxis": {
            "backgroundcolor": "#E5ECF6",
            "gridcolor": "white",
            "gridwidth": 2,
            "linecolor": "white",
            "showbackground": true,
            "ticks": "",
            "zerolinecolor": "white"
           },
           "zaxis": {
            "backgroundcolor": "#E5ECF6",
            "gridcolor": "white",
            "gridwidth": 2,
            "linecolor": "white",
            "showbackground": true,
            "ticks": "",
            "zerolinecolor": "white"
           }
          },
          "shapedefaults": {
           "line": {
            "color": "#2a3f5f"
           }
          },
          "ternary": {
           "aaxis": {
            "gridcolor": "white",
            "linecolor": "white",
            "ticks": ""
           },
           "baxis": {
            "gridcolor": "white",
            "linecolor": "white",
            "ticks": ""
           },
           "bgcolor": "#E5ECF6",
           "caxis": {
            "gridcolor": "white",
            "linecolor": "white",
            "ticks": ""
           }
          },
          "title": {
           "x": 0.05
          },
          "xaxis": {
           "automargin": true,
           "gridcolor": "white",
           "linecolor": "white",
           "ticks": "",
           "title": {
            "standoff": 15
           },
           "zerolinecolor": "white",
           "zerolinewidth": 2
          },
          "yaxis": {
           "automargin": true,
           "gridcolor": "white",
           "linecolor": "white",
           "ticks": "",
           "title": {
            "standoff": 15
           },
           "zerolinecolor": "white",
           "zerolinewidth": 2
          }
         }
        },
        "title": {
         "text": "Speed Distribution"
        },
        "xaxis": {
         "anchor": "y",
         "domain": [
          0,
          1
         ],
         "title": {
          "text": "Speed over Ground (knot)"
         }
        },
        "yaxis": {
         "anchor": "x",
         "domain": [
          0,
          1
         ],
         "title": {
          "text": "count"
         }
        }
       }
      }
     },
     "metadata": {},
     "output_type": "display_data"
    }
   ],
   "source": [
    "# speed distribution\n",
    "\n",
    "fig = px.histogram(\n",
    "    df, \n",
    "    x='Speed_Over_Ground_knots', \n",
    "    nbins=30,\n",
    "    title='Speed Distribution',\n",
    "    labels={'Speed_Over_Ground_knots': 'Speed over Ground (knot)'},\n",
    "    color_discrete_sequence=['skyblue']\n",
    ")   \n",
    "fig.show()"
   ]
  }
 ],
 "metadata": {
  "kernelspec": {
   "display_name": "base",
   "language": "python",
   "name": "python3"
  },
  "language_info": {
   "codemirror_mode": {
    "name": "ipython",
    "version": 3
   },
   "file_extension": ".py",
   "mimetype": "text/x-python",
   "name": "python",
   "nbconvert_exporter": "python",
   "pygments_lexer": "ipython3",
   "version": "3.12.9"
  }
 },
 "nbformat": 4,
 "nbformat_minor": 5
}
