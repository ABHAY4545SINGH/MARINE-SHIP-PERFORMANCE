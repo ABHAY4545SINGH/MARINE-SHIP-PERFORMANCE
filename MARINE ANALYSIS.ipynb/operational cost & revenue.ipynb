{
 "cells": [
  {
   "cell_type": "code",
   "execution_count": 1,
   "id": "da0a26f0",
   "metadata": {},
   "outputs": [],
   "source": [
    "!pip install nbformat>=4.2.0"
   ]
  },
  {
   "cell_type": "code",
   "execution_count": 2,
   "id": "c5cda7bb",
   "metadata": {},
   "outputs": [],
   "source": [
    "import pandas as pd\n",
    "import numpy as np\n",
    "import matplotlib.pyplot as plt\n",
    "import seaborn as sns\n",
    "import plotly.express as px\n"
   ]
  },
  {
   "cell_type": "code",
   "execution_count": 3,
   "id": "84ee2f66",
   "metadata": {},
   "outputs": [
    {
     "data": {
      "text/html": [
       "<div>\n",
       "<style scoped>\n",
       "    .dataframe tbody tr th:only-of-type {\n",
       "        vertical-align: middle;\n",
       "    }\n",
       "\n",
       "    .dataframe tbody tr th {\n",
       "        vertical-align: top;\n",
       "    }\n",
       "\n",
       "    .dataframe thead th {\n",
       "        text-align: right;\n",
       "    }\n",
       "</style>\n",
       "<table border=\"1\" class=\"dataframe\">\n",
       "  <thead>\n",
       "    <tr style=\"text-align: right;\">\n",
       "      <th></th>\n",
       "      <th>Date</th>\n",
       "      <th>Ship_Type</th>\n",
       "      <th>Route_Type</th>\n",
       "      <th>Engine_Type</th>\n",
       "      <th>Maintenance_Status</th>\n",
       "      <th>Speed_Over_Ground_knots</th>\n",
       "      <th>Engine_Power_kW</th>\n",
       "      <th>Distance_Traveled_nm</th>\n",
       "      <th>Draft_meters</th>\n",
       "      <th>Weather_Condition</th>\n",
       "      <th>Cargo_Weight_tons</th>\n",
       "      <th>Operational_Cost_USD</th>\n",
       "      <th>Revenue_per_Voyage_USD</th>\n",
       "      <th>Turnaround_Time_hours</th>\n",
       "      <th>Efficiency_nm_per_kWh</th>\n",
       "      <th>Seasonal_Impact_Score</th>\n",
       "      <th>Weekly_Voyage_Count</th>\n",
       "      <th>Average_Load_Percentage</th>\n",
       "    </tr>\n",
       "  </thead>\n",
       "  <tbody>\n",
       "    <tr>\n",
       "      <th>0</th>\n",
       "      <td>2023-06-04</td>\n",
       "      <td>Container Ship</td>\n",
       "      <td>NaN</td>\n",
       "      <td>Heavy Fuel Oil (HFO)</td>\n",
       "      <td>Critical</td>\n",
       "      <td>12.597558</td>\n",
       "      <td>2062.983982</td>\n",
       "      <td>1030.943616</td>\n",
       "      <td>14.132284</td>\n",
       "      <td>Moderate</td>\n",
       "      <td>1959.017882</td>\n",
       "      <td>483832.354540</td>\n",
       "      <td>292183.273104</td>\n",
       "      <td>25.867077</td>\n",
       "      <td>1.455179</td>\n",
       "      <td>1.415653</td>\n",
       "      <td>1</td>\n",
       "      <td>93.769249</td>\n",
       "    </tr>\n",
       "    <tr>\n",
       "      <th>1</th>\n",
       "      <td>2023-06-11</td>\n",
       "      <td>Fish Carrier</td>\n",
       "      <td>Short-haul</td>\n",
       "      <td>Steam Turbine</td>\n",
       "      <td>Good</td>\n",
       "      <td>10.387580</td>\n",
       "      <td>1796.057415</td>\n",
       "      <td>1060.486382</td>\n",
       "      <td>14.653083</td>\n",
       "      <td>Rough</td>\n",
       "      <td>162.394712</td>\n",
       "      <td>483388.000509</td>\n",
       "      <td>883765.787360</td>\n",
       "      <td>63.248196</td>\n",
       "      <td>0.290361</td>\n",
       "      <td>0.885648</td>\n",
       "      <td>6</td>\n",
       "      <td>93.895372</td>\n",
       "    </tr>\n",
       "    <tr>\n",
       "      <th>2</th>\n",
       "      <td>2023-06-18</td>\n",
       "      <td>Container Ship</td>\n",
       "      <td>Long-haul</td>\n",
       "      <td>Diesel</td>\n",
       "      <td>Fair</td>\n",
       "      <td>20.749747</td>\n",
       "      <td>1648.556685</td>\n",
       "      <td>658.874144</td>\n",
       "      <td>7.199261</td>\n",
       "      <td>Moderate</td>\n",
       "      <td>178.040917</td>\n",
       "      <td>448543.404044</td>\n",
       "      <td>394018.746904</td>\n",
       "      <td>49.418150</td>\n",
       "      <td>0.499595</td>\n",
       "      <td>1.405813</td>\n",
       "      <td>9</td>\n",
       "      <td>96.218244</td>\n",
       "    </tr>\n",
       "    <tr>\n",
       "      <th>3</th>\n",
       "      <td>2023-06-25</td>\n",
       "      <td>Bulk Carrier</td>\n",
       "      <td>Transoceanic</td>\n",
       "      <td>Steam Turbine</td>\n",
       "      <td>Fair</td>\n",
       "      <td>21.055102</td>\n",
       "      <td>915.261795</td>\n",
       "      <td>1126.822519</td>\n",
       "      <td>11.789063</td>\n",
       "      <td>Moderate</td>\n",
       "      <td>1737.385346</td>\n",
       "      <td>261349.605449</td>\n",
       "      <td>87551.375175</td>\n",
       "      <td>22.409110</td>\n",
       "      <td>0.702906</td>\n",
       "      <td>1.370704</td>\n",
       "      <td>1</td>\n",
       "      <td>66.193698</td>\n",
       "    </tr>\n",
       "    <tr>\n",
       "      <th>4</th>\n",
       "      <td>2023-07-02</td>\n",
       "      <td>Fish Carrier</td>\n",
       "      <td>Transoceanic</td>\n",
       "      <td>Diesel</td>\n",
       "      <td>Fair</td>\n",
       "      <td>13.742777</td>\n",
       "      <td>1089.721803</td>\n",
       "      <td>1445.281159</td>\n",
       "      <td>9.727833</td>\n",
       "      <td>Moderate</td>\n",
       "      <td>260.595103</td>\n",
       "      <td>287718.375160</td>\n",
       "      <td>676121.459632</td>\n",
       "      <td>64.158231</td>\n",
       "      <td>1.331343</td>\n",
       "      <td>0.583383</td>\n",
       "      <td>8</td>\n",
       "      <td>80.008581</td>\n",
       "    </tr>\n",
       "    <tr>\n",
       "      <th>...</th>\n",
       "      <td>...</td>\n",
       "      <td>...</td>\n",
       "      <td>...</td>\n",
       "      <td>...</td>\n",
       "      <td>...</td>\n",
       "      <td>...</td>\n",
       "      <td>...</td>\n",
       "      <td>...</td>\n",
       "      <td>...</td>\n",
       "      <td>...</td>\n",
       "      <td>...</td>\n",
       "      <td>...</td>\n",
       "      <td>...</td>\n",
       "      <td>...</td>\n",
       "      <td>...</td>\n",
       "      <td>...</td>\n",
       "      <td>...</td>\n",
       "      <td>...</td>\n",
       "    </tr>\n",
       "    <tr>\n",
       "      <th>2731</th>\n",
       "      <td>2024-06-02</td>\n",
       "      <td>Tanker</td>\n",
       "      <td>Short-haul</td>\n",
       "      <td>Heavy Fuel Oil (HFO)</td>\n",
       "      <td>Good</td>\n",
       "      <td>11.607997</td>\n",
       "      <td>2918.395972</td>\n",
       "      <td>239.990359</td>\n",
       "      <td>13.700906</td>\n",
       "      <td>Moderate</td>\n",
       "      <td>318.111891</td>\n",
       "      <td>237975.067292</td>\n",
       "      <td>731584.322921</td>\n",
       "      <td>47.152337</td>\n",
       "      <td>1.000265</td>\n",
       "      <td>1.284895</td>\n",
       "      <td>3</td>\n",
       "      <td>74.813114</td>\n",
       "    </tr>\n",
       "    <tr>\n",
       "      <th>2732</th>\n",
       "      <td>2024-06-09</td>\n",
       "      <td>Bulk Carrier</td>\n",
       "      <td>Short-haul</td>\n",
       "      <td>Heavy Fuel Oil (HFO)</td>\n",
       "      <td>Good</td>\n",
       "      <td>13.852798</td>\n",
       "      <td>2161.282358</td>\n",
       "      <td>831.355653</td>\n",
       "      <td>14.612775</td>\n",
       "      <td>NaN</td>\n",
       "      <td>218.309002</td>\n",
       "      <td>21029.021721</td>\n",
       "      <td>374365.370930</td>\n",
       "      <td>64.325916</td>\n",
       "      <td>0.653474</td>\n",
       "      <td>0.891085</td>\n",
       "      <td>2</td>\n",
       "      <td>84.595155</td>\n",
       "    </tr>\n",
       "    <tr>\n",
       "      <th>2733</th>\n",
       "      <td>2024-06-16</td>\n",
       "      <td>Container Ship</td>\n",
       "      <td>Short-haul</td>\n",
       "      <td>Steam Turbine</td>\n",
       "      <td>Critical</td>\n",
       "      <td>16.813713</td>\n",
       "      <td>1343.608006</td>\n",
       "      <td>1376.460622</td>\n",
       "      <td>9.306518</td>\n",
       "      <td>NaN</td>\n",
       "      <td>1630.646419</td>\n",
       "      <td>78883.312529</td>\n",
       "      <td>234120.365052</td>\n",
       "      <td>53.551090</td>\n",
       "      <td>0.594169</td>\n",
       "      <td>0.725404</td>\n",
       "      <td>6</td>\n",
       "      <td>80.975269</td>\n",
       "    </tr>\n",
       "    <tr>\n",
       "      <th>2734</th>\n",
       "      <td>2024-06-23</td>\n",
       "      <td>Tanker</td>\n",
       "      <td>Transoceanic</td>\n",
       "      <td>Heavy Fuel Oil (HFO)</td>\n",
       "      <td>Good</td>\n",
       "      <td>23.132643</td>\n",
       "      <td>2028.143572</td>\n",
       "      <td>619.236340</td>\n",
       "      <td>6.623856</td>\n",
       "      <td>Moderate</td>\n",
       "      <td>153.441965</td>\n",
       "      <td>25241.550250</td>\n",
       "      <td>799713.737211</td>\n",
       "      <td>14.335517</td>\n",
       "      <td>0.895670</td>\n",
       "      <td>0.902960</td>\n",
       "      <td>2</td>\n",
       "      <td>92.853622</td>\n",
       "    </tr>\n",
       "    <tr>\n",
       "      <th>2735</th>\n",
       "      <td>2024-06-30</td>\n",
       "      <td>Fish Carrier</td>\n",
       "      <td>Coastal</td>\n",
       "      <td>Steam Turbine</td>\n",
       "      <td>Fair</td>\n",
       "      <td>11.527987</td>\n",
       "      <td>2928.588108</td>\n",
       "      <td>1930.235779</td>\n",
       "      <td>14.187652</td>\n",
       "      <td>Moderate</td>\n",
       "      <td>712.997894</td>\n",
       "      <td>55163.241668</td>\n",
       "      <td>382208.021405</td>\n",
       "      <td>63.886256</td>\n",
       "      <td>0.825349</td>\n",
       "      <td>1.289204</td>\n",
       "      <td>2</td>\n",
       "      <td>66.190613</td>\n",
       "    </tr>\n",
       "  </tbody>\n",
       "</table>\n",
       "<p>2736 rows × 18 columns</p>\n",
       "</div>"
      ],
      "text/plain": [
       "            Date       Ship_Type    Route_Type           Engine_Type  \\\n",
       "0     2023-06-04  Container Ship           NaN  Heavy Fuel Oil (HFO)   \n",
       "1     2023-06-11    Fish Carrier    Short-haul         Steam Turbine   \n",
       "2     2023-06-18  Container Ship     Long-haul                Diesel   \n",
       "3     2023-06-25    Bulk Carrier  Transoceanic         Steam Turbine   \n",
       "4     2023-07-02    Fish Carrier  Transoceanic                Diesel   \n",
       "...          ...             ...           ...                   ...   \n",
       "2731  2024-06-02          Tanker    Short-haul  Heavy Fuel Oil (HFO)   \n",
       "2732  2024-06-09    Bulk Carrier    Short-haul  Heavy Fuel Oil (HFO)   \n",
       "2733  2024-06-16  Container Ship    Short-haul         Steam Turbine   \n",
       "2734  2024-06-23          Tanker  Transoceanic  Heavy Fuel Oil (HFO)   \n",
       "2735  2024-06-30    Fish Carrier       Coastal         Steam Turbine   \n",
       "\n",
       "     Maintenance_Status  Speed_Over_Ground_knots  Engine_Power_kW  \\\n",
       "0              Critical                12.597558      2062.983982   \n",
       "1                  Good                10.387580      1796.057415   \n",
       "2                  Fair                20.749747      1648.556685   \n",
       "3                  Fair                21.055102       915.261795   \n",
       "4                  Fair                13.742777      1089.721803   \n",
       "...                 ...                      ...              ...   \n",
       "2731               Good                11.607997      2918.395972   \n",
       "2732               Good                13.852798      2161.282358   \n",
       "2733           Critical                16.813713      1343.608006   \n",
       "2734               Good                23.132643      2028.143572   \n",
       "2735               Fair                11.527987      2928.588108   \n",
       "\n",
       "      Distance_Traveled_nm  Draft_meters Weather_Condition  Cargo_Weight_tons  \\\n",
       "0              1030.943616     14.132284          Moderate        1959.017882   \n",
       "1              1060.486382     14.653083             Rough         162.394712   \n",
       "2               658.874144      7.199261          Moderate         178.040917   \n",
       "3              1126.822519     11.789063          Moderate        1737.385346   \n",
       "4              1445.281159      9.727833          Moderate         260.595103   \n",
       "...                    ...           ...               ...                ...   \n",
       "2731            239.990359     13.700906          Moderate         318.111891   \n",
       "2732            831.355653     14.612775               NaN         218.309002   \n",
       "2733           1376.460622      9.306518               NaN        1630.646419   \n",
       "2734            619.236340      6.623856          Moderate         153.441965   \n",
       "2735           1930.235779     14.187652          Moderate         712.997894   \n",
       "\n",
       "      Operational_Cost_USD  Revenue_per_Voyage_USD  Turnaround_Time_hours  \\\n",
       "0            483832.354540           292183.273104              25.867077   \n",
       "1            483388.000509           883765.787360              63.248196   \n",
       "2            448543.404044           394018.746904              49.418150   \n",
       "3            261349.605449            87551.375175              22.409110   \n",
       "4            287718.375160           676121.459632              64.158231   \n",
       "...                    ...                     ...                    ...   \n",
       "2731         237975.067292           731584.322921              47.152337   \n",
       "2732          21029.021721           374365.370930              64.325916   \n",
       "2733          78883.312529           234120.365052              53.551090   \n",
       "2734          25241.550250           799713.737211              14.335517   \n",
       "2735          55163.241668           382208.021405              63.886256   \n",
       "\n",
       "      Efficiency_nm_per_kWh  Seasonal_Impact_Score  Weekly_Voyage_Count  \\\n",
       "0                  1.455179               1.415653                    1   \n",
       "1                  0.290361               0.885648                    6   \n",
       "2                  0.499595               1.405813                    9   \n",
       "3                  0.702906               1.370704                    1   \n",
       "4                  1.331343               0.583383                    8   \n",
       "...                     ...                    ...                  ...   \n",
       "2731               1.000265               1.284895                    3   \n",
       "2732               0.653474               0.891085                    2   \n",
       "2733               0.594169               0.725404                    6   \n",
       "2734               0.895670               0.902960                    2   \n",
       "2735               0.825349               1.289204                    2   \n",
       "\n",
       "      Average_Load_Percentage  \n",
       "0                   93.769249  \n",
       "1                   93.895372  \n",
       "2                   96.218244  \n",
       "3                   66.193698  \n",
       "4                   80.008581  \n",
       "...                       ...  \n",
       "2731                74.813114  \n",
       "2732                84.595155  \n",
       "2733                80.975269  \n",
       "2734                92.853622  \n",
       "2735                66.190613  \n",
       "\n",
       "[2736 rows x 18 columns]"
      ]
     },
     "execution_count": 3,
     "metadata": {},
     "output_type": "execute_result"
    }
   ],
   "source": [
    "df = pd.read_csv(\"Ship_Performance_Dataset.csv\")\n",
    "df "
   ]
  },
  {
   "cell_type": "code",
   "execution_count": 10,
   "id": "709f092d",
   "metadata": {},
   "outputs": [
    {
     "data": {
      "application/vnd.plotly.v1+json": {
       "config": {
        "plotlyServerURL": "https://plot.ly"
       },
       "data": [
        {
         "hovertemplate": "Operational_Cost_USD=%{marker.color}<br>Revenue_per_Voyage_USD=%{y}<extra></extra>",
         "legendgroup": "",
         "marker": {
          "color": {
           "bdata": "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",
           "dtype": "f8"
          },
          "coloraxis": "coloraxis",
          "symbol": "circle"
         },
         "mode": "markers",
         "name": "",
         "showlegend": false,
         "type": "scattergl",
         "x": {
          "bdata": "M5wMa+GHHUGOYIUA8IAdQW6nvZ19YBtB6cr11yznD0FPCCqAmY8RQakk8lzIhwZB0avWDUWEGkFbQ9RuckMVQamUaxReHxVB94qgrPFIAkGTnt1R1UISQX+e6QspaR1B/r82odpoHUHLrp5Lo0TnQAfZFrBfvxhBdpOoSHLuGUHsO8C4JocQQZayMeKcXg9ByOaB6gn6/ECF4gSr01gZQT1SPbvcBxdBIGUuT4D5GkF65D9yEw/NQCk7wbNdwxxBiDayUzJhFEFF9ClI680QQdQ3Shj+9ftAojyelRy0FUEqQzNVyTUYQeaUtajGEwtB6Iwe/U6xHEEt96LVAiYRQT6CtknhzvBAWJ6g6rEmEkH3TtQtOHLgQBbikG0Y2BJBSVHE/sxFFUG1tYJpR10NQYJikoNYSgBBheGyLq87EUFn9eqE+P7+QNW4YWOWAxNBD23IVwVE8UAb4IFv/AYRQeNGaPZoCR5BbfijrmFxGEFZIXfbO/UaQaxItGEMWgpBOrfKbgPmDkFbv1Yww7sBQXvQi/zZ0hdB8qjL0k4QAEG8LrhiAx4AQU7xhYLeKu1ANo6n/4tDAUH7LKmTsiEdQaJ1ss56uxlB8NubUKExE0Gpm79Y3kfxQNqdsrUGxeRAE2MRoaDbE0Gc1t3stVAPQeRgavNkzhdBDgoE0S2M7kB0c4RrmWgCQTreffD9wQtBMNqeAqjcBEHZjpgLAR4WQZo/6dUT4RhBp3APaYpG+kDLaOwSoBARQZgrUviDFhZBiNiq3TNdC0HOYDmrxkvoQIzpedTyyPZAyXFRmLsxBUE7/eDokUAJQdPgvx0TMw9BoeZk8W6xB0EOXx0vVM4UQWWcDHo77hJBohJ+4xzLGEH4jEypQl37QBzjn/KecudAfpzQieFEHUH5ko6Odi8SQX8DIcbE1wtBU1Xnb+tP/EAH0vY7mi0bQZYXTMBR/BBB41NqWfTo/kD/iFa8OskdQSZUP7n7exBBk2+3irk0GUFTi68PQfkaQUi0fTKjxxJBNprojhfe8UCzL+v630cRQYc7AlgAxvNASRL2IVAJ50Ddn3Ex3oIXQQFIchTULwNBfd6pGdAIE0GV+IkO/uIYQWz/jeIH0xBBHPfW7OgNGkFyYVmKJk4SQcNmc16KnBZBkBku0C3OD0FZHP1/shsIQV7oVHxo7wRBWPGNpdFFyECaLWkDIsINQTYjg2iXquhAukRpJW2QGEEuDMG4HrbxQMM432xduBBB6do2Be7FA0FqvL5aAkIAQV6nIQdjAglBtoR8sEsuBkHYCv/G1/0HQYJrGlpEQ/lAtQdko7wpE0FdHSOXeBzhQG24Gt8LxBpBrIqjxWgVGkEd28yLeI8XQaSsHqaZsgtB2l341OjHF0GTWusdUHESQQT8GI3/GAlB3ZrDBBXtGEGX7rawfUXiQDUNw8F82hpBtX4uW3qZCUG6L11gPX8KQUIHfkWt8AdBJnTFlwcoFEFPTvebxNkTQSqlaEfhP9hAxi9eII+DF0H8LWjNZbcLQZJBYes9COVATtvJ1WViGUEmfKGIZHMZQWUoGnilAANB/0UXehNrE0EHHRmc7DEcQVe2E59uDxZBUsCNn7QaEUFFa0KCGq/3QE7HfIKO/fRAISVbZXPNCUEDOyGbbKQUQbs5MGfXMRZB4uo+4rf8E0Efo0ojkmYYQW22ItQVkxJBHJNGqT6IBEEqBubDjkUcQZFmbIzUNM5AVkPv/FGfE0HBIKX1vFwcQbiVf2Lwh/tAv3tZUQ0pGEGwBMuVfioUQa+b17KNiAhBFtlQ92DOFUEXhv+I8bkbQWIUA7tOzRRBHuWTFCMrBUHvQCghCd8aQcCy/LZ8YxFBextk7TOTFUG6qCZC4iEDQToancKw6A9BUEOUpt7q1EBZVdmURJb1QBPOzZ1IVxZBt3zE64q8FkEMnwfcWZUJQdodMojtePhABfNZOjX3GUF1OKXPUEYWQdKiO13oo+ZA6yrSGPMq8UC1AzgWmqQMQXFCOg4G0RtBBGqAsE5bHUFME+7wAMYBQcVZJmkqexdBFENpVR8lHkHOaeL0C2AGQV2ZuuTdQA1BhzETRqDGHEFgqNRxTWITQXL/5TSL5xRBYJZ8DTw93EB04JQrOQwZQepRmWH64AZBes5MZiqwFEGjb14TBLgCQeJ39oMhbANB8QFF8W2vE0HSsHqE2ekBQfNX1JoBjhJBRnXGAuK1A0E5GBSNUhIEQXJd/mZ1ee1AsWzyx+3HGEElZBccORgRQZBrUDBYh+pACnle0ZAr/0AUFPdUJ27gQDNbAgrG5Q9B9ig2xkRh+kCYAboLyRIbQXSWmSBUttVACNYx4Y8YG0FZGbf9iL8DQRYcYZKlbvFA9Tm5MpXuGUFMMXkc+noLQUf4d4dsWRhB3jndsJRo5UDvTTVTKcsSQczKYwXq4wVBQNIh1Njg/kCLPFbTZvEIQfNO1c1VEv5AXUT3/XAvC0H4/DCMK6cGQUR4acv7Bx1BaYTXR0b1GEFFXaVxx9YWQdlZjg3Ug+9AstyE2wa6HEHIGRymEc0UQTVtBbX+OBhBU0mwTiCxG0FfeD3Ii2sWQRtDAGkKMxRBYbQrLUrn/EAIQnr/QVkcQWjrnZxz5RlBaf53Oin1GkHS0KKGYK0aQfF2hRrcrBdB0A2CdYwdFUFUyKEA1aoBQa5Kd1rW6BVBhERNedKvFUEkJ5fM/6MYQSkld0lWscxAO/cD0DehE0EG6S1oqHcWQTpL7uYL2wVBqr6TUqUiHEHO00gX2ZAPQaRdCDKfnxFB3qdMImNr2EDD6TaHsckcQVhsPNIk3MlAyhe4QeglEEHc0L4E0mEIQRjNllMS3BNBlW53lfxpGkGMM8budaUEQRhcU5pJoxNB45G7xtMTFEFWN3MNvCvzQGoosPXyghNB3Vr46W1eBUGS9ty57XgcQXoiX2QIIQBBYQiFVvrQF0FkqvZZT2IbQf4uCIeX8dNAUamWrAtf+UAN/lfbZAodQQZl8jc+HQ9BqK0XUt6BFUEQAQuJxh/gQK7vhDA6/OxAeG1/gEJf8kAQ+2n8itwKQdZE+TfdkfZAZyR0c5r2GkFL1C3SI6gBQUd4p+sgIR1BybVXAwPyGEGIFg0fpCAHQZSWKP2nMhZB93F+CqPZ9EBtVDakevwTQcMxGgflOx5BUBuyi1g24ECULrkCy5z1QGjBXg6Wj/JAKHWHuzupDkG8OKK1PoULQbQ8G6UBtxJBQfyIrD75EUHotkKnuyf+QN+g74zI7BNBPuqHWwDK9EBa6SNCHFfkQEk1VO/HwRlBLZ/UOoGx/0Dlh/icjZAZQfDE+Szo4RFBmU8HprsVAkHVIQb4Q+0SQTiRqSGQe/tAseQQPatFHUFEt8zxQRwZQWBOHL5+Jg9B7/VZ1rW+8kAHqKZIVJUAQYNT+2E51wtB7OJKn5eGF0G2CG01J7bDQNuYCddXhgdB+eHa5HeLBEEVQO79TYbnQFjad9CsLgZBYoiubJPgGUEuoHVZwq/9QJqA/bH/qRBB96Fo2zmJFkEkNn3g4ikYQdEfeKgvbQlBjTvjeC/GE0H9E2TOy6D5QAxIQM+zDARB5txEhjc89kCMizYWXPEAQUUKJ8926hJBcziiaEQlHUFJHVE0tZscQbSW60ePFRRBXMqQsQnyFkFJ4/3eiSINQbYG4vM+QAFBcRWgKFg39kDEIr1183sBQUWKTzyhxRlBsFBZKZL0EEFHfmkAhZLvQPx5jqc0zhdBnfA0/BAmCkG2V7Fvs90VQXIuUCoDhRtBvv0ttx0LFkFPCbexwMIZQfts34WdGBhByK/OroZ/EkHta1/+sZroQDoJW1vUwBBBuFZM/RIi5UAEGjiTr7cHQQj0znk2hhpB6frA95Q790Ddc7v1Gt/9QMYRnRdHXhpBYpp3DDMg+0C9XxqE40MZQfCitYqGYAVBZhnwtvEXCEFhzFtfRqsUQTIcoWmLKQ1BmulcWrqtEUE6WCRL2LgOQdqF7ULW3A1BJhQqSaP1+0CWy2CoseITQbiojnU57PZAKuVYCqiO5kBcqtEKAuAHQcvLhEG41gtBJ6EJNhAODUH+PUidp2sAQSi6BQwPBQhB0IA3+sZPD0Fci4oDaLLvQDyoidsZmPRAegZdM37++UCv7glufwf+QFEEM2U+0vRAOdHMP+Z4EUHVydG1bij7QPkxVnBKdAFBXhSJoJOSG0FpHDIHHikXQe9uApQO3hBBvKAslLuzHUEORm3dUaoVQVs8XfijSPhA1228YCHRGUFAW9By3W4YQcoAxKneZRBB4SwW/7aoDkHK64UvmNIbQa/Wak3pYRdBNZUUx/uKFkHmLzREEywRQVhX9DLyMNxA5M4tKjyMEEFpRwG9vusVQYvcmB5eShFBw0HUv0vmEEH4a9QS5WzHQKdvGm4AWBlBooHw0jOu4EANAcXANLP6QDQa1eHRzxFBLfDe3XH6GUHFcgxgwCkUQTlANDdjFxJBbh1e1S+vFUFilBchcWwZQQA8OLGkyw1BtE5WmH1JHEFcKOtoyUUYQbCpI46HMhFBCpDrm5QX/kAEaFU48NMZQXCYR5e1UxxBCMywvqPaEkGz6qukSW0eQSrbLXdkdxFB93KtAb53EUFEaduagvABQdvc0xZ5JBlBrAsIZyce4UBnCQpw8mMSQYZ/P1ZjMfZAVT7bv4baG0EeAc3Ni2n3QMVL63UZZRtBN+od/Xk8+0CWFlRuHVQUQVZRJwaUlA5B5D5pbQwRFUHwe3E6NFjzQJTe3cttyhxBmvcJ0BE34EAM5AlQ3fPzQC/fuqjQrQtBGJI/1ZXJ9EC1FfC8Gw4LQasBNPWcUPhAnT9WoM64GkFuiW7dFy8HQWa8N4INqxhBZkAyvf8IGUEB4Tk7B8QQQeDTPbPJeBxB53o6uWa6FEGyELF/lxkcQQLipjjTHPpAp1f0bqUE6kAHqc5Hz875QOHISAoqAA9BhcrzE5ueCEF32MkDVlYeQcHNYt4X+RZBPgNHlUYh70AzCS7Fc1MdQT85TLxNURtB0l5h7LJGBEH+Vv7Sho4VQWSHZKQeDxxBNzRKvaZ17EBp3a1110AeQUxod2vK8h1BeXCT/wQ9GkGL02N918wbQZOWWkToxRhBbxb8csxf5kAWSkFjjoURQaniMfpl8+9AHKS+5flN/EC8O8wHJ5/7QDpGaaA0QhlBR4ZsyftYDkGvrUI3TdIXQS9TruRSagxBHCNiNPH05EAz7VhGmUEbQbr73b3wshhBoETz1KS590D57YAs9qMbQd9mcX0PJBZBPmN12D7TCkGah7e6KxQZQdgorklTkANBgfkPITveD0FHPqXe7VXEQLR2LKx80fJAP1zweu5CE0EvLY47db0JQaLSNh+olANBwlnR/T3IHEHyvhldX1sRQRS/ulA/v/lA/seL9ZwqF0HMjHHGIRcLQWUefWNWQRtBVmuH8qqA+kD2VflGqR4QQbk38Lz8/A1B+O2U/GrEG0Ex1JM4+ugMQYdCgbTVqAFB00qlVp7lAkG/u7JBaqcYQTDmQPvsVw1BzCtj6xlKEUFKS0AxUCEQQQw36aFzIhFBMNjRgkR08EAozRD6sAsLQRatuEeLEBJBhfilMsiMAEGWIwzqmqXIQFde7yhlpAZB+XdsZEH5FUEViPYQKRodQd+5Ls7OXfRAl5ME+i1wx0DH56BG55MbQTQetIm4QB1BOneODAqT3UDwTPBK5isGQRGMHvyu1B1BpCr4TDMPGkGUw8oBbCT+QGk6ucQp8vhAz9tvp/FkHkHIEUER6l3wQHGbFU8RShFB8jk+99FcE0Ex7N0cRsELQSaEEZLYlNxAbF7TpiR6GkH1uKVitykRQSzvCF2/URZBw/32XLkjGkGG2dQVWp3kQPgwUKKfhgBBzRnIByUf5UCy1seuWBP5QDLhpGv9yQ1BHFwTD4ORHEHseFWMyYUYQcm5mhjtbxFBYi7tWMZjCUFy6KIC7+HlQNd1zxIFKhlBO2XrOcho8UDt3MB9kW8eQdde6Wl2DPdAID4TIGf9EEFnZGCzidgOQcHN7mFRExNBQUla8N/4HEF1JUBVoocPQXtfYAfs2uxAGe3eVAIW6EAdzrqhkO4UQRWp/A3qchNBLnvdMl3w90Atwp2Vrw0ZQYC2XVjAOxdBJ5MyPBrAFEGfdJ5ZvmweQRqoUKn5Dw1B4ijSocw4GkE62KXrm73sQInsHZ3pjvlAnekF44jUFUEFs/EOtMcUQVlq24UELBRB/0Qs/pY/HEEf6PFn2pb+QBRk67fWOPNAMF4VrMir0kDs+jujXB7/QH7BQK0KNNVAXSAb/dbrGUEiroRa02L9QL2TpZ8/DxlBqAVS929TFUGSbCkB5LUXQUIaBjqUOPRAzwRL7KzfFEFBrrQz5YodQUrK2Xc+S9RADBkqDDQpHUEj+l2FSmERQYRADJD83BlBvvepj5GIG0F7iXCh8c0VQY97rhnPCAZBt8e5ubTt7UCsSdo2m0P2QJvv0+M7kxFBcLRL5PoPD0GluJYHSRsaQX7F0jUN1vdAFgkMnSkbEEHrAqdl2tQaQYSmw2ElVRVBMqKC6qWQC0E89v6NP1r1QOAV8+rJOBlBOwL+++ZICEGr2V38jJIRQRZDjCLHQBxBVm+VmqZVF0Gct63iExgYQbsdNHeWRx5BFiPHBkzrCEFC+hDraMjfQPQtPiX/lRBBRK/Df70mF0Ff7TFtgg8EQR/fJxvUCvpAnu/TeYfOGEEL8quEGBkBQbQ4E+LGrQpBoIKPl3ld/EC2tfl+XI8SQTpxQDfFTAdBp2SmcYCOHUH/tHecbLYaQf0Oyz6iqR1BvIDK+Bk5EEEK1NGvEEYQQX+uc2xJ7Q5BkdXyRc5U40CbgI5Huh4QQQmeacM2ARRBlvQjaZwwAUGArj29YLf+QAQJhuApVRxBJKV4NitvCUHPlpxxQEYVQSsjIhzcJQVBriccUMQQGUG8Y4FmTVEdQZb0WZ71mRhB3nbn2DnwG0GmsCBmDcbVQP/wyTUGfRZBLC/KQucZBEFg7c3OXGIFQboYAT3+ZwZBWga/n+v0FkHI7/EfSUP6QG3kWwjUOBpBgo6Gth399EDOjVCgzeQRQVUeO9mtrBlBoJJm5lfHG0EMaZlbma/1QJCvCambZBhBy4w81t2FF0GVcsk/Fqf+QBe5FaSxXgtBrSGfO40LGUGzPVsqMeb6QAlRv5K30x1BZodkkYDoAUEmOTjobKkOQQq8Twn9Gf9Ahlsaw63JC0GX0pxkhcv5QBI63D1S4vNAgYsITzO6GEFGgivUhvsGQSUIE5Cx9hdB4IG/dOTOFEHapBR/U1McQU0ebBrEk9dA5pz4oMuUDkGI9xhMw3DiQE4JWB5qGQVBiiPlRTkpBEGBAttSYbnhQKZVwu0XmxBBpPxzHsIhBkFpPr7MfK8HQZhZbmmuThFB2NeqgebP5EAyQRu2JuLmQCbl/SeMUhRBawOQPjLsEUEAO0S40iEXQVycPsLuVxRBHcHvWA82AUFCgNsKrNYUQYMUV8x5zRlBWbDGOuLF1kA9ia4Wap/0QOepR0x7pwRBAZatQk26EkEOB2aiF/XyQAWxjrCTfudAQNmkRkhDBkHWswH45+YMQUwYL9OPvRtBfYJ/N9cTBUGR7DVlO8cZQQ8YmVp90hdBV6/j2UVGCEGaSnw5O/AKQUJbystkrBJB7wmfn6s5DkFyZKU26XP0QDfFgiNvpxRBsgxXyHI6AEFf0LLg37cRQcDGv04AcgBBFTiAkhO29EAiQcAA48URQaK5aip7CwNBUaXtm8W4HUEUVYE5ifUFQbqU0jodsBdB1J2aAAs2/UAHLGqRk9n9QONDtAKjqQFBUAGmyGwOEkFSG9VM2vMUQU/x1Uf4zhxBf3PE3FTP5UAoE42NkZkQQV965MnXtxVBzTOOEne/GkGwVuQUX/QYQTKxCl9RluhAho2JIERaFkHjUSfuTtcCQfjpkdegtxtBfQsFvwU8CkFJoZqqNJQBQU1otNn+ih1BE0VLQ9ubx0Cz1bpIC8kOQSkt3hUpmN5AwO4MvNLmF0Fcdrg+YngeQZ+habyM8/NAKrSBsyrWC0EhCKKLliYIQUdWP5GkqQZBPNPTCuwa+EDy6u992hsdQXc1Q3crPBFBPZfmy/4RAkFVXVw8/x4JQZS1F3xmCfRAblT+OVMQCEHyNlwKwMIQQQHC2ui4svJAzAcmxQfPFEGfRxMWkJMSQYjOs0fwI9JATI+5CcvrFUHAtDxzJqoWQdd7w8KXNApBr/6sDIRqCUHlHy7AN+gLQQPBflFBKR5BYX7jfimhEUFPbGFCvPsbQcp0YC+oXQVBC+NnZgkbEkEi9DTFmQ0MQdwKc32UEQJBCAr3wwxa80DEVkmlsrYIQQkXQui9dv1AGzzKDT46AUHjGA98iTL6QDswWPZb9wRBNNoOgudAHUFCwfGeY2UHQXaCzzNq0vRA8hRvGsZuCUHH4iQSj9QJQfEbH/rlKhFBHPS6TLE/GEFeSlp0Sm4eQSSyvoUt3tpAjXNLpp5D+EDUwdah+Y4MQdvQSWmkRhNBucO735LXC0GeAkcUo6oTQYG6KvShnBpBdcqpIqW0F0FDEX/6mvYYQdLyUv7VbxFBolF4Wh/5AEHL4GAqUs3fQCA6SuK7CPdA3oNGb+pFE0E9BaYOz2IRQWB7tBp2ChRBlHxXOlf1HEGbj1xV6voJQWas5k9+chdBIWSMgEerEEHvrHlzWbAaQXgltWUZNRZBAotCwqOJCUGM/oKQRYgYQXyLcm72lvBANe+u0I2PG0Ep46iifN8QQdMgKRAl7AFBDE/DKIAEEEGnX/wWlx0DQfaWVsFYTwNB5+wdVh8rCkFW4s3VvLUUQY0Z2+0Fg/VAWYuiz1FM9kBXo6PBQAUTQX/9njE73RBBSimoN2bPFEGCMZWy/l4UQScrEdefZ8pAU9tAybOCBEFyXqyXl2MYQU1bFllZag9BIEWxDjlPGUHD2YMAfL/eQJAR18hPxP9AT4lB17yw8kC4A+mxFLjsQEXvNJpPnhJB7BMIe5TP80BLWAo39PoNQfES8Qneqg1BpNVmr+uZHUHuw2lY/dAZQRvpY+JH2gtBpAWaRUaiykBDeyK6rE8VQeLFat+BGtFAdYZs8Qhi90ClZGUFkkcSQaGjADw/jAlBG76kk86r5kAm8ayF7g4YQVrLPbBoBRdB490OsEAfxUAJaO6vuXAaQXKx4+92fhlBWno6xH2y8UCaGaqWuEQcQSMfnGF6IdtA5bB4P/dX7kAGR0Q4EPgFQdeV/QSAnhJBa5i1cR/a4kAMxA64fHwYQTwNGKsed+RALLXebCjL/EBkq+LqwmgcQUNkq/KaHB1Bax7TSK3P10CcTOriweIAQUdCL2Rv8xFBfsziO4gB/kCXBNb84ZEXQXpOmiH1yexASvLVQYVsG0EpQVew4zUaQQ1GhL1QUwhBgvagJt9tAUEzzyCbKzzxQHrFAwaEzQNB7hA1eN6vE0HY9owdd1waQXmsQ7nPcRRBEeuk91FzHUG9T2FRzt4UQetIGrt25gNBSib32IQ380AAyS5PNsIJQa25duv1jRJBrtJG2mj+1kDLGoJSpyUNQed1YG210v5ARa3247Xz+UDaiDfpX44dQbf/zB96QR5BnmKcbcUyEUHyPkb51OEVQaa5K5Mvaf1A836JTt63BkGlAXZJKyENQdYNe5J6a9NAHkMvkIMWB0HqIlwJ2DUZQUJTnehw9hdBubNucMksGkGJ9MTpw0wWQd5iWoHb0AJBTPJfaqwOEEGkf/i+VFfaQInPdX22fA9B40oAujiE5kBd6dxgsRn4QBT/d76d8g1B2HA53DjGBUHUok5o2AAIQXrCdLw9Jg5B0T+oWRM6C0EUixDvtoESQeni+17lAvBAUxlQ+0qqGUFuQaJqdeDYQGOfmMUdVAhBTtOFhqWSEUHXa/ybpiIbQeOMUNPNwwxBv6rkXFgmBkFFKJ0Et0sKQQd2sy+mVQRBvFLcibfBDEFxRxr2J3oJQTzViz+cJwJBpZfpTS9890ANbT6hy935QE99WDdlexhBE9KmbQpsF0Gok4KrZfD+QGMRGocRcvtAj5H6zQIuHUHu0GTCNNT5QMtwWq+XtA9BPXpvR740GEEt2axN51obQaPzpLQSehlB33sT9YyKBkFb50Ztbj8YQYyYrvqb7A9B/cWBZ2OuCkH346BsvAgBQc2DfnGxTe9Aak+44b+KE0G7bdoIrC4SQV6bl+QtkRVBugano0ujGkHl41YmEgMNQbiLe5yPmdNAO7N3AkeTHEEfU+mu45TmQCuE9giu7htB1Ahlz35NF0E0jQ7WChzNQNDDRZqilBZBEKjDgC3LDkFQzLotY/sYQXK9bmYfwQ1Bg+YoNdcNEkHYqu5Q7xUdQRKxWMQKWxBBFtN2PAulDkGZwdsGtfwEQW0C1Zegb/BANsQQCRX/ykATeXd2adoXQZ8qm2rjRQdBgljW35SkHEGUxxx/wLLlQCmka3PANRJBrMp7OTPHHUHGDi7OwHYGQV4YPmRk1tpAWihxVHb9HEHz56dpBkr4QIekCyOjGQNB2v4bQlsJCEFsXpLaQQYVQT72HxokkxFBVVgM0txNEEHPflY5F4gSQSahwVvqwxRBmwBJdZiuHEEHmIyfAK0OQa49nKdltAdB1PGZ1oYc90BkY7tAG4T6QFUigkUKkRRBnNLnCRqNAUEXt1d3I48QQc/KXKcWaARBpFUwhKwvFEGAPmJI/0IcQahzOM1qmuVAUurXWU2P+kC2YJN2PDcRQcxQ0rlbah5BFJKpYnbRD0GqoXflZ+4DQUpQFAq4HNNAHn/wYY5F9ECt1ZB5rNvlQDl7rAY+MhtBDiDruYQ0+kBwWrJRSXUHQUgEAI+bdAJBbqoCCcOv6EAad/GGNRgeQXPnMUxkaxNB7UGyCC/n70DFFbXMwjoXQVGjfWT9nwVBBbKMB00pA0EBOBsxY4rlQGiLUReLT/dAJxdNZ9IxF0EsakhNMmEdQX5wk+9r7gNBG0ylZffxBkH3dLJ4W4AeQRZGw5v62QFB3O15XKgA80AyO+MlcpYCQaCOUsVEBwJB6FRoUuwrGEE6EPMuKlAGQc2epXnQ6RxB8IFOWB+5EkH6X9lSmSDiQMdc1UKqwwlBLaHVCk7zEUE2sF/9bKH5QDvl5XbznflAk17+dW5yG0GCQ1TjvhUWQVVVMlv3mRtBc8UWomAmGEE0qNkX+zweQYeRoABDMwNBbab8/kq1GkFz9hfDJ+IQQS1yCLa9RQ9BODDbL4bgHEEHjIIEj0kIQXotL/9wDhpBJ1vBhosb+kCXFkkH3v4WQTgz4kl+luNAJkkeKKKlAEGEwQz118oAQaheLTu2GBhBI0Oqmc/8+UAhBDgemiUBQTAZIHlIMxJBNgWbyA7yF0Exsq0dJHgGQX/UIiJKBhRB7tHp5eWn6EAiK7nigkYaQVxWJhSHNhZBFjFkA4359UDhai4wbi0TQS2DxvoKRBNBUnX/pwTGDUEaNAWqTssHQdMVilODMBlBKXXJSoL1+kCrVRzVDQcTQTi476V0fPBAIoA6V+AAGEFiWBOgE/oaQXfwp67RS/9AWO4qd27OE0GjD5DJXI76QN7hAzpDXcpAZ9mHjWWTF0H/geDsOFELQVWo50em3BRB7vw+Ehy7HEHpiSy8CHgDQWTaxFRVNRJBES1N6qLt+0BXPLuri1wVQdIJU6EG7QVBLXevaeLl/kCaSdgFSOwRQYYcs5j+mhlBw1VhbwcXFUGmLNDyyDkXQX4lE6sTD/lAAmvb4qP2FEEcPLzA1moEQb0WiRkkQ/9Ao47pyz3jA0FQv+rM2p3pQJA60PJrgR1B/Z28y+10CkGn83ZxNpAaQdkOfW3qYRJBLrCgSzMN/UBkksi8Ry0UQU/SLw4WCRxBq5SK69/fFEF4ZQo/uMoXQQo9dJi5CRJBsQEdoRHG5UAkfjcBfpIXQR9FdSPvrR1BdOHckxv8DEEnOfBc0an5QPwVQi+CCABB/MrNtwA4xkBPJQDUpaEPQcA8hFWN5ghBkqEHFAf6BEFMyJI+3dwQQTqFgnXGZR1BJ0eAviKYCkFAEz0ypVsUQf4ZNAj6BQdB9HOhpB928EAQ93GjvLIPQT5vfBnu9BFB0sxXlY9A70BZiuyQnqgZQTMtnXHX6hFBBkNue0JFAUFsOaCHi4YZQeLfgJUwLAxBLk2IP5j7/0Cc23gC0YIGQW9Fh0F42BtBTwi9+Ex3DUEdO+jGF6sSQe1vuM6qi/xAOmsEqWz8HEE666xNSqMZQQ29EWaySwFBC+4Qb2EyGEFFQZuEoo0BQfTxNoCTJPlA/JuaOhIhEEFbqtsNrpMTQb622eJL8QdBWDsV/F3YE0FgkGo4fJMSQWMd23tjyRRBiasqxJZ+G0Erd6EM+IcaQWbalze+2+NAH+rftmTRxUDZXQKtgwMcQUELWSFunOFAroPefoK0D0G2mE0IBdQCQSFfBcsXAhVBxkUvBKtzFEEUimxRHtIcQd+a4BaPsxFBrrI/Zgr7FkFV9eGey5oQQUeQGX3OyBFBaZwHLSpkGUF1QVaMsrAXQW91VIAXExVBljpbMhWvFUEs1dprJaLrQNnYJEcWUAJBldNGCPa2GUFITQCu39MWQVuC9p783RhBlR3r77CA6UCWgpbB7MAHQRXocLaXshhBofGGwe/p8kDd9xK8NbAVQQFeml5jDhBBCTdPJNpCBUH440mih0XiQNPyfWXpjBtB6vKk1Klt9UCnJ0QcK+EWQf4LBNre/vBAubppP6ejC0FW/mmdjvf0QJXt84oRMhRBryni+OXR/EAgooB9ETYbQZoTgBb9LfRAbLaUeNjdAkHBbALqzN0YQSnmr5vAcBtBb2nnf7AN90CG8q0zcxEGQZscQY0dKw5BaAr8P5GF9UCjV68FiIwWQb2dR7GfcgdBFwmuUg02AkFNmgyjyrUbQRJZqqboU9dARD5fRbCwGEHqIdyXVnYcQehWkenVhQtBaPYxR6dnE0GDvHNE8NYFQUoqILRHThNBQGZf1kROBkESXKyawCvsQDyPmUhskA9BSV8gBjWsFEEgupAvoUYLQTg7mLmR0xVBV0xuZtrSCUEGPniZ2OsVQVoxlnCI1BtBXZQSGo85+EBrAVjfWk8TQcqNWzKubRxBxMcABpPYEkG7rfVMZ+8cQRQ0cTAi3gRBHH86hr7gF0EHL87ViWIOQcGsWLuS3BFBVLaBnkyC8kCA5sC3RHkHQaTUaxy/nwNBQYE0BvasDEF/osvByvftQIWNlJqknhBBr/ZlRS+BGkFProIqFGUUQfyTdc0m3RRB++rBUMGQD0GH+x8eTw0VQTdR96teABZBmpZyMzFCF0GLrCuFIKQHQYUHdOYrAxBB9D/KOca/5kD/2yHMrJIcQfbocN5jtxJBhvVwdip4FUFPTm9HeIIdQVgDFfATcA5BS4kSoClsF0E0pTZeEoLPQELJg4QT3xZBbUa3aoZVBkEG22mbP0jfQKc3WlkauBxBZPNjNA2kDEFF67YU1wcTQa7O3lBRC+ZAq6FYqONvEUF6+9y0luD8QA7g45YYIwNBlTvz4/hoFEEGArFO0SgTQQyiU4/4DBlBKtEplpNhG0EMdr0mYezzQCiJMw+ERPJACV5zVM5fEUEJOvtnThsEQbKVey2xvOBADdWF02pxGUH+JKnOf8kFQTn5mdDI9hRBzggs1WQZBkFFMSIkB83zQN5y89YMJQ9BmAiLJQjeBUHP57dtVVodQbvrMwRSZAdBv8d0akzEAUHyQwgiq5MKQUw37OxohhhBcmuc9+rY/EC+VjXFv9QTQerK/1tTDR1BwCgAt/JRHUESObYX+Pf/QB630wvQ/RNBhiLs8/LKFEGeeSFtYGcHQYmh9DImZRlBrEoDreI8CEGgEQQDsCQXQVtwCqDeBvxAiQgrYSYB5UCulklCT48bQez2pka4uMNAkDUqlCmRDEHCILHDKCIFQUBlGiscNxxBKrrGhvL8EkFFuPLBPssaQeeB1/0LUOtAelYr4AoxEEGNnXsgbCADQQCUdHZdLRBBkDl6/enb7kDRWtuNt8YHQbTmkzBY7BlBaFzQHBMAGkFT+ktjQ90dQWZUx1ybpRpBbJFIPqpQBUF5kiGslo8JQdS6MB86/xlBz3D+mLlGBkFfimTl10AFQTFGxIsvcOdAJz2B720CEUFIb7V0JXXsQEHJDDIyRu1AOn90/izFFkGYNeApY1AcQVklujkrYxRBV3mdB9IU00DQEfR9XJEGQeq3n07ym/5A7x7kEJluFUG2LOUEXlH/QHWBMskJFRtB7WN8Vhf590DiChI7uZXuQBoqvo0P5/ZA/S5byYZf/kBkSxy6RQUFQclDZiCrfghB5yYJplPHCUF0H02Lv98XQcYeBjBjxhZBizkQDCceDkExLB6cGo8TQSeJziWBWPhAM0Lj3ShiF0FzI58iBW8QQaKtr+8CtRZB9K9OWknr+UBZskVwOU4dQc82Fejf0fVAPLXE5pejEUG9pn2UDNMXQf1c5ukzehVBX/+WiktzA0EFjR0+z9QZQXP0K2xkv/RA/ZOGOLozBUEIGT7q5gIXQV6Ql1fVABpBJKwgNr6rE0HmpeuVkAYAQV9wiwZC2PNAvrH1LF7hBkFs43DWj30QQX4vMHNyCxNBiMX0Veqv3UB01Um4rw/4QLqulRz1tP1ARmSsn/t/HkEIpMn2lV8KQcsKwmIb/hNBsQj2d7fTF0Eq7vxYA7EAQXZsa97BjghBMtghp0lNAEEJyTxVTe4KQWO7GdJRN/ZAak5xXjp4EUEy1zhfOqoXQSCOFpsYBhRB/m83civSCUEthC4rXpsGQTxa0OzyawxBlFdkUGVzAEFL4qU+e6AYQTUpIVsl4vhAFYtAHW1uGEErStWBNxMBQVBX6C8IyvZAmX9UtZNPEkFe/7Eiub4bQV1lxPEExQxBMZC3v/5wAEGvyDOUyGP0QHQyAxocBxBBt2wdbgZxFEEN3WQFnt0aQUvEtmBHT/RAv8eGIs9s+0BPEPyztZf9QB6X6fmVKfhA7hGrUai6GEHkNfwHkbgVQS0N69nP4hlBTOiXxZePF0EtxaOYR4oPQQ21blHq2Q9BtMvHXewr8EDWFbfpWU0cQZgcGxVBaRJBApo8BCT5AUF7mNCpJKwPQbM7ycnnKPZAlPZKuptjB0FS+k7oHyEQQeFvSf767BhBZm/cZzcU8EAmqoJWibMRQU6cq9H2eg5B7ebW2auQ9UAmhHlPUHgLQbJndDjAtRBBPChYaHRx/0CieXcpwnrkQHXk4CHvvgtB+gACL+oTFUGXrbNKwHUPQUzq7CxGBgxBLA+uMXcTEUHuyNcyjTUVQTSGAShppRZB3FzuyYEU+EDcg1/9tJsSQSsjqtelQhFByJ0XG+cWAEG5ZXD4ttoWQf9POrAdJBxBohBahXWYCUHEOY+ojn/nQGvq2MVVYRZBZFU0e5vXF0GCabRIRXPYQGyi3h9s7g1B9ML0Jut/FUEBOHA6NA3tQGNkPrEDHPRAhy3Odj8QHEHPxTV5hpLhQEh0RRlG0AlBxy9bjBOKE0Fj7hHuTnsTQT7u+pxml/pAS79cWIgT5UBpbrulp6kFQdJHIOn4n/NAQ46/MwVIDUGc3ucMXyINQZCKvorCTRBBPQc3I2+vFUFfO+ZaXlMXQWdWeKd17BNB0q7jtoCj6UD8VF6XgVThQOMBz5f7ORNBNyd2q2E3F0G832SlfDkAQRECB8jlZhhBCkuV0LiyG0Er3OKPOQb2QCVu782trw5BGClTvq17EkFmOZx4DtgBQR6VEBNtJBNBkj7u8DE1CEHcLAe2lHfiQO4tar/IvQtBN3pI4hADDUEDqmdvKyISQSbVKuANQAFBC15VGrT/GUFd3e89B9jyQO0ED5MMLfdAoSAf5dZIFkF/0tQox9IQQUsRmoe+XhZBCODen8lWCUGNA+c9fef6QAY+ZHKir9RAFzibOwxjHEFyKJIw5m8dQUyKrpG/txZBKXar98qqBEGxJdGIxnvyQFUT8yFS7dlAzulysa9aEEGRvToq8mYZQVOjzY9JzP1ADUIL5ISOCUEPrUyAteQXQa2Vs3iO6RRBAdROnqd8GUECJfb9ESoUQZET6olCshdBdvCNtffgA0FiN1qu7wMbQQ3ArD/T9xBBHVKfpVXNGkGlwKFbbLQcQSi66rSWGvtAzydPaEQmGkFWyCYO4I8KQVtEk221rRlBw8KJuK+m+0C6tMKJ2lkcQfwyzxZGIgBBr/8YBPrHG0El3R+bR7IUQRaTVSwhefRA9SA/hKugzkCU4984vqUUQRx7770hig1BG4cS6NW4GUGSpsgdwDkTQUcBY1wlOhxBmL2W/CjPBUGoKI11HeLPQEYv/fcDKsVAntrXIxLODUHxxDrI5lQYQamouPsqFA9BpyLtnyTf+UDSG5Ocg4wUQRKpC8Z7AxBB2Ttkr9sxEEG7sooNjQMeQZF68XghFhBBTeP+F1TZHUF2vltLEKIcQbf5vRQVKxlBivfw/SO58UA7d8eUty8OQbRSg3JlwwxB31iKKAVrG0GGZEf54g4ZQZwpuNaQOBtB6/2R991QEUGW48gnexcLQaCdyvfQ+Q9BAp1in4aX6EC+bVOG3IkGQVrgFCdAgxFB3IinXd+sG0G95R0KN5gYQSRg3/8jLQdBfBuPvmJ61EDJ7RCGiH0TQVLcMUgmjRlB9GSOrVNTAEHTmAwUl3ARQayAepFtRhJBsYFPsde+60BEhXu3Z2vyQMTVaGabPhlBXEAouuFLGEHWERoOjPj6QI0ICCfM4RpBO7aqwbe85UApDT2pm4sdQYZARzAY/BpBV5rAIn7x+0CessTqoiIAQam1gB9Baw1B90x+z76AF0FI1bsDTfMWQdaeS3OJaORADRwMYmwh90DGaPo10rALQT2aH4ixhRtBBKytjD/W9kCePxJnGaEcQTEDUeFuvxNBQsxTF+Pv8UCfc6eIGOgNQZGFb21+JehAkaMrP2peGkELlZZMV58cQQdtScqPWtRAGlIKqIrDFkGnXUXcTrjcQK6+4KKCMwxBSCbGpExo/UBsXJBN5oL9QMUrIvLVXxxBTvjEBesT80C/DobH9kMRQTu31hWJ9+hAx0LH1D98CkFdjFMIL7kbQZ5VZHuHWgNBrPslowLoHEHEWGXYxyroQNAP203E5xtB6dLVVI0eG0GhY/95T2bHQNCdBz25BhZBz1iu1fghGkFhPu4a6foPQZz4ihlCwRRB6ll502Wo/kBTSz6VyMQZQcIiKyqtbRJBR30ByCPGA0HTWCDk+2nnQPNT3jlO6g5BOLuOGrAT5EBPanTGYjAYQaxn19G2YRRBHvcWHT/i6UCKrjqHs/bnQFuSoBY2kBdBkGBLz+FPFUHll4OybUQPQVrHOI8VrQxBhcZdHTiVCUF8tPC8khTeQGhTJ9vRVB5BTQrcN/OnDEH72BhXIsD2QLYAfA89kQdBYccQBle3AkFo4jhFuowJQSNQCwI2ORpBSas/kqaIDEGY1sM8028OQajSwottOuJAF4Kw0giVB0FbkAxC27TYQFqidJtBe+RA6bcLnT7QCkHTa7j3zKz3QOTgy0hSbxBB4AcQ4ZhQFUGNUrhC2AYdQfhjhsJiFhFBSkMEanqa9EAfBLPJ9uTSQINkoMlKRgFBjw4+jIfND0F+LKskjNEJQYSOkJUmyBtBqEBb59bkCEEWq3GDYIkOQQUUBAKEexRB5aE+1UWv/kAfP582HeEVQVqVvQoeVeFAmx22vWW3HUG7xv1TJjj5QAj4Mj4vkA9B+jFIrTsXEEHF0cz0U9IKQehDp42o2BZB/4atiMB/GUH+M8vL4gALQQRLMWzx9BtBew/GVW25AkGtAiPOaFkYQXurNyWYjBlBcHwJMvCZAkHhTopDIAHwQF/XYdtyFf9AT2ckbHMKEUGlwVnALMzdQCpd6r5WCgBBik+Voc43HkGur5Fv+7EVQeziFUdflPNAbiLFLXv07UBzkvUi4+8VQdCjs/Q+g/JAz8fGJX3bA0FGKoDKOuASQZqECpHsQwtB7iARQKhSEUGTiYvIX1cRQZfZ19sV2QNBxm9/7kLSHEGhkTFs1e7kQLZdnZGCOBpBXlsaOZOXAEGukQr3krQbQe9bAErUHxhBrEVwJ2vPG0GUZixsDUYZQeLWdNLm/BdBvZH1QzPPE0EYbQ7Ife4YQSN7FnId6wNBlHABi4nfAkH/TMrrfPgcQQf6zkHXbeVAuXCYvR5/70ALp53Vmo4YQbB9GffCQxBBySa1PPfIEEFHx7H31NvqQOJqG39DGgFBr7riZTWpFUH9lvz4KGkAQTQlmrDPx+NA5AkMnb0aGUFS8V4s6eAdQcUPN/as6RlBTtwFtTSJF0FU1zYuC0sMQfMVsID1SQlBgP19aMkz9EDZrQJ7BwYNQSpQJo9e6QZBeGaFzcRGEkGou4+q21kZQeyUH9kQxP5Aex1qYCAGHUGgYPv6Lr8OQUweAHQAQgVBQsK9jXWnF0Fa2FLvZZwGQTiRFaxe3xxBGir7cdrO4EDoJxfYE98QQZczH1nZVwpBQDo9hRHtGEECHvYtsuEXQcbVJdTANhZBPI59DDh2HEFNN+oVMc8KQUukVvJHmxpBvSwp4mLLF0EPXXnwZZkaQcRCBdYOrRFBtt7uEE7GyED68mqmj1j0QIIcmLBlhv5AKrDZBio6C0HYNAlXB/MRQU/Wsa0h3B1B7ZLCLZbYGEFnkt8oPz0FQd65VdL0chpBvMXWDSh5/UCoeH6rmT74QOYXulO4iglBhX+b39De9UBA4ix3kCgCQUmKmZHZshdB8wlYHeCL7UAhuEQYG9ztQCNKWjUUvstA3tfUh6qR1kCMEZnN99cQQchUphuJfv5ATL6hir4wy0ARLw0RsQcYQTAFcK9vpAJBieuDz7/kFkGH8PnZr2D/QDijI9Y+2+5AUBKFORN1HkG49gT2WaIaQQbOLrlA+fFAZNuB0fWWGkGj2Tlt22XSQHR+KVbjZ/RAhdpGfk48C0H8lAPfQisEQW9DxvcAUxBBPeMCgC7jE0ES+HPgIgH9QGz7Epm+y/tAt2mmmGGJFEHwhGDYvrT2QAufSWiFuA5BCSizT9FXHkF9eSG+dTX0QKej9JJWdRVBbPcB+i+XEkHwiD7N/ZzzQM/k8IZSd+pAhDtBrjkUBEF4w8P6rNL3QD560HZi0RBBdw/2igdIBEFz1wLnBvUDQW+JZR62GhFBbuDHTVhY4UCtmgqPeaodQZnaZaOyFRZBfoYkQjAUGkFIvmc2YLjqQPaJEo4eJhNBvJoCm1+2G0FGQD0T2S3IQD1W7Q2vhP5A6vXjYUu2F0HuGf6/s0UeQRVsWTPPL/hAbW2FCEIDCkEV97KiXtXvQOokO9HaoR1BLsvVRm0IG0FigeQXYsriQOX8dWvwEfxAItIfX/8hHUH2OwZKVH7yQMmXyThB8hJBmEZTCOydBkGTh8yh87ALQQ/qM8BHxQ5B6gmTzCwIAkGTWfb1SOMZQaI6w+tkYQBBkllp+Hxg50BZtapPEdgdQSB7tRfuSwNBMmdmsRV2B0GY+O8/QmIQQZN+/gtDERpBKzgFaij+G0H0LCfAKYkBQcINzCH9YRdB0BOepHqQG0F1TFGV8pcdQQZM4jgNlQhB3PSGxaRY/0A0qgN24UIUQX0Pkrr4VuJA93BRaLr0/UAEQhf1oqkBQePADmWgmRdB2RmZ1vovFUHqdalwzegaQSA0Om061ghBKbVwYGeyGEHlSDVOGJUIQbxzlmrVY/9A0dS8wXwgGUEwK1QQK+L1QC7VDt0eiRNBnoTDtQh1G0Gf/jvhfmIHQb28AclTDwhBEjwQCOm9BUEAqT7goeTpQC58gZjY8/RAmk3cJHsq/ECHOdYMzpYSQXVmBlnAHwVBfnBRzeYL60Aek7rW4NscQa2P4sEKzQdBhUSWmw0Z7EDHlsKNcBAdQWNsM6PeywxBhStOa8e9BkF8UaKhPbQbQRhM4Y3Z9xNBXrWDu2dz5ECru1rBBRfcQKo0O3QQ2hRBsVe6vfcn9ECHProYyIb8QEWy0am+1AVBr+bVPymmGUERIfvMuc//QJuvf1w6dRtBEoppyJA5B0ES2MdlJqbRQC8AEaq4CglB0jwzUkO6EUHkWvwJNl0RQWCHUlSdFRxB2B4q/YeWDEEms162RCPxQCNBfUMMu/pAIvbSLUazGkEmQ7uXdBIQQWWbbrMxHuZAHWiOgiKhCUHPn86Z5MkUQUf2t1WEcRZBXBLLDsgvG0FrZxv//0UbQS0ke0PyyxdBJnphzRIUFUF3plgaE5QcQcqQX7iWPhJBdWF7lPs3AUEog0GMyVwXQXR1T7VSoxRBS6yfmnk+8kDbc8+jPF8UQaeqlVbB4hdBnYt6p74t+0Auy/Ah9AriQCYT25YNxQpBq1fCM9EGHEHH/c3dNK4AQRu/VtKEFOpAYYJ3+aUUGkEvGJe7ploUQUU2J4jz8QVB7szOx8bSEkFauWTr9+cNQcslruW7yhZBbugUAxSGGUGh7ckoUr/wQA+3h+mU+MNAYRC3R9xF70Drx1dXGvEaQYJ/jOYw/fZA0gSTjcRdDkGs8E2shB4YQWXRQ+wUFxFB/CMrzCScE0EBI7L5N6caQdQoqP+3YB1BQdfrITZa80DT7q04EKbaQEaCgZHVMAhB5pE3baaFD0G5agYMAFkeQXEn9MR3ThVBAADUKqvIC0Glerq7pX4KQZw47CyXVR1BeLS0EDTF7UDaIJf6QgIXQXtY0uALyuhA0ggCCoW2BEEwcQIQOXAdQbgpJQjMmxJBYm5kwWRsEEEnY+CEj2b7QOfnVZbnWh1Br0pT5plfF0FRebY49kLKQOS+gCm4ihJBpUUHZBC/HUFasPsq7jYZQc+r9qT0SB1B0Y1s3sHnGEEqCabFCmkRQRrL8qxOYAxBXaYLTT2GE0HO4SabV9j2QHPdJ6xeJfRA2yfaVUplCEFoBFLx55AVQebMNK8CxRRBBQHQ7mdAC0FpeTOsr/4VQQuumeNjkhdBF1/uIODBBEERmeT83rD6QJecbDaiSxNBAefkWkJuGkHqEi91GdPsQLiUzXmNIxVBibWyENV2HkEGouKzbGr0QP9+vCOypx1BCohZ1+PiGEEYURqRzycFQbvSrhBIJhFBPE21Rd6QEUEK8+Pchwv6QFSI8VNDUthA2bfvqshJFUHer8cnE6zhQGYfINtFgx1BvAtoussZB0HSjAHO2ZwZQQm05KqM+g1BPTF8l6De4UDpIxAnJ7H2QDeRFyE3RwtBYEcjvE60GUEgQDFFRoXwQOCbwYzVsfRAorQ1/iG2FEH7Yr8p55UJQS27UUum+clAgSbItLw6BUGBO2pte/YQQf7mLDh0CvFAS1sjAaG590AikCC2/ZP8QI0cYTsXqtFAMtiD55hLE0H/z2qSnIoVQb41eoIi3QVBHQd+pipiDUEzDhcM5lcLQT8sbfPTVQFBsy8hrMLrFkFO91KiOu8cQe0umOvQswJBp6J690TRA0E9GzgrffwdQZV6qlC7PvJA0vYdgkTHDUEEyEPsoooVQTFMeZOA/xpBgCwmnKQ39EBbZicPW6AGQVuz3jJwzgJBJQGkXBg1HEHMJocgAU8VQZHxENj48QxBrwDPA2hX9kAStWPiF5oJQffT4KRB+xdBUt915n737kDXGEWuL7cZQe+xt2D3QvVArINvgFs14ED356rWC1EZQcJqe4F3ahxBOIf9MBxjFEFAiY67R5kbQeebH1Q4tQlBazv6IJyjE0FPi2s+r+QGQU/sotNORfFA2IaBleDD60A95PzFMdUKQdKcJYgynAdBCEPbQY2u50Awz8T1yhwYQSsd0iCgEx5BPE7GcEgWEUHIUwhAUwD8QH88YKzLEQlB3ZVrlZrMFUEarHwno2P4QKfkFVe0dB5BULrmy55/E0GhoR4EQKjRQPOuMafNhxJBNVoOAYD//UCibkg6ZOgcQTvcQ0g+URpB2mzjGTFr8ECM2uNRZSIOQVF/+l0tpPlA/s74JuH+zkDSED3wFUgcQSVWE4pNtgBBqU1QGNW5F0FPW4aLlD7tQHzOhBFNFRJB1x87gI6Q/0A28IuieF0dQS2ueMK8MxNBuleeBQ8+/0DidweimXUUQex//B86sRRBvocls7f/EkEGrHHYUdUXQcU/R/whjAlBUtUjvZZ8EUF5PzQmRBXnQOjJRDYMTAFBKliLiEp0EEFXBZ+UHIT0QIFXnO20oAZBNSs7fYp+AUEwpdSfoIoQQS2XmrSepxRBGSQsQAGxG0Hnsu1p6D0aQfFOUynhmgRBLlZcE2x7EEFZJlHX4RURQWvIvBbBvBZBFAzvnvefEUGce5rGCHcZQSYCbrnFs/dAV9tRaWHGEkEX+WK03M/5QB3uCI7Q2A5B5aRQKARYBEHS1bN8qIDeQPmTsYYZ9A1B/iz9++LLFUE8WW6Frv3wQFbo2AOoBRpBiiDc8jtQFkG/YFlZRFkIQWk0/G9GmBBBmtjmYTx3GkE615xpqmQcQSTXnxH2eRJBo4N+TDUD0UDx8RgNzpTdQNq0lOAv+RFBaU9O2emDAUEULcmOl1ASQVckb+sHFA5B4YJ056iPGUEsKrf04M8GQZs0Ld1jBxRB+eMxFnrTDkHeUo4c3fz6QP4vqM6yExhBjzk5VhUEFEE9kAlnLAUYQXw/GGlpcxtBUFofe56V5kBSN3LX2mQVQQxv37gh5+JAP3CXktorBEEgnuvGKH7pQALvo3D0VQFBNttKcBkgAEHvLl/duHIeQUTaFfo32/1AqNLJ0NmHG0H1lbYNIaIKQT1YjDdGZuZAMYRhkUDCBEHPOKKZ9BkDQaIDZ9dQxOlAlB9HhY7ZHEGqSV2jXIfgQJW384z/xRJBQQjHXFMHGEHLvAOjI9cMQbM4vof6KwdBq4kA3s/0GEG4AbAlqx0CQcSEaHens/1A38tUbIzRGkHuQDfrS3AWQZkjqsGGXRdBQZxlLxEnE0HvdqzFtdYQQbMcbIX0egxB3WwFGQp2C0HYbaCM50jzQAknKwxjhBhBwbs0a3uoxUCcEU7VN94LQW4Im3FVCQhBUBXTDAsuBEHdZbi8eXMRQakfssb1KPFAiF3H4hFbBUHbppl2fq8aQbZuwxzhYgZBBLzYVj/3EUHQoiAIiOUcQSvI5b/j4QRB8YpvRlIwCUFykeaWvtUcQVUk2WdNrwFB4xjn9EioF0FCKZIwAFMTQbfMdsm6ZhxB1pKbDJkLAkHjyQ4+9CYMQQN6bK9+TRxB+gggNzBbAEFt1Ve+49QFQT1YYeN1xwtB2jUUEV1jGUG6lFFRHbz5QJpFxhzSShtBYhG/PIv2FEEDmw3OoSocQd67MW5pceBAt/fGKpBGE0Ep5690ckgTQW8KVrQPSxxBCjHMC++pEUFFf4EXYWEMQQyyIAN8kBdBK7uGi8XzEEEVIkEg3PYaQSzcRvxYxBhBu7F6lvzBCEGzAsmk7eIDQV01t93eRANBXlHF0ZwEFkH5RHI8G9gJQXEMeXCAAvNAChjh9EjbBkEDubv3g1UPQeqa2S4XMRtBXBXTl6Ec60A3f4SQ+3EYQTTwBiutmhVBjWdP8nNqG0HTYf7UhoAaQQRYQpcvqeJAww+NLL6i8UDcqYgjwy0eQayDFttnXgJB3KxJf5sB5kBv99B3MVYGQQjt1ALKlRVBAAxk5aCC70DmK+ni3/IMQcshxjgXQhlBhtjbxkdwBUFeTc9aXR4QQa/0b56cS/tAlUibTcimEUFsqiJqo5wMQdTSaHEJlwtBPHi3u2m8FEEtblUjazURQbq4+WfDnRxBCjbeKXLT+UBaCPZYAKUGQTLf9PUqWR5B36iOtxNPFUHqY9SHX9AZQR6CzDf6S+9AJzCN2g5fFUHNwYHplEz5QBDDJ1qmUBNBlRLf8tjY+0A0cqhWbIAGQaf1XeWLk9BA2puztBA8/UDJAkN8GWn1QLM5IX0udt5ASoK9q0ZDFkH6qGeUr7fhQMWsp5s2LwJBEJr4OEFeFkEy+lkvWcwPQZxTbylyMgVBn12Whrw8HkH0JYhKwIsEQe7NeZ+qrRFBHp0s8WgFEEFutHHamWoMQXTiHYj8g/xAlQalBWugA0HdE9ItAzsUQT4pzgxFwxhBi/un26+3GUHNzdwfAQICQa5GBjN8EAJBTJt3TdYKFkF2VR2qcgIdQa1ceh9/D/5AmOcCKq99AEEPlTDGl2kHQRx/pWbZqRtB7WVyQiocCkHHeFBFX74IQZihTzTRCgZBUTULtqi9EEGQKE7BLi7fQLMXnXGlDxxBp850pAsiBUFbgxann8rvQPdSr7ohFPxAp7NLSDJ+F0EJ7J5z0gL7QCu/pIpGJBdBDHKFMIi6FUG0nnj6sOMAQRpjFzB/igVB8Mmmk3rQFEGSzl1JJj4dQUeXunatjeNArxhsleGwHUGJ1fG8rDrvQPgMi5i7bQFB5+065iVfCUFEYkNVCAMCQfMhwQwI4AhBAY+4LPbxF0FraXq3Z6sFQY5EYwCFrvZAxYhkK0x8D0GzoqSmlW78QG0nWjI5MPBAn3t7Q4hO/0BwGQEBBtgQQeTijcL5MAVBNGOGrW56EkEC9/WjTGr8QFaA3/VqgOtAs2yuoKHFBEGTMAlfYSwEQWfyqqAoDhtBuwwhH4jPEEEPEyoiT4UTQUrV6hioxQBBxbYz/PnS9kATADrAM9fqQFEACOgdsxJBehjeEcQOFkFvj6EE+/MbQeGWgXkuiA5BHFqvA28s6UBT73mTvmsZQcJj2E7QJANBsgJaRWSAFUFEt5BPREgNQTPl6RS/8xlBbi2K0nx3GEHm++JNybccQaVXtVmWdxlBaMq5edJpGkHm57LO2s0QQflZmReQ5fZAfs38pYh3FkFR3QjmdW0SQUUbxqil9gdB473Hq5u8FkEYAoQ5OUb7QJf2H/9ZDwZB7o0s61sBFEFlO+j8HYEaQdJQNS0IjxJB0+/z1flK/0BKR6f9BFcVQYFRbqcmgNBAQRjxtSSIFEEuwr+K+XkdQUsQh+ifFRpBIkkCA5DFGUEH65twKWMMQaKcm+mWevdASX31d5TF4UDlRWTjHt/7QB/55TeM3RxB1zQsoG3PA0EcM00YFB37QOnxFG2mCQhBmA1lgyldC0HA915vvG8eQemnT+cdaBxBpXGWBARDHUHMNpQl3f/6QIG5fRuo7BFBjmvh2qN6HEGD887MPIkOQScrCxqNNwRBh+fIqaViFEFHjcu8xGUPQRA3qy4P5gtBy7pFBm16EUGFKZAkqwUYQXY867FRBBJBYfOqetkCFkFrKSs+K9kRQUOLXUjtjRVBefnhNFv9EUHwcnA20y/xQDWpXzB56hRBSgOigAhBAEF/pPPszYgTQUfVDdpzRxJBsH3A4YikGEFh3UW28BgOQdRrY3PZ5hdBiLooEF1THUHPCPxDBFEdQdA77phrnflAQ/Fveard5UCdzDQeHZj7QLkhcnJ8wgZBpWVWH6QfBUG8NHS18i/+QNW1ah4ZC+hAtGpTytZMEEEvq6GnBoQBQbASgdRDpPpAOVzBSJABFkERHJ27UggaQdAqMUviKxpBMl/AwmEJC0H2GyJlGAEZQV17Yk65ihRBy7hw5ypnF0HTKO+IXcsGQZxO72zY+/BABDYe4AFg2UBu2s/0N08QQWRFnOc+HxtBU2dhJbop+0BMxJ5INEIZQdGx68CrbhJBhAilmpAGHUEHe/hemtkZQbNCqGBJzg5BW/0jddJNF0EkUCLSbCQcQT1s0Xhq5QZBbarINd8tBUEzlLDv4/UNQVoAqlTZhxdBT0U882MYHkG+kOX598PtQK+7hBpKdRdBhFdOhG2cEUH8iohmvWAMQRQ2TbU4LB5Bf368KyRZEEFRSN9XXUoSQUzDEVnlpB1B5CjSMf3u/kCPk/TJyhPrQG7+dcoEexBB+eQ9RSZ+EEGk+sRSTg4bQcZ2aiOROwxBnUYn/pQ8EUHat87hjgIDQV3G1+31+w9BA8h2kiKdEkGRC38A1uYQQYgAO5wI7vlAlLiJ6I82BUGS6KZ6qNzmQHIxcSeHbh5ByitxxCp74UBdwv1QgMgDQRxAyijeAv5AnwQ0JRcvFUEv0uscIzweQedPWijvlwBBVX/v+CtIAEHiNWXwHuUPQU44EiEQkOlABpOivepyFkG4l+WSa24PQayo3Va6BAhB1j8HyxI76UBDhRMZSYkWQWFgoeoieOpA5+69DM2X7EDqNRhOJOwHQWzbzZCdnARBzJ9Sch5pE0E0FLHC/J4SQVduWfOZZxhBksSBLrs1EUGOnpRAwBryQFssNFdSwxdBEIZPNB65+UDSA7hS77cGQdzmfMps4RhBoR0AgyQ4BkEqy2cUNwcdQde2U5sA2h1BYWtZBdDTE0Him93Xcc3MQOBKETkrXRhBU1SS1bBiEkHlpyYhRh3tQNCxmKh1NBZB8xIgRx8YDkFF7FwmjdwQQX9wigzIkBVB4Ul5ZswA90CLmZVdIq4AQVuwONzgRx5BU8Oy6kesGUGhjHkThzEHQTdJPzpIaRNBLu19ALMCBUH5Vx/iBtoOQVxZiZx7XONAAB33m6YOG0Gg2/jsUFcEQTqNE3UDUv1A05jajcFSAUHLGJ/wrT4YQbYywHRHMPdANmkYfbhTE0Hfy2x8FWQVQc3Ow7YCKhVBZkTzgF6FEEH00Bdjj7IPQS96odXx7QVBSDTIrs0BG0Gu4eaipAoYQYBwhRfA9gtBP4z7whncB0GRkQ/VTHEaQejOUqV+XBBBuwFQsaLX8kCXlYQmgGgaQcLip4G+VtlA+x6+gAAwGEEDvCeSM7kLQQOXCUaIER1BLIY7slb7EkEnKJJ92qLRQBNeYD7a0QpBu3jK9hnDFUHAAr0Z6G0AQVL/oXxXLfpAbB8ExVF+B0G6bg4t/jUGQdoao3sHohxBU4lLghGhBUEaqfcXEssCQb0fac1MWRJBJvaPS7eE/EAtQyxc8JQOQYUTQFhiixRB0/L43fCIDkHMu/Wo8d/3QOGeVVyG5QRBdOaolZc8BUGwDxNaV8IZQXYccR0j7hRB1Xuc1ZHMFUF69vHTu6AWQdRRm9s54xFBxdrPUqFCGkHpiIDHkIP7QCRPPaYedgFBuAZfp0CG/kDBG1bA5RgWQca8hGHaHgBBHKumuvMpHEGkI7QQvLgYQZKs927RORVBVJhrZVKBFkFkf97Ybr4IQdSx/bByre1Aw4FvuX5vDkEQV7yqjbcaQfZO9IRc3wZBmBiXnNv2B0HspBPQ2okNQcH5sh0MAxNBg4rT9Amz+0DEj9mxUJYXQZpJnrN2ZPVAp+aFxmt5E0HlteV7Pu73QOpoSzDZpvBAthquYUNE4UDjeaqiRyQSQfFM2dRTEQNBUPBzXw8c9kAL4kCKjdcNQeHYUEl3VP9A7FIuX0VV+0AGX67AXfUOQSvWL1kqwRlBPwRvbqrNEkEgKOeuAfgUQcWKaOWCqxBBAkALX3C4FEEyzC099IzNQN9ArK/TvBZBMENDTwql/EDIhHEGeL0XQbWCNWwAVgZBzurGAtBYE0GkfbbL9T4RQZwknXLEqhhBhFF8fB+AEEHukKUtCQcAQS30BfYCEwtBOoUSb/UVEUFvAKVuDp0TQdLQKW5ZsxNBwH1gWfNGEkEorTTDhQH7QHimC6zNVg5BMvgXrfrkHEGVEeWK6g73QP/liUcdAexAOh4qszV8FkFY8WtjUJodQWL1kNgiERVBuTjL7SC5G0H0HAnxTLgbQcpgZbkggRZBvrg3hoDpBkEEEZE6UjXhQB9+vjaNTxVBa2UZ+2K6AEH0j7ejCKQAQR19mUhnhwBB/KksndVAB0H6U+k+rF8SQQ49YE0kgshARxE7HkdrHUFXhfDgkZj9QOGZQUDAsxpBxYFzZbSHEUHW/Mh8Pk0TQRVSXPyawhVBCgWwWyH3CUFCXQuJVT4bQRBrfjbvGOhAWHauaEi9E0HFPeqx9rAIQasJ9KcCXBNBTozRDe/sE0GwjgOK0yYWQdMXO3Rvy/hA78xmuVxc0ED3/2r5tYcHQf1wDVUITRFBPxiQpN3uGUGkcHkIk40VQW8ekLuTm/BASQmGHX6tF0FQXB+DLG0YQdeqB8fJqw1BynX7j2T260AJrYyFto0MQap2Ky7WXRhBOkezMejbAkGe96HnJT3fQFRQ2GNK+QJBMXwnG6agF0HOrQeHseQVQZKK8mgMghhBb7F2E3+wG0HK04o5pQnvQFeZPlAAwR1Bo+n16wnoE0FKI+zv7dTgQDrq+UooKBdBQMi5p7ZsGUGYrQXhHdjlQBl2+qrMtxdByglbn+KwG0FXlhmZXDQOQSo/UnUOMRZBXj8+7cIGCkE6v5H66yr+QPUrlPM4ZxVBAwx4mqsgHEFnzd8nPN3lQLsu9ZYXqxZBFasnz7yCFkGMeWUHy/gJQbCA0baVYg9BhfVhqdJCCUHWGfYWRzEcQWrFCg+VBP9ACIK3u9KzFkGxMt/tPA0EQeDAGifkLQFBEIleKF0fAkFrtalL58YCQbiAbfB8OAhBcpYqHpdqGEFXNQeWYVkSQbAm4IRiOxVBKUsd2Ca2G0H26IJ5MzkHQTDQrlm4eBtBbti6bKbCBEH0D7Lfd38KQVlV/YtUPhdBqv+7pPKB80DUTwlCe3APQREWWphoNwRBDCGSJG+50ECi5nW/+5UXQcDWd6DqKfVAsWi7UpFOFkEyoTvsbuP6QAjdlzZYmx1BB69Jtfng+ECQPh56eGjgQPEcnKPgwhhBsZncZpFdHkE9vqeeXMvzQIvSkjLaeBdBM8mKfCrQFEGWpnafcb0RQckotQbo5xpBP0Ux/3PJB0EDvlI4zicbQYd1fvRXbRNBThINJTNREkGK8CAbpR4aQbg+DJZH5xVBfPY5u8lXBUGqCL9vhznqQKuvN9kqxRlBMA1DLAlt60A+t8zN72cdQQfCKMkY7BBBaE56YWGMGEEYkHujRGkGQT1LgMYrVRxBjRJKnOiv/0DaVYKIqYsXQb7uSJ4B2xtBtO/XQxx9GUGS05Wwxzr6QCHtcnwUI9xAU+IggynWGEGZ8nJ/BXsZQfrjzUR31wJBXr4RWMUXHUGU3LSEJT0CQTqi28zlzhJBP8HpmYDmw0ARjMlYsgIYQYTcHObcQRBBU+TX+48JGEETgtCJuAwNQaj74WNBidRASckeADVC80AlVEo3Y6bYQPwxvrtn7+pA",
          "dtype": "f8"
         },
         "xaxis": "x",
         "y": {
          "bdata": "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",
          "dtype": "f8"
         },
         "yaxis": "y"
        }
       ],
       "layout": {
        "coloraxis": {
         "colorbar": {
          "title": {
           "text": "Operational_Cost_USD"
          }
         },
         "colorscale": [
          [
           0,
           "#440154"
          ],
          [
           0.1111111111111111,
           "#482878"
          ],
          [
           0.2222222222222222,
           "#3e4989"
          ],
          [
           0.3333333333333333,
           "#31688e"
          ],
          [
           0.4444444444444444,
           "#26828e"
          ],
          [
           0.5555555555555556,
           "#1f9e89"
          ],
          [
           0.6666666666666666,
           "#35b779"
          ],
          [
           0.7777777777777778,
           "#6ece58"
          ],
          [
           0.8888888888888888,
           "#b5de2b"
          ],
          [
           1,
           "#fde725"
          ]
         ]
        },
        "legend": {
         "tracegroupgap": 0
        },
        "template": {
         "data": {
          "bar": [
           {
            "error_x": {
             "color": "#2a3f5f"
            },
            "error_y": {
             "color": "#2a3f5f"
            },
            "marker": {
             "line": {
              "color": "#E5ECF6",
              "width": 0.5
             },
             "pattern": {
              "fillmode": "overlay",
              "size": 10,
              "solidity": 0.2
             }
            },
            "type": "bar"
           }
          ],
          "barpolar": [
           {
            "marker": {
             "line": {
              "color": "#E5ECF6",
              "width": 0.5
             },
             "pattern": {
              "fillmode": "overlay",
              "size": 10,
              "solidity": 0.2
             }
            },
            "type": "barpolar"
           }
          ],
          "carpet": [
           {
            "aaxis": {
             "endlinecolor": "#2a3f5f",
             "gridcolor": "white",
             "linecolor": "white",
             "minorgridcolor": "white",
             "startlinecolor": "#2a3f5f"
            },
            "baxis": {
             "endlinecolor": "#2a3f5f",
             "gridcolor": "white",
             "linecolor": "white",
             "minorgridcolor": "white",
             "startlinecolor": "#2a3f5f"
            },
            "type": "carpet"
           }
          ],
          "choropleth": [
           {
            "colorbar": {
             "outlinewidth": 0,
             "ticks": ""
            },
            "type": "choropleth"
           }
          ],
          "contour": [
           {
            "colorbar": {
             "outlinewidth": 0,
             "ticks": ""
            },
            "colorscale": [
             [
              0,
              "#0d0887"
             ],
             [
              0.1111111111111111,
              "#46039f"
             ],
             [
              0.2222222222222222,
              "#7201a8"
             ],
             [
              0.3333333333333333,
              "#9c179e"
             ],
             [
              0.4444444444444444,
              "#bd3786"
             ],
             [
              0.5555555555555556,
              "#d8576b"
             ],
             [
              0.6666666666666666,
              "#ed7953"
             ],
             [
              0.7777777777777778,
              "#fb9f3a"
             ],
             [
              0.8888888888888888,
              "#fdca26"
             ],
             [
              1,
              "#f0f921"
             ]
            ],
            "type": "contour"
           }
          ],
          "contourcarpet": [
           {
            "colorbar": {
             "outlinewidth": 0,
             "ticks": ""
            },
            "type": "contourcarpet"
           }
          ],
          "heatmap": [
           {
            "colorbar": {
             "outlinewidth": 0,
             "ticks": ""
            },
            "colorscale": [
             [
              0,
              "#0d0887"
             ],
             [
              0.1111111111111111,
              "#46039f"
             ],
             [
              0.2222222222222222,
              "#7201a8"
             ],
             [
              0.3333333333333333,
              "#9c179e"
             ],
             [
              0.4444444444444444,
              "#bd3786"
             ],
             [
              0.5555555555555556,
              "#d8576b"
             ],
             [
              0.6666666666666666,
              "#ed7953"
             ],
             [
              0.7777777777777778,
              "#fb9f3a"
             ],
             [
              0.8888888888888888,
              "#fdca26"
             ],
             [
              1,
              "#f0f921"
             ]
            ],
            "type": "heatmap"
           }
          ],
          "histogram": [
           {
            "marker": {
             "pattern": {
              "fillmode": "overlay",
              "size": 10,
              "solidity": 0.2
             }
            },
            "type": "histogram"
           }
          ],
          "histogram2d": [
           {
            "colorbar": {
             "outlinewidth": 0,
             "ticks": ""
            },
            "colorscale": [
             [
              0,
              "#0d0887"
             ],
             [
              0.1111111111111111,
              "#46039f"
             ],
             [
              0.2222222222222222,
              "#7201a8"
             ],
             [
              0.3333333333333333,
              "#9c179e"
             ],
             [
              0.4444444444444444,
              "#bd3786"
             ],
             [
              0.5555555555555556,
              "#d8576b"
             ],
             [
              0.6666666666666666,
              "#ed7953"
             ],
             [
              0.7777777777777778,
              "#fb9f3a"
             ],
             [
              0.8888888888888888,
              "#fdca26"
             ],
             [
              1,
              "#f0f921"
             ]
            ],
            "type": "histogram2d"
           }
          ],
          "histogram2dcontour": [
           {
            "colorbar": {
             "outlinewidth": 0,
             "ticks": ""
            },
            "colorscale": [
             [
              0,
              "#0d0887"
             ],
             [
              0.1111111111111111,
              "#46039f"
             ],
             [
              0.2222222222222222,
              "#7201a8"
             ],
             [
              0.3333333333333333,
              "#9c179e"
             ],
             [
              0.4444444444444444,
              "#bd3786"
             ],
             [
              0.5555555555555556,
              "#d8576b"
             ],
             [
              0.6666666666666666,
              "#ed7953"
             ],
             [
              0.7777777777777778,
              "#fb9f3a"
             ],
             [
              0.8888888888888888,
              "#fdca26"
             ],
             [
              1,
              "#f0f921"
             ]
            ],
            "type": "histogram2dcontour"
           }
          ],
          "mesh3d": [
           {
            "colorbar": {
             "outlinewidth": 0,
             "ticks": ""
            },
            "type": "mesh3d"
           }
          ],
          "parcoords": [
           {
            "line": {
             "colorbar": {
              "outlinewidth": 0,
              "ticks": ""
             }
            },
            "type": "parcoords"
           }
          ],
          "pie": [
           {
            "automargin": true,
            "type": "pie"
           }
          ],
          "scatter": [
           {
            "fillpattern": {
             "fillmode": "overlay",
             "size": 10,
             "solidity": 0.2
            },
            "type": "scatter"
           }
          ],
          "scatter3d": [
           {
            "line": {
             "colorbar": {
              "outlinewidth": 0,
              "ticks": ""
             }
            },
            "marker": {
             "colorbar": {
              "outlinewidth": 0,
              "ticks": ""
             }
            },
            "type": "scatter3d"
           }
          ],
          "scattercarpet": [
           {
            "marker": {
             "colorbar": {
              "outlinewidth": 0,
              "ticks": ""
             }
            },
            "type": "scattercarpet"
           }
          ],
          "scattergeo": [
           {
            "marker": {
             "colorbar": {
              "outlinewidth": 0,
              "ticks": ""
             }
            },
            "type": "scattergeo"
           }
          ],
          "scattergl": [
           {
            "marker": {
             "colorbar": {
              "outlinewidth": 0,
              "ticks": ""
             }
            },
            "type": "scattergl"
           }
          ],
          "scattermap": [
           {
            "marker": {
             "colorbar": {
              "outlinewidth": 0,
              "ticks": ""
             }
            },
            "type": "scattermap"
           }
          ],
          "scattermapbox": [
           {
            "marker": {
             "colorbar": {
              "outlinewidth": 0,
              "ticks": ""
             }
            },
            "type": "scattermapbox"
           }
          ],
          "scatterpolar": [
           {
            "marker": {
             "colorbar": {
              "outlinewidth": 0,
              "ticks": ""
             }
            },
            "type": "scatterpolar"
           }
          ],
          "scatterpolargl": [
           {
            "marker": {
             "colorbar": {
              "outlinewidth": 0,
              "ticks": ""
             }
            },
            "type": "scatterpolargl"
           }
          ],
          "scatterternary": [
           {
            "marker": {
             "colorbar": {
              "outlinewidth": 0,
              "ticks": ""
             }
            },
            "type": "scatterternary"
           }
          ],
          "surface": [
           {
            "colorbar": {
             "outlinewidth": 0,
             "ticks": ""
            },
            "colorscale": [
             [
              0,
              "#0d0887"
             ],
             [
              0.1111111111111111,
              "#46039f"
             ],
             [
              0.2222222222222222,
              "#7201a8"
             ],
             [
              0.3333333333333333,
              "#9c179e"
             ],
             [
              0.4444444444444444,
              "#bd3786"
             ],
             [
              0.5555555555555556,
              "#d8576b"
             ],
             [
              0.6666666666666666,
              "#ed7953"
             ],
             [
              0.7777777777777778,
              "#fb9f3a"
             ],
             [
              0.8888888888888888,
              "#fdca26"
             ],
             [
              1,
              "#f0f921"
             ]
            ],
            "type": "surface"
           }
          ],
          "table": [
           {
            "cells": {
             "fill": {
              "color": "#EBF0F8"
             },
             "line": {
              "color": "white"
             }
            },
            "header": {
             "fill": {
              "color": "#C8D4E3"
             },
             "line": {
              "color": "white"
             }
            },
            "type": "table"
           }
          ]
         },
         "layout": {
          "annotationdefaults": {
           "arrowcolor": "#2a3f5f",
           "arrowhead": 0,
           "arrowwidth": 1
          },
          "autotypenumbers": "strict",
          "coloraxis": {
           "colorbar": {
            "outlinewidth": 0,
            "ticks": ""
           }
          },
          "colorscale": {
           "diverging": [
            [
             0,
             "#8e0152"
            ],
            [
             0.1,
             "#c51b7d"
            ],
            [
             0.2,
             "#de77ae"
            ],
            [
             0.3,
             "#f1b6da"
            ],
            [
             0.4,
             "#fde0ef"
            ],
            [
             0.5,
             "#f7f7f7"
            ],
            [
             0.6,
             "#e6f5d0"
            ],
            [
             0.7,
             "#b8e186"
            ],
            [
             0.8,
             "#7fbc41"
            ],
            [
             0.9,
             "#4d9221"
            ],
            [
             1,
             "#276419"
            ]
           ],
           "sequential": [
            [
             0,
             "#0d0887"
            ],
            [
             0.1111111111111111,
             "#46039f"
            ],
            [
             0.2222222222222222,
             "#7201a8"
            ],
            [
             0.3333333333333333,
             "#9c179e"
            ],
            [
             0.4444444444444444,
             "#bd3786"
            ],
            [
             0.5555555555555556,
             "#d8576b"
            ],
            [
             0.6666666666666666,
             "#ed7953"
            ],
            [
             0.7777777777777778,
             "#fb9f3a"
            ],
            [
             0.8888888888888888,
             "#fdca26"
            ],
            [
             1,
             "#f0f921"
            ]
           ],
           "sequentialminus": [
            [
             0,
             "#0d0887"
            ],
            [
             0.1111111111111111,
             "#46039f"
            ],
            [
             0.2222222222222222,
             "#7201a8"
            ],
            [
             0.3333333333333333,
             "#9c179e"
            ],
            [
             0.4444444444444444,
             "#bd3786"
            ],
            [
             0.5555555555555556,
             "#d8576b"
            ],
            [
             0.6666666666666666,
             "#ed7953"
            ],
            [
             0.7777777777777778,
             "#fb9f3a"
            ],
            [
             0.8888888888888888,
             "#fdca26"
            ],
            [
             1,
             "#f0f921"
            ]
           ]
          },
          "colorway": [
           "#636efa",
           "#EF553B",
           "#00cc96",
           "#ab63fa",
           "#FFA15A",
           "#19d3f3",
           "#FF6692",
           "#B6E880",
           "#FF97FF",
           "#FECB52"
          ],
          "font": {
           "color": "#2a3f5f"
          },
          "geo": {
           "bgcolor": "white",
           "lakecolor": "white",
           "landcolor": "#E5ECF6",
           "showlakes": true,
           "showland": true,
           "subunitcolor": "white"
          },
          "hoverlabel": {
           "align": "left"
          },
          "hovermode": "closest",
          "mapbox": {
           "style": "light"
          },
          "paper_bgcolor": "white",
          "plot_bgcolor": "#E5ECF6",
          "polar": {
           "angularaxis": {
            "gridcolor": "white",
            "linecolor": "white",
            "ticks": ""
           },
           "bgcolor": "#E5ECF6",
           "radialaxis": {
            "gridcolor": "white",
            "linecolor": "white",
            "ticks": ""
           }
          },
          "scene": {
           "xaxis": {
            "backgroundcolor": "#E5ECF6",
            "gridcolor": "white",
            "gridwidth": 2,
            "linecolor": "white",
            "showbackground": true,
            "ticks": "",
            "zerolinecolor": "white"
           },
           "yaxis": {
            "backgroundcolor": "#E5ECF6",
            "gridcolor": "white",
            "gridwidth": 2,
            "linecolor": "white",
            "showbackground": true,
            "ticks": "",
            "zerolinecolor": "white"
           },
           "zaxis": {
            "backgroundcolor": "#E5ECF6",
            "gridcolor": "white",
            "gridwidth": 2,
            "linecolor": "white",
            "showbackground": true,
            "ticks": "",
            "zerolinecolor": "white"
           }
          },
          "shapedefaults": {
           "line": {
            "color": "#2a3f5f"
           }
          },
          "ternary": {
           "aaxis": {
            "gridcolor": "white",
            "linecolor": "white",
            "ticks": ""
           },
           "baxis": {
            "gridcolor": "white",
            "linecolor": "white",
            "ticks": ""
           },
           "bgcolor": "#E5ECF6",
           "caxis": {
            "gridcolor": "white",
            "linecolor": "white",
            "ticks": ""
           }
          },
          "title": {
           "x": 0.05
          },
          "xaxis": {
           "automargin": true,
           "gridcolor": "white",
           "linecolor": "white",
           "ticks": "",
           "title": {
            "standoff": 15
           },
           "zerolinecolor": "white",
           "zerolinewidth": 2
          },
          "yaxis": {
           "automargin": true,
           "gridcolor": "white",
           "linecolor": "white",
           "ticks": "",
           "title": {
            "standoff": 15
           },
           "zerolinecolor": "white",
           "zerolinewidth": 2
          }
         }
        },
        "title": {
         "text": "Operational Cost Vs Revenue"
        },
        "xaxis": {
         "anchor": "y",
         "domain": [
          0,
          1
         ],
         "title": {
          "text": "Operational_Cost_USD"
         }
        },
        "yaxis": {
         "anchor": "x",
         "domain": [
          0,
          1
         ],
         "title": {
          "text": "Revenue_per_Voyage_USD"
         }
        }
       }
      }
     },
     "metadata": {},
     "output_type": "display_data"
    }
   ],
   "source": [
    "#Operational cost Vs revenue\n",
    "fig = px.scatter(\n",
    "    df,\n",
    "    x=\"Operational_Cost_USD\",\n",
    "    y=\"Revenue_per_Voyage_USD\",\n",
    "    color=\"Operational_Cost_USD\",\n",
    "    title=\"Operational Cost Vs Revenue\",\n",
    "    labels={\"Operational Cost\": \"Operational Cost\", \"Revenue\": \"Revenue\"},\n",
    "    color_continuous_scale=\"Viridis\",\n",
    ")\n",
    "fig.show()"
   ]
  },
  {
   "cell_type": "code",
   "execution_count": 5,
   "id": "a7b637e1",
   "metadata": {},
   "outputs": [
    {
     "data": {
      "application/vnd.plotly.v1+json": {
       "config": {
        "plotlyServerURL": "https://plot.ly"
       },
       "data": [
        {
         "hovertemplate": "Ship_Type=%{x}<br>Average Operational Cost (USD)=%{marker.color}<extra></extra>",
         "legendgroup": "",
         "marker": {
          "color": {
           "bdata": "VqblgVE7D0GMj5Y9dI8PQZkt5Mc6IQ9BBn7Z2afvDkE=",
           "dtype": "f8"
          },
          "coloraxis": "coloraxis",
          "pattern": {
           "shape": ""
          }
         },
         "name": "",
         "orientation": "v",
         "showlegend": false,
         "textposition": "auto",
         "type": "bar",
         "x": [
          "Bulk Carrier",
          "Container Ship",
          "Fish Carrier",
          "Tanker"
         ],
         "xaxis": "x",
         "y": {
          "bdata": "VqblgVE7D0GMj5Y9dI8PQZkt5Mc6IQ9BBn7Z2afvDkE=",
          "dtype": "f8"
         },
         "yaxis": "y"
        }
       ],
       "layout": {
        "barmode": "relative",
        "coloraxis": {
         "colorbar": {
          "title": {
           "text": "Average Operational Cost (USD)"
          }
         },
         "colorscale": [
          [
           0,
           "rgb(247,251,255)"
          ],
          [
           0.125,
           "rgb(222,235,247)"
          ],
          [
           0.25,
           "rgb(198,219,239)"
          ],
          [
           0.375,
           "rgb(158,202,225)"
          ],
          [
           0.5,
           "rgb(107,174,214)"
          ],
          [
           0.625,
           "rgb(66,146,198)"
          ],
          [
           0.75,
           "rgb(33,113,181)"
          ],
          [
           0.875,
           "rgb(8,81,156)"
          ],
          [
           1,
           "rgb(8,48,107)"
          ]
         ]
        },
        "legend": {
         "tracegroupgap": 0
        },
        "template": {
         "data": {
          "bar": [
           {
            "error_x": {
             "color": "#2a3f5f"
            },
            "error_y": {
             "color": "#2a3f5f"
            },
            "marker": {
             "line": {
              "color": "#E5ECF6",
              "width": 0.5
             },
             "pattern": {
              "fillmode": "overlay",
              "size": 10,
              "solidity": 0.2
             }
            },
            "type": "bar"
           }
          ],
          "barpolar": [
           {
            "marker": {
             "line": {
              "color": "#E5ECF6",
              "width": 0.5
             },
             "pattern": {
              "fillmode": "overlay",
              "size": 10,
              "solidity": 0.2
             }
            },
            "type": "barpolar"
           }
          ],
          "carpet": [
           {
            "aaxis": {
             "endlinecolor": "#2a3f5f",
             "gridcolor": "white",
             "linecolor": "white",
             "minorgridcolor": "white",
             "startlinecolor": "#2a3f5f"
            },
            "baxis": {
             "endlinecolor": "#2a3f5f",
             "gridcolor": "white",
             "linecolor": "white",
             "minorgridcolor": "white",
             "startlinecolor": "#2a3f5f"
            },
            "type": "carpet"
           }
          ],
          "choropleth": [
           {
            "colorbar": {
             "outlinewidth": 0,
             "ticks": ""
            },
            "type": "choropleth"
           }
          ],
          "contour": [
           {
            "colorbar": {
             "outlinewidth": 0,
             "ticks": ""
            },
            "colorscale": [
             [
              0,
              "#0d0887"
             ],
             [
              0.1111111111111111,
              "#46039f"
             ],
             [
              0.2222222222222222,
              "#7201a8"
             ],
             [
              0.3333333333333333,
              "#9c179e"
             ],
             [
              0.4444444444444444,
              "#bd3786"
             ],
             [
              0.5555555555555556,
              "#d8576b"
             ],
             [
              0.6666666666666666,
              "#ed7953"
             ],
             [
              0.7777777777777778,
              "#fb9f3a"
             ],
             [
              0.8888888888888888,
              "#fdca26"
             ],
             [
              1,
              "#f0f921"
             ]
            ],
            "type": "contour"
           }
          ],
          "contourcarpet": [
           {
            "colorbar": {
             "outlinewidth": 0,
             "ticks": ""
            },
            "type": "contourcarpet"
           }
          ],
          "heatmap": [
           {
            "colorbar": {
             "outlinewidth": 0,
             "ticks": ""
            },
            "colorscale": [
             [
              0,
              "#0d0887"
             ],
             [
              0.1111111111111111,
              "#46039f"
             ],
             [
              0.2222222222222222,
              "#7201a8"
             ],
             [
              0.3333333333333333,
              "#9c179e"
             ],
             [
              0.4444444444444444,
              "#bd3786"
             ],
             [
              0.5555555555555556,
              "#d8576b"
             ],
             [
              0.6666666666666666,
              "#ed7953"
             ],
             [
              0.7777777777777778,
              "#fb9f3a"
             ],
             [
              0.8888888888888888,
              "#fdca26"
             ],
             [
              1,
              "#f0f921"
             ]
            ],
            "type": "heatmap"
           }
          ],
          "histogram": [
           {
            "marker": {
             "pattern": {
              "fillmode": "overlay",
              "size": 10,
              "solidity": 0.2
             }
            },
            "type": "histogram"
           }
          ],
          "histogram2d": [
           {
            "colorbar": {
             "outlinewidth": 0,
             "ticks": ""
            },
            "colorscale": [
             [
              0,
              "#0d0887"
             ],
             [
              0.1111111111111111,
              "#46039f"
             ],
             [
              0.2222222222222222,
              "#7201a8"
             ],
             [
              0.3333333333333333,
              "#9c179e"
             ],
             [
              0.4444444444444444,
              "#bd3786"
             ],
             [
              0.5555555555555556,
              "#d8576b"
             ],
             [
              0.6666666666666666,
              "#ed7953"
             ],
             [
              0.7777777777777778,
              "#fb9f3a"
             ],
             [
              0.8888888888888888,
              "#fdca26"
             ],
             [
              1,
              "#f0f921"
             ]
            ],
            "type": "histogram2d"
           }
          ],
          "histogram2dcontour": [
           {
            "colorbar": {
             "outlinewidth": 0,
             "ticks": ""
            },
            "colorscale": [
             [
              0,
              "#0d0887"
             ],
             [
              0.1111111111111111,
              "#46039f"
             ],
             [
              0.2222222222222222,
              "#7201a8"
             ],
             [
              0.3333333333333333,
              "#9c179e"
             ],
             [
              0.4444444444444444,
              "#bd3786"
             ],
             [
              0.5555555555555556,
              "#d8576b"
             ],
             [
              0.6666666666666666,
              "#ed7953"
             ],
             [
              0.7777777777777778,
              "#fb9f3a"
             ],
             [
              0.8888888888888888,
              "#fdca26"
             ],
             [
              1,
              "#f0f921"
             ]
            ],
            "type": "histogram2dcontour"
           }
          ],
          "mesh3d": [
           {
            "colorbar": {
             "outlinewidth": 0,
             "ticks": ""
            },
            "type": "mesh3d"
           }
          ],
          "parcoords": [
           {
            "line": {
             "colorbar": {
              "outlinewidth": 0,
              "ticks": ""
             }
            },
            "type": "parcoords"
           }
          ],
          "pie": [
           {
            "automargin": true,
            "type": "pie"
           }
          ],
          "scatter": [
           {
            "fillpattern": {
             "fillmode": "overlay",
             "size": 10,
             "solidity": 0.2
            },
            "type": "scatter"
           }
          ],
          "scatter3d": [
           {
            "line": {
             "colorbar": {
              "outlinewidth": 0,
              "ticks": ""
             }
            },
            "marker": {
             "colorbar": {
              "outlinewidth": 0,
              "ticks": ""
             }
            },
            "type": "scatter3d"
           }
          ],
          "scattercarpet": [
           {
            "marker": {
             "colorbar": {
              "outlinewidth": 0,
              "ticks": ""
             }
            },
            "type": "scattercarpet"
           }
          ],
          "scattergeo": [
           {
            "marker": {
             "colorbar": {
              "outlinewidth": 0,
              "ticks": ""
             }
            },
            "type": "scattergeo"
           }
          ],
          "scattergl": [
           {
            "marker": {
             "colorbar": {
              "outlinewidth": 0,
              "ticks": ""
             }
            },
            "type": "scattergl"
           }
          ],
          "scattermap": [
           {
            "marker": {
             "colorbar": {
              "outlinewidth": 0,
              "ticks": ""
             }
            },
            "type": "scattermap"
           }
          ],
          "scattermapbox": [
           {
            "marker": {
             "colorbar": {
              "outlinewidth": 0,
              "ticks": ""
             }
            },
            "type": "scattermapbox"
           }
          ],
          "scatterpolar": [
           {
            "marker": {
             "colorbar": {
              "outlinewidth": 0,
              "ticks": ""
             }
            },
            "type": "scatterpolar"
           }
          ],
          "scatterpolargl": [
           {
            "marker": {
             "colorbar": {
              "outlinewidth": 0,
              "ticks": ""
             }
            },
            "type": "scatterpolargl"
           }
          ],
          "scatterternary": [
           {
            "marker": {
             "colorbar": {
              "outlinewidth": 0,
              "ticks": ""
             }
            },
            "type": "scatterternary"
           }
          ],
          "surface": [
           {
            "colorbar": {
             "outlinewidth": 0,
             "ticks": ""
            },
            "colorscale": [
             [
              0,
              "#0d0887"
             ],
             [
              0.1111111111111111,
              "#46039f"
             ],
             [
              0.2222222222222222,
              "#7201a8"
             ],
             [
              0.3333333333333333,
              "#9c179e"
             ],
             [
              0.4444444444444444,
              "#bd3786"
             ],
             [
              0.5555555555555556,
              "#d8576b"
             ],
             [
              0.6666666666666666,
              "#ed7953"
             ],
             [
              0.7777777777777778,
              "#fb9f3a"
             ],
             [
              0.8888888888888888,
              "#fdca26"
             ],
             [
              1,
              "#f0f921"
             ]
            ],
            "type": "surface"
           }
          ],
          "table": [
           {
            "cells": {
             "fill": {
              "color": "#EBF0F8"
             },
             "line": {
              "color": "white"
             }
            },
            "header": {
             "fill": {
              "color": "#C8D4E3"
             },
             "line": {
              "color": "white"
             }
            },
            "type": "table"
           }
          ]
         },
         "layout": {
          "annotationdefaults": {
           "arrowcolor": "#2a3f5f",
           "arrowhead": 0,
           "arrowwidth": 1
          },
          "autotypenumbers": "strict",
          "coloraxis": {
           "colorbar": {
            "outlinewidth": 0,
            "ticks": ""
           }
          },
          "colorscale": {
           "diverging": [
            [
             0,
             "#8e0152"
            ],
            [
             0.1,
             "#c51b7d"
            ],
            [
             0.2,
             "#de77ae"
            ],
            [
             0.3,
             "#f1b6da"
            ],
            [
             0.4,
             "#fde0ef"
            ],
            [
             0.5,
             "#f7f7f7"
            ],
            [
             0.6,
             "#e6f5d0"
            ],
            [
             0.7,
             "#b8e186"
            ],
            [
             0.8,
             "#7fbc41"
            ],
            [
             0.9,
             "#4d9221"
            ],
            [
             1,
             "#276419"
            ]
           ],
           "sequential": [
            [
             0,
             "#0d0887"
            ],
            [
             0.1111111111111111,
             "#46039f"
            ],
            [
             0.2222222222222222,
             "#7201a8"
            ],
            [
             0.3333333333333333,
             "#9c179e"
            ],
            [
             0.4444444444444444,
             "#bd3786"
            ],
            [
             0.5555555555555556,
             "#d8576b"
            ],
            [
             0.6666666666666666,
             "#ed7953"
            ],
            [
             0.7777777777777778,
             "#fb9f3a"
            ],
            [
             0.8888888888888888,
             "#fdca26"
            ],
            [
             1,
             "#f0f921"
            ]
           ],
           "sequentialminus": [
            [
             0,
             "#0d0887"
            ],
            [
             0.1111111111111111,
             "#46039f"
            ],
            [
             0.2222222222222222,
             "#7201a8"
            ],
            [
             0.3333333333333333,
             "#9c179e"
            ],
            [
             0.4444444444444444,
             "#bd3786"
            ],
            [
             0.5555555555555556,
             "#d8576b"
            ],
            [
             0.6666666666666666,
             "#ed7953"
            ],
            [
             0.7777777777777778,
             "#fb9f3a"
            ],
            [
             0.8888888888888888,
             "#fdca26"
            ],
            [
             1,
             "#f0f921"
            ]
           ]
          },
          "colorway": [
           "#636efa",
           "#EF553B",
           "#00cc96",
           "#ab63fa",
           "#FFA15A",
           "#19d3f3",
           "#FF6692",
           "#B6E880",
           "#FF97FF",
           "#FECB52"
          ],
          "font": {
           "color": "#2a3f5f"
          },
          "geo": {
           "bgcolor": "white",
           "lakecolor": "white",
           "landcolor": "#E5ECF6",
           "showlakes": true,
           "showland": true,
           "subunitcolor": "white"
          },
          "hoverlabel": {
           "align": "left"
          },
          "hovermode": "closest",
          "mapbox": {
           "style": "light"
          },
          "paper_bgcolor": "white",
          "plot_bgcolor": "#E5ECF6",
          "polar": {
           "angularaxis": {
            "gridcolor": "white",
            "linecolor": "white",
            "ticks": ""
           },
           "bgcolor": "#E5ECF6",
           "radialaxis": {
            "gridcolor": "white",
            "linecolor": "white",
            "ticks": ""
           }
          },
          "scene": {
           "xaxis": {
            "backgroundcolor": "#E5ECF6",
            "gridcolor": "white",
            "gridwidth": 2,
            "linecolor": "white",
            "showbackground": true,
            "ticks": "",
            "zerolinecolor": "white"
           },
           "yaxis": {
            "backgroundcolor": "#E5ECF6",
            "gridcolor": "white",
            "gridwidth": 2,
            "linecolor": "white",
            "showbackground": true,
            "ticks": "",
            "zerolinecolor": "white"
           },
           "zaxis": {
            "backgroundcolor": "#E5ECF6",
            "gridcolor": "white",
            "gridwidth": 2,
            "linecolor": "white",
            "showbackground": true,
            "ticks": "",
            "zerolinecolor": "white"
           }
          },
          "shapedefaults": {
           "line": {
            "color": "#2a3f5f"
           }
          },
          "ternary": {
           "aaxis": {
            "gridcolor": "white",
            "linecolor": "white",
            "ticks": ""
           },
           "baxis": {
            "gridcolor": "white",
            "linecolor": "white",
            "ticks": ""
           },
           "bgcolor": "#E5ECF6",
           "caxis": {
            "gridcolor": "white",
            "linecolor": "white",
            "ticks": ""
           }
          },
          "title": {
           "x": 0.05
          },
          "xaxis": {
           "automargin": true,
           "gridcolor": "white",
           "linecolor": "white",
           "ticks": "",
           "title": {
            "standoff": 15
           },
           "zerolinecolor": "white",
           "zerolinewidth": 2
          },
          "yaxis": {
           "automargin": true,
           "gridcolor": "white",
           "linecolor": "white",
           "ticks": "",
           "title": {
            "standoff": 15
           },
           "zerolinecolor": "white",
           "zerolinewidth": 2
          }
         }
        },
        "title": {
         "text": "Average Operational Cost by Ship Type"
        },
        "xaxis": {
         "anchor": "y",
         "domain": [
          0,
          1
         ],
         "tickangle": -45,
         "title": {
          "text": "Ship_Type"
         }
        },
        "yaxis": {
         "anchor": "x",
         "domain": [
          0,
          1
         ],
         "title": {
          "text": "Average Operational Cost (USD)"
         }
        }
       }
      }
     },
     "metadata": {},
     "output_type": "display_data"
    }
   ],
   "source": [
    "#Ship Type vs Average Operational Cost\n",
    "avg_operational_cost = df.groupby('Ship_Type')['Operational_Cost_USD'].mean().reset_index()\n",
    "\n",
    "\n",
    "fig = px.bar(avg_operational_cost, x='Ship_Type', y='Operational_Cost_USD',\n",
    "               title='Average Operational Cost by Ship Type',\n",
    "               labels={'Operational_Cost_USD': 'Average Operational Cost (USD)', 'Ship Type': 'Ship Type'},\n",
    "               color='Operational_Cost_USD', color_continuous_scale='Blues')\n",
    "\n",
    "fig.update_layout(xaxis_tickangle=-45)"
   ]
  },
  {
   "cell_type": "code",
   "execution_count": 6,
   "id": "1301b5df",
   "metadata": {},
   "outputs": [
    {
     "data": {
      "application/vnd.plotly.v1+json": {
       "config": {
        "plotlyServerURL": "https://plot.ly"
       },
       "data": [
        {
         "hovertemplate": "Cost/Revenue Type=Operational_Cost_USD<br>Route Type=%{x}<br>Average Value (USD)=%{y}<extra></extra>",
         "legendgroup": "Operational_Cost_USD",
         "marker": {
          "color": "#636efa",
          "pattern": {
           "shape": ""
          }
         },
         "name": "Operational_Cost_USD",
         "orientation": "v",
         "showlegend": true,
         "textposition": "auto",
         "type": "bar",
         "x": [
          "Coastal",
          "Long-haul",
          "Short-haul",
          "Transoceanic"
         ],
         "xaxis": "x",
         "y": {
          "bdata": "Kz0NiD1NDkErvH0ay1EPQWWxEhSycw9B1xCoF373D0E=",
          "dtype": "f8"
         },
         "yaxis": "y"
        },
        {
         "hovertemplate": "Cost/Revenue Type=Revenue_per_Voyage_USD<br>Route Type=%{x}<br>Average Value (USD)=%{y}<extra></extra>",
         "legendgroup": "Revenue_per_Voyage_USD",
         "marker": {
          "color": "#EF553B",
          "pattern": {
           "shape": ""
          }
         },
         "name": "Revenue_per_Voyage_USD",
         "orientation": "v",
         "showlegend": true,
         "textposition": "auto",
         "type": "bar",
         "x": [
          "Coastal",
          "Long-haul",
          "Short-haul",
          "Transoceanic"
         ],
         "xaxis": "x",
         "y": {
          "bdata": "ZRY9dWtZH0Gx6Dg84y0gQVgHHjkgECBBCRvOBWW0H0E=",
          "dtype": "f8"
         },
         "yaxis": "y"
        }
       ],
       "layout": {
        "barmode": "relative",
        "legend": {
         "title": {
          "text": "Cost/Revenue Type"
         },
         "tracegroupgap": 0
        },
        "template": {
         "data": {
          "bar": [
           {
            "error_x": {
             "color": "#2a3f5f"
            },
            "error_y": {
             "color": "#2a3f5f"
            },
            "marker": {
             "line": {
              "color": "#E5ECF6",
              "width": 0.5
             },
             "pattern": {
              "fillmode": "overlay",
              "size": 10,
              "solidity": 0.2
             }
            },
            "type": "bar"
           }
          ],
          "barpolar": [
           {
            "marker": {
             "line": {
              "color": "#E5ECF6",
              "width": 0.5
             },
             "pattern": {
              "fillmode": "overlay",
              "size": 10,
              "solidity": 0.2
             }
            },
            "type": "barpolar"
           }
          ],
          "carpet": [
           {
            "aaxis": {
             "endlinecolor": "#2a3f5f",
             "gridcolor": "white",
             "linecolor": "white",
             "minorgridcolor": "white",
             "startlinecolor": "#2a3f5f"
            },
            "baxis": {
             "endlinecolor": "#2a3f5f",
             "gridcolor": "white",
             "linecolor": "white",
             "minorgridcolor": "white",
             "startlinecolor": "#2a3f5f"
            },
            "type": "carpet"
           }
          ],
          "choropleth": [
           {
            "colorbar": {
             "outlinewidth": 0,
             "ticks": ""
            },
            "type": "choropleth"
           }
          ],
          "contour": [
           {
            "colorbar": {
             "outlinewidth": 0,
             "ticks": ""
            },
            "colorscale": [
             [
              0,
              "#0d0887"
             ],
             [
              0.1111111111111111,
              "#46039f"
             ],
             [
              0.2222222222222222,
              "#7201a8"
             ],
             [
              0.3333333333333333,
              "#9c179e"
             ],
             [
              0.4444444444444444,
              "#bd3786"
             ],
             [
              0.5555555555555556,
              "#d8576b"
             ],
             [
              0.6666666666666666,
              "#ed7953"
             ],
             [
              0.7777777777777778,
              "#fb9f3a"
             ],
             [
              0.8888888888888888,
              "#fdca26"
             ],
             [
              1,
              "#f0f921"
             ]
            ],
            "type": "contour"
           }
          ],
          "contourcarpet": [
           {
            "colorbar": {
             "outlinewidth": 0,
             "ticks": ""
            },
            "type": "contourcarpet"
           }
          ],
          "heatmap": [
           {
            "colorbar": {
             "outlinewidth": 0,
             "ticks": ""
            },
            "colorscale": [
             [
              0,
              "#0d0887"
             ],
             [
              0.1111111111111111,
              "#46039f"
             ],
             [
              0.2222222222222222,
              "#7201a8"
             ],
             [
              0.3333333333333333,
              "#9c179e"
             ],
             [
              0.4444444444444444,
              "#bd3786"
             ],
             [
              0.5555555555555556,
              "#d8576b"
             ],
             [
              0.6666666666666666,
              "#ed7953"
             ],
             [
              0.7777777777777778,
              "#fb9f3a"
             ],
             [
              0.8888888888888888,
              "#fdca26"
             ],
             [
              1,
              "#f0f921"
             ]
            ],
            "type": "heatmap"
           }
          ],
          "histogram": [
           {
            "marker": {
             "pattern": {
              "fillmode": "overlay",
              "size": 10,
              "solidity": 0.2
             }
            },
            "type": "histogram"
           }
          ],
          "histogram2d": [
           {
            "colorbar": {
             "outlinewidth": 0,
             "ticks": ""
            },
            "colorscale": [
             [
              0,
              "#0d0887"
             ],
             [
              0.1111111111111111,
              "#46039f"
             ],
             [
              0.2222222222222222,
              "#7201a8"
             ],
             [
              0.3333333333333333,
              "#9c179e"
             ],
             [
              0.4444444444444444,
              "#bd3786"
             ],
             [
              0.5555555555555556,
              "#d8576b"
             ],
             [
              0.6666666666666666,
              "#ed7953"
             ],
             [
              0.7777777777777778,
              "#fb9f3a"
             ],
             [
              0.8888888888888888,
              "#fdca26"
             ],
             [
              1,
              "#f0f921"
             ]
            ],
            "type": "histogram2d"
           }
          ],
          "histogram2dcontour": [
           {
            "colorbar": {
             "outlinewidth": 0,
             "ticks": ""
            },
            "colorscale": [
             [
              0,
              "#0d0887"
             ],
             [
              0.1111111111111111,
              "#46039f"
             ],
             [
              0.2222222222222222,
              "#7201a8"
             ],
             [
              0.3333333333333333,
              "#9c179e"
             ],
             [
              0.4444444444444444,
              "#bd3786"
             ],
             [
              0.5555555555555556,
              "#d8576b"
             ],
             [
              0.6666666666666666,
              "#ed7953"
             ],
             [
              0.7777777777777778,
              "#fb9f3a"
             ],
             [
              0.8888888888888888,
              "#fdca26"
             ],
             [
              1,
              "#f0f921"
             ]
            ],
            "type": "histogram2dcontour"
           }
          ],
          "mesh3d": [
           {
            "colorbar": {
             "outlinewidth": 0,
             "ticks": ""
            },
            "type": "mesh3d"
           }
          ],
          "parcoords": [
           {
            "line": {
             "colorbar": {
              "outlinewidth": 0,
              "ticks": ""
             }
            },
            "type": "parcoords"
           }
          ],
          "pie": [
           {
            "automargin": true,
            "type": "pie"
           }
          ],
          "scatter": [
           {
            "fillpattern": {
             "fillmode": "overlay",
             "size": 10,
             "solidity": 0.2
            },
            "type": "scatter"
           }
          ],
          "scatter3d": [
           {
            "line": {
             "colorbar": {
              "outlinewidth": 0,
              "ticks": ""
             }
            },
            "marker": {
             "colorbar": {
              "outlinewidth": 0,
              "ticks": ""
             }
            },
            "type": "scatter3d"
           }
          ],
          "scattercarpet": [
           {
            "marker": {
             "colorbar": {
              "outlinewidth": 0,
              "ticks": ""
             }
            },
            "type": "scattercarpet"
           }
          ],
          "scattergeo": [
           {
            "marker": {
             "colorbar": {
              "outlinewidth": 0,
              "ticks": ""
             }
            },
            "type": "scattergeo"
           }
          ],
          "scattergl": [
           {
            "marker": {
             "colorbar": {
              "outlinewidth": 0,
              "ticks": ""
             }
            },
            "type": "scattergl"
           }
          ],
          "scattermap": [
           {
            "marker": {
             "colorbar": {
              "outlinewidth": 0,
              "ticks": ""
             }
            },
            "type": "scattermap"
           }
          ],
          "scattermapbox": [
           {
            "marker": {
             "colorbar": {
              "outlinewidth": 0,
              "ticks": ""
             }
            },
            "type": "scattermapbox"
           }
          ],
          "scatterpolar": [
           {
            "marker": {
             "colorbar": {
              "outlinewidth": 0,
              "ticks": ""
             }
            },
            "type": "scatterpolar"
           }
          ],
          "scatterpolargl": [
           {
            "marker": {
             "colorbar": {
              "outlinewidth": 0,
              "ticks": ""
             }
            },
            "type": "scatterpolargl"
           }
          ],
          "scatterternary": [
           {
            "marker": {
             "colorbar": {
              "outlinewidth": 0,
              "ticks": ""
             }
            },
            "type": "scatterternary"
           }
          ],
          "surface": [
           {
            "colorbar": {
             "outlinewidth": 0,
             "ticks": ""
            },
            "colorscale": [
             [
              0,
              "#0d0887"
             ],
             [
              0.1111111111111111,
              "#46039f"
             ],
             [
              0.2222222222222222,
              "#7201a8"
             ],
             [
              0.3333333333333333,
              "#9c179e"
             ],
             [
              0.4444444444444444,
              "#bd3786"
             ],
             [
              0.5555555555555556,
              "#d8576b"
             ],
             [
              0.6666666666666666,
              "#ed7953"
             ],
             [
              0.7777777777777778,
              "#fb9f3a"
             ],
             [
              0.8888888888888888,
              "#fdca26"
             ],
             [
              1,
              "#f0f921"
             ]
            ],
            "type": "surface"
           }
          ],
          "table": [
           {
            "cells": {
             "fill": {
              "color": "#EBF0F8"
             },
             "line": {
              "color": "white"
             }
            },
            "header": {
             "fill": {
              "color": "#C8D4E3"
             },
             "line": {
              "color": "white"
             }
            },
            "type": "table"
           }
          ]
         },
         "layout": {
          "annotationdefaults": {
           "arrowcolor": "#2a3f5f",
           "arrowhead": 0,
           "arrowwidth": 1
          },
          "autotypenumbers": "strict",
          "coloraxis": {
           "colorbar": {
            "outlinewidth": 0,
            "ticks": ""
           }
          },
          "colorscale": {
           "diverging": [
            [
             0,
             "#8e0152"
            ],
            [
             0.1,
             "#c51b7d"
            ],
            [
             0.2,
             "#de77ae"
            ],
            [
             0.3,
             "#f1b6da"
            ],
            [
             0.4,
             "#fde0ef"
            ],
            [
             0.5,
             "#f7f7f7"
            ],
            [
             0.6,
             "#e6f5d0"
            ],
            [
             0.7,
             "#b8e186"
            ],
            [
             0.8,
             "#7fbc41"
            ],
            [
             0.9,
             "#4d9221"
            ],
            [
             1,
             "#276419"
            ]
           ],
           "sequential": [
            [
             0,
             "#0d0887"
            ],
            [
             0.1111111111111111,
             "#46039f"
            ],
            [
             0.2222222222222222,
             "#7201a8"
            ],
            [
             0.3333333333333333,
             "#9c179e"
            ],
            [
             0.4444444444444444,
             "#bd3786"
            ],
            [
             0.5555555555555556,
             "#d8576b"
            ],
            [
             0.6666666666666666,
             "#ed7953"
            ],
            [
             0.7777777777777778,
             "#fb9f3a"
            ],
            [
             0.8888888888888888,
             "#fdca26"
            ],
            [
             1,
             "#f0f921"
            ]
           ],
           "sequentialminus": [
            [
             0,
             "#0d0887"
            ],
            [
             0.1111111111111111,
             "#46039f"
            ],
            [
             0.2222222222222222,
             "#7201a8"
            ],
            [
             0.3333333333333333,
             "#9c179e"
            ],
            [
             0.4444444444444444,
             "#bd3786"
            ],
            [
             0.5555555555555556,
             "#d8576b"
            ],
            [
             0.6666666666666666,
             "#ed7953"
            ],
            [
             0.7777777777777778,
             "#fb9f3a"
            ],
            [
             0.8888888888888888,
             "#fdca26"
            ],
            [
             1,
             "#f0f921"
            ]
           ]
          },
          "colorway": [
           "#636efa",
           "#EF553B",
           "#00cc96",
           "#ab63fa",
           "#FFA15A",
           "#19d3f3",
           "#FF6692",
           "#B6E880",
           "#FF97FF",
           "#FECB52"
          ],
          "font": {
           "color": "#2a3f5f"
          },
          "geo": {
           "bgcolor": "white",
           "lakecolor": "white",
           "landcolor": "#E5ECF6",
           "showlakes": true,
           "showland": true,
           "subunitcolor": "white"
          },
          "hoverlabel": {
           "align": "left"
          },
          "hovermode": "closest",
          "mapbox": {
           "style": "light"
          },
          "paper_bgcolor": "white",
          "plot_bgcolor": "#E5ECF6",
          "polar": {
           "angularaxis": {
            "gridcolor": "white",
            "linecolor": "white",
            "ticks": ""
           },
           "bgcolor": "#E5ECF6",
           "radialaxis": {
            "gridcolor": "white",
            "linecolor": "white",
            "ticks": ""
           }
          },
          "scene": {
           "xaxis": {
            "backgroundcolor": "#E5ECF6",
            "gridcolor": "white",
            "gridwidth": 2,
            "linecolor": "white",
            "showbackground": true,
            "ticks": "",
            "zerolinecolor": "white"
           },
           "yaxis": {
            "backgroundcolor": "#E5ECF6",
            "gridcolor": "white",
            "gridwidth": 2,
            "linecolor": "white",
            "showbackground": true,
            "ticks": "",
            "zerolinecolor": "white"
           },
           "zaxis": {
            "backgroundcolor": "#E5ECF6",
            "gridcolor": "white",
            "gridwidth": 2,
            "linecolor": "white",
            "showbackground": true,
            "ticks": "",
            "zerolinecolor": "white"
           }
          },
          "shapedefaults": {
           "line": {
            "color": "#2a3f5f"
           }
          },
          "ternary": {
           "aaxis": {
            "gridcolor": "white",
            "linecolor": "white",
            "ticks": ""
           },
           "baxis": {
            "gridcolor": "white",
            "linecolor": "white",
            "ticks": ""
           },
           "bgcolor": "#E5ECF6",
           "caxis": {
            "gridcolor": "white",
            "linecolor": "white",
            "ticks": ""
           }
          },
          "title": {
           "x": 0.05
          },
          "xaxis": {
           "automargin": true,
           "gridcolor": "white",
           "linecolor": "white",
           "ticks": "",
           "title": {
            "standoff": 15
           },
           "zerolinecolor": "white",
           "zerolinewidth": 2
          },
          "yaxis": {
           "automargin": true,
           "gridcolor": "white",
           "linecolor": "white",
           "ticks": "",
           "title": {
            "standoff": 15
           },
           "zerolinecolor": "white",
           "zerolinewidth": 2
          }
         }
        },
        "title": {
         "text": "Average Operational Cost and Revenue by Route Type"
        },
        "xaxis": {
         "anchor": "y",
         "domain": [
          0,
          1
         ],
         "tickangle": -45,
         "title": {
          "text": "Route Type"
         }
        },
        "yaxis": {
         "anchor": "x",
         "domain": [
          0,
          1
         ],
         "title": {
          "text": "Average Value (USD)"
         }
        }
       }
      }
     },
     "metadata": {},
     "output_type": "display_data"
    }
   ],
   "source": [
    "# Route type vs Cost & Revenue \n",
    "\n",
    "grouped_data = df.groupby('Route_Type')[['Operational_Cost_USD','Revenue_per_Voyage_USD']].mean().reset_index()\n",
    "\n",
    "melted_data = grouped_data.melt(id_vars='Route_Type', value_vars=['Operational_Cost_USD', 'Revenue_per_Voyage_USD'],\n",
    "                                var_name='Cost/Revenue Type', value_name='Value')\n",
    "\n",
    "fig = px.bar(melted_data, x='Route_Type', y='Value', color='Cost/Revenue Type',\n",
    "                title='Average Operational Cost and Revenue by Route Type',\n",
    "                labels={'Value': 'Average Value (USD)', 'Route_Type': 'Route Type'})\n",
    "fig.update_layout(xaxis_tickangle=-45)\n",
    "fig.show()\n",
    " "
   ]
  },
  {
   "cell_type": "code",
   "execution_count": 7,
   "id": "b3bd4652",
   "metadata": {},
   "outputs": [
    {
     "data": {
      "application/vnd.plotly.v1+json": {
       "config": {
        "plotlyServerURL": "https://plot.ly"
       },
       "data": [
        {
         "alignmentgroup": "True",
         "hovertemplate": "Engine Type=%{x}<br>Operational Cost (USD)=%{y}<extra></extra>",
         "legendgroup": "Heavy Fuel Oil (HFO)",
         "marker": {
          "color": "#636efa"
         },
         "name": "Heavy Fuel Oil (HFO)",
         "notched": false,
         "offsetgroup": "Heavy Fuel Oil (HFO)",
         "orientation": "v",
         "showlegend": true,
         "type": "box",
         "x": [
          "Heavy Fuel Oil (HFO)",
          "Heavy Fuel Oil (HFO)",
          "Heavy Fuel Oil (HFO)",
          "Heavy Fuel Oil (HFO)",
          "Heavy Fuel Oil (HFO)",
          "Heavy Fuel Oil (HFO)",
          "Heavy Fuel Oil (HFO)",
          "Heavy Fuel Oil (HFO)",
          "Heavy Fuel Oil (HFO)",
          "Heavy Fuel Oil (HFO)",
          "Heavy Fuel Oil (HFO)",
          "Heavy Fuel Oil (HFO)",
          "Heavy Fuel Oil (HFO)",
          "Heavy Fuel Oil (HFO)",
          "Heavy Fuel Oil (HFO)",
          "Heavy Fuel Oil (HFO)",
          "Heavy Fuel Oil (HFO)",
          "Heavy Fuel Oil (HFO)",
          "Heavy Fuel Oil (HFO)",
          "Heavy Fuel Oil (HFO)",
          "Heavy Fuel Oil (HFO)",
          "Heavy Fuel Oil (HFO)",
          "Heavy Fuel Oil (HFO)",
          "Heavy Fuel Oil (HFO)",
          "Heavy Fuel Oil (HFO)",
          "Heavy Fuel Oil (HFO)",
          "Heavy Fuel Oil (HFO)",
          "Heavy Fuel Oil (HFO)",
          "Heavy Fuel Oil (HFO)",
          "Heavy Fuel Oil (HFO)",
          "Heavy Fuel Oil (HFO)",
          "Heavy Fuel Oil (HFO)",
          "Heavy Fuel Oil (HFO)",
          "Heavy Fuel Oil (HFO)",
          "Heavy Fuel Oil (HFO)",
          "Heavy Fuel Oil (HFO)",
          "Heavy Fuel Oil (HFO)",
          "Heavy Fuel Oil (HFO)",
          "Heavy Fuel Oil (HFO)",
          "Heavy Fuel Oil (HFO)",
          "Heavy Fuel Oil (HFO)",
          "Heavy Fuel Oil (HFO)",
          "Heavy Fuel Oil (HFO)",
          "Heavy Fuel Oil (HFO)",
          "Heavy Fuel Oil (HFO)",
          "Heavy Fuel Oil (HFO)",
          "Heavy Fuel Oil (HFO)",
          "Heavy Fuel Oil (HFO)",
          "Heavy Fuel Oil (HFO)",
          "Heavy Fuel Oil (HFO)",
          "Heavy Fuel Oil (HFO)",
          "Heavy Fuel Oil (HFO)",
          "Heavy Fuel Oil (HFO)",
          "Heavy Fuel Oil (HFO)",
          "Heavy Fuel Oil (HFO)",
          "Heavy Fuel Oil (HFO)",
          "Heavy Fuel Oil (HFO)",
          "Heavy Fuel Oil (HFO)",
          "Heavy Fuel Oil (HFO)",
          "Heavy Fuel Oil (HFO)",
          "Heavy Fuel Oil (HFO)",
          "Heavy Fuel Oil (HFO)",
          "Heavy Fuel Oil (HFO)",
          "Heavy Fuel Oil (HFO)",
          "Heavy Fuel Oil (HFO)",
          "Heavy Fuel Oil (HFO)",
          "Heavy Fuel Oil (HFO)",
          "Heavy Fuel Oil (HFO)",
          "Heavy Fuel Oil (HFO)",
          "Heavy Fuel Oil (HFO)",
          "Heavy Fuel Oil (HFO)",
          "Heavy Fuel Oil (HFO)",
          "Heavy Fuel Oil (HFO)",
          "Heavy Fuel Oil (HFO)",
          "Heavy Fuel Oil (HFO)",
          "Heavy Fuel Oil (HFO)",
          "Heavy Fuel Oil (HFO)",
          "Heavy Fuel Oil (HFO)",
          "Heavy Fuel Oil (HFO)",
          "Heavy Fuel Oil (HFO)",
          "Heavy Fuel Oil (HFO)",
          "Heavy Fuel Oil (HFO)",
          "Heavy Fuel Oil (HFO)",
          "Heavy Fuel Oil (HFO)",
          "Heavy Fuel Oil (HFO)",
          "Heavy Fuel Oil (HFO)",
          "Heavy Fuel Oil (HFO)",
          "Heavy Fuel Oil (HFO)",
          "Heavy Fuel Oil (HFO)",
          "Heavy Fuel Oil (HFO)",
          "Heavy Fuel Oil (HFO)",
          "Heavy Fuel Oil (HFO)",
          "Heavy Fuel Oil (HFO)",
          "Heavy Fuel Oil (HFO)",
          "Heavy Fuel Oil (HFO)",
          "Heavy Fuel Oil (HFO)",
          "Heavy Fuel Oil (HFO)",
          "Heavy Fuel Oil (HFO)",
          "Heavy Fuel Oil (HFO)",
          "Heavy Fuel Oil (HFO)",
          "Heavy Fuel Oil (HFO)",
          "Heavy Fuel Oil (HFO)",
          "Heavy Fuel Oil (HFO)",
          "Heavy Fuel Oil (HFO)",
          "Heavy Fuel Oil (HFO)",
          "Heavy Fuel Oil (HFO)",
          "Heavy Fuel Oil (HFO)",
          "Heavy Fuel Oil (HFO)",
          "Heavy Fuel Oil (HFO)",
          "Heavy Fuel Oil (HFO)",
          "Heavy Fuel Oil (HFO)",
          "Heavy Fuel Oil (HFO)",
          "Heavy Fuel Oil (HFO)",
          "Heavy Fuel Oil (HFO)",
          "Heavy Fuel Oil (HFO)",
          "Heavy Fuel Oil (HFO)",
          "Heavy Fuel Oil (HFO)",
          "Heavy Fuel Oil (HFO)",
          "Heavy Fuel Oil (HFO)",
          "Heavy Fuel Oil (HFO)",
          "Heavy Fuel Oil (HFO)",
          "Heavy Fuel Oil (HFO)",
          "Heavy Fuel Oil (HFO)",
          "Heavy Fuel Oil (HFO)",
          "Heavy Fuel Oil (HFO)",
          "Heavy Fuel Oil (HFO)",
          "Heavy Fuel Oil (HFO)",
          "Heavy Fuel Oil (HFO)",
          "Heavy Fuel Oil (HFO)",
          "Heavy Fuel Oil (HFO)",
          "Heavy Fuel Oil (HFO)",
          "Heavy Fuel Oil (HFO)",
          "Heavy Fuel Oil (HFO)",
          "Heavy Fuel Oil (HFO)",
          "Heavy Fuel Oil (HFO)",
          "Heavy Fuel Oil (HFO)",
          "Heavy Fuel Oil (HFO)",
          "Heavy Fuel Oil (HFO)",
          "Heavy Fuel Oil (HFO)",
          "Heavy Fuel Oil (HFO)",
          "Heavy Fuel Oil (HFO)",
          "Heavy Fuel Oil (HFO)",
          "Heavy Fuel Oil (HFO)",
          "Heavy Fuel Oil (HFO)",
          "Heavy Fuel Oil (HFO)",
          "Heavy Fuel Oil (HFO)",
          "Heavy Fuel Oil (HFO)",
          "Heavy Fuel Oil (HFO)",
          "Heavy Fuel Oil (HFO)",
          "Heavy Fuel Oil (HFO)",
          "Heavy Fuel Oil (HFO)",
          "Heavy Fuel Oil (HFO)",
          "Heavy Fuel Oil (HFO)",
          "Heavy Fuel Oil (HFO)",
          "Heavy Fuel Oil (HFO)",
          "Heavy Fuel Oil (HFO)",
          "Heavy Fuel Oil (HFO)",
          "Heavy Fuel Oil (HFO)",
          "Heavy Fuel Oil (HFO)",
          "Heavy Fuel Oil (HFO)",
          "Heavy Fuel Oil (HFO)",
          "Heavy Fuel Oil (HFO)",
          "Heavy Fuel Oil (HFO)",
          "Heavy Fuel Oil (HFO)",
          "Heavy Fuel Oil (HFO)",
          "Heavy Fuel Oil (HFO)",
          "Heavy Fuel Oil (HFO)",
          "Heavy Fuel Oil (HFO)",
          "Heavy Fuel Oil (HFO)",
          "Heavy Fuel Oil (HFO)",
          "Heavy Fuel Oil (HFO)",
          "Heavy Fuel Oil (HFO)",
          "Heavy Fuel Oil (HFO)",
          "Heavy Fuel Oil (HFO)",
          "Heavy Fuel Oil (HFO)",
          "Heavy Fuel Oil (HFO)",
          "Heavy Fuel Oil (HFO)",
          "Heavy Fuel Oil (HFO)",
          "Heavy Fuel Oil (HFO)",
          "Heavy Fuel Oil (HFO)",
          "Heavy Fuel Oil (HFO)",
          "Heavy Fuel Oil (HFO)",
          "Heavy Fuel Oil (HFO)",
          "Heavy Fuel Oil (HFO)",
          "Heavy Fuel Oil (HFO)",
          "Heavy Fuel Oil (HFO)",
          "Heavy Fuel Oil (HFO)",
          "Heavy Fuel Oil (HFO)",
          "Heavy Fuel Oil (HFO)",
          "Heavy Fuel Oil (HFO)",
          "Heavy Fuel Oil (HFO)",
          "Heavy Fuel Oil (HFO)",
          "Heavy Fuel Oil (HFO)",
          "Heavy Fuel Oil (HFO)",
          "Heavy Fuel Oil (HFO)",
          "Heavy Fuel Oil (HFO)",
          "Heavy Fuel Oil (HFO)",
          "Heavy Fuel Oil (HFO)",
          "Heavy Fuel Oil (HFO)",
          "Heavy Fuel Oil (HFO)",
          "Heavy Fuel Oil (HFO)",
          "Heavy Fuel Oil (HFO)",
          "Heavy Fuel Oil (HFO)",
          "Heavy Fuel Oil (HFO)",
          "Heavy Fuel Oil (HFO)",
          "Heavy Fuel Oil (HFO)",
          "Heavy Fuel Oil (HFO)",
          "Heavy Fuel Oil (HFO)",
          "Heavy Fuel Oil (HFO)",
          "Heavy Fuel Oil (HFO)",
          "Heavy Fuel Oil (HFO)",
          "Heavy Fuel Oil (HFO)",
          "Heavy Fuel Oil (HFO)",
          "Heavy Fuel Oil (HFO)",
          "Heavy Fuel Oil (HFO)",
          "Heavy Fuel Oil (HFO)",
          "Heavy Fuel Oil (HFO)",
          "Heavy Fuel Oil (HFO)",
          "Heavy Fuel Oil (HFO)",
          "Heavy Fuel Oil (HFO)",
          "Heavy Fuel Oil (HFO)",
          "Heavy Fuel Oil (HFO)",
          "Heavy Fuel Oil (HFO)",
          "Heavy Fuel Oil (HFO)",
          "Heavy Fuel Oil (HFO)",
          "Heavy Fuel Oil (HFO)",
          "Heavy Fuel Oil (HFO)",
          "Heavy Fuel Oil (HFO)",
          "Heavy Fuel Oil (HFO)",
          "Heavy Fuel Oil (HFO)",
          "Heavy Fuel Oil (HFO)",
          "Heavy Fuel Oil (HFO)",
          "Heavy Fuel Oil (HFO)",
          "Heavy Fuel Oil (HFO)",
          "Heavy Fuel Oil (HFO)",
          "Heavy Fuel Oil (HFO)",
          "Heavy Fuel Oil (HFO)",
          "Heavy Fuel Oil (HFO)",
          "Heavy Fuel Oil (HFO)",
          "Heavy Fuel Oil (HFO)",
          "Heavy Fuel Oil (HFO)",
          "Heavy Fuel Oil (HFO)",
          "Heavy Fuel Oil (HFO)",
          "Heavy Fuel Oil (HFO)",
          "Heavy Fuel Oil (HFO)",
          "Heavy Fuel Oil (HFO)",
          "Heavy Fuel Oil (HFO)",
          "Heavy Fuel Oil (HFO)",
          "Heavy Fuel Oil (HFO)",
          "Heavy Fuel Oil (HFO)",
          "Heavy Fuel Oil (HFO)",
          "Heavy Fuel Oil (HFO)",
          "Heavy Fuel Oil (HFO)",
          "Heavy Fuel Oil (HFO)",
          "Heavy Fuel Oil (HFO)",
          "Heavy Fuel Oil (HFO)",
          "Heavy Fuel Oil (HFO)",
          "Heavy Fuel Oil (HFO)",
          "Heavy Fuel Oil (HFO)",
          "Heavy Fuel Oil (HFO)",
          "Heavy Fuel Oil (HFO)",
          "Heavy Fuel Oil (HFO)",
          "Heavy Fuel Oil (HFO)",
          "Heavy Fuel Oil (HFO)",
          "Heavy Fuel Oil (HFO)",
          "Heavy Fuel Oil (HFO)",
          "Heavy Fuel Oil (HFO)",
          "Heavy Fuel Oil (HFO)",
          "Heavy Fuel Oil (HFO)",
          "Heavy Fuel Oil (HFO)",
          "Heavy Fuel Oil (HFO)",
          "Heavy Fuel Oil (HFO)",
          "Heavy Fuel Oil (HFO)",
          "Heavy Fuel Oil (HFO)",
          "Heavy Fuel Oil (HFO)",
          "Heavy Fuel Oil (HFO)",
          "Heavy Fuel Oil (HFO)",
          "Heavy Fuel Oil (HFO)",
          "Heavy Fuel Oil (HFO)",
          "Heavy Fuel Oil (HFO)",
          "Heavy Fuel Oil (HFO)",
          "Heavy Fuel Oil (HFO)",
          "Heavy Fuel Oil (HFO)",
          "Heavy Fuel Oil (HFO)",
          "Heavy Fuel Oil (HFO)",
          "Heavy Fuel Oil (HFO)",
          "Heavy Fuel Oil (HFO)",
          "Heavy Fuel Oil (HFO)",
          "Heavy Fuel Oil (HFO)",
          "Heavy Fuel Oil (HFO)",
          "Heavy Fuel Oil (HFO)",
          "Heavy Fuel Oil (HFO)",
          "Heavy Fuel Oil (HFO)",
          "Heavy Fuel Oil (HFO)",
          "Heavy Fuel Oil (HFO)",
          "Heavy Fuel Oil (HFO)",
          "Heavy Fuel Oil (HFO)",
          "Heavy Fuel Oil (HFO)",
          "Heavy Fuel Oil (HFO)",
          "Heavy Fuel Oil (HFO)",
          "Heavy Fuel Oil (HFO)",
          "Heavy Fuel Oil (HFO)",
          "Heavy Fuel Oil (HFO)",
          "Heavy Fuel Oil (HFO)",
          "Heavy Fuel Oil (HFO)",
          "Heavy Fuel Oil (HFO)",
          "Heavy Fuel Oil (HFO)",
          "Heavy Fuel Oil (HFO)",
          "Heavy Fuel Oil (HFO)",
          "Heavy Fuel Oil (HFO)",
          "Heavy Fuel Oil (HFO)",
          "Heavy Fuel Oil (HFO)",
          "Heavy Fuel Oil (HFO)",
          "Heavy Fuel Oil (HFO)",
          "Heavy Fuel Oil (HFO)",
          "Heavy Fuel Oil (HFO)",
          "Heavy Fuel Oil (HFO)",
          "Heavy Fuel Oil (HFO)",
          "Heavy Fuel Oil (HFO)",
          "Heavy Fuel Oil (HFO)",
          "Heavy Fuel Oil (HFO)",
          "Heavy Fuel Oil (HFO)",
          "Heavy Fuel Oil (HFO)",
          "Heavy Fuel Oil (HFO)",
          "Heavy Fuel Oil (HFO)",
          "Heavy Fuel Oil (HFO)",
          "Heavy Fuel Oil (HFO)",
          "Heavy Fuel Oil (HFO)",
          "Heavy Fuel Oil (HFO)",
          "Heavy Fuel Oil (HFO)",
          "Heavy Fuel Oil (HFO)",
          "Heavy Fuel Oil (HFO)",
          "Heavy Fuel Oil (HFO)",
          "Heavy Fuel Oil (HFO)",
          "Heavy Fuel Oil (HFO)",
          "Heavy Fuel Oil (HFO)",
          "Heavy Fuel Oil (HFO)",
          "Heavy Fuel Oil (HFO)",
          "Heavy Fuel Oil (HFO)",
          "Heavy Fuel Oil (HFO)",
          "Heavy Fuel Oil (HFO)",
          "Heavy Fuel Oil (HFO)",
          "Heavy Fuel Oil (HFO)",
          "Heavy Fuel Oil (HFO)",
          "Heavy Fuel Oil (HFO)",
          "Heavy Fuel Oil (HFO)",
          "Heavy Fuel Oil (HFO)",
          "Heavy Fuel Oil (HFO)",
          "Heavy Fuel Oil (HFO)",
          "Heavy Fuel Oil (HFO)",
          "Heavy Fuel Oil (HFO)",
          "Heavy Fuel Oil (HFO)",
          "Heavy Fuel Oil (HFO)",
          "Heavy Fuel Oil (HFO)",
          "Heavy Fuel Oil (HFO)",
          "Heavy Fuel Oil (HFO)",
          "Heavy Fuel Oil (HFO)",
          "Heavy Fuel Oil (HFO)",
          "Heavy Fuel Oil (HFO)",
          "Heavy Fuel Oil (HFO)",
          "Heavy Fuel Oil (HFO)",
          "Heavy Fuel Oil (HFO)",
          "Heavy Fuel Oil (HFO)",
          "Heavy Fuel Oil (HFO)",
          "Heavy Fuel Oil (HFO)",
          "Heavy Fuel Oil (HFO)",
          "Heavy Fuel Oil (HFO)",
          "Heavy Fuel Oil (HFO)",
          "Heavy Fuel Oil (HFO)",
          "Heavy Fuel Oil (HFO)",
          "Heavy Fuel Oil (HFO)",
          "Heavy Fuel Oil (HFO)",
          "Heavy Fuel Oil (HFO)",
          "Heavy Fuel Oil (HFO)",
          "Heavy Fuel Oil (HFO)",
          "Heavy Fuel Oil (HFO)",
          "Heavy Fuel Oil (HFO)",
          "Heavy Fuel Oil (HFO)",
          "Heavy Fuel Oil (HFO)",
          "Heavy Fuel Oil (HFO)",
          "Heavy Fuel Oil (HFO)",
          "Heavy Fuel Oil (HFO)",
          "Heavy Fuel Oil (HFO)",
          "Heavy Fuel Oil (HFO)",
          "Heavy Fuel Oil (HFO)",
          "Heavy Fuel Oil (HFO)",
          "Heavy Fuel Oil (HFO)",
          "Heavy Fuel Oil (HFO)",
          "Heavy Fuel Oil (HFO)",
          "Heavy Fuel Oil (HFO)",
          "Heavy Fuel Oil (HFO)",
          "Heavy Fuel Oil (HFO)",
          "Heavy Fuel Oil (HFO)",
          "Heavy Fuel Oil (HFO)",
          "Heavy Fuel Oil (HFO)",
          "Heavy Fuel Oil (HFO)",
          "Heavy Fuel Oil (HFO)",
          "Heavy Fuel Oil (HFO)",
          "Heavy Fuel Oil (HFO)",
          "Heavy Fuel Oil (HFO)",
          "Heavy Fuel Oil (HFO)",
          "Heavy Fuel Oil (HFO)",
          "Heavy Fuel Oil (HFO)",
          "Heavy Fuel Oil (HFO)",
          "Heavy Fuel Oil (HFO)",
          "Heavy Fuel Oil (HFO)",
          "Heavy Fuel Oil (HFO)",
          "Heavy Fuel Oil (HFO)",
          "Heavy Fuel Oil (HFO)",
          "Heavy Fuel Oil (HFO)",
          "Heavy Fuel Oil (HFO)",
          "Heavy Fuel Oil (HFO)",
          "Heavy Fuel Oil (HFO)",
          "Heavy Fuel Oil (HFO)",
          "Heavy Fuel Oil (HFO)",
          "Heavy Fuel Oil (HFO)",
          "Heavy Fuel Oil (HFO)",
          "Heavy Fuel Oil (HFO)",
          "Heavy Fuel Oil (HFO)",
          "Heavy Fuel Oil (HFO)",
          "Heavy Fuel Oil (HFO)",
          "Heavy Fuel Oil (HFO)",
          "Heavy Fuel Oil (HFO)",
          "Heavy Fuel Oil (HFO)",
          "Heavy Fuel Oil (HFO)",
          "Heavy Fuel Oil (HFO)",
          "Heavy Fuel Oil (HFO)",
          "Heavy Fuel Oil (HFO)",
          "Heavy Fuel Oil (HFO)",
          "Heavy Fuel Oil (HFO)",
          "Heavy Fuel Oil (HFO)",
          "Heavy Fuel Oil (HFO)",
          "Heavy Fuel Oil (HFO)",
          "Heavy Fuel Oil (HFO)",
          "Heavy Fuel Oil (HFO)",
          "Heavy Fuel Oil (HFO)",
          "Heavy Fuel Oil (HFO)",
          "Heavy Fuel Oil (HFO)",
          "Heavy Fuel Oil (HFO)",
          "Heavy Fuel Oil (HFO)",
          "Heavy Fuel Oil (HFO)",
          "Heavy Fuel Oil (HFO)",
          "Heavy Fuel Oil (HFO)",
          "Heavy Fuel Oil (HFO)",
          "Heavy Fuel Oil (HFO)",
          "Heavy Fuel Oil (HFO)",
          "Heavy Fuel Oil (HFO)",
          "Heavy Fuel Oil (HFO)",
          "Heavy Fuel Oil (HFO)",
          "Heavy Fuel Oil (HFO)",
          "Heavy Fuel Oil (HFO)",
          "Heavy Fuel Oil (HFO)",
          "Heavy Fuel Oil (HFO)",
          "Heavy Fuel Oil (HFO)",
          "Heavy Fuel Oil (HFO)",
          "Heavy Fuel Oil (HFO)",
          "Heavy Fuel Oil (HFO)",
          "Heavy Fuel Oil (HFO)",
          "Heavy Fuel Oil (HFO)",
          "Heavy Fuel Oil (HFO)",
          "Heavy Fuel Oil (HFO)",
          "Heavy Fuel Oil (HFO)",
          "Heavy Fuel Oil (HFO)",
          "Heavy Fuel Oil (HFO)",
          "Heavy Fuel Oil (HFO)",
          "Heavy Fuel Oil (HFO)",
          "Heavy Fuel Oil (HFO)",
          "Heavy Fuel Oil (HFO)",
          "Heavy Fuel Oil (HFO)",
          "Heavy Fuel Oil (HFO)",
          "Heavy Fuel Oil (HFO)",
          "Heavy Fuel Oil (HFO)",
          "Heavy Fuel Oil (HFO)",
          "Heavy Fuel Oil (HFO)",
          "Heavy Fuel Oil (HFO)",
          "Heavy Fuel Oil (HFO)",
          "Heavy Fuel Oil (HFO)",
          "Heavy Fuel Oil (HFO)",
          "Heavy Fuel Oil (HFO)",
          "Heavy Fuel Oil (HFO)",
          "Heavy Fuel Oil (HFO)",
          "Heavy Fuel Oil (HFO)",
          "Heavy Fuel Oil (HFO)",
          "Heavy Fuel Oil (HFO)",
          "Heavy Fuel Oil (HFO)",
          "Heavy Fuel Oil (HFO)",
          "Heavy Fuel Oil (HFO)",
          "Heavy Fuel Oil (HFO)",
          "Heavy Fuel Oil (HFO)",
          "Heavy Fuel Oil (HFO)",
          "Heavy Fuel Oil (HFO)",
          "Heavy Fuel Oil (HFO)",
          "Heavy Fuel Oil (HFO)",
          "Heavy Fuel Oil (HFO)",
          "Heavy Fuel Oil (HFO)",
          "Heavy Fuel Oil (HFO)",
          "Heavy Fuel Oil (HFO)",
          "Heavy Fuel Oil (HFO)",
          "Heavy Fuel Oil (HFO)",
          "Heavy Fuel Oil (HFO)",
          "Heavy Fuel Oil (HFO)",
          "Heavy Fuel Oil (HFO)",
          "Heavy Fuel Oil (HFO)",
          "Heavy Fuel Oil (HFO)",
          "Heavy Fuel Oil (HFO)",
          "Heavy Fuel Oil (HFO)",
          "Heavy Fuel Oil (HFO)",
          "Heavy Fuel Oil (HFO)",
          "Heavy Fuel Oil (HFO)",
          "Heavy Fuel Oil (HFO)",
          "Heavy Fuel Oil (HFO)",
          "Heavy Fuel Oil (HFO)",
          "Heavy Fuel Oil (HFO)",
          "Heavy Fuel Oil (HFO)",
          "Heavy Fuel Oil (HFO)",
          "Heavy Fuel Oil (HFO)",
          "Heavy Fuel Oil (HFO)",
          "Heavy Fuel Oil (HFO)",
          "Heavy Fuel Oil (HFO)",
          "Heavy Fuel Oil (HFO)",
          "Heavy Fuel Oil (HFO)",
          "Heavy Fuel Oil (HFO)",
          "Heavy Fuel Oil (HFO)",
          "Heavy Fuel Oil (HFO)",
          "Heavy Fuel Oil (HFO)",
          "Heavy Fuel Oil (HFO)",
          "Heavy Fuel Oil (HFO)",
          "Heavy Fuel Oil (HFO)",
          "Heavy Fuel Oil (HFO)",
          "Heavy Fuel Oil (HFO)",
          "Heavy Fuel Oil (HFO)",
          "Heavy Fuel Oil (HFO)",
          "Heavy Fuel Oil (HFO)",
          "Heavy Fuel Oil (HFO)",
          "Heavy Fuel Oil (HFO)",
          "Heavy Fuel Oil (HFO)",
          "Heavy Fuel Oil (HFO)",
          "Heavy Fuel Oil (HFO)",
          "Heavy Fuel Oil (HFO)",
          "Heavy Fuel Oil (HFO)",
          "Heavy Fuel Oil (HFO)",
          "Heavy Fuel Oil (HFO)",
          "Heavy Fuel Oil (HFO)",
          "Heavy Fuel Oil (HFO)",
          "Heavy Fuel Oil (HFO)",
          "Heavy Fuel Oil (HFO)",
          "Heavy Fuel Oil (HFO)",
          "Heavy Fuel Oil (HFO)",
          "Heavy Fuel Oil (HFO)",
          "Heavy Fuel Oil (HFO)",
          "Heavy Fuel Oil (HFO)",
          "Heavy Fuel Oil (HFO)",
          "Heavy Fuel Oil (HFO)",
          "Heavy Fuel Oil (HFO)",
          "Heavy Fuel Oil (HFO)",
          "Heavy Fuel Oil (HFO)",
          "Heavy Fuel Oil (HFO)",
          "Heavy Fuel Oil (HFO)",
          "Heavy Fuel Oil (HFO)",
          "Heavy Fuel Oil (HFO)",
          "Heavy Fuel Oil (HFO)",
          "Heavy Fuel Oil (HFO)",
          "Heavy Fuel Oil (HFO)",
          "Heavy Fuel Oil (HFO)",
          "Heavy Fuel Oil (HFO)",
          "Heavy Fuel Oil (HFO)",
          "Heavy Fuel Oil (HFO)",
          "Heavy Fuel Oil (HFO)",
          "Heavy Fuel Oil (HFO)",
          "Heavy Fuel Oil (HFO)",
          "Heavy Fuel Oil (HFO)",
          "Heavy Fuel Oil (HFO)",
          "Heavy Fuel Oil (HFO)",
          "Heavy Fuel Oil (HFO)",
          "Heavy Fuel Oil (HFO)",
          "Heavy Fuel Oil (HFO)",
          "Heavy Fuel Oil (HFO)",
          "Heavy Fuel Oil (HFO)",
          "Heavy Fuel Oil (HFO)",
          "Heavy Fuel Oil (HFO)",
          "Heavy Fuel Oil (HFO)",
          "Heavy Fuel Oil (HFO)",
          "Heavy Fuel Oil (HFO)",
          "Heavy Fuel Oil (HFO)",
          "Heavy Fuel Oil (HFO)",
          "Heavy Fuel Oil (HFO)",
          "Heavy Fuel Oil (HFO)",
          "Heavy Fuel Oil (HFO)",
          "Heavy Fuel Oil (HFO)",
          "Heavy Fuel Oil (HFO)",
          "Heavy Fuel Oil (HFO)",
          "Heavy Fuel Oil (HFO)",
          "Heavy Fuel Oil (HFO)",
          "Heavy Fuel Oil (HFO)",
          "Heavy Fuel Oil (HFO)",
          "Heavy Fuel Oil (HFO)",
          "Heavy Fuel Oil (HFO)",
          "Heavy Fuel Oil (HFO)",
          "Heavy Fuel Oil (HFO)",
          "Heavy Fuel Oil (HFO)",
          "Heavy Fuel Oil (HFO)",
          "Heavy Fuel Oil (HFO)",
          "Heavy Fuel Oil (HFO)",
          "Heavy Fuel Oil (HFO)",
          "Heavy Fuel Oil (HFO)",
          "Heavy Fuel Oil (HFO)",
          "Heavy Fuel Oil (HFO)",
          "Heavy Fuel Oil (HFO)",
          "Heavy Fuel Oil (HFO)",
          "Heavy Fuel Oil (HFO)",
          "Heavy Fuel Oil (HFO)",
          "Heavy Fuel Oil (HFO)",
          "Heavy Fuel Oil (HFO)",
          "Heavy Fuel Oil (HFO)",
          "Heavy Fuel Oil (HFO)",
          "Heavy Fuel Oil (HFO)",
          "Heavy Fuel Oil (HFO)",
          "Heavy Fuel Oil (HFO)",
          "Heavy Fuel Oil (HFO)",
          "Heavy Fuel Oil (HFO)",
          "Heavy Fuel Oil (HFO)",
          "Heavy Fuel Oil (HFO)",
          "Heavy Fuel Oil (HFO)",
          "Heavy Fuel Oil (HFO)",
          "Heavy Fuel Oil (HFO)",
          "Heavy Fuel Oil (HFO)",
          "Heavy Fuel Oil (HFO)",
          "Heavy Fuel Oil (HFO)",
          "Heavy Fuel Oil (HFO)",
          "Heavy Fuel Oil (HFO)",
          "Heavy Fuel Oil (HFO)",
          "Heavy Fuel Oil (HFO)",
          "Heavy Fuel Oil (HFO)",
          "Heavy Fuel Oil (HFO)",
          "Heavy Fuel Oil (HFO)",
          "Heavy Fuel Oil (HFO)",
          "Heavy Fuel Oil (HFO)",
          "Heavy Fuel Oil (HFO)",
          "Heavy Fuel Oil (HFO)",
          "Heavy Fuel Oil (HFO)",
          "Heavy Fuel Oil (HFO)",
          "Heavy Fuel Oil (HFO)",
          "Heavy Fuel Oil (HFO)",
          "Heavy Fuel Oil (HFO)",
          "Heavy Fuel Oil (HFO)",
          "Heavy Fuel Oil (HFO)",
          "Heavy Fuel Oil (HFO)",
          "Heavy Fuel Oil (HFO)",
          "Heavy Fuel Oil (HFO)",
          "Heavy Fuel Oil (HFO)",
          "Heavy Fuel Oil (HFO)",
          "Heavy Fuel Oil (HFO)",
          "Heavy Fuel Oil (HFO)",
          "Heavy Fuel Oil (HFO)",
          "Heavy Fuel Oil (HFO)",
          "Heavy Fuel Oil (HFO)",
          "Heavy Fuel Oil (HFO)",
          "Heavy Fuel Oil (HFO)",
          "Heavy Fuel Oil (HFO)",
          "Heavy Fuel Oil (HFO)",
          "Heavy Fuel Oil (HFO)",
          "Heavy Fuel Oil (HFO)",
          "Heavy Fuel Oil (HFO)",
          "Heavy Fuel Oil (HFO)",
          "Heavy Fuel Oil (HFO)",
          "Heavy Fuel Oil (HFO)",
          "Heavy Fuel Oil (HFO)",
          "Heavy Fuel Oil (HFO)",
          "Heavy Fuel Oil (HFO)",
          "Heavy Fuel Oil (HFO)",
          "Heavy Fuel Oil (HFO)",
          "Heavy Fuel Oil (HFO)",
          "Heavy Fuel Oil (HFO)",
          "Heavy Fuel Oil (HFO)",
          "Heavy Fuel Oil (HFO)",
          "Heavy Fuel Oil (HFO)",
          "Heavy Fuel Oil (HFO)",
          "Heavy Fuel Oil (HFO)",
          "Heavy Fuel Oil (HFO)",
          "Heavy Fuel Oil (HFO)",
          "Heavy Fuel Oil (HFO)",
          "Heavy Fuel Oil (HFO)",
          "Heavy Fuel Oil (HFO)",
          "Heavy Fuel Oil (HFO)",
          "Heavy Fuel Oil (HFO)",
          "Heavy Fuel Oil (HFO)",
          "Heavy Fuel Oil (HFO)",
          "Heavy Fuel Oil (HFO)",
          "Heavy Fuel Oil (HFO)",
          "Heavy Fuel Oil (HFO)",
          "Heavy Fuel Oil (HFO)",
          "Heavy Fuel Oil (HFO)",
          "Heavy Fuel Oil (HFO)",
          "Heavy Fuel Oil (HFO)",
          "Heavy Fuel Oil (HFO)",
          "Heavy Fuel Oil (HFO)",
          "Heavy Fuel Oil (HFO)",
          "Heavy Fuel Oil (HFO)",
          "Heavy Fuel Oil (HFO)",
          "Heavy Fuel Oil (HFO)",
          "Heavy Fuel Oil (HFO)",
          "Heavy Fuel Oil (HFO)",
          "Heavy Fuel Oil (HFO)",
          "Heavy Fuel Oil (HFO)",
          "Heavy Fuel Oil (HFO)",
          "Heavy Fuel Oil (HFO)",
          "Heavy Fuel Oil (HFO)",
          "Heavy Fuel Oil (HFO)",
          "Heavy Fuel Oil (HFO)",
          "Heavy Fuel Oil (HFO)",
          "Heavy Fuel Oil (HFO)",
          "Heavy Fuel Oil (HFO)",
          "Heavy Fuel Oil (HFO)",
          "Heavy Fuel Oil (HFO)",
          "Heavy Fuel Oil (HFO)",
          "Heavy Fuel Oil (HFO)",
          "Heavy Fuel Oil (HFO)",
          "Heavy Fuel Oil (HFO)",
          "Heavy Fuel Oil (HFO)",
          "Heavy Fuel Oil (HFO)",
          "Heavy Fuel Oil (HFO)",
          "Heavy Fuel Oil (HFO)",
          "Heavy Fuel Oil (HFO)",
          "Heavy Fuel Oil (HFO)",
          "Heavy Fuel Oil (HFO)",
          "Heavy Fuel Oil (HFO)",
          "Heavy Fuel Oil (HFO)",
          "Heavy Fuel Oil (HFO)",
          "Heavy Fuel Oil (HFO)",
          "Heavy Fuel Oil (HFO)",
          "Heavy Fuel Oil (HFO)",
          "Heavy Fuel Oil (HFO)",
          "Heavy Fuel Oil (HFO)",
          "Heavy Fuel Oil (HFO)",
          "Heavy Fuel Oil (HFO)",
          "Heavy Fuel Oil (HFO)",
          "Heavy Fuel Oil (HFO)",
          "Heavy Fuel Oil (HFO)",
          "Heavy Fuel Oil (HFO)",
          "Heavy Fuel Oil (HFO)",
          "Heavy Fuel Oil (HFO)",
          "Heavy Fuel Oil (HFO)",
          "Heavy Fuel Oil (HFO)",
          "Heavy Fuel Oil (HFO)",
          "Heavy Fuel Oil (HFO)",
          "Heavy Fuel Oil (HFO)",
          "Heavy Fuel Oil (HFO)",
          "Heavy Fuel Oil (HFO)",
          "Heavy Fuel Oil (HFO)",
          "Heavy Fuel Oil (HFO)",
          "Heavy Fuel Oil (HFO)",
          "Heavy Fuel Oil (HFO)",
          "Heavy Fuel Oil (HFO)",
          "Heavy Fuel Oil (HFO)",
          "Heavy Fuel Oil (HFO)",
          "Heavy Fuel Oil (HFO)",
          "Heavy Fuel Oil (HFO)",
          "Heavy Fuel Oil (HFO)",
          "Heavy Fuel Oil (HFO)",
          "Heavy Fuel Oil (HFO)",
          "Heavy Fuel Oil (HFO)",
          "Heavy Fuel Oil (HFO)",
          "Heavy Fuel Oil (HFO)",
          "Heavy Fuel Oil (HFO)",
          "Heavy Fuel Oil (HFO)",
          "Heavy Fuel Oil (HFO)",
          "Heavy Fuel Oil (HFO)",
          "Heavy Fuel Oil (HFO)",
          "Heavy Fuel Oil (HFO)",
          "Heavy Fuel Oil (HFO)",
          "Heavy Fuel Oil (HFO)",
          "Heavy Fuel Oil (HFO)",
          "Heavy Fuel Oil (HFO)",
          "Heavy Fuel Oil (HFO)",
          "Heavy Fuel Oil (HFO)",
          "Heavy Fuel Oil (HFO)",
          "Heavy Fuel Oil (HFO)",
          "Heavy Fuel Oil (HFO)",
          "Heavy Fuel Oil (HFO)",
          "Heavy Fuel Oil (HFO)",
          "Heavy Fuel Oil (HFO)",
          "Heavy Fuel Oil (HFO)",
          "Heavy Fuel Oil (HFO)",
          "Heavy Fuel Oil (HFO)",
          "Heavy Fuel Oil (HFO)",
          "Heavy Fuel Oil (HFO)",
          "Heavy Fuel Oil (HFO)",
          "Heavy Fuel Oil (HFO)",
          "Heavy Fuel Oil (HFO)",
          "Heavy Fuel Oil (HFO)",
          "Heavy Fuel Oil (HFO)",
          "Heavy Fuel Oil (HFO)",
          "Heavy Fuel Oil (HFO)",
          "Heavy Fuel Oil (HFO)",
          "Heavy Fuel Oil (HFO)",
          "Heavy Fuel Oil (HFO)",
          "Heavy Fuel Oil (HFO)",
          "Heavy Fuel Oil (HFO)",
          "Heavy Fuel Oil (HFO)",
          "Heavy Fuel Oil (HFO)",
          "Heavy Fuel Oil (HFO)",
          "Heavy Fuel Oil (HFO)",
          "Heavy Fuel Oil (HFO)",
          "Heavy Fuel Oil (HFO)",
          "Heavy Fuel Oil (HFO)",
          "Heavy Fuel Oil (HFO)",
          "Heavy Fuel Oil (HFO)",
          "Heavy Fuel Oil (HFO)",
          "Heavy Fuel Oil (HFO)",
          "Heavy Fuel Oil (HFO)",
          "Heavy Fuel Oil (HFO)",
          "Heavy Fuel Oil (HFO)",
          "Heavy Fuel Oil (HFO)",
          "Heavy Fuel Oil (HFO)",
          "Heavy Fuel Oil (HFO)",
          "Heavy Fuel Oil (HFO)",
          "Heavy Fuel Oil (HFO)",
          "Heavy Fuel Oil (HFO)",
          "Heavy Fuel Oil (HFO)",
          "Heavy Fuel Oil (HFO)",
          "Heavy Fuel Oil (HFO)",
          "Heavy Fuel Oil (HFO)",
          "Heavy Fuel Oil (HFO)",
          "Heavy Fuel Oil (HFO)",
          "Heavy Fuel Oil (HFO)",
          "Heavy Fuel Oil (HFO)",
          "Heavy Fuel Oil (HFO)",
          "Heavy Fuel Oil (HFO)",
          "Heavy Fuel Oil (HFO)",
          "Heavy Fuel Oil (HFO)",
          "Heavy Fuel Oil (HFO)",
          "Heavy Fuel Oil (HFO)",
          "Heavy Fuel Oil (HFO)",
          "Heavy Fuel Oil (HFO)",
          "Heavy Fuel Oil (HFO)",
          "Heavy Fuel Oil (HFO)",
          "Heavy Fuel Oil (HFO)",
          "Heavy Fuel Oil (HFO)",
          "Heavy Fuel Oil (HFO)",
          "Heavy Fuel Oil (HFO)",
          "Heavy Fuel Oil (HFO)",
          "Heavy Fuel Oil (HFO)",
          "Heavy Fuel Oil (HFO)",
          "Heavy Fuel Oil (HFO)",
          "Heavy Fuel Oil (HFO)",
          "Heavy Fuel Oil (HFO)",
          "Heavy Fuel Oil (HFO)",
          "Heavy Fuel Oil (HFO)",
          "Heavy Fuel Oil (HFO)",
          "Heavy Fuel Oil (HFO)",
          "Heavy Fuel Oil (HFO)",
          "Heavy Fuel Oil (HFO)",
          "Heavy Fuel Oil (HFO)"
         ],
         "x0": " ",
         "xaxis": "x",
         "y": {
          "bdata": "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",
          "dtype": "f8"
         },
         "y0": " ",
         "yaxis": "y"
        },
        {
         "alignmentgroup": "True",
         "hovertemplate": "Engine Type=%{x}<br>Operational Cost (USD)=%{y}<extra></extra>",
         "legendgroup": "Steam Turbine",
         "marker": {
          "color": "#EF553B"
         },
         "name": "Steam Turbine",
         "notched": false,
         "offsetgroup": "Steam Turbine",
         "orientation": "v",
         "showlegend": true,
         "type": "box",
         "x": [
          "Steam Turbine",
          "Steam Turbine",
          "Steam Turbine",
          "Steam Turbine",
          "Steam Turbine",
          "Steam Turbine",
          "Steam Turbine",
          "Steam Turbine",
          "Steam Turbine",
          "Steam Turbine",
          "Steam Turbine",
          "Steam Turbine",
          "Steam Turbine",
          "Steam Turbine",
          "Steam Turbine",
          "Steam Turbine",
          "Steam Turbine",
          "Steam Turbine",
          "Steam Turbine",
          "Steam Turbine",
          "Steam Turbine",
          "Steam Turbine",
          "Steam Turbine",
          "Steam Turbine",
          "Steam Turbine",
          "Steam Turbine",
          "Steam Turbine",
          "Steam Turbine",
          "Steam Turbine",
          "Steam Turbine",
          "Steam Turbine",
          "Steam Turbine",
          "Steam Turbine",
          "Steam Turbine",
          "Steam Turbine",
          "Steam Turbine",
          "Steam Turbine",
          "Steam Turbine",
          "Steam Turbine",
          "Steam Turbine",
          "Steam Turbine",
          "Steam Turbine",
          "Steam Turbine",
          "Steam Turbine",
          "Steam Turbine",
          "Steam Turbine",
          "Steam Turbine",
          "Steam Turbine",
          "Steam Turbine",
          "Steam Turbine",
          "Steam Turbine",
          "Steam Turbine",
          "Steam Turbine",
          "Steam Turbine",
          "Steam Turbine",
          "Steam Turbine",
          "Steam Turbine",
          "Steam Turbine",
          "Steam Turbine",
          "Steam Turbine",
          "Steam Turbine",
          "Steam Turbine",
          "Steam Turbine",
          "Steam Turbine",
          "Steam Turbine",
          "Steam Turbine",
          "Steam Turbine",
          "Steam Turbine",
          "Steam Turbine",
          "Steam Turbine",
          "Steam Turbine",
          "Steam Turbine",
          "Steam Turbine",
          "Steam Turbine",
          "Steam Turbine",
          "Steam Turbine",
          "Steam Turbine",
          "Steam Turbine",
          "Steam Turbine",
          "Steam Turbine",
          "Steam Turbine",
          "Steam Turbine",
          "Steam Turbine",
          "Steam Turbine",
          "Steam Turbine",
          "Steam Turbine",
          "Steam Turbine",
          "Steam Turbine",
          "Steam Turbine",
          "Steam Turbine",
          "Steam Turbine",
          "Steam Turbine",
          "Steam Turbine",
          "Steam Turbine",
          "Steam Turbine",
          "Steam Turbine",
          "Steam Turbine",
          "Steam Turbine",
          "Steam Turbine",
          "Steam Turbine",
          "Steam Turbine",
          "Steam Turbine",
          "Steam Turbine",
          "Steam Turbine",
          "Steam Turbine",
          "Steam Turbine",
          "Steam Turbine",
          "Steam Turbine",
          "Steam Turbine",
          "Steam Turbine",
          "Steam Turbine",
          "Steam Turbine",
          "Steam Turbine",
          "Steam Turbine",
          "Steam Turbine",
          "Steam Turbine",
          "Steam Turbine",
          "Steam Turbine",
          "Steam Turbine",
          "Steam Turbine",
          "Steam Turbine",
          "Steam Turbine",
          "Steam Turbine",
          "Steam Turbine",
          "Steam Turbine",
          "Steam Turbine",
          "Steam Turbine",
          "Steam Turbine",
          "Steam Turbine",
          "Steam Turbine",
          "Steam Turbine",
          "Steam Turbine",
          "Steam Turbine",
          "Steam Turbine",
          "Steam Turbine",
          "Steam Turbine",
          "Steam Turbine",
          "Steam Turbine",
          "Steam Turbine",
          "Steam Turbine",
          "Steam Turbine",
          "Steam Turbine",
          "Steam Turbine",
          "Steam Turbine",
          "Steam Turbine",
          "Steam Turbine",
          "Steam Turbine",
          "Steam Turbine",
          "Steam Turbine",
          "Steam Turbine",
          "Steam Turbine",
          "Steam Turbine",
          "Steam Turbine",
          "Steam Turbine",
          "Steam Turbine",
          "Steam Turbine",
          "Steam Turbine",
          "Steam Turbine",
          "Steam Turbine",
          "Steam Turbine",
          "Steam Turbine",
          "Steam Turbine",
          "Steam Turbine",
          "Steam Turbine",
          "Steam Turbine",
          "Steam Turbine",
          "Steam Turbine",
          "Steam Turbine",
          "Steam Turbine",
          "Steam Turbine",
          "Steam Turbine",
          "Steam Turbine",
          "Steam Turbine",
          "Steam Turbine",
          "Steam Turbine",
          "Steam Turbine",
          "Steam Turbine",
          "Steam Turbine",
          "Steam Turbine",
          "Steam Turbine",
          "Steam Turbine",
          "Steam Turbine",
          "Steam Turbine",
          "Steam Turbine",
          "Steam Turbine",
          "Steam Turbine",
          "Steam Turbine",
          "Steam Turbine",
          "Steam Turbine",
          "Steam Turbine",
          "Steam Turbine",
          "Steam Turbine",
          "Steam Turbine",
          "Steam Turbine",
          "Steam Turbine",
          "Steam Turbine",
          "Steam Turbine",
          "Steam Turbine",
          "Steam Turbine",
          "Steam Turbine",
          "Steam Turbine",
          "Steam Turbine",
          "Steam Turbine",
          "Steam Turbine",
          "Steam Turbine",
          "Steam Turbine",
          "Steam Turbine",
          "Steam Turbine",
          "Steam Turbine",
          "Steam Turbine",
          "Steam Turbine",
          "Steam Turbine",
          "Steam Turbine",
          "Steam Turbine",
          "Steam Turbine",
          "Steam Turbine",
          "Steam Turbine",
          "Steam Turbine",
          "Steam Turbine",
          "Steam Turbine",
          "Steam Turbine",
          "Steam Turbine",
          "Steam Turbine",
          "Steam Turbine",
          "Steam Turbine",
          "Steam Turbine",
          "Steam Turbine",
          "Steam Turbine",
          "Steam Turbine",
          "Steam Turbine",
          "Steam Turbine",
          "Steam Turbine",
          "Steam Turbine",
          "Steam Turbine",
          "Steam Turbine",
          "Steam Turbine",
          "Steam Turbine",
          "Steam Turbine",
          "Steam Turbine",
          "Steam Turbine",
          "Steam Turbine",
          "Steam Turbine",
          "Steam Turbine",
          "Steam Turbine",
          "Steam Turbine",
          "Steam Turbine",
          "Steam Turbine",
          "Steam Turbine",
          "Steam Turbine",
          "Steam Turbine",
          "Steam Turbine",
          "Steam Turbine",
          "Steam Turbine",
          "Steam Turbine",
          "Steam Turbine",
          "Steam Turbine",
          "Steam Turbine",
          "Steam Turbine",
          "Steam Turbine",
          "Steam Turbine",
          "Steam Turbine",
          "Steam Turbine",
          "Steam Turbine",
          "Steam Turbine",
          "Steam Turbine",
          "Steam Turbine",
          "Steam Turbine",
          "Steam Turbine",
          "Steam Turbine",
          "Steam Turbine",
          "Steam Turbine",
          "Steam Turbine",
          "Steam Turbine",
          "Steam Turbine",
          "Steam Turbine",
          "Steam Turbine",
          "Steam Turbine",
          "Steam Turbine",
          "Steam Turbine",
          "Steam Turbine",
          "Steam Turbine",
          "Steam Turbine",
          "Steam Turbine",
          "Steam Turbine",
          "Steam Turbine",
          "Steam Turbine",
          "Steam Turbine",
          "Steam Turbine",
          "Steam Turbine",
          "Steam Turbine",
          "Steam Turbine",
          "Steam Turbine",
          "Steam Turbine",
          "Steam Turbine",
          "Steam Turbine",
          "Steam Turbine",
          "Steam Turbine",
          "Steam Turbine",
          "Steam Turbine",
          "Steam Turbine",
          "Steam Turbine",
          "Steam Turbine",
          "Steam Turbine",
          "Steam Turbine",
          "Steam Turbine",
          "Steam Turbine",
          "Steam Turbine",
          "Steam Turbine",
          "Steam Turbine",
          "Steam Turbine",
          "Steam Turbine",
          "Steam Turbine",
          "Steam Turbine",
          "Steam Turbine",
          "Steam Turbine",
          "Steam Turbine",
          "Steam Turbine",
          "Steam Turbine",
          "Steam Turbine",
          "Steam Turbine",
          "Steam Turbine",
          "Steam Turbine",
          "Steam Turbine",
          "Steam Turbine",
          "Steam Turbine",
          "Steam Turbine",
          "Steam Turbine",
          "Steam Turbine",
          "Steam Turbine",
          "Steam Turbine",
          "Steam Turbine",
          "Steam Turbine",
          "Steam Turbine",
          "Steam Turbine",
          "Steam Turbine",
          "Steam Turbine",
          "Steam Turbine",
          "Steam Turbine",
          "Steam Turbine",
          "Steam Turbine",
          "Steam Turbine",
          "Steam Turbine",
          "Steam Turbine",
          "Steam Turbine",
          "Steam Turbine",
          "Steam Turbine",
          "Steam Turbine",
          "Steam Turbine",
          "Steam Turbine",
          "Steam Turbine",
          "Steam Turbine",
          "Steam Turbine",
          "Steam Turbine",
          "Steam Turbine",
          "Steam Turbine",
          "Steam Turbine",
          "Steam Turbine",
          "Steam Turbine",
          "Steam Turbine",
          "Steam Turbine",
          "Steam Turbine",
          "Steam Turbine",
          "Steam Turbine",
          "Steam Turbine",
          "Steam Turbine",
          "Steam Turbine",
          "Steam Turbine",
          "Steam Turbine",
          "Steam Turbine",
          "Steam Turbine",
          "Steam Turbine",
          "Steam Turbine",
          "Steam Turbine",
          "Steam Turbine",
          "Steam Turbine",
          "Steam Turbine",
          "Steam Turbine",
          "Steam Turbine",
          "Steam Turbine",
          "Steam Turbine",
          "Steam Turbine",
          "Steam Turbine",
          "Steam Turbine",
          "Steam Turbine",
          "Steam Turbine",
          "Steam Turbine",
          "Steam Turbine",
          "Steam Turbine",
          "Steam Turbine",
          "Steam Turbine",
          "Steam Turbine",
          "Steam Turbine",
          "Steam Turbine",
          "Steam Turbine",
          "Steam Turbine",
          "Steam Turbine",
          "Steam Turbine",
          "Steam Turbine",
          "Steam Turbine",
          "Steam Turbine",
          "Steam Turbine",
          "Steam Turbine",
          "Steam Turbine",
          "Steam Turbine",
          "Steam Turbine",
          "Steam Turbine",
          "Steam Turbine",
          "Steam Turbine",
          "Steam Turbine",
          "Steam Turbine",
          "Steam Turbine",
          "Steam Turbine",
          "Steam Turbine",
          "Steam Turbine",
          "Steam Turbine",
          "Steam Turbine",
          "Steam Turbine",
          "Steam Turbine",
          "Steam Turbine",
          "Steam Turbine",
          "Steam Turbine",
          "Steam Turbine",
          "Steam Turbine",
          "Steam Turbine",
          "Steam Turbine",
          "Steam Turbine",
          "Steam Turbine",
          "Steam Turbine",
          "Steam Turbine",
          "Steam Turbine",
          "Steam Turbine",
          "Steam Turbine",
          "Steam Turbine",
          "Steam Turbine",
          "Steam Turbine",
          "Steam Turbine",
          "Steam Turbine",
          "Steam Turbine",
          "Steam Turbine",
          "Steam Turbine",
          "Steam Turbine",
          "Steam Turbine",
          "Steam Turbine",
          "Steam Turbine",
          "Steam Turbine",
          "Steam Turbine",
          "Steam Turbine",
          "Steam Turbine",
          "Steam Turbine",
          "Steam Turbine",
          "Steam Turbine",
          "Steam Turbine",
          "Steam Turbine",
          "Steam Turbine",
          "Steam Turbine",
          "Steam Turbine",
          "Steam Turbine",
          "Steam Turbine",
          "Steam Turbine",
          "Steam Turbine",
          "Steam Turbine",
          "Steam Turbine",
          "Steam Turbine",
          "Steam Turbine",
          "Steam Turbine",
          "Steam Turbine",
          "Steam Turbine",
          "Steam Turbine",
          "Steam Turbine",
          "Steam Turbine",
          "Steam Turbine",
          "Steam Turbine",
          "Steam Turbine",
          "Steam Turbine",
          "Steam Turbine",
          "Steam Turbine",
          "Steam Turbine",
          "Steam Turbine",
          "Steam Turbine",
          "Steam Turbine",
          "Steam Turbine",
          "Steam Turbine",
          "Steam Turbine",
          "Steam Turbine",
          "Steam Turbine",
          "Steam Turbine",
          "Steam Turbine",
          "Steam Turbine",
          "Steam Turbine",
          "Steam Turbine",
          "Steam Turbine",
          "Steam Turbine",
          "Steam Turbine",
          "Steam Turbine",
          "Steam Turbine",
          "Steam Turbine",
          "Steam Turbine",
          "Steam Turbine",
          "Steam Turbine",
          "Steam Turbine",
          "Steam Turbine",
          "Steam Turbine",
          "Steam Turbine",
          "Steam Turbine",
          "Steam Turbine",
          "Steam Turbine",
          "Steam Turbine",
          "Steam Turbine",
          "Steam Turbine",
          "Steam Turbine",
          "Steam Turbine",
          "Steam Turbine",
          "Steam Turbine",
          "Steam Turbine",
          "Steam Turbine",
          "Steam Turbine",
          "Steam Turbine",
          "Steam Turbine",
          "Steam Turbine",
          "Steam Turbine",
          "Steam Turbine",
          "Steam Turbine",
          "Steam Turbine",
          "Steam Turbine",
          "Steam Turbine",
          "Steam Turbine",
          "Steam Turbine",
          "Steam Turbine",
          "Steam Turbine",
          "Steam Turbine",
          "Steam Turbine",
          "Steam Turbine",
          "Steam Turbine",
          "Steam Turbine",
          "Steam Turbine",
          "Steam Turbine",
          "Steam Turbine",
          "Steam Turbine",
          "Steam Turbine",
          "Steam Turbine",
          "Steam Turbine",
          "Steam Turbine",
          "Steam Turbine",
          "Steam Turbine",
          "Steam Turbine",
          "Steam Turbine",
          "Steam Turbine",
          "Steam Turbine",
          "Steam Turbine",
          "Steam Turbine",
          "Steam Turbine",
          "Steam Turbine",
          "Steam Turbine",
          "Steam Turbine",
          "Steam Turbine",
          "Steam Turbine",
          "Steam Turbine",
          "Steam Turbine",
          "Steam Turbine",
          "Steam Turbine",
          "Steam Turbine",
          "Steam Turbine",
          "Steam Turbine",
          "Steam Turbine",
          "Steam Turbine",
          "Steam Turbine",
          "Steam Turbine",
          "Steam Turbine",
          "Steam Turbine",
          "Steam Turbine",
          "Steam Turbine",
          "Steam Turbine",
          "Steam Turbine",
          "Steam Turbine",
          "Steam Turbine",
          "Steam Turbine",
          "Steam Turbine",
          "Steam Turbine",
          "Steam Turbine",
          "Steam Turbine",
          "Steam Turbine",
          "Steam Turbine",
          "Steam Turbine",
          "Steam Turbine",
          "Steam Turbine",
          "Steam Turbine",
          "Steam Turbine",
          "Steam Turbine",
          "Steam Turbine",
          "Steam Turbine",
          "Steam Turbine",
          "Steam Turbine",
          "Steam Turbine",
          "Steam Turbine",
          "Steam Turbine",
          "Steam Turbine",
          "Steam Turbine",
          "Steam Turbine",
          "Steam Turbine",
          "Steam Turbine",
          "Steam Turbine",
          "Steam Turbine",
          "Steam Turbine",
          "Steam Turbine",
          "Steam Turbine",
          "Steam Turbine",
          "Steam Turbine",
          "Steam Turbine",
          "Steam Turbine",
          "Steam Turbine",
          "Steam Turbine",
          "Steam Turbine",
          "Steam Turbine",
          "Steam Turbine",
          "Steam Turbine",
          "Steam Turbine",
          "Steam Turbine",
          "Steam Turbine",
          "Steam Turbine",
          "Steam Turbine",
          "Steam Turbine",
          "Steam Turbine",
          "Steam Turbine",
          "Steam Turbine",
          "Steam Turbine",
          "Steam Turbine",
          "Steam Turbine",
          "Steam Turbine",
          "Steam Turbine",
          "Steam Turbine",
          "Steam Turbine",
          "Steam Turbine",
          "Steam Turbine",
          "Steam Turbine",
          "Steam Turbine",
          "Steam Turbine",
          "Steam Turbine",
          "Steam Turbine",
          "Steam Turbine",
          "Steam Turbine",
          "Steam Turbine",
          "Steam Turbine",
          "Steam Turbine",
          "Steam Turbine",
          "Steam Turbine",
          "Steam Turbine",
          "Steam Turbine",
          "Steam Turbine",
          "Steam Turbine",
          "Steam Turbine",
          "Steam Turbine",
          "Steam Turbine",
          "Steam Turbine",
          "Steam Turbine",
          "Steam Turbine",
          "Steam Turbine",
          "Steam Turbine",
          "Steam Turbine",
          "Steam Turbine",
          "Steam Turbine",
          "Steam Turbine",
          "Steam Turbine",
          "Steam Turbine",
          "Steam Turbine",
          "Steam Turbine",
          "Steam Turbine",
          "Steam Turbine",
          "Steam Turbine",
          "Steam Turbine",
          "Steam Turbine",
          "Steam Turbine",
          "Steam Turbine",
          "Steam Turbine",
          "Steam Turbine",
          "Steam Turbine",
          "Steam Turbine",
          "Steam Turbine",
          "Steam Turbine",
          "Steam Turbine",
          "Steam Turbine",
          "Steam Turbine",
          "Steam Turbine",
          "Steam Turbine",
          "Steam Turbine",
          "Steam Turbine",
          "Steam Turbine",
          "Steam Turbine",
          "Steam Turbine",
          "Steam Turbine",
          "Steam Turbine",
          "Steam Turbine",
          "Steam Turbine",
          "Steam Turbine",
          "Steam Turbine",
          "Steam Turbine",
          "Steam Turbine",
          "Steam Turbine",
          "Steam Turbine",
          "Steam Turbine",
          "Steam Turbine",
          "Steam Turbine",
          "Steam Turbine",
          "Steam Turbine",
          "Steam Turbine",
          "Steam Turbine",
          "Steam Turbine",
          "Steam Turbine",
          "Steam Turbine",
          "Steam Turbine",
          "Steam Turbine",
          "Steam Turbine",
          "Steam Turbine",
          "Steam Turbine",
          "Steam Turbine",
          "Steam Turbine",
          "Steam Turbine",
          "Steam Turbine",
          "Steam Turbine",
          "Steam Turbine",
          "Steam Turbine",
          "Steam Turbine",
          "Steam Turbine",
          "Steam Turbine",
          "Steam Turbine",
          "Steam Turbine",
          "Steam Turbine",
          "Steam Turbine",
          "Steam Turbine",
          "Steam Turbine",
          "Steam Turbine",
          "Steam Turbine",
          "Steam Turbine",
          "Steam Turbine",
          "Steam Turbine",
          "Steam Turbine",
          "Steam Turbine",
          "Steam Turbine",
          "Steam Turbine",
          "Steam Turbine",
          "Steam Turbine",
          "Steam Turbine",
          "Steam Turbine",
          "Steam Turbine",
          "Steam Turbine",
          "Steam Turbine",
          "Steam Turbine",
          "Steam Turbine",
          "Steam Turbine",
          "Steam Turbine",
          "Steam Turbine",
          "Steam Turbine",
          "Steam Turbine",
          "Steam Turbine",
          "Steam Turbine",
          "Steam Turbine",
          "Steam Turbine",
          "Steam Turbine",
          "Steam Turbine",
          "Steam Turbine",
          "Steam Turbine",
          "Steam Turbine",
          "Steam Turbine",
          "Steam Turbine",
          "Steam Turbine",
          "Steam Turbine",
          "Steam Turbine",
          "Steam Turbine",
          "Steam Turbine",
          "Steam Turbine",
          "Steam Turbine",
          "Steam Turbine",
          "Steam Turbine",
          "Steam Turbine",
          "Steam Turbine",
          "Steam Turbine",
          "Steam Turbine",
          "Steam Turbine",
          "Steam Turbine",
          "Steam Turbine",
          "Steam Turbine",
          "Steam Turbine",
          "Steam Turbine",
          "Steam Turbine",
          "Steam Turbine",
          "Steam Turbine",
          "Steam Turbine",
          "Steam Turbine",
          "Steam Turbine",
          "Steam Turbine",
          "Steam Turbine",
          "Steam Turbine",
          "Steam Turbine",
          "Steam Turbine",
          "Steam Turbine",
          "Steam Turbine",
          "Steam Turbine",
          "Steam Turbine",
          "Steam Turbine",
          "Steam Turbine",
          "Steam Turbine",
          "Steam Turbine",
          "Steam Turbine",
          "Steam Turbine",
          "Steam Turbine",
          "Steam Turbine",
          "Steam Turbine",
          "Steam Turbine",
          "Steam Turbine",
          "Steam Turbine",
          "Steam Turbine",
          "Steam Turbine",
          "Steam Turbine",
          "Steam Turbine",
          "Steam Turbine",
          "Steam Turbine",
          "Steam Turbine",
          "Steam Turbine",
          "Steam Turbine",
          "Steam Turbine",
          "Steam Turbine",
          "Steam Turbine",
          "Steam Turbine",
          "Steam Turbine",
          "Steam Turbine",
          "Steam Turbine",
          "Steam Turbine",
          "Steam Turbine",
          "Steam Turbine",
          "Steam Turbine",
          "Steam Turbine",
          "Steam Turbine",
          "Steam Turbine",
          "Steam Turbine",
          "Steam Turbine",
          "Steam Turbine",
          "Steam Turbine",
          "Steam Turbine",
          "Steam Turbine",
          "Steam Turbine",
          "Steam Turbine",
          "Steam Turbine",
          "Steam Turbine",
          "Steam Turbine",
          "Steam Turbine",
          "Steam Turbine",
          "Steam Turbine",
          "Steam Turbine",
          "Steam Turbine",
          "Steam Turbine",
          "Steam Turbine",
          "Steam Turbine",
          "Steam Turbine",
          "Steam Turbine",
          "Steam Turbine",
          "Steam Turbine"
         ],
         "x0": " ",
         "xaxis": "x",
         "y": {
          "bdata": "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",
          "dtype": "f8"
         },
         "y0": " ",
         "yaxis": "y"
        },
        {
         "alignmentgroup": "True",
         "hovertemplate": "Engine Type=%{x}<br>Operational Cost (USD)=%{y}<extra></extra>",
         "legendgroup": "Diesel",
         "marker": {
          "color": "#00cc96"
         },
         "name": "Diesel",
         "notched": false,
         "offsetgroup": "Diesel",
         "orientation": "v",
         "showlegend": true,
         "type": "box",
         "x": [
          "Diesel",
          "Diesel",
          "Diesel",
          "Diesel",
          "Diesel",
          "Diesel",
          "Diesel",
          "Diesel",
          "Diesel",
          "Diesel",
          "Diesel",
          "Diesel",
          "Diesel",
          "Diesel",
          "Diesel",
          "Diesel",
          "Diesel",
          "Diesel",
          "Diesel",
          "Diesel",
          "Diesel",
          "Diesel",
          "Diesel",
          "Diesel",
          "Diesel",
          "Diesel",
          "Diesel",
          "Diesel",
          "Diesel",
          "Diesel",
          "Diesel",
          "Diesel",
          "Diesel",
          "Diesel",
          "Diesel",
          "Diesel",
          "Diesel",
          "Diesel",
          "Diesel",
          "Diesel",
          "Diesel",
          "Diesel",
          "Diesel",
          "Diesel",
          "Diesel",
          "Diesel",
          "Diesel",
          "Diesel",
          "Diesel",
          "Diesel",
          "Diesel",
          "Diesel",
          "Diesel",
          "Diesel",
          "Diesel",
          "Diesel",
          "Diesel",
          "Diesel",
          "Diesel",
          "Diesel",
          "Diesel",
          "Diesel",
          "Diesel",
          "Diesel",
          "Diesel",
          "Diesel",
          "Diesel",
          "Diesel",
          "Diesel",
          "Diesel",
          "Diesel",
          "Diesel",
          "Diesel",
          "Diesel",
          "Diesel",
          "Diesel",
          "Diesel",
          "Diesel",
          "Diesel",
          "Diesel",
          "Diesel",
          "Diesel",
          "Diesel",
          "Diesel",
          "Diesel",
          "Diesel",
          "Diesel",
          "Diesel",
          "Diesel",
          "Diesel",
          "Diesel",
          "Diesel",
          "Diesel",
          "Diesel",
          "Diesel",
          "Diesel",
          "Diesel",
          "Diesel",
          "Diesel",
          "Diesel",
          "Diesel",
          "Diesel",
          "Diesel",
          "Diesel",
          "Diesel",
          "Diesel",
          "Diesel",
          "Diesel",
          "Diesel",
          "Diesel",
          "Diesel",
          "Diesel",
          "Diesel",
          "Diesel",
          "Diesel",
          "Diesel",
          "Diesel",
          "Diesel",
          "Diesel",
          "Diesel",
          "Diesel",
          "Diesel",
          "Diesel",
          "Diesel",
          "Diesel",
          "Diesel",
          "Diesel",
          "Diesel",
          "Diesel",
          "Diesel",
          "Diesel",
          "Diesel",
          "Diesel",
          "Diesel",
          "Diesel",
          "Diesel",
          "Diesel",
          "Diesel",
          "Diesel",
          "Diesel",
          "Diesel",
          "Diesel",
          "Diesel",
          "Diesel",
          "Diesel",
          "Diesel",
          "Diesel",
          "Diesel",
          "Diesel",
          "Diesel",
          "Diesel",
          "Diesel",
          "Diesel",
          "Diesel",
          "Diesel",
          "Diesel",
          "Diesel",
          "Diesel",
          "Diesel",
          "Diesel",
          "Diesel",
          "Diesel",
          "Diesel",
          "Diesel",
          "Diesel",
          "Diesel",
          "Diesel",
          "Diesel",
          "Diesel",
          "Diesel",
          "Diesel",
          "Diesel",
          "Diesel",
          "Diesel",
          "Diesel",
          "Diesel",
          "Diesel",
          "Diesel",
          "Diesel",
          "Diesel",
          "Diesel",
          "Diesel",
          "Diesel",
          "Diesel",
          "Diesel",
          "Diesel",
          "Diesel",
          "Diesel",
          "Diesel",
          "Diesel",
          "Diesel",
          "Diesel",
          "Diesel",
          "Diesel",
          "Diesel",
          "Diesel",
          "Diesel",
          "Diesel",
          "Diesel",
          "Diesel",
          "Diesel",
          "Diesel",
          "Diesel",
          "Diesel",
          "Diesel",
          "Diesel",
          "Diesel",
          "Diesel",
          "Diesel",
          "Diesel",
          "Diesel",
          "Diesel",
          "Diesel",
          "Diesel",
          "Diesel",
          "Diesel",
          "Diesel",
          "Diesel",
          "Diesel",
          "Diesel",
          "Diesel",
          "Diesel",
          "Diesel",
          "Diesel",
          "Diesel",
          "Diesel",
          "Diesel",
          "Diesel",
          "Diesel",
          "Diesel",
          "Diesel",
          "Diesel",
          "Diesel",
          "Diesel",
          "Diesel",
          "Diesel",
          "Diesel",
          "Diesel",
          "Diesel",
          "Diesel",
          "Diesel",
          "Diesel",
          "Diesel",
          "Diesel",
          "Diesel",
          "Diesel",
          "Diesel",
          "Diesel",
          "Diesel",
          "Diesel",
          "Diesel",
          "Diesel",
          "Diesel",
          "Diesel",
          "Diesel",
          "Diesel",
          "Diesel",
          "Diesel",
          "Diesel",
          "Diesel",
          "Diesel",
          "Diesel",
          "Diesel",
          "Diesel",
          "Diesel",
          "Diesel",
          "Diesel",
          "Diesel",
          "Diesel",
          "Diesel",
          "Diesel",
          "Diesel",
          "Diesel",
          "Diesel",
          "Diesel",
          "Diesel",
          "Diesel",
          "Diesel",
          "Diesel",
          "Diesel",
          "Diesel",
          "Diesel",
          "Diesel",
          "Diesel",
          "Diesel",
          "Diesel",
          "Diesel",
          "Diesel",
          "Diesel",
          "Diesel",
          "Diesel",
          "Diesel",
          "Diesel",
          "Diesel",
          "Diesel",
          "Diesel",
          "Diesel",
          "Diesel",
          "Diesel",
          "Diesel",
          "Diesel",
          "Diesel",
          "Diesel",
          "Diesel",
          "Diesel",
          "Diesel",
          "Diesel",
          "Diesel",
          "Diesel",
          "Diesel",
          "Diesel",
          "Diesel",
          "Diesel",
          "Diesel",
          "Diesel",
          "Diesel",
          "Diesel",
          "Diesel",
          "Diesel",
          "Diesel",
          "Diesel",
          "Diesel",
          "Diesel",
          "Diesel",
          "Diesel",
          "Diesel",
          "Diesel",
          "Diesel",
          "Diesel",
          "Diesel",
          "Diesel",
          "Diesel",
          "Diesel",
          "Diesel",
          "Diesel",
          "Diesel",
          "Diesel",
          "Diesel",
          "Diesel",
          "Diesel",
          "Diesel",
          "Diesel",
          "Diesel",
          "Diesel",
          "Diesel",
          "Diesel",
          "Diesel",
          "Diesel",
          "Diesel",
          "Diesel",
          "Diesel",
          "Diesel",
          "Diesel",
          "Diesel",
          "Diesel",
          "Diesel",
          "Diesel",
          "Diesel",
          "Diesel",
          "Diesel",
          "Diesel",
          "Diesel",
          "Diesel",
          "Diesel",
          "Diesel",
          "Diesel",
          "Diesel",
          "Diesel",
          "Diesel",
          "Diesel",
          "Diesel",
          "Diesel",
          "Diesel",
          "Diesel",
          "Diesel",
          "Diesel",
          "Diesel",
          "Diesel",
          "Diesel",
          "Diesel",
          "Diesel",
          "Diesel",
          "Diesel",
          "Diesel",
          "Diesel",
          "Diesel",
          "Diesel",
          "Diesel",
          "Diesel",
          "Diesel",
          "Diesel",
          "Diesel",
          "Diesel",
          "Diesel",
          "Diesel",
          "Diesel",
          "Diesel",
          "Diesel",
          "Diesel",
          "Diesel",
          "Diesel",
          "Diesel",
          "Diesel",
          "Diesel",
          "Diesel",
          "Diesel",
          "Diesel",
          "Diesel",
          "Diesel",
          "Diesel",
          "Diesel",
          "Diesel",
          "Diesel",
          "Diesel",
          "Diesel",
          "Diesel",
          "Diesel",
          "Diesel",
          "Diesel",
          "Diesel",
          "Diesel",
          "Diesel",
          "Diesel",
          "Diesel",
          "Diesel",
          "Diesel",
          "Diesel",
          "Diesel",
          "Diesel",
          "Diesel",
          "Diesel",
          "Diesel",
          "Diesel",
          "Diesel",
          "Diesel",
          "Diesel",
          "Diesel",
          "Diesel",
          "Diesel",
          "Diesel",
          "Diesel",
          "Diesel",
          "Diesel",
          "Diesel",
          "Diesel",
          "Diesel",
          "Diesel",
          "Diesel",
          "Diesel",
          "Diesel",
          "Diesel",
          "Diesel",
          "Diesel",
          "Diesel",
          "Diesel",
          "Diesel",
          "Diesel",
          "Diesel",
          "Diesel",
          "Diesel",
          "Diesel",
          "Diesel",
          "Diesel",
          "Diesel",
          "Diesel",
          "Diesel",
          "Diesel",
          "Diesel",
          "Diesel",
          "Diesel",
          "Diesel",
          "Diesel",
          "Diesel",
          "Diesel",
          "Diesel",
          "Diesel",
          "Diesel",
          "Diesel",
          "Diesel",
          "Diesel",
          "Diesel",
          "Diesel",
          "Diesel",
          "Diesel",
          "Diesel",
          "Diesel",
          "Diesel",
          "Diesel",
          "Diesel",
          "Diesel",
          "Diesel",
          "Diesel",
          "Diesel",
          "Diesel",
          "Diesel",
          "Diesel",
          "Diesel",
          "Diesel",
          "Diesel",
          "Diesel",
          "Diesel",
          "Diesel",
          "Diesel",
          "Diesel",
          "Diesel",
          "Diesel",
          "Diesel",
          "Diesel",
          "Diesel",
          "Diesel",
          "Diesel",
          "Diesel",
          "Diesel",
          "Diesel",
          "Diesel",
          "Diesel",
          "Diesel",
          "Diesel",
          "Diesel",
          "Diesel",
          "Diesel",
          "Diesel",
          "Diesel",
          "Diesel",
          "Diesel",
          "Diesel",
          "Diesel",
          "Diesel",
          "Diesel",
          "Diesel",
          "Diesel",
          "Diesel",
          "Diesel",
          "Diesel",
          "Diesel",
          "Diesel",
          "Diesel",
          "Diesel",
          "Diesel",
          "Diesel",
          "Diesel",
          "Diesel",
          "Diesel",
          "Diesel",
          "Diesel",
          "Diesel",
          "Diesel",
          "Diesel",
          "Diesel",
          "Diesel",
          "Diesel",
          "Diesel",
          "Diesel",
          "Diesel",
          "Diesel",
          "Diesel",
          "Diesel",
          "Diesel",
          "Diesel",
          "Diesel",
          "Diesel",
          "Diesel",
          "Diesel",
          "Diesel",
          "Diesel",
          "Diesel",
          "Diesel",
          "Diesel",
          "Diesel",
          "Diesel",
          "Diesel",
          "Diesel",
          "Diesel",
          "Diesel",
          "Diesel",
          "Diesel",
          "Diesel",
          "Diesel",
          "Diesel",
          "Diesel",
          "Diesel",
          "Diesel",
          "Diesel",
          "Diesel",
          "Diesel",
          "Diesel",
          "Diesel",
          "Diesel",
          "Diesel",
          "Diesel",
          "Diesel",
          "Diesel",
          "Diesel",
          "Diesel",
          "Diesel",
          "Diesel",
          "Diesel",
          "Diesel",
          "Diesel",
          "Diesel",
          "Diesel",
          "Diesel",
          "Diesel",
          "Diesel",
          "Diesel",
          "Diesel",
          "Diesel",
          "Diesel",
          "Diesel",
          "Diesel",
          "Diesel",
          "Diesel",
          "Diesel",
          "Diesel",
          "Diesel",
          "Diesel",
          "Diesel",
          "Diesel",
          "Diesel",
          "Diesel",
          "Diesel",
          "Diesel",
          "Diesel",
          "Diesel",
          "Diesel",
          "Diesel",
          "Diesel",
          "Diesel",
          "Diesel",
          "Diesel",
          "Diesel",
          "Diesel",
          "Diesel",
          "Diesel",
          "Diesel",
          "Diesel",
          "Diesel",
          "Diesel",
          "Diesel",
          "Diesel",
          "Diesel",
          "Diesel",
          "Diesel",
          "Diesel",
          "Diesel",
          "Diesel",
          "Diesel",
          "Diesel",
          "Diesel",
          "Diesel",
          "Diesel",
          "Diesel",
          "Diesel",
          "Diesel",
          "Diesel",
          "Diesel",
          "Diesel",
          "Diesel",
          "Diesel",
          "Diesel",
          "Diesel",
          "Diesel",
          "Diesel",
          "Diesel",
          "Diesel",
          "Diesel",
          "Diesel",
          "Diesel",
          "Diesel",
          "Diesel",
          "Diesel",
          "Diesel",
          "Diesel",
          "Diesel",
          "Diesel",
          "Diesel",
          "Diesel",
          "Diesel",
          "Diesel",
          "Diesel",
          "Diesel",
          "Diesel",
          "Diesel",
          "Diesel",
          "Diesel",
          "Diesel",
          "Diesel",
          "Diesel",
          "Diesel",
          "Diesel",
          "Diesel",
          "Diesel",
          "Diesel",
          "Diesel",
          "Diesel",
          "Diesel",
          "Diesel",
          "Diesel",
          "Diesel",
          "Diesel",
          "Diesel",
          "Diesel",
          "Diesel",
          "Diesel",
          "Diesel",
          "Diesel",
          "Diesel",
          "Diesel",
          "Diesel",
          "Diesel",
          "Diesel",
          "Diesel",
          "Diesel",
          "Diesel",
          "Diesel",
          "Diesel",
          "Diesel",
          "Diesel",
          "Diesel",
          "Diesel",
          "Diesel",
          "Diesel",
          "Diesel",
          "Diesel",
          "Diesel",
          "Diesel",
          "Diesel",
          "Diesel",
          "Diesel",
          "Diesel",
          "Diesel",
          "Diesel",
          "Diesel",
          "Diesel",
          "Diesel",
          "Diesel",
          "Diesel",
          "Diesel",
          "Diesel",
          "Diesel",
          "Diesel",
          "Diesel",
          "Diesel",
          "Diesel",
          "Diesel",
          "Diesel",
          "Diesel",
          "Diesel",
          "Diesel",
          "Diesel",
          "Diesel",
          "Diesel",
          "Diesel",
          "Diesel",
          "Diesel",
          "Diesel",
          "Diesel",
          "Diesel",
          "Diesel",
          "Diesel",
          "Diesel",
          "Diesel",
          "Diesel",
          "Diesel",
          "Diesel",
          "Diesel",
          "Diesel",
          "Diesel",
          "Diesel",
          "Diesel",
          "Diesel",
          "Diesel",
          "Diesel",
          "Diesel",
          "Diesel",
          "Diesel",
          "Diesel",
          "Diesel",
          "Diesel",
          "Diesel",
          "Diesel",
          "Diesel",
          "Diesel",
          "Diesel",
          "Diesel",
          "Diesel",
          "Diesel",
          "Diesel",
          "Diesel",
          "Diesel",
          "Diesel",
          "Diesel",
          "Diesel",
          "Diesel",
          "Diesel",
          "Diesel",
          "Diesel",
          "Diesel",
          "Diesel",
          "Diesel",
          "Diesel",
          "Diesel",
          "Diesel",
          "Diesel",
          "Diesel",
          "Diesel",
          "Diesel",
          "Diesel",
          "Diesel",
          "Diesel",
          "Diesel",
          "Diesel",
          "Diesel",
          "Diesel",
          "Diesel",
          "Diesel",
          "Diesel",
          "Diesel",
          "Diesel",
          "Diesel",
          "Diesel",
          "Diesel",
          "Diesel",
          "Diesel",
          "Diesel",
          "Diesel",
          "Diesel",
          "Diesel",
          "Diesel",
          "Diesel",
          "Diesel",
          "Diesel",
          "Diesel",
          "Diesel",
          "Diesel",
          "Diesel",
          "Diesel",
          "Diesel",
          "Diesel",
          "Diesel",
          "Diesel",
          "Diesel",
          "Diesel",
          "Diesel",
          "Diesel",
          "Diesel",
          "Diesel",
          "Diesel",
          "Diesel",
          "Diesel",
          "Diesel",
          "Diesel",
          "Diesel",
          "Diesel",
          "Diesel",
          "Diesel",
          "Diesel",
          "Diesel",
          "Diesel",
          "Diesel",
          "Diesel",
          "Diesel",
          "Diesel",
          "Diesel",
          "Diesel",
          "Diesel",
          "Diesel",
          "Diesel",
          "Diesel",
          "Diesel",
          "Diesel",
          "Diesel",
          "Diesel",
          "Diesel",
          "Diesel",
          "Diesel",
          "Diesel",
          "Diesel",
          "Diesel",
          "Diesel",
          "Diesel",
          "Diesel",
          "Diesel",
          "Diesel",
          "Diesel",
          "Diesel",
          "Diesel",
          "Diesel",
          "Diesel",
          "Diesel",
          "Diesel",
          "Diesel"
         ],
         "x0": " ",
         "xaxis": "x",
         "y": {
          "bdata": "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",
          "dtype": "f8"
         },
         "y0": " ",
         "yaxis": "y"
        }
       ],
       "layout": {
        "boxmode": "overlay",
        "legend": {
         "title": {
          "text": "Engine Type"
         },
         "tracegroupgap": 0
        },
        "template": {
         "data": {
          "bar": [
           {
            "error_x": {
             "color": "#2a3f5f"
            },
            "error_y": {
             "color": "#2a3f5f"
            },
            "marker": {
             "line": {
              "color": "#E5ECF6",
              "width": 0.5
             },
             "pattern": {
              "fillmode": "overlay",
              "size": 10,
              "solidity": 0.2
             }
            },
            "type": "bar"
           }
          ],
          "barpolar": [
           {
            "marker": {
             "line": {
              "color": "#E5ECF6",
              "width": 0.5
             },
             "pattern": {
              "fillmode": "overlay",
              "size": 10,
              "solidity": 0.2
             }
            },
            "type": "barpolar"
           }
          ],
          "carpet": [
           {
            "aaxis": {
             "endlinecolor": "#2a3f5f",
             "gridcolor": "white",
             "linecolor": "white",
             "minorgridcolor": "white",
             "startlinecolor": "#2a3f5f"
            },
            "baxis": {
             "endlinecolor": "#2a3f5f",
             "gridcolor": "white",
             "linecolor": "white",
             "minorgridcolor": "white",
             "startlinecolor": "#2a3f5f"
            },
            "type": "carpet"
           }
          ],
          "choropleth": [
           {
            "colorbar": {
             "outlinewidth": 0,
             "ticks": ""
            },
            "type": "choropleth"
           }
          ],
          "contour": [
           {
            "colorbar": {
             "outlinewidth": 0,
             "ticks": ""
            },
            "colorscale": [
             [
              0,
              "#0d0887"
             ],
             [
              0.1111111111111111,
              "#46039f"
             ],
             [
              0.2222222222222222,
              "#7201a8"
             ],
             [
              0.3333333333333333,
              "#9c179e"
             ],
             [
              0.4444444444444444,
              "#bd3786"
             ],
             [
              0.5555555555555556,
              "#d8576b"
             ],
             [
              0.6666666666666666,
              "#ed7953"
             ],
             [
              0.7777777777777778,
              "#fb9f3a"
             ],
             [
              0.8888888888888888,
              "#fdca26"
             ],
             [
              1,
              "#f0f921"
             ]
            ],
            "type": "contour"
           }
          ],
          "contourcarpet": [
           {
            "colorbar": {
             "outlinewidth": 0,
             "ticks": ""
            },
            "type": "contourcarpet"
           }
          ],
          "heatmap": [
           {
            "colorbar": {
             "outlinewidth": 0,
             "ticks": ""
            },
            "colorscale": [
             [
              0,
              "#0d0887"
             ],
             [
              0.1111111111111111,
              "#46039f"
             ],
             [
              0.2222222222222222,
              "#7201a8"
             ],
             [
              0.3333333333333333,
              "#9c179e"
             ],
             [
              0.4444444444444444,
              "#bd3786"
             ],
             [
              0.5555555555555556,
              "#d8576b"
             ],
             [
              0.6666666666666666,
              "#ed7953"
             ],
             [
              0.7777777777777778,
              "#fb9f3a"
             ],
             [
              0.8888888888888888,
              "#fdca26"
             ],
             [
              1,
              "#f0f921"
             ]
            ],
            "type": "heatmap"
           }
          ],
          "histogram": [
           {
            "marker": {
             "pattern": {
              "fillmode": "overlay",
              "size": 10,
              "solidity": 0.2
             }
            },
            "type": "histogram"
           }
          ],
          "histogram2d": [
           {
            "colorbar": {
             "outlinewidth": 0,
             "ticks": ""
            },
            "colorscale": [
             [
              0,
              "#0d0887"
             ],
             [
              0.1111111111111111,
              "#46039f"
             ],
             [
              0.2222222222222222,
              "#7201a8"
             ],
             [
              0.3333333333333333,
              "#9c179e"
             ],
             [
              0.4444444444444444,
              "#bd3786"
             ],
             [
              0.5555555555555556,
              "#d8576b"
             ],
             [
              0.6666666666666666,
              "#ed7953"
             ],
             [
              0.7777777777777778,
              "#fb9f3a"
             ],
             [
              0.8888888888888888,
              "#fdca26"
             ],
             [
              1,
              "#f0f921"
             ]
            ],
            "type": "histogram2d"
           }
          ],
          "histogram2dcontour": [
           {
            "colorbar": {
             "outlinewidth": 0,
             "ticks": ""
            },
            "colorscale": [
             [
              0,
              "#0d0887"
             ],
             [
              0.1111111111111111,
              "#46039f"
             ],
             [
              0.2222222222222222,
              "#7201a8"
             ],
             [
              0.3333333333333333,
              "#9c179e"
             ],
             [
              0.4444444444444444,
              "#bd3786"
             ],
             [
              0.5555555555555556,
              "#d8576b"
             ],
             [
              0.6666666666666666,
              "#ed7953"
             ],
             [
              0.7777777777777778,
              "#fb9f3a"
             ],
             [
              0.8888888888888888,
              "#fdca26"
             ],
             [
              1,
              "#f0f921"
             ]
            ],
            "type": "histogram2dcontour"
           }
          ],
          "mesh3d": [
           {
            "colorbar": {
             "outlinewidth": 0,
             "ticks": ""
            },
            "type": "mesh3d"
           }
          ],
          "parcoords": [
           {
            "line": {
             "colorbar": {
              "outlinewidth": 0,
              "ticks": ""
             }
            },
            "type": "parcoords"
           }
          ],
          "pie": [
           {
            "automargin": true,
            "type": "pie"
           }
          ],
          "scatter": [
           {
            "fillpattern": {
             "fillmode": "overlay",
             "size": 10,
             "solidity": 0.2
            },
            "type": "scatter"
           }
          ],
          "scatter3d": [
           {
            "line": {
             "colorbar": {
              "outlinewidth": 0,
              "ticks": ""
             }
            },
            "marker": {
             "colorbar": {
              "outlinewidth": 0,
              "ticks": ""
             }
            },
            "type": "scatter3d"
           }
          ],
          "scattercarpet": [
           {
            "marker": {
             "colorbar": {
              "outlinewidth": 0,
              "ticks": ""
             }
            },
            "type": "scattercarpet"
           }
          ],
          "scattergeo": [
           {
            "marker": {
             "colorbar": {
              "outlinewidth": 0,
              "ticks": ""
             }
            },
            "type": "scattergeo"
           }
          ],
          "scattergl": [
           {
            "marker": {
             "colorbar": {
              "outlinewidth": 0,
              "ticks": ""
             }
            },
            "type": "scattergl"
           }
          ],
          "scattermap": [
           {
            "marker": {
             "colorbar": {
              "outlinewidth": 0,
              "ticks": ""
             }
            },
            "type": "scattermap"
           }
          ],
          "scattermapbox": [
           {
            "marker": {
             "colorbar": {
              "outlinewidth": 0,
              "ticks": ""
             }
            },
            "type": "scattermapbox"
           }
          ],
          "scatterpolar": [
           {
            "marker": {
             "colorbar": {
              "outlinewidth": 0,
              "ticks": ""
             }
            },
            "type": "scatterpolar"
           }
          ],
          "scatterpolargl": [
           {
            "marker": {
             "colorbar": {
              "outlinewidth": 0,
              "ticks": ""
             }
            },
            "type": "scatterpolargl"
           }
          ],
          "scatterternary": [
           {
            "marker": {
             "colorbar": {
              "outlinewidth": 0,
              "ticks": ""
             }
            },
            "type": "scatterternary"
           }
          ],
          "surface": [
           {
            "colorbar": {
             "outlinewidth": 0,
             "ticks": ""
            },
            "colorscale": [
             [
              0,
              "#0d0887"
             ],
             [
              0.1111111111111111,
              "#46039f"
             ],
             [
              0.2222222222222222,
              "#7201a8"
             ],
             [
              0.3333333333333333,
              "#9c179e"
             ],
             [
              0.4444444444444444,
              "#bd3786"
             ],
             [
              0.5555555555555556,
              "#d8576b"
             ],
             [
              0.6666666666666666,
              "#ed7953"
             ],
             [
              0.7777777777777778,
              "#fb9f3a"
             ],
             [
              0.8888888888888888,
              "#fdca26"
             ],
             [
              1,
              "#f0f921"
             ]
            ],
            "type": "surface"
           }
          ],
          "table": [
           {
            "cells": {
             "fill": {
              "color": "#EBF0F8"
             },
             "line": {
              "color": "white"
             }
            },
            "header": {
             "fill": {
              "color": "#C8D4E3"
             },
             "line": {
              "color": "white"
             }
            },
            "type": "table"
           }
          ]
         },
         "layout": {
          "annotationdefaults": {
           "arrowcolor": "#2a3f5f",
           "arrowhead": 0,
           "arrowwidth": 1
          },
          "autotypenumbers": "strict",
          "coloraxis": {
           "colorbar": {
            "outlinewidth": 0,
            "ticks": ""
           }
          },
          "colorscale": {
           "diverging": [
            [
             0,
             "#8e0152"
            ],
            [
             0.1,
             "#c51b7d"
            ],
            [
             0.2,
             "#de77ae"
            ],
            [
             0.3,
             "#f1b6da"
            ],
            [
             0.4,
             "#fde0ef"
            ],
            [
             0.5,
             "#f7f7f7"
            ],
            [
             0.6,
             "#e6f5d0"
            ],
            [
             0.7,
             "#b8e186"
            ],
            [
             0.8,
             "#7fbc41"
            ],
            [
             0.9,
             "#4d9221"
            ],
            [
             1,
             "#276419"
            ]
           ],
           "sequential": [
            [
             0,
             "#0d0887"
            ],
            [
             0.1111111111111111,
             "#46039f"
            ],
            [
             0.2222222222222222,
             "#7201a8"
            ],
            [
             0.3333333333333333,
             "#9c179e"
            ],
            [
             0.4444444444444444,
             "#bd3786"
            ],
            [
             0.5555555555555556,
             "#d8576b"
            ],
            [
             0.6666666666666666,
             "#ed7953"
            ],
            [
             0.7777777777777778,
             "#fb9f3a"
            ],
            [
             0.8888888888888888,
             "#fdca26"
            ],
            [
             1,
             "#f0f921"
            ]
           ],
           "sequentialminus": [
            [
             0,
             "#0d0887"
            ],
            [
             0.1111111111111111,
             "#46039f"
            ],
            [
             0.2222222222222222,
             "#7201a8"
            ],
            [
             0.3333333333333333,
             "#9c179e"
            ],
            [
             0.4444444444444444,
             "#bd3786"
            ],
            [
             0.5555555555555556,
             "#d8576b"
            ],
            [
             0.6666666666666666,
             "#ed7953"
            ],
            [
             0.7777777777777778,
             "#fb9f3a"
            ],
            [
             0.8888888888888888,
             "#fdca26"
            ],
            [
             1,
             "#f0f921"
            ]
           ]
          },
          "colorway": [
           "#636efa",
           "#EF553B",
           "#00cc96",
           "#ab63fa",
           "#FFA15A",
           "#19d3f3",
           "#FF6692",
           "#B6E880",
           "#FF97FF",
           "#FECB52"
          ],
          "font": {
           "color": "#2a3f5f"
          },
          "geo": {
           "bgcolor": "white",
           "lakecolor": "white",
           "landcolor": "#E5ECF6",
           "showlakes": true,
           "showland": true,
           "subunitcolor": "white"
          },
          "hoverlabel": {
           "align": "left"
          },
          "hovermode": "closest",
          "mapbox": {
           "style": "light"
          },
          "paper_bgcolor": "white",
          "plot_bgcolor": "#E5ECF6",
          "polar": {
           "angularaxis": {
            "gridcolor": "white",
            "linecolor": "white",
            "ticks": ""
           },
           "bgcolor": "#E5ECF6",
           "radialaxis": {
            "gridcolor": "white",
            "linecolor": "white",
            "ticks": ""
           }
          },
          "scene": {
           "xaxis": {
            "backgroundcolor": "#E5ECF6",
            "gridcolor": "white",
            "gridwidth": 2,
            "linecolor": "white",
            "showbackground": true,
            "ticks": "",
            "zerolinecolor": "white"
           },
           "yaxis": {
            "backgroundcolor": "#E5ECF6",
            "gridcolor": "white",
            "gridwidth": 2,
            "linecolor": "white",
            "showbackground": true,
            "ticks": "",
            "zerolinecolor": "white"
           },
           "zaxis": {
            "backgroundcolor": "#E5ECF6",
            "gridcolor": "white",
            "gridwidth": 2,
            "linecolor": "white",
            "showbackground": true,
            "ticks": "",
            "zerolinecolor": "white"
           }
          },
          "shapedefaults": {
           "line": {
            "color": "#2a3f5f"
           }
          },
          "ternary": {
           "aaxis": {
            "gridcolor": "white",
            "linecolor": "white",
            "ticks": ""
           },
           "baxis": {
            "gridcolor": "white",
            "linecolor": "white",
            "ticks": ""
           },
           "bgcolor": "#E5ECF6",
           "caxis": {
            "gridcolor": "white",
            "linecolor": "white",
            "ticks": ""
           }
          },
          "title": {
           "x": 0.05
          },
          "xaxis": {
           "automargin": true,
           "gridcolor": "white",
           "linecolor": "white",
           "ticks": "",
           "title": {
            "standoff": 15
           },
           "zerolinecolor": "white",
           "zerolinewidth": 2
          },
          "yaxis": {
           "automargin": true,
           "gridcolor": "white",
           "linecolor": "white",
           "ticks": "",
           "title": {
            "standoff": 15
           },
           "zerolinecolor": "white",
           "zerolinewidth": 2
          }
         }
        },
        "title": {
         "text": "Operational Cost Distribution by Engine Type"
        },
        "xaxis": {
         "anchor": "y",
         "categoryarray": [
          "Heavy Fuel Oil (HFO)",
          "Steam Turbine",
          "Diesel",
          null
         ],
         "categoryorder": "array",
         "domain": [
          0,
          1
         ],
         "tickangle": -45,
         "title": {
          "text": "Engine Type"
         }
        },
        "yaxis": {
         "anchor": "x",
         "domain": [
          0,
          1
         ],
         "title": {
          "text": "Operational Cost (USD)"
         }
        }
       }
      }
     },
     "metadata": {},
     "output_type": "display_data"
    }
   ],
   "source": [
    "# cost distribution per engine type\n",
    "fig = px.box(df, x='Engine_Type', y='Operational_Cost_USD', color='Engine_Type',\n",
    "               title='Operational Cost Distribution by Engine Type',\n",
    "               labels={'Operational_Cost_USD': 'Operational Cost (USD)', 'Engine_Type': 'Engine Type'})\n",
    "\n",
    "fig.update_layout(xaxis_tickangle=-45)\n",
    "fig.show()"
   ]
  },
  {
   "cell_type": "code",
   "execution_count": null,
   "id": "d8429112",
   "metadata": {},
   "outputs": [],
   "source": []
  }
 ],
 "metadata": {
  "kernelspec": {
   "display_name": "base",
   "language": "python",
   "name": "python3"
  },
  "language_info": {
   "codemirror_mode": {
    "name": "ipython",
    "version": 3
   },
   "file_extension": ".py",
   "mimetype": "text/x-python",
   "name": "python",
   "nbconvert_exporter": "python",
   "pygments_lexer": "ipython3",
   "version": "3.12.9"
  }
 },
 "nbformat": 4,
 "nbformat_minor": 5
}
