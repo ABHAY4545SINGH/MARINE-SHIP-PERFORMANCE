{
 "cells": [
  {
   "cell_type": "code",
   "execution_count": 27,
   "id": "07d2a7c6",
   "metadata": {},
   "outputs": [],
   "source": [
    "import pandas as pd\n",
    "import numpy as np\n",
    "import matplotlib.pyplot as plt\n",
    "import seaborn as sns\n",
    "import plotly.express as px\n",
    "\n"
   ]
  },
  {
   "cell_type": "code",
   "execution_count": 28,
   "id": "51926f04",
   "metadata": {},
   "outputs": [
    {
     "data": {
      "text/html": [
       "<div>\n",
       "<style scoped>\n",
       "    .dataframe tbody tr th:only-of-type {\n",
       "        vertical-align: middle;\n",
       "    }\n",
       "\n",
       "    .dataframe tbody tr th {\n",
       "        vertical-align: top;\n",
       "    }\n",
       "\n",
       "    .dataframe thead th {\n",
       "        text-align: right;\n",
       "    }\n",
       "</style>\n",
       "<table border=\"1\" class=\"dataframe\">\n",
       "  <thead>\n",
       "    <tr style=\"text-align: right;\">\n",
       "      <th></th>\n",
       "      <th>Date</th>\n",
       "      <th>Ship_Type</th>\n",
       "      <th>Route_Type</th>\n",
       "      <th>Engine_Type</th>\n",
       "      <th>Maintenance_Status</th>\n",
       "      <th>Speed_Over_Ground_knots</th>\n",
       "      <th>Engine_Power_kW</th>\n",
       "      <th>Distance_Traveled_nm</th>\n",
       "      <th>Draft_meters</th>\n",
       "      <th>Weather_Condition</th>\n",
       "      <th>Cargo_Weight_tons</th>\n",
       "      <th>Operational_Cost_USD</th>\n",
       "      <th>Revenue_per_Voyage_USD</th>\n",
       "      <th>Turnaround_Time_hours</th>\n",
       "      <th>Efficiency_nm_per_kWh</th>\n",
       "      <th>Seasonal_Impact_Score</th>\n",
       "      <th>Weekly_Voyage_Count</th>\n",
       "      <th>Average_Load_Percentage</th>\n",
       "    </tr>\n",
       "  </thead>\n",
       "  <tbody>\n",
       "    <tr>\n",
       "      <th>0</th>\n",
       "      <td>2023-06-04</td>\n",
       "      <td>Container Ship</td>\n",
       "      <td>NaN</td>\n",
       "      <td>Heavy Fuel Oil (HFO)</td>\n",
       "      <td>Critical</td>\n",
       "      <td>12.597558</td>\n",
       "      <td>2062.983982</td>\n",
       "      <td>1030.943616</td>\n",
       "      <td>14.132284</td>\n",
       "      <td>Moderate</td>\n",
       "      <td>1959.017882</td>\n",
       "      <td>483832.354540</td>\n",
       "      <td>292183.273104</td>\n",
       "      <td>25.867077</td>\n",
       "      <td>1.455179</td>\n",
       "      <td>1.415653</td>\n",
       "      <td>1</td>\n",
       "      <td>93.769249</td>\n",
       "    </tr>\n",
       "    <tr>\n",
       "      <th>1</th>\n",
       "      <td>2023-06-11</td>\n",
       "      <td>Fish Carrier</td>\n",
       "      <td>Short-haul</td>\n",
       "      <td>Steam Turbine</td>\n",
       "      <td>Good</td>\n",
       "      <td>10.387580</td>\n",
       "      <td>1796.057415</td>\n",
       "      <td>1060.486382</td>\n",
       "      <td>14.653083</td>\n",
       "      <td>Rough</td>\n",
       "      <td>162.394712</td>\n",
       "      <td>483388.000509</td>\n",
       "      <td>883765.787360</td>\n",
       "      <td>63.248196</td>\n",
       "      <td>0.290361</td>\n",
       "      <td>0.885648</td>\n",
       "      <td>6</td>\n",
       "      <td>93.895372</td>\n",
       "    </tr>\n",
       "    <tr>\n",
       "      <th>2</th>\n",
       "      <td>2023-06-18</td>\n",
       "      <td>Container Ship</td>\n",
       "      <td>Long-haul</td>\n",
       "      <td>Diesel</td>\n",
       "      <td>Fair</td>\n",
       "      <td>20.749747</td>\n",
       "      <td>1648.556685</td>\n",
       "      <td>658.874144</td>\n",
       "      <td>7.199261</td>\n",
       "      <td>Moderate</td>\n",
       "      <td>178.040917</td>\n",
       "      <td>448543.404044</td>\n",
       "      <td>394018.746904</td>\n",
       "      <td>49.418150</td>\n",
       "      <td>0.499595</td>\n",
       "      <td>1.405813</td>\n",
       "      <td>9</td>\n",
       "      <td>96.218244</td>\n",
       "    </tr>\n",
       "    <tr>\n",
       "      <th>3</th>\n",
       "      <td>2023-06-25</td>\n",
       "      <td>Bulk Carrier</td>\n",
       "      <td>Transoceanic</td>\n",
       "      <td>Steam Turbine</td>\n",
       "      <td>Fair</td>\n",
       "      <td>21.055102</td>\n",
       "      <td>915.261795</td>\n",
       "      <td>1126.822519</td>\n",
       "      <td>11.789063</td>\n",
       "      <td>Moderate</td>\n",
       "      <td>1737.385346</td>\n",
       "      <td>261349.605449</td>\n",
       "      <td>87551.375175</td>\n",
       "      <td>22.409110</td>\n",
       "      <td>0.702906</td>\n",
       "      <td>1.370704</td>\n",
       "      <td>1</td>\n",
       "      <td>66.193698</td>\n",
       "    </tr>\n",
       "    <tr>\n",
       "      <th>4</th>\n",
       "      <td>2023-07-02</td>\n",
       "      <td>Fish Carrier</td>\n",
       "      <td>Transoceanic</td>\n",
       "      <td>Diesel</td>\n",
       "      <td>Fair</td>\n",
       "      <td>13.742777</td>\n",
       "      <td>1089.721803</td>\n",
       "      <td>1445.281159</td>\n",
       "      <td>9.727833</td>\n",
       "      <td>Moderate</td>\n",
       "      <td>260.595103</td>\n",
       "      <td>287718.375160</td>\n",
       "      <td>676121.459632</td>\n",
       "      <td>64.158231</td>\n",
       "      <td>1.331343</td>\n",
       "      <td>0.583383</td>\n",
       "      <td>8</td>\n",
       "      <td>80.008581</td>\n",
       "    </tr>\n",
       "    <tr>\n",
       "      <th>...</th>\n",
       "      <td>...</td>\n",
       "      <td>...</td>\n",
       "      <td>...</td>\n",
       "      <td>...</td>\n",
       "      <td>...</td>\n",
       "      <td>...</td>\n",
       "      <td>...</td>\n",
       "      <td>...</td>\n",
       "      <td>...</td>\n",
       "      <td>...</td>\n",
       "      <td>...</td>\n",
       "      <td>...</td>\n",
       "      <td>...</td>\n",
       "      <td>...</td>\n",
       "      <td>...</td>\n",
       "      <td>...</td>\n",
       "      <td>...</td>\n",
       "      <td>...</td>\n",
       "    </tr>\n",
       "    <tr>\n",
       "      <th>2731</th>\n",
       "      <td>2024-06-02</td>\n",
       "      <td>Tanker</td>\n",
       "      <td>Short-haul</td>\n",
       "      <td>Heavy Fuel Oil (HFO)</td>\n",
       "      <td>Good</td>\n",
       "      <td>11.607997</td>\n",
       "      <td>2918.395972</td>\n",
       "      <td>239.990359</td>\n",
       "      <td>13.700906</td>\n",
       "      <td>Moderate</td>\n",
       "      <td>318.111891</td>\n",
       "      <td>237975.067292</td>\n",
       "      <td>731584.322921</td>\n",
       "      <td>47.152337</td>\n",
       "      <td>1.000265</td>\n",
       "      <td>1.284895</td>\n",
       "      <td>3</td>\n",
       "      <td>74.813114</td>\n",
       "    </tr>\n",
       "    <tr>\n",
       "      <th>2732</th>\n",
       "      <td>2024-06-09</td>\n",
       "      <td>Bulk Carrier</td>\n",
       "      <td>Short-haul</td>\n",
       "      <td>Heavy Fuel Oil (HFO)</td>\n",
       "      <td>Good</td>\n",
       "      <td>13.852798</td>\n",
       "      <td>2161.282358</td>\n",
       "      <td>831.355653</td>\n",
       "      <td>14.612775</td>\n",
       "      <td>NaN</td>\n",
       "      <td>218.309002</td>\n",
       "      <td>21029.021721</td>\n",
       "      <td>374365.370930</td>\n",
       "      <td>64.325916</td>\n",
       "      <td>0.653474</td>\n",
       "      <td>0.891085</td>\n",
       "      <td>2</td>\n",
       "      <td>84.595155</td>\n",
       "    </tr>\n",
       "    <tr>\n",
       "      <th>2733</th>\n",
       "      <td>2024-06-16</td>\n",
       "      <td>Container Ship</td>\n",
       "      <td>Short-haul</td>\n",
       "      <td>Steam Turbine</td>\n",
       "      <td>Critical</td>\n",
       "      <td>16.813713</td>\n",
       "      <td>1343.608006</td>\n",
       "      <td>1376.460622</td>\n",
       "      <td>9.306518</td>\n",
       "      <td>NaN</td>\n",
       "      <td>1630.646419</td>\n",
       "      <td>78883.312529</td>\n",
       "      <td>234120.365052</td>\n",
       "      <td>53.551090</td>\n",
       "      <td>0.594169</td>\n",
       "      <td>0.725404</td>\n",
       "      <td>6</td>\n",
       "      <td>80.975269</td>\n",
       "    </tr>\n",
       "    <tr>\n",
       "      <th>2734</th>\n",
       "      <td>2024-06-23</td>\n",
       "      <td>Tanker</td>\n",
       "      <td>Transoceanic</td>\n",
       "      <td>Heavy Fuel Oil (HFO)</td>\n",
       "      <td>Good</td>\n",
       "      <td>23.132643</td>\n",
       "      <td>2028.143572</td>\n",
       "      <td>619.236340</td>\n",
       "      <td>6.623856</td>\n",
       "      <td>Moderate</td>\n",
       "      <td>153.441965</td>\n",
       "      <td>25241.550250</td>\n",
       "      <td>799713.737211</td>\n",
       "      <td>14.335517</td>\n",
       "      <td>0.895670</td>\n",
       "      <td>0.902960</td>\n",
       "      <td>2</td>\n",
       "      <td>92.853622</td>\n",
       "    </tr>\n",
       "    <tr>\n",
       "      <th>2735</th>\n",
       "      <td>2024-06-30</td>\n",
       "      <td>Fish Carrier</td>\n",
       "      <td>Coastal</td>\n",
       "      <td>Steam Turbine</td>\n",
       "      <td>Fair</td>\n",
       "      <td>11.527987</td>\n",
       "      <td>2928.588108</td>\n",
       "      <td>1930.235779</td>\n",
       "      <td>14.187652</td>\n",
       "      <td>Moderate</td>\n",
       "      <td>712.997894</td>\n",
       "      <td>55163.241668</td>\n",
       "      <td>382208.021405</td>\n",
       "      <td>63.886256</td>\n",
       "      <td>0.825349</td>\n",
       "      <td>1.289204</td>\n",
       "      <td>2</td>\n",
       "      <td>66.190613</td>\n",
       "    </tr>\n",
       "  </tbody>\n",
       "</table>\n",
       "<p>2736 rows × 18 columns</p>\n",
       "</div>"
      ],
      "text/plain": [
       "            Date       Ship_Type    Route_Type           Engine_Type  \\\n",
       "0     2023-06-04  Container Ship           NaN  Heavy Fuel Oil (HFO)   \n",
       "1     2023-06-11    Fish Carrier    Short-haul         Steam Turbine   \n",
       "2     2023-06-18  Container Ship     Long-haul                Diesel   \n",
       "3     2023-06-25    Bulk Carrier  Transoceanic         Steam Turbine   \n",
       "4     2023-07-02    Fish Carrier  Transoceanic                Diesel   \n",
       "...          ...             ...           ...                   ...   \n",
       "2731  2024-06-02          Tanker    Short-haul  Heavy Fuel Oil (HFO)   \n",
       "2732  2024-06-09    Bulk Carrier    Short-haul  Heavy Fuel Oil (HFO)   \n",
       "2733  2024-06-16  Container Ship    Short-haul         Steam Turbine   \n",
       "2734  2024-06-23          Tanker  Transoceanic  Heavy Fuel Oil (HFO)   \n",
       "2735  2024-06-30    Fish Carrier       Coastal         Steam Turbine   \n",
       "\n",
       "     Maintenance_Status  Speed_Over_Ground_knots  Engine_Power_kW  \\\n",
       "0              Critical                12.597558      2062.983982   \n",
       "1                  Good                10.387580      1796.057415   \n",
       "2                  Fair                20.749747      1648.556685   \n",
       "3                  Fair                21.055102       915.261795   \n",
       "4                  Fair                13.742777      1089.721803   \n",
       "...                 ...                      ...              ...   \n",
       "2731               Good                11.607997      2918.395972   \n",
       "2732               Good                13.852798      2161.282358   \n",
       "2733           Critical                16.813713      1343.608006   \n",
       "2734               Good                23.132643      2028.143572   \n",
       "2735               Fair                11.527987      2928.588108   \n",
       "\n",
       "      Distance_Traveled_nm  Draft_meters Weather_Condition  Cargo_Weight_tons  \\\n",
       "0              1030.943616     14.132284          Moderate        1959.017882   \n",
       "1              1060.486382     14.653083             Rough         162.394712   \n",
       "2               658.874144      7.199261          Moderate         178.040917   \n",
       "3              1126.822519     11.789063          Moderate        1737.385346   \n",
       "4              1445.281159      9.727833          Moderate         260.595103   \n",
       "...                    ...           ...               ...                ...   \n",
       "2731            239.990359     13.700906          Moderate         318.111891   \n",
       "2732            831.355653     14.612775               NaN         218.309002   \n",
       "2733           1376.460622      9.306518               NaN        1630.646419   \n",
       "2734            619.236340      6.623856          Moderate         153.441965   \n",
       "2735           1930.235779     14.187652          Moderate         712.997894   \n",
       "\n",
       "      Operational_Cost_USD  Revenue_per_Voyage_USD  Turnaround_Time_hours  \\\n",
       "0            483832.354540           292183.273104              25.867077   \n",
       "1            483388.000509           883765.787360              63.248196   \n",
       "2            448543.404044           394018.746904              49.418150   \n",
       "3            261349.605449            87551.375175              22.409110   \n",
       "4            287718.375160           676121.459632              64.158231   \n",
       "...                    ...                     ...                    ...   \n",
       "2731         237975.067292           731584.322921              47.152337   \n",
       "2732          21029.021721           374365.370930              64.325916   \n",
       "2733          78883.312529           234120.365052              53.551090   \n",
       "2734          25241.550250           799713.737211              14.335517   \n",
       "2735          55163.241668           382208.021405              63.886256   \n",
       "\n",
       "      Efficiency_nm_per_kWh  Seasonal_Impact_Score  Weekly_Voyage_Count  \\\n",
       "0                  1.455179               1.415653                    1   \n",
       "1                  0.290361               0.885648                    6   \n",
       "2                  0.499595               1.405813                    9   \n",
       "3                  0.702906               1.370704                    1   \n",
       "4                  1.331343               0.583383                    8   \n",
       "...                     ...                    ...                  ...   \n",
       "2731               1.000265               1.284895                    3   \n",
       "2732               0.653474               0.891085                    2   \n",
       "2733               0.594169               0.725404                    6   \n",
       "2734               0.895670               0.902960                    2   \n",
       "2735               0.825349               1.289204                    2   \n",
       "\n",
       "      Average_Load_Percentage  \n",
       "0                   93.769249  \n",
       "1                   93.895372  \n",
       "2                   96.218244  \n",
       "3                   66.193698  \n",
       "4                   80.008581  \n",
       "...                       ...  \n",
       "2731                74.813114  \n",
       "2732                84.595155  \n",
       "2733                80.975269  \n",
       "2734                92.853622  \n",
       "2735                66.190613  \n",
       "\n",
       "[2736 rows x 18 columns]"
      ]
     },
     "execution_count": 28,
     "metadata": {},
     "output_type": "execute_result"
    }
   ],
   "source": [
    "df = pd.read_csv(\"Ship_Performance_Dataset.csv\")\n",
    "df "
   ]
  },
  {
   "cell_type": "code",
   "execution_count": 35,
   "id": "8c3f4793",
   "metadata": {},
   "outputs": [
    {
     "data": {
      "application/vnd.plotly.v1+json": {
       "config": {
        "plotlyServerURL": "https://plot.ly"
       },
       "data": [
        {
         "alignmentgroup": "True",
         "hovertemplate": "Metric=Speed_Over_Ground_knots<br>Maintenance_Status=%{x}<br>Average Value=%{y}<extra></extra>",
         "legendgroup": "Speed_Over_Ground_knots",
         "marker": {
          "color": "rgb(102,194,165)",
          "pattern": {
           "shape": ""
          }
         },
         "name": "Speed_Over_Ground_knots",
         "offsetgroup": "Speed_Over_Ground_knots",
         "orientation": "v",
         "showlegend": true,
         "textposition": "auto",
         "type": "bar",
         "x": [
          "Critical",
          "Fair",
          "Good"
         ],
         "xaxis": "x",
         "y": {
          "bdata": "nms0JlGcMUCfB/hX65oxQK4m8l08mTFA",
          "dtype": "f8"
         },
         "yaxis": "y"
        },
        {
         "alignmentgroup": "True",
         "hovertemplate": "Metric=Operational_Cost_USD<br>Maintenance_Status=%{x}<br>Average Value=%{y}<extra></extra>",
         "legendgroup": "Operational_Cost_USD",
         "marker": {
          "color": "rgb(252,141,98)",
          "pattern": {
           "shape": ""
          }
         },
         "name": "Operational_Cost_USD",
         "offsetgroup": "Operational_Cost_USD",
         "orientation": "v",
         "showlegend": true,
         "textposition": "auto",
         "type": "bar",
         "x": [
          "Critical",
          "Fair",
          "Good"
         ],
         "xaxis": "x",
         "y": {
          "bdata": "yBuBM2EXD0GiCFv3nMoOQYcQNUY0kA9B",
          "dtype": "f8"
         },
         "yaxis": "y"
        }
       ],
       "layout": {
        "barmode": "group",
        "legend": {
         "title": {
          "text": "Metric"
         },
         "tracegroupgap": 0
        },
        "template": {
         "data": {
          "bar": [
           {
            "error_x": {
             "color": "#2a3f5f"
            },
            "error_y": {
             "color": "#2a3f5f"
            },
            "marker": {
             "line": {
              "color": "#E5ECF6",
              "width": 0.5
             },
             "pattern": {
              "fillmode": "overlay",
              "size": 10,
              "solidity": 0.2
             }
            },
            "type": "bar"
           }
          ],
          "barpolar": [
           {
            "marker": {
             "line": {
              "color": "#E5ECF6",
              "width": 0.5
             },
             "pattern": {
              "fillmode": "overlay",
              "size": 10,
              "solidity": 0.2
             }
            },
            "type": "barpolar"
           }
          ],
          "carpet": [
           {
            "aaxis": {
             "endlinecolor": "#2a3f5f",
             "gridcolor": "white",
             "linecolor": "white",
             "minorgridcolor": "white",
             "startlinecolor": "#2a3f5f"
            },
            "baxis": {
             "endlinecolor": "#2a3f5f",
             "gridcolor": "white",
             "linecolor": "white",
             "minorgridcolor": "white",
             "startlinecolor": "#2a3f5f"
            },
            "type": "carpet"
           }
          ],
          "choropleth": [
           {
            "colorbar": {
             "outlinewidth": 0,
             "ticks": ""
            },
            "type": "choropleth"
           }
          ],
          "contour": [
           {
            "colorbar": {
             "outlinewidth": 0,
             "ticks": ""
            },
            "colorscale": [
             [
              0,
              "#0d0887"
             ],
             [
              0.1111111111111111,
              "#46039f"
             ],
             [
              0.2222222222222222,
              "#7201a8"
             ],
             [
              0.3333333333333333,
              "#9c179e"
             ],
             [
              0.4444444444444444,
              "#bd3786"
             ],
             [
              0.5555555555555556,
              "#d8576b"
             ],
             [
              0.6666666666666666,
              "#ed7953"
             ],
             [
              0.7777777777777778,
              "#fb9f3a"
             ],
             [
              0.8888888888888888,
              "#fdca26"
             ],
             [
              1,
              "#f0f921"
             ]
            ],
            "type": "contour"
           }
          ],
          "contourcarpet": [
           {
            "colorbar": {
             "outlinewidth": 0,
             "ticks": ""
            },
            "type": "contourcarpet"
           }
          ],
          "heatmap": [
           {
            "colorbar": {
             "outlinewidth": 0,
             "ticks": ""
            },
            "colorscale": [
             [
              0,
              "#0d0887"
             ],
             [
              0.1111111111111111,
              "#46039f"
             ],
             [
              0.2222222222222222,
              "#7201a8"
             ],
             [
              0.3333333333333333,
              "#9c179e"
             ],
             [
              0.4444444444444444,
              "#bd3786"
             ],
             [
              0.5555555555555556,
              "#d8576b"
             ],
             [
              0.6666666666666666,
              "#ed7953"
             ],
             [
              0.7777777777777778,
              "#fb9f3a"
             ],
             [
              0.8888888888888888,
              "#fdca26"
             ],
             [
              1,
              "#f0f921"
             ]
            ],
            "type": "heatmap"
           }
          ],
          "histogram": [
           {
            "marker": {
             "pattern": {
              "fillmode": "overlay",
              "size": 10,
              "solidity": 0.2
             }
            },
            "type": "histogram"
           }
          ],
          "histogram2d": [
           {
            "colorbar": {
             "outlinewidth": 0,
             "ticks": ""
            },
            "colorscale": [
             [
              0,
              "#0d0887"
             ],
             [
              0.1111111111111111,
              "#46039f"
             ],
             [
              0.2222222222222222,
              "#7201a8"
             ],
             [
              0.3333333333333333,
              "#9c179e"
             ],
             [
              0.4444444444444444,
              "#bd3786"
             ],
             [
              0.5555555555555556,
              "#d8576b"
             ],
             [
              0.6666666666666666,
              "#ed7953"
             ],
             [
              0.7777777777777778,
              "#fb9f3a"
             ],
             [
              0.8888888888888888,
              "#fdca26"
             ],
             [
              1,
              "#f0f921"
             ]
            ],
            "type": "histogram2d"
           }
          ],
          "histogram2dcontour": [
           {
            "colorbar": {
             "outlinewidth": 0,
             "ticks": ""
            },
            "colorscale": [
             [
              0,
              "#0d0887"
             ],
             [
              0.1111111111111111,
              "#46039f"
             ],
             [
              0.2222222222222222,
              "#7201a8"
             ],
             [
              0.3333333333333333,
              "#9c179e"
             ],
             [
              0.4444444444444444,
              "#bd3786"
             ],
             [
              0.5555555555555556,
              "#d8576b"
             ],
             [
              0.6666666666666666,
              "#ed7953"
             ],
             [
              0.7777777777777778,
              "#fb9f3a"
             ],
             [
              0.8888888888888888,
              "#fdca26"
             ],
             [
              1,
              "#f0f921"
             ]
            ],
            "type": "histogram2dcontour"
           }
          ],
          "mesh3d": [
           {
            "colorbar": {
             "outlinewidth": 0,
             "ticks": ""
            },
            "type": "mesh3d"
           }
          ],
          "parcoords": [
           {
            "line": {
             "colorbar": {
              "outlinewidth": 0,
              "ticks": ""
             }
            },
            "type": "parcoords"
           }
          ],
          "pie": [
           {
            "automargin": true,
            "type": "pie"
           }
          ],
          "scatter": [
           {
            "fillpattern": {
             "fillmode": "overlay",
             "size": 10,
             "solidity": 0.2
            },
            "type": "scatter"
           }
          ],
          "scatter3d": [
           {
            "line": {
             "colorbar": {
              "outlinewidth": 0,
              "ticks": ""
             }
            },
            "marker": {
             "colorbar": {
              "outlinewidth": 0,
              "ticks": ""
             }
            },
            "type": "scatter3d"
           }
          ],
          "scattercarpet": [
           {
            "marker": {
             "colorbar": {
              "outlinewidth": 0,
              "ticks": ""
             }
            },
            "type": "scattercarpet"
           }
          ],
          "scattergeo": [
           {
            "marker": {
             "colorbar": {
              "outlinewidth": 0,
              "ticks": ""
             }
            },
            "type": "scattergeo"
           }
          ],
          "scattergl": [
           {
            "marker": {
             "colorbar": {
              "outlinewidth": 0,
              "ticks": ""
             }
            },
            "type": "scattergl"
           }
          ],
          "scattermap": [
           {
            "marker": {
             "colorbar": {
              "outlinewidth": 0,
              "ticks": ""
             }
            },
            "type": "scattermap"
           }
          ],
          "scattermapbox": [
           {
            "marker": {
             "colorbar": {
              "outlinewidth": 0,
              "ticks": ""
             }
            },
            "type": "scattermapbox"
           }
          ],
          "scatterpolar": [
           {
            "marker": {
             "colorbar": {
              "outlinewidth": 0,
              "ticks": ""
             }
            },
            "type": "scatterpolar"
           }
          ],
          "scatterpolargl": [
           {
            "marker": {
             "colorbar": {
              "outlinewidth": 0,
              "ticks": ""
             }
            },
            "type": "scatterpolargl"
           }
          ],
          "scatterternary": [
           {
            "marker": {
             "colorbar": {
              "outlinewidth": 0,
              "ticks": ""
             }
            },
            "type": "scatterternary"
           }
          ],
          "surface": [
           {
            "colorbar": {
             "outlinewidth": 0,
             "ticks": ""
            },
            "colorscale": [
             [
              0,
              "#0d0887"
             ],
             [
              0.1111111111111111,
              "#46039f"
             ],
             [
              0.2222222222222222,
              "#7201a8"
             ],
             [
              0.3333333333333333,
              "#9c179e"
             ],
             [
              0.4444444444444444,
              "#bd3786"
             ],
             [
              0.5555555555555556,
              "#d8576b"
             ],
             [
              0.6666666666666666,
              "#ed7953"
             ],
             [
              0.7777777777777778,
              "#fb9f3a"
             ],
             [
              0.8888888888888888,
              "#fdca26"
             ],
             [
              1,
              "#f0f921"
             ]
            ],
            "type": "surface"
           }
          ],
          "table": [
           {
            "cells": {
             "fill": {
              "color": "#EBF0F8"
             },
             "line": {
              "color": "white"
             }
            },
            "header": {
             "fill": {
              "color": "#C8D4E3"
             },
             "line": {
              "color": "white"
             }
            },
            "type": "table"
           }
          ]
         },
         "layout": {
          "annotationdefaults": {
           "arrowcolor": "#2a3f5f",
           "arrowhead": 0,
           "arrowwidth": 1
          },
          "autotypenumbers": "strict",
          "coloraxis": {
           "colorbar": {
            "outlinewidth": 0,
            "ticks": ""
           }
          },
          "colorscale": {
           "diverging": [
            [
             0,
             "#8e0152"
            ],
            [
             0.1,
             "#c51b7d"
            ],
            [
             0.2,
             "#de77ae"
            ],
            [
             0.3,
             "#f1b6da"
            ],
            [
             0.4,
             "#fde0ef"
            ],
            [
             0.5,
             "#f7f7f7"
            ],
            [
             0.6,
             "#e6f5d0"
            ],
            [
             0.7,
             "#b8e186"
            ],
            [
             0.8,
             "#7fbc41"
            ],
            [
             0.9,
             "#4d9221"
            ],
            [
             1,
             "#276419"
            ]
           ],
           "sequential": [
            [
             0,
             "#0d0887"
            ],
            [
             0.1111111111111111,
             "#46039f"
            ],
            [
             0.2222222222222222,
             "#7201a8"
            ],
            [
             0.3333333333333333,
             "#9c179e"
            ],
            [
             0.4444444444444444,
             "#bd3786"
            ],
            [
             0.5555555555555556,
             "#d8576b"
            ],
            [
             0.6666666666666666,
             "#ed7953"
            ],
            [
             0.7777777777777778,
             "#fb9f3a"
            ],
            [
             0.8888888888888888,
             "#fdca26"
            ],
            [
             1,
             "#f0f921"
            ]
           ],
           "sequentialminus": [
            [
             0,
             "#0d0887"
            ],
            [
             0.1111111111111111,
             "#46039f"
            ],
            [
             0.2222222222222222,
             "#7201a8"
            ],
            [
             0.3333333333333333,
             "#9c179e"
            ],
            [
             0.4444444444444444,
             "#bd3786"
            ],
            [
             0.5555555555555556,
             "#d8576b"
            ],
            [
             0.6666666666666666,
             "#ed7953"
            ],
            [
             0.7777777777777778,
             "#fb9f3a"
            ],
            [
             0.8888888888888888,
             "#fdca26"
            ],
            [
             1,
             "#f0f921"
            ]
           ]
          },
          "colorway": [
           "#636efa",
           "#EF553B",
           "#00cc96",
           "#ab63fa",
           "#FFA15A",
           "#19d3f3",
           "#FF6692",
           "#B6E880",
           "#FF97FF",
           "#FECB52"
          ],
          "font": {
           "color": "#2a3f5f"
          },
          "geo": {
           "bgcolor": "white",
           "lakecolor": "white",
           "landcolor": "#E5ECF6",
           "showlakes": true,
           "showland": true,
           "subunitcolor": "white"
          },
          "hoverlabel": {
           "align": "left"
          },
          "hovermode": "closest",
          "mapbox": {
           "style": "light"
          },
          "paper_bgcolor": "white",
          "plot_bgcolor": "#E5ECF6",
          "polar": {
           "angularaxis": {
            "gridcolor": "white",
            "linecolor": "white",
            "ticks": ""
           },
           "bgcolor": "#E5ECF6",
           "radialaxis": {
            "gridcolor": "white",
            "linecolor": "white",
            "ticks": ""
           }
          },
          "scene": {
           "xaxis": {
            "backgroundcolor": "#E5ECF6",
            "gridcolor": "white",
            "gridwidth": 2,
            "linecolor": "white",
            "showbackground": true,
            "ticks": "",
            "zerolinecolor": "white"
           },
           "yaxis": {
            "backgroundcolor": "#E5ECF6",
            "gridcolor": "white",
            "gridwidth": 2,
            "linecolor": "white",
            "showbackground": true,
            "ticks": "",
            "zerolinecolor": "white"
           },
           "zaxis": {
            "backgroundcolor": "#E5ECF6",
            "gridcolor": "white",
            "gridwidth": 2,
            "linecolor": "white",
            "showbackground": true,
            "ticks": "",
            "zerolinecolor": "white"
           }
          },
          "shapedefaults": {
           "line": {
            "color": "#2a3f5f"
           }
          },
          "ternary": {
           "aaxis": {
            "gridcolor": "white",
            "linecolor": "white",
            "ticks": ""
           },
           "baxis": {
            "gridcolor": "white",
            "linecolor": "white",
            "ticks": ""
           },
           "bgcolor": "#E5ECF6",
           "caxis": {
            "gridcolor": "white",
            "linecolor": "white",
            "ticks": ""
           }
          },
          "title": {
           "x": 0.05
          },
          "xaxis": {
           "automargin": true,
           "gridcolor": "white",
           "linecolor": "white",
           "ticks": "",
           "title": {
            "standoff": 15
           },
           "zerolinecolor": "white",
           "zerolinewidth": 2
          },
          "yaxis": {
           "automargin": true,
           "gridcolor": "white",
           "linecolor": "white",
           "ticks": "",
           "title": {
            "standoff": 15
           },
           "zerolinecolor": "white",
           "zerolinewidth": 2
          }
         }
        },
        "title": {
         "text": "Maintenance Status vs Average Speed and Operational Cost"
        },
        "xaxis": {
         "anchor": "y",
         "domain": [
          0,
          1
         ],
         "tickangle": -45,
         "title": {
          "text": "Maintenance_Status"
         }
        },
        "yaxis": {
         "anchor": "x",
         "domain": [
          0,
          1
         ],
         "title": {
          "text": "Average Value"
         }
        }
       }
      }
     },
     "metadata": {},
     "output_type": "display_data"
    }
   ],
   "source": [
    "# maintenancce status vs average speed/cost\n",
    "\n",
    "avg_data = df.groupby(['Maintenance_Status']).agg({'Speed_Over_Ground_knots': 'mean', 'Operational_Cost_USD': 'mean'}).reset_index()\n",
    "melted_data = avg_data.melt(id_vars='Maintenance_Status', value_vars=['Speed_Over_Ground_knots', 'Operational_Cost_USD'],\n",
    "                            var_name='Metric', value_name='Value')\n",
    "fig = px.bar(\n",
    "    melted_data,\n",
    "    x='Maintenance_Status',\n",
    "    y='Value',\n",
    "    color='Metric',\n",
    "    barmode='group',\n",
    "    title='Maintenance Status vs Average Speed and Operational Cost',\n",
    "    labels={'Value': 'Average Value', 'Maintenance Status': 'Maintenance Status', 'Metric': 'Metric'},\n",
    "    color_discrete_sequence=px.colors.qualitative.Set2\n",
    ")\n",
    "\n",
    "fig.update_layout(xaxis_tickangle=-45)\n",
    "fig.show()"
   ]
  },
  {
   "cell_type": "code",
   "execution_count": 39,
   "id": "e5bb8123",
   "metadata": {},
   "outputs": [
    {
     "data": {
      "application/vnd.plotly.v1+json": {
       "config": {
        "plotlyServerURL": "https://plot.ly"
       },
       "data": [
        {
         "hovertemplate": "Weather_Condition=%{x}<br>Efficiency_nm_per_kWh=%{marker.color}<extra></extra>",
         "legendgroup": "",
         "marker": {
          "color": {
           "bdata": "ly372aFj6j9y7ju7WhHpP0aRF0aBcuk/",
           "dtype": "f8"
          },
          "coloraxis": "coloraxis",
          "pattern": {
           "shape": ""
          }
         },
         "name": "",
         "orientation": "v",
         "showlegend": false,
         "textposition": "auto",
         "type": "bar",
         "x": [
          "Calm",
          "Moderate",
          "Rough"
         ],
         "xaxis": "x",
         "y": {
          "bdata": "ly372aFj6j9y7ju7WhHpP0aRF0aBcuk/",
          "dtype": "f8"
         },
         "yaxis": "y"
        }
       ],
       "layout": {
        "barmode": "relative",
        "coloraxis": {
         "colorbar": {
          "title": {
           "text": "Efficiency_nm_per_kWh"
          }
         },
         "colorscale": [
          [
           0,
           "rgb(243, 231, 155)"
          ],
          [
           0.16666666666666666,
           "rgb(250, 196, 132)"
          ],
          [
           0.3333333333333333,
           "rgb(248, 160, 126)"
          ],
          [
           0.5,
           "rgb(235, 127, 134)"
          ],
          [
           0.6666666666666666,
           "rgb(206, 102, 147)"
          ],
          [
           0.8333333333333334,
           "rgb(160, 89, 160)"
          ],
          [
           1,
           "rgb(92, 83, 165)"
          ]
         ]
        },
        "legend": {
         "tracegroupgap": 0
        },
        "template": {
         "data": {
          "bar": [
           {
            "error_x": {
             "color": "#2a3f5f"
            },
            "error_y": {
             "color": "#2a3f5f"
            },
            "marker": {
             "line": {
              "color": "#E5ECF6",
              "width": 0.5
             },
             "pattern": {
              "fillmode": "overlay",
              "size": 10,
              "solidity": 0.2
             }
            },
            "type": "bar"
           }
          ],
          "barpolar": [
           {
            "marker": {
             "line": {
              "color": "#E5ECF6",
              "width": 0.5
             },
             "pattern": {
              "fillmode": "overlay",
              "size": 10,
              "solidity": 0.2
             }
            },
            "type": "barpolar"
           }
          ],
          "carpet": [
           {
            "aaxis": {
             "endlinecolor": "#2a3f5f",
             "gridcolor": "white",
             "linecolor": "white",
             "minorgridcolor": "white",
             "startlinecolor": "#2a3f5f"
            },
            "baxis": {
             "endlinecolor": "#2a3f5f",
             "gridcolor": "white",
             "linecolor": "white",
             "minorgridcolor": "white",
             "startlinecolor": "#2a3f5f"
            },
            "type": "carpet"
           }
          ],
          "choropleth": [
           {
            "colorbar": {
             "outlinewidth": 0,
             "ticks": ""
            },
            "type": "choropleth"
           }
          ],
          "contour": [
           {
            "colorbar": {
             "outlinewidth": 0,
             "ticks": ""
            },
            "colorscale": [
             [
              0,
              "#0d0887"
             ],
             [
              0.1111111111111111,
              "#46039f"
             ],
             [
              0.2222222222222222,
              "#7201a8"
             ],
             [
              0.3333333333333333,
              "#9c179e"
             ],
             [
              0.4444444444444444,
              "#bd3786"
             ],
             [
              0.5555555555555556,
              "#d8576b"
             ],
             [
              0.6666666666666666,
              "#ed7953"
             ],
             [
              0.7777777777777778,
              "#fb9f3a"
             ],
             [
              0.8888888888888888,
              "#fdca26"
             ],
             [
              1,
              "#f0f921"
             ]
            ],
            "type": "contour"
           }
          ],
          "contourcarpet": [
           {
            "colorbar": {
             "outlinewidth": 0,
             "ticks": ""
            },
            "type": "contourcarpet"
           }
          ],
          "heatmap": [
           {
            "colorbar": {
             "outlinewidth": 0,
             "ticks": ""
            },
            "colorscale": [
             [
              0,
              "#0d0887"
             ],
             [
              0.1111111111111111,
              "#46039f"
             ],
             [
              0.2222222222222222,
              "#7201a8"
             ],
             [
              0.3333333333333333,
              "#9c179e"
             ],
             [
              0.4444444444444444,
              "#bd3786"
             ],
             [
              0.5555555555555556,
              "#d8576b"
             ],
             [
              0.6666666666666666,
              "#ed7953"
             ],
             [
              0.7777777777777778,
              "#fb9f3a"
             ],
             [
              0.8888888888888888,
              "#fdca26"
             ],
             [
              1,
              "#f0f921"
             ]
            ],
            "type": "heatmap"
           }
          ],
          "histogram": [
           {
            "marker": {
             "pattern": {
              "fillmode": "overlay",
              "size": 10,
              "solidity": 0.2
             }
            },
            "type": "histogram"
           }
          ],
          "histogram2d": [
           {
            "colorbar": {
             "outlinewidth": 0,
             "ticks": ""
            },
            "colorscale": [
             [
              0,
              "#0d0887"
             ],
             [
              0.1111111111111111,
              "#46039f"
             ],
             [
              0.2222222222222222,
              "#7201a8"
             ],
             [
              0.3333333333333333,
              "#9c179e"
             ],
             [
              0.4444444444444444,
              "#bd3786"
             ],
             [
              0.5555555555555556,
              "#d8576b"
             ],
             [
              0.6666666666666666,
              "#ed7953"
             ],
             [
              0.7777777777777778,
              "#fb9f3a"
             ],
             [
              0.8888888888888888,
              "#fdca26"
             ],
             [
              1,
              "#f0f921"
             ]
            ],
            "type": "histogram2d"
           }
          ],
          "histogram2dcontour": [
           {
            "colorbar": {
             "outlinewidth": 0,
             "ticks": ""
            },
            "colorscale": [
             [
              0,
              "#0d0887"
             ],
             [
              0.1111111111111111,
              "#46039f"
             ],
             [
              0.2222222222222222,
              "#7201a8"
             ],
             [
              0.3333333333333333,
              "#9c179e"
             ],
             [
              0.4444444444444444,
              "#bd3786"
             ],
             [
              0.5555555555555556,
              "#d8576b"
             ],
             [
              0.6666666666666666,
              "#ed7953"
             ],
             [
              0.7777777777777778,
              "#fb9f3a"
             ],
             [
              0.8888888888888888,
              "#fdca26"
             ],
             [
              1,
              "#f0f921"
             ]
            ],
            "type": "histogram2dcontour"
           }
          ],
          "mesh3d": [
           {
            "colorbar": {
             "outlinewidth": 0,
             "ticks": ""
            },
            "type": "mesh3d"
           }
          ],
          "parcoords": [
           {
            "line": {
             "colorbar": {
              "outlinewidth": 0,
              "ticks": ""
             }
            },
            "type": "parcoords"
           }
          ],
          "pie": [
           {
            "automargin": true,
            "type": "pie"
           }
          ],
          "scatter": [
           {
            "fillpattern": {
             "fillmode": "overlay",
             "size": 10,
             "solidity": 0.2
            },
            "type": "scatter"
           }
          ],
          "scatter3d": [
           {
            "line": {
             "colorbar": {
              "outlinewidth": 0,
              "ticks": ""
             }
            },
            "marker": {
             "colorbar": {
              "outlinewidth": 0,
              "ticks": ""
             }
            },
            "type": "scatter3d"
           }
          ],
          "scattercarpet": [
           {
            "marker": {
             "colorbar": {
              "outlinewidth": 0,
              "ticks": ""
             }
            },
            "type": "scattercarpet"
           }
          ],
          "scattergeo": [
           {
            "marker": {
             "colorbar": {
              "outlinewidth": 0,
              "ticks": ""
             }
            },
            "type": "scattergeo"
           }
          ],
          "scattergl": [
           {
            "marker": {
             "colorbar": {
              "outlinewidth": 0,
              "ticks": ""
             }
            },
            "type": "scattergl"
           }
          ],
          "scattermap": [
           {
            "marker": {
             "colorbar": {
              "outlinewidth": 0,
              "ticks": ""
             }
            },
            "type": "scattermap"
           }
          ],
          "scattermapbox": [
           {
            "marker": {
             "colorbar": {
              "outlinewidth": 0,
              "ticks": ""
             }
            },
            "type": "scattermapbox"
           }
          ],
          "scatterpolar": [
           {
            "marker": {
             "colorbar": {
              "outlinewidth": 0,
              "ticks": ""
             }
            },
            "type": "scatterpolar"
           }
          ],
          "scatterpolargl": [
           {
            "marker": {
             "colorbar": {
              "outlinewidth": 0,
              "ticks": ""
             }
            },
            "type": "scatterpolargl"
           }
          ],
          "scatterternary": [
           {
            "marker": {
             "colorbar": {
              "outlinewidth": 0,
              "ticks": ""
             }
            },
            "type": "scatterternary"
           }
          ],
          "surface": [
           {
            "colorbar": {
             "outlinewidth": 0,
             "ticks": ""
            },
            "colorscale": [
             [
              0,
              "#0d0887"
             ],
             [
              0.1111111111111111,
              "#46039f"
             ],
             [
              0.2222222222222222,
              "#7201a8"
             ],
             [
              0.3333333333333333,
              "#9c179e"
             ],
             [
              0.4444444444444444,
              "#bd3786"
             ],
             [
              0.5555555555555556,
              "#d8576b"
             ],
             [
              0.6666666666666666,
              "#ed7953"
             ],
             [
              0.7777777777777778,
              "#fb9f3a"
             ],
             [
              0.8888888888888888,
              "#fdca26"
             ],
             [
              1,
              "#f0f921"
             ]
            ],
            "type": "surface"
           }
          ],
          "table": [
           {
            "cells": {
             "fill": {
              "color": "#EBF0F8"
             },
             "line": {
              "color": "white"
             }
            },
            "header": {
             "fill": {
              "color": "#C8D4E3"
             },
             "line": {
              "color": "white"
             }
            },
            "type": "table"
           }
          ]
         },
         "layout": {
          "annotationdefaults": {
           "arrowcolor": "#2a3f5f",
           "arrowhead": 0,
           "arrowwidth": 1
          },
          "autotypenumbers": "strict",
          "coloraxis": {
           "colorbar": {
            "outlinewidth": 0,
            "ticks": ""
           }
          },
          "colorscale": {
           "diverging": [
            [
             0,
             "#8e0152"
            ],
            [
             0.1,
             "#c51b7d"
            ],
            [
             0.2,
             "#de77ae"
            ],
            [
             0.3,
             "#f1b6da"
            ],
            [
             0.4,
             "#fde0ef"
            ],
            [
             0.5,
             "#f7f7f7"
            ],
            [
             0.6,
             "#e6f5d0"
            ],
            [
             0.7,
             "#b8e186"
            ],
            [
             0.8,
             "#7fbc41"
            ],
            [
             0.9,
             "#4d9221"
            ],
            [
             1,
             "#276419"
            ]
           ],
           "sequential": [
            [
             0,
             "#0d0887"
            ],
            [
             0.1111111111111111,
             "#46039f"
            ],
            [
             0.2222222222222222,
             "#7201a8"
            ],
            [
             0.3333333333333333,
             "#9c179e"
            ],
            [
             0.4444444444444444,
             "#bd3786"
            ],
            [
             0.5555555555555556,
             "#d8576b"
            ],
            [
             0.6666666666666666,
             "#ed7953"
            ],
            [
             0.7777777777777778,
             "#fb9f3a"
            ],
            [
             0.8888888888888888,
             "#fdca26"
            ],
            [
             1,
             "#f0f921"
            ]
           ],
           "sequentialminus": [
            [
             0,
             "#0d0887"
            ],
            [
             0.1111111111111111,
             "#46039f"
            ],
            [
             0.2222222222222222,
             "#7201a8"
            ],
            [
             0.3333333333333333,
             "#9c179e"
            ],
            [
             0.4444444444444444,
             "#bd3786"
            ],
            [
             0.5555555555555556,
             "#d8576b"
            ],
            [
             0.6666666666666666,
             "#ed7953"
            ],
            [
             0.7777777777777778,
             "#fb9f3a"
            ],
            [
             0.8888888888888888,
             "#fdca26"
            ],
            [
             1,
             "#f0f921"
            ]
           ]
          },
          "colorway": [
           "#636efa",
           "#EF553B",
           "#00cc96",
           "#ab63fa",
           "#FFA15A",
           "#19d3f3",
           "#FF6692",
           "#B6E880",
           "#FF97FF",
           "#FECB52"
          ],
          "font": {
           "color": "#2a3f5f"
          },
          "geo": {
           "bgcolor": "white",
           "lakecolor": "white",
           "landcolor": "#E5ECF6",
           "showlakes": true,
           "showland": true,
           "subunitcolor": "white"
          },
          "hoverlabel": {
           "align": "left"
          },
          "hovermode": "closest",
          "mapbox": {
           "style": "light"
          },
          "paper_bgcolor": "white",
          "plot_bgcolor": "#E5ECF6",
          "polar": {
           "angularaxis": {
            "gridcolor": "white",
            "linecolor": "white",
            "ticks": ""
           },
           "bgcolor": "#E5ECF6",
           "radialaxis": {
            "gridcolor": "white",
            "linecolor": "white",
            "ticks": ""
           }
          },
          "scene": {
           "xaxis": {
            "backgroundcolor": "#E5ECF6",
            "gridcolor": "white",
            "gridwidth": 2,
            "linecolor": "white",
            "showbackground": true,
            "ticks": "",
            "zerolinecolor": "white"
           },
           "yaxis": {
            "backgroundcolor": "#E5ECF6",
            "gridcolor": "white",
            "gridwidth": 2,
            "linecolor": "white",
            "showbackground": true,
            "ticks": "",
            "zerolinecolor": "white"
           },
           "zaxis": {
            "backgroundcolor": "#E5ECF6",
            "gridcolor": "white",
            "gridwidth": 2,
            "linecolor": "white",
            "showbackground": true,
            "ticks": "",
            "zerolinecolor": "white"
           }
          },
          "shapedefaults": {
           "line": {
            "color": "#2a3f5f"
           }
          },
          "ternary": {
           "aaxis": {
            "gridcolor": "white",
            "linecolor": "white",
            "ticks": ""
           },
           "baxis": {
            "gridcolor": "white",
            "linecolor": "white",
            "ticks": ""
           },
           "bgcolor": "#E5ECF6",
           "caxis": {
            "gridcolor": "white",
            "linecolor": "white",
            "ticks": ""
           }
          },
          "title": {
           "x": 0.05
          },
          "xaxis": {
           "automargin": true,
           "gridcolor": "white",
           "linecolor": "white",
           "ticks": "",
           "title": {
            "standoff": 15
           },
           "zerolinecolor": "white",
           "zerolinewidth": 2
          },
          "yaxis": {
           "automargin": true,
           "gridcolor": "white",
           "linecolor": "white",
           "ticks": "",
           "title": {
            "standoff": 15
           },
           "zerolinecolor": "white",
           "zerolinewidth": 2
          }
         }
        },
        "title": {
         "text": "Average Efficiency by Weather Condition"
        },
        "xaxis": {
         "anchor": "y",
         "domain": [
          0,
          1
         ],
         "tickangle": -45,
         "title": {
          "text": "Weather_Condition"
         }
        },
        "yaxis": {
         "anchor": "x",
         "domain": [
          0,
          1
         ],
         "title": {
          "text": "Efficiency_nm_per_kWh"
         }
        }
       }
      }
     },
     "metadata": {},
     "output_type": "display_data"
    }
   ],
   "source": [
    "# weather conditions vs efficiency\n",
    "\n",
    "avgerage_efficiency = df.groupby('Weather_Condition')['Efficiency_nm_per_kWh'].mean().reset_index()\n",
    "\n",
    "fig = px.bar(\n",
    "    avgerage_efficiency,\n",
    "    x='Weather_Condition',\n",
    "    y='Efficiency_nm_per_kWh',\n",
    "    title='Average Efficiency by Weather Condition',\n",
    "    labels={'Efficiency': 'Average Efficiency', 'Weather Condition': 'Weather Condition'},\n",
    "    color='Efficiency_nm_per_kWh',\n",
    "    color_continuous_scale='Sunset'\n",
    ")\n",
    "\n",
    "fig.update_layout(xaxis_tickangle=-45)\n",
    "fig.show()"
   ]
  },
  {
   "cell_type": "code",
   "execution_count": 41,
   "id": "ea7f9bb5",
   "metadata": {},
   "outputs": [
    {
     "data": {
      "application/vnd.plotly.v1+json": {
       "config": {
        "plotlyServerURL": "https://plot.ly"
       },
       "data": [
        {
         "alignmentgroup": "True",
         "hovertemplate": "Weather_Condition=%{x}<br>Speed_Over_Ground_knots=%{y}<extra></extra>",
         "legendgroup": "Moderate",
         "marker": {
          "color": "rgb(102, 197, 204)"
         },
         "name": "Moderate",
         "notched": false,
         "offsetgroup": "Moderate",
         "orientation": "v",
         "showlegend": true,
         "type": "box",
         "x": [
          "Moderate",
          "Moderate",
          "Moderate",
          "Moderate",
          "Moderate",
          "Moderate",
          "Moderate",
          "Moderate",
          "Moderate",
          "Moderate",
          "Moderate",
          "Moderate",
          "Moderate",
          "Moderate",
          "Moderate",
          "Moderate",
          "Moderate",
          "Moderate",
          "Moderate",
          "Moderate",
          "Moderate",
          "Moderate",
          "Moderate",
          "Moderate",
          "Moderate",
          "Moderate",
          "Moderate",
          "Moderate",
          "Moderate",
          "Moderate",
          "Moderate",
          "Moderate",
          "Moderate",
          "Moderate",
          "Moderate",
          "Moderate",
          "Moderate",
          "Moderate",
          "Moderate",
          "Moderate",
          "Moderate",
          "Moderate",
          "Moderate",
          "Moderate",
          "Moderate",
          "Moderate",
          "Moderate",
          "Moderate",
          "Moderate",
          "Moderate",
          "Moderate",
          "Moderate",
          "Moderate",
          "Moderate",
          "Moderate",
          "Moderate",
          "Moderate",
          "Moderate",
          "Moderate",
          "Moderate",
          "Moderate",
          "Moderate",
          "Moderate",
          "Moderate",
          "Moderate",
          "Moderate",
          "Moderate",
          "Moderate",
          "Moderate",
          "Moderate",
          "Moderate",
          "Moderate",
          "Moderate",
          "Moderate",
          "Moderate",
          "Moderate",
          "Moderate",
          "Moderate",
          "Moderate",
          "Moderate",
          "Moderate",
          "Moderate",
          "Moderate",
          "Moderate",
          "Moderate",
          "Moderate",
          "Moderate",
          "Moderate",
          "Moderate",
          "Moderate",
          "Moderate",
          "Moderate",
          "Moderate",
          "Moderate",
          "Moderate",
          "Moderate",
          "Moderate",
          "Moderate",
          "Moderate",
          "Moderate",
          "Moderate",
          "Moderate",
          "Moderate",
          "Moderate",
          "Moderate",
          "Moderate",
          "Moderate",
          "Moderate",
          "Moderate",
          "Moderate",
          "Moderate",
          "Moderate",
          "Moderate",
          "Moderate",
          "Moderate",
          "Moderate",
          "Moderate",
          "Moderate",
          "Moderate",
          "Moderate",
          "Moderate",
          "Moderate",
          "Moderate",
          "Moderate",
          "Moderate",
          "Moderate",
          "Moderate",
          "Moderate",
          "Moderate",
          "Moderate",
          "Moderate",
          "Moderate",
          "Moderate",
          "Moderate",
          "Moderate",
          "Moderate",
          "Moderate",
          "Moderate",
          "Moderate",
          "Moderate",
          "Moderate",
          "Moderate",
          "Moderate",
          "Moderate",
          "Moderate",
          "Moderate",
          "Moderate",
          "Moderate",
          "Moderate",
          "Moderate",
          "Moderate",
          "Moderate",
          "Moderate",
          "Moderate",
          "Moderate",
          "Moderate",
          "Moderate",
          "Moderate",
          "Moderate",
          "Moderate",
          "Moderate",
          "Moderate",
          "Moderate",
          "Moderate",
          "Moderate",
          "Moderate",
          "Moderate",
          "Moderate",
          "Moderate",
          "Moderate",
          "Moderate",
          "Moderate",
          "Moderate",
          "Moderate",
          "Moderate",
          "Moderate",
          "Moderate",
          "Moderate",
          "Moderate",
          "Moderate",
          "Moderate",
          "Moderate",
          "Moderate",
          "Moderate",
          "Moderate",
          "Moderate",
          "Moderate",
          "Moderate",
          "Moderate",
          "Moderate",
          "Moderate",
          "Moderate",
          "Moderate",
          "Moderate",
          "Moderate",
          "Moderate",
          "Moderate",
          "Moderate",
          "Moderate",
          "Moderate",
          "Moderate",
          "Moderate",
          "Moderate",
          "Moderate",
          "Moderate",
          "Moderate",
          "Moderate",
          "Moderate",
          "Moderate",
          "Moderate",
          "Moderate",
          "Moderate",
          "Moderate",
          "Moderate",
          "Moderate",
          "Moderate",
          "Moderate",
          "Moderate",
          "Moderate",
          "Moderate",
          "Moderate",
          "Moderate",
          "Moderate",
          "Moderate",
          "Moderate",
          "Moderate",
          "Moderate",
          "Moderate",
          "Moderate",
          "Moderate",
          "Moderate",
          "Moderate",
          "Moderate",
          "Moderate",
          "Moderate",
          "Moderate",
          "Moderate",
          "Moderate",
          "Moderate",
          "Moderate",
          "Moderate",
          "Moderate",
          "Moderate",
          "Moderate",
          "Moderate",
          "Moderate",
          "Moderate",
          "Moderate",
          "Moderate",
          "Moderate",
          "Moderate",
          "Moderate",
          "Moderate",
          "Moderate",
          "Moderate",
          "Moderate",
          "Moderate",
          "Moderate",
          "Moderate",
          "Moderate",
          "Moderate",
          "Moderate",
          "Moderate",
          "Moderate",
          "Moderate",
          "Moderate",
          "Moderate",
          "Moderate",
          "Moderate",
          "Moderate",
          "Moderate",
          "Moderate",
          "Moderate",
          "Moderate",
          "Moderate",
          "Moderate",
          "Moderate",
          "Moderate",
          "Moderate",
          "Moderate",
          "Moderate",
          "Moderate",
          "Moderate",
          "Moderate",
          "Moderate",
          "Moderate",
          "Moderate",
          "Moderate",
          "Moderate",
          "Moderate",
          "Moderate",
          "Moderate",
          "Moderate",
          "Moderate",
          "Moderate",
          "Moderate",
          "Moderate",
          "Moderate",
          "Moderate",
          "Moderate",
          "Moderate",
          "Moderate",
          "Moderate",
          "Moderate",
          "Moderate",
          "Moderate",
          "Moderate",
          "Moderate",
          "Moderate",
          "Moderate",
          "Moderate",
          "Moderate",
          "Moderate",
          "Moderate",
          "Moderate",
          "Moderate",
          "Moderate",
          "Moderate",
          "Moderate",
          "Moderate",
          "Moderate",
          "Moderate",
          "Moderate",
          "Moderate",
          "Moderate",
          "Moderate",
          "Moderate",
          "Moderate",
          "Moderate",
          "Moderate",
          "Moderate",
          "Moderate",
          "Moderate",
          "Moderate",
          "Moderate",
          "Moderate",
          "Moderate",
          "Moderate",
          "Moderate",
          "Moderate",
          "Moderate",
          "Moderate",
          "Moderate",
          "Moderate",
          "Moderate",
          "Moderate",
          "Moderate",
          "Moderate",
          "Moderate",
          "Moderate",
          "Moderate",
          "Moderate",
          "Moderate",
          "Moderate",
          "Moderate",
          "Moderate",
          "Moderate",
          "Moderate",
          "Moderate",
          "Moderate",
          "Moderate",
          "Moderate",
          "Moderate",
          "Moderate",
          "Moderate",
          "Moderate",
          "Moderate",
          "Moderate",
          "Moderate",
          "Moderate",
          "Moderate",
          "Moderate",
          "Moderate",
          "Moderate",
          "Moderate",
          "Moderate",
          "Moderate",
          "Moderate",
          "Moderate",
          "Moderate",
          "Moderate",
          "Moderate",
          "Moderate",
          "Moderate",
          "Moderate",
          "Moderate",
          "Moderate",
          "Moderate",
          "Moderate",
          "Moderate",
          "Moderate",
          "Moderate",
          "Moderate",
          "Moderate",
          "Moderate",
          "Moderate",
          "Moderate",
          "Moderate",
          "Moderate",
          "Moderate",
          "Moderate",
          "Moderate",
          "Moderate",
          "Moderate",
          "Moderate",
          "Moderate",
          "Moderate",
          "Moderate",
          "Moderate",
          "Moderate",
          "Moderate",
          "Moderate",
          "Moderate",
          "Moderate",
          "Moderate",
          "Moderate",
          "Moderate",
          "Moderate",
          "Moderate",
          "Moderate",
          "Moderate",
          "Moderate",
          "Moderate",
          "Moderate",
          "Moderate",
          "Moderate",
          "Moderate",
          "Moderate",
          "Moderate",
          "Moderate",
          "Moderate",
          "Moderate",
          "Moderate",
          "Moderate",
          "Moderate",
          "Moderate",
          "Moderate",
          "Moderate",
          "Moderate",
          "Moderate",
          "Moderate",
          "Moderate",
          "Moderate",
          "Moderate",
          "Moderate",
          "Moderate",
          "Moderate",
          "Moderate",
          "Moderate",
          "Moderate",
          "Moderate",
          "Moderate",
          "Moderate",
          "Moderate",
          "Moderate",
          "Moderate",
          "Moderate",
          "Moderate",
          "Moderate",
          "Moderate",
          "Moderate",
          "Moderate",
          "Moderate",
          "Moderate",
          "Moderate",
          "Moderate",
          "Moderate",
          "Moderate",
          "Moderate",
          "Moderate",
          "Moderate",
          "Moderate",
          "Moderate",
          "Moderate",
          "Moderate",
          "Moderate",
          "Moderate",
          "Moderate",
          "Moderate",
          "Moderate",
          "Moderate",
          "Moderate",
          "Moderate",
          "Moderate",
          "Moderate",
          "Moderate",
          "Moderate",
          "Moderate",
          "Moderate",
          "Moderate",
          "Moderate",
          "Moderate",
          "Moderate",
          "Moderate",
          "Moderate",
          "Moderate",
          "Moderate",
          "Moderate",
          "Moderate",
          "Moderate",
          "Moderate",
          "Moderate",
          "Moderate",
          "Moderate",
          "Moderate",
          "Moderate",
          "Moderate",
          "Moderate",
          "Moderate",
          "Moderate",
          "Moderate",
          "Moderate",
          "Moderate",
          "Moderate",
          "Moderate",
          "Moderate",
          "Moderate",
          "Moderate",
          "Moderate",
          "Moderate",
          "Moderate",
          "Moderate",
          "Moderate",
          "Moderate",
          "Moderate",
          "Moderate",
          "Moderate",
          "Moderate",
          "Moderate",
          "Moderate",
          "Moderate",
          "Moderate",
          "Moderate",
          "Moderate",
          "Moderate",
          "Moderate",
          "Moderate",
          "Moderate",
          "Moderate",
          "Moderate",
          "Moderate",
          "Moderate",
          "Moderate",
          "Moderate",
          "Moderate",
          "Moderate",
          "Moderate",
          "Moderate",
          "Moderate",
          "Moderate",
          "Moderate",
          "Moderate",
          "Moderate",
          "Moderate",
          "Moderate",
          "Moderate",
          "Moderate",
          "Moderate",
          "Moderate",
          "Moderate",
          "Moderate",
          "Moderate",
          "Moderate",
          "Moderate",
          "Moderate",
          "Moderate",
          "Moderate",
          "Moderate",
          "Moderate",
          "Moderate",
          "Moderate",
          "Moderate",
          "Moderate",
          "Moderate",
          "Moderate",
          "Moderate",
          "Moderate",
          "Moderate",
          "Moderate",
          "Moderate",
          "Moderate",
          "Moderate",
          "Moderate",
          "Moderate",
          "Moderate",
          "Moderate",
          "Moderate",
          "Moderate",
          "Moderate",
          "Moderate",
          "Moderate",
          "Moderate",
          "Moderate",
          "Moderate",
          "Moderate",
          "Moderate",
          "Moderate",
          "Moderate",
          "Moderate",
          "Moderate",
          "Moderate",
          "Moderate",
          "Moderate",
          "Moderate",
          "Moderate",
          "Moderate",
          "Moderate",
          "Moderate",
          "Moderate",
          "Moderate",
          "Moderate",
          "Moderate",
          "Moderate",
          "Moderate",
          "Moderate",
          "Moderate",
          "Moderate",
          "Moderate",
          "Moderate",
          "Moderate",
          "Moderate",
          "Moderate",
          "Moderate",
          "Moderate",
          "Moderate",
          "Moderate",
          "Moderate",
          "Moderate",
          "Moderate",
          "Moderate",
          "Moderate",
          "Moderate",
          "Moderate",
          "Moderate",
          "Moderate",
          "Moderate",
          "Moderate",
          "Moderate",
          "Moderate",
          "Moderate",
          "Moderate",
          "Moderate",
          "Moderate",
          "Moderate",
          "Moderate",
          "Moderate",
          "Moderate",
          "Moderate",
          "Moderate",
          "Moderate",
          "Moderate",
          "Moderate",
          "Moderate",
          "Moderate",
          "Moderate",
          "Moderate",
          "Moderate",
          "Moderate",
          "Moderate",
          "Moderate",
          "Moderate",
          "Moderate",
          "Moderate",
          "Moderate",
          "Moderate",
          "Moderate",
          "Moderate",
          "Moderate",
          "Moderate",
          "Moderate",
          "Moderate",
          "Moderate",
          "Moderate",
          "Moderate",
          "Moderate",
          "Moderate",
          "Moderate",
          "Moderate",
          "Moderate",
          "Moderate",
          "Moderate",
          "Moderate",
          "Moderate",
          "Moderate",
          "Moderate",
          "Moderate",
          "Moderate",
          "Moderate",
          "Moderate",
          "Moderate",
          "Moderate",
          "Moderate",
          "Moderate",
          "Moderate",
          "Moderate",
          "Moderate",
          "Moderate",
          "Moderate",
          "Moderate",
          "Moderate",
          "Moderate",
          "Moderate",
          "Moderate",
          "Moderate",
          "Moderate",
          "Moderate",
          "Moderate",
          "Moderate",
          "Moderate",
          "Moderate",
          "Moderate",
          "Moderate",
          "Moderate",
          "Moderate",
          "Moderate",
          "Moderate",
          "Moderate",
          "Moderate",
          "Moderate",
          "Moderate",
          "Moderate",
          "Moderate",
          "Moderate",
          "Moderate",
          "Moderate",
          "Moderate",
          "Moderate",
          "Moderate",
          "Moderate",
          "Moderate",
          "Moderate",
          "Moderate",
          "Moderate",
          "Moderate",
          "Moderate",
          "Moderate",
          "Moderate",
          "Moderate",
          "Moderate",
          "Moderate",
          "Moderate",
          "Moderate",
          "Moderate",
          "Moderate",
          "Moderate",
          "Moderate",
          "Moderate",
          "Moderate",
          "Moderate",
          "Moderate",
          "Moderate",
          "Moderate",
          "Moderate",
          "Moderate",
          "Moderate",
          "Moderate",
          "Moderate",
          "Moderate",
          "Moderate",
          "Moderate",
          "Moderate",
          "Moderate",
          "Moderate",
          "Moderate",
          "Moderate",
          "Moderate",
          "Moderate",
          "Moderate",
          "Moderate",
          "Moderate",
          "Moderate",
          "Moderate",
          "Moderate",
          "Moderate",
          "Moderate",
          "Moderate",
          "Moderate",
          "Moderate",
          "Moderate",
          "Moderate",
          "Moderate",
          "Moderate",
          "Moderate",
          "Moderate",
          "Moderate",
          "Moderate",
          "Moderate",
          "Moderate",
          "Moderate",
          "Moderate",
          "Moderate",
          "Moderate",
          "Moderate",
          "Moderate",
          "Moderate",
          "Moderate",
          "Moderate",
          "Moderate",
          "Moderate",
          "Moderate",
          "Moderate",
          "Moderate",
          "Moderate",
          "Moderate",
          "Moderate",
          "Moderate",
          "Moderate",
          "Moderate",
          "Moderate",
          "Moderate",
          "Moderate",
          "Moderate",
          "Moderate",
          "Moderate",
          "Moderate",
          "Moderate",
          "Moderate",
          "Moderate",
          "Moderate",
          "Moderate",
          "Moderate",
          "Moderate",
          "Moderate",
          "Moderate",
          "Moderate",
          "Moderate",
          "Moderate",
          "Moderate",
          "Moderate",
          "Moderate",
          "Moderate",
          "Moderate",
          "Moderate",
          "Moderate",
          "Moderate",
          "Moderate",
          "Moderate",
          "Moderate",
          "Moderate",
          "Moderate",
          "Moderate",
          "Moderate",
          "Moderate",
          "Moderate",
          "Moderate",
          "Moderate",
          "Moderate",
          "Moderate",
          "Moderate",
          "Moderate",
          "Moderate",
          "Moderate",
          "Moderate",
          "Moderate",
          "Moderate",
          "Moderate",
          "Moderate",
          "Moderate",
          "Moderate",
          "Moderate",
          "Moderate",
          "Moderate",
          "Moderate",
          "Moderate",
          "Moderate",
          "Moderate",
          "Moderate",
          "Moderate",
          "Moderate",
          "Moderate",
          "Moderate",
          "Moderate",
          "Moderate",
          "Moderate",
          "Moderate",
          "Moderate",
          "Moderate",
          "Moderate",
          "Moderate",
          "Moderate",
          "Moderate",
          "Moderate",
          "Moderate",
          "Moderate",
          "Moderate",
          "Moderate",
          "Moderate",
          "Moderate",
          "Moderate",
          "Moderate",
          "Moderate"
         ],
         "x0": " ",
         "xaxis": "x",
         "y": {
          "bdata": "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",
          "dtype": "f8"
         },
         "y0": " ",
         "yaxis": "y"
        },
        {
         "alignmentgroup": "True",
         "hovertemplate": "Weather_Condition=%{x}<br>Speed_Over_Ground_knots=%{y}<extra></extra>",
         "legendgroup": "Rough",
         "marker": {
          "color": "rgb(246, 207, 113)"
         },
         "name": "Rough",
         "notched": false,
         "offsetgroup": "Rough",
         "orientation": "v",
         "showlegend": true,
         "type": "box",
         "x": [
          "Rough",
          "Rough",
          "Rough",
          "Rough",
          "Rough",
          "Rough",
          "Rough",
          "Rough",
          "Rough",
          "Rough",
          "Rough",
          "Rough",
          "Rough",
          "Rough",
          "Rough",
          "Rough",
          "Rough",
          "Rough",
          "Rough",
          "Rough",
          "Rough",
          "Rough",
          "Rough",
          "Rough",
          "Rough",
          "Rough",
          "Rough",
          "Rough",
          "Rough",
          "Rough",
          "Rough",
          "Rough",
          "Rough",
          "Rough",
          "Rough",
          "Rough",
          "Rough",
          "Rough",
          "Rough",
          "Rough",
          "Rough",
          "Rough",
          "Rough",
          "Rough",
          "Rough",
          "Rough",
          "Rough",
          "Rough",
          "Rough",
          "Rough",
          "Rough",
          "Rough",
          "Rough",
          "Rough",
          "Rough",
          "Rough",
          "Rough",
          "Rough",
          "Rough",
          "Rough",
          "Rough",
          "Rough",
          "Rough",
          "Rough",
          "Rough",
          "Rough",
          "Rough",
          "Rough",
          "Rough",
          "Rough",
          "Rough",
          "Rough",
          "Rough",
          "Rough",
          "Rough",
          "Rough",
          "Rough",
          "Rough",
          "Rough",
          "Rough",
          "Rough",
          "Rough",
          "Rough",
          "Rough",
          "Rough",
          "Rough",
          "Rough",
          "Rough",
          "Rough",
          "Rough",
          "Rough",
          "Rough",
          "Rough",
          "Rough",
          "Rough",
          "Rough",
          "Rough",
          "Rough",
          "Rough",
          "Rough",
          "Rough",
          "Rough",
          "Rough",
          "Rough",
          "Rough",
          "Rough",
          "Rough",
          "Rough",
          "Rough",
          "Rough",
          "Rough",
          "Rough",
          "Rough",
          "Rough",
          "Rough",
          "Rough",
          "Rough",
          "Rough",
          "Rough",
          "Rough",
          "Rough",
          "Rough",
          "Rough",
          "Rough",
          "Rough",
          "Rough",
          "Rough",
          "Rough",
          "Rough",
          "Rough",
          "Rough",
          "Rough",
          "Rough",
          "Rough",
          "Rough",
          "Rough",
          "Rough",
          "Rough",
          "Rough",
          "Rough",
          "Rough",
          "Rough",
          "Rough",
          "Rough",
          "Rough",
          "Rough",
          "Rough",
          "Rough",
          "Rough",
          "Rough",
          "Rough",
          "Rough",
          "Rough",
          "Rough",
          "Rough",
          "Rough",
          "Rough",
          "Rough",
          "Rough",
          "Rough",
          "Rough",
          "Rough",
          "Rough",
          "Rough",
          "Rough",
          "Rough",
          "Rough",
          "Rough",
          "Rough",
          "Rough",
          "Rough",
          "Rough",
          "Rough",
          "Rough",
          "Rough",
          "Rough",
          "Rough",
          "Rough",
          "Rough",
          "Rough",
          "Rough",
          "Rough",
          "Rough",
          "Rough",
          "Rough",
          "Rough",
          "Rough",
          "Rough",
          "Rough",
          "Rough",
          "Rough",
          "Rough",
          "Rough",
          "Rough",
          "Rough",
          "Rough",
          "Rough",
          "Rough",
          "Rough",
          "Rough",
          "Rough",
          "Rough",
          "Rough",
          "Rough",
          "Rough",
          "Rough",
          "Rough",
          "Rough",
          "Rough",
          "Rough",
          "Rough",
          "Rough",
          "Rough",
          "Rough",
          "Rough",
          "Rough",
          "Rough",
          "Rough",
          "Rough",
          "Rough",
          "Rough",
          "Rough",
          "Rough",
          "Rough",
          "Rough",
          "Rough",
          "Rough",
          "Rough",
          "Rough",
          "Rough",
          "Rough",
          "Rough",
          "Rough",
          "Rough",
          "Rough",
          "Rough",
          "Rough",
          "Rough",
          "Rough",
          "Rough",
          "Rough",
          "Rough",
          "Rough",
          "Rough",
          "Rough",
          "Rough",
          "Rough",
          "Rough",
          "Rough",
          "Rough",
          "Rough",
          "Rough",
          "Rough",
          "Rough",
          "Rough",
          "Rough",
          "Rough",
          "Rough",
          "Rough",
          "Rough",
          "Rough",
          "Rough",
          "Rough",
          "Rough",
          "Rough",
          "Rough",
          "Rough",
          "Rough",
          "Rough",
          "Rough",
          "Rough",
          "Rough",
          "Rough",
          "Rough",
          "Rough",
          "Rough",
          "Rough",
          "Rough",
          "Rough",
          "Rough",
          "Rough",
          "Rough",
          "Rough",
          "Rough",
          "Rough",
          "Rough",
          "Rough",
          "Rough",
          "Rough",
          "Rough",
          "Rough",
          "Rough",
          "Rough",
          "Rough",
          "Rough",
          "Rough",
          "Rough",
          "Rough",
          "Rough",
          "Rough",
          "Rough",
          "Rough",
          "Rough",
          "Rough",
          "Rough",
          "Rough",
          "Rough",
          "Rough",
          "Rough",
          "Rough",
          "Rough",
          "Rough",
          "Rough",
          "Rough",
          "Rough",
          "Rough",
          "Rough",
          "Rough",
          "Rough",
          "Rough",
          "Rough",
          "Rough",
          "Rough",
          "Rough",
          "Rough",
          "Rough",
          "Rough",
          "Rough",
          "Rough",
          "Rough",
          "Rough",
          "Rough",
          "Rough",
          "Rough",
          "Rough",
          "Rough",
          "Rough",
          "Rough",
          "Rough",
          "Rough",
          "Rough",
          "Rough",
          "Rough",
          "Rough",
          "Rough",
          "Rough",
          "Rough",
          "Rough",
          "Rough",
          "Rough",
          "Rough",
          "Rough",
          "Rough",
          "Rough",
          "Rough",
          "Rough",
          "Rough",
          "Rough",
          "Rough",
          "Rough",
          "Rough",
          "Rough",
          "Rough",
          "Rough",
          "Rough",
          "Rough",
          "Rough",
          "Rough",
          "Rough",
          "Rough",
          "Rough",
          "Rough",
          "Rough",
          "Rough",
          "Rough",
          "Rough",
          "Rough",
          "Rough",
          "Rough",
          "Rough",
          "Rough",
          "Rough",
          "Rough",
          "Rough",
          "Rough",
          "Rough",
          "Rough",
          "Rough",
          "Rough",
          "Rough",
          "Rough",
          "Rough",
          "Rough",
          "Rough",
          "Rough",
          "Rough",
          "Rough",
          "Rough",
          "Rough",
          "Rough",
          "Rough",
          "Rough",
          "Rough",
          "Rough",
          "Rough",
          "Rough",
          "Rough",
          "Rough",
          "Rough",
          "Rough",
          "Rough",
          "Rough",
          "Rough",
          "Rough",
          "Rough",
          "Rough",
          "Rough",
          "Rough",
          "Rough",
          "Rough",
          "Rough",
          "Rough",
          "Rough",
          "Rough",
          "Rough",
          "Rough",
          "Rough",
          "Rough",
          "Rough",
          "Rough",
          "Rough",
          "Rough",
          "Rough",
          "Rough",
          "Rough",
          "Rough",
          "Rough",
          "Rough",
          "Rough",
          "Rough",
          "Rough",
          "Rough",
          "Rough",
          "Rough",
          "Rough",
          "Rough",
          "Rough",
          "Rough",
          "Rough",
          "Rough",
          "Rough",
          "Rough",
          "Rough",
          "Rough",
          "Rough",
          "Rough",
          "Rough",
          "Rough",
          "Rough",
          "Rough",
          "Rough",
          "Rough",
          "Rough",
          "Rough",
          "Rough",
          "Rough",
          "Rough",
          "Rough",
          "Rough",
          "Rough",
          "Rough",
          "Rough",
          "Rough",
          "Rough",
          "Rough",
          "Rough",
          "Rough",
          "Rough",
          "Rough",
          "Rough",
          "Rough",
          "Rough",
          "Rough",
          "Rough",
          "Rough",
          "Rough",
          "Rough",
          "Rough",
          "Rough",
          "Rough",
          "Rough",
          "Rough",
          "Rough",
          "Rough",
          "Rough",
          "Rough",
          "Rough",
          "Rough",
          "Rough",
          "Rough",
          "Rough",
          "Rough",
          "Rough",
          "Rough",
          "Rough",
          "Rough",
          "Rough",
          "Rough",
          "Rough",
          "Rough",
          "Rough",
          "Rough",
          "Rough",
          "Rough",
          "Rough",
          "Rough",
          "Rough",
          "Rough",
          "Rough",
          "Rough",
          "Rough",
          "Rough",
          "Rough",
          "Rough",
          "Rough",
          "Rough",
          "Rough",
          "Rough",
          "Rough",
          "Rough",
          "Rough",
          "Rough",
          "Rough",
          "Rough",
          "Rough",
          "Rough",
          "Rough",
          "Rough",
          "Rough",
          "Rough",
          "Rough",
          "Rough",
          "Rough",
          "Rough",
          "Rough",
          "Rough",
          "Rough",
          "Rough",
          "Rough",
          "Rough",
          "Rough",
          "Rough",
          "Rough",
          "Rough",
          "Rough",
          "Rough",
          "Rough",
          "Rough",
          "Rough",
          "Rough",
          "Rough",
          "Rough",
          "Rough",
          "Rough",
          "Rough",
          "Rough",
          "Rough",
          "Rough",
          "Rough",
          "Rough",
          "Rough",
          "Rough",
          "Rough",
          "Rough",
          "Rough",
          "Rough",
          "Rough",
          "Rough",
          "Rough",
          "Rough",
          "Rough",
          "Rough",
          "Rough",
          "Rough",
          "Rough",
          "Rough",
          "Rough",
          "Rough",
          "Rough",
          "Rough",
          "Rough",
          "Rough",
          "Rough",
          "Rough",
          "Rough",
          "Rough",
          "Rough",
          "Rough",
          "Rough",
          "Rough",
          "Rough",
          "Rough",
          "Rough",
          "Rough",
          "Rough",
          "Rough",
          "Rough",
          "Rough",
          "Rough",
          "Rough",
          "Rough",
          "Rough",
          "Rough",
          "Rough",
          "Rough",
          "Rough",
          "Rough",
          "Rough",
          "Rough",
          "Rough",
          "Rough",
          "Rough",
          "Rough",
          "Rough",
          "Rough",
          "Rough",
          "Rough",
          "Rough",
          "Rough",
          "Rough",
          "Rough",
          "Rough",
          "Rough",
          "Rough",
          "Rough",
          "Rough",
          "Rough",
          "Rough",
          "Rough",
          "Rough",
          "Rough",
          "Rough",
          "Rough",
          "Rough",
          "Rough",
          "Rough",
          "Rough",
          "Rough",
          "Rough",
          "Rough",
          "Rough",
          "Rough",
          "Rough",
          "Rough",
          "Rough",
          "Rough",
          "Rough",
          "Rough",
          "Rough",
          "Rough",
          "Rough",
          "Rough",
          "Rough",
          "Rough",
          "Rough",
          "Rough",
          "Rough",
          "Rough",
          "Rough",
          "Rough",
          "Rough",
          "Rough",
          "Rough",
          "Rough",
          "Rough",
          "Rough",
          "Rough",
          "Rough",
          "Rough",
          "Rough",
          "Rough",
          "Rough",
          "Rough",
          "Rough",
          "Rough",
          "Rough",
          "Rough",
          "Rough",
          "Rough",
          "Rough",
          "Rough",
          "Rough",
          "Rough",
          "Rough",
          "Rough",
          "Rough",
          "Rough",
          "Rough",
          "Rough",
          "Rough",
          "Rough",
          "Rough",
          "Rough",
          "Rough",
          "Rough",
          "Rough",
          "Rough",
          "Rough",
          "Rough",
          "Rough",
          "Rough",
          "Rough",
          "Rough",
          "Rough",
          "Rough",
          "Rough",
          "Rough",
          "Rough",
          "Rough",
          "Rough",
          "Rough",
          "Rough",
          "Rough",
          "Rough",
          "Rough",
          "Rough",
          "Rough",
          "Rough",
          "Rough",
          "Rough",
          "Rough",
          "Rough",
          "Rough",
          "Rough",
          "Rough",
          "Rough",
          "Rough",
          "Rough",
          "Rough",
          "Rough",
          "Rough",
          "Rough",
          "Rough",
          "Rough",
          "Rough",
          "Rough",
          "Rough",
          "Rough",
          "Rough",
          "Rough",
          "Rough",
          "Rough",
          "Rough",
          "Rough",
          "Rough",
          "Rough",
          "Rough",
          "Rough",
          "Rough",
          "Rough",
          "Rough",
          "Rough",
          "Rough",
          "Rough",
          "Rough",
          "Rough",
          "Rough",
          "Rough",
          "Rough",
          "Rough",
          "Rough",
          "Rough",
          "Rough",
          "Rough",
          "Rough",
          "Rough",
          "Rough",
          "Rough",
          "Rough",
          "Rough",
          "Rough",
          "Rough",
          "Rough",
          "Rough",
          "Rough",
          "Rough",
          "Rough",
          "Rough",
          "Rough",
          "Rough",
          "Rough",
          "Rough",
          "Rough",
          "Rough",
          "Rough",
          "Rough",
          "Rough",
          "Rough",
          "Rough",
          "Rough",
          "Rough",
          "Rough",
          "Rough",
          "Rough",
          "Rough",
          "Rough",
          "Rough",
          "Rough",
          "Rough",
          "Rough",
          "Rough",
          "Rough",
          "Rough",
          "Rough",
          "Rough",
          "Rough"
         ],
         "x0": " ",
         "xaxis": "x",
         "y": {
          "bdata": "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",
          "dtype": "f8"
         },
         "y0": " ",
         "yaxis": "y"
        },
        {
         "alignmentgroup": "True",
         "hovertemplate": "Weather_Condition=%{x}<br>Speed_Over_Ground_knots=%{y}<extra></extra>",
         "legendgroup": "Calm",
         "marker": {
          "color": "rgb(248, 156, 116)"
         },
         "name": "Calm",
         "notched": false,
         "offsetgroup": "Calm",
         "orientation": "v",
         "showlegend": true,
         "type": "box",
         "x": [
          "Calm",
          "Calm",
          "Calm",
          "Calm",
          "Calm",
          "Calm",
          "Calm",
          "Calm",
          "Calm",
          "Calm",
          "Calm",
          "Calm",
          "Calm",
          "Calm",
          "Calm",
          "Calm",
          "Calm",
          "Calm",
          "Calm",
          "Calm",
          "Calm",
          "Calm",
          "Calm",
          "Calm",
          "Calm",
          "Calm",
          "Calm",
          "Calm",
          "Calm",
          "Calm",
          "Calm",
          "Calm",
          "Calm",
          "Calm",
          "Calm",
          "Calm",
          "Calm",
          "Calm",
          "Calm",
          "Calm",
          "Calm",
          "Calm",
          "Calm",
          "Calm",
          "Calm",
          "Calm",
          "Calm",
          "Calm",
          "Calm",
          "Calm",
          "Calm",
          "Calm",
          "Calm",
          "Calm",
          "Calm",
          "Calm",
          "Calm",
          "Calm",
          "Calm",
          "Calm",
          "Calm",
          "Calm",
          "Calm",
          "Calm",
          "Calm",
          "Calm",
          "Calm",
          "Calm",
          "Calm",
          "Calm",
          "Calm",
          "Calm",
          "Calm",
          "Calm",
          "Calm",
          "Calm",
          "Calm",
          "Calm",
          "Calm",
          "Calm",
          "Calm",
          "Calm",
          "Calm",
          "Calm",
          "Calm",
          "Calm",
          "Calm",
          "Calm",
          "Calm",
          "Calm",
          "Calm",
          "Calm",
          "Calm",
          "Calm",
          "Calm",
          "Calm",
          "Calm",
          "Calm",
          "Calm",
          "Calm",
          "Calm",
          "Calm",
          "Calm",
          "Calm",
          "Calm",
          "Calm",
          "Calm",
          "Calm",
          "Calm",
          "Calm",
          "Calm",
          "Calm",
          "Calm",
          "Calm",
          "Calm",
          "Calm",
          "Calm",
          "Calm",
          "Calm",
          "Calm",
          "Calm",
          "Calm",
          "Calm",
          "Calm",
          "Calm",
          "Calm",
          "Calm",
          "Calm",
          "Calm",
          "Calm",
          "Calm",
          "Calm",
          "Calm",
          "Calm",
          "Calm",
          "Calm",
          "Calm",
          "Calm",
          "Calm",
          "Calm",
          "Calm",
          "Calm",
          "Calm",
          "Calm",
          "Calm",
          "Calm",
          "Calm",
          "Calm",
          "Calm",
          "Calm",
          "Calm",
          "Calm",
          "Calm",
          "Calm",
          "Calm",
          "Calm",
          "Calm",
          "Calm",
          "Calm",
          "Calm",
          "Calm",
          "Calm",
          "Calm",
          "Calm",
          "Calm",
          "Calm",
          "Calm",
          "Calm",
          "Calm",
          "Calm",
          "Calm",
          "Calm",
          "Calm",
          "Calm",
          "Calm",
          "Calm",
          "Calm",
          "Calm",
          "Calm",
          "Calm",
          "Calm",
          "Calm",
          "Calm",
          "Calm",
          "Calm",
          "Calm",
          "Calm",
          "Calm",
          "Calm",
          "Calm",
          "Calm",
          "Calm",
          "Calm",
          "Calm",
          "Calm",
          "Calm",
          "Calm",
          "Calm",
          "Calm",
          "Calm",
          "Calm",
          "Calm",
          "Calm",
          "Calm",
          "Calm",
          "Calm",
          "Calm",
          "Calm",
          "Calm",
          "Calm",
          "Calm",
          "Calm",
          "Calm",
          "Calm",
          "Calm",
          "Calm",
          "Calm",
          "Calm",
          "Calm",
          "Calm",
          "Calm",
          "Calm",
          "Calm",
          "Calm",
          "Calm",
          "Calm",
          "Calm",
          "Calm",
          "Calm",
          "Calm",
          "Calm",
          "Calm",
          "Calm",
          "Calm",
          "Calm",
          "Calm",
          "Calm",
          "Calm",
          "Calm",
          "Calm",
          "Calm",
          "Calm",
          "Calm",
          "Calm",
          "Calm",
          "Calm",
          "Calm",
          "Calm",
          "Calm",
          "Calm",
          "Calm",
          "Calm",
          "Calm",
          "Calm",
          "Calm",
          "Calm",
          "Calm",
          "Calm",
          "Calm",
          "Calm",
          "Calm",
          "Calm",
          "Calm",
          "Calm",
          "Calm",
          "Calm",
          "Calm",
          "Calm",
          "Calm",
          "Calm",
          "Calm",
          "Calm",
          "Calm",
          "Calm",
          "Calm",
          "Calm",
          "Calm",
          "Calm",
          "Calm",
          "Calm",
          "Calm",
          "Calm",
          "Calm",
          "Calm",
          "Calm",
          "Calm",
          "Calm",
          "Calm",
          "Calm",
          "Calm",
          "Calm",
          "Calm",
          "Calm",
          "Calm",
          "Calm",
          "Calm",
          "Calm",
          "Calm",
          "Calm",
          "Calm",
          "Calm",
          "Calm",
          "Calm",
          "Calm",
          "Calm",
          "Calm",
          "Calm",
          "Calm",
          "Calm",
          "Calm",
          "Calm",
          "Calm",
          "Calm",
          "Calm",
          "Calm",
          "Calm",
          "Calm",
          "Calm",
          "Calm",
          "Calm",
          "Calm",
          "Calm",
          "Calm",
          "Calm",
          "Calm",
          "Calm",
          "Calm",
          "Calm",
          "Calm",
          "Calm",
          "Calm",
          "Calm",
          "Calm",
          "Calm",
          "Calm",
          "Calm",
          "Calm",
          "Calm",
          "Calm",
          "Calm",
          "Calm",
          "Calm",
          "Calm",
          "Calm",
          "Calm",
          "Calm",
          "Calm",
          "Calm",
          "Calm",
          "Calm",
          "Calm",
          "Calm",
          "Calm",
          "Calm",
          "Calm",
          "Calm",
          "Calm",
          "Calm",
          "Calm",
          "Calm",
          "Calm",
          "Calm",
          "Calm",
          "Calm",
          "Calm",
          "Calm",
          "Calm",
          "Calm",
          "Calm",
          "Calm",
          "Calm",
          "Calm",
          "Calm",
          "Calm",
          "Calm",
          "Calm",
          "Calm",
          "Calm",
          "Calm",
          "Calm",
          "Calm",
          "Calm",
          "Calm",
          "Calm",
          "Calm",
          "Calm",
          "Calm",
          "Calm",
          "Calm",
          "Calm",
          "Calm",
          "Calm",
          "Calm",
          "Calm",
          "Calm",
          "Calm",
          "Calm",
          "Calm",
          "Calm",
          "Calm",
          "Calm",
          "Calm",
          "Calm",
          "Calm",
          "Calm",
          "Calm",
          "Calm",
          "Calm",
          "Calm",
          "Calm",
          "Calm",
          "Calm",
          "Calm",
          "Calm",
          "Calm",
          "Calm",
          "Calm",
          "Calm",
          "Calm",
          "Calm",
          "Calm",
          "Calm",
          "Calm",
          "Calm",
          "Calm",
          "Calm",
          "Calm",
          "Calm",
          "Calm",
          "Calm",
          "Calm",
          "Calm",
          "Calm",
          "Calm",
          "Calm",
          "Calm",
          "Calm",
          "Calm",
          "Calm",
          "Calm",
          "Calm",
          "Calm",
          "Calm",
          "Calm",
          "Calm",
          "Calm",
          "Calm",
          "Calm",
          "Calm",
          "Calm",
          "Calm",
          "Calm",
          "Calm",
          "Calm",
          "Calm",
          "Calm",
          "Calm",
          "Calm",
          "Calm",
          "Calm",
          "Calm",
          "Calm",
          "Calm",
          "Calm",
          "Calm",
          "Calm",
          "Calm",
          "Calm",
          "Calm",
          "Calm",
          "Calm",
          "Calm",
          "Calm",
          "Calm",
          "Calm",
          "Calm",
          "Calm",
          "Calm",
          "Calm",
          "Calm",
          "Calm",
          "Calm",
          "Calm",
          "Calm",
          "Calm",
          "Calm",
          "Calm",
          "Calm",
          "Calm",
          "Calm",
          "Calm",
          "Calm",
          "Calm",
          "Calm",
          "Calm",
          "Calm",
          "Calm",
          "Calm",
          "Calm",
          "Calm",
          "Calm",
          "Calm",
          "Calm",
          "Calm",
          "Calm",
          "Calm",
          "Calm",
          "Calm",
          "Calm",
          "Calm",
          "Calm",
          "Calm",
          "Calm",
          "Calm",
          "Calm",
          "Calm",
          "Calm",
          "Calm",
          "Calm",
          "Calm",
          "Calm",
          "Calm",
          "Calm",
          "Calm",
          "Calm",
          "Calm",
          "Calm",
          "Calm",
          "Calm",
          "Calm",
          "Calm",
          "Calm",
          "Calm",
          "Calm",
          "Calm",
          "Calm",
          "Calm",
          "Calm",
          "Calm",
          "Calm",
          "Calm",
          "Calm",
          "Calm",
          "Calm",
          "Calm",
          "Calm",
          "Calm",
          "Calm",
          "Calm",
          "Calm",
          "Calm",
          "Calm",
          "Calm",
          "Calm",
          "Calm",
          "Calm",
          "Calm",
          "Calm",
          "Calm",
          "Calm",
          "Calm",
          "Calm",
          "Calm",
          "Calm",
          "Calm",
          "Calm",
          "Calm",
          "Calm",
          "Calm",
          "Calm",
          "Calm",
          "Calm",
          "Calm",
          "Calm",
          "Calm",
          "Calm",
          "Calm",
          "Calm",
          "Calm",
          "Calm",
          "Calm",
          "Calm",
          "Calm",
          "Calm",
          "Calm",
          "Calm",
          "Calm",
          "Calm",
          "Calm",
          "Calm",
          "Calm",
          "Calm",
          "Calm",
          "Calm",
          "Calm",
          "Calm",
          "Calm",
          "Calm",
          "Calm",
          "Calm",
          "Calm",
          "Calm",
          "Calm",
          "Calm",
          "Calm",
          "Calm",
          "Calm",
          "Calm",
          "Calm",
          "Calm",
          "Calm",
          "Calm",
          "Calm",
          "Calm",
          "Calm",
          "Calm",
          "Calm",
          "Calm",
          "Calm",
          "Calm",
          "Calm",
          "Calm",
          "Calm",
          "Calm",
          "Calm",
          "Calm",
          "Calm",
          "Calm",
          "Calm",
          "Calm",
          "Calm",
          "Calm",
          "Calm",
          "Calm",
          "Calm",
          "Calm",
          "Calm",
          "Calm",
          "Calm",
          "Calm",
          "Calm",
          "Calm",
          "Calm",
          "Calm",
          "Calm",
          "Calm",
          "Calm",
          "Calm",
          "Calm",
          "Calm",
          "Calm",
          "Calm",
          "Calm",
          "Calm",
          "Calm",
          "Calm",
          "Calm",
          "Calm",
          "Calm",
          "Calm",
          "Calm",
          "Calm",
          "Calm",
          "Calm",
          "Calm",
          "Calm",
          "Calm",
          "Calm",
          "Calm",
          "Calm",
          "Calm",
          "Calm",
          "Calm",
          "Calm",
          "Calm",
          "Calm",
          "Calm",
          "Calm",
          "Calm",
          "Calm",
          "Calm",
          "Calm",
          "Calm",
          "Calm",
          "Calm",
          "Calm",
          "Calm",
          "Calm",
          "Calm",
          "Calm",
          "Calm",
          "Calm",
          "Calm",
          "Calm",
          "Calm",
          "Calm",
          "Calm",
          "Calm",
          "Calm",
          "Calm",
          "Calm",
          "Calm",
          "Calm",
          "Calm",
          "Calm",
          "Calm",
          "Calm",
          "Calm",
          "Calm",
          "Calm",
          "Calm",
          "Calm",
          "Calm",
          "Calm",
          "Calm",
          "Calm",
          "Calm",
          "Calm",
          "Calm",
          "Calm",
          "Calm",
          "Calm",
          "Calm",
          "Calm",
          "Calm",
          "Calm",
          "Calm",
          "Calm",
          "Calm",
          "Calm",
          "Calm",
          "Calm",
          "Calm",
          "Calm",
          "Calm",
          "Calm",
          "Calm",
          "Calm",
          "Calm",
          "Calm",
          "Calm",
          "Calm",
          "Calm",
          "Calm",
          "Calm",
          "Calm",
          "Calm",
          "Calm",
          "Calm",
          "Calm",
          "Calm",
          "Calm",
          "Calm",
          "Calm",
          "Calm",
          "Calm",
          "Calm",
          "Calm",
          "Calm",
          "Calm",
          "Calm",
          "Calm",
          "Calm",
          "Calm",
          "Calm",
          "Calm",
          "Calm",
          "Calm",
          "Calm",
          "Calm",
          "Calm",
          "Calm",
          "Calm",
          "Calm",
          "Calm",
          "Calm",
          "Calm",
          "Calm",
          "Calm",
          "Calm",
          "Calm",
          "Calm",
          "Calm",
          "Calm",
          "Calm",
          "Calm",
          "Calm",
          "Calm",
          "Calm",
          "Calm",
          "Calm",
          "Calm",
          "Calm",
          "Calm",
          "Calm",
          "Calm",
          "Calm",
          "Calm",
          "Calm",
          "Calm",
          "Calm",
          "Calm",
          "Calm",
          "Calm",
          "Calm",
          "Calm",
          "Calm",
          "Calm",
          "Calm",
          "Calm",
          "Calm",
          "Calm",
          "Calm",
          "Calm",
          "Calm",
          "Calm",
          "Calm",
          "Calm",
          "Calm",
          "Calm",
          "Calm",
          "Calm",
          "Calm",
          "Calm",
          "Calm",
          "Calm",
          "Calm",
          "Calm",
          "Calm",
          "Calm",
          "Calm",
          "Calm",
          "Calm",
          "Calm",
          "Calm",
          "Calm",
          "Calm",
          "Calm",
          "Calm",
          "Calm",
          "Calm",
          "Calm",
          "Calm",
          "Calm",
          "Calm",
          "Calm",
          "Calm",
          "Calm",
          "Calm",
          "Calm",
          "Calm",
          "Calm",
          "Calm",
          "Calm",
          "Calm",
          "Calm",
          "Calm",
          "Calm",
          "Calm",
          "Calm",
          "Calm",
          "Calm",
          "Calm",
          "Calm",
          "Calm",
          "Calm",
          "Calm",
          "Calm",
          "Calm",
          "Calm",
          "Calm",
          "Calm",
          "Calm",
          "Calm",
          "Calm",
          "Calm",
          "Calm",
          "Calm",
          "Calm",
          "Calm",
          "Calm",
          "Calm",
          "Calm",
          "Calm",
          "Calm",
          "Calm",
          "Calm",
          "Calm",
          "Calm",
          "Calm",
          "Calm",
          "Calm",
          "Calm"
         ],
         "x0": " ",
         "xaxis": "x",
         "y": {
          "bdata": "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",
          "dtype": "f8"
         },
         "y0": " ",
         "yaxis": "y"
        }
       ],
       "layout": {
        "boxmode": "overlay",
        "legend": {
         "title": {
          "text": "Weather_Condition"
         },
         "tracegroupgap": 0
        },
        "template": {
         "data": {
          "bar": [
           {
            "error_x": {
             "color": "#2a3f5f"
            },
            "error_y": {
             "color": "#2a3f5f"
            },
            "marker": {
             "line": {
              "color": "#E5ECF6",
              "width": 0.5
             },
             "pattern": {
              "fillmode": "overlay",
              "size": 10,
              "solidity": 0.2
             }
            },
            "type": "bar"
           }
          ],
          "barpolar": [
           {
            "marker": {
             "line": {
              "color": "#E5ECF6",
              "width": 0.5
             },
             "pattern": {
              "fillmode": "overlay",
              "size": 10,
              "solidity": 0.2
             }
            },
            "type": "barpolar"
           }
          ],
          "carpet": [
           {
            "aaxis": {
             "endlinecolor": "#2a3f5f",
             "gridcolor": "white",
             "linecolor": "white",
             "minorgridcolor": "white",
             "startlinecolor": "#2a3f5f"
            },
            "baxis": {
             "endlinecolor": "#2a3f5f",
             "gridcolor": "white",
             "linecolor": "white",
             "minorgridcolor": "white",
             "startlinecolor": "#2a3f5f"
            },
            "type": "carpet"
           }
          ],
          "choropleth": [
           {
            "colorbar": {
             "outlinewidth": 0,
             "ticks": ""
            },
            "type": "choropleth"
           }
          ],
          "contour": [
           {
            "colorbar": {
             "outlinewidth": 0,
             "ticks": ""
            },
            "colorscale": [
             [
              0,
              "#0d0887"
             ],
             [
              0.1111111111111111,
              "#46039f"
             ],
             [
              0.2222222222222222,
              "#7201a8"
             ],
             [
              0.3333333333333333,
              "#9c179e"
             ],
             [
              0.4444444444444444,
              "#bd3786"
             ],
             [
              0.5555555555555556,
              "#d8576b"
             ],
             [
              0.6666666666666666,
              "#ed7953"
             ],
             [
              0.7777777777777778,
              "#fb9f3a"
             ],
             [
              0.8888888888888888,
              "#fdca26"
             ],
             [
              1,
              "#f0f921"
             ]
            ],
            "type": "contour"
           }
          ],
          "contourcarpet": [
           {
            "colorbar": {
             "outlinewidth": 0,
             "ticks": ""
            },
            "type": "contourcarpet"
           }
          ],
          "heatmap": [
           {
            "colorbar": {
             "outlinewidth": 0,
             "ticks": ""
            },
            "colorscale": [
             [
              0,
              "#0d0887"
             ],
             [
              0.1111111111111111,
              "#46039f"
             ],
             [
              0.2222222222222222,
              "#7201a8"
             ],
             [
              0.3333333333333333,
              "#9c179e"
             ],
             [
              0.4444444444444444,
              "#bd3786"
             ],
             [
              0.5555555555555556,
              "#d8576b"
             ],
             [
              0.6666666666666666,
              "#ed7953"
             ],
             [
              0.7777777777777778,
              "#fb9f3a"
             ],
             [
              0.8888888888888888,
              "#fdca26"
             ],
             [
              1,
              "#f0f921"
             ]
            ],
            "type": "heatmap"
           }
          ],
          "histogram": [
           {
            "marker": {
             "pattern": {
              "fillmode": "overlay",
              "size": 10,
              "solidity": 0.2
             }
            },
            "type": "histogram"
           }
          ],
          "histogram2d": [
           {
            "colorbar": {
             "outlinewidth": 0,
             "ticks": ""
            },
            "colorscale": [
             [
              0,
              "#0d0887"
             ],
             [
              0.1111111111111111,
              "#46039f"
             ],
             [
              0.2222222222222222,
              "#7201a8"
             ],
             [
              0.3333333333333333,
              "#9c179e"
             ],
             [
              0.4444444444444444,
              "#bd3786"
             ],
             [
              0.5555555555555556,
              "#d8576b"
             ],
             [
              0.6666666666666666,
              "#ed7953"
             ],
             [
              0.7777777777777778,
              "#fb9f3a"
             ],
             [
              0.8888888888888888,
              "#fdca26"
             ],
             [
              1,
              "#f0f921"
             ]
            ],
            "type": "histogram2d"
           }
          ],
          "histogram2dcontour": [
           {
            "colorbar": {
             "outlinewidth": 0,
             "ticks": ""
            },
            "colorscale": [
             [
              0,
              "#0d0887"
             ],
             [
              0.1111111111111111,
              "#46039f"
             ],
             [
              0.2222222222222222,
              "#7201a8"
             ],
             [
              0.3333333333333333,
              "#9c179e"
             ],
             [
              0.4444444444444444,
              "#bd3786"
             ],
             [
              0.5555555555555556,
              "#d8576b"
             ],
             [
              0.6666666666666666,
              "#ed7953"
             ],
             [
              0.7777777777777778,
              "#fb9f3a"
             ],
             [
              0.8888888888888888,
              "#fdca26"
             ],
             [
              1,
              "#f0f921"
             ]
            ],
            "type": "histogram2dcontour"
           }
          ],
          "mesh3d": [
           {
            "colorbar": {
             "outlinewidth": 0,
             "ticks": ""
            },
            "type": "mesh3d"
           }
          ],
          "parcoords": [
           {
            "line": {
             "colorbar": {
              "outlinewidth": 0,
              "ticks": ""
             }
            },
            "type": "parcoords"
           }
          ],
          "pie": [
           {
            "automargin": true,
            "type": "pie"
           }
          ],
          "scatter": [
           {
            "fillpattern": {
             "fillmode": "overlay",
             "size": 10,
             "solidity": 0.2
            },
            "type": "scatter"
           }
          ],
          "scatter3d": [
           {
            "line": {
             "colorbar": {
              "outlinewidth": 0,
              "ticks": ""
             }
            },
            "marker": {
             "colorbar": {
              "outlinewidth": 0,
              "ticks": ""
             }
            },
            "type": "scatter3d"
           }
          ],
          "scattercarpet": [
           {
            "marker": {
             "colorbar": {
              "outlinewidth": 0,
              "ticks": ""
             }
            },
            "type": "scattercarpet"
           }
          ],
          "scattergeo": [
           {
            "marker": {
             "colorbar": {
              "outlinewidth": 0,
              "ticks": ""
             }
            },
            "type": "scattergeo"
           }
          ],
          "scattergl": [
           {
            "marker": {
             "colorbar": {
              "outlinewidth": 0,
              "ticks": ""
             }
            },
            "type": "scattergl"
           }
          ],
          "scattermap": [
           {
            "marker": {
             "colorbar": {
              "outlinewidth": 0,
              "ticks": ""
             }
            },
            "type": "scattermap"
           }
          ],
          "scattermapbox": [
           {
            "marker": {
             "colorbar": {
              "outlinewidth": 0,
              "ticks": ""
             }
            },
            "type": "scattermapbox"
           }
          ],
          "scatterpolar": [
           {
            "marker": {
             "colorbar": {
              "outlinewidth": 0,
              "ticks": ""
             }
            },
            "type": "scatterpolar"
           }
          ],
          "scatterpolargl": [
           {
            "marker": {
             "colorbar": {
              "outlinewidth": 0,
              "ticks": ""
             }
            },
            "type": "scatterpolargl"
           }
          ],
          "scatterternary": [
           {
            "marker": {
             "colorbar": {
              "outlinewidth": 0,
              "ticks": ""
             }
            },
            "type": "scatterternary"
           }
          ],
          "surface": [
           {
            "colorbar": {
             "outlinewidth": 0,
             "ticks": ""
            },
            "colorscale": [
             [
              0,
              "#0d0887"
             ],
             [
              0.1111111111111111,
              "#46039f"
             ],
             [
              0.2222222222222222,
              "#7201a8"
             ],
             [
              0.3333333333333333,
              "#9c179e"
             ],
             [
              0.4444444444444444,
              "#bd3786"
             ],
             [
              0.5555555555555556,
              "#d8576b"
             ],
             [
              0.6666666666666666,
              "#ed7953"
             ],
             [
              0.7777777777777778,
              "#fb9f3a"
             ],
             [
              0.8888888888888888,
              "#fdca26"
             ],
             [
              1,
              "#f0f921"
             ]
            ],
            "type": "surface"
           }
          ],
          "table": [
           {
            "cells": {
             "fill": {
              "color": "#EBF0F8"
             },
             "line": {
              "color": "white"
             }
            },
            "header": {
             "fill": {
              "color": "#C8D4E3"
             },
             "line": {
              "color": "white"
             }
            },
            "type": "table"
           }
          ]
         },
         "layout": {
          "annotationdefaults": {
           "arrowcolor": "#2a3f5f",
           "arrowhead": 0,
           "arrowwidth": 1
          },
          "autotypenumbers": "strict",
          "coloraxis": {
           "colorbar": {
            "outlinewidth": 0,
            "ticks": ""
           }
          },
          "colorscale": {
           "diverging": [
            [
             0,
             "#8e0152"
            ],
            [
             0.1,
             "#c51b7d"
            ],
            [
             0.2,
             "#de77ae"
            ],
            [
             0.3,
             "#f1b6da"
            ],
            [
             0.4,
             "#fde0ef"
            ],
            [
             0.5,
             "#f7f7f7"
            ],
            [
             0.6,
             "#e6f5d0"
            ],
            [
             0.7,
             "#b8e186"
            ],
            [
             0.8,
             "#7fbc41"
            ],
            [
             0.9,
             "#4d9221"
            ],
            [
             1,
             "#276419"
            ]
           ],
           "sequential": [
            [
             0,
             "#0d0887"
            ],
            [
             0.1111111111111111,
             "#46039f"
            ],
            [
             0.2222222222222222,
             "#7201a8"
            ],
            [
             0.3333333333333333,
             "#9c179e"
            ],
            [
             0.4444444444444444,
             "#bd3786"
            ],
            [
             0.5555555555555556,
             "#d8576b"
            ],
            [
             0.6666666666666666,
             "#ed7953"
            ],
            [
             0.7777777777777778,
             "#fb9f3a"
            ],
            [
             0.8888888888888888,
             "#fdca26"
            ],
            [
             1,
             "#f0f921"
            ]
           ],
           "sequentialminus": [
            [
             0,
             "#0d0887"
            ],
            [
             0.1111111111111111,
             "#46039f"
            ],
            [
             0.2222222222222222,
             "#7201a8"
            ],
            [
             0.3333333333333333,
             "#9c179e"
            ],
            [
             0.4444444444444444,
             "#bd3786"
            ],
            [
             0.5555555555555556,
             "#d8576b"
            ],
            [
             0.6666666666666666,
             "#ed7953"
            ],
            [
             0.7777777777777778,
             "#fb9f3a"
            ],
            [
             0.8888888888888888,
             "#fdca26"
            ],
            [
             1,
             "#f0f921"
            ]
           ]
          },
          "colorway": [
           "#636efa",
           "#EF553B",
           "#00cc96",
           "#ab63fa",
           "#FFA15A",
           "#19d3f3",
           "#FF6692",
           "#B6E880",
           "#FF97FF",
           "#FECB52"
          ],
          "font": {
           "color": "#2a3f5f"
          },
          "geo": {
           "bgcolor": "white",
           "lakecolor": "white",
           "landcolor": "#E5ECF6",
           "showlakes": true,
           "showland": true,
           "subunitcolor": "white"
          },
          "hoverlabel": {
           "align": "left"
          },
          "hovermode": "closest",
          "mapbox": {
           "style": "light"
          },
          "paper_bgcolor": "white",
          "plot_bgcolor": "#E5ECF6",
          "polar": {
           "angularaxis": {
            "gridcolor": "white",
            "linecolor": "white",
            "ticks": ""
           },
           "bgcolor": "#E5ECF6",
           "radialaxis": {
            "gridcolor": "white",
            "linecolor": "white",
            "ticks": ""
           }
          },
          "scene": {
           "xaxis": {
            "backgroundcolor": "#E5ECF6",
            "gridcolor": "white",
            "gridwidth": 2,
            "linecolor": "white",
            "showbackground": true,
            "ticks": "",
            "zerolinecolor": "white"
           },
           "yaxis": {
            "backgroundcolor": "#E5ECF6",
            "gridcolor": "white",
            "gridwidth": 2,
            "linecolor": "white",
            "showbackground": true,
            "ticks": "",
            "zerolinecolor": "white"
           },
           "zaxis": {
            "backgroundcolor": "#E5ECF6",
            "gridcolor": "white",
            "gridwidth": 2,
            "linecolor": "white",
            "showbackground": true,
            "ticks": "",
            "zerolinecolor": "white"
           }
          },
          "shapedefaults": {
           "line": {
            "color": "#2a3f5f"
           }
          },
          "ternary": {
           "aaxis": {
            "gridcolor": "white",
            "linecolor": "white",
            "ticks": ""
           },
           "baxis": {
            "gridcolor": "white",
            "linecolor": "white",
            "ticks": ""
           },
           "bgcolor": "#E5ECF6",
           "caxis": {
            "gridcolor": "white",
            "linecolor": "white",
            "ticks": ""
           }
          },
          "title": {
           "x": 0.05
          },
          "xaxis": {
           "automargin": true,
           "gridcolor": "white",
           "linecolor": "white",
           "ticks": "",
           "title": {
            "standoff": 15
           },
           "zerolinecolor": "white",
           "zerolinewidth": 2
          },
          "yaxis": {
           "automargin": true,
           "gridcolor": "white",
           "linecolor": "white",
           "ticks": "",
           "title": {
            "standoff": 15
           },
           "zerolinecolor": "white",
           "zerolinewidth": 2
          }
         }
        },
        "title": {
         "text": "Speed Distribution under Different Weather Conditions"
        },
        "xaxis": {
         "anchor": "y",
         "categoryarray": [
          "Moderate",
          "Rough",
          "Calm",
          null
         ],
         "categoryorder": "array",
         "domain": [
          0,
          1
         ],
         "tickangle": -45,
         "title": {
          "text": "Weather_Condition"
         }
        },
        "yaxis": {
         "anchor": "x",
         "domain": [
          0,
          1
         ],
         "title": {
          "text": "Speed_Over_Ground_knots"
         }
        }
       }
      }
     },
     "metadata": {},
     "output_type": "display_data"
    }
   ],
   "source": [
    "# speed under different weather conditions\n",
    "fig = px.box(\n",
    "    df,\n",
    "    x='Weather_Condition',\n",
    "    y='Speed_Over_Ground_knots',\n",
    "    title='Speed Distribution under Different Weather Conditions',\n",
    "    labels={'Weather Condition': 'Weather Condition', 'Speed': 'Speed'},\n",
    "    color='Weather_Condition',\n",
    "    color_discrete_sequence=px.colors.qualitative.Pastel\n",
    ")\n",
    "\n",
    "fig.update_layout(xaxis_tickangle=-45)\n",
    "fig.show()\n"
   ]
  },
  {
   "cell_type": "code",
   "execution_count": 42,
   "id": "15ff1d99",
   "metadata": {},
   "outputs": [
    {
     "data": {
      "application/vnd.plotly.v1+json": {
       "config": {
        "plotlyServerURL": "https://plot.ly"
       },
       "data": [
        {
         "coloraxis": "coloraxis",
         "histfunc": "sum",
         "hovertemplate": "Maintenance_Status=%{x}<br>Weather_Condition=%{y}<br>sum of Operational_Cost_USD=%{z}<extra></extra>",
         "name": "",
         "type": "histogram2d",
         "x": [
          "Critical",
          "Critical",
          "Critical",
          "Fair",
          "Fair",
          "Fair",
          "Good",
          "Good",
          "Good"
         ],
         "xaxis": "x",
         "xbingroup": "x",
         "y": [
          "Calm",
          "Moderate",
          "Rough",
          "Calm",
          "Moderate",
          "Rough",
          "Calm",
          "Moderate",
          "Rough"
         ],
         "yaxis": "y",
         "ybingroup": "y",
         "z": {
          "bdata": "gkA3MKypDkH3o+ELUEwQQetXLSqaNw5B6kY+J601D0E7CiEQVuAOQQpBAGNC0w1BgjIoExaRDkEgIpMfQ0kQQdo8FBdbrQ9B",
          "dtype": "f8"
         }
        }
       ],
       "layout": {
        "coloraxis": {
         "colorbar": {
          "title": {
           "text": "sum of Operational_Cost_USD"
          }
         },
         "colorscale": [
          [
           0,
           "#000004"
          ],
          [
           0.1111111111111111,
           "#1b0c41"
          ],
          [
           0.2222222222222222,
           "#4a0c6b"
          ],
          [
           0.3333333333333333,
           "#781c6d"
          ],
          [
           0.4444444444444444,
           "#a52c60"
          ],
          [
           0.5555555555555556,
           "#cf4446"
          ],
          [
           0.6666666666666666,
           "#ed6925"
          ],
          [
           0.7777777777777778,
           "#fb9b06"
          ],
          [
           0.8888888888888888,
           "#f7d13d"
          ],
          [
           1,
           "#fcffa4"
          ]
         ]
        },
        "legend": {
         "tracegroupgap": 0
        },
        "template": {
         "data": {
          "bar": [
           {
            "error_x": {
             "color": "#2a3f5f"
            },
            "error_y": {
             "color": "#2a3f5f"
            },
            "marker": {
             "line": {
              "color": "#E5ECF6",
              "width": 0.5
             },
             "pattern": {
              "fillmode": "overlay",
              "size": 10,
              "solidity": 0.2
             }
            },
            "type": "bar"
           }
          ],
          "barpolar": [
           {
            "marker": {
             "line": {
              "color": "#E5ECF6",
              "width": 0.5
             },
             "pattern": {
              "fillmode": "overlay",
              "size": 10,
              "solidity": 0.2
             }
            },
            "type": "barpolar"
           }
          ],
          "carpet": [
           {
            "aaxis": {
             "endlinecolor": "#2a3f5f",
             "gridcolor": "white",
             "linecolor": "white",
             "minorgridcolor": "white",
             "startlinecolor": "#2a3f5f"
            },
            "baxis": {
             "endlinecolor": "#2a3f5f",
             "gridcolor": "white",
             "linecolor": "white",
             "minorgridcolor": "white",
             "startlinecolor": "#2a3f5f"
            },
            "type": "carpet"
           }
          ],
          "choropleth": [
           {
            "colorbar": {
             "outlinewidth": 0,
             "ticks": ""
            },
            "type": "choropleth"
           }
          ],
          "contour": [
           {
            "colorbar": {
             "outlinewidth": 0,
             "ticks": ""
            },
            "colorscale": [
             [
              0,
              "#0d0887"
             ],
             [
              0.1111111111111111,
              "#46039f"
             ],
             [
              0.2222222222222222,
              "#7201a8"
             ],
             [
              0.3333333333333333,
              "#9c179e"
             ],
             [
              0.4444444444444444,
              "#bd3786"
             ],
             [
              0.5555555555555556,
              "#d8576b"
             ],
             [
              0.6666666666666666,
              "#ed7953"
             ],
             [
              0.7777777777777778,
              "#fb9f3a"
             ],
             [
              0.8888888888888888,
              "#fdca26"
             ],
             [
              1,
              "#f0f921"
             ]
            ],
            "type": "contour"
           }
          ],
          "contourcarpet": [
           {
            "colorbar": {
             "outlinewidth": 0,
             "ticks": ""
            },
            "type": "contourcarpet"
           }
          ],
          "heatmap": [
           {
            "colorbar": {
             "outlinewidth": 0,
             "ticks": ""
            },
            "colorscale": [
             [
              0,
              "#0d0887"
             ],
             [
              0.1111111111111111,
              "#46039f"
             ],
             [
              0.2222222222222222,
              "#7201a8"
             ],
             [
              0.3333333333333333,
              "#9c179e"
             ],
             [
              0.4444444444444444,
              "#bd3786"
             ],
             [
              0.5555555555555556,
              "#d8576b"
             ],
             [
              0.6666666666666666,
              "#ed7953"
             ],
             [
              0.7777777777777778,
              "#fb9f3a"
             ],
             [
              0.8888888888888888,
              "#fdca26"
             ],
             [
              1,
              "#f0f921"
             ]
            ],
            "type": "heatmap"
           }
          ],
          "histogram": [
           {
            "marker": {
             "pattern": {
              "fillmode": "overlay",
              "size": 10,
              "solidity": 0.2
             }
            },
            "type": "histogram"
           }
          ],
          "histogram2d": [
           {
            "colorbar": {
             "outlinewidth": 0,
             "ticks": ""
            },
            "colorscale": [
             [
              0,
              "#0d0887"
             ],
             [
              0.1111111111111111,
              "#46039f"
             ],
             [
              0.2222222222222222,
              "#7201a8"
             ],
             [
              0.3333333333333333,
              "#9c179e"
             ],
             [
              0.4444444444444444,
              "#bd3786"
             ],
             [
              0.5555555555555556,
              "#d8576b"
             ],
             [
              0.6666666666666666,
              "#ed7953"
             ],
             [
              0.7777777777777778,
              "#fb9f3a"
             ],
             [
              0.8888888888888888,
              "#fdca26"
             ],
             [
              1,
              "#f0f921"
             ]
            ],
            "type": "histogram2d"
           }
          ],
          "histogram2dcontour": [
           {
            "colorbar": {
             "outlinewidth": 0,
             "ticks": ""
            },
            "colorscale": [
             [
              0,
              "#0d0887"
             ],
             [
              0.1111111111111111,
              "#46039f"
             ],
             [
              0.2222222222222222,
              "#7201a8"
             ],
             [
              0.3333333333333333,
              "#9c179e"
             ],
             [
              0.4444444444444444,
              "#bd3786"
             ],
             [
              0.5555555555555556,
              "#d8576b"
             ],
             [
              0.6666666666666666,
              "#ed7953"
             ],
             [
              0.7777777777777778,
              "#fb9f3a"
             ],
             [
              0.8888888888888888,
              "#fdca26"
             ],
             [
              1,
              "#f0f921"
             ]
            ],
            "type": "histogram2dcontour"
           }
          ],
          "mesh3d": [
           {
            "colorbar": {
             "outlinewidth": 0,
             "ticks": ""
            },
            "type": "mesh3d"
           }
          ],
          "parcoords": [
           {
            "line": {
             "colorbar": {
              "outlinewidth": 0,
              "ticks": ""
             }
            },
            "type": "parcoords"
           }
          ],
          "pie": [
           {
            "automargin": true,
            "type": "pie"
           }
          ],
          "scatter": [
           {
            "fillpattern": {
             "fillmode": "overlay",
             "size": 10,
             "solidity": 0.2
            },
            "type": "scatter"
           }
          ],
          "scatter3d": [
           {
            "line": {
             "colorbar": {
              "outlinewidth": 0,
              "ticks": ""
             }
            },
            "marker": {
             "colorbar": {
              "outlinewidth": 0,
              "ticks": ""
             }
            },
            "type": "scatter3d"
           }
          ],
          "scattercarpet": [
           {
            "marker": {
             "colorbar": {
              "outlinewidth": 0,
              "ticks": ""
             }
            },
            "type": "scattercarpet"
           }
          ],
          "scattergeo": [
           {
            "marker": {
             "colorbar": {
              "outlinewidth": 0,
              "ticks": ""
             }
            },
            "type": "scattergeo"
           }
          ],
          "scattergl": [
           {
            "marker": {
             "colorbar": {
              "outlinewidth": 0,
              "ticks": ""
             }
            },
            "type": "scattergl"
           }
          ],
          "scattermap": [
           {
            "marker": {
             "colorbar": {
              "outlinewidth": 0,
              "ticks": ""
             }
            },
            "type": "scattermap"
           }
          ],
          "scattermapbox": [
           {
            "marker": {
             "colorbar": {
              "outlinewidth": 0,
              "ticks": ""
             }
            },
            "type": "scattermapbox"
           }
          ],
          "scatterpolar": [
           {
            "marker": {
             "colorbar": {
              "outlinewidth": 0,
              "ticks": ""
             }
            },
            "type": "scatterpolar"
           }
          ],
          "scatterpolargl": [
           {
            "marker": {
             "colorbar": {
              "outlinewidth": 0,
              "ticks": ""
             }
            },
            "type": "scatterpolargl"
           }
          ],
          "scatterternary": [
           {
            "marker": {
             "colorbar": {
              "outlinewidth": 0,
              "ticks": ""
             }
            },
            "type": "scatterternary"
           }
          ],
          "surface": [
           {
            "colorbar": {
             "outlinewidth": 0,
             "ticks": ""
            },
            "colorscale": [
             [
              0,
              "#0d0887"
             ],
             [
              0.1111111111111111,
              "#46039f"
             ],
             [
              0.2222222222222222,
              "#7201a8"
             ],
             [
              0.3333333333333333,
              "#9c179e"
             ],
             [
              0.4444444444444444,
              "#bd3786"
             ],
             [
              0.5555555555555556,
              "#d8576b"
             ],
             [
              0.6666666666666666,
              "#ed7953"
             ],
             [
              0.7777777777777778,
              "#fb9f3a"
             ],
             [
              0.8888888888888888,
              "#fdca26"
             ],
             [
              1,
              "#f0f921"
             ]
            ],
            "type": "surface"
           }
          ],
          "table": [
           {
            "cells": {
             "fill": {
              "color": "#EBF0F8"
             },
             "line": {
              "color": "white"
             }
            },
            "header": {
             "fill": {
              "color": "#C8D4E3"
             },
             "line": {
              "color": "white"
             }
            },
            "type": "table"
           }
          ]
         },
         "layout": {
          "annotationdefaults": {
           "arrowcolor": "#2a3f5f",
           "arrowhead": 0,
           "arrowwidth": 1
          },
          "autotypenumbers": "strict",
          "coloraxis": {
           "colorbar": {
            "outlinewidth": 0,
            "ticks": ""
           }
          },
          "colorscale": {
           "diverging": [
            [
             0,
             "#8e0152"
            ],
            [
             0.1,
             "#c51b7d"
            ],
            [
             0.2,
             "#de77ae"
            ],
            [
             0.3,
             "#f1b6da"
            ],
            [
             0.4,
             "#fde0ef"
            ],
            [
             0.5,
             "#f7f7f7"
            ],
            [
             0.6,
             "#e6f5d0"
            ],
            [
             0.7,
             "#b8e186"
            ],
            [
             0.8,
             "#7fbc41"
            ],
            [
             0.9,
             "#4d9221"
            ],
            [
             1,
             "#276419"
            ]
           ],
           "sequential": [
            [
             0,
             "#0d0887"
            ],
            [
             0.1111111111111111,
             "#46039f"
            ],
            [
             0.2222222222222222,
             "#7201a8"
            ],
            [
             0.3333333333333333,
             "#9c179e"
            ],
            [
             0.4444444444444444,
             "#bd3786"
            ],
            [
             0.5555555555555556,
             "#d8576b"
            ],
            [
             0.6666666666666666,
             "#ed7953"
            ],
            [
             0.7777777777777778,
             "#fb9f3a"
            ],
            [
             0.8888888888888888,
             "#fdca26"
            ],
            [
             1,
             "#f0f921"
            ]
           ],
           "sequentialminus": [
            [
             0,
             "#0d0887"
            ],
            [
             0.1111111111111111,
             "#46039f"
            ],
            [
             0.2222222222222222,
             "#7201a8"
            ],
            [
             0.3333333333333333,
             "#9c179e"
            ],
            [
             0.4444444444444444,
             "#bd3786"
            ],
            [
             0.5555555555555556,
             "#d8576b"
            ],
            [
             0.6666666666666666,
             "#ed7953"
            ],
            [
             0.7777777777777778,
             "#fb9f3a"
            ],
            [
             0.8888888888888888,
             "#fdca26"
            ],
            [
             1,
             "#f0f921"
            ]
           ]
          },
          "colorway": [
           "#636efa",
           "#EF553B",
           "#00cc96",
           "#ab63fa",
           "#FFA15A",
           "#19d3f3",
           "#FF6692",
           "#B6E880",
           "#FF97FF",
           "#FECB52"
          ],
          "font": {
           "color": "#2a3f5f"
          },
          "geo": {
           "bgcolor": "white",
           "lakecolor": "white",
           "landcolor": "#E5ECF6",
           "showlakes": true,
           "showland": true,
           "subunitcolor": "white"
          },
          "hoverlabel": {
           "align": "left"
          },
          "hovermode": "closest",
          "mapbox": {
           "style": "light"
          },
          "paper_bgcolor": "white",
          "plot_bgcolor": "#E5ECF6",
          "polar": {
           "angularaxis": {
            "gridcolor": "white",
            "linecolor": "white",
            "ticks": ""
           },
           "bgcolor": "#E5ECF6",
           "radialaxis": {
            "gridcolor": "white",
            "linecolor": "white",
            "ticks": ""
           }
          },
          "scene": {
           "xaxis": {
            "backgroundcolor": "#E5ECF6",
            "gridcolor": "white",
            "gridwidth": 2,
            "linecolor": "white",
            "showbackground": true,
            "ticks": "",
            "zerolinecolor": "white"
           },
           "yaxis": {
            "backgroundcolor": "#E5ECF6",
            "gridcolor": "white",
            "gridwidth": 2,
            "linecolor": "white",
            "showbackground": true,
            "ticks": "",
            "zerolinecolor": "white"
           },
           "zaxis": {
            "backgroundcolor": "#E5ECF6",
            "gridcolor": "white",
            "gridwidth": 2,
            "linecolor": "white",
            "showbackground": true,
            "ticks": "",
            "zerolinecolor": "white"
           }
          },
          "shapedefaults": {
           "line": {
            "color": "#2a3f5f"
           }
          },
          "ternary": {
           "aaxis": {
            "gridcolor": "white",
            "linecolor": "white",
            "ticks": ""
           },
           "baxis": {
            "gridcolor": "white",
            "linecolor": "white",
            "ticks": ""
           },
           "bgcolor": "#E5ECF6",
           "caxis": {
            "gridcolor": "white",
            "linecolor": "white",
            "ticks": ""
           }
          },
          "title": {
           "x": 0.05
          },
          "xaxis": {
           "automargin": true,
           "gridcolor": "white",
           "linecolor": "white",
           "ticks": "",
           "title": {
            "standoff": 15
           },
           "zerolinecolor": "white",
           "zerolinewidth": 2
          },
          "yaxis": {
           "automargin": true,
           "gridcolor": "white",
           "linecolor": "white",
           "ticks": "",
           "title": {
            "standoff": 15
           },
           "zerolinecolor": "white",
           "zerolinewidth": 2
          }
         }
        },
        "title": {
         "text": "Heatmap of Operational Cost vs Maintenance and Weather"
        },
        "xaxis": {
         "anchor": "y",
         "domain": [
          0,
          1
         ],
         "tickangle": -45,
         "title": {
          "text": "Maintenance_Status"
         }
        },
        "yaxis": {
         "anchor": "x",
         "domain": [
          0,
          1
         ],
         "title": {
          "text": "Weather_Condition"
         }
        }
       }
      }
     },
     "metadata": {},
     "output_type": "display_data"
    }
   ],
   "source": [
    "# Cost vs Maintenance + Weather\n",
    "avg_efficiency = df.groupby('Ship_Type')['Efficiency_nm_per_kWh'].mean().reset_index()\n",
    "\n",
    "grouped_data = df.groupby(['Maintenance_Status', 'Weather_Condition'])[['Operational_Cost_USD']].mean().reset_index()\n",
    "fig = px.density_heatmap(\n",
    "    grouped_data,\n",
    "    x='Maintenance_Status',\n",
    "    y='Weather_Condition',\n",
    "    z='Operational_Cost_USD',\n",
    "    color_continuous_scale='Inferno',\n",
    "    title='Heatmap of Operational Cost vs Maintenance and Weather',\n",
    "    labels={'Operational Cost': 'Avg Operational Cost', 'Maintenance Status': 'Maintenance Status', 'Weather Condition': 'Weather Condition'}\n",
    ")\n",
    "\n",
    "fig.update_layout(xaxis_tickangle=-45)\n",
    "fig.show()\n"
   ]
  }
 ],
 "metadata": {
  "kernelspec": {
   "display_name": "base",
   "language": "python",
   "name": "python3"
  },
  "language_info": {
   "codemirror_mode": {
    "name": "ipython",
    "version": 3
   },
   "file_extension": ".py",
   "mimetype": "text/x-python",
   "name": "python",
   "nbconvert_exporter": "python",
   "pygments_lexer": "ipython3",
   "version": "3.12.9"
  }
 },
 "nbformat": 4,
 "nbformat_minor": 5
}
