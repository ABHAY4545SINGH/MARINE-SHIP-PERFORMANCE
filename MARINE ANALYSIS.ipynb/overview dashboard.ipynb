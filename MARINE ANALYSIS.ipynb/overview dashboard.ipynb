{
 "cells": [
  {
   "cell_type": "code",
   "execution_count": 2,
   "id": "97ea9099",
   "metadata": {},
   "outputs": [],
   "source": [
    "import pandas as pd\n",
    "import numpy as np\n",
    "import matplotlib.pyplot as plt\n",
    "import seaborn as sns\n",
    "import plotly.express as px\n",
    "\n"
   ]
  },
  {
   "cell_type": "code",
   "execution_count": 3,
   "id": "597074e3",
   "metadata": {},
   "outputs": [
    {
     "data": {
      "text/html": [
       "<div>\n",
       "<style scoped>\n",
       "    .dataframe tbody tr th:only-of-type {\n",
       "        vertical-align: middle;\n",
       "    }\n",
       "\n",
       "    .dataframe tbody tr th {\n",
       "        vertical-align: top;\n",
       "    }\n",
       "\n",
       "    .dataframe thead th {\n",
       "        text-align: right;\n",
       "    }\n",
       "</style>\n",
       "<table border=\"1\" class=\"dataframe\">\n",
       "  <thead>\n",
       "    <tr style=\"text-align: right;\">\n",
       "      <th></th>\n",
       "      <th>Date</th>\n",
       "      <th>Ship_Type</th>\n",
       "      <th>Route_Type</th>\n",
       "      <th>Engine_Type</th>\n",
       "      <th>Maintenance_Status</th>\n",
       "      <th>Speed_Over_Ground_knots</th>\n",
       "      <th>Engine_Power_kW</th>\n",
       "      <th>Distance_Traveled_nm</th>\n",
       "      <th>Draft_meters</th>\n",
       "      <th>Weather_Condition</th>\n",
       "      <th>Cargo_Weight_tons</th>\n",
       "      <th>Operational_Cost_USD</th>\n",
       "      <th>Revenue_per_Voyage_USD</th>\n",
       "      <th>Turnaround_Time_hours</th>\n",
       "      <th>Efficiency_nm_per_kWh</th>\n",
       "      <th>Seasonal_Impact_Score</th>\n",
       "      <th>Weekly_Voyage_Count</th>\n",
       "      <th>Average_Load_Percentage</th>\n",
       "    </tr>\n",
       "  </thead>\n",
       "  <tbody>\n",
       "    <tr>\n",
       "      <th>0</th>\n",
       "      <td>2023-06-04</td>\n",
       "      <td>Container Ship</td>\n",
       "      <td>NaN</td>\n",
       "      <td>Heavy Fuel Oil (HFO)</td>\n",
       "      <td>Critical</td>\n",
       "      <td>12.597558</td>\n",
       "      <td>2062.983982</td>\n",
       "      <td>1030.943616</td>\n",
       "      <td>14.132284</td>\n",
       "      <td>Moderate</td>\n",
       "      <td>1959.017882</td>\n",
       "      <td>483832.354540</td>\n",
       "      <td>292183.273104</td>\n",
       "      <td>25.867077</td>\n",
       "      <td>1.455179</td>\n",
       "      <td>1.415653</td>\n",
       "      <td>1</td>\n",
       "      <td>93.769249</td>\n",
       "    </tr>\n",
       "    <tr>\n",
       "      <th>1</th>\n",
       "      <td>2023-06-11</td>\n",
       "      <td>Fish Carrier</td>\n",
       "      <td>Short-haul</td>\n",
       "      <td>Steam Turbine</td>\n",
       "      <td>Good</td>\n",
       "      <td>10.387580</td>\n",
       "      <td>1796.057415</td>\n",
       "      <td>1060.486382</td>\n",
       "      <td>14.653083</td>\n",
       "      <td>Rough</td>\n",
       "      <td>162.394712</td>\n",
       "      <td>483388.000509</td>\n",
       "      <td>883765.787360</td>\n",
       "      <td>63.248196</td>\n",
       "      <td>0.290361</td>\n",
       "      <td>0.885648</td>\n",
       "      <td>6</td>\n",
       "      <td>93.895372</td>\n",
       "    </tr>\n",
       "    <tr>\n",
       "      <th>2</th>\n",
       "      <td>2023-06-18</td>\n",
       "      <td>Container Ship</td>\n",
       "      <td>Long-haul</td>\n",
       "      <td>Diesel</td>\n",
       "      <td>Fair</td>\n",
       "      <td>20.749747</td>\n",
       "      <td>1648.556685</td>\n",
       "      <td>658.874144</td>\n",
       "      <td>7.199261</td>\n",
       "      <td>Moderate</td>\n",
       "      <td>178.040917</td>\n",
       "      <td>448543.404044</td>\n",
       "      <td>394018.746904</td>\n",
       "      <td>49.418150</td>\n",
       "      <td>0.499595</td>\n",
       "      <td>1.405813</td>\n",
       "      <td>9</td>\n",
       "      <td>96.218244</td>\n",
       "    </tr>\n",
       "    <tr>\n",
       "      <th>3</th>\n",
       "      <td>2023-06-25</td>\n",
       "      <td>Bulk Carrier</td>\n",
       "      <td>Transoceanic</td>\n",
       "      <td>Steam Turbine</td>\n",
       "      <td>Fair</td>\n",
       "      <td>21.055102</td>\n",
       "      <td>915.261795</td>\n",
       "      <td>1126.822519</td>\n",
       "      <td>11.789063</td>\n",
       "      <td>Moderate</td>\n",
       "      <td>1737.385346</td>\n",
       "      <td>261349.605449</td>\n",
       "      <td>87551.375175</td>\n",
       "      <td>22.409110</td>\n",
       "      <td>0.702906</td>\n",
       "      <td>1.370704</td>\n",
       "      <td>1</td>\n",
       "      <td>66.193698</td>\n",
       "    </tr>\n",
       "    <tr>\n",
       "      <th>4</th>\n",
       "      <td>2023-07-02</td>\n",
       "      <td>Fish Carrier</td>\n",
       "      <td>Transoceanic</td>\n",
       "      <td>Diesel</td>\n",
       "      <td>Fair</td>\n",
       "      <td>13.742777</td>\n",
       "      <td>1089.721803</td>\n",
       "      <td>1445.281159</td>\n",
       "      <td>9.727833</td>\n",
       "      <td>Moderate</td>\n",
       "      <td>260.595103</td>\n",
       "      <td>287718.375160</td>\n",
       "      <td>676121.459632</td>\n",
       "      <td>64.158231</td>\n",
       "      <td>1.331343</td>\n",
       "      <td>0.583383</td>\n",
       "      <td>8</td>\n",
       "      <td>80.008581</td>\n",
       "    </tr>\n",
       "    <tr>\n",
       "      <th>...</th>\n",
       "      <td>...</td>\n",
       "      <td>...</td>\n",
       "      <td>...</td>\n",
       "      <td>...</td>\n",
       "      <td>...</td>\n",
       "      <td>...</td>\n",
       "      <td>...</td>\n",
       "      <td>...</td>\n",
       "      <td>...</td>\n",
       "      <td>...</td>\n",
       "      <td>...</td>\n",
       "      <td>...</td>\n",
       "      <td>...</td>\n",
       "      <td>...</td>\n",
       "      <td>...</td>\n",
       "      <td>...</td>\n",
       "      <td>...</td>\n",
       "      <td>...</td>\n",
       "    </tr>\n",
       "    <tr>\n",
       "      <th>2731</th>\n",
       "      <td>2024-06-02</td>\n",
       "      <td>Tanker</td>\n",
       "      <td>Short-haul</td>\n",
       "      <td>Heavy Fuel Oil (HFO)</td>\n",
       "      <td>Good</td>\n",
       "      <td>11.607997</td>\n",
       "      <td>2918.395972</td>\n",
       "      <td>239.990359</td>\n",
       "      <td>13.700906</td>\n",
       "      <td>Moderate</td>\n",
       "      <td>318.111891</td>\n",
       "      <td>237975.067292</td>\n",
       "      <td>731584.322921</td>\n",
       "      <td>47.152337</td>\n",
       "      <td>1.000265</td>\n",
       "      <td>1.284895</td>\n",
       "      <td>3</td>\n",
       "      <td>74.813114</td>\n",
       "    </tr>\n",
       "    <tr>\n",
       "      <th>2732</th>\n",
       "      <td>2024-06-09</td>\n",
       "      <td>Bulk Carrier</td>\n",
       "      <td>Short-haul</td>\n",
       "      <td>Heavy Fuel Oil (HFO)</td>\n",
       "      <td>Good</td>\n",
       "      <td>13.852798</td>\n",
       "      <td>2161.282358</td>\n",
       "      <td>831.355653</td>\n",
       "      <td>14.612775</td>\n",
       "      <td>NaN</td>\n",
       "      <td>218.309002</td>\n",
       "      <td>21029.021721</td>\n",
       "      <td>374365.370930</td>\n",
       "      <td>64.325916</td>\n",
       "      <td>0.653474</td>\n",
       "      <td>0.891085</td>\n",
       "      <td>2</td>\n",
       "      <td>84.595155</td>\n",
       "    </tr>\n",
       "    <tr>\n",
       "      <th>2733</th>\n",
       "      <td>2024-06-16</td>\n",
       "      <td>Container Ship</td>\n",
       "      <td>Short-haul</td>\n",
       "      <td>Steam Turbine</td>\n",
       "      <td>Critical</td>\n",
       "      <td>16.813713</td>\n",
       "      <td>1343.608006</td>\n",
       "      <td>1376.460622</td>\n",
       "      <td>9.306518</td>\n",
       "      <td>NaN</td>\n",
       "      <td>1630.646419</td>\n",
       "      <td>78883.312529</td>\n",
       "      <td>234120.365052</td>\n",
       "      <td>53.551090</td>\n",
       "      <td>0.594169</td>\n",
       "      <td>0.725404</td>\n",
       "      <td>6</td>\n",
       "      <td>80.975269</td>\n",
       "    </tr>\n",
       "    <tr>\n",
       "      <th>2734</th>\n",
       "      <td>2024-06-23</td>\n",
       "      <td>Tanker</td>\n",
       "      <td>Transoceanic</td>\n",
       "      <td>Heavy Fuel Oil (HFO)</td>\n",
       "      <td>Good</td>\n",
       "      <td>23.132643</td>\n",
       "      <td>2028.143572</td>\n",
       "      <td>619.236340</td>\n",
       "      <td>6.623856</td>\n",
       "      <td>Moderate</td>\n",
       "      <td>153.441965</td>\n",
       "      <td>25241.550250</td>\n",
       "      <td>799713.737211</td>\n",
       "      <td>14.335517</td>\n",
       "      <td>0.895670</td>\n",
       "      <td>0.902960</td>\n",
       "      <td>2</td>\n",
       "      <td>92.853622</td>\n",
       "    </tr>\n",
       "    <tr>\n",
       "      <th>2735</th>\n",
       "      <td>2024-06-30</td>\n",
       "      <td>Fish Carrier</td>\n",
       "      <td>Coastal</td>\n",
       "      <td>Steam Turbine</td>\n",
       "      <td>Fair</td>\n",
       "      <td>11.527987</td>\n",
       "      <td>2928.588108</td>\n",
       "      <td>1930.235779</td>\n",
       "      <td>14.187652</td>\n",
       "      <td>Moderate</td>\n",
       "      <td>712.997894</td>\n",
       "      <td>55163.241668</td>\n",
       "      <td>382208.021405</td>\n",
       "      <td>63.886256</td>\n",
       "      <td>0.825349</td>\n",
       "      <td>1.289204</td>\n",
       "      <td>2</td>\n",
       "      <td>66.190613</td>\n",
       "    </tr>\n",
       "  </tbody>\n",
       "</table>\n",
       "<p>2736 rows × 18 columns</p>\n",
       "</div>"
      ],
      "text/plain": [
       "            Date       Ship_Type    Route_Type           Engine_Type  \\\n",
       "0     2023-06-04  Container Ship           NaN  Heavy Fuel Oil (HFO)   \n",
       "1     2023-06-11    Fish Carrier    Short-haul         Steam Turbine   \n",
       "2     2023-06-18  Container Ship     Long-haul                Diesel   \n",
       "3     2023-06-25    Bulk Carrier  Transoceanic         Steam Turbine   \n",
       "4     2023-07-02    Fish Carrier  Transoceanic                Diesel   \n",
       "...          ...             ...           ...                   ...   \n",
       "2731  2024-06-02          Tanker    Short-haul  Heavy Fuel Oil (HFO)   \n",
       "2732  2024-06-09    Bulk Carrier    Short-haul  Heavy Fuel Oil (HFO)   \n",
       "2733  2024-06-16  Container Ship    Short-haul         Steam Turbine   \n",
       "2734  2024-06-23          Tanker  Transoceanic  Heavy Fuel Oil (HFO)   \n",
       "2735  2024-06-30    Fish Carrier       Coastal         Steam Turbine   \n",
       "\n",
       "     Maintenance_Status  Speed_Over_Ground_knots  Engine_Power_kW  \\\n",
       "0              Critical                12.597558      2062.983982   \n",
       "1                  Good                10.387580      1796.057415   \n",
       "2                  Fair                20.749747      1648.556685   \n",
       "3                  Fair                21.055102       915.261795   \n",
       "4                  Fair                13.742777      1089.721803   \n",
       "...                 ...                      ...              ...   \n",
       "2731               Good                11.607997      2918.395972   \n",
       "2732               Good                13.852798      2161.282358   \n",
       "2733           Critical                16.813713      1343.608006   \n",
       "2734               Good                23.132643      2028.143572   \n",
       "2735               Fair                11.527987      2928.588108   \n",
       "\n",
       "      Distance_Traveled_nm  Draft_meters Weather_Condition  Cargo_Weight_tons  \\\n",
       "0              1030.943616     14.132284          Moderate        1959.017882   \n",
       "1              1060.486382     14.653083             Rough         162.394712   \n",
       "2               658.874144      7.199261          Moderate         178.040917   \n",
       "3              1126.822519     11.789063          Moderate        1737.385346   \n",
       "4              1445.281159      9.727833          Moderate         260.595103   \n",
       "...                    ...           ...               ...                ...   \n",
       "2731            239.990359     13.700906          Moderate         318.111891   \n",
       "2732            831.355653     14.612775               NaN         218.309002   \n",
       "2733           1376.460622      9.306518               NaN        1630.646419   \n",
       "2734            619.236340      6.623856          Moderate         153.441965   \n",
       "2735           1930.235779     14.187652          Moderate         712.997894   \n",
       "\n",
       "      Operational_Cost_USD  Revenue_per_Voyage_USD  Turnaround_Time_hours  \\\n",
       "0            483832.354540           292183.273104              25.867077   \n",
       "1            483388.000509           883765.787360              63.248196   \n",
       "2            448543.404044           394018.746904              49.418150   \n",
       "3            261349.605449            87551.375175              22.409110   \n",
       "4            287718.375160           676121.459632              64.158231   \n",
       "...                    ...                     ...                    ...   \n",
       "2731         237975.067292           731584.322921              47.152337   \n",
       "2732          21029.021721           374365.370930              64.325916   \n",
       "2733          78883.312529           234120.365052              53.551090   \n",
       "2734          25241.550250           799713.737211              14.335517   \n",
       "2735          55163.241668           382208.021405              63.886256   \n",
       "\n",
       "      Efficiency_nm_per_kWh  Seasonal_Impact_Score  Weekly_Voyage_Count  \\\n",
       "0                  1.455179               1.415653                    1   \n",
       "1                  0.290361               0.885648                    6   \n",
       "2                  0.499595               1.405813                    9   \n",
       "3                  0.702906               1.370704                    1   \n",
       "4                  1.331343               0.583383                    8   \n",
       "...                     ...                    ...                  ...   \n",
       "2731               1.000265               1.284895                    3   \n",
       "2732               0.653474               0.891085                    2   \n",
       "2733               0.594169               0.725404                    6   \n",
       "2734               0.895670               0.902960                    2   \n",
       "2735               0.825349               1.289204                    2   \n",
       "\n",
       "      Average_Load_Percentage  \n",
       "0                   93.769249  \n",
       "1                   93.895372  \n",
       "2                   96.218244  \n",
       "3                   66.193698  \n",
       "4                   80.008581  \n",
       "...                       ...  \n",
       "2731                74.813114  \n",
       "2732                84.595155  \n",
       "2733                80.975269  \n",
       "2734                92.853622  \n",
       "2735                66.190613  \n",
       "\n",
       "[2736 rows x 18 columns]"
      ]
     },
     "execution_count": 3,
     "metadata": {},
     "output_type": "execute_result"
    }
   ],
   "source": [
    "df = pd.read_csv(\"Ship_Performance_Dataset.csv\")\n",
    "df "
   ]
  },
  {
   "cell_type": "code",
   "execution_count": 4,
   "id": "0c64a932",
   "metadata": {},
   "outputs": [
    {
     "data": {
      "text/plain": [
       "['Date',\n",
       " 'Ship_Type',\n",
       " 'Route_Type',\n",
       " 'Engine_Type',\n",
       " 'Maintenance_Status',\n",
       " 'Speed_Over_Ground_knots',\n",
       " 'Engine_Power_kW',\n",
       " 'Distance_Traveled_nm',\n",
       " 'Draft_meters',\n",
       " 'Weather_Condition',\n",
       " 'Cargo_Weight_tons',\n",
       " 'Operational_Cost_USD',\n",
       " 'Revenue_per_Voyage_USD',\n",
       " 'Turnaround_Time_hours',\n",
       " 'Efficiency_nm_per_kWh',\n",
       " 'Seasonal_Impact_Score',\n",
       " 'Weekly_Voyage_Count',\n",
       " 'Average_Load_Percentage']"
      ]
     },
     "execution_count": 4,
     "metadata": {},
     "output_type": "execute_result"
    }
   ],
   "source": [
    "df.columns.tolist()"
   ]
  },
  {
   "cell_type": "code",
   "execution_count": 5,
   "id": "b50cdd46",
   "metadata": {},
   "outputs": [
    {
     "data": {
      "application/vnd.plotly.v1+json": {
       "config": {
        "plotlyServerURL": "https://plot.ly"
       },
       "data": [
        {
         "domain": {
          "x": [
           0,
           1
          ],
          "y": [
           0,
           1
          ]
         },
         "hovertemplate": "Ship_Type=%{label}<br>Count=%{value}<extra></extra>",
         "labels": [
          "Bulk Carrier",
          "Fish Carrier",
          "Tanker",
          "Container Ship"
         ],
         "legendgroup": "",
         "name": "",
         "showlegend": true,
         "type": "pie",
         "values": {
          "bdata": "nQKNAoMCewI=",
          "dtype": "i2"
         }
        }
       ],
       "layout": {
        "legend": {
         "tracegroupgap": 0
        },
        "piecolorway": [
         "rgb(141,211,199)",
         "rgb(255,255,179)",
         "rgb(190,186,218)",
         "rgb(251,128,114)",
         "rgb(128,177,211)",
         "rgb(253,180,98)",
         "rgb(179,222,105)",
         "rgb(252,205,229)",
         "rgb(217,217,217)",
         "rgb(188,128,189)",
         "rgb(204,235,197)",
         "rgb(255,237,111)"
        ],
        "template": {
         "data": {
          "bar": [
           {
            "error_x": {
             "color": "#2a3f5f"
            },
            "error_y": {
             "color": "#2a3f5f"
            },
            "marker": {
             "line": {
              "color": "#E5ECF6",
              "width": 0.5
             },
             "pattern": {
              "fillmode": "overlay",
              "size": 10,
              "solidity": 0.2
             }
            },
            "type": "bar"
           }
          ],
          "barpolar": [
           {
            "marker": {
             "line": {
              "color": "#E5ECF6",
              "width": 0.5
             },
             "pattern": {
              "fillmode": "overlay",
              "size": 10,
              "solidity": 0.2
             }
            },
            "type": "barpolar"
           }
          ],
          "carpet": [
           {
            "aaxis": {
             "endlinecolor": "#2a3f5f",
             "gridcolor": "white",
             "linecolor": "white",
             "minorgridcolor": "white",
             "startlinecolor": "#2a3f5f"
            },
            "baxis": {
             "endlinecolor": "#2a3f5f",
             "gridcolor": "white",
             "linecolor": "white",
             "minorgridcolor": "white",
             "startlinecolor": "#2a3f5f"
            },
            "type": "carpet"
           }
          ],
          "choropleth": [
           {
            "colorbar": {
             "outlinewidth": 0,
             "ticks": ""
            },
            "type": "choropleth"
           }
          ],
          "contour": [
           {
            "colorbar": {
             "outlinewidth": 0,
             "ticks": ""
            },
            "colorscale": [
             [
              0,
              "#0d0887"
             ],
             [
              0.1111111111111111,
              "#46039f"
             ],
             [
              0.2222222222222222,
              "#7201a8"
             ],
             [
              0.3333333333333333,
              "#9c179e"
             ],
             [
              0.4444444444444444,
              "#bd3786"
             ],
             [
              0.5555555555555556,
              "#d8576b"
             ],
             [
              0.6666666666666666,
              "#ed7953"
             ],
             [
              0.7777777777777778,
              "#fb9f3a"
             ],
             [
              0.8888888888888888,
              "#fdca26"
             ],
             [
              1,
              "#f0f921"
             ]
            ],
            "type": "contour"
           }
          ],
          "contourcarpet": [
           {
            "colorbar": {
             "outlinewidth": 0,
             "ticks": ""
            },
            "type": "contourcarpet"
           }
          ],
          "heatmap": [
           {
            "colorbar": {
             "outlinewidth": 0,
             "ticks": ""
            },
            "colorscale": [
             [
              0,
              "#0d0887"
             ],
             [
              0.1111111111111111,
              "#46039f"
             ],
             [
              0.2222222222222222,
              "#7201a8"
             ],
             [
              0.3333333333333333,
              "#9c179e"
             ],
             [
              0.4444444444444444,
              "#bd3786"
             ],
             [
              0.5555555555555556,
              "#d8576b"
             ],
             [
              0.6666666666666666,
              "#ed7953"
             ],
             [
              0.7777777777777778,
              "#fb9f3a"
             ],
             [
              0.8888888888888888,
              "#fdca26"
             ],
             [
              1,
              "#f0f921"
             ]
            ],
            "type": "heatmap"
           }
          ],
          "histogram": [
           {
            "marker": {
             "pattern": {
              "fillmode": "overlay",
              "size": 10,
              "solidity": 0.2
             }
            },
            "type": "histogram"
           }
          ],
          "histogram2d": [
           {
            "colorbar": {
             "outlinewidth": 0,
             "ticks": ""
            },
            "colorscale": [
             [
              0,
              "#0d0887"
             ],
             [
              0.1111111111111111,
              "#46039f"
             ],
             [
              0.2222222222222222,
              "#7201a8"
             ],
             [
              0.3333333333333333,
              "#9c179e"
             ],
             [
              0.4444444444444444,
              "#bd3786"
             ],
             [
              0.5555555555555556,
              "#d8576b"
             ],
             [
              0.6666666666666666,
              "#ed7953"
             ],
             [
              0.7777777777777778,
              "#fb9f3a"
             ],
             [
              0.8888888888888888,
              "#fdca26"
             ],
             [
              1,
              "#f0f921"
             ]
            ],
            "type": "histogram2d"
           }
          ],
          "histogram2dcontour": [
           {
            "colorbar": {
             "outlinewidth": 0,
             "ticks": ""
            },
            "colorscale": [
             [
              0,
              "#0d0887"
             ],
             [
              0.1111111111111111,
              "#46039f"
             ],
             [
              0.2222222222222222,
              "#7201a8"
             ],
             [
              0.3333333333333333,
              "#9c179e"
             ],
             [
              0.4444444444444444,
              "#bd3786"
             ],
             [
              0.5555555555555556,
              "#d8576b"
             ],
             [
              0.6666666666666666,
              "#ed7953"
             ],
             [
              0.7777777777777778,
              "#fb9f3a"
             ],
             [
              0.8888888888888888,
              "#fdca26"
             ],
             [
              1,
              "#f0f921"
             ]
            ],
            "type": "histogram2dcontour"
           }
          ],
          "mesh3d": [
           {
            "colorbar": {
             "outlinewidth": 0,
             "ticks": ""
            },
            "type": "mesh3d"
           }
          ],
          "parcoords": [
           {
            "line": {
             "colorbar": {
              "outlinewidth": 0,
              "ticks": ""
             }
            },
            "type": "parcoords"
           }
          ],
          "pie": [
           {
            "automargin": true,
            "type": "pie"
           }
          ],
          "scatter": [
           {
            "fillpattern": {
             "fillmode": "overlay",
             "size": 10,
             "solidity": 0.2
            },
            "type": "scatter"
           }
          ],
          "scatter3d": [
           {
            "line": {
             "colorbar": {
              "outlinewidth": 0,
              "ticks": ""
             }
            },
            "marker": {
             "colorbar": {
              "outlinewidth": 0,
              "ticks": ""
             }
            },
            "type": "scatter3d"
           }
          ],
          "scattercarpet": [
           {
            "marker": {
             "colorbar": {
              "outlinewidth": 0,
              "ticks": ""
             }
            },
            "type": "scattercarpet"
           }
          ],
          "scattergeo": [
           {
            "marker": {
             "colorbar": {
              "outlinewidth": 0,
              "ticks": ""
             }
            },
            "type": "scattergeo"
           }
          ],
          "scattergl": [
           {
            "marker": {
             "colorbar": {
              "outlinewidth": 0,
              "ticks": ""
             }
            },
            "type": "scattergl"
           }
          ],
          "scattermap": [
           {
            "marker": {
             "colorbar": {
              "outlinewidth": 0,
              "ticks": ""
             }
            },
            "type": "scattermap"
           }
          ],
          "scattermapbox": [
           {
            "marker": {
             "colorbar": {
              "outlinewidth": 0,
              "ticks": ""
             }
            },
            "type": "scattermapbox"
           }
          ],
          "scatterpolar": [
           {
            "marker": {
             "colorbar": {
              "outlinewidth": 0,
              "ticks": ""
             }
            },
            "type": "scatterpolar"
           }
          ],
          "scatterpolargl": [
           {
            "marker": {
             "colorbar": {
              "outlinewidth": 0,
              "ticks": ""
             }
            },
            "type": "scatterpolargl"
           }
          ],
          "scatterternary": [
           {
            "marker": {
             "colorbar": {
              "outlinewidth": 0,
              "ticks": ""
             }
            },
            "type": "scatterternary"
           }
          ],
          "surface": [
           {
            "colorbar": {
             "outlinewidth": 0,
             "ticks": ""
            },
            "colorscale": [
             [
              0,
              "#0d0887"
             ],
             [
              0.1111111111111111,
              "#46039f"
             ],
             [
              0.2222222222222222,
              "#7201a8"
             ],
             [
              0.3333333333333333,
              "#9c179e"
             ],
             [
              0.4444444444444444,
              "#bd3786"
             ],
             [
              0.5555555555555556,
              "#d8576b"
             ],
             [
              0.6666666666666666,
              "#ed7953"
             ],
             [
              0.7777777777777778,
              "#fb9f3a"
             ],
             [
              0.8888888888888888,
              "#fdca26"
             ],
             [
              1,
              "#f0f921"
             ]
            ],
            "type": "surface"
           }
          ],
          "table": [
           {
            "cells": {
             "fill": {
              "color": "#EBF0F8"
             },
             "line": {
              "color": "white"
             }
            },
            "header": {
             "fill": {
              "color": "#C8D4E3"
             },
             "line": {
              "color": "white"
             }
            },
            "type": "table"
           }
          ]
         },
         "layout": {
          "annotationdefaults": {
           "arrowcolor": "#2a3f5f",
           "arrowhead": 0,
           "arrowwidth": 1
          },
          "autotypenumbers": "strict",
          "coloraxis": {
           "colorbar": {
            "outlinewidth": 0,
            "ticks": ""
           }
          },
          "colorscale": {
           "diverging": [
            [
             0,
             "#8e0152"
            ],
            [
             0.1,
             "#c51b7d"
            ],
            [
             0.2,
             "#de77ae"
            ],
            [
             0.3,
             "#f1b6da"
            ],
            [
             0.4,
             "#fde0ef"
            ],
            [
             0.5,
             "#f7f7f7"
            ],
            [
             0.6,
             "#e6f5d0"
            ],
            [
             0.7,
             "#b8e186"
            ],
            [
             0.8,
             "#7fbc41"
            ],
            [
             0.9,
             "#4d9221"
            ],
            [
             1,
             "#276419"
            ]
           ],
           "sequential": [
            [
             0,
             "#0d0887"
            ],
            [
             0.1111111111111111,
             "#46039f"
            ],
            [
             0.2222222222222222,
             "#7201a8"
            ],
            [
             0.3333333333333333,
             "#9c179e"
            ],
            [
             0.4444444444444444,
             "#bd3786"
            ],
            [
             0.5555555555555556,
             "#d8576b"
            ],
            [
             0.6666666666666666,
             "#ed7953"
            ],
            [
             0.7777777777777778,
             "#fb9f3a"
            ],
            [
             0.8888888888888888,
             "#fdca26"
            ],
            [
             1,
             "#f0f921"
            ]
           ],
           "sequentialminus": [
            [
             0,
             "#0d0887"
            ],
            [
             0.1111111111111111,
             "#46039f"
            ],
            [
             0.2222222222222222,
             "#7201a8"
            ],
            [
             0.3333333333333333,
             "#9c179e"
            ],
            [
             0.4444444444444444,
             "#bd3786"
            ],
            [
             0.5555555555555556,
             "#d8576b"
            ],
            [
             0.6666666666666666,
             "#ed7953"
            ],
            [
             0.7777777777777778,
             "#fb9f3a"
            ],
            [
             0.8888888888888888,
             "#fdca26"
            ],
            [
             1,
             "#f0f921"
            ]
           ]
          },
          "colorway": [
           "#636efa",
           "#EF553B",
           "#00cc96",
           "#ab63fa",
           "#FFA15A",
           "#19d3f3",
           "#FF6692",
           "#B6E880",
           "#FF97FF",
           "#FECB52"
          ],
          "font": {
           "color": "#2a3f5f"
          },
          "geo": {
           "bgcolor": "white",
           "lakecolor": "white",
           "landcolor": "#E5ECF6",
           "showlakes": true,
           "showland": true,
           "subunitcolor": "white"
          },
          "hoverlabel": {
           "align": "left"
          },
          "hovermode": "closest",
          "mapbox": {
           "style": "light"
          },
          "paper_bgcolor": "white",
          "plot_bgcolor": "#E5ECF6",
          "polar": {
           "angularaxis": {
            "gridcolor": "white",
            "linecolor": "white",
            "ticks": ""
           },
           "bgcolor": "#E5ECF6",
           "radialaxis": {
            "gridcolor": "white",
            "linecolor": "white",
            "ticks": ""
           }
          },
          "scene": {
           "xaxis": {
            "backgroundcolor": "#E5ECF6",
            "gridcolor": "white",
            "gridwidth": 2,
            "linecolor": "white",
            "showbackground": true,
            "ticks": "",
            "zerolinecolor": "white"
           },
           "yaxis": {
            "backgroundcolor": "#E5ECF6",
            "gridcolor": "white",
            "gridwidth": 2,
            "linecolor": "white",
            "showbackground": true,
            "ticks": "",
            "zerolinecolor": "white"
           },
           "zaxis": {
            "backgroundcolor": "#E5ECF6",
            "gridcolor": "white",
            "gridwidth": 2,
            "linecolor": "white",
            "showbackground": true,
            "ticks": "",
            "zerolinecolor": "white"
           }
          },
          "shapedefaults": {
           "line": {
            "color": "#2a3f5f"
           }
          },
          "ternary": {
           "aaxis": {
            "gridcolor": "white",
            "linecolor": "white",
            "ticks": ""
           },
           "baxis": {
            "gridcolor": "white",
            "linecolor": "white",
            "ticks": ""
           },
           "bgcolor": "#E5ECF6",
           "caxis": {
            "gridcolor": "white",
            "linecolor": "white",
            "ticks": ""
           }
          },
          "title": {
           "x": 0.05
          },
          "xaxis": {
           "automargin": true,
           "gridcolor": "white",
           "linecolor": "white",
           "ticks": "",
           "title": {
            "standoff": 15
           },
           "zerolinecolor": "white",
           "zerolinewidth": 2
          },
          "yaxis": {
           "automargin": true,
           "gridcolor": "white",
           "linecolor": "white",
           "ticks": "",
           "title": {
            "standoff": 15
           },
           "zerolinecolor": "white",
           "zerolinewidth": 2
          }
         }
        },
        "title": {
         "text": "Ship Type Distribution"
        }
       }
      }
     },
     "metadata": {},
     "output_type": "display_data"
    }
   ],
   "source": [
    "# ship type distribution\n",
    "\n",
    "ship_counts = df['Ship_Type'].value_counts().reset_index()\n",
    "ship_counts.columns = ['Ship_Type', 'Count']\n",
    "\n",
    "fig = px.pie(ship_counts, values='Count', names='Ship_Type', title='Ship Type Distribution'\n",
    "             , color_discrete_sequence=px.colors.qualitative.Set3)\n",
    "fig.show()"
   ]
  },
  {
   "cell_type": "code",
   "execution_count": null,
   "id": "14fad32f",
   "metadata": {},
   "outputs": [
    {
     "data": {
      "application/vnd.plotly.v1+json": {
       "config": {
        "plotlyServerURL": "https://plot.ly"
       },
       "data": [
        {
         "hovertemplate": "Route Type=%{x}<br>Count=%{marker.color}<extra></extra>",
         "legendgroup": "",
         "marker": {
          "color": {
           "bdata": "rgKKAn4CcgI=",
           "dtype": "i2"
          },
          "coloraxis": "coloraxis",
          "pattern": {
           "shape": ""
          }
         },
         "name": "",
         "orientation": "v",
         "showlegend": false,
         "textposition": "auto",
         "type": "bar",
         "x": [
          "Long-haul",
          "Coastal",
          "Transoceanic",
          "Short-haul"
         ],
         "xaxis": "x",
         "y": {
          "bdata": "rgKKAn4CcgI=",
          "dtype": "i2"
         },
         "yaxis": "y"
        }
       ],
       "layout": {
        "barmode": "relative",
        "coloraxis": {
         "colorbar": {
          "title": {
           "text": "Count"
          }
         },
         "colorscale": [
          [
           0,
           "rgb(247,251,255)"
          ],
          [
           0.125,
           "rgb(222,235,247)"
          ],
          [
           0.25,
           "rgb(198,219,239)"
          ],
          [
           0.375,
           "rgb(158,202,225)"
          ],
          [
           0.5,
           "rgb(107,174,214)"
          ],
          [
           0.625,
           "rgb(66,146,198)"
          ],
          [
           0.75,
           "rgb(33,113,181)"
          ],
          [
           0.875,
           "rgb(8,81,156)"
          ],
          [
           1,
           "rgb(8,48,107)"
          ]
         ]
        },
        "legend": {
         "tracegroupgap": 0
        },
        "template": {
         "data": {
          "bar": [
           {
            "error_x": {
             "color": "#2a3f5f"
            },
            "error_y": {
             "color": "#2a3f5f"
            },
            "marker": {
             "line": {
              "color": "#E5ECF6",
              "width": 0.5
             },
             "pattern": {
              "fillmode": "overlay",
              "size": 10,
              "solidity": 0.2
             }
            },
            "type": "bar"
           }
          ],
          "barpolar": [
           {
            "marker": {
             "line": {
              "color": "#E5ECF6",
              "width": 0.5
             },
             "pattern": {
              "fillmode": "overlay",
              "size": 10,
              "solidity": 0.2
             }
            },
            "type": "barpolar"
           }
          ],
          "carpet": [
           {
            "aaxis": {
             "endlinecolor": "#2a3f5f",
             "gridcolor": "white",
             "linecolor": "white",
             "minorgridcolor": "white",
             "startlinecolor": "#2a3f5f"
            },
            "baxis": {
             "endlinecolor": "#2a3f5f",
             "gridcolor": "white",
             "linecolor": "white",
             "minorgridcolor": "white",
             "startlinecolor": "#2a3f5f"
            },
            "type": "carpet"
           }
          ],
          "choropleth": [
           {
            "colorbar": {
             "outlinewidth": 0,
             "ticks": ""
            },
            "type": "choropleth"
           }
          ],
          "contour": [
           {
            "colorbar": {
             "outlinewidth": 0,
             "ticks": ""
            },
            "colorscale": [
             [
              0,
              "#0d0887"
             ],
             [
              0.1111111111111111,
              "#46039f"
             ],
             [
              0.2222222222222222,
              "#7201a8"
             ],
             [
              0.3333333333333333,
              "#9c179e"
             ],
             [
              0.4444444444444444,
              "#bd3786"
             ],
             [
              0.5555555555555556,
              "#d8576b"
             ],
             [
              0.6666666666666666,
              "#ed7953"
             ],
             [
              0.7777777777777778,
              "#fb9f3a"
             ],
             [
              0.8888888888888888,
              "#fdca26"
             ],
             [
              1,
              "#f0f921"
             ]
            ],
            "type": "contour"
           }
          ],
          "contourcarpet": [
           {
            "colorbar": {
             "outlinewidth": 0,
             "ticks": ""
            },
            "type": "contourcarpet"
           }
          ],
          "heatmap": [
           {
            "colorbar": {
             "outlinewidth": 0,
             "ticks": ""
            },
            "colorscale": [
             [
              0,
              "#0d0887"
             ],
             [
              0.1111111111111111,
              "#46039f"
             ],
             [
              0.2222222222222222,
              "#7201a8"
             ],
             [
              0.3333333333333333,
              "#9c179e"
             ],
             [
              0.4444444444444444,
              "#bd3786"
             ],
             [
              0.5555555555555556,
              "#d8576b"
             ],
             [
              0.6666666666666666,
              "#ed7953"
             ],
             [
              0.7777777777777778,
              "#fb9f3a"
             ],
             [
              0.8888888888888888,
              "#fdca26"
             ],
             [
              1,
              "#f0f921"
             ]
            ],
            "type": "heatmap"
           }
          ],
          "histogram": [
           {
            "marker": {
             "pattern": {
              "fillmode": "overlay",
              "size": 10,
              "solidity": 0.2
             }
            },
            "type": "histogram"
           }
          ],
          "histogram2d": [
           {
            "colorbar": {
             "outlinewidth": 0,
             "ticks": ""
            },
            "colorscale": [
             [
              0,
              "#0d0887"
             ],
             [
              0.1111111111111111,
              "#46039f"
             ],
             [
              0.2222222222222222,
              "#7201a8"
             ],
             [
              0.3333333333333333,
              "#9c179e"
             ],
             [
              0.4444444444444444,
              "#bd3786"
             ],
             [
              0.5555555555555556,
              "#d8576b"
             ],
             [
              0.6666666666666666,
              "#ed7953"
             ],
             [
              0.7777777777777778,
              "#fb9f3a"
             ],
             [
              0.8888888888888888,
              "#fdca26"
             ],
             [
              1,
              "#f0f921"
             ]
            ],
            "type": "histogram2d"
           }
          ],
          "histogram2dcontour": [
           {
            "colorbar": {
             "outlinewidth": 0,
             "ticks": ""
            },
            "colorscale": [
             [
              0,
              "#0d0887"
             ],
             [
              0.1111111111111111,
              "#46039f"
             ],
             [
              0.2222222222222222,
              "#7201a8"
             ],
             [
              0.3333333333333333,
              "#9c179e"
             ],
             [
              0.4444444444444444,
              "#bd3786"
             ],
             [
              0.5555555555555556,
              "#d8576b"
             ],
             [
              0.6666666666666666,
              "#ed7953"
             ],
             [
              0.7777777777777778,
              "#fb9f3a"
             ],
             [
              0.8888888888888888,
              "#fdca26"
             ],
             [
              1,
              "#f0f921"
             ]
            ],
            "type": "histogram2dcontour"
           }
          ],
          "mesh3d": [
           {
            "colorbar": {
             "outlinewidth": 0,
             "ticks": ""
            },
            "type": "mesh3d"
           }
          ],
          "parcoords": [
           {
            "line": {
             "colorbar": {
              "outlinewidth": 0,
              "ticks": ""
             }
            },
            "type": "parcoords"
           }
          ],
          "pie": [
           {
            "automargin": true,
            "type": "pie"
           }
          ],
          "scatter": [
           {
            "fillpattern": {
             "fillmode": "overlay",
             "size": 10,
             "solidity": 0.2
            },
            "type": "scatter"
           }
          ],
          "scatter3d": [
           {
            "line": {
             "colorbar": {
              "outlinewidth": 0,
              "ticks": ""
             }
            },
            "marker": {
             "colorbar": {
              "outlinewidth": 0,
              "ticks": ""
             }
            },
            "type": "scatter3d"
           }
          ],
          "scattercarpet": [
           {
            "marker": {
             "colorbar": {
              "outlinewidth": 0,
              "ticks": ""
             }
            },
            "type": "scattercarpet"
           }
          ],
          "scattergeo": [
           {
            "marker": {
             "colorbar": {
              "outlinewidth": 0,
              "ticks": ""
             }
            },
            "type": "scattergeo"
           }
          ],
          "scattergl": [
           {
            "marker": {
             "colorbar": {
              "outlinewidth": 0,
              "ticks": ""
             }
            },
            "type": "scattergl"
           }
          ],
          "scattermap": [
           {
            "marker": {
             "colorbar": {
              "outlinewidth": 0,
              "ticks": ""
             }
            },
            "type": "scattermap"
           }
          ],
          "scattermapbox": [
           {
            "marker": {
             "colorbar": {
              "outlinewidth": 0,
              "ticks": ""
             }
            },
            "type": "scattermapbox"
           }
          ],
          "scatterpolar": [
           {
            "marker": {
             "colorbar": {
              "outlinewidth": 0,
              "ticks": ""
             }
            },
            "type": "scatterpolar"
           }
          ],
          "scatterpolargl": [
           {
            "marker": {
             "colorbar": {
              "outlinewidth": 0,
              "ticks": ""
             }
            },
            "type": "scatterpolargl"
           }
          ],
          "scatterternary": [
           {
            "marker": {
             "colorbar": {
              "outlinewidth": 0,
              "ticks": ""
             }
            },
            "type": "scatterternary"
           }
          ],
          "surface": [
           {
            "colorbar": {
             "outlinewidth": 0,
             "ticks": ""
            },
            "colorscale": [
             [
              0,
              "#0d0887"
             ],
             [
              0.1111111111111111,
              "#46039f"
             ],
             [
              0.2222222222222222,
              "#7201a8"
             ],
             [
              0.3333333333333333,
              "#9c179e"
             ],
             [
              0.4444444444444444,
              "#bd3786"
             ],
             [
              0.5555555555555556,
              "#d8576b"
             ],
             [
              0.6666666666666666,
              "#ed7953"
             ],
             [
              0.7777777777777778,
              "#fb9f3a"
             ],
             [
              0.8888888888888888,
              "#fdca26"
             ],
             [
              1,
              "#f0f921"
             ]
            ],
            "type": "surface"
           }
          ],
          "table": [
           {
            "cells": {
             "fill": {
              "color": "#EBF0F8"
             },
             "line": {
              "color": "white"
             }
            },
            "header": {
             "fill": {
              "color": "#C8D4E3"
             },
             "line": {
              "color": "white"
             }
            },
            "type": "table"
           }
          ]
         },
         "layout": {
          "annotationdefaults": {
           "arrowcolor": "#2a3f5f",
           "arrowhead": 0,
           "arrowwidth": 1
          },
          "autotypenumbers": "strict",
          "coloraxis": {
           "colorbar": {
            "outlinewidth": 0,
            "ticks": ""
           }
          },
          "colorscale": {
           "diverging": [
            [
             0,
             "#8e0152"
            ],
            [
             0.1,
             "#c51b7d"
            ],
            [
             0.2,
             "#de77ae"
            ],
            [
             0.3,
             "#f1b6da"
            ],
            [
             0.4,
             "#fde0ef"
            ],
            [
             0.5,
             "#f7f7f7"
            ],
            [
             0.6,
             "#e6f5d0"
            ],
            [
             0.7,
             "#b8e186"
            ],
            [
             0.8,
             "#7fbc41"
            ],
            [
             0.9,
             "#4d9221"
            ],
            [
             1,
             "#276419"
            ]
           ],
           "sequential": [
            [
             0,
             "#0d0887"
            ],
            [
             0.1111111111111111,
             "#46039f"
            ],
            [
             0.2222222222222222,
             "#7201a8"
            ],
            [
             0.3333333333333333,
             "#9c179e"
            ],
            [
             0.4444444444444444,
             "#bd3786"
            ],
            [
             0.5555555555555556,
             "#d8576b"
            ],
            [
             0.6666666666666666,
             "#ed7953"
            ],
            [
             0.7777777777777778,
             "#fb9f3a"
            ],
            [
             0.8888888888888888,
             "#fdca26"
            ],
            [
             1,
             "#f0f921"
            ]
           ],
           "sequentialminus": [
            [
             0,
             "#0d0887"
            ],
            [
             0.1111111111111111,
             "#46039f"
            ],
            [
             0.2222222222222222,
             "#7201a8"
            ],
            [
             0.3333333333333333,
             "#9c179e"
            ],
            [
             0.4444444444444444,
             "#bd3786"
            ],
            [
             0.5555555555555556,
             "#d8576b"
            ],
            [
             0.6666666666666666,
             "#ed7953"
            ],
            [
             0.7777777777777778,
             "#fb9f3a"
            ],
            [
             0.8888888888888888,
             "#fdca26"
            ],
            [
             1,
             "#f0f921"
            ]
           ]
          },
          "colorway": [
           "#636efa",
           "#EF553B",
           "#00cc96",
           "#ab63fa",
           "#FFA15A",
           "#19d3f3",
           "#FF6692",
           "#B6E880",
           "#FF97FF",
           "#FECB52"
          ],
          "font": {
           "color": "#2a3f5f"
          },
          "geo": {
           "bgcolor": "white",
           "lakecolor": "white",
           "landcolor": "#E5ECF6",
           "showlakes": true,
           "showland": true,
           "subunitcolor": "white"
          },
          "hoverlabel": {
           "align": "left"
          },
          "hovermode": "closest",
          "mapbox": {
           "style": "light"
          },
          "paper_bgcolor": "white",
          "plot_bgcolor": "#E5ECF6",
          "polar": {
           "angularaxis": {
            "gridcolor": "white",
            "linecolor": "white",
            "ticks": ""
           },
           "bgcolor": "#E5ECF6",
           "radialaxis": {
            "gridcolor": "white",
            "linecolor": "white",
            "ticks": ""
           }
          },
          "scene": {
           "xaxis": {
            "backgroundcolor": "#E5ECF6",
            "gridcolor": "white",
            "gridwidth": 2,
            "linecolor": "white",
            "showbackground": true,
            "ticks": "",
            "zerolinecolor": "white"
           },
           "yaxis": {
            "backgroundcolor": "#E5ECF6",
            "gridcolor": "white",
            "gridwidth": 2,
            "linecolor": "white",
            "showbackground": true,
            "ticks": "",
            "zerolinecolor": "white"
           },
           "zaxis": {
            "backgroundcolor": "#E5ECF6",
            "gridcolor": "white",
            "gridwidth": 2,
            "linecolor": "white",
            "showbackground": true,
            "ticks": "",
            "zerolinecolor": "white"
           }
          },
          "shapedefaults": {
           "line": {
            "color": "#2a3f5f"
           }
          },
          "ternary": {
           "aaxis": {
            "gridcolor": "white",
            "linecolor": "white",
            "ticks": ""
           },
           "baxis": {
            "gridcolor": "white",
            "linecolor": "white",
            "ticks": ""
           },
           "bgcolor": "#E5ECF6",
           "caxis": {
            "gridcolor": "white",
            "linecolor": "white",
            "ticks": ""
           }
          },
          "title": {
           "x": 0.05
          },
          "xaxis": {
           "automargin": true,
           "gridcolor": "white",
           "linecolor": "white",
           "ticks": "",
           "title": {
            "standoff": 15
           },
           "zerolinecolor": "white",
           "zerolinewidth": 2
          },
          "yaxis": {
           "automargin": true,
           "gridcolor": "white",
           "linecolor": "white",
           "ticks": "",
           "title": {
            "standoff": 15
           },
           "zerolinecolor": "white",
           "zerolinewidth": 2
          }
         }
        },
        "title": {
         "text": "Route Type Distribution"
        },
        "xaxis": {
         "anchor": "y",
         "domain": [
          0,
          1
         ],
         "tickangle": -45,
         "title": {
          "text": "Route Type"
         }
        },
        "yaxis": {
         "anchor": "x",
         "domain": [
          0,
          1
         ],
         "title": {
          "text": "Count"
         }
        }
       }
      }
     },
     "metadata": {},
     "output_type": "display_data"
    }
   ],
   "source": [
    "# Route type distribution\n",
    "route_counts = df['Route_Type'].value_counts().reset_index()\n",
    "route_counts.columns = ['Route_Type', 'Count']\n",
    "\n",
    "fig = px.bar(route_counts, x='Route_Type', y='Count', title='Route Type Distribution',\n",
    "             labels={'Route_Type': 'Route Type', 'Count': 'Count'},\n",
    "             color='Count',\n",
    "                color_continuous_scale='Blues')\n",
    "\n",
    "fig.update_layout(xaxis_tickangle=-45)\n",
    "fig.show()"
   ]
  },
  {
   "cell_type": "code",
   "execution_count": null,
   "id": "fab3cfe8",
   "metadata": {},
   "outputs": [
    {
     "data": {
      "application/vnd.plotly.v1+json": {
       "config": {
        "plotlyServerURL": "https://plot.ly"
       },
       "data": [
        {
         "hovertemplate": "Weekly Voyage Count=%{x}<br>Ship Type=%{y}<extra></extra>",
         "legendgroup": "",
         "line": {
          "color": "#636efa",
          "dash": "solid"
         },
         "marker": {
          "symbol": "circle"
         },
         "mode": "lines+markers",
         "name": "",
         "showlegend": false,
         "type": "scattergl",
         "x": {
          "bdata": "AQEBAQEBAQEBAQEBAQEBAQEBAQEBAQEBAQEBAQEBAQEBAQEBAQEBAQEBAQEBAQEBAQEBAQEBAQEBAQEBAQEBAQEBAQEBAQEBAQEBAQEBAQEBAQEBAQEBAQEBAQEBAQEBAQEBAQEBAQEBAQEBAQEBAQEBAQEBAQEBAQEBAQEBAQEBAQEBAQEBAQEBAQEBAQEBAQEBAQEBAQEBAQEBAQEBAQEBAQEBAQEBAQEBAQEBAQEBAQEBAQEBAQEBAQEBAQEBAQEBAQEBAQEBAQEBAQEBAQEBAQEBAQEBAQEBAQEBAQEBAQEBAQEBAQEBAQEBAQEBAQEBAQEBAQEBAQEBAQEBAQEBAQEBAQEBAQEBAQEBAQEBAQEBAQEBAQEBAQEBAQEBAQEBAQEBAQEBAQEBAQEBAQEBAQEBAQEBAQEBAQEBAQEBAQEBAQEBAQEBAQEBAQEBAQECAgICAgICAgICAgICAgICAgICAgICAgICAgICAgICAgICAgICAgICAgICAgICAgICAgICAgICAgICAgICAgICAgICAgICAgICAgICAgICAgICAgICAgICAgICAgICAgICAgICAgICAgICAgICAgICAgICAgICAgICAgICAgICAgICAgICAgICAgICAgICAgICAgICAgICAgICAgICAgICAgICAgICAgICAgICAgICAgICAgICAgICAgICAgICAgICAgICAgICAgICAgICAgICAgICAgICAgICAgICAgICAgICAgICAgICAgICAgICAgICAgICAgICAgICAgICAgICAgICAgICAgICAgICAgICAgICAgICAgICAgICAgICAgICAgICAgICAgICAgICAgICAgICAgICAgMDAwMDAwMDAwMDAwMDAwMDAwMDAwMDAwMDAwMDAwMDAwMDAwMDAwMDAwMDAwMDAwMDAwMDAwMDAwMDAwMDAwMDAwMDAwMDAwMDAwMDAwMDAwMDAwMDAwMDAwMDAwMDAwMDAwMDAwMDAwMDAwMDAwMDAwMDAwMDAwMDAwMDAwMDAwMDAwMDAwMDAwMDAwMDAwMDAwMDAwMDAwMDAwMDAwMDAwMDAwMDAwMDAwMDAwMDAwMDAwMDAwMDAwMDAwMDAwMDAwMDAwMDAwMDAwMDAwMDAwMDAwMDAwMDAwMDAwMDAwMDAwMDAwMDAwMDAwMDAwMDAwMDAwMDAwMDAwMDAwMDAwMDAwMDAwMDAwMDAwMDAwMDAwMDAwMDAwMDAwMDAwMEBAQEBAQEBAQEBAQEBAQEBAQEBAQEBAQEBAQEBAQEBAQEBAQEBAQEBAQEBAQEBAQEBAQEBAQEBAQEBAQEBAQEBAQEBAQEBAQEBAQEBAQEBAQEBAQEBAQEBAQEBAQEBAQEBAQEBAQEBAQEBAQEBAQEBAQEBAQEBAQEBAQEBAQEBAQEBAQEBAQEBAQEBAQEBAQEBAQEBAQEBAQEBAQEBAQEBAQEBAQEBAQEBAQEBAQEBAQEBAQEBAQEBAQEBAQEBAQEBAQEBAQEBAQEBAQEBAQEBAQEBAQEBAQEBAQEBAQEBAQEBAQEBAQEBAQEBAQEBAQEBAQEBAQEBAQEBAQEBAQEBAQEBAQEBAQEBAQEBAQEBAQEBAQEBAQEBAQEBAQEBAQEBAQEBAQEBAQEBAQEBAQEBAQEBAQEBAQEBAQEBQUFBQUFBQUFBQUFBQUFBQUFBQUFBQUFBQUFBQUFBQUFBQUFBQUFBQUFBQUFBQUFBQUFBQUFBQUFBQUFBQUFBQUFBQUFBQUFBQUFBQUFBQUFBQUFBQUFBQUFBQUFBQUFBQUFBQUFBQUFBQUFBQUFBQUFBQUFBQUFBQUFBQUFBQUFBQUFBQUFBQUFBQUFBQUFBQUFBQUFBQUFBQUFBQUFBQUFBQUFBQUFBQUFBQUFBQUFBQUFBQUFBQUFBQUFBQUFBQUFBQUFBQUFBQUFBQUFBQUFBQUFBQUFBQUFBQUFBQUFBQUFBQUFBQUFBQUFBQUFBQUFBQUFBQUFBQUFBQUFBQUFBQUFBQUFBQUFBQUFBQUFBQUFBQUFBQUFBQUFBQUFBQUFBQUFBQUFBQUFBQUFBQUGBgYGBgYGBgYGBgYGBgYGBgYGBgYGBgYGBgYGBgYGBgYGBgYGBgYGBgYGBgYGBgYGBgYGBgYGBgYGBgYGBgYGBgYGBgYGBgYGBgYGBgYGBgYGBgYGBgYGBgYGBgYGBgYGBgYGBgYGBgYGBgYGBgYGBgYGBgYGBgYGBgYGBgYGBgYGBgYGBgYGBgYGBgYGBgYGBgYGBgYGBgYGBgYGBgYGBgYGBgYGBgYGBgYGBgYGBgYGBgYGBgYGBgYGBgYGBgYGBgYGBgYGBgYGBgYGBgYGBgYGBgYGBgYGBgYGBgYGBgYGBgYGBgYGBgYGBgYGBgYGBgYGBgYGBgYGBgYGBgYGBgYGBgYGBgYGBgYGBgYGBgYGBgYGBgYGBgYGBwcHBwcHBwcHBwcHBwcHBwcHBwcHBwcHBwcHBwcHBwcHBwcHBwcHBwcHBwcHBwcHBwcHBwcHBwcHBwcHBwcHBwcHBwcHBwcHBwcHBwcHBwcHBwcHBwcHBwcHBwcHBwcHBwcHBwcHBwcHBwcHBwcHBwcHBwcHBwcHBwcHBwcHBwcHBwcHBwcHBwcHBwcHBwcHBwcHBwcHBwcHBwcHBwcHBwcHBwcHBwcHBwcHBwcHBwcHBwcHBwcHBwcHBwcHBwcHBwcHBwcHBwcHBwcHBwcHBwcHBwcHBwcHBwcHBwcHBwcHBwcHBwcHBwcHBwcHBwcHBwcHBwcHBwcHBwcHBwcHBwcHBwcHBwcHBwcHBwcHBwcHBwcHBwcHBwcHBwcHBwcHBwcHBwcHBwcHBwcHCAgICAgICAgICAgICAgICAgICAgICAgICAgICAgICAgICAgICAgICAgICAgICAgICAgICAgICAgICAgICAgICAgICAgICAgICAgICAgICAgICAgICAgICAgICAgICAgICAgICAgICAgICAgICAgICAgICAgICAgICAgICAgICAgICAgICAgICAgICAgICAgICAgICAgICAgICAgICAgICAgICAgICAgICAgICAgICAgICAgICAgICAgICAgICAgICAgICAgICAgICAgICAgICAgICAgICAgICAgICAgICAgICAgICAgICAgICAgICAgICAgICAgICAgICAgICAgICAgICAgICAgICAgICAgICAgICAgICAgICAgICAgICAgICAgICAgICAgICAgICAgICAgICAgICAgICAkJCQkJCQkJCQkJCQkJCQkJCQkJCQkJCQkJCQkJCQkJCQkJCQkJCQkJCQkJCQkJCQkJCQkJCQkJCQkJCQkJCQkJCQkJCQkJCQkJCQkJCQkJCQkJCQkJCQkJCQkJCQkJCQkJCQkJCQkJCQkJCQkJCQkJCQkJCQkJCQkJCQkJCQkJCQkJCQkJCQkJCQkJCQkJCQkJCQkJCQkJCQkJCQkJCQkJCQkJCQkJCQkJCQkJCQkJCQkJCQkJCQkJCQkJCQkJCQkJCQkJCQkJCQkJCQkJCQkJCQkJCQkJCQkJCQkJCQkJCQkJCQkJCQkJCQkJCQkJCQkJCQkJCQkJCQkJCQkJCQkJCQkJCQkJCQkJCQkJCQkJCQkJCQkJCQkJ",
          "dtype": "i1"
         },
         "xaxis": "x",
         "y": [
          null,
          "Fish Carrier",
          "Bulk Carrier",
          "Tanker",
          "Container Ship",
          "Bulk Carrier",
          "Fish Carrier",
          "Bulk Carrier",
          "Container Ship",
          "Bulk Carrier",
          "Bulk Carrier",
          "Bulk Carrier",
          "Container Ship",
          "Container Ship",
          "Container Ship",
          "Tanker",
          "Container Ship",
          "Container Ship",
          "Tanker",
          "Container Ship",
          "Bulk Carrier",
          "Fish Carrier",
          "Tanker",
          "Bulk Carrier",
          "Tanker",
          "Tanker",
          "Tanker",
          "Tanker",
          "Fish Carrier",
          "Tanker",
          "Fish Carrier",
          "Fish Carrier",
          "Bulk Carrier",
          "Tanker",
          "Fish Carrier",
          "Tanker",
          "Container Ship",
          "Bulk Carrier",
          "Container Ship",
          "Fish Carrier",
          "Fish Carrier",
          "Tanker",
          "Tanker",
          "Bulk Carrier",
          "Bulk Carrier",
          "Bulk Carrier",
          null,
          "Container Ship",
          "Fish Carrier",
          null,
          "Container Ship",
          "Container Ship",
          "Tanker",
          "Tanker",
          "Bulk Carrier",
          "Fish Carrier",
          null,
          "Container Ship",
          "Tanker",
          "Tanker",
          "Container Ship",
          "Tanker",
          "Tanker",
          "Fish Carrier",
          "Container Ship",
          "Fish Carrier",
          "Tanker",
          "Bulk Carrier",
          "Container Ship",
          "Tanker",
          "Bulk Carrier",
          "Tanker",
          "Fish Carrier",
          "Bulk Carrier",
          "Fish Carrier",
          "Fish Carrier",
          "Tanker",
          "Fish Carrier",
          "Bulk Carrier",
          "Tanker",
          "Tanker",
          "Container Ship",
          "Tanker",
          "Fish Carrier",
          "Container Ship",
          "Container Ship",
          "Fish Carrier",
          "Fish Carrier",
          null,
          "Container Ship",
          "Container Ship",
          null,
          "Container Ship",
          "Bulk Carrier",
          "Bulk Carrier",
          "Tanker",
          "Bulk Carrier",
          "Tanker",
          "Container Ship",
          "Fish Carrier",
          "Bulk Carrier",
          "Fish Carrier",
          "Container Ship",
          "Tanker",
          "Bulk Carrier",
          null,
          "Container Ship",
          "Bulk Carrier",
          "Fish Carrier",
          "Bulk Carrier",
          "Bulk Carrier",
          "Tanker",
          "Container Ship",
          "Container Ship",
          "Container Ship",
          "Tanker",
          "Container Ship",
          "Tanker",
          "Tanker",
          "Container Ship",
          "Fish Carrier",
          "Bulk Carrier",
          "Bulk Carrier",
          "Fish Carrier",
          "Fish Carrier",
          "Fish Carrier",
          "Fish Carrier",
          "Container Ship",
          "Fish Carrier",
          null,
          "Bulk Carrier",
          "Bulk Carrier",
          "Bulk Carrier",
          "Fish Carrier",
          "Container Ship",
          "Bulk Carrier",
          "Container Ship",
          "Container Ship",
          "Container Ship",
          "Bulk Carrier",
          "Bulk Carrier",
          "Tanker",
          null,
          "Bulk Carrier",
          "Bulk Carrier",
          "Tanker",
          "Tanker",
          "Bulk Carrier",
          "Container Ship",
          "Container Ship",
          "Tanker",
          "Bulk Carrier",
          null,
          "Fish Carrier",
          "Container Ship",
          "Fish Carrier",
          "Container Ship",
          "Container Ship",
          "Fish Carrier",
          "Container Ship",
          "Bulk Carrier",
          null,
          "Bulk Carrier",
          "Container Ship",
          "Container Ship",
          "Bulk Carrier",
          "Container Ship",
          "Container Ship",
          "Bulk Carrier",
          "Fish Carrier",
          "Container Ship",
          "Bulk Carrier",
          "Tanker",
          "Bulk Carrier",
          "Container Ship",
          "Tanker",
          "Bulk Carrier",
          "Bulk Carrier",
          null,
          "Container Ship",
          null,
          "Bulk Carrier",
          "Bulk Carrier",
          "Container Ship",
          "Container Ship",
          "Fish Carrier",
          "Tanker",
          "Bulk Carrier",
          "Tanker",
          "Fish Carrier",
          "Tanker",
          "Container Ship",
          "Tanker",
          "Bulk Carrier",
          "Bulk Carrier",
          "Fish Carrier",
          "Container Ship",
          "Container Ship",
          "Tanker",
          "Container Ship",
          "Fish Carrier",
          "Container Ship",
          "Container Ship",
          null,
          "Fish Carrier",
          "Bulk Carrier",
          "Container Ship",
          "Tanker",
          "Fish Carrier",
          "Bulk Carrier",
          "Container Ship",
          "Bulk Carrier",
          "Tanker",
          "Tanker",
          "Container Ship",
          null,
          "Container Ship",
          "Fish Carrier",
          "Container Ship",
          "Fish Carrier",
          "Fish Carrier",
          "Fish Carrier",
          "Fish Carrier",
          "Fish Carrier",
          "Tanker",
          null,
          "Tanker",
          "Fish Carrier",
          "Fish Carrier",
          "Fish Carrier",
          null,
          "Container Ship",
          "Fish Carrier",
          "Fish Carrier",
          "Tanker",
          "Bulk Carrier",
          "Fish Carrier",
          "Container Ship",
          "Fish Carrier",
          null,
          "Bulk Carrier",
          "Bulk Carrier",
          "Container Ship",
          "Tanker",
          "Container Ship",
          null,
          null,
          "Fish Carrier",
          "Fish Carrier",
          "Bulk Carrier",
          "Tanker",
          "Bulk Carrier",
          "Container Ship",
          "Bulk Carrier",
          "Bulk Carrier",
          "Container Ship",
          "Fish Carrier",
          "Bulk Carrier",
          "Tanker",
          "Fish Carrier",
          "Tanker",
          "Container Ship",
          "Container Ship",
          "Tanker",
          "Fish Carrier",
          "Tanker",
          "Fish Carrier",
          "Bulk Carrier",
          "Fish Carrier",
          "Tanker",
          "Bulk Carrier",
          "Container Ship",
          "Bulk Carrier",
          "Tanker",
          "Container Ship",
          "Bulk Carrier",
          "Container Ship",
          "Container Ship",
          "Tanker",
          "Tanker",
          "Fish Carrier",
          "Container Ship",
          "Bulk Carrier",
          "Container Ship",
          "Bulk Carrier",
          null,
          "Bulk Carrier",
          "Container Ship",
          "Tanker",
          "Container Ship",
          "Fish Carrier",
          "Tanker",
          "Container Ship",
          "Container Ship",
          "Container Ship",
          "Bulk Carrier",
          "Container Ship",
          "Tanker",
          "Fish Carrier",
          "Fish Carrier",
          "Fish Carrier",
          "Container Ship",
          "Container Ship",
          "Fish Carrier",
          "Bulk Carrier",
          "Tanker",
          "Fish Carrier",
          "Fish Carrier",
          "Tanker",
          "Fish Carrier",
          "Bulk Carrier",
          "Fish Carrier",
          "Tanker",
          "Tanker",
          "Tanker",
          "Tanker",
          "Tanker",
          "Container Ship",
          "Container Ship",
          "Container Ship",
          "Bulk Carrier",
          "Tanker",
          "Fish Carrier",
          "Container Ship",
          "Fish Carrier",
          "Bulk Carrier",
          "Container Ship",
          "Bulk Carrier",
          "Container Ship",
          "Container Ship",
          "Fish Carrier",
          "Tanker",
          "Fish Carrier",
          "Container Ship",
          "Bulk Carrier",
          "Bulk Carrier",
          "Fish Carrier",
          "Tanker",
          "Fish Carrier",
          "Bulk Carrier",
          "Container Ship",
          "Bulk Carrier",
          "Container Ship",
          "Bulk Carrier",
          "Tanker",
          "Container Ship",
          "Bulk Carrier",
          "Fish Carrier",
          "Tanker",
          "Bulk Carrier",
          "Tanker",
          "Container Ship",
          "Bulk Carrier",
          "Bulk Carrier",
          "Tanker",
          "Bulk Carrier",
          "Container Ship",
          "Fish Carrier",
          "Bulk Carrier",
          "Bulk Carrier",
          "Tanker",
          "Container Ship",
          null,
          "Fish Carrier",
          "Bulk Carrier",
          "Tanker",
          "Tanker",
          "Bulk Carrier",
          "Bulk Carrier",
          "Fish Carrier",
          "Bulk Carrier",
          "Fish Carrier",
          "Bulk Carrier",
          "Bulk Carrier",
          "Tanker",
          "Bulk Carrier",
          "Tanker",
          "Bulk Carrier",
          "Bulk Carrier",
          "Container Ship",
          "Fish Carrier",
          "Container Ship",
          "Tanker",
          "Fish Carrier",
          "Container Ship",
          "Bulk Carrier",
          "Tanker",
          "Container Ship",
          "Container Ship",
          "Bulk Carrier",
          "Tanker",
          "Tanker",
          "Fish Carrier",
          "Tanker",
          "Fish Carrier",
          "Fish Carrier",
          "Bulk Carrier",
          "Bulk Carrier",
          "Fish Carrier",
          "Container Ship",
          "Fish Carrier",
          "Container Ship",
          "Container Ship",
          "Fish Carrier",
          "Container Ship",
          "Tanker",
          "Tanker",
          "Bulk Carrier",
          "Bulk Carrier",
          "Tanker",
          "Bulk Carrier",
          "Tanker",
          "Fish Carrier",
          "Tanker",
          "Fish Carrier",
          "Tanker",
          "Fish Carrier",
          "Container Ship",
          "Tanker",
          "Bulk Carrier",
          null,
          "Bulk Carrier",
          "Fish Carrier",
          "Bulk Carrier",
          "Bulk Carrier",
          "Container Ship",
          "Container Ship",
          "Bulk Carrier",
          "Fish Carrier",
          "Fish Carrier",
          "Bulk Carrier",
          "Bulk Carrier",
          "Container Ship",
          "Fish Carrier",
          "Bulk Carrier",
          null,
          "Fish Carrier",
          "Tanker",
          "Fish Carrier",
          "Fish Carrier",
          "Tanker",
          "Fish Carrier",
          "Tanker",
          "Tanker",
          "Fish Carrier",
          "Bulk Carrier",
          "Tanker",
          "Tanker",
          "Tanker",
          "Bulk Carrier",
          "Fish Carrier",
          "Tanker",
          "Fish Carrier",
          "Tanker",
          "Bulk Carrier",
          "Bulk Carrier",
          "Fish Carrier",
          "Bulk Carrier",
          "Tanker",
          "Fish Carrier",
          "Fish Carrier",
          "Bulk Carrier",
          "Tanker",
          "Fish Carrier",
          "Tanker",
          "Container Ship",
          "Bulk Carrier",
          "Fish Carrier",
          "Tanker",
          "Bulk Carrier",
          "Fish Carrier",
          "Fish Carrier",
          "Container Ship",
          "Fish Carrier",
          "Bulk Carrier",
          "Bulk Carrier",
          "Tanker",
          "Fish Carrier",
          "Container Ship",
          "Fish Carrier",
          "Bulk Carrier",
          "Container Ship",
          "Container Ship",
          "Container Ship",
          "Tanker",
          "Bulk Carrier",
          "Bulk Carrier",
          "Bulk Carrier",
          "Tanker",
          "Tanker",
          "Tanker",
          "Tanker",
          "Fish Carrier",
          "Container Ship",
          "Fish Carrier",
          "Container Ship",
          "Fish Carrier",
          "Container Ship",
          "Bulk Carrier",
          "Container Ship",
          "Tanker",
          "Container Ship",
          "Container Ship",
          "Tanker",
          "Tanker",
          "Bulk Carrier",
          "Fish Carrier",
          "Fish Carrier",
          "Fish Carrier",
          "Bulk Carrier",
          "Tanker",
          "Tanker",
          "Container Ship",
          "Fish Carrier",
          "Tanker",
          "Tanker",
          "Tanker",
          "Fish Carrier",
          "Tanker",
          "Container Ship",
          "Container Ship",
          "Fish Carrier",
          "Bulk Carrier",
          "Fish Carrier",
          "Fish Carrier",
          "Tanker",
          "Container Ship",
          "Container Ship",
          "Tanker",
          "Tanker",
          "Bulk Carrier",
          "Fish Carrier",
          "Container Ship",
          "Fish Carrier",
          null,
          "Fish Carrier",
          "Bulk Carrier",
          "Tanker",
          "Tanker",
          "Fish Carrier",
          "Bulk Carrier",
          "Tanker",
          "Bulk Carrier",
          "Bulk Carrier",
          "Fish Carrier",
          "Fish Carrier",
          "Container Ship",
          "Bulk Carrier",
          "Fish Carrier",
          "Container Ship",
          null,
          "Bulk Carrier",
          "Tanker",
          "Bulk Carrier",
          "Tanker",
          "Container Ship",
          "Container Ship",
          "Container Ship",
          "Container Ship",
          null,
          "Tanker",
          "Tanker",
          "Container Ship",
          "Tanker",
          "Fish Carrier",
          "Bulk Carrier",
          "Tanker",
          null,
          "Fish Carrier",
          "Container Ship",
          "Container Ship",
          "Container Ship",
          "Bulk Carrier",
          "Bulk Carrier",
          "Tanker",
          "Container Ship",
          "Fish Carrier",
          "Tanker",
          "Tanker",
          "Tanker",
          "Fish Carrier",
          null,
          "Bulk Carrier",
          "Container Ship",
          "Bulk Carrier",
          "Tanker",
          "Fish Carrier",
          "Tanker",
          "Bulk Carrier",
          "Bulk Carrier",
          "Tanker",
          "Container Ship",
          "Container Ship",
          "Container Ship",
          "Tanker",
          "Fish Carrier",
          "Container Ship",
          "Bulk Carrier",
          "Container Ship",
          "Tanker",
          "Bulk Carrier",
          "Container Ship",
          "Container Ship",
          "Fish Carrier",
          "Fish Carrier",
          "Tanker",
          "Bulk Carrier",
          "Tanker",
          "Bulk Carrier",
          "Fish Carrier",
          "Bulk Carrier",
          "Tanker",
          "Tanker",
          "Bulk Carrier",
          "Fish Carrier",
          "Container Ship",
          "Bulk Carrier",
          "Bulk Carrier",
          "Tanker",
          "Container Ship",
          "Bulk Carrier",
          "Fish Carrier",
          "Container Ship",
          "Bulk Carrier",
          "Fish Carrier",
          "Container Ship",
          "Fish Carrier",
          "Fish Carrier",
          "Tanker",
          "Bulk Carrier",
          "Fish Carrier",
          "Container Ship",
          "Bulk Carrier",
          "Bulk Carrier",
          "Bulk Carrier",
          "Container Ship",
          "Fish Carrier",
          "Container Ship",
          "Tanker",
          "Container Ship",
          "Bulk Carrier",
          "Container Ship",
          "Container Ship",
          "Container Ship",
          "Container Ship",
          "Tanker",
          "Bulk Carrier",
          "Tanker",
          null,
          "Container Ship",
          "Fish Carrier",
          "Fish Carrier",
          "Tanker",
          "Tanker",
          "Container Ship",
          "Container Ship",
          null,
          "Container Ship",
          "Container Ship",
          "Tanker",
          "Container Ship",
          "Fish Carrier",
          "Tanker",
          "Tanker",
          "Bulk Carrier",
          "Tanker",
          "Bulk Carrier",
          "Tanker",
          "Container Ship",
          "Bulk Carrier",
          "Bulk Carrier",
          "Tanker",
          "Fish Carrier",
          "Bulk Carrier",
          "Fish Carrier",
          "Container Ship",
          "Tanker",
          "Bulk Carrier",
          "Fish Carrier",
          "Container Ship",
          "Tanker",
          "Container Ship",
          "Fish Carrier",
          "Bulk Carrier",
          "Fish Carrier",
          "Tanker",
          "Fish Carrier",
          "Fish Carrier",
          "Bulk Carrier",
          "Fish Carrier",
          "Tanker",
          "Container Ship",
          "Bulk Carrier",
          "Container Ship",
          "Bulk Carrier",
          "Fish Carrier",
          "Fish Carrier",
          "Bulk Carrier",
          "Tanker",
          "Bulk Carrier",
          "Container Ship",
          "Container Ship",
          "Container Ship",
          "Container Ship",
          "Bulk Carrier",
          "Fish Carrier",
          "Fish Carrier",
          "Tanker",
          null,
          "Container Ship",
          "Container Ship",
          "Fish Carrier",
          "Container Ship",
          "Container Ship",
          "Fish Carrier",
          "Fish Carrier",
          "Tanker",
          "Container Ship",
          "Fish Carrier",
          "Tanker",
          "Bulk Carrier",
          "Tanker",
          "Fish Carrier",
          "Container Ship",
          null,
          "Fish Carrier",
          "Tanker",
          "Container Ship",
          "Tanker",
          "Tanker",
          "Bulk Carrier",
          "Tanker",
          "Container Ship",
          "Bulk Carrier",
          "Tanker",
          "Tanker",
          "Tanker",
          "Fish Carrier",
          "Bulk Carrier",
          "Tanker",
          "Container Ship",
          "Container Ship",
          "Container Ship",
          "Bulk Carrier",
          "Container Ship",
          "Fish Carrier",
          "Tanker",
          "Tanker",
          "Fish Carrier",
          "Bulk Carrier",
          null,
          "Bulk Carrier",
          "Tanker",
          "Bulk Carrier",
          "Tanker",
          "Tanker",
          "Container Ship",
          "Fish Carrier",
          "Fish Carrier",
          "Fish Carrier",
          "Bulk Carrier",
          "Tanker",
          "Bulk Carrier",
          "Tanker",
          "Fish Carrier",
          "Bulk Carrier",
          "Fish Carrier",
          "Container Ship",
          "Bulk Carrier",
          "Tanker",
          "Tanker",
          null,
          "Fish Carrier",
          "Fish Carrier",
          "Bulk Carrier",
          "Bulk Carrier",
          "Tanker",
          "Bulk Carrier",
          "Tanker",
          "Container Ship",
          "Tanker",
          "Tanker",
          null,
          "Tanker",
          "Container Ship",
          "Container Ship",
          "Bulk Carrier",
          "Container Ship",
          "Bulk Carrier",
          "Tanker",
          "Container Ship",
          "Fish Carrier",
          "Tanker",
          "Fish Carrier",
          "Bulk Carrier",
          "Tanker",
          "Fish Carrier",
          "Fish Carrier",
          "Container Ship",
          "Tanker",
          null,
          "Tanker",
          "Tanker",
          "Bulk Carrier",
          "Bulk Carrier",
          "Container Ship",
          "Bulk Carrier",
          "Tanker",
          "Fish Carrier",
          "Container Ship",
          "Bulk Carrier",
          "Tanker",
          "Bulk Carrier",
          "Bulk Carrier",
          "Bulk Carrier",
          "Fish Carrier",
          "Bulk Carrier",
          "Tanker",
          "Tanker",
          "Bulk Carrier",
          null,
          "Bulk Carrier",
          "Tanker",
          "Tanker",
          "Container Ship",
          "Fish Carrier",
          "Fish Carrier",
          "Bulk Carrier",
          "Tanker",
          "Fish Carrier",
          "Fish Carrier",
          "Fish Carrier",
          "Fish Carrier",
          "Container Ship",
          "Bulk Carrier",
          "Container Ship",
          "Tanker",
          "Bulk Carrier",
          "Bulk Carrier",
          "Container Ship",
          "Bulk Carrier",
          "Tanker",
          "Container Ship",
          "Container Ship",
          "Tanker",
          "Bulk Carrier",
          "Bulk Carrier",
          "Fish Carrier",
          "Bulk Carrier",
          null,
          "Container Ship",
          "Tanker",
          "Bulk Carrier",
          "Container Ship",
          "Fish Carrier",
          "Fish Carrier",
          "Fish Carrier",
          "Bulk Carrier",
          "Fish Carrier",
          "Tanker",
          "Tanker",
          "Bulk Carrier",
          "Fish Carrier",
          "Fish Carrier",
          "Tanker",
          "Container Ship",
          "Bulk Carrier",
          "Container Ship",
          "Bulk Carrier",
          "Bulk Carrier",
          "Tanker",
          "Fish Carrier",
          "Bulk Carrier",
          "Container Ship",
          "Container Ship",
          "Tanker",
          null,
          "Container Ship",
          "Tanker",
          "Container Ship",
          "Tanker",
          "Fish Carrier",
          "Fish Carrier",
          "Bulk Carrier",
          "Bulk Carrier",
          "Bulk Carrier",
          "Bulk Carrier",
          "Fish Carrier",
          "Container Ship",
          "Fish Carrier",
          "Fish Carrier",
          "Tanker",
          "Tanker",
          "Tanker",
          "Fish Carrier",
          "Bulk Carrier",
          "Tanker",
          "Bulk Carrier",
          "Tanker",
          "Fish Carrier",
          "Bulk Carrier",
          "Bulk Carrier",
          "Tanker",
          "Fish Carrier",
          "Container Ship",
          "Fish Carrier",
          "Tanker",
          "Tanker",
          "Fish Carrier",
          "Container Ship",
          "Fish Carrier",
          "Container Ship",
          "Tanker",
          "Bulk Carrier",
          "Bulk Carrier",
          "Bulk Carrier",
          "Tanker",
          "Fish Carrier",
          "Tanker",
          "Fish Carrier",
          null,
          "Container Ship",
          "Container Ship",
          "Fish Carrier",
          "Tanker",
          "Tanker",
          "Tanker",
          "Fish Carrier",
          "Fish Carrier",
          "Bulk Carrier",
          "Tanker",
          "Fish Carrier",
          "Bulk Carrier",
          "Bulk Carrier",
          "Fish Carrier",
          "Bulk Carrier",
          "Bulk Carrier",
          "Tanker",
          "Container Ship",
          "Container Ship",
          "Fish Carrier",
          "Bulk Carrier",
          "Tanker",
          "Container Ship",
          "Fish Carrier",
          "Tanker",
          "Container Ship",
          "Fish Carrier",
          "Bulk Carrier",
          "Fish Carrier",
          "Container Ship",
          "Tanker",
          "Tanker",
          "Bulk Carrier",
          "Fish Carrier",
          "Container Ship",
          "Tanker",
          "Fish Carrier",
          "Container Ship",
          "Tanker",
          "Fish Carrier",
          "Fish Carrier",
          null,
          "Tanker",
          "Tanker",
          "Tanker",
          "Bulk Carrier",
          "Tanker",
          "Bulk Carrier",
          "Container Ship",
          "Fish Carrier",
          "Bulk Carrier",
          "Bulk Carrier",
          "Tanker",
          "Bulk Carrier",
          "Fish Carrier",
          "Fish Carrier",
          "Container Ship",
          "Tanker",
          "Tanker",
          "Fish Carrier",
          "Container Ship",
          "Container Ship",
          "Container Ship",
          "Tanker",
          "Container Ship",
          "Fish Carrier",
          "Bulk Carrier",
          "Bulk Carrier",
          "Tanker",
          "Container Ship",
          "Tanker",
          "Tanker",
          "Container Ship",
          "Bulk Carrier",
          "Container Ship",
          "Container Ship",
          "Tanker",
          "Bulk Carrier",
          "Tanker",
          "Fish Carrier",
          "Tanker",
          "Fish Carrier",
          "Fish Carrier",
          "Tanker",
          "Container Ship",
          "Container Ship",
          "Bulk Carrier",
          "Bulk Carrier",
          "Bulk Carrier",
          "Container Ship",
          "Container Ship",
          "Container Ship",
          "Container Ship",
          "Fish Carrier",
          "Bulk Carrier",
          "Fish Carrier",
          "Tanker",
          "Tanker",
          "Fish Carrier",
          "Tanker",
          "Container Ship",
          "Bulk Carrier",
          "Container Ship",
          "Fish Carrier",
          "Container Ship",
          "Container Ship",
          "Tanker",
          "Bulk Carrier",
          null,
          "Fish Carrier",
          "Bulk Carrier",
          "Fish Carrier",
          "Fish Carrier",
          "Bulk Carrier",
          "Bulk Carrier",
          "Tanker",
          "Fish Carrier",
          "Tanker",
          "Bulk Carrier",
          "Container Ship",
          null,
          null,
          "Fish Carrier",
          "Container Ship",
          "Container Ship",
          "Tanker",
          "Tanker",
          "Tanker",
          "Fish Carrier",
          "Container Ship",
          "Bulk Carrier",
          "Bulk Carrier",
          "Fish Carrier",
          "Bulk Carrier",
          "Container Ship",
          "Container Ship",
          "Tanker",
          "Fish Carrier",
          null,
          "Bulk Carrier",
          "Container Ship",
          "Bulk Carrier",
          "Fish Carrier",
          null,
          "Bulk Carrier",
          "Fish Carrier",
          "Container Ship",
          "Fish Carrier",
          "Tanker",
          "Fish Carrier",
          "Fish Carrier",
          "Container Ship",
          "Fish Carrier",
          "Bulk Carrier",
          "Container Ship",
          "Bulk Carrier",
          "Tanker",
          "Container Ship",
          "Tanker",
          "Tanker",
          "Fish Carrier",
          "Fish Carrier",
          "Tanker",
          "Container Ship",
          "Bulk Carrier",
          "Container Ship",
          "Bulk Carrier",
          "Container Ship",
          "Fish Carrier",
          null,
          "Container Ship",
          "Fish Carrier",
          "Fish Carrier",
          "Container Ship",
          "Container Ship",
          null,
          "Fish Carrier",
          "Fish Carrier",
          "Container Ship",
          "Bulk Carrier",
          "Container Ship",
          "Bulk Carrier",
          "Container Ship",
          "Tanker",
          "Container Ship",
          "Container Ship",
          "Tanker",
          "Fish Carrier",
          "Tanker",
          "Bulk Carrier",
          "Fish Carrier",
          "Container Ship",
          "Fish Carrier",
          "Bulk Carrier",
          "Fish Carrier",
          "Fish Carrier",
          "Tanker",
          "Bulk Carrier",
          "Tanker",
          "Container Ship",
          "Bulk Carrier",
          "Tanker",
          "Fish Carrier",
          "Fish Carrier",
          "Bulk Carrier",
          "Tanker",
          "Tanker",
          "Tanker",
          "Fish Carrier",
          "Bulk Carrier",
          "Bulk Carrier",
          "Tanker",
          "Container Ship",
          "Fish Carrier",
          "Container Ship",
          "Container Ship",
          "Bulk Carrier",
          "Tanker",
          "Tanker",
          "Tanker",
          "Fish Carrier",
          "Bulk Carrier",
          "Container Ship",
          "Tanker",
          "Tanker",
          "Container Ship",
          "Fish Carrier",
          null,
          "Container Ship",
          "Fish Carrier",
          "Bulk Carrier",
          "Fish Carrier",
          "Container Ship",
          "Bulk Carrier",
          "Container Ship",
          "Fish Carrier",
          "Fish Carrier",
          "Tanker",
          "Container Ship",
          "Fish Carrier",
          "Bulk Carrier",
          "Tanker",
          "Tanker",
          "Tanker",
          null,
          "Bulk Carrier",
          "Container Ship",
          "Tanker",
          "Tanker",
          "Tanker",
          "Bulk Carrier",
          "Tanker",
          "Container Ship",
          "Bulk Carrier",
          "Fish Carrier",
          "Fish Carrier",
          "Container Ship",
          "Bulk Carrier",
          "Container Ship",
          "Bulk Carrier",
          "Tanker",
          null,
          "Fish Carrier",
          null,
          "Bulk Carrier",
          "Bulk Carrier",
          "Tanker",
          "Bulk Carrier",
          "Bulk Carrier",
          "Tanker",
          "Bulk Carrier",
          "Tanker",
          "Tanker",
          "Fish Carrier",
          "Tanker",
          "Container Ship",
          "Fish Carrier",
          "Tanker",
          "Container Ship",
          "Tanker",
          "Fish Carrier",
          "Fish Carrier",
          "Container Ship",
          "Container Ship",
          "Tanker",
          "Tanker",
          "Fish Carrier",
          "Bulk Carrier",
          "Container Ship",
          "Container Ship",
          "Bulk Carrier",
          "Container Ship",
          "Tanker",
          "Bulk Carrier",
          "Tanker",
          null,
          "Container Ship",
          "Fish Carrier",
          "Fish Carrier",
          "Fish Carrier",
          "Container Ship",
          "Fish Carrier",
          "Tanker",
          "Tanker",
          "Container Ship",
          "Tanker",
          "Tanker",
          "Fish Carrier",
          "Bulk Carrier",
          "Container Ship",
          "Container Ship",
          "Container Ship",
          "Bulk Carrier",
          "Tanker",
          "Tanker",
          "Fish Carrier",
          "Container Ship",
          "Bulk Carrier",
          "Tanker",
          "Container Ship",
          "Container Ship",
          "Fish Carrier",
          "Tanker",
          "Bulk Carrier",
          "Container Ship",
          "Fish Carrier",
          null,
          "Fish Carrier",
          "Fish Carrier",
          "Tanker",
          "Tanker",
          "Fish Carrier",
          "Container Ship",
          "Fish Carrier",
          "Fish Carrier",
          "Fish Carrier",
          "Tanker",
          null,
          "Container Ship",
          "Fish Carrier",
          "Bulk Carrier",
          "Container Ship",
          "Bulk Carrier",
          "Bulk Carrier",
          "Bulk Carrier",
          "Container Ship",
          "Tanker",
          "Container Ship",
          "Tanker",
          "Bulk Carrier",
          "Fish Carrier",
          "Bulk Carrier",
          "Fish Carrier",
          "Bulk Carrier",
          "Container Ship",
          "Bulk Carrier",
          "Container Ship",
          "Fish Carrier",
          "Tanker",
          "Bulk Carrier",
          "Tanker",
          "Tanker",
          "Tanker",
          "Fish Carrier",
          "Tanker",
          "Fish Carrier",
          "Container Ship",
          "Fish Carrier",
          "Container Ship",
          "Container Ship",
          "Fish Carrier",
          "Container Ship",
          "Container Ship",
          "Tanker",
          "Fish Carrier",
          "Fish Carrier",
          "Bulk Carrier",
          "Bulk Carrier",
          "Container Ship",
          null,
          null,
          "Tanker",
          "Tanker",
          "Tanker",
          "Bulk Carrier",
          "Tanker",
          "Container Ship",
          "Fish Carrier",
          "Container Ship",
          "Container Ship",
          "Bulk Carrier",
          "Tanker",
          "Bulk Carrier",
          null,
          null,
          "Container Ship",
          "Fish Carrier",
          null,
          "Bulk Carrier",
          "Fish Carrier",
          "Bulk Carrier",
          "Bulk Carrier",
          "Fish Carrier",
          "Fish Carrier",
          "Fish Carrier",
          "Fish Carrier",
          "Container Ship",
          "Container Ship",
          "Fish Carrier",
          "Tanker",
          "Tanker",
          "Container Ship",
          "Bulk Carrier",
          "Tanker",
          "Fish Carrier",
          "Fish Carrier",
          "Container Ship",
          "Fish Carrier",
          "Bulk Carrier",
          "Bulk Carrier",
          "Bulk Carrier",
          "Bulk Carrier",
          "Tanker",
          "Tanker",
          "Container Ship",
          "Tanker",
          "Container Ship",
          "Tanker",
          "Bulk Carrier",
          "Tanker",
          "Tanker",
          "Container Ship",
          "Container Ship",
          "Fish Carrier",
          null,
          "Container Ship",
          "Fish Carrier",
          "Fish Carrier",
          "Fish Carrier",
          "Tanker",
          "Container Ship",
          "Bulk Carrier",
          "Container Ship",
          "Tanker",
          "Bulk Carrier",
          "Fish Carrier",
          "Fish Carrier",
          "Tanker",
          "Fish Carrier",
          "Container Ship",
          null,
          "Bulk Carrier",
          "Bulk Carrier",
          "Tanker",
          "Bulk Carrier",
          "Container Ship",
          "Fish Carrier",
          "Tanker",
          "Bulk Carrier",
          "Bulk Carrier",
          "Fish Carrier",
          "Container Ship",
          "Fish Carrier",
          "Container Ship",
          "Fish Carrier",
          "Fish Carrier",
          null,
          "Container Ship",
          "Fish Carrier",
          "Bulk Carrier",
          "Fish Carrier",
          "Container Ship",
          "Tanker",
          "Tanker",
          "Container Ship",
          "Fish Carrier",
          null,
          "Fish Carrier",
          "Container Ship",
          "Tanker",
          "Fish Carrier",
          "Fish Carrier",
          "Bulk Carrier",
          "Fish Carrier",
          "Container Ship",
          "Tanker",
          "Tanker",
          "Bulk Carrier",
          "Tanker",
          "Bulk Carrier",
          "Bulk Carrier",
          "Container Ship",
          "Container Ship",
          "Tanker",
          "Fish Carrier",
          "Container Ship",
          "Bulk Carrier",
          "Container Ship",
          "Container Ship",
          "Tanker",
          "Tanker",
          "Container Ship",
          "Container Ship",
          "Bulk Carrier",
          "Bulk Carrier",
          "Tanker",
          "Tanker",
          "Bulk Carrier",
          "Bulk Carrier",
          null,
          "Tanker",
          "Bulk Carrier",
          "Bulk Carrier",
          "Bulk Carrier",
          "Bulk Carrier",
          "Tanker",
          null,
          "Bulk Carrier",
          "Fish Carrier",
          "Tanker",
          "Bulk Carrier",
          "Container Ship",
          "Bulk Carrier",
          "Bulk Carrier",
          "Container Ship",
          "Tanker",
          null,
          "Bulk Carrier",
          "Container Ship",
          "Tanker",
          "Container Ship",
          "Bulk Carrier",
          "Bulk Carrier",
          "Fish Carrier",
          "Container Ship",
          "Fish Carrier",
          "Container Ship",
          "Container Ship",
          "Container Ship",
          "Fish Carrier",
          "Bulk Carrier",
          "Tanker",
          "Tanker",
          null,
          "Container Ship",
          "Bulk Carrier",
          "Tanker",
          "Bulk Carrier",
          "Bulk Carrier",
          "Fish Carrier",
          "Bulk Carrier",
          "Container Ship",
          "Fish Carrier",
          "Container Ship",
          "Bulk Carrier",
          null,
          "Bulk Carrier",
          "Container Ship",
          null,
          "Tanker",
          "Bulk Carrier",
          "Container Ship",
          "Fish Carrier",
          "Container Ship",
          "Bulk Carrier",
          "Container Ship",
          "Bulk Carrier",
          "Container Ship",
          "Fish Carrier",
          null,
          "Fish Carrier",
          "Bulk Carrier",
          "Tanker",
          "Bulk Carrier",
          "Bulk Carrier",
          "Bulk Carrier",
          "Fish Carrier",
          "Bulk Carrier",
          "Bulk Carrier",
          "Tanker",
          "Container Ship",
          "Tanker",
          "Bulk Carrier",
          "Bulk Carrier",
          "Container Ship",
          "Tanker",
          null,
          "Tanker",
          "Container Ship",
          "Bulk Carrier",
          "Tanker",
          "Fish Carrier",
          "Bulk Carrier",
          "Tanker",
          "Container Ship",
          "Bulk Carrier",
          "Tanker",
          "Fish Carrier",
          "Container Ship",
          "Bulk Carrier",
          "Tanker",
          "Container Ship",
          "Tanker",
          "Bulk Carrier",
          "Bulk Carrier",
          "Bulk Carrier",
          "Bulk Carrier",
          "Tanker",
          "Bulk Carrier",
          "Fish Carrier",
          "Fish Carrier",
          "Bulk Carrier",
          "Fish Carrier",
          "Container Ship",
          "Container Ship",
          "Fish Carrier",
          "Fish Carrier",
          "Container Ship",
          "Bulk Carrier",
          "Fish Carrier",
          null,
          null,
          "Bulk Carrier",
          "Container Ship",
          "Fish Carrier",
          "Bulk Carrier",
          "Tanker",
          "Fish Carrier",
          "Container Ship",
          "Fish Carrier",
          "Bulk Carrier",
          "Container Ship",
          "Tanker",
          "Fish Carrier",
          "Bulk Carrier",
          "Container Ship",
          "Container Ship",
          "Fish Carrier",
          "Fish Carrier",
          "Container Ship",
          "Fish Carrier",
          "Container Ship",
          "Bulk Carrier",
          "Fish Carrier",
          "Fish Carrier",
          "Fish Carrier",
          "Tanker",
          "Container Ship",
          "Bulk Carrier",
          "Container Ship",
          "Tanker",
          "Tanker",
          "Bulk Carrier",
          "Bulk Carrier",
          "Tanker",
          "Container Ship",
          "Container Ship",
          "Container Ship",
          "Bulk Carrier",
          "Container Ship",
          "Fish Carrier",
          "Tanker",
          "Fish Carrier",
          "Tanker",
          "Fish Carrier",
          "Container Ship",
          "Fish Carrier",
          "Container Ship",
          "Fish Carrier",
          "Fish Carrier",
          null,
          null,
          "Bulk Carrier",
          "Fish Carrier",
          "Fish Carrier",
          "Bulk Carrier",
          "Container Ship",
          "Tanker",
          "Container Ship",
          "Tanker",
          "Container Ship",
          "Tanker",
          "Container Ship",
          "Tanker",
          "Tanker",
          "Fish Carrier",
          "Fish Carrier",
          "Container Ship",
          "Fish Carrier",
          "Container Ship",
          null,
          "Bulk Carrier",
          "Fish Carrier",
          "Tanker",
          "Fish Carrier",
          "Container Ship",
          null,
          null,
          "Bulk Carrier",
          "Container Ship",
          "Bulk Carrier",
          "Bulk Carrier",
          "Fish Carrier",
          "Tanker",
          "Fish Carrier",
          "Bulk Carrier",
          null,
          "Bulk Carrier",
          "Container Ship",
          "Bulk Carrier",
          "Fish Carrier",
          "Tanker",
          "Fish Carrier",
          "Fish Carrier",
          "Container Ship",
          "Container Ship",
          "Container Ship",
          "Container Ship",
          "Bulk Carrier",
          "Bulk Carrier",
          "Tanker",
          "Tanker",
          "Container Ship",
          "Container Ship",
          "Fish Carrier",
          null,
          "Tanker",
          "Container Ship",
          "Bulk Carrier",
          "Tanker",
          "Bulk Carrier",
          "Fish Carrier",
          "Tanker",
          "Tanker",
          "Fish Carrier",
          "Bulk Carrier",
          "Tanker",
          "Bulk Carrier",
          "Tanker",
          "Bulk Carrier",
          "Tanker",
          "Bulk Carrier",
          "Tanker",
          "Container Ship",
          "Container Ship",
          "Bulk Carrier",
          "Tanker",
          "Bulk Carrier",
          null,
          "Tanker",
          "Tanker",
          "Fish Carrier",
          "Fish Carrier",
          null,
          "Bulk Carrier",
          "Tanker",
          "Fish Carrier",
          "Fish Carrier",
          "Fish Carrier",
          "Bulk Carrier",
          "Bulk Carrier",
          "Fish Carrier",
          "Tanker",
          "Fish Carrier",
          "Fish Carrier",
          "Bulk Carrier",
          "Bulk Carrier",
          "Tanker",
          "Bulk Carrier",
          "Tanker",
          "Fish Carrier",
          "Tanker",
          "Container Ship",
          "Container Ship",
          "Tanker",
          "Tanker",
          "Tanker",
          "Bulk Carrier",
          "Container Ship",
          "Tanker",
          "Tanker",
          "Bulk Carrier",
          null,
          "Tanker",
          "Bulk Carrier",
          null,
          "Fish Carrier",
          "Tanker",
          "Container Ship",
          "Tanker",
          "Fish Carrier",
          "Container Ship",
          "Fish Carrier",
          "Fish Carrier",
          "Bulk Carrier",
          "Tanker",
          "Container Ship",
          null,
          "Fish Carrier",
          "Fish Carrier",
          null,
          null,
          "Container Ship",
          "Tanker",
          "Container Ship",
          "Bulk Carrier",
          "Tanker",
          "Tanker",
          "Tanker",
          "Bulk Carrier",
          "Container Ship",
          "Fish Carrier",
          "Bulk Carrier",
          "Fish Carrier",
          "Container Ship",
          "Tanker",
          "Fish Carrier",
          "Tanker",
          "Container Ship",
          "Bulk Carrier",
          "Fish Carrier",
          "Fish Carrier",
          "Container Ship",
          "Bulk Carrier",
          "Container Ship",
          "Container Ship",
          "Bulk Carrier",
          "Fish Carrier",
          "Bulk Carrier",
          "Tanker",
          "Tanker",
          "Fish Carrier",
          "Fish Carrier",
          "Bulk Carrier",
          "Container Ship",
          "Tanker",
          "Container Ship",
          "Fish Carrier",
          "Bulk Carrier",
          "Fish Carrier",
          "Bulk Carrier",
          "Bulk Carrier",
          "Bulk Carrier",
          "Tanker",
          "Fish Carrier",
          "Container Ship",
          "Bulk Carrier",
          "Fish Carrier",
          "Container Ship",
          "Tanker",
          "Fish Carrier",
          "Bulk Carrier",
          "Fish Carrier",
          "Container Ship",
          "Bulk Carrier",
          "Bulk Carrier",
          null,
          "Fish Carrier",
          "Container Ship",
          "Container Ship",
          "Bulk Carrier",
          "Bulk Carrier",
          "Bulk Carrier",
          "Fish Carrier",
          "Fish Carrier",
          "Tanker",
          "Bulk Carrier",
          "Bulk Carrier",
          "Container Ship",
          "Tanker",
          "Bulk Carrier",
          "Fish Carrier",
          "Tanker",
          "Container Ship",
          "Container Ship",
          "Container Ship",
          "Container Ship",
          "Fish Carrier",
          "Container Ship",
          "Bulk Carrier",
          "Fish Carrier",
          "Bulk Carrier",
          "Container Ship",
          "Tanker",
          "Tanker",
          "Container Ship",
          "Tanker",
          null,
          "Tanker",
          "Container Ship",
          "Tanker",
          "Fish Carrier",
          "Fish Carrier",
          null,
          "Fish Carrier",
          "Tanker",
          "Tanker",
          "Fish Carrier",
          "Tanker",
          "Bulk Carrier",
          "Bulk Carrier",
          "Tanker",
          "Container Ship",
          "Tanker",
          "Container Ship",
          "Container Ship",
          "Fish Carrier",
          "Container Ship",
          "Fish Carrier",
          "Fish Carrier",
          "Fish Carrier",
          "Tanker",
          "Bulk Carrier",
          "Fish Carrier",
          "Container Ship",
          "Bulk Carrier",
          "Bulk Carrier",
          "Tanker",
          "Fish Carrier",
          "Container Ship",
          "Bulk Carrier",
          "Bulk Carrier",
          "Container Ship",
          "Bulk Carrier",
          "Container Ship",
          "Tanker",
          "Fish Carrier",
          "Bulk Carrier",
          "Tanker",
          "Tanker",
          "Bulk Carrier",
          "Tanker",
          null,
          "Fish Carrier",
          "Fish Carrier",
          "Tanker",
          "Bulk Carrier",
          "Fish Carrier",
          "Tanker",
          null,
          "Container Ship",
          "Tanker",
          "Bulk Carrier",
          "Fish Carrier",
          "Bulk Carrier",
          "Tanker",
          "Tanker",
          "Container Ship",
          "Fish Carrier",
          "Bulk Carrier",
          "Fish Carrier",
          "Bulk Carrier",
          "Bulk Carrier",
          "Tanker",
          "Container Ship",
          "Fish Carrier",
          "Fish Carrier",
          "Bulk Carrier",
          "Fish Carrier",
          "Tanker",
          "Fish Carrier",
          "Bulk Carrier",
          "Container Ship",
          "Fish Carrier",
          "Fish Carrier",
          "Fish Carrier",
          "Fish Carrier",
          "Tanker",
          "Fish Carrier",
          "Container Ship",
          "Fish Carrier",
          "Bulk Carrier",
          "Tanker",
          "Bulk Carrier",
          "Fish Carrier",
          "Tanker",
          "Container Ship",
          "Container Ship",
          "Container Ship",
          "Container Ship",
          "Tanker",
          "Tanker",
          "Fish Carrier",
          "Fish Carrier",
          "Container Ship",
          "Bulk Carrier",
          "Tanker",
          "Fish Carrier",
          "Container Ship",
          null,
          "Container Ship",
          "Bulk Carrier",
          "Bulk Carrier",
          "Fish Carrier",
          "Container Ship",
          "Bulk Carrier",
          "Tanker",
          "Fish Carrier",
          "Fish Carrier",
          "Tanker",
          "Tanker",
          "Container Ship",
          "Fish Carrier",
          "Bulk Carrier",
          "Bulk Carrier",
          "Bulk Carrier",
          "Fish Carrier",
          "Fish Carrier",
          "Fish Carrier",
          "Fish Carrier",
          "Container Ship",
          "Container Ship",
          "Tanker",
          null,
          "Bulk Carrier",
          "Fish Carrier",
          "Container Ship",
          "Tanker",
          "Container Ship",
          "Bulk Carrier",
          "Tanker",
          null,
          "Fish Carrier",
          "Fish Carrier",
          "Tanker",
          "Bulk Carrier",
          "Bulk Carrier",
          "Fish Carrier",
          "Bulk Carrier",
          "Fish Carrier",
          "Container Ship",
          "Bulk Carrier",
          "Fish Carrier",
          "Fish Carrier",
          "Fish Carrier",
          "Container Ship",
          "Bulk Carrier",
          "Tanker",
          "Fish Carrier",
          "Bulk Carrier",
          "Bulk Carrier",
          "Fish Carrier",
          "Tanker",
          "Container Ship",
          "Bulk Carrier",
          "Container Ship",
          "Bulk Carrier",
          "Bulk Carrier",
          "Bulk Carrier",
          "Fish Carrier",
          "Tanker",
          "Tanker",
          "Container Ship",
          "Tanker",
          "Container Ship",
          "Bulk Carrier",
          "Fish Carrier",
          "Fish Carrier",
          "Fish Carrier",
          "Bulk Carrier",
          null,
          "Bulk Carrier",
          "Tanker",
          "Tanker",
          "Tanker",
          "Bulk Carrier",
          "Container Ship",
          "Fish Carrier",
          "Bulk Carrier",
          "Bulk Carrier",
          "Container Ship",
          "Tanker",
          "Container Ship",
          "Container Ship",
          "Fish Carrier",
          "Container Ship",
          "Container Ship",
          "Fish Carrier",
          "Bulk Carrier",
          "Fish Carrier",
          "Container Ship",
          "Tanker",
          "Tanker",
          "Container Ship",
          "Fish Carrier",
          "Container Ship",
          "Container Ship",
          "Tanker",
          "Bulk Carrier",
          "Container Ship",
          "Tanker",
          "Bulk Carrier",
          "Bulk Carrier",
          "Tanker",
          "Container Ship",
          "Container Ship",
          "Bulk Carrier",
          "Bulk Carrier",
          "Container Ship",
          "Fish Carrier",
          "Container Ship",
          "Container Ship",
          "Tanker",
          "Bulk Carrier",
          "Tanker",
          "Container Ship",
          "Fish Carrier",
          "Tanker",
          "Tanker",
          null,
          "Bulk Carrier",
          "Container Ship",
          "Tanker",
          "Bulk Carrier",
          "Tanker",
          "Container Ship",
          "Tanker",
          "Fish Carrier",
          "Tanker",
          "Bulk Carrier",
          "Bulk Carrier",
          "Bulk Carrier",
          "Fish Carrier",
          "Fish Carrier",
          "Bulk Carrier",
          "Bulk Carrier",
          "Bulk Carrier",
          null,
          "Tanker",
          "Tanker",
          "Fish Carrier",
          "Fish Carrier",
          "Bulk Carrier",
          "Container Ship",
          "Bulk Carrier",
          "Fish Carrier",
          "Bulk Carrier",
          "Container Ship",
          "Fish Carrier",
          "Tanker",
          "Bulk Carrier",
          "Tanker",
          "Bulk Carrier",
          "Fish Carrier",
          "Tanker",
          "Fish Carrier",
          "Tanker",
          "Bulk Carrier",
          "Fish Carrier",
          "Container Ship",
          "Bulk Carrier",
          "Container Ship",
          "Bulk Carrier",
          "Container Ship",
          "Tanker",
          "Fish Carrier",
          "Container Ship",
          "Tanker",
          "Bulk Carrier",
          "Fish Carrier",
          "Fish Carrier",
          "Container Ship",
          "Bulk Carrier",
          "Container Ship",
          "Tanker",
          "Bulk Carrier",
          "Container Ship",
          "Container Ship",
          "Bulk Carrier",
          "Bulk Carrier",
          "Container Ship",
          "Container Ship",
          "Fish Carrier",
          "Tanker",
          "Fish Carrier",
          "Container Ship",
          "Container Ship",
          "Fish Carrier",
          "Bulk Carrier",
          "Container Ship",
          "Tanker",
          "Tanker",
          "Fish Carrier",
          "Container Ship",
          "Container Ship",
          "Fish Carrier",
          "Fish Carrier",
          "Container Ship",
          "Tanker",
          "Fish Carrier",
          "Fish Carrier",
          "Container Ship",
          "Tanker",
          "Bulk Carrier",
          "Fish Carrier",
          "Fish Carrier",
          "Tanker",
          "Container Ship",
          "Bulk Carrier",
          "Bulk Carrier",
          "Tanker",
          "Bulk Carrier",
          "Tanker",
          "Tanker",
          "Container Ship",
          "Tanker",
          "Container Ship",
          "Fish Carrier",
          "Tanker",
          "Bulk Carrier",
          "Container Ship",
          "Bulk Carrier",
          "Container Ship",
          "Tanker",
          "Fish Carrier",
          "Bulk Carrier",
          "Bulk Carrier",
          "Container Ship",
          "Container Ship",
          "Tanker",
          "Bulk Carrier",
          "Container Ship",
          "Fish Carrier",
          "Tanker",
          "Fish Carrier",
          "Tanker",
          "Fish Carrier",
          null,
          "Bulk Carrier",
          "Container Ship",
          "Bulk Carrier",
          "Container Ship",
          "Tanker",
          "Container Ship",
          "Fish Carrier",
          "Fish Carrier",
          "Container Ship",
          "Bulk Carrier",
          "Tanker",
          "Tanker",
          "Container Ship",
          "Container Ship",
          "Tanker",
          "Bulk Carrier",
          "Container Ship",
          "Container Ship",
          "Container Ship",
          "Container Ship",
          "Container Ship",
          "Container Ship",
          "Bulk Carrier",
          "Container Ship",
          "Tanker",
          "Bulk Carrier",
          "Bulk Carrier",
          "Fish Carrier",
          "Container Ship",
          "Container Ship",
          "Tanker",
          null,
          "Fish Carrier",
          "Bulk Carrier",
          "Fish Carrier",
          "Bulk Carrier",
          "Tanker",
          "Bulk Carrier",
          "Fish Carrier",
          "Fish Carrier",
          "Bulk Carrier",
          "Tanker",
          "Tanker",
          "Fish Carrier",
          "Bulk Carrier",
          "Bulk Carrier",
          "Container Ship",
          "Container Ship",
          "Bulk Carrier",
          "Tanker",
          "Tanker",
          "Tanker",
          "Bulk Carrier",
          "Fish Carrier",
          "Fish Carrier",
          "Tanker",
          "Tanker",
          "Tanker",
          "Tanker",
          "Bulk Carrier",
          "Bulk Carrier",
          "Fish Carrier",
          "Tanker",
          "Fish Carrier",
          "Fish Carrier",
          null,
          "Container Ship",
          "Tanker",
          "Bulk Carrier",
          "Tanker",
          "Tanker",
          "Container Ship",
          "Container Ship",
          "Tanker",
          "Fish Carrier",
          "Fish Carrier",
          "Container Ship",
          "Bulk Carrier",
          "Tanker",
          "Fish Carrier",
          "Bulk Carrier",
          "Tanker",
          "Fish Carrier",
          "Tanker",
          "Tanker",
          "Tanker",
          "Tanker",
          "Fish Carrier",
          "Container Ship",
          "Bulk Carrier",
          "Tanker",
          "Tanker",
          "Container Ship",
          "Container Ship",
          "Fish Carrier",
          "Tanker",
          "Bulk Carrier",
          "Bulk Carrier",
          "Container Ship",
          "Bulk Carrier",
          "Bulk Carrier",
          "Bulk Carrier",
          "Bulk Carrier",
          "Bulk Carrier",
          "Tanker",
          "Tanker",
          "Container Ship",
          "Fish Carrier",
          "Bulk Carrier",
          null,
          "Bulk Carrier",
          "Container Ship",
          "Tanker",
          null,
          "Container Ship",
          "Tanker",
          "Tanker",
          "Bulk Carrier",
          "Tanker",
          "Fish Carrier",
          "Fish Carrier",
          "Container Ship",
          "Container Ship",
          "Fish Carrier",
          "Bulk Carrier",
          "Bulk Carrier",
          "Container Ship",
          "Bulk Carrier",
          "Container Ship",
          "Container Ship",
          "Fish Carrier",
          "Tanker",
          "Tanker",
          "Bulk Carrier",
          "Bulk Carrier",
          "Fish Carrier",
          "Container Ship",
          "Container Ship",
          "Fish Carrier",
          "Fish Carrier",
          "Tanker",
          "Bulk Carrier",
          "Container Ship",
          "Container Ship",
          "Fish Carrier",
          "Fish Carrier",
          "Fish Carrier",
          "Fish Carrier",
          "Container Ship",
          null,
          "Fish Carrier",
          "Tanker",
          "Fish Carrier",
          "Container Ship",
          null,
          "Tanker",
          "Bulk Carrier",
          "Bulk Carrier",
          "Bulk Carrier",
          "Tanker",
          "Bulk Carrier",
          "Tanker",
          "Fish Carrier",
          null,
          "Fish Carrier",
          "Container Ship",
          "Container Ship",
          "Tanker",
          "Fish Carrier",
          "Container Ship",
          "Bulk Carrier",
          "Bulk Carrier",
          "Tanker",
          "Tanker",
          "Tanker",
          "Fish Carrier",
          "Fish Carrier",
          "Fish Carrier",
          "Bulk Carrier",
          "Fish Carrier",
          "Tanker",
          "Container Ship",
          "Container Ship",
          "Container Ship",
          "Container Ship",
          "Container Ship",
          "Bulk Carrier",
          "Tanker",
          "Container Ship",
          "Container Ship",
          "Tanker",
          "Fish Carrier",
          "Fish Carrier",
          "Bulk Carrier",
          null,
          "Tanker",
          "Fish Carrier",
          "Tanker",
          "Fish Carrier",
          "Bulk Carrier",
          "Bulk Carrier",
          "Tanker",
          "Bulk Carrier",
          "Fish Carrier",
          "Container Ship",
          "Bulk Carrier",
          "Fish Carrier",
          "Fish Carrier",
          "Fish Carrier",
          "Tanker",
          "Fish Carrier",
          "Fish Carrier",
          null,
          null,
          "Fish Carrier",
          "Container Ship",
          null,
          null,
          "Bulk Carrier",
          "Bulk Carrier",
          "Fish Carrier",
          "Container Ship",
          "Tanker",
          null,
          "Tanker",
          "Bulk Carrier",
          "Tanker",
          "Bulk Carrier",
          "Container Ship",
          "Tanker",
          "Tanker",
          "Fish Carrier",
          "Fish Carrier",
          "Fish Carrier",
          "Tanker",
          "Tanker",
          "Fish Carrier",
          "Fish Carrier",
          "Bulk Carrier",
          "Tanker",
          "Fish Carrier",
          "Bulk Carrier",
          "Tanker",
          "Tanker",
          "Fish Carrier",
          "Bulk Carrier",
          "Container Ship",
          "Fish Carrier",
          "Tanker",
          "Tanker",
          "Fish Carrier",
          "Fish Carrier",
          "Tanker",
          "Fish Carrier",
          null,
          "Fish Carrier",
          "Fish Carrier",
          "Container Ship",
          "Container Ship",
          "Container Ship",
          null,
          null,
          "Tanker",
          "Container Ship",
          "Fish Carrier",
          "Tanker",
          "Container Ship",
          "Bulk Carrier",
          "Tanker",
          "Container Ship",
          "Tanker",
          "Fish Carrier",
          "Tanker",
          "Tanker",
          "Bulk Carrier",
          "Tanker",
          "Fish Carrier",
          "Tanker",
          "Container Ship",
          "Bulk Carrier",
          "Fish Carrier",
          "Tanker",
          "Tanker",
          "Bulk Carrier",
          "Tanker",
          "Bulk Carrier",
          "Fish Carrier",
          "Fish Carrier",
          "Bulk Carrier",
          "Fish Carrier",
          "Container Ship",
          "Container Ship",
          "Bulk Carrier",
          "Container Ship",
          "Container Ship",
          "Fish Carrier",
          "Fish Carrier",
          "Tanker",
          "Tanker",
          "Bulk Carrier",
          null,
          "Bulk Carrier",
          "Fish Carrier",
          "Tanker",
          "Container Ship",
          "Fish Carrier",
          "Fish Carrier",
          "Container Ship",
          "Fish Carrier",
          null,
          null,
          "Bulk Carrier",
          "Fish Carrier",
          "Container Ship",
          "Container Ship",
          "Fish Carrier",
          "Bulk Carrier",
          "Tanker",
          "Bulk Carrier",
          "Bulk Carrier",
          "Tanker",
          "Fish Carrier",
          "Container Ship",
          "Container Ship",
          "Bulk Carrier",
          "Bulk Carrier",
          "Bulk Carrier",
          "Bulk Carrier",
          "Bulk Carrier",
          "Tanker",
          "Tanker",
          "Bulk Carrier",
          "Container Ship",
          "Fish Carrier",
          "Fish Carrier",
          "Bulk Carrier",
          "Fish Carrier",
          "Fish Carrier",
          "Fish Carrier",
          null,
          "Fish Carrier",
          "Fish Carrier",
          "Container Ship",
          "Bulk Carrier",
          "Bulk Carrier",
          "Tanker",
          "Container Ship",
          "Container Ship",
          "Fish Carrier",
          "Tanker",
          "Bulk Carrier",
          "Bulk Carrier",
          "Fish Carrier",
          "Bulk Carrier",
          "Container Ship",
          "Fish Carrier",
          "Bulk Carrier",
          "Tanker",
          "Tanker",
          "Tanker",
          "Container Ship",
          "Tanker",
          "Bulk Carrier",
          "Fish Carrier",
          "Tanker",
          "Bulk Carrier",
          "Bulk Carrier",
          "Bulk Carrier",
          "Tanker",
          "Bulk Carrier",
          "Bulk Carrier",
          "Bulk Carrier",
          "Container Ship",
          "Tanker",
          "Container Ship",
          null,
          "Bulk Carrier",
          "Bulk Carrier",
          "Fish Carrier",
          "Bulk Carrier",
          "Bulk Carrier",
          "Container Ship",
          "Bulk Carrier",
          "Container Ship",
          null,
          "Container Ship",
          "Bulk Carrier",
          "Tanker",
          "Tanker",
          "Tanker",
          "Container Ship",
          "Fish Carrier",
          "Fish Carrier",
          "Tanker",
          "Bulk Carrier",
          "Tanker",
          "Tanker",
          "Bulk Carrier",
          "Fish Carrier",
          "Bulk Carrier",
          "Fish Carrier",
          "Tanker",
          "Fish Carrier",
          "Fish Carrier",
          "Fish Carrier",
          "Tanker",
          "Container Ship",
          "Container Ship",
          "Tanker",
          "Fish Carrier",
          "Tanker",
          "Tanker",
          "Container Ship",
          "Fish Carrier",
          "Tanker",
          "Container Ship",
          "Bulk Carrier",
          null,
          "Bulk Carrier",
          "Container Ship",
          "Fish Carrier",
          "Tanker",
          "Container Ship",
          "Bulk Carrier",
          "Bulk Carrier",
          "Tanker",
          "Tanker",
          "Container Ship",
          null,
          "Fish Carrier",
          null,
          "Container Ship",
          "Tanker",
          null,
          "Bulk Carrier",
          "Fish Carrier",
          "Fish Carrier",
          "Fish Carrier",
          "Container Ship",
          "Fish Carrier",
          "Bulk Carrier",
          "Tanker",
          "Container Ship",
          "Tanker",
          "Bulk Carrier",
          "Fish Carrier",
          "Bulk Carrier",
          "Container Ship",
          "Container Ship",
          "Fish Carrier",
          "Bulk Carrier",
          "Fish Carrier",
          "Fish Carrier",
          "Container Ship",
          "Container Ship",
          "Tanker",
          "Bulk Carrier",
          "Tanker",
          "Bulk Carrier",
          "Container Ship",
          "Tanker",
          "Fish Carrier",
          "Tanker",
          "Bulk Carrier",
          "Container Ship",
          "Fish Carrier",
          "Bulk Carrier",
          "Bulk Carrier",
          "Container Ship",
          "Tanker",
          "Bulk Carrier",
          "Container Ship",
          "Container Ship",
          "Fish Carrier",
          "Tanker",
          null,
          "Container Ship",
          "Tanker",
          "Container Ship",
          "Fish Carrier",
          "Tanker",
          "Container Ship",
          "Tanker",
          "Bulk Carrier",
          "Bulk Carrier",
          "Bulk Carrier",
          "Container Ship",
          "Container Ship",
          "Bulk Carrier",
          "Container Ship",
          "Tanker",
          "Fish Carrier",
          "Container Ship",
          null,
          "Fish Carrier",
          "Tanker",
          "Container Ship",
          "Tanker",
          "Container Ship",
          "Container Ship",
          "Fish Carrier",
          "Tanker",
          "Container Ship",
          "Bulk Carrier",
          "Fish Carrier",
          "Fish Carrier",
          "Bulk Carrier",
          "Bulk Carrier",
          "Tanker",
          "Container Ship",
          "Bulk Carrier",
          "Bulk Carrier",
          "Container Ship",
          null,
          "Bulk Carrier",
          "Fish Carrier",
          null,
          "Fish Carrier",
          "Container Ship",
          "Bulk Carrier",
          "Tanker",
          "Fish Carrier",
          "Bulk Carrier",
          "Container Ship",
          "Bulk Carrier",
          "Fish Carrier",
          "Container Ship",
          "Bulk Carrier",
          "Fish Carrier",
          "Bulk Carrier",
          null,
          "Bulk Carrier",
          "Bulk Carrier",
          "Bulk Carrier",
          null,
          "Fish Carrier",
          "Tanker",
          "Fish Carrier",
          "Container Ship",
          "Fish Carrier",
          "Bulk Carrier",
          "Bulk Carrier",
          "Container Ship",
          "Bulk Carrier",
          "Tanker",
          "Tanker",
          "Bulk Carrier",
          "Bulk Carrier",
          "Fish Carrier",
          "Fish Carrier",
          "Fish Carrier",
          "Bulk Carrier",
          "Bulk Carrier",
          "Fish Carrier",
          "Fish Carrier",
          "Fish Carrier",
          "Fish Carrier",
          "Container Ship",
          "Tanker",
          "Fish Carrier",
          "Fish Carrier",
          "Container Ship",
          "Bulk Carrier",
          null,
          "Bulk Carrier",
          "Fish Carrier",
          "Bulk Carrier",
          "Fish Carrier",
          "Bulk Carrier",
          "Fish Carrier",
          "Tanker",
          "Container Ship",
          "Bulk Carrier",
          "Fish Carrier",
          "Tanker",
          "Container Ship",
          "Container Ship",
          "Container Ship",
          "Fish Carrier",
          null,
          "Bulk Carrier",
          "Bulk Carrier",
          "Bulk Carrier",
          "Bulk Carrier",
          null,
          "Fish Carrier",
          "Fish Carrier"
         ],
         "yaxis": "y"
        }
       ],
       "layout": {
        "legend": {
         "tracegroupgap": 0
        },
        "template": {
         "data": {
          "bar": [
           {
            "error_x": {
             "color": "#2a3f5f"
            },
            "error_y": {
             "color": "#2a3f5f"
            },
            "marker": {
             "line": {
              "color": "#E5ECF6",
              "width": 0.5
             },
             "pattern": {
              "fillmode": "overlay",
              "size": 10,
              "solidity": 0.2
             }
            },
            "type": "bar"
           }
          ],
          "barpolar": [
           {
            "marker": {
             "line": {
              "color": "#E5ECF6",
              "width": 0.5
             },
             "pattern": {
              "fillmode": "overlay",
              "size": 10,
              "solidity": 0.2
             }
            },
            "type": "barpolar"
           }
          ],
          "carpet": [
           {
            "aaxis": {
             "endlinecolor": "#2a3f5f",
             "gridcolor": "white",
             "linecolor": "white",
             "minorgridcolor": "white",
             "startlinecolor": "#2a3f5f"
            },
            "baxis": {
             "endlinecolor": "#2a3f5f",
             "gridcolor": "white",
             "linecolor": "white",
             "minorgridcolor": "white",
             "startlinecolor": "#2a3f5f"
            },
            "type": "carpet"
           }
          ],
          "choropleth": [
           {
            "colorbar": {
             "outlinewidth": 0,
             "ticks": ""
            },
            "type": "choropleth"
           }
          ],
          "contour": [
           {
            "colorbar": {
             "outlinewidth": 0,
             "ticks": ""
            },
            "colorscale": [
             [
              0,
              "#0d0887"
             ],
             [
              0.1111111111111111,
              "#46039f"
             ],
             [
              0.2222222222222222,
              "#7201a8"
             ],
             [
              0.3333333333333333,
              "#9c179e"
             ],
             [
              0.4444444444444444,
              "#bd3786"
             ],
             [
              0.5555555555555556,
              "#d8576b"
             ],
             [
              0.6666666666666666,
              "#ed7953"
             ],
             [
              0.7777777777777778,
              "#fb9f3a"
             ],
             [
              0.8888888888888888,
              "#fdca26"
             ],
             [
              1,
              "#f0f921"
             ]
            ],
            "type": "contour"
           }
          ],
          "contourcarpet": [
           {
            "colorbar": {
             "outlinewidth": 0,
             "ticks": ""
            },
            "type": "contourcarpet"
           }
          ],
          "heatmap": [
           {
            "colorbar": {
             "outlinewidth": 0,
             "ticks": ""
            },
            "colorscale": [
             [
              0,
              "#0d0887"
             ],
             [
              0.1111111111111111,
              "#46039f"
             ],
             [
              0.2222222222222222,
              "#7201a8"
             ],
             [
              0.3333333333333333,
              "#9c179e"
             ],
             [
              0.4444444444444444,
              "#bd3786"
             ],
             [
              0.5555555555555556,
              "#d8576b"
             ],
             [
              0.6666666666666666,
              "#ed7953"
             ],
             [
              0.7777777777777778,
              "#fb9f3a"
             ],
             [
              0.8888888888888888,
              "#fdca26"
             ],
             [
              1,
              "#f0f921"
             ]
            ],
            "type": "heatmap"
           }
          ],
          "histogram": [
           {
            "marker": {
             "pattern": {
              "fillmode": "overlay",
              "size": 10,
              "solidity": 0.2
             }
            },
            "type": "histogram"
           }
          ],
          "histogram2d": [
           {
            "colorbar": {
             "outlinewidth": 0,
             "ticks": ""
            },
            "colorscale": [
             [
              0,
              "#0d0887"
             ],
             [
              0.1111111111111111,
              "#46039f"
             ],
             [
              0.2222222222222222,
              "#7201a8"
             ],
             [
              0.3333333333333333,
              "#9c179e"
             ],
             [
              0.4444444444444444,
              "#bd3786"
             ],
             [
              0.5555555555555556,
              "#d8576b"
             ],
             [
              0.6666666666666666,
              "#ed7953"
             ],
             [
              0.7777777777777778,
              "#fb9f3a"
             ],
             [
              0.8888888888888888,
              "#fdca26"
             ],
             [
              1,
              "#f0f921"
             ]
            ],
            "type": "histogram2d"
           }
          ],
          "histogram2dcontour": [
           {
            "colorbar": {
             "outlinewidth": 0,
             "ticks": ""
            },
            "colorscale": [
             [
              0,
              "#0d0887"
             ],
             [
              0.1111111111111111,
              "#46039f"
             ],
             [
              0.2222222222222222,
              "#7201a8"
             ],
             [
              0.3333333333333333,
              "#9c179e"
             ],
             [
              0.4444444444444444,
              "#bd3786"
             ],
             [
              0.5555555555555556,
              "#d8576b"
             ],
             [
              0.6666666666666666,
              "#ed7953"
             ],
             [
              0.7777777777777778,
              "#fb9f3a"
             ],
             [
              0.8888888888888888,
              "#fdca26"
             ],
             [
              1,
              "#f0f921"
             ]
            ],
            "type": "histogram2dcontour"
           }
          ],
          "mesh3d": [
           {
            "colorbar": {
             "outlinewidth": 0,
             "ticks": ""
            },
            "type": "mesh3d"
           }
          ],
          "parcoords": [
           {
            "line": {
             "colorbar": {
              "outlinewidth": 0,
              "ticks": ""
             }
            },
            "type": "parcoords"
           }
          ],
          "pie": [
           {
            "automargin": true,
            "type": "pie"
           }
          ],
          "scatter": [
           {
            "fillpattern": {
             "fillmode": "overlay",
             "size": 10,
             "solidity": 0.2
            },
            "type": "scatter"
           }
          ],
          "scatter3d": [
           {
            "line": {
             "colorbar": {
              "outlinewidth": 0,
              "ticks": ""
             }
            },
            "marker": {
             "colorbar": {
              "outlinewidth": 0,
              "ticks": ""
             }
            },
            "type": "scatter3d"
           }
          ],
          "scattercarpet": [
           {
            "marker": {
             "colorbar": {
              "outlinewidth": 0,
              "ticks": ""
             }
            },
            "type": "scattercarpet"
           }
          ],
          "scattergeo": [
           {
            "marker": {
             "colorbar": {
              "outlinewidth": 0,
              "ticks": ""
             }
            },
            "type": "scattergeo"
           }
          ],
          "scattergl": [
           {
            "marker": {
             "colorbar": {
              "outlinewidth": 0,
              "ticks": ""
             }
            },
            "type": "scattergl"
           }
          ],
          "scattermap": [
           {
            "marker": {
             "colorbar": {
              "outlinewidth": 0,
              "ticks": ""
             }
            },
            "type": "scattermap"
           }
          ],
          "scattermapbox": [
           {
            "marker": {
             "colorbar": {
              "outlinewidth": 0,
              "ticks": ""
             }
            },
            "type": "scattermapbox"
           }
          ],
          "scatterpolar": [
           {
            "marker": {
             "colorbar": {
              "outlinewidth": 0,
              "ticks": ""
             }
            },
            "type": "scatterpolar"
           }
          ],
          "scatterpolargl": [
           {
            "marker": {
             "colorbar": {
              "outlinewidth": 0,
              "ticks": ""
             }
            },
            "type": "scatterpolargl"
           }
          ],
          "scatterternary": [
           {
            "marker": {
             "colorbar": {
              "outlinewidth": 0,
              "ticks": ""
             }
            },
            "type": "scatterternary"
           }
          ],
          "surface": [
           {
            "colorbar": {
             "outlinewidth": 0,
             "ticks": ""
            },
            "colorscale": [
             [
              0,
              "#0d0887"
             ],
             [
              0.1111111111111111,
              "#46039f"
             ],
             [
              0.2222222222222222,
              "#7201a8"
             ],
             [
              0.3333333333333333,
              "#9c179e"
             ],
             [
              0.4444444444444444,
              "#bd3786"
             ],
             [
              0.5555555555555556,
              "#d8576b"
             ],
             [
              0.6666666666666666,
              "#ed7953"
             ],
             [
              0.7777777777777778,
              "#fb9f3a"
             ],
             [
              0.8888888888888888,
              "#fdca26"
             ],
             [
              1,
              "#f0f921"
             ]
            ],
            "type": "surface"
           }
          ],
          "table": [
           {
            "cells": {
             "fill": {
              "color": "#EBF0F8"
             },
             "line": {
              "color": "white"
             }
            },
            "header": {
             "fill": {
              "color": "#C8D4E3"
             },
             "line": {
              "color": "white"
             }
            },
            "type": "table"
           }
          ]
         },
         "layout": {
          "annotationdefaults": {
           "arrowcolor": "#2a3f5f",
           "arrowhead": 0,
           "arrowwidth": 1
          },
          "autotypenumbers": "strict",
          "coloraxis": {
           "colorbar": {
            "outlinewidth": 0,
            "ticks": ""
           }
          },
          "colorscale": {
           "diverging": [
            [
             0,
             "#8e0152"
            ],
            [
             0.1,
             "#c51b7d"
            ],
            [
             0.2,
             "#de77ae"
            ],
            [
             0.3,
             "#f1b6da"
            ],
            [
             0.4,
             "#fde0ef"
            ],
            [
             0.5,
             "#f7f7f7"
            ],
            [
             0.6,
             "#e6f5d0"
            ],
            [
             0.7,
             "#b8e186"
            ],
            [
             0.8,
             "#7fbc41"
            ],
            [
             0.9,
             "#4d9221"
            ],
            [
             1,
             "#276419"
            ]
           ],
           "sequential": [
            [
             0,
             "#0d0887"
            ],
            [
             0.1111111111111111,
             "#46039f"
            ],
            [
             0.2222222222222222,
             "#7201a8"
            ],
            [
             0.3333333333333333,
             "#9c179e"
            ],
            [
             0.4444444444444444,
             "#bd3786"
            ],
            [
             0.5555555555555556,
             "#d8576b"
            ],
            [
             0.6666666666666666,
             "#ed7953"
            ],
            [
             0.7777777777777778,
             "#fb9f3a"
            ],
            [
             0.8888888888888888,
             "#fdca26"
            ],
            [
             1,
             "#f0f921"
            ]
           ],
           "sequentialminus": [
            [
             0,
             "#0d0887"
            ],
            [
             0.1111111111111111,
             "#46039f"
            ],
            [
             0.2222222222222222,
             "#7201a8"
            ],
            [
             0.3333333333333333,
             "#9c179e"
            ],
            [
             0.4444444444444444,
             "#bd3786"
            ],
            [
             0.5555555555555556,
             "#d8576b"
            ],
            [
             0.6666666666666666,
             "#ed7953"
            ],
            [
             0.7777777777777778,
             "#fb9f3a"
            ],
            [
             0.8888888888888888,
             "#fdca26"
            ],
            [
             1,
             "#f0f921"
            ]
           ]
          },
          "colorway": [
           "#636efa",
           "#EF553B",
           "#00cc96",
           "#ab63fa",
           "#FFA15A",
           "#19d3f3",
           "#FF6692",
           "#B6E880",
           "#FF97FF",
           "#FECB52"
          ],
          "font": {
           "color": "#2a3f5f"
          },
          "geo": {
           "bgcolor": "white",
           "lakecolor": "white",
           "landcolor": "#E5ECF6",
           "showlakes": true,
           "showland": true,
           "subunitcolor": "white"
          },
          "hoverlabel": {
           "align": "left"
          },
          "hovermode": "closest",
          "mapbox": {
           "style": "light"
          },
          "paper_bgcolor": "white",
          "plot_bgcolor": "#E5ECF6",
          "polar": {
           "angularaxis": {
            "gridcolor": "white",
            "linecolor": "white",
            "ticks": ""
           },
           "bgcolor": "#E5ECF6",
           "radialaxis": {
            "gridcolor": "white",
            "linecolor": "white",
            "ticks": ""
           }
          },
          "scene": {
           "xaxis": {
            "backgroundcolor": "#E5ECF6",
            "gridcolor": "white",
            "gridwidth": 2,
            "linecolor": "white",
            "showbackground": true,
            "ticks": "",
            "zerolinecolor": "white"
           },
           "yaxis": {
            "backgroundcolor": "#E5ECF6",
            "gridcolor": "white",
            "gridwidth": 2,
            "linecolor": "white",
            "showbackground": true,
            "ticks": "",
            "zerolinecolor": "white"
           },
           "zaxis": {
            "backgroundcolor": "#E5ECF6",
            "gridcolor": "white",
            "gridwidth": 2,
            "linecolor": "white",
            "showbackground": true,
            "ticks": "",
            "zerolinecolor": "white"
           }
          },
          "shapedefaults": {
           "line": {
            "color": "#2a3f5f"
           }
          },
          "ternary": {
           "aaxis": {
            "gridcolor": "white",
            "linecolor": "white",
            "ticks": ""
           },
           "baxis": {
            "gridcolor": "white",
            "linecolor": "white",
            "ticks": ""
           },
           "bgcolor": "#E5ECF6",
           "caxis": {
            "gridcolor": "white",
            "linecolor": "white",
            "ticks": ""
           }
          },
          "title": {
           "x": 0.05
          },
          "xaxis": {
           "automargin": true,
           "gridcolor": "white",
           "linecolor": "white",
           "ticks": "",
           "title": {
            "standoff": 15
           },
           "zerolinecolor": "white",
           "zerolinewidth": 2
          },
          "yaxis": {
           "automargin": true,
           "gridcolor": "white",
           "linecolor": "white",
           "ticks": "",
           "title": {
            "standoff": 15
           },
           "zerolinecolor": "white",
           "zerolinewidth": 2
          }
         }
        },
        "title": {
         "text": "Weekly Voyage Count by Ship Type"
        },
        "xaxis": {
         "anchor": "y",
         "domain": [
          0,
          1
         ],
         "tickangle": -45,
         "title": {
          "text": "Weekly Voyage Count"
         }
        },
        "yaxis": {
         "anchor": "x",
         "domain": [
          0,
          1
         ],
         "title": {
          "text": "Ship Type"
         }
        }
       }
      }
     },
     "metadata": {},
     "output_type": "display_data"
    }
   ],
   "source": [
    "# Weekly voyage count by ship type\n",
    "data_sorted = df.sort_values(by='Weekly_Voyage_Count',)\n",
    "\n",
    "fig = px.line(\n",
    "    data_sorted,\n",
    "    x='Weekly_Voyage_Count',\n",
    "    y='Ship_Type',\n",
    "    title='Weekly Voyage Count by Ship Type',\n",
    "    markers=True,       \n",
    "    labels={'Weekly_Voyage_Count': 'Weekly Voyage Count', 'Ship_Type': 'Ship Type'},\n",
    "\n",
    ")\n",
    "fig.update_layout(xaxis_tickangle=-45)\n",
    "fig.show()"
   ]
  }
 ],
 "metadata": {
  "kernelspec": {
   "display_name": "base",
   "language": "python",
   "name": "python3"
  },
  "language_info": {
   "codemirror_mode": {
    "name": "ipython",
    "version": 3
   },
   "file_extension": ".py",
   "mimetype": "text/x-python",
   "name": "python",
   "nbconvert_exporter": "python",
   "pygments_lexer": "ipython3",
   "version": "3.12.9"
  }
 },
 "nbformat": 4,
 "nbformat_minor": 5
}
